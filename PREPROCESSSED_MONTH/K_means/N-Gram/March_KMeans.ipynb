{
 "cells": [
  {
   "cell_type": "code",
   "execution_count": 2,
   "metadata": {},
   "outputs": [],
   "source": [
    "import numpy as np \n",
    "import pandas as pd\n",
    "\n",
    "from sklearn.cluster import KMeans \n",
    "from sklearn.feature_extraction.text import TfidfVectorizer\n",
    "from sklearn.decomposition import PCA\n",
    "from sklearn.preprocessing import normalize\n",
    "from scipy.spatial.distance import cdist\n",
    "\n",
    "import string\n",
    "\n",
    "from nltk.corpus import stopwords\n",
    "\n",
    "from nltk.stem.wordnet import WordNetLemmatizer\n",
    "from nltk.stem import PorterStemmer\n",
    "from nltk.tokenize import word_tokenize\n",
    "import neattext.functions as nfx\n",
    "\n",
    "from textblob import TextBlob as tb\n",
    "from textblob import Word\n",
    "\n",
    "import matplotlib.pyplot as plt\n",
    "import seaborn as sns\n",
    "plt.style.use('ggplot')\n",
    "%matplotlib inline\n",
    "plt.style.use('fivethirtyeight')\n",
    "\n",
    "import warnings\n",
    "warnings.simplefilter('ignore')"
   ]
  },
  {
   "cell_type": "code",
   "execution_count": 3,
   "metadata": {},
   "outputs": [],
   "source": [
    "\n",
    "march=pd.read_csv('01_PREPROCESSED_MARCH.csv')"
   ]
  },
  {
   "cell_type": "code",
   "execution_count": 4,
   "metadata": {},
   "outputs": [],
   "source": [
    "custom_words = ['from', 'subject', 're', 'edu', 'use', 'not', 'would', 'say', 'could', '_', 'be', 'know', 'good', 'go', 'get', 'do', 'done', 'try', 'many', 'some', 'nice', 'thank', 'think', 'see', 'rather',\n",
    "                'easy', 'easily', 'lot', 'lack', 'make', 'want', 'seem', 'run', 'need', 'even', 'right', 'line', 'even', 'also', 'may', 'take', 'come', '%', '.', 'the', 'etc', 'pls', 'btw', 'let', 'hgd', 'get', 'amp', 'gt','lt','dos','say']"
   ]
  },
  {
   "cell_type": "code",
   "execution_count": 5,
   "metadata": {},
   "outputs": [],
   "source": [
    "for i in range(0,2452):\n",
    "    march['clean_tweet'][i]= ''.join([i for i in march['clean_tweet'][i] if not i.isdigit()])\n",
    "    march['clean_tweet'][i]=march['clean_tweet'][i].lower()\n",
    "    march['clean_tweet'][i]=nfx.remove_custom_words(march['clean_tweet'][i],custom_words)"
   ]
  },
  {
   "cell_type": "code",
   "execution_count": 6,
   "metadata": {},
   "outputs": [],
   "source": [
    "march['tokenized_Tweet']=np.nan"
   ]
  },
  {
   "cell_type": "code",
   "execution_count": 7,
   "metadata": {},
   "outputs": [],
   "source": [
    "def tokenizing_march(text,i=0):\n",
    "    text=tb(text)\n",
    "    token_text=text.words\n",
    "    token_text\n",
    "    march['tokenized_Tweet'][i]=token_text"
   ]
  },
  {
   "cell_type": "code",
   "execution_count": 8,
   "metadata": {},
   "outputs": [],
   "source": [
    "for i in range(0,2452):\n",
    "    text=march['clean_tweet'][i]\n",
    "    tokenizing_march(text,i)"
   ]
  },
  {
   "cell_type": "code",
   "execution_count": 9,
   "metadata": {},
   "outputs": [],
   "source": [
    "march['filteredToken']=np.nan"
   ]
  },
  {
   "cell_type": "code",
   "execution_count": 10,
   "metadata": {},
   "outputs": [],
   "source": [
    "stop_words = stopwords.words('english')\n",
    "stop_words.extend(['from', 'subject', 're', 'edu', 'use', 'not', 'would', 'say', 'could', '_', 'be', 'know', 'good', 'go', 'get', 'do', 'done', 'try', 'many', 'some', 'nice', 'thank', 'think', 'see', 'rather', 'easy', 'easily', 'lot', 'lack', 'make', 'want', 'seem', 'run', 'need', 'even', 'right', 'line', 'even', 'also', 'may', 'take', 'come','%','.','the','etc','pls','btw','let','hgd','dos','say'])"
   ]
  },
  {
   "cell_type": "code",
   "execution_count": 11,
   "metadata": {},
   "outputs": [],
   "source": [
    "stop = set(stop_words)\n",
    "exclude = set(string.punctuation)\n",
    "lemma = WordNetLemmatizer()"
   ]
  },
  {
   "cell_type": "code",
   "execution_count": 12,
   "metadata": {},
   "outputs": [],
   "source": [
    "def clean(text):\n",
    "    stop_free = ' '.join([word for word in text.lower().split() if word not in stop])\n",
    "    punc_free = ''.join(ch for ch in stop_free if ch not in exclude)\n",
    "    normalized = ' '.join([lemma.lemmatize(word) for word in punc_free.split()])\n",
    "    return normalized.split()"
   ]
  },
  {
   "cell_type": "code",
   "execution_count": 13,
   "metadata": {},
   "outputs": [],
   "source": [
    "march['filteredToken']=march['clean_tweet'].apply(clean)"
   ]
  },
  {
   "cell_type": "code",
   "execution_count": 14,
   "metadata": {},
   "outputs": [],
   "source": [
    "tweets_march=march['clean_tweet']"
   ]
  },
  {
   "cell_type": "code",
   "execution_count": 15,
   "metadata": {},
   "outputs": [],
   "source": [
    "tweet_list_march = tweets_march.apply(nfx.remove_stopwords)\n",
    "tweet_list_march = tweet_list_march .apply(nfx.remove_special_characters)\n",
    "tweet_list_march = tweet_list_march.apply(nfx.remove_punctuations)"
   ]
  },
  {
   "cell_type": "code",
   "execution_count": 16,
   "metadata": {},
   "outputs": [],
   "source": [
    "def remove_single_char(list):\n",
    "    for token in list:\n",
    "        if( len(token)==1):\n",
    "            list.remove(token)\n",
    "def remove_dual_char(list):\n",
    "    for token in list:\n",
    "        if( len(token)==2):\n",
    "            list.remove(token)\n",
    "def remove_custom_words(list,c_list):\n",
    "        for token in list:\n",
    "            for c_word in c_list:\n",
    "                if( c_word==token):\n",
    "                    list.remove(token)\n",
    "                else:\n",
    "                    pass"
   ]
  },
  {
   "cell_type": "code",
   "execution_count": 17,
   "metadata": {},
   "outputs": [],
   "source": [
    "def remove_words(list1, remove_words):\n",
    "    for word in list(list1):\n",
    "        if word in remove_words:\n",
    "            list1.remove(word)\n",
    "    return list1   "
   ]
  },
  {
   "cell_type": "code",
   "execution_count": 18,
   "metadata": {},
   "outputs": [],
   "source": [
    "custom_words = ['from', 'subject', 're', 'edu', 'use', 'not', 'would', 'say', 'could', '_', 'be', 'know', 'good', 'go', 'get', 'do', 'done', 'try', 'many', 'some', 'nice', 'thank', 'think', 'see', 'rather',\n",
    "                'easy', 'easily', 'lot', 'lack', 'make', 'want', 'seem', 'run', 'need', 'even', 'right', 'line', 'even', 'also', 'may', 'take', 'come', '%', '.', 'the', 'etc', 'pls', 'btw', 'let', 'hgd', 'get', 'amp', 'gt','lt','hrs','dos','say']"
   ]
  },
  {
   "cell_type": "code",
   "execution_count": 19,
   "metadata": {},
   "outputs": [],
   "source": [
    "def Convert_list(string):\n",
    "    li = list(string.split(\" \"))\n",
    "    return li"
   ]
  },
  {
   "cell_type": "code",
   "execution_count": 20,
   "metadata": {},
   "outputs": [],
   "source": [
    "def listToString(s): \n",
    "    str1 = \" \" \n",
    "    return (str1.join(s))"
   ]
  },
  {
   "cell_type": "code",
   "execution_count": 21,
   "metadata": {},
   "outputs": [],
   "source": [
    "for i in range(0,2452):\n",
    "    ls=Convert_list(tweet_list_march[i])\n",
    "    remove_single_char(ls)\n",
    "    remove_dual_char(ls)\n",
    "    ls=remove_words(ls,custom_words)\n",
    "    tweet_list_march[i]=listToString(ls)"
   ]
  },
  {
   "cell_type": "code",
   "execution_count": 22,
   "metadata": {},
   "outputs": [],
   "source": [
    "def my_lemma_march(token,i=0):\n",
    "    word=tb(token)\n",
    "    tags=word.tags\n",
    "    sample=Word(tags[0][0])\n",
    "    if tags[0][1][0] =='V':\n",
    "        x=sample.lemmatize('v')\n",
    "        ls[i]=x\n",
    "    else:\n",
    "        x=sample.lemmatize()\n",
    "        ls[i]=x"
   ]
  },
  {
   "cell_type": "code",
   "execution_count": 23,
   "metadata": {},
   "outputs": [],
   "source": [
    "for i in range(0,2452):\n",
    "    ls=Convert_list(tweet_list_march[i])\n",
    "    for j in range(0,len(ls)):\n",
    "        text=ls[j]\n",
    "        if(text==\"\"):\n",
    "                continue\n",
    "        word=tb(text)\n",
    "        tags=word.tags\n",
    "        sample=Word(tags[0][0])\n",
    "        if tags[0][1][0] =='V':\n",
    "                x=sample.lemmatize('v')\n",
    "                ls[j]=x\n",
    "        else:\n",
    "                x=sample.lemmatize()\n",
    "                ls[j]=x"
   ]
  },
  {
   "cell_type": "code",
   "execution_count": 24,
   "metadata": {},
   "outputs": [],
   "source": [
    "for i in range(0,2452):\n",
    "    ls=Convert_list(tweet_list_march[i])\n",
    "    for j in range(0,len(ls)):\n",
    "        text=ls[j]\n",
    "        if(text==\"\"):\n",
    "            continue\n",
    "        my_lemma_march(text,j)\n",
    "    tweet_list_march[i]=listToString(ls)"
   ]
  },
  {
   "cell_type": "code",
   "execution_count": 25,
   "metadata": {},
   "outputs": [],
   "source": [
    "for i in range(0,2452):\n",
    "    ls=Convert_list(tweet_list_march[i])\n",
    "    ls=remove_words(ls,custom_words)\n",
    "    tweet_list_march[i]=listToString(ls)"
   ]
  },
  {
   "cell_type": "code",
   "execution_count": 26,
   "metadata": {},
   "outputs": [],
   "source": [
    "march['clean_tweet']=tweet_list_march"
   ]
  },
  {
   "cell_type": "code",
   "execution_count": 27,
   "metadata": {},
   "outputs": [],
   "source": [
    "march=march.drop(2451)"
   ]
  },
  {
   "cell_type": "code",
   "execution_count": 28,
   "metadata": {},
   "outputs": [],
   "source": [
    "tweet_list_march=march['clean_tweet']\n",
    "ps=PorterStemmer()\n",
    "for i in range(0,march.shape[0]):\n",
    "    ls=march['clean_tweet'][i]\n",
    "    words = word_tokenize(ls)\n",
    "    st=\"\"\n",
    "    for w in words:\n",
    "        w=ps.stem(w)\n",
    "        st+=w+' '\n",
    "    march['clean_tweet'][i]=st\n",
    "for i in range(0,march.shape[0]):\n",
    "    ls=Convert_list(tweet_list_march[i])\n",
    "    remove_single_char(ls)\n",
    "    remove_dual_char(ls)\n",
    "    ls=remove_words(ls,custom_words)\n",
    "    tweet_list_march[i]=listToString(ls)\n",
    "march['clean_tweet']=tweet_list_march"
   ]
  },
  {
   "cell_type": "code",
   "execution_count": 47,
   "metadata": {},
   "outputs": [],
   "source": [
    "def generate_ngrams(text, WordsToCombine):\n",
    "     words = text.split()\n",
    "     output = []  \n",
    "     for i in range(len(words)- WordsToCombine+1):\n",
    "         output.append(words[i:i+WordsToCombine])\n",
    "     return output"
   ]
  },
  {
   "cell_type": "code",
   "execution_count": 48,
   "metadata": {},
   "outputs": [
    {
     "data": {
      "text/plain": [
       "'germani covid respons envi world daili remind world mean white peopl '"
      ]
     },
     "execution_count": 48,
     "metadata": {},
     "output_type": "execute_result"
    }
   ],
   "source": [
    "march['clean_tweet'][0]"
   ]
  },
  {
   "cell_type": "code",
   "execution_count": 49,
   "metadata": {},
   "outputs": [
    {
     "data": {
      "text/plain": [
       "[['germani', 'covid'],\n",
       " ['covid', 'respons'],\n",
       " ['respons', 'envi'],\n",
       " ['envi', 'world'],\n",
       " ['world', 'daili'],\n",
       " ['daili', 'remind'],\n",
       " ['remind', 'world'],\n",
       " ['world', 'mean'],\n",
       " ['mean', 'white'],\n",
       " ['white', 'peopl']]"
      ]
     },
     "execution_count": 49,
     "metadata": {},
     "output_type": "execute_result"
    }
   ],
   "source": [
    "generate_ngrams(march['clean_tweet'][0],2)"
   ]
  },
  {
   "cell_type": "code",
   "execution_count": 50,
   "metadata": {},
   "outputs": [
    {
     "data": {
      "text/plain": [
       "0       germani covid respons envi world daili remind ...\n",
       "1       pfizer moderna claim vaccin safe effect estim ...\n",
       "2       recent publish predictor hospit older adult co...\n",
       "3            dey covid test privat clinic govt free stop \n",
       "4       time tell far base data million peopl vaccin w...\n",
       "                              ...                        \n",
       "2446                                               repli \n",
       "2447    guy control covid state coronarastra maharastr...\n",
       "2448    barasat hospit covid vaccin give peopl sit vac...\n",
       "2449                                               repli \n",
       "2450    dear sir request allow vaccin covid patient mo...\n",
       "Name: clean_tweet, Length: 2451, dtype: object"
      ]
     },
     "execution_count": 50,
     "metadata": {},
     "output_type": "execute_result"
    }
   ],
   "source": [
    "march['clean_tweet']"
   ]
  },
  {
   "cell_type": "markdown",
   "metadata": {},
   "source": [
    "# ---K-Means---"
   ]
  },
  {
   "cell_type": "code",
   "execution_count": 29,
   "metadata": {},
   "outputs": [],
   "source": [
    "data =march['clean_tweet']\n",
    "\n",
    "tf_idf_vectorizor = TfidfVectorizer(stop_words = 'english',#tokenizer = tokenize_and_stem,\n",
    "                             max_features = 20000)\n",
    "tf_idf = tf_idf_vectorizor.fit_transform(data)\n",
    "tf_idf_norm = normalize(tf_idf)\n",
    "tf_idf_array = tf_idf_norm.toarray()"
   ]
  },
  {
   "cell_type": "code",
   "execution_count": 30,
   "metadata": {},
   "outputs": [
    {
     "data": {
      "text/html": [
       "<div>\n",
       "<style scoped>\n",
       "    .dataframe tbody tr th:only-of-type {\n",
       "        vertical-align: middle;\n",
       "    }\n",
       "\n",
       "    .dataframe tbody tr th {\n",
       "        vertical-align: top;\n",
       "    }\n",
       "\n",
       "    .dataframe thead th {\n",
       "        text-align: right;\n",
       "    }\n",
       "</style>\n",
       "<table border=\"1\" class=\"dataframe\">\n",
       "  <thead>\n",
       "    <tr style=\"text-align: right;\">\n",
       "      <th></th>\n",
       "      <th>aaah</th>\n",
       "      <th>aachal</th>\n",
       "      <th>aah</th>\n",
       "      <th>aaj</th>\n",
       "      <th>aam</th>\n",
       "      <th>aameeen</th>\n",
       "      <th>aameen</th>\n",
       "      <th>aap</th>\n",
       "      <th>aapko</th>\n",
       "      <th>aarha</th>\n",
       "      <th>...</th>\n",
       "      <th>zero</th>\n",
       "      <th>zggg</th>\n",
       "      <th>zia</th>\n",
       "      <th>zilha</th>\n",
       "      <th>zimbabw</th>\n",
       "      <th>zlem</th>\n",
       "      <th>zonal</th>\n",
       "      <th>zone</th>\n",
       "      <th>zoo</th>\n",
       "      <th>zydu</th>\n",
       "    </tr>\n",
       "  </thead>\n",
       "  <tbody>\n",
       "    <tr>\n",
       "      <th>0</th>\n",
       "      <td>0.0</td>\n",
       "      <td>0.0</td>\n",
       "      <td>0.0</td>\n",
       "      <td>0.0</td>\n",
       "      <td>0.0</td>\n",
       "      <td>0.0</td>\n",
       "      <td>0.0</td>\n",
       "      <td>0.0</td>\n",
       "      <td>0.0</td>\n",
       "      <td>0.0</td>\n",
       "      <td>...</td>\n",
       "      <td>0.0</td>\n",
       "      <td>0.0</td>\n",
       "      <td>0.0</td>\n",
       "      <td>0.0</td>\n",
       "      <td>0.0</td>\n",
       "      <td>0.0</td>\n",
       "      <td>0.0</td>\n",
       "      <td>0.0</td>\n",
       "      <td>0.0</td>\n",
       "      <td>0.0</td>\n",
       "    </tr>\n",
       "    <tr>\n",
       "      <th>1</th>\n",
       "      <td>0.0</td>\n",
       "      <td>0.0</td>\n",
       "      <td>0.0</td>\n",
       "      <td>0.0</td>\n",
       "      <td>0.0</td>\n",
       "      <td>0.0</td>\n",
       "      <td>0.0</td>\n",
       "      <td>0.0</td>\n",
       "      <td>0.0</td>\n",
       "      <td>0.0</td>\n",
       "      <td>...</td>\n",
       "      <td>0.0</td>\n",
       "      <td>0.0</td>\n",
       "      <td>0.0</td>\n",
       "      <td>0.0</td>\n",
       "      <td>0.0</td>\n",
       "      <td>0.0</td>\n",
       "      <td>0.0</td>\n",
       "      <td>0.0</td>\n",
       "      <td>0.0</td>\n",
       "      <td>0.0</td>\n",
       "    </tr>\n",
       "    <tr>\n",
       "      <th>2</th>\n",
       "      <td>0.0</td>\n",
       "      <td>0.0</td>\n",
       "      <td>0.0</td>\n",
       "      <td>0.0</td>\n",
       "      <td>0.0</td>\n",
       "      <td>0.0</td>\n",
       "      <td>0.0</td>\n",
       "      <td>0.0</td>\n",
       "      <td>0.0</td>\n",
       "      <td>0.0</td>\n",
       "      <td>...</td>\n",
       "      <td>0.0</td>\n",
       "      <td>0.0</td>\n",
       "      <td>0.0</td>\n",
       "      <td>0.0</td>\n",
       "      <td>0.0</td>\n",
       "      <td>0.0</td>\n",
       "      <td>0.0</td>\n",
       "      <td>0.0</td>\n",
       "      <td>0.0</td>\n",
       "      <td>0.0</td>\n",
       "    </tr>\n",
       "    <tr>\n",
       "      <th>3</th>\n",
       "      <td>0.0</td>\n",
       "      <td>0.0</td>\n",
       "      <td>0.0</td>\n",
       "      <td>0.0</td>\n",
       "      <td>0.0</td>\n",
       "      <td>0.0</td>\n",
       "      <td>0.0</td>\n",
       "      <td>0.0</td>\n",
       "      <td>0.0</td>\n",
       "      <td>0.0</td>\n",
       "      <td>...</td>\n",
       "      <td>0.0</td>\n",
       "      <td>0.0</td>\n",
       "      <td>0.0</td>\n",
       "      <td>0.0</td>\n",
       "      <td>0.0</td>\n",
       "      <td>0.0</td>\n",
       "      <td>0.0</td>\n",
       "      <td>0.0</td>\n",
       "      <td>0.0</td>\n",
       "      <td>0.0</td>\n",
       "    </tr>\n",
       "    <tr>\n",
       "      <th>4</th>\n",
       "      <td>0.0</td>\n",
       "      <td>0.0</td>\n",
       "      <td>0.0</td>\n",
       "      <td>0.0</td>\n",
       "      <td>0.0</td>\n",
       "      <td>0.0</td>\n",
       "      <td>0.0</td>\n",
       "      <td>0.0</td>\n",
       "      <td>0.0</td>\n",
       "      <td>0.0</td>\n",
       "      <td>...</td>\n",
       "      <td>0.0</td>\n",
       "      <td>0.0</td>\n",
       "      <td>0.0</td>\n",
       "      <td>0.0</td>\n",
       "      <td>0.0</td>\n",
       "      <td>0.0</td>\n",
       "      <td>0.0</td>\n",
       "      <td>0.0</td>\n",
       "      <td>0.0</td>\n",
       "      <td>0.0</td>\n",
       "    </tr>\n",
       "    <tr>\n",
       "      <th>...</th>\n",
       "      <td>...</td>\n",
       "      <td>...</td>\n",
       "      <td>...</td>\n",
       "      <td>...</td>\n",
       "      <td>...</td>\n",
       "      <td>...</td>\n",
       "      <td>...</td>\n",
       "      <td>...</td>\n",
       "      <td>...</td>\n",
       "      <td>...</td>\n",
       "      <td>...</td>\n",
       "      <td>...</td>\n",
       "      <td>...</td>\n",
       "      <td>...</td>\n",
       "      <td>...</td>\n",
       "      <td>...</td>\n",
       "      <td>...</td>\n",
       "      <td>...</td>\n",
       "      <td>...</td>\n",
       "      <td>...</td>\n",
       "      <td>...</td>\n",
       "    </tr>\n",
       "    <tr>\n",
       "      <th>2446</th>\n",
       "      <td>0.0</td>\n",
       "      <td>0.0</td>\n",
       "      <td>0.0</td>\n",
       "      <td>0.0</td>\n",
       "      <td>0.0</td>\n",
       "      <td>0.0</td>\n",
       "      <td>0.0</td>\n",
       "      <td>0.0</td>\n",
       "      <td>0.0</td>\n",
       "      <td>0.0</td>\n",
       "      <td>...</td>\n",
       "      <td>0.0</td>\n",
       "      <td>0.0</td>\n",
       "      <td>0.0</td>\n",
       "      <td>0.0</td>\n",
       "      <td>0.0</td>\n",
       "      <td>0.0</td>\n",
       "      <td>0.0</td>\n",
       "      <td>0.0</td>\n",
       "      <td>0.0</td>\n",
       "      <td>0.0</td>\n",
       "    </tr>\n",
       "    <tr>\n",
       "      <th>2447</th>\n",
       "      <td>0.0</td>\n",
       "      <td>0.0</td>\n",
       "      <td>0.0</td>\n",
       "      <td>0.0</td>\n",
       "      <td>0.0</td>\n",
       "      <td>0.0</td>\n",
       "      <td>0.0</td>\n",
       "      <td>0.0</td>\n",
       "      <td>0.0</td>\n",
       "      <td>0.0</td>\n",
       "      <td>...</td>\n",
       "      <td>0.0</td>\n",
       "      <td>0.0</td>\n",
       "      <td>0.0</td>\n",
       "      <td>0.0</td>\n",
       "      <td>0.0</td>\n",
       "      <td>0.0</td>\n",
       "      <td>0.0</td>\n",
       "      <td>0.0</td>\n",
       "      <td>0.0</td>\n",
       "      <td>0.0</td>\n",
       "    </tr>\n",
       "    <tr>\n",
       "      <th>2448</th>\n",
       "      <td>0.0</td>\n",
       "      <td>0.0</td>\n",
       "      <td>0.0</td>\n",
       "      <td>0.0</td>\n",
       "      <td>0.0</td>\n",
       "      <td>0.0</td>\n",
       "      <td>0.0</td>\n",
       "      <td>0.0</td>\n",
       "      <td>0.0</td>\n",
       "      <td>0.0</td>\n",
       "      <td>...</td>\n",
       "      <td>0.0</td>\n",
       "      <td>0.0</td>\n",
       "      <td>0.0</td>\n",
       "      <td>0.0</td>\n",
       "      <td>0.0</td>\n",
       "      <td>0.0</td>\n",
       "      <td>0.0</td>\n",
       "      <td>0.0</td>\n",
       "      <td>0.0</td>\n",
       "      <td>0.0</td>\n",
       "    </tr>\n",
       "    <tr>\n",
       "      <th>2449</th>\n",
       "      <td>0.0</td>\n",
       "      <td>0.0</td>\n",
       "      <td>0.0</td>\n",
       "      <td>0.0</td>\n",
       "      <td>0.0</td>\n",
       "      <td>0.0</td>\n",
       "      <td>0.0</td>\n",
       "      <td>0.0</td>\n",
       "      <td>0.0</td>\n",
       "      <td>0.0</td>\n",
       "      <td>...</td>\n",
       "      <td>0.0</td>\n",
       "      <td>0.0</td>\n",
       "      <td>0.0</td>\n",
       "      <td>0.0</td>\n",
       "      <td>0.0</td>\n",
       "      <td>0.0</td>\n",
       "      <td>0.0</td>\n",
       "      <td>0.0</td>\n",
       "      <td>0.0</td>\n",
       "      <td>0.0</td>\n",
       "    </tr>\n",
       "    <tr>\n",
       "      <th>2450</th>\n",
       "      <td>0.0</td>\n",
       "      <td>0.0</td>\n",
       "      <td>0.0</td>\n",
       "      <td>0.0</td>\n",
       "      <td>0.0</td>\n",
       "      <td>0.0</td>\n",
       "      <td>0.0</td>\n",
       "      <td>0.0</td>\n",
       "      <td>0.0</td>\n",
       "      <td>0.0</td>\n",
       "      <td>...</td>\n",
       "      <td>0.0</td>\n",
       "      <td>0.0</td>\n",
       "      <td>0.0</td>\n",
       "      <td>0.0</td>\n",
       "      <td>0.0</td>\n",
       "      <td>0.0</td>\n",
       "      <td>0.0</td>\n",
       "      <td>0.0</td>\n",
       "      <td>0.0</td>\n",
       "      <td>0.0</td>\n",
       "    </tr>\n",
       "  </tbody>\n",
       "</table>\n",
       "<p>2451 rows × 4894 columns</p>\n",
       "</div>"
      ],
      "text/plain": [
       "      aaah  aachal  aah  aaj  aam  aameeen  aameen  aap  aapko  aarha  ...  \\\n",
       "0      0.0     0.0  0.0  0.0  0.0      0.0     0.0  0.0    0.0    0.0  ...   \n",
       "1      0.0     0.0  0.0  0.0  0.0      0.0     0.0  0.0    0.0    0.0  ...   \n",
       "2      0.0     0.0  0.0  0.0  0.0      0.0     0.0  0.0    0.0    0.0  ...   \n",
       "3      0.0     0.0  0.0  0.0  0.0      0.0     0.0  0.0    0.0    0.0  ...   \n",
       "4      0.0     0.0  0.0  0.0  0.0      0.0     0.0  0.0    0.0    0.0  ...   \n",
       "...    ...     ...  ...  ...  ...      ...     ...  ...    ...    ...  ...   \n",
       "2446   0.0     0.0  0.0  0.0  0.0      0.0     0.0  0.0    0.0    0.0  ...   \n",
       "2447   0.0     0.0  0.0  0.0  0.0      0.0     0.0  0.0    0.0    0.0  ...   \n",
       "2448   0.0     0.0  0.0  0.0  0.0      0.0     0.0  0.0    0.0    0.0  ...   \n",
       "2449   0.0     0.0  0.0  0.0  0.0      0.0     0.0  0.0    0.0    0.0  ...   \n",
       "2450   0.0     0.0  0.0  0.0  0.0      0.0     0.0  0.0    0.0    0.0  ...   \n",
       "\n",
       "      zero  zggg  zia  zilha  zimbabw  zlem  zonal  zone  zoo  zydu  \n",
       "0      0.0   0.0  0.0    0.0      0.0   0.0    0.0   0.0  0.0   0.0  \n",
       "1      0.0   0.0  0.0    0.0      0.0   0.0    0.0   0.0  0.0   0.0  \n",
       "2      0.0   0.0  0.0    0.0      0.0   0.0    0.0   0.0  0.0   0.0  \n",
       "3      0.0   0.0  0.0    0.0      0.0   0.0    0.0   0.0  0.0   0.0  \n",
       "4      0.0   0.0  0.0    0.0      0.0   0.0    0.0   0.0  0.0   0.0  \n",
       "...    ...   ...  ...    ...      ...   ...    ...   ...  ...   ...  \n",
       "2446   0.0   0.0  0.0    0.0      0.0   0.0    0.0   0.0  0.0   0.0  \n",
       "2447   0.0   0.0  0.0    0.0      0.0   0.0    0.0   0.0  0.0   0.0  \n",
       "2448   0.0   0.0  0.0    0.0      0.0   0.0    0.0   0.0  0.0   0.0  \n",
       "2449   0.0   0.0  0.0    0.0      0.0   0.0    0.0   0.0  0.0   0.0  \n",
       "2450   0.0   0.0  0.0    0.0      0.0   0.0    0.0   0.0  0.0   0.0  \n",
       "\n",
       "[2451 rows x 4894 columns]"
      ]
     },
     "execution_count": 30,
     "metadata": {},
     "output_type": "execute_result"
    }
   ],
   "source": [
    "pd.DataFrame(tf_idf_array, columns=tf_idf_vectorizor.get_feature_names())"
   ]
  },
  {
   "cell_type": "code",
   "execution_count": 31,
   "metadata": {},
   "outputs": [
    {
     "data": {
      "image/png": "[encoded data removed]",
      "text/plain": [
       "<Figure size 432x288 with 1 Axes>"
      ]
     },
     "metadata": {},
     "output_type": "display_data"
    }
   ],
   "source": [
    "sklearn_pca = PCA(n_components = 2)\n",
    "Y_sklearn = sklearn_pca.fit_transform(tf_idf_array)\n",
    "kmeans_kwargs = {\"init\": \"k-means++\",\"n_init\": 2,\"max_iter\": 1000,\"random_state\": 42,}\n",
    "# A list holds the SSE values for each k\n",
    "sse = []\n",
    "for k in range(1, 11):\n",
    "    kmeans = KMeans(n_clusters=k, **kmeans_kwargs)\n",
    "    kmeans.fit(Y_sklearn)\n",
    "    sse.append(kmeans.inertia_)\n",
    "plt.style.use(\"fivethirtyeight\")\n",
    "plt.plot(range(1, 11), sse)\n",
    "plt.plot(range(1, 11), sse,'r*')\n",
    "plt.xticks(range(1, 11))\n",
    "plt.yticks(range(0,90,10))\n",
    "plt.xlabel(\"Number of Clusters\")\n",
    "plt.ylabel(\"SSE\")\n",
    "plt.show()"
   ]
  },
  {
   "cell_type": "code",
   "execution_count": 32,
   "metadata": {},
   "outputs": [
    {
     "name": "stdout",
     "output_type": "stream",
     "text": [
      "For n_clusters = 2 The average silhouette_score is : 0.7825513013473413\n",
      "For n_clusters = 3 The average silhouette_score is : 0.5905938150475658\n",
      "For n_clusters = 4 The average silhouette_score is : 0.6065021892469854\n",
      "For n_clusters = 5 The average silhouette_score is : 0.5864497524251101\n",
      "For n_clusters = 6 The average silhouette_score is : 0.41057237960213294\n",
      "For n_clusters = 7 The average silhouette_score is : 0.4573971336999123\n",
      "For n_clusters = 8 The average silhouette_score is : 0.44621221222926544\n",
      "For n_clusters = 9 The average silhouette_score is : 0.47223586674158813\n",
      "For n_clusters = 10 The average silhouette_score is : 0.4616983552600016\n"
     ]
    },
    {
     "data": {
      "image/png": "[encoded data removed]",
      "text/plain": [
       "<Figure size 432x288 with 1 Axes>"
      ]
     },
     "metadata": {},
     "output_type": "display_data"
    }
   ],
   "source": [
    "from sklearn.metrics import silhouette_samples, silhouette_score\n",
    "import matplotlib.style as style\n",
    "range_n_clusters = [2, 3, 4, 5, 6,7,8,9,10]\n",
    "silhouette_avg_n_clusters = []\n",
    "\n",
    "for n_clusters in range_n_clusters:\n",
    "    clusterer = KMeans(n_clusters=n_clusters, **kmeans_kwargs)\n",
    "    cluster_labels = clusterer.fit_predict(Y_sklearn)\n",
    "\n",
    "    # The silhouette_score gives the average value for all the samples.\n",
    "    # This gives a perspective into the density and separation of the formed\n",
    "    # clusters\n",
    "    silhouette_avg = silhouette_score(Y_sklearn, cluster_labels)\n",
    "    print(\"For n_clusters =\", n_clusters,\n",
    "          \"The average silhouette_score is :\", silhouette_avg)\n",
    "\n",
    "    silhouette_avg_n_clusters.append(silhouette_avg)\n",
    "    # Compute the silhouette scores for each sample\n",
    "    sample_silhouette_values = silhouette_samples(Y_sklearn, cluster_labels)\n",
    "style.use(\"fivethirtyeight\")\n",
    "plt.plot(range_n_clusters, silhouette_avg_n_clusters)\n",
    "plt.xlabel(\"Number of Clusters (k)\")\n",
    "plt.ylabel(\"silhouette score\")\n",
    "plt.xticks(range(1, 11))\n",
    "plt.show()"
   ]
  },
  {
   "cell_type": "code",
   "execution_count": 33,
   "metadata": {},
   "outputs": [
    {
     "data": {
      "text/plain": [
       "Text(0, 0.5, 'Feature space for the 2nd feature')"
      ]
     },
     "execution_count": 33,
     "metadata": {},
     "output_type": "execute_result"
    },
    {
     "data": {
      "image/png": "[encoded data removed]",
      "text/plain": [
       "<Figure size 432x288 with 1 Axes>"
      ]
     },
     "metadata": {},
     "output_type": "display_data"
    }
   ],
   "source": [
    "sklearn_pca = PCA(n_components = 2)\n",
    "Y_sklearn = sklearn_pca.fit_transform(tf_idf_array)\n",
    "kmeans = KMeans(n_clusters=2, max_iter=600,n_init=1, algorithm = 'auto',random_state=1)\n",
    "fitted = kmeans.fit(Y_sklearn)\n",
    "prediction = kmeans.predict(Y_sklearn)\n",
    "\n",
    "centers = fitted.cluster_centers_\n",
    "plt.scatter(Y_sklearn[:, 0], Y_sklearn[:, 1], c=prediction, s=50, cmap='viridis')\n",
    "plt.scatter(centers[:, 0], centers[:, 1],c='red', s=50, alpha=0.6);\n",
    "plt.xlabel(\"Feature space for the 1st feature\")\n",
    "plt.ylabel(\"Feature space for the 2nd feature\")"
   ]
  },
  {
   "cell_type": "code",
   "execution_count": 34,
   "metadata": {},
   "outputs": [
    {
     "data": {
      "text/html": [
       "<div>\n",
       "<style scoped>\n",
       "    .dataframe tbody tr th:only-of-type {\n",
       "        vertical-align: middle;\n",
       "    }\n",
       "\n",
       "    .dataframe tbody tr th {\n",
       "        vertical-align: top;\n",
       "    }\n",
       "\n",
       "    .dataframe thead th {\n",
       "        text-align: right;\n",
       "    }\n",
       "</style>\n",
       "<table border=\"1\" class=\"dataframe\">\n",
       "  <thead>\n",
       "    <tr style=\"text-align: right;\">\n",
       "      <th></th>\n",
       "      <th>tweet</th>\n",
       "      <th>clean_tweet</th>\n",
       "      <th>hastags</th>\n",
       "      <th>attherate</th>\n",
       "      <th>urls</th>\n",
       "      <th>emojis</th>\n",
       "      <th>tokenized_Tweet</th>\n",
       "      <th>filteredToken</th>\n",
       "      <th>label</th>\n",
       "    </tr>\n",
       "  </thead>\n",
       "  <tbody>\n",
       "    <tr>\n",
       "      <th>0</th>\n",
       "      <td>Germany's Covid response \"was the envy of the ...</td>\n",
       "      <td>germani covid respons envi world daili remind ...</td>\n",
       "      <td>[]</td>\n",
       "      <td>['@GoogleNews']</td>\n",
       "      <td>['https://t.co/dxbkOVjBCZ']</td>\n",
       "      <td>[]</td>\n",
       "      <td>[germanys, covid, response, was, envy, of, wor...</td>\n",
       "      <td>[germany, covid, response, envy, world, daily,...</td>\n",
       "      <td>0</td>\n",
       "    </tr>\n",
       "    <tr>\n",
       "      <th>1</th>\n",
       "      <td>Pfizer &amp;amp; Moderna claim their vaccines very...</td>\n",
       "      <td>pfizer moderna claim vaccin safe effect estim ...</td>\n",
       "      <td>[]</td>\n",
       "      <td>[]</td>\n",
       "      <td>['https://t.co/OR1QmkkBS3']</td>\n",
       "      <td>['🙄', '🤔', '❓', '⏩', '❓']</td>\n",
       "      <td>[pfizer, moderna, claim, their, vaccines, very...</td>\n",
       "      <td>[pfizer, moderna, claim, vaccine, safe, effect...</td>\n",
       "      <td>0</td>\n",
       "    </tr>\n",
       "    <tr>\n",
       "      <th>2</th>\n",
       "      <td>We recently published the predictors of hospit...</td>\n",
       "      <td>recent publish predictor hospit older adult co...</td>\n",
       "      <td>['#COVID19', '#CoronaVirusUpdates', '#geriatri...</td>\n",
       "      <td>[]</td>\n",
       "      <td>['https://t.co/GghAqZSs9t']</td>\n",
       "      <td>[]</td>\n",
       "      <td>[we, recently, published, predictors, of, hosp...</td>\n",
       "      <td>[recently, published, predictor, hospitalizati...</td>\n",
       "      <td>0</td>\n",
       "    </tr>\n",
       "  </tbody>\n",
       "</table>\n",
       "</div>"
      ],
      "text/plain": [
       "                                               tweet  \\\n",
       "0  Germany's Covid response \"was the envy of the ...   \n",
       "1  Pfizer &amp; Moderna claim their vaccines very...   \n",
       "2  We recently published the predictors of hospit...   \n",
       "\n",
       "                                         clean_tweet  \\\n",
       "0  germani covid respons envi world daili remind ...   \n",
       "1  pfizer moderna claim vaccin safe effect estim ...   \n",
       "2  recent publish predictor hospit older adult co...   \n",
       "\n",
       "                                             hastags        attherate  \\\n",
       "0                                                 []  ['@GoogleNews']   \n",
       "1                                                 []               []   \n",
       "2  ['#COVID19', '#CoronaVirusUpdates', '#geriatri...               []   \n",
       "\n",
       "                          urls                     emojis  \\\n",
       "0  ['https://t.co/dxbkOVjBCZ']                         []   \n",
       "1  ['https://t.co/OR1QmkkBS3']  ['🙄', '🤔', '❓', '⏩', '❓']   \n",
       "2  ['https://t.co/GghAqZSs9t']                         []   \n",
       "\n",
       "                                     tokenized_Tweet  \\\n",
       "0  [germanys, covid, response, was, envy, of, wor...   \n",
       "1  [pfizer, moderna, claim, their, vaccines, very...   \n",
       "2  [we, recently, published, predictors, of, hosp...   \n",
       "\n",
       "                                       filteredToken  label  \n",
       "0  [germany, covid, response, envy, world, daily,...      0  \n",
       "1  [pfizer, moderna, claim, vaccine, safe, effect...      0  \n",
       "2  [recently, published, predictor, hospitalizati...      0  "
      ]
     },
     "execution_count": 34,
     "metadata": {},
     "output_type": "execute_result"
    }
   ],
   "source": [
    "label=kmeans.labels_\n",
    "march['label']=label\n",
    "march.head(3)"
   ]
  },
  {
   "cell_type": "code",
   "execution_count": 35,
   "metadata": {},
   "outputs": [
    {
     "data": {
      "text/plain": [
       "array([0, 1])"
      ]
     },
     "execution_count": 35,
     "metadata": {},
     "output_type": "execute_result"
    }
   ],
   "source": [
    "np.unique(march['label'])"
   ]
  },
  {
   "cell_type": "code",
   "execution_count": 36,
   "metadata": {},
   "outputs": [
    {
     "data": {
      "text/plain": [
       "0    2339\n",
       "1     112\n",
       "Name: label, dtype: int64"
      ]
     },
     "execution_count": 36,
     "metadata": {},
     "output_type": "execute_result"
    }
   ],
   "source": [
    "march['label'].value_counts()"
   ]
  },
  {
   "cell_type": "code",
   "execution_count": 37,
   "metadata": {},
   "outputs": [],
   "source": [
    "def get_top_features_cluster(tf_idf_array, prediction, n_feats):\n",
    "    labels = np.unique(prediction)\n",
    "    dfs = []\n",
    "    for label in labels:\n",
    "        id_temp = np.where(prediction==label) # indices for each cluster\n",
    "        x_means = np.mean(tf_idf_array[id_temp], axis = 0) # returns average score across cluster\n",
    "        sorted_means = np.argsort(x_means)[::-1][:n_feats] # indices with top 20 scores\n",
    "        features = tf_idf_vectorizor.get_feature_names()\n",
    "        best_features = [(features[i], x_means[i]) for i in sorted_means]\n",
    "        df = pd.DataFrame(best_features, columns = ['features', 'score'])\n",
    "        dfs.append(df)\n",
    "    return dfs\n",
    "dfs = get_top_features_cluster(tf_idf_array, prediction, 10)"
   ]
  },
  {
   "cell_type": "code",
   "execution_count": 38,
   "metadata": {},
   "outputs": [],
   "source": [
    "March_cluster=dfs"
   ]
  },
  {
   "cell_type": "code",
   "execution_count": 39,
   "metadata": {},
   "outputs": [
    {
     "data": {
      "text/html": [
       "<div>\n",
       "<style scoped>\n",
       "    .dataframe tbody tr th:only-of-type {\n",
       "        vertical-align: middle;\n",
       "    }\n",
       "\n",
       "    .dataframe tbody tr th {\n",
       "        vertical-align: top;\n",
       "    }\n",
       "\n",
       "    .dataframe thead th {\n",
       "        text-align: right;\n",
       "    }\n",
       "</style>\n",
       "<table border=\"1\" class=\"dataframe\">\n",
       "  <thead>\n",
       "    <tr style=\"text-align: right;\">\n",
       "      <th></th>\n",
       "      <th>features</th>\n",
       "      <th>score</th>\n",
       "    </tr>\n",
       "  </thead>\n",
       "  <tbody>\n",
       "    <tr>\n",
       "      <th>0</th>\n",
       "      <td>covid</td>\n",
       "      <td>0.054923</td>\n",
       "    </tr>\n",
       "    <tr>\n",
       "      <th>1</th>\n",
       "      <td>vaccin</td>\n",
       "      <td>0.046641</td>\n",
       "    </tr>\n",
       "    <tr>\n",
       "      <th>2</th>\n",
       "      <td>corona</td>\n",
       "      <td>0.026874</td>\n",
       "    </tr>\n",
       "    <tr>\n",
       "      <th>3</th>\n",
       "      <td>case</td>\n",
       "      <td>0.015734</td>\n",
       "    </tr>\n",
       "    <tr>\n",
       "      <th>4</th>\n",
       "      <td>india</td>\n",
       "      <td>0.015544</td>\n",
       "    </tr>\n",
       "    <tr>\n",
       "      <th>5</th>\n",
       "      <td>curfew</td>\n",
       "      <td>0.014458</td>\n",
       "    </tr>\n",
       "    <tr>\n",
       "      <th>6</th>\n",
       "      <td>peopl</td>\n",
       "      <td>0.014433</td>\n",
       "    </tr>\n",
       "    <tr>\n",
       "      <th>7</th>\n",
       "      <td>coronaviru</td>\n",
       "      <td>0.013344</td>\n",
       "    </tr>\n",
       "    <tr>\n",
       "      <th>8</th>\n",
       "      <td>posit</td>\n",
       "      <td>0.012455</td>\n",
       "    </tr>\n",
       "    <tr>\n",
       "      <th>9</th>\n",
       "      <td>viru</td>\n",
       "      <td>0.012084</td>\n",
       "    </tr>\n",
       "  </tbody>\n",
       "</table>\n",
       "</div>"
      ],
      "text/plain": [
       "     features     score\n",
       "0       covid  0.054923\n",
       "1      vaccin  0.046641\n",
       "2      corona  0.026874\n",
       "3        case  0.015734\n",
       "4       india  0.015544\n",
       "5      curfew  0.014458\n",
       "6       peopl  0.014433\n",
       "7  coronaviru  0.013344\n",
       "8       posit  0.012455\n",
       "9        viru  0.012084"
      ]
     },
     "execution_count": 39,
     "metadata": {},
     "output_type": "execute_result"
    }
   ],
   "source": [
    "March_cluster[0].head(10)"
   ]
  },
  {
   "cell_type": "code",
   "execution_count": 40,
   "metadata": {},
   "outputs": [
    {
     "data": {
      "image/png": "[encoded data removed]",
      "text/plain": [
       "<Figure size 1440x720 with 1 Axes>"
      ]
     },
     "metadata": {},
     "output_type": "display_data"
    }
   ],
   "source": [
    "\n",
    "# Figure Size\n",
    "fig = plt.figure(figsize =(20, 10))\n",
    " \n",
    "# Horizontal Bar Plot\n",
    "sns.barplot(x='features',y='score',data=March_cluster[0]).set(title=\"Features of Cluster 1\")\n",
    "plt.xlabel('Features',fontsize=20)\n",
    "plt.ylabel('Scores',fontsize=20)\n",
    "plt.xticks(rotation=45)\n",
    "# Show Plot\n",
    "plt.show()"
   ]
  },
  {
   "cell_type": "code",
   "execution_count": 41,
   "metadata": {},
   "outputs": [
    {
     "data": {
      "image/png": "[encoded data removed]",
      "text/plain": [
       "<Figure size 1440x720 with 1 Axes>"
      ]
     },
     "metadata": {},
     "output_type": "display_data"
    }
   ],
   "source": [
    "\n",
    "# Figure Size\n",
    "fig = plt.figure(figsize =(20, 10))\n",
    " \n",
    "# Horizontal Bar Plot\n",
    "sns.barplot(x='features',y='score',data=March_cluster[1]).set(title=\"Features of Cluster 2\")\n",
    "plt.xlabel('Features',fontsize=20)\n",
    "plt.ylabel('Scores',fontsize=20)\n",
    "plt.xticks(rotation=45)\n",
    "# Show Plot\n",
    "plt.show()"
   ]
  },
  {
   "cell_type": "code",
   "execution_count": 42,
   "metadata": {},
   "outputs": [],
   "source": [
    "labels = np.unique(prediction)\n",
    "dfs1 = []\n",
    "for label in labels:\n",
    "    id_temp = np.where(prediction==label) \n",
    "    x_means = np.mean(tf_idf_array[id_temp], axis = 0) # returns average score across cluster\n",
    "    sorted_means = np.argsort(x_means)[::-1]\n",
    "    features = tf_idf_vectorizor.get_feature_names()\n",
    "    best_features = [(features[i], x_means[i]) for i in sorted_means]\n",
    "    df = pd.DataFrame(best_features, columns = ['features', 'score'])\n",
    "    dfs1.append(df)"
   ]
  },
  {
   "cell_type": "code",
   "execution_count": 43,
   "metadata": {},
   "outputs": [
    {
     "data": {
      "text/html": [
       "<div>\n",
       "<style scoped>\n",
       "    .dataframe tbody tr th:only-of-type {\n",
       "        vertical-align: middle;\n",
       "    }\n",
       "\n",
       "    .dataframe tbody tr th {\n",
       "        vertical-align: top;\n",
       "    }\n",
       "\n",
       "    .dataframe thead th {\n",
       "        text-align: right;\n",
       "    }\n",
       "</style>\n",
       "<table border=\"1\" class=\"dataframe\">\n",
       "  <thead>\n",
       "    <tr style=\"text-align: right;\">\n",
       "      <th></th>\n",
       "      <th>features</th>\n",
       "      <th>score</th>\n",
       "    </tr>\n",
       "  </thead>\n",
       "  <tbody>\n",
       "    <tr>\n",
       "      <th>0</th>\n",
       "      <td>covid</td>\n",
       "      <td>0.054923</td>\n",
       "    </tr>\n",
       "    <tr>\n",
       "      <th>1</th>\n",
       "      <td>vaccin</td>\n",
       "      <td>0.046641</td>\n",
       "    </tr>\n",
       "    <tr>\n",
       "      <th>2</th>\n",
       "      <td>corona</td>\n",
       "      <td>0.026874</td>\n",
       "    </tr>\n",
       "    <tr>\n",
       "      <th>3</th>\n",
       "      <td>case</td>\n",
       "      <td>0.015734</td>\n",
       "    </tr>\n",
       "    <tr>\n",
       "      <th>4</th>\n",
       "      <td>india</td>\n",
       "      <td>0.015544</td>\n",
       "    </tr>\n",
       "    <tr>\n",
       "      <th>...</th>\n",
       "      <td>...</td>\n",
       "      <td>...</td>\n",
       "    </tr>\n",
       "    <tr>\n",
       "      <th>4889</th>\n",
       "      <td>chandigarh</td>\n",
       "      <td>0.000000</td>\n",
       "    </tr>\n",
       "    <tr>\n",
       "      <th>4890</th>\n",
       "      <td>bluru</td>\n",
       "      <td>0.000000</td>\n",
       "    </tr>\n",
       "    <tr>\n",
       "      <th>4891</th>\n",
       "      <td>dharwad</td>\n",
       "      <td>0.000000</td>\n",
       "    </tr>\n",
       "    <tr>\n",
       "      <th>4892</th>\n",
       "      <td>curedrecov</td>\n",
       "      <td>0.000000</td>\n",
       "    </tr>\n",
       "    <tr>\n",
       "      <th>4893</th>\n",
       "      <td>vti</td>\n",
       "      <td>0.000000</td>\n",
       "    </tr>\n",
       "  </tbody>\n",
       "</table>\n",
       "<p>4894 rows × 2 columns</p>\n",
       "</div>"
      ],
      "text/plain": [
       "        features     score\n",
       "0          covid  0.054923\n",
       "1         vaccin  0.046641\n",
       "2         corona  0.026874\n",
       "3           case  0.015734\n",
       "4          india  0.015544\n",
       "...          ...       ...\n",
       "4889  chandigarh  0.000000\n",
       "4890       bluru  0.000000\n",
       "4891     dharwad  0.000000\n",
       "4892  curedrecov  0.000000\n",
       "4893         vti  0.000000\n",
       "\n",
       "[4894 rows x 2 columns]"
      ]
     },
     "execution_count": 43,
     "metadata": {},
     "output_type": "execute_result"
    }
   ],
   "source": [
    "dfs1[0]"
   ]
  },
  {
   "cell_type": "code",
   "execution_count": 44,
   "metadata": {},
   "outputs": [
    {
     "data": {
      "text/html": [
       "<div>\n",
       "<style scoped>\n",
       "    .dataframe tbody tr th:only-of-type {\n",
       "        vertical-align: middle;\n",
       "    }\n",
       "\n",
       "    .dataframe tbody tr th {\n",
       "        vertical-align: top;\n",
       "    }\n",
       "\n",
       "    .dataframe thead th {\n",
       "        text-align: right;\n",
       "    }\n",
       "</style>\n",
       "<table border=\"1\" class=\"dataframe\">\n",
       "  <thead>\n",
       "    <tr style=\"text-align: right;\">\n",
       "      <th></th>\n",
       "      <th>features</th>\n",
       "      <th>score</th>\n",
       "    </tr>\n",
       "  </thead>\n",
       "  <tbody>\n",
       "    <tr>\n",
       "      <th>0</th>\n",
       "      <td>case</td>\n",
       "      <td>0.386995</td>\n",
       "    </tr>\n",
       "    <tr>\n",
       "      <th>1</th>\n",
       "      <td>death</td>\n",
       "      <td>0.257631</td>\n",
       "    </tr>\n",
       "    <tr>\n",
       "      <th>2</th>\n",
       "      <td>total</td>\n",
       "      <td>0.240878</td>\n",
       "    </tr>\n",
       "    <tr>\n",
       "      <th>3</th>\n",
       "      <td>report</td>\n",
       "      <td>0.183930</td>\n",
       "    </tr>\n",
       "    <tr>\n",
       "      <th>4</th>\n",
       "      <td>recoveri</td>\n",
       "      <td>0.168265</td>\n",
       "    </tr>\n",
       "    <tr>\n",
       "      <th>...</th>\n",
       "      <td>...</td>\n",
       "      <td>...</td>\n",
       "    </tr>\n",
       "    <tr>\n",
       "      <th>4889</th>\n",
       "      <td>philippin</td>\n",
       "      <td>0.000000</td>\n",
       "    </tr>\n",
       "    <tr>\n",
       "      <th>4890</th>\n",
       "      <td>phir</td>\n",
       "      <td>0.000000</td>\n",
       "    </tr>\n",
       "    <tr>\n",
       "      <th>4891</th>\n",
       "      <td>phoenix</td>\n",
       "      <td>0.000000</td>\n",
       "    </tr>\n",
       "    <tr>\n",
       "      <th>4892</th>\n",
       "      <td>photo</td>\n",
       "      <td>0.000000</td>\n",
       "    </tr>\n",
       "    <tr>\n",
       "      <th>4893</th>\n",
       "      <td>aaah</td>\n",
       "      <td>0.000000</td>\n",
       "    </tr>\n",
       "  </tbody>\n",
       "</table>\n",
       "<p>4894 rows × 2 columns</p>\n",
       "</div>"
      ],
      "text/plain": [
       "       features     score\n",
       "0          case  0.386995\n",
       "1         death  0.257631\n",
       "2         total  0.240878\n",
       "3        report  0.183930\n",
       "4      recoveri  0.168265\n",
       "...         ...       ...\n",
       "4889  philippin  0.000000\n",
       "4890       phir  0.000000\n",
       "4891    phoenix  0.000000\n",
       "4892      photo  0.000000\n",
       "4893       aaah  0.000000\n",
       "\n",
       "[4894 rows x 2 columns]"
      ]
     },
     "execution_count": 44,
     "metadata": {},
     "output_type": "execute_result"
    }
   ],
   "source": [
    "dfs1[1]"
   ]
  },
  {
   "cell_type": "code",
   "execution_count": 45,
   "metadata": {},
   "outputs": [],
   "source": [
    "# K3=dfs1[2]\n",
    "K1=dfs1[0]\n",
    "K2=dfs1[1]"
   ]
  },
  {
   "cell_type": "code",
   "execution_count": 46,
   "metadata": {},
   "outputs": [
    {
     "ename": "FileNotFoundError",
     "evalue": "[Errno 2] No such file or directory: 'MarchTopWords.csv'",
     "output_type": "error",
     "traceback": [
      "\u001b[1;31m---------------------------------------------------------------------------\u001b[0m",
      "\u001b[1;31mFileNotFoundError\u001b[0m                         Traceback (most recent call last)",
      "\u001b[1;32m<ipython-input-46-0a348e5e0ecd>\u001b[0m in \u001b[0;36m<module>\u001b[1;34m\u001b[0m\n\u001b[1;32m----> 1\u001b[1;33m \u001b[0mmarch_bw\u001b[0m\u001b[1;33m=\u001b[0m\u001b[0mpd\u001b[0m\u001b[1;33m.\u001b[0m\u001b[0mread_csv\u001b[0m\u001b[1;33m(\u001b[0m\u001b[1;34m'MarchTopWords.csv'\u001b[0m\u001b[1;33m)\u001b[0m\u001b[1;33m\u001b[0m\u001b[1;33m\u001b[0m\u001b[0m\n\u001b[0m",
      "\u001b[1;32mc:\\Users\\AYUSH\\anaconda3\\lib\\site-packages\\pandas\\io\\parsers.py\u001b[0m in \u001b[0;36mread_csv\u001b[1;34m(filepath_or_buffer, sep, delimiter, header, names, index_col, usecols, squeeze, prefix, mangle_dupe_cols, dtype, engine, converters, true_values, false_values, skipinitialspace, skiprows, skipfooter, nrows, na_values, keep_default_na, na_filter, verbose, skip_blank_lines, parse_dates, infer_datetime_format, keep_date_col, date_parser, dayfirst, cache_dates, iterator, chunksize, compression, thousands, decimal, lineterminator, quotechar, quoting, doublequote, escapechar, comment, encoding, dialect, error_bad_lines, warn_bad_lines, delim_whitespace, low_memory, memory_map, float_precision, storage_options)\u001b[0m\n\u001b[0;32m    608\u001b[0m     \u001b[0mkwds\u001b[0m\u001b[1;33m.\u001b[0m\u001b[0mupdate\u001b[0m\u001b[1;33m(\u001b[0m\u001b[0mkwds_defaults\u001b[0m\u001b[1;33m)\u001b[0m\u001b[1;33m\u001b[0m\u001b[1;33m\u001b[0m\u001b[0m\n\u001b[0;32m    609\u001b[0m \u001b[1;33m\u001b[0m\u001b[0m\n\u001b[1;32m--> 610\u001b[1;33m     \u001b[1;32mreturn\u001b[0m \u001b[0m_read\u001b[0m\u001b[1;33m(\u001b[0m\u001b[0mfilepath_or_buffer\u001b[0m\u001b[1;33m,\u001b[0m \u001b[0mkwds\u001b[0m\u001b[1;33m)\u001b[0m\u001b[1;33m\u001b[0m\u001b[1;33m\u001b[0m\u001b[0m\n\u001b[0m\u001b[0;32m    611\u001b[0m \u001b[1;33m\u001b[0m\u001b[0m\n\u001b[0;32m    612\u001b[0m \u001b[1;33m\u001b[0m\u001b[0m\n",
      "\u001b[1;32mc:\\Users\\AYUSH\\anaconda3\\lib\\site-packages\\pandas\\io\\parsers.py\u001b[0m in \u001b[0;36m_read\u001b[1;34m(filepath_or_buffer, kwds)\u001b[0m\n\u001b[0;32m    460\u001b[0m \u001b[1;33m\u001b[0m\u001b[0m\n\u001b[0;32m    461\u001b[0m     \u001b[1;31m# Create the parser.\u001b[0m\u001b[1;33m\u001b[0m\u001b[1;33m\u001b[0m\u001b[1;33m\u001b[0m\u001b[0m\n\u001b[1;32m--> 462\u001b[1;33m     \u001b[0mparser\u001b[0m \u001b[1;33m=\u001b[0m \u001b[0mTextFileReader\u001b[0m\u001b[1;33m(\u001b[0m\u001b[0mfilepath_or_buffer\u001b[0m\u001b[1;33m,\u001b[0m \u001b[1;33m**\u001b[0m\u001b[0mkwds\u001b[0m\u001b[1;33m)\u001b[0m\u001b[1;33m\u001b[0m\u001b[1;33m\u001b[0m\u001b[0m\n\u001b[0m\u001b[0;32m    463\u001b[0m \u001b[1;33m\u001b[0m\u001b[0m\n\u001b[0;32m    464\u001b[0m     \u001b[1;32mif\u001b[0m \u001b[0mchunksize\u001b[0m \u001b[1;32mor\u001b[0m \u001b[0miterator\u001b[0m\u001b[1;33m:\u001b[0m\u001b[1;33m\u001b[0m\u001b[1;33m\u001b[0m\u001b[0m\n",
      "\u001b[1;32mc:\\Users\\AYUSH\\anaconda3\\lib\\site-packages\\pandas\\io\\parsers.py\u001b[0m in \u001b[0;36m__init__\u001b[1;34m(self, f, engine, **kwds)\u001b[0m\n\u001b[0;32m    817\u001b[0m             \u001b[0mself\u001b[0m\u001b[1;33m.\u001b[0m\u001b[0moptions\u001b[0m\u001b[1;33m[\u001b[0m\u001b[1;34m\"has_index_names\"\u001b[0m\u001b[1;33m]\u001b[0m \u001b[1;33m=\u001b[0m \u001b[0mkwds\u001b[0m\u001b[1;33m[\u001b[0m\u001b[1;34m\"has_index_names\"\u001b[0m\u001b[1;33m]\u001b[0m\u001b[1;33m\u001b[0m\u001b[1;33m\u001b[0m\u001b[0m\n\u001b[0;32m    818\u001b[0m \u001b[1;33m\u001b[0m\u001b[0m\n\u001b[1;32m--> 819\u001b[1;33m         \u001b[0mself\u001b[0m\u001b[1;33m.\u001b[0m\u001b[0m_engine\u001b[0m \u001b[1;33m=\u001b[0m \u001b[0mself\u001b[0m\u001b[1;33m.\u001b[0m\u001b[0m_make_engine\u001b[0m\u001b[1;33m(\u001b[0m\u001b[0mself\u001b[0m\u001b[1;33m.\u001b[0m\u001b[0mengine\u001b[0m\u001b[1;33m)\u001b[0m\u001b[1;33m\u001b[0m\u001b[1;33m\u001b[0m\u001b[0m\n\u001b[0m\u001b[0;32m    820\u001b[0m \u001b[1;33m\u001b[0m\u001b[0m\n\u001b[0;32m    821\u001b[0m     \u001b[1;32mdef\u001b[0m \u001b[0mclose\u001b[0m\u001b[1;33m(\u001b[0m\u001b[0mself\u001b[0m\u001b[1;33m)\u001b[0m\u001b[1;33m:\u001b[0m\u001b[1;33m\u001b[0m\u001b[1;33m\u001b[0m\u001b[0m\n",
      "\u001b[1;32mc:\\Users\\AYUSH\\anaconda3\\lib\\site-packages\\pandas\\io\\parsers.py\u001b[0m in \u001b[0;36m_make_engine\u001b[1;34m(self, engine)\u001b[0m\n\u001b[0;32m   1048\u001b[0m             )\n\u001b[0;32m   1049\u001b[0m         \u001b[1;31m# error: Too many arguments for \"ParserBase\"\u001b[0m\u001b[1;33m\u001b[0m\u001b[1;33m\u001b[0m\u001b[1;33m\u001b[0m\u001b[0m\n\u001b[1;32m-> 1050\u001b[1;33m         \u001b[1;32mreturn\u001b[0m \u001b[0mmapping\u001b[0m\u001b[1;33m[\u001b[0m\u001b[0mengine\u001b[0m\u001b[1;33m]\u001b[0m\u001b[1;33m(\u001b[0m\u001b[0mself\u001b[0m\u001b[1;33m.\u001b[0m\u001b[0mf\u001b[0m\u001b[1;33m,\u001b[0m \u001b[1;33m**\u001b[0m\u001b[0mself\u001b[0m\u001b[1;33m.\u001b[0m\u001b[0moptions\u001b[0m\u001b[1;33m)\u001b[0m  \u001b[1;31m# type: ignore[call-arg]\u001b[0m\u001b[1;33m\u001b[0m\u001b[1;33m\u001b[0m\u001b[0m\n\u001b[0m\u001b[0;32m   1051\u001b[0m \u001b[1;33m\u001b[0m\u001b[0m\n\u001b[0;32m   1052\u001b[0m     \u001b[1;32mdef\u001b[0m \u001b[0m_failover_to_python\u001b[0m\u001b[1;33m(\u001b[0m\u001b[0mself\u001b[0m\u001b[1;33m)\u001b[0m\u001b[1;33m:\u001b[0m\u001b[1;33m\u001b[0m\u001b[1;33m\u001b[0m\u001b[0m\n",
      "\u001b[1;32mc:\\Users\\AYUSH\\anaconda3\\lib\\site-packages\\pandas\\io\\parsers.py\u001b[0m in \u001b[0;36m__init__\u001b[1;34m(self, src, **kwds)\u001b[0m\n\u001b[0;32m   1865\u001b[0m \u001b[1;33m\u001b[0m\u001b[0m\n\u001b[0;32m   1866\u001b[0m         \u001b[1;31m# open handles\u001b[0m\u001b[1;33m\u001b[0m\u001b[1;33m\u001b[0m\u001b[1;33m\u001b[0m\u001b[0m\n\u001b[1;32m-> 1867\u001b[1;33m         \u001b[0mself\u001b[0m\u001b[1;33m.\u001b[0m\u001b[0m_open_handles\u001b[0m\u001b[1;33m(\u001b[0m\u001b[0msrc\u001b[0m\u001b[1;33m,\u001b[0m \u001b[0mkwds\u001b[0m\u001b[1;33m)\u001b[0m\u001b[1;33m\u001b[0m\u001b[1;33m\u001b[0m\u001b[0m\n\u001b[0m\u001b[0;32m   1868\u001b[0m         \u001b[1;32massert\u001b[0m \u001b[0mself\u001b[0m\u001b[1;33m.\u001b[0m\u001b[0mhandles\u001b[0m \u001b[1;32mis\u001b[0m \u001b[1;32mnot\u001b[0m \u001b[1;32mNone\u001b[0m\u001b[1;33m\u001b[0m\u001b[1;33m\u001b[0m\u001b[0m\n\u001b[0;32m   1869\u001b[0m         \u001b[1;32mfor\u001b[0m \u001b[0mkey\u001b[0m \u001b[1;32min\u001b[0m \u001b[1;33m(\u001b[0m\u001b[1;34m\"storage_options\"\u001b[0m\u001b[1;33m,\u001b[0m \u001b[1;34m\"encoding\"\u001b[0m\u001b[1;33m,\u001b[0m \u001b[1;34m\"memory_map\"\u001b[0m\u001b[1;33m,\u001b[0m \u001b[1;34m\"compression\"\u001b[0m\u001b[1;33m)\u001b[0m\u001b[1;33m:\u001b[0m\u001b[1;33m\u001b[0m\u001b[1;33m\u001b[0m\u001b[0m\n",
      "\u001b[1;32mc:\\Users\\AYUSH\\anaconda3\\lib\\site-packages\\pandas\\io\\parsers.py\u001b[0m in \u001b[0;36m_open_handles\u001b[1;34m(self, src, kwds)\u001b[0m\n\u001b[0;32m   1360\u001b[0m         \u001b[0mLet\u001b[0m \u001b[0mthe\u001b[0m \u001b[0mreaders\u001b[0m \u001b[0mopen\u001b[0m \u001b[0mIOHanldes\u001b[0m \u001b[0mafter\u001b[0m \u001b[0mthey\u001b[0m \u001b[0mare\u001b[0m \u001b[0mdone\u001b[0m \u001b[1;32mwith\u001b[0m \u001b[0mtheir\u001b[0m \u001b[0mpotential\u001b[0m \u001b[0mraises\u001b[0m\u001b[1;33m.\u001b[0m\u001b[1;33m\u001b[0m\u001b[1;33m\u001b[0m\u001b[0m\n\u001b[0;32m   1361\u001b[0m         \"\"\"\n\u001b[1;32m-> 1362\u001b[1;33m         self.handles = get_handle(\n\u001b[0m\u001b[0;32m   1363\u001b[0m             \u001b[0msrc\u001b[0m\u001b[1;33m,\u001b[0m\u001b[1;33m\u001b[0m\u001b[1;33m\u001b[0m\u001b[0m\n\u001b[0;32m   1364\u001b[0m             \u001b[1;34m\"r\"\u001b[0m\u001b[1;33m,\u001b[0m\u001b[1;33m\u001b[0m\u001b[1;33m\u001b[0m\u001b[0m\n",
      "\u001b[1;32mc:\\Users\\AYUSH\\anaconda3\\lib\\site-packages\\pandas\\io\\common.py\u001b[0m in \u001b[0;36mget_handle\u001b[1;34m(path_or_buf, mode, encoding, compression, memory_map, is_text, errors, storage_options)\u001b[0m\n\u001b[0;32m    640\u001b[0m                 \u001b[0merrors\u001b[0m \u001b[1;33m=\u001b[0m \u001b[1;34m\"replace\"\u001b[0m\u001b[1;33m\u001b[0m\u001b[1;33m\u001b[0m\u001b[0m\n\u001b[0;32m    641\u001b[0m             \u001b[1;31m# Encoding\u001b[0m\u001b[1;33m\u001b[0m\u001b[1;33m\u001b[0m\u001b[1;33m\u001b[0m\u001b[0m\n\u001b[1;32m--> 642\u001b[1;33m             handle = open(\n\u001b[0m\u001b[0;32m    643\u001b[0m                 \u001b[0mhandle\u001b[0m\u001b[1;33m,\u001b[0m\u001b[1;33m\u001b[0m\u001b[1;33m\u001b[0m\u001b[0m\n\u001b[0;32m    644\u001b[0m                 \u001b[0mioargs\u001b[0m\u001b[1;33m.\u001b[0m\u001b[0mmode\u001b[0m\u001b[1;33m,\u001b[0m\u001b[1;33m\u001b[0m\u001b[1;33m\u001b[0m\u001b[0m\n",
      "\u001b[1;31mFileNotFoundError\u001b[0m: [Errno 2] No such file or directory: 'MarchTopWords.csv'"
     ]
    }
   ],
   "source": [
    "march_bw=pd.read_csv('MarchTopWords.csv')"
   ]
  },
  {
   "cell_type": "code",
   "execution_count": null,
   "metadata": {},
   "outputs": [],
   "source": [
    "t=march_bw[:30]\n"
   ]
  },
  {
   "cell_type": "code",
   "execution_count": null,
   "metadata": {},
   "outputs": [],
   "source": [
    "c1=[]\n",
    "p=0\n",
    "c2=[]\n",
    "q=0\n",
    "for i in range(0,30):\n",
    "    for j in range(0,100):\n",
    "        if(t.words[i]==K1['features'][j]):\n",
    "            c1.append(K1['features'][j])\n",
    "            p=p+1\n",
    "for i in range(0,30):\n",
    "    for j in range(0,100):\n",
    "        if(t.words[i]==K2['features'][j]):\n",
    "            c2.append(K1['features'][j])\n",
    "            q=q+1\n"
   ]
  },
  {
   "cell_type": "code",
   "execution_count": null,
   "metadata": {},
   "outputs": [
    {
     "name": "stdout",
     "output_type": "stream",
     "text": [
      "28\n",
      "20\n"
     ]
    }
   ],
   "source": [
    "\n",
    "print(p)\n",
    "print(q)"
   ]
  },
  {
   "cell_type": "code",
   "execution_count": null,
   "metadata": {},
   "outputs": [],
   "source": [
    "K1.to_csv('MarchCluster1.csv')"
   ]
  },
  {
   "cell_type": "markdown",
   "metadata": {},
   "source": [
    "### Tweet Grouping"
   ]
  },
  {
   "cell_type": "code",
   "execution_count": null,
   "metadata": {},
   "outputs": [
    {
     "data": {
      "text/html": [
       "<div>\n",
       "<style scoped>\n",
       "    .dataframe tbody tr th:only-of-type {\n",
       "        vertical-align: middle;\n",
       "    }\n",
       "\n",
       "    .dataframe tbody tr th {\n",
       "        vertical-align: top;\n",
       "    }\n",
       "\n",
       "    .dataframe thead th {\n",
       "        text-align: right;\n",
       "    }\n",
       "</style>\n",
       "<table border=\"1\" class=\"dataframe\">\n",
       "  <thead>\n",
       "    <tr style=\"text-align: right;\">\n",
       "      <th></th>\n",
       "      <th>tweet</th>\n",
       "      <th>clean_tweet</th>\n",
       "      <th>hastags</th>\n",
       "      <th>attherate</th>\n",
       "      <th>urls</th>\n",
       "      <th>emojis</th>\n",
       "      <th>tokenized_Tweet</th>\n",
       "      <th>filteredToken</th>\n",
       "      <th>label</th>\n",
       "    </tr>\n",
       "  </thead>\n",
       "  <tbody>\n",
       "    <tr>\n",
       "      <th>0</th>\n",
       "      <td>Germany's Covid response \"was the envy of the ...</td>\n",
       "      <td>germani covid respons envi world daili remind ...</td>\n",
       "      <td>[]</td>\n",
       "      <td>['@GoogleNews']</td>\n",
       "      <td>['https://t.co/dxbkOVjBCZ']</td>\n",
       "      <td>[]</td>\n",
       "      <td>[germanys, covid, response, was, envy, of, wor...</td>\n",
       "      <td>[germany, covid, response, envy, world, daily,...</td>\n",
       "      <td>0</td>\n",
       "    </tr>\n",
       "    <tr>\n",
       "      <th>1</th>\n",
       "      <td>Pfizer &amp;amp; Moderna claim their vaccines very...</td>\n",
       "      <td>pfizer moderna claim vaccin safe effect estim ...</td>\n",
       "      <td>[]</td>\n",
       "      <td>[]</td>\n",
       "      <td>['https://t.co/OR1QmkkBS3']</td>\n",
       "      <td>['🙄', '🤔', '❓', '⏩', '❓']</td>\n",
       "      <td>[pfizer, moderna, claim, their, vaccines, very...</td>\n",
       "      <td>[pfizer, moderna, claim, vaccine, safe, effect...</td>\n",
       "      <td>0</td>\n",
       "    </tr>\n",
       "    <tr>\n",
       "      <th>2</th>\n",
       "      <td>We recently published the predictors of hospit...</td>\n",
       "      <td>recent publish predictor hospit older adult co...</td>\n",
       "      <td>['#COVID19', '#CoronaVirusUpdates', '#geriatri...</td>\n",
       "      <td>[]</td>\n",
       "      <td>['https://t.co/GghAqZSs9t']</td>\n",
       "      <td>[]</td>\n",
       "      <td>[we, recently, published, predictors, of, hosp...</td>\n",
       "      <td>[recently, published, predictor, hospitalizati...</td>\n",
       "      <td>0</td>\n",
       "    </tr>\n",
       "  </tbody>\n",
       "</table>\n",
       "</div>"
      ],
      "text/plain": [
       "                                               tweet  \\\n",
       "0  Germany's Covid response \"was the envy of the ...   \n",
       "1  Pfizer &amp; Moderna claim their vaccines very...   \n",
       "2  We recently published the predictors of hospit...   \n",
       "\n",
       "                                         clean_tweet  \\\n",
       "0  germani covid respons envi world daili remind ...   \n",
       "1  pfizer moderna claim vaccin safe effect estim ...   \n",
       "2  recent publish predictor hospit older adult co...   \n",
       "\n",
       "                                             hastags        attherate  \\\n",
       "0                                                 []  ['@GoogleNews']   \n",
       "1                                                 []               []   \n",
       "2  ['#COVID19', '#CoronaVirusUpdates', '#geriatri...               []   \n",
       "\n",
       "                          urls                     emojis  \\\n",
       "0  ['https://t.co/dxbkOVjBCZ']                         []   \n",
       "1  ['https://t.co/OR1QmkkBS3']  ['🙄', '🤔', '❓', '⏩', '❓']   \n",
       "2  ['https://t.co/GghAqZSs9t']                         []   \n",
       "\n",
       "                                     tokenized_Tweet  \\\n",
       "0  [germanys, covid, response, was, envy, of, wor...   \n",
       "1  [pfizer, moderna, claim, their, vaccines, very...   \n",
       "2  [we, recently, published, predictors, of, hosp...   \n",
       "\n",
       "                                       filteredToken  label  \n",
       "0  [germany, covid, response, envy, world, daily,...      0  \n",
       "1  [pfizer, moderna, claim, vaccine, safe, effect...      0  \n",
       "2  [recently, published, predictor, hospitalizati...      0  "
      ]
     },
     "execution_count": 50,
     "metadata": {},
     "output_type": "execute_result"
    }
   ],
   "source": [
    "label=kmeans.labels_\n",
    "march['label']=label\n",
    "march.head(3)"
   ]
  },
  {
   "cell_type": "code",
   "execution_count": null,
   "metadata": {},
   "outputs": [
    {
     "data": {
      "text/plain": [
       "array([0, 1])"
      ]
     },
     "execution_count": 51,
     "metadata": {},
     "output_type": "execute_result"
    }
   ],
   "source": [
    "np.unique(march['label'])"
   ]
  },
  {
   "cell_type": "code",
   "execution_count": null,
   "metadata": {},
   "outputs": [
    {
     "data": {
      "text/plain": [
       "0    2339\n",
       "1     112\n",
       "Name: label, dtype: int64"
      ]
     },
     "execution_count": 52,
     "metadata": {},
     "output_type": "execute_result"
    }
   ],
   "source": [
    "march['label'].value_counts()"
   ]
  },
  {
   "cell_type": "code",
   "execution_count": null,
   "metadata": {},
   "outputs": [],
   "source": [
    "march.to_csv('MarchClusterTweet.csv')"
   ]
  },
  {
   "cell_type": "code",
   "execution_count": null,
   "metadata": {},
   "outputs": [],
   "source": [
    "march_cluster_1=march[march.label ==0]\n",
    "march_cluster_2=march[march.label ==1]"
   ]
  },
  {
   "cell_type": "code",
   "execution_count": null,
   "metadata": {},
   "outputs": [
    {
     "data": {
      "text/html": [
       "<div>\n",
       "<style scoped>\n",
       "    .dataframe tbody tr th:only-of-type {\n",
       "        vertical-align: middle;\n",
       "    }\n",
       "\n",
       "    .dataframe tbody tr th {\n",
       "        vertical-align: top;\n",
       "    }\n",
       "\n",
       "    .dataframe thead th {\n",
       "        text-align: right;\n",
       "    }\n",
       "</style>\n",
       "<table border=\"1\" class=\"dataframe\">\n",
       "  <thead>\n",
       "    <tr style=\"text-align: right;\">\n",
       "      <th></th>\n",
       "      <th>tweet</th>\n",
       "      <th>clean_tweet</th>\n",
       "      <th>hastags</th>\n",
       "      <th>attherate</th>\n",
       "      <th>urls</th>\n",
       "      <th>emojis</th>\n",
       "      <th>tokenized_Tweet</th>\n",
       "      <th>filteredToken</th>\n",
       "      <th>label</th>\n",
       "    </tr>\n",
       "  </thead>\n",
       "  <tbody>\n",
       "    <tr>\n",
       "      <th>0</th>\n",
       "      <td>Germany's Covid response \"was the envy of the ...</td>\n",
       "      <td>germani covid respons envi world daili remind ...</td>\n",
       "      <td>[]</td>\n",
       "      <td>['@GoogleNews']</td>\n",
       "      <td>['https://t.co/dxbkOVjBCZ']</td>\n",
       "      <td>[]</td>\n",
       "      <td>[germanys, covid, response, was, envy, of, wor...</td>\n",
       "      <td>[germany, covid, response, envy, world, daily,...</td>\n",
       "      <td>0</td>\n",
       "    </tr>\n",
       "    <tr>\n",
       "      <th>1</th>\n",
       "      <td>Pfizer &amp;amp; Moderna claim their vaccines very...</td>\n",
       "      <td>pfizer moderna claim vaccin safe effect estim ...</td>\n",
       "      <td>[]</td>\n",
       "      <td>[]</td>\n",
       "      <td>['https://t.co/OR1QmkkBS3']</td>\n",
       "      <td>['🙄', '🤔', '❓', '⏩', '❓']</td>\n",
       "      <td>[pfizer, moderna, claim, their, vaccines, very...</td>\n",
       "      <td>[pfizer, moderna, claim, vaccine, safe, effect...</td>\n",
       "      <td>0</td>\n",
       "    </tr>\n",
       "    <tr>\n",
       "      <th>2</th>\n",
       "      <td>We recently published the predictors of hospit...</td>\n",
       "      <td>recent publish predictor hospit older adult co...</td>\n",
       "      <td>['#COVID19', '#CoronaVirusUpdates', '#geriatri...</td>\n",
       "      <td>[]</td>\n",
       "      <td>['https://t.co/GghAqZSs9t']</td>\n",
       "      <td>[]</td>\n",
       "      <td>[we, recently, published, predictors, of, hosp...</td>\n",
       "      <td>[recently, published, predictor, hospitalizati...</td>\n",
       "      <td>0</td>\n",
       "    </tr>\n",
       "    <tr>\n",
       "      <th>3</th>\n",
       "      <td>@Alhamdhulillaah Them dey do Covid test 150AED...</td>\n",
       "      <td>dey covid test privat clinic govt free stop</td>\n",
       "      <td>[]</td>\n",
       "      <td>['@Alhamdhulillaah']</td>\n",
       "      <td>[]</td>\n",
       "      <td>[]</td>\n",
       "      <td>[them, dey, covid, test, aed, private, clinics...</td>\n",
       "      <td>[dey, covid, test, aed, private, clinic, govt,...</td>\n",
       "      <td>0</td>\n",
       "    </tr>\n",
       "    <tr>\n",
       "      <th>4</th>\n",
       "      <td>@YMasannat @VGDakessian Time will tell! So far...</td>\n",
       "      <td>time tell far base data million peopl vaccin w...</td>\n",
       "      <td>[]</td>\n",
       "      <td>['@YMasannat', '@VGDakessian']</td>\n",
       "      <td>['https://t.co/S8oth5jEEW', 'https://t.co/1Gjr...</td>\n",
       "      <td>[]</td>\n",
       "      <td>[time, will, tell, so, far, and, based, on, da...</td>\n",
       "      <td>[time, tell, far, based, data, million, people...</td>\n",
       "      <td>0</td>\n",
       "    </tr>\n",
       "  </tbody>\n",
       "</table>\n",
       "</div>"
      ],
      "text/plain": [
       "                                               tweet  \\\n",
       "0  Germany's Covid response \"was the envy of the ...   \n",
       "1  Pfizer &amp; Moderna claim their vaccines very...   \n",
       "2  We recently published the predictors of hospit...   \n",
       "3  @Alhamdhulillaah Them dey do Covid test 150AED...   \n",
       "4  @YMasannat @VGDakessian Time will tell! So far...   \n",
       "\n",
       "                                         clean_tweet  \\\n",
       "0  germani covid respons envi world daili remind ...   \n",
       "1  pfizer moderna claim vaccin safe effect estim ...   \n",
       "2  recent publish predictor hospit older adult co...   \n",
       "3       dey covid test privat clinic govt free stop    \n",
       "4  time tell far base data million peopl vaccin w...   \n",
       "\n",
       "                                             hastags  \\\n",
       "0                                                 []   \n",
       "1                                                 []   \n",
       "2  ['#COVID19', '#CoronaVirusUpdates', '#geriatri...   \n",
       "3                                                 []   \n",
       "4                                                 []   \n",
       "\n",
       "                        attherate  \\\n",
       "0                 ['@GoogleNews']   \n",
       "1                              []   \n",
       "2                              []   \n",
       "3            ['@Alhamdhulillaah']   \n",
       "4  ['@YMasannat', '@VGDakessian']   \n",
       "\n",
       "                                                urls  \\\n",
       "0                        ['https://t.co/dxbkOVjBCZ']   \n",
       "1                        ['https://t.co/OR1QmkkBS3']   \n",
       "2                        ['https://t.co/GghAqZSs9t']   \n",
       "3                                                 []   \n",
       "4  ['https://t.co/S8oth5jEEW', 'https://t.co/1Gjr...   \n",
       "\n",
       "                      emojis  \\\n",
       "0                         []   \n",
       "1  ['🙄', '🤔', '❓', '⏩', '❓']   \n",
       "2                         []   \n",
       "3                         []   \n",
       "4                         []   \n",
       "\n",
       "                                     tokenized_Tweet  \\\n",
       "0  [germanys, covid, response, was, envy, of, wor...   \n",
       "1  [pfizer, moderna, claim, their, vaccines, very...   \n",
       "2  [we, recently, published, predictors, of, hosp...   \n",
       "3  [them, dey, covid, test, aed, private, clinics...   \n",
       "4  [time, will, tell, so, far, and, based, on, da...   \n",
       "\n",
       "                                       filteredToken  label  \n",
       "0  [germany, covid, response, envy, world, daily,...      0  \n",
       "1  [pfizer, moderna, claim, vaccine, safe, effect...      0  \n",
       "2  [recently, published, predictor, hospitalizati...      0  \n",
       "3  [dey, covid, test, aed, private, clinic, govt,...      0  \n",
       "4  [time, tell, far, based, data, million, people...      0  "
      ]
     },
     "execution_count": 55,
     "metadata": {},
     "output_type": "execute_result"
    }
   ],
   "source": [
    "march_cluster_1.head(5)"
   ]
  },
  {
   "cell_type": "code",
   "execution_count": null,
   "metadata": {},
   "outputs": [
    {
     "data": {
      "text/html": [
       "<div>\n",
       "<style scoped>\n",
       "    .dataframe tbody tr th:only-of-type {\n",
       "        vertical-align: middle;\n",
       "    }\n",
       "\n",
       "    .dataframe tbody tr th {\n",
       "        vertical-align: top;\n",
       "    }\n",
       "\n",
       "    .dataframe thead th {\n",
       "        text-align: right;\n",
       "    }\n",
       "</style>\n",
       "<table border=\"1\" class=\"dataframe\">\n",
       "  <thead>\n",
       "    <tr style=\"text-align: right;\">\n",
       "      <th></th>\n",
       "      <th>tweet</th>\n",
       "      <th>clean_tweet</th>\n",
       "      <th>hastags</th>\n",
       "      <th>attherate</th>\n",
       "      <th>urls</th>\n",
       "      <th>emojis</th>\n",
       "      <th>tokenized_Tweet</th>\n",
       "      <th>filteredToken</th>\n",
       "      <th>label</th>\n",
       "    </tr>\n",
       "  </thead>\n",
       "  <tbody>\n",
       "    <tr>\n",
       "      <th>63</th>\n",
       "      <td>\"Over 85% of new COVID-19 cases are from six s...</td>\n",
       "      <td>new covid case state india</td>\n",
       "      <td>[]</td>\n",
       "      <td>[]</td>\n",
       "      <td>['https://t.co/h0Jyzm4JHm']</td>\n",
       "      <td>[]</td>\n",
       "      <td>[over, of, new, covid, cases, are, six, states...</td>\n",
       "      <td>[new, covid, case, six, state, across, india]</td>\n",
       "      <td>1</td>\n",
       "    </tr>\n",
       "    <tr>\n",
       "      <th>81</th>\n",
       "      <td>04.02.2021 Recently #Covid_19+ve cases in Indi...</td>\n",
       "      <td>recent case india show declin trendris case to...</td>\n",
       "      <td>['#Covid_19+ve']</td>\n",
       "      <td>[]</td>\n",
       "      <td>[]</td>\n",
       "      <td>[]</td>\n",
       "      <td>[recently, cases, in, india, is, showing, decl...</td>\n",
       "      <td>[recently, case, india, showing, declining, tr...</td>\n",
       "      <td>1</td>\n",
       "    </tr>\n",
       "    <tr>\n",
       "      <th>98</th>\n",
       "      <td>06.02.2021 Recently #Covid_19+ve cases in Indi...</td>\n",
       "      <td>recent case india show declin trendbut rise ca...</td>\n",
       "      <td>['#Covid_19+ve']</td>\n",
       "      <td>[]</td>\n",
       "      <td>[]</td>\n",
       "      <td>[]</td>\n",
       "      <td>[recently, cases, in, india, is, showing, decl...</td>\n",
       "      <td>[recently, case, india, showing, declining, tr...</td>\n",
       "      <td>1</td>\n",
       "    </tr>\n",
       "    <tr>\n",
       "      <th>102</th>\n",
       "      <td>Karnataka had a total of 580 fresh #Covid_19 c...</td>\n",
       "      <td>karnataka total fresh case death saturday beng...</td>\n",
       "      <td>['#Covid_19']</td>\n",
       "      <td>['@ChitraSundaram7', '@scooban', '@Amit_A_Tiwa...</td>\n",
       "      <td>[]</td>\n",
       "      <td>[]</td>\n",
       "      <td>[karnataka, had, a, total, of, fresh, cases, d...</td>\n",
       "      <td>[karnataka, total, fresh, case, death, saturda...</td>\n",
       "      <td>1</td>\n",
       "    </tr>\n",
       "    <tr>\n",
       "      <th>126</th>\n",
       "      <td>Rajasthan reports 233 new COVID-19 cases and 1...</td>\n",
       "      <td>rajasthan report new covid case recoveri hour ...</td>\n",
       "      <td>[]</td>\n",
       "      <td>[]</td>\n",
       "      <td>['https://t.co/fDHbJ9h8GH']</td>\n",
       "      <td>[]</td>\n",
       "      <td>[rajasthan, reports, new, covid, cases, and, r...</td>\n",
       "      <td>[rajasthan, report, new, covid, case, recovery...</td>\n",
       "      <td>1</td>\n",
       "    </tr>\n",
       "  </tbody>\n",
       "</table>\n",
       "</div>"
      ],
      "text/plain": [
       "                                                 tweet  \\\n",
       "63   \"Over 85% of new COVID-19 cases are from six s...   \n",
       "81   04.02.2021 Recently #Covid_19+ve cases in Indi...   \n",
       "98   06.02.2021 Recently #Covid_19+ve cases in Indi...   \n",
       "102  Karnataka had a total of 580 fresh #Covid_19 c...   \n",
       "126  Rajasthan reports 233 new COVID-19 cases and 1...   \n",
       "\n",
       "                                           clean_tweet           hastags  \\\n",
       "63                         new covid case state india                 []   \n",
       "81   recent case india show declin trendris case to...  ['#Covid_19+ve']   \n",
       "98   recent case india show declin trendbut rise ca...  ['#Covid_19+ve']   \n",
       "102  karnataka total fresh case death saturday beng...     ['#Covid_19']   \n",
       "126  rajasthan report new covid case recoveri hour ...                []   \n",
       "\n",
       "                                             attherate  \\\n",
       "63                                                  []   \n",
       "81                                                  []   \n",
       "98                                                  []   \n",
       "102  ['@ChitraSundaram7', '@scooban', '@Amit_A_Tiwa...   \n",
       "126                                                 []   \n",
       "\n",
       "                            urls emojis  \\\n",
       "63   ['https://t.co/h0Jyzm4JHm']     []   \n",
       "81                            []     []   \n",
       "98                            []     []   \n",
       "102                           []     []   \n",
       "126  ['https://t.co/fDHbJ9h8GH']     []   \n",
       "\n",
       "                                       tokenized_Tweet  \\\n",
       "63   [over, of, new, covid, cases, are, six, states...   \n",
       "81   [recently, cases, in, india, is, showing, decl...   \n",
       "98   [recently, cases, in, india, is, showing, decl...   \n",
       "102  [karnataka, had, a, total, of, fresh, cases, d...   \n",
       "126  [rajasthan, reports, new, covid, cases, and, r...   \n",
       "\n",
       "                                         filteredToken  label  \n",
       "63       [new, covid, case, six, state, across, india]      1  \n",
       "81   [recently, case, india, showing, declining, tr...      1  \n",
       "98   [recently, case, india, showing, declining, tr...      1  \n",
       "102  [karnataka, total, fresh, case, death, saturda...      1  \n",
       "126  [rajasthan, report, new, covid, case, recovery...      1  "
      ]
     },
     "execution_count": 56,
     "metadata": {},
     "output_type": "execute_result"
    }
   ],
   "source": [
    "march_cluster_2.head(5)"
   ]
  },
  {
   "cell_type": "code",
   "execution_count": null,
   "metadata": {},
   "outputs": [],
   "source": [
    "march_cluster_1.to_csv('MarchCluster1Tweet.csv')\n",
    "march_cluster_2.to_csv('MarchCluster2Tweet.csv')"
   ]
  },
  {
   "cell_type": "code",
   "execution_count": null,
   "metadata": {},
   "outputs": [],
   "source": [
    "count=march['label'].value_counts()"
   ]
  },
  {
   "cell_type": "code",
   "execution_count": null,
   "metadata": {},
   "outputs": [
    {
     "data": {
      "image/png": "[encoded data removed]",
      "text/plain": [
       "<Figure size 432x288 with 1 Axes>"
      ]
     },
     "metadata": {},
     "output_type": "display_data"
    }
   ],
   "source": [
    "count=march['label'].value_counts()\n",
    "tweet_freq_cluster=[]\n",
    "tweet_freq_cluster.append(count[0])\n",
    "tweet_freq_cluster.append(count[1])\n",
    "cluster_name=['Cluster 1','Cluster 2']\n",
    "explode = [0, 0.1]\n",
    "palette_color = sns.color_palette(\"husl\", 3)\n",
    "  \n",
    "# plotting data on chart\n",
    "plt.pie(tweet_freq_cluster, labels=cluster_name, colors=palette_color,   explode=explode,autopct='%.0f%%')\n",
    "  \n",
    "# displaying chart\n",
    "plt.show()"
   ]
  },
  {
   "cell_type": "code",
   "execution_count": null,
   "metadata": {},
   "outputs": [
    {
     "data": {
      "text/plain": [
       "'Karnataka had a total of 580 fresh #Covid_19 cases &amp; 5 deaths on Saturday. Bengaluru had 367 new  cases &amp; 3 deaths. Total tests 82229 +vty rate 0.70%. Overall covid deaths in State so far: 12359 Blr: 4496  @ChitraSundaram7 @scooban @Amit_A_Tiwari @dr_asr @SunithaNahar @sun_usind'"
      ]
     },
     "execution_count": 70,
     "metadata": {},
     "output_type": "execute_result"
    }
   ],
   "source": [
    "march['tweet'][102]"
   ]
  },
  {
   "cell_type": "code",
   "execution_count": null,
   "metadata": {},
   "outputs": [],
   "source": []
  }
 ],
 "metadata": {
  "interpreter": {
   "hash": "f5077de726081cd88c6b6f65b193df0af57117231466353a74e8f1aa7856d823"
  },
  "kernelspec": {
   "display_name": "Python 3.8.8 ('base')",
   "language": "python",
   "name": "python3"
  },
  "language_info": {
   "codemirror_mode": {
    "name": "ipython",
    "version": 3
   },
   "file_extension": ".py",
   "mimetype": "text/x-python",
   "name": "python",
   "nbconvert_exporter": "python",
   "pygments_lexer": "ipython3",
   "version": "3.8.8"
  },
  "orig_nbformat": 4
 },
 "nbformat": 4,
 "nbformat_minor": 2
}
