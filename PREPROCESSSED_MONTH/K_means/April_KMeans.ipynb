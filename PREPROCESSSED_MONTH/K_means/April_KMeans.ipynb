{
 "cells": [
  {
   "cell_type": "code",
   "execution_count": 379,
   "metadata": {},
   "outputs": [],
   "source": [
    "import numpy as np \n",
    "import pandas as pd\n",
    "\n",
    "from K_means import Kmeans\n",
    "from sklearn.cluster import KMeans \n",
    "from sklearn.feature_extraction.text import TfidfVectorizer\n",
    "from sklearn.decomposition import PCA\n",
    "from sklearn.preprocessing import normalize\n",
    "from scipy.spatial.distance import cdist\n",
    "\n",
    "import string\n",
    "\n",
    "from nltk.corpus import stopwords\n",
    "\n",
    "from nltk.stem.wordnet import WordNetLemmatizer\n",
    "from nltk.stem import PorterStemmer\n",
    "from nltk.tokenize import word_tokenize\n",
    "import neattext.functions as nfx\n",
    "\n",
    "from textblob import TextBlob as tb\n",
    "from textblob import Word\n",
    "\n",
    "import matplotlib.pyplot as plt\n",
    "import seaborn as sns\n",
    "plt.style.use('ggplot')\n",
    "%matplotlib inline\n",
    "plt.style.use('fivethirtyeight')\n",
    "\n",
    "import warnings\n",
    "warnings.simplefilter('ignore')"
   ]
  },
  {
   "cell_type": "code",
   "execution_count": 380,
   "metadata": {},
   "outputs": [],
   "source": [
    "april=pd.read_csv('02_PREPROCESSED_APRIL.csv')"
   ]
  },
  {
   "cell_type": "code",
   "execution_count": 381,
   "metadata": {},
   "outputs": [],
   "source": [
    "custom_words = ['from', 'subject', 're', 'edu', 'use', 'not', 'would', 'say', 'could', '_', 'be', 'know', 'good', 'go', 'get', 'do', 'done', 'try', 'many', 'some', 'nice', 'thank', 'think', 'see', 'rather',\n",
    "                'easy', 'easily', 'lot', 'lack', 'make', 'want', 'seem', 'run', 'need', 'even', 'right', 'line', 'even', 'also', 'may', 'take', 'come', '%', '.', 'the', 'etc', 'pls', 'btw', 'let', 'hgd', 'get', 'amp', 'gt','lt','hrs','dos','say','reply','sir']"
   ]
  },
  {
   "cell_type": "code",
   "execution_count": 382,
   "metadata": {},
   "outputs": [],
   "source": [
    "for i in range(0,april.shape[0]):\n",
    "    april['clean_tweet'][i]= ''.join([i for i in april['clean_tweet'][i] if not i.isdigit()])\n",
    "    april['clean_tweet'][i]=april['clean_tweet'][i].lower()\n",
    "    april['clean_tweet'][i]=nfx.remove_custom_words(april['clean_tweet'][i],custom_words)"
   ]
  },
  {
   "cell_type": "code",
   "execution_count": 383,
   "metadata": {},
   "outputs": [],
   "source": [
    "tweets_april=april['clean_tweet']"
   ]
  },
  {
   "cell_type": "code",
   "execution_count": 384,
   "metadata": {},
   "outputs": [],
   "source": [
    "tweet_list_april = tweets_april.apply(nfx.remove_stopwords)\n",
    "tweet_list_april = tweet_list_april .apply(nfx.remove_special_characters)\n",
    "tweet_list_april = tweet_list_april.apply(nfx.remove_punctuations)"
   ]
  },
  {
   "cell_type": "code",
   "execution_count": 385,
   "metadata": {},
   "outputs": [],
   "source": [
    "def remove_single_char(list):\n",
    "    for token in list:\n",
    "        if( len(token)==1):\n",
    "            list.remove(token)\n",
    "def remove_dual_char(list):\n",
    "    for token in list:\n",
    "        if( len(token)==2):\n",
    "            list.remove(token)\n",
    "def remove_words(list1, remove_words):\n",
    "    for word in list(list1):\n",
    "        if word in remove_words:\n",
    "            list1.remove(word)\n",
    "    return list1   "
   ]
  },
  {
   "cell_type": "code",
   "execution_count": 386,
   "metadata": {},
   "outputs": [],
   "source": [
    "def Convert_list(string):\n",
    "    li = list(string.split(\" \"))\n",
    "    return li\n",
    "def listToString(s): \n",
    "    str1 = \" \" \n",
    "    return (str1.join(s))"
   ]
  },
  {
   "cell_type": "code",
   "execution_count": 387,
   "metadata": {},
   "outputs": [],
   "source": [
    "for i in range(0,april.shape[0]):\n",
    "    ls=Convert_list(tweet_list_april[i])\n",
    "    remove_single_char(ls)\n",
    "    remove_dual_char(ls)\n",
    "    ls=remove_words(ls,custom_words)\n",
    "    tweet_list_april[i]=listToString(ls)"
   ]
  },
  {
   "cell_type": "code",
   "execution_count": 388,
   "metadata": {},
   "outputs": [],
   "source": [
    "def my_lemma(token,i=0):\n",
    "    word=tb(token)\n",
    "    tags=word.tags\n",
    "    sample=Word(tags[0][0])\n",
    "    if tags[0][1][0] =='V':\n",
    "        x=sample.lemmatize('v')\n",
    "        ls[i]=x\n",
    "    else:\n",
    "        x=sample.lemmatize()\n",
    "        ls[i]=x"
   ]
  },
  {
   "cell_type": "code",
   "execution_count": 389,
   "metadata": {},
   "outputs": [],
   "source": [
    "for i in range(0,april.shape[0]):\n",
    "    ls=Convert_list(tweet_list_april[i])\n",
    "    for j in range(0,len(ls)):\n",
    "        text=ls[j]\n",
    "        if(text==\"\"):\n",
    "                continue\n",
    "        word=tb(text)\n",
    "        tags=word.tags\n",
    "        sample=Word(tags[0][0])\n",
    "        if tags[0][1][0] =='V':\n",
    "                x=sample.lemmatize('v')\n",
    "                ls[j]=x\n",
    "        else:\n",
    "                x=sample.lemmatize()\n",
    "                ls[j]=x"
   ]
  },
  {
   "cell_type": "code",
   "execution_count": 390,
   "metadata": {},
   "outputs": [],
   "source": [
    "for i in range(0,april.shape[0]):\n",
    "    ls=Convert_list(tweet_list_april[i])\n",
    "    for j in range(0,len(ls)):\n",
    "        text=ls[j]\n",
    "        if(text==\"\"):\n",
    "            continue\n",
    "        my_lemma(text,j)\n",
    "    tweet_list_april[i]=listToString(ls)"
   ]
  },
  {
   "cell_type": "code",
   "execution_count": 391,
   "metadata": {},
   "outputs": [],
   "source": [
    "for i in range(0,april.shape[0]):\n",
    "    ls=Convert_list(tweet_list_april[i])\n",
    "    ls=remove_words(ls,custom_words)\n",
    "    tweet_list_april[i]=listToString(ls)"
   ]
  },
  {
   "cell_type": "code",
   "execution_count": 392,
   "metadata": {},
   "outputs": [],
   "source": [
    "april['clean_tweet']=tweet_list_april"
   ]
  },
  {
   "cell_type": "code",
   "execution_count": 393,
   "metadata": {},
   "outputs": [
    {
     "data": {
      "text/plain": [
       "0       covid infection lead clousure jamshedpur schoo...\n",
       "1       uk glastonbury festival cinema museum governme...\n",
       "2       covid lockdown desperate watch leak cum like t...\n",
       "3       thanks orla pandemic tougher si canada hubster...\n",
       "4       strict action dp ampc premier campus faisalaba...\n",
       "                              ...                        \n",
       "2560    incarcerate population heighten risk develop s...\n",
       "2561                            bad time shopping despite\n",
       "2562    request warrior movement help needy people pan...\n",
       "2563    covid pandemic corona patient city like jaipur...\n",
       "2564    covid news corona infection increase kumbh mel...\n",
       "Name: clean_tweet, Length: 2565, dtype: object"
      ]
     },
     "execution_count": 393,
     "metadata": {},
     "output_type": "execute_result"
    }
   ],
   "source": [
    "april['clean_tweet']"
   ]
  },
  {
   "cell_type": "code",
   "execution_count": 394,
   "metadata": {},
   "outputs": [],
   "source": [
    "tweet_list_april=april['clean_tweet']\n",
    "ps=PorterStemmer()\n",
    "for i in range(0,april.shape[0]):\n",
    "    ls=april['clean_tweet'][i]\n",
    "    words = word_tokenize(ls)\n",
    "    st=\"\"\n",
    "    for w in words:\n",
    "        w=ps.stem(w)\n",
    "        st+=w+' '\n",
    "    april['clean_tweet'][i]=st\n",
    "for i in range(0,april.shape[0]):\n",
    "    ls=Convert_list(tweet_list_april[i])\n",
    "    remove_single_char(ls)\n",
    "    remove_dual_char(ls)\n",
    "    ls=remove_words(ls,custom_words)\n",
    "    tweet_list_april[i]=listToString(ls)\n",
    "april['clean_tweet']=tweet_list_april"
   ]
  },
  {
   "cell_type": "markdown",
   "metadata": {},
   "source": [
    "# K-Means"
   ]
  },
  {
   "cell_type": "code",
   "execution_count": 395,
   "metadata": {},
   "outputs": [],
   "source": [
    "data =april['clean_tweet']\n",
    "\n",
    "tf_idf_vectorizor = TfidfVectorizer(stop_words = 'english',#tokenizer = tokenize_and_stem,\n",
    "                             max_features = 20000)\n",
    "tf_idf = tf_idf_vectorizor.fit_transform(data)\n",
    "tf_idf_norm = normalize(tf_idf)\n",
    "tf_idf_array = tf_idf_norm.toarray()"
   ]
  },
  {
   "cell_type": "code",
   "execution_count": 396,
   "metadata": {},
   "outputs": [
    {
     "data": {
      "text/html": [
       "<div>\n",
       "<style scoped>\n",
       "    .dataframe tbody tr th:only-of-type {\n",
       "        vertical-align: middle;\n",
       "    }\n",
       "\n",
       "    .dataframe tbody tr th {\n",
       "        vertical-align: top;\n",
       "    }\n",
       "\n",
       "    .dataframe thead th {\n",
       "        text-align: right;\n",
       "    }\n",
       "</style>\n",
       "<table border=\"1\" class=\"dataframe\">\n",
       "  <thead>\n",
       "    <tr style=\"text-align: right;\">\n",
       "      <th></th>\n",
       "      <th>aachi</th>\n",
       "      <th>aadharcard</th>\n",
       "      <th>aadmi</th>\n",
       "      <th>aag</th>\n",
       "      <th>aaj</th>\n",
       "      <th>aameen</th>\n",
       "      <th>aap</th>\n",
       "      <th>aapki</th>\n",
       "      <th>aapn</th>\n",
       "      <th>aarahi</th>\n",
       "      <th>...</th>\n",
       "      <th>zimaa</th>\n",
       "      <th>zinda</th>\n",
       "      <th>zindabad</th>\n",
       "      <th>zonal</th>\n",
       "      <th>zone</th>\n",
       "      <th>zoneyangon</th>\n",
       "      <th>zoom</th>\n",
       "      <th>zoster</th>\n",
       "      <th>zuckerberg</th>\n",
       "      <th>zydu</th>\n",
       "    </tr>\n",
       "  </thead>\n",
       "  <tbody>\n",
       "    <tr>\n",
       "      <th>0</th>\n",
       "      <td>0.0</td>\n",
       "      <td>0.0</td>\n",
       "      <td>0.0</td>\n",
       "      <td>0.0</td>\n",
       "      <td>0.0</td>\n",
       "      <td>0.0</td>\n",
       "      <td>0.0</td>\n",
       "      <td>0.0</td>\n",
       "      <td>0.0</td>\n",
       "      <td>0.0</td>\n",
       "      <td>...</td>\n",
       "      <td>0.0</td>\n",
       "      <td>0.0</td>\n",
       "      <td>0.0</td>\n",
       "      <td>0.0</td>\n",
       "      <td>0.0</td>\n",
       "      <td>0.0</td>\n",
       "      <td>0.0</td>\n",
       "      <td>0.0</td>\n",
       "      <td>0.0</td>\n",
       "      <td>0.0</td>\n",
       "    </tr>\n",
       "    <tr>\n",
       "      <th>1</th>\n",
       "      <td>0.0</td>\n",
       "      <td>0.0</td>\n",
       "      <td>0.0</td>\n",
       "      <td>0.0</td>\n",
       "      <td>0.0</td>\n",
       "      <td>0.0</td>\n",
       "      <td>0.0</td>\n",
       "      <td>0.0</td>\n",
       "      <td>0.0</td>\n",
       "      <td>0.0</td>\n",
       "      <td>...</td>\n",
       "      <td>0.0</td>\n",
       "      <td>0.0</td>\n",
       "      <td>0.0</td>\n",
       "      <td>0.0</td>\n",
       "      <td>0.0</td>\n",
       "      <td>0.0</td>\n",
       "      <td>0.0</td>\n",
       "      <td>0.0</td>\n",
       "      <td>0.0</td>\n",
       "      <td>0.0</td>\n",
       "    </tr>\n",
       "    <tr>\n",
       "      <th>2</th>\n",
       "      <td>0.0</td>\n",
       "      <td>0.0</td>\n",
       "      <td>0.0</td>\n",
       "      <td>0.0</td>\n",
       "      <td>0.0</td>\n",
       "      <td>0.0</td>\n",
       "      <td>0.0</td>\n",
       "      <td>0.0</td>\n",
       "      <td>0.0</td>\n",
       "      <td>0.0</td>\n",
       "      <td>...</td>\n",
       "      <td>0.0</td>\n",
       "      <td>0.0</td>\n",
       "      <td>0.0</td>\n",
       "      <td>0.0</td>\n",
       "      <td>0.0</td>\n",
       "      <td>0.0</td>\n",
       "      <td>0.0</td>\n",
       "      <td>0.0</td>\n",
       "      <td>0.0</td>\n",
       "      <td>0.0</td>\n",
       "    </tr>\n",
       "    <tr>\n",
       "      <th>3</th>\n",
       "      <td>0.0</td>\n",
       "      <td>0.0</td>\n",
       "      <td>0.0</td>\n",
       "      <td>0.0</td>\n",
       "      <td>0.0</td>\n",
       "      <td>0.0</td>\n",
       "      <td>0.0</td>\n",
       "      <td>0.0</td>\n",
       "      <td>0.0</td>\n",
       "      <td>0.0</td>\n",
       "      <td>...</td>\n",
       "      <td>0.0</td>\n",
       "      <td>0.0</td>\n",
       "      <td>0.0</td>\n",
       "      <td>0.0</td>\n",
       "      <td>0.0</td>\n",
       "      <td>0.0</td>\n",
       "      <td>0.0</td>\n",
       "      <td>0.0</td>\n",
       "      <td>0.0</td>\n",
       "      <td>0.0</td>\n",
       "    </tr>\n",
       "    <tr>\n",
       "      <th>4</th>\n",
       "      <td>0.0</td>\n",
       "      <td>0.0</td>\n",
       "      <td>0.0</td>\n",
       "      <td>0.0</td>\n",
       "      <td>0.0</td>\n",
       "      <td>0.0</td>\n",
       "      <td>0.0</td>\n",
       "      <td>0.0</td>\n",
       "      <td>0.0</td>\n",
       "      <td>0.0</td>\n",
       "      <td>...</td>\n",
       "      <td>0.0</td>\n",
       "      <td>0.0</td>\n",
       "      <td>0.0</td>\n",
       "      <td>0.0</td>\n",
       "      <td>0.0</td>\n",
       "      <td>0.0</td>\n",
       "      <td>0.0</td>\n",
       "      <td>0.0</td>\n",
       "      <td>0.0</td>\n",
       "      <td>0.0</td>\n",
       "    </tr>\n",
       "    <tr>\n",
       "      <th>...</th>\n",
       "      <td>...</td>\n",
       "      <td>...</td>\n",
       "      <td>...</td>\n",
       "      <td>...</td>\n",
       "      <td>...</td>\n",
       "      <td>...</td>\n",
       "      <td>...</td>\n",
       "      <td>...</td>\n",
       "      <td>...</td>\n",
       "      <td>...</td>\n",
       "      <td>...</td>\n",
       "      <td>...</td>\n",
       "      <td>...</td>\n",
       "      <td>...</td>\n",
       "      <td>...</td>\n",
       "      <td>...</td>\n",
       "      <td>...</td>\n",
       "      <td>...</td>\n",
       "      <td>...</td>\n",
       "      <td>...</td>\n",
       "      <td>...</td>\n",
       "    </tr>\n",
       "    <tr>\n",
       "      <th>2560</th>\n",
       "      <td>0.0</td>\n",
       "      <td>0.0</td>\n",
       "      <td>0.0</td>\n",
       "      <td>0.0</td>\n",
       "      <td>0.0</td>\n",
       "      <td>0.0</td>\n",
       "      <td>0.0</td>\n",
       "      <td>0.0</td>\n",
       "      <td>0.0</td>\n",
       "      <td>0.0</td>\n",
       "      <td>...</td>\n",
       "      <td>0.0</td>\n",
       "      <td>0.0</td>\n",
       "      <td>0.0</td>\n",
       "      <td>0.0</td>\n",
       "      <td>0.0</td>\n",
       "      <td>0.0</td>\n",
       "      <td>0.0</td>\n",
       "      <td>0.0</td>\n",
       "      <td>0.0</td>\n",
       "      <td>0.0</td>\n",
       "    </tr>\n",
       "    <tr>\n",
       "      <th>2561</th>\n",
       "      <td>0.0</td>\n",
       "      <td>0.0</td>\n",
       "      <td>0.0</td>\n",
       "      <td>0.0</td>\n",
       "      <td>0.0</td>\n",
       "      <td>0.0</td>\n",
       "      <td>0.0</td>\n",
       "      <td>0.0</td>\n",
       "      <td>0.0</td>\n",
       "      <td>0.0</td>\n",
       "      <td>...</td>\n",
       "      <td>0.0</td>\n",
       "      <td>0.0</td>\n",
       "      <td>0.0</td>\n",
       "      <td>0.0</td>\n",
       "      <td>0.0</td>\n",
       "      <td>0.0</td>\n",
       "      <td>0.0</td>\n",
       "      <td>0.0</td>\n",
       "      <td>0.0</td>\n",
       "      <td>0.0</td>\n",
       "    </tr>\n",
       "    <tr>\n",
       "      <th>2562</th>\n",
       "      <td>0.0</td>\n",
       "      <td>0.0</td>\n",
       "      <td>0.0</td>\n",
       "      <td>0.0</td>\n",
       "      <td>0.0</td>\n",
       "      <td>0.0</td>\n",
       "      <td>0.0</td>\n",
       "      <td>0.0</td>\n",
       "      <td>0.0</td>\n",
       "      <td>0.0</td>\n",
       "      <td>...</td>\n",
       "      <td>0.0</td>\n",
       "      <td>0.0</td>\n",
       "      <td>0.0</td>\n",
       "      <td>0.0</td>\n",
       "      <td>0.0</td>\n",
       "      <td>0.0</td>\n",
       "      <td>0.0</td>\n",
       "      <td>0.0</td>\n",
       "      <td>0.0</td>\n",
       "      <td>0.0</td>\n",
       "    </tr>\n",
       "    <tr>\n",
       "      <th>2563</th>\n",
       "      <td>0.0</td>\n",
       "      <td>0.0</td>\n",
       "      <td>0.0</td>\n",
       "      <td>0.0</td>\n",
       "      <td>0.0</td>\n",
       "      <td>0.0</td>\n",
       "      <td>0.0</td>\n",
       "      <td>0.0</td>\n",
       "      <td>0.0</td>\n",
       "      <td>0.0</td>\n",
       "      <td>...</td>\n",
       "      <td>0.0</td>\n",
       "      <td>0.0</td>\n",
       "      <td>0.0</td>\n",
       "      <td>0.0</td>\n",
       "      <td>0.0</td>\n",
       "      <td>0.0</td>\n",
       "      <td>0.0</td>\n",
       "      <td>0.0</td>\n",
       "      <td>0.0</td>\n",
       "      <td>0.0</td>\n",
       "    </tr>\n",
       "    <tr>\n",
       "      <th>2564</th>\n",
       "      <td>0.0</td>\n",
       "      <td>0.0</td>\n",
       "      <td>0.0</td>\n",
       "      <td>0.0</td>\n",
       "      <td>0.0</td>\n",
       "      <td>0.0</td>\n",
       "      <td>0.0</td>\n",
       "      <td>0.0</td>\n",
       "      <td>0.0</td>\n",
       "      <td>0.0</td>\n",
       "      <td>...</td>\n",
       "      <td>0.0</td>\n",
       "      <td>0.0</td>\n",
       "      <td>0.0</td>\n",
       "      <td>0.0</td>\n",
       "      <td>0.0</td>\n",
       "      <td>0.0</td>\n",
       "      <td>0.0</td>\n",
       "      <td>0.0</td>\n",
       "      <td>0.0</td>\n",
       "      <td>0.0</td>\n",
       "    </tr>\n",
       "  </tbody>\n",
       "</table>\n",
       "<p>2565 rows × 5925 columns</p>\n",
       "</div>"
      ],
      "text/plain": [
       "      aachi  aadharcard  aadmi  aag  aaj  aameen  aap  aapki  aapn  aarahi  \\\n",
       "0       0.0         0.0    0.0  0.0  0.0     0.0  0.0    0.0   0.0     0.0   \n",
       "1       0.0         0.0    0.0  0.0  0.0     0.0  0.0    0.0   0.0     0.0   \n",
       "2       0.0         0.0    0.0  0.0  0.0     0.0  0.0    0.0   0.0     0.0   \n",
       "3       0.0         0.0    0.0  0.0  0.0     0.0  0.0    0.0   0.0     0.0   \n",
       "4       0.0         0.0    0.0  0.0  0.0     0.0  0.0    0.0   0.0     0.0   \n",
       "...     ...         ...    ...  ...  ...     ...  ...    ...   ...     ...   \n",
       "2560    0.0         0.0    0.0  0.0  0.0     0.0  0.0    0.0   0.0     0.0   \n",
       "2561    0.0         0.0    0.0  0.0  0.0     0.0  0.0    0.0   0.0     0.0   \n",
       "2562    0.0         0.0    0.0  0.0  0.0     0.0  0.0    0.0   0.0     0.0   \n",
       "2563    0.0         0.0    0.0  0.0  0.0     0.0  0.0    0.0   0.0     0.0   \n",
       "2564    0.0         0.0    0.0  0.0  0.0     0.0  0.0    0.0   0.0     0.0   \n",
       "\n",
       "      ...  zimaa  zinda  zindabad  zonal  zone  zoneyangon  zoom  zoster  \\\n",
       "0     ...    0.0    0.0       0.0    0.0   0.0         0.0   0.0     0.0   \n",
       "1     ...    0.0    0.0       0.0    0.0   0.0         0.0   0.0     0.0   \n",
       "2     ...    0.0    0.0       0.0    0.0   0.0         0.0   0.0     0.0   \n",
       "3     ...    0.0    0.0       0.0    0.0   0.0         0.0   0.0     0.0   \n",
       "4     ...    0.0    0.0       0.0    0.0   0.0         0.0   0.0     0.0   \n",
       "...   ...    ...    ...       ...    ...   ...         ...   ...     ...   \n",
       "2560  ...    0.0    0.0       0.0    0.0   0.0         0.0   0.0     0.0   \n",
       "2561  ...    0.0    0.0       0.0    0.0   0.0         0.0   0.0     0.0   \n",
       "2562  ...    0.0    0.0       0.0    0.0   0.0         0.0   0.0     0.0   \n",
       "2563  ...    0.0    0.0       0.0    0.0   0.0         0.0   0.0     0.0   \n",
       "2564  ...    0.0    0.0       0.0    0.0   0.0         0.0   0.0     0.0   \n",
       "\n",
       "      zuckerberg  zydu  \n",
       "0            0.0   0.0  \n",
       "1            0.0   0.0  \n",
       "2            0.0   0.0  \n",
       "3            0.0   0.0  \n",
       "4            0.0   0.0  \n",
       "...          ...   ...  \n",
       "2560         0.0   0.0  \n",
       "2561         0.0   0.0  \n",
       "2562         0.0   0.0  \n",
       "2563         0.0   0.0  \n",
       "2564         0.0   0.0  \n",
       "\n",
       "[2565 rows x 5925 columns]"
      ]
     },
     "execution_count": 396,
     "metadata": {},
     "output_type": "execute_result"
    }
   ],
   "source": [
    "pd.DataFrame(tf_idf_array, columns=tf_idf_vectorizor.get_feature_names())"
   ]
  },
  {
   "cell_type": "code",
   "execution_count": 397,
   "metadata": {},
   "outputs": [
    {
     "data": {
      "image/png": "[encoded data removed]",
      "text/plain": [
       "<Figure size 432x288 with 1 Axes>"
      ]
     },
     "metadata": {},
     "output_type": "display_data"
    }
   ],
   "source": [
    "sklearn_pca = PCA(n_components = 2)\n",
    "Y_sklearn = sklearn_pca.fit_transform(tf_idf_array)\n",
    "kmeans_kwargs = {\"init\": \"k-means++\",\"n_init\": 2,\"max_iter\": 1000,\"random_state\": 42,}\n",
    "# A list holds the SSE values for each k\n",
    "sse = []\n",
    "for k in range(1, 11):\n",
    "    kmeans = KMeans(n_clusters=k, **kmeans_kwargs)\n",
    "    kmeans.fit(Y_sklearn)\n",
    "    sse.append(kmeans.inertia_)\n",
    "plt.style.use(\"fivethirtyeight\")\n",
    "plt.plot(range(1, 11), sse)\n",
    "plt.plot(range(1, 11), sse,'r*')\n",
    "plt.xticks(range(1, 11))\n",
    "plt.yticks(range(0,60,10))\n",
    "plt.xlabel(\"Number of Clusters\")\n",
    "plt.ylabel(\"SSE\")\n",
    "plt.show()"
   ]
  },
  {
   "cell_type": "code",
   "execution_count": 398,
   "metadata": {},
   "outputs": [
    {
     "name": "stdout",
     "output_type": "stream",
     "text": [
      "For n_clusters = 2 The average silhouette_score is : 0.44015121662831413\n",
      "For n_clusters = 3 The average silhouette_score is : 0.47669285247560417\n",
      "For n_clusters = 4 The average silhouette_score is : 0.38995805240582765\n",
      "For n_clusters = 5 The average silhouette_score is : 0.42033334761216495\n",
      "For n_clusters = 6 The average silhouette_score is : 0.4075858748700603\n",
      "For n_clusters = 7 The average silhouette_score is : 0.4024594377000644\n",
      "For n_clusters = 8 The average silhouette_score is : 0.40475367302229887\n",
      "For n_clusters = 9 The average silhouette_score is : 0.346070868621494\n",
      "For n_clusters = 10 The average silhouette_score is : 0.3622091312774381\n"
     ]
    },
    {
     "data": {
      "image/png": "[encoded data removed]",
      "text/plain": [
       "<Figure size 432x288 with 1 Axes>"
      ]
     },
     "metadata": {},
     "output_type": "display_data"
    }
   ],
   "source": [
    "from sklearn.metrics import silhouette_samples, silhouette_score\n",
    "import matplotlib.style as style\n",
    "range_n_clusters = [2, 3, 4, 5, 6,7,8,9,10]\n",
    "silhouette_avg_n_clusters = []\n",
    "\n",
    "for n_clusters in range_n_clusters:\n",
    "    clusterer = KMeans(n_clusters=n_clusters, **kmeans_kwargs)\n",
    "    cluster_labels = clusterer.fit_predict(Y_sklearn)\n",
    "\n",
    "    # The silhouette_score gives the average value for all the samples.\n",
    "    # This gives a perspective into the density and separation of the formed\n",
    "    # clusters\n",
    "    silhouette_avg = silhouette_score(Y_sklearn, cluster_labels)\n",
    "    print(\"For n_clusters =\", n_clusters,\n",
    "          \"The average silhouette_score is :\", silhouette_avg)\n",
    "\n",
    "    silhouette_avg_n_clusters.append(silhouette_avg)\n",
    "    # Compute the silhouette scores for each sample\n",
    "    sample_silhouette_values = silhouette_samples(Y_sklearn, cluster_labels)\n",
    "style.use(\"fivethirtyeight\")\n",
    "plt.plot(range_n_clusters, silhouette_avg_n_clusters)\n",
    "plt.xlabel(\"Number of Clusters (k)\")\n",
    "plt.ylabel(\"silhouette score\")\n",
    "plt.xticks(range(1, 11))\n",
    "plt.show()"
   ]
  },
  {
   "cell_type": "code",
   "execution_count": 422,
   "metadata": {},
   "outputs": [
    {
     "data": {
      "text/plain": [
       "Text(0.5, 1.0, 'April')"
      ]
     },
     "execution_count": 422,
     "metadata": {},
     "output_type": "execute_result"
    },
    {
     "data": {
      "image/png": "[encoded data removed]",
      "text/plain": [
       "<Figure size 432x288 with 1 Axes>"
      ]
     },
     "metadata": {},
     "output_type": "display_data"
    }
   ],
   "source": [
    "sklearn_pca = PCA(n_components = 2)\n",
    "Y_sklearn = sklearn_pca.fit_transform(tf_idf_array)\n",
    "kmeans = KMeans(n_clusters=3, max_iter=1000,n_init=2, algorithm = 'auto')\n",
    "fitted = kmeans.fit(Y_sklearn)\n",
    "prediction = kmeans.predict(Y_sklearn)\n",
    "\n",
    "centers = fitted.cluster_centers_\n",
    "plt.scatter(Y_sklearn[:, 0], Y_sklearn[:, 1], c=prediction, s=50, cmap='viridis')\n",
    "plt.scatter(centers[:, 0], centers[:, 1],c='red', s=50, alpha=0.6);\n",
    "plt.title('April',fontsize=20)\n",
    "# plt.xlabel(\"Feature space for the 1st feature\")\n",
    "# plt.ylabel(\"Feature space for the 2nd feature\")"
   ]
  },
  {
   "cell_type": "code",
   "execution_count": 400,
   "metadata": {},
   "outputs": [],
   "source": [
    "labels = np.unique(prediction)\n",
    "dfs1 = []\n",
    "for label in labels:\n",
    "    id_temp = np.where(prediction==label) \n",
    "    x_means = np.mean(tf_idf_array[id_temp], axis = 0) # returns average score across cluster\n",
    "    sorted_means = np.argsort(x_means)[::-1]\n",
    "    features = tf_idf_vectorizor.get_feature_names()\n",
    "    best_features = [(features[i], x_means[i]) for i in sorted_means]\n",
    "    df = pd.DataFrame(best_features, columns = ['features', 'score'])\n",
    "    dfs1.append(df)"
   ]
  },
  {
   "cell_type": "code",
   "execution_count": 401,
   "metadata": {},
   "outputs": [
    {
     "data": {
      "text/html": [
       "<div>\n",
       "<style scoped>\n",
       "    .dataframe tbody tr th:only-of-type {\n",
       "        vertical-align: middle;\n",
       "    }\n",
       "\n",
       "    .dataframe tbody tr th {\n",
       "        vertical-align: top;\n",
       "    }\n",
       "\n",
       "    .dataframe thead th {\n",
       "        text-align: right;\n",
       "    }\n",
       "</style>\n",
       "<table border=\"1\" class=\"dataframe\">\n",
       "  <thead>\n",
       "    <tr style=\"text-align: right;\">\n",
       "      <th></th>\n",
       "      <th>features</th>\n",
       "      <th>score</th>\n",
       "    </tr>\n",
       "  </thead>\n",
       "  <tbody>\n",
       "    <tr>\n",
       "      <th>0</th>\n",
       "      <td>case</td>\n",
       "      <td>0.222580</td>\n",
       "    </tr>\n",
       "    <tr>\n",
       "      <th>1</th>\n",
       "      <td>covid</td>\n",
       "      <td>0.119155</td>\n",
       "    </tr>\n",
       "    <tr>\n",
       "      <th>2</th>\n",
       "      <td>death</td>\n",
       "      <td>0.084439</td>\n",
       "    </tr>\n",
       "    <tr>\n",
       "      <th>3</th>\n",
       "      <td>new</td>\n",
       "      <td>0.083046</td>\n",
       "    </tr>\n",
       "    <tr>\n",
       "      <th>4</th>\n",
       "      <td>day</td>\n",
       "      <td>0.076522</td>\n",
       "    </tr>\n",
       "    <tr>\n",
       "      <th>...</th>\n",
       "      <td>...</td>\n",
       "      <td>...</td>\n",
       "    </tr>\n",
       "    <tr>\n",
       "      <th>5920</th>\n",
       "      <td>percepect</td>\n",
       "      <td>0.000000</td>\n",
       "    </tr>\n",
       "    <tr>\n",
       "      <th>5921</th>\n",
       "      <td>perfect</td>\n",
       "      <td>0.000000</td>\n",
       "    </tr>\n",
       "    <tr>\n",
       "      <th>5922</th>\n",
       "      <td>perfection</td>\n",
       "      <td>0.000000</td>\n",
       "    </tr>\n",
       "    <tr>\n",
       "      <th>5923</th>\n",
       "      <td>perform</td>\n",
       "      <td>0.000000</td>\n",
       "    </tr>\n",
       "    <tr>\n",
       "      <th>5924</th>\n",
       "      <td>aachi</td>\n",
       "      <td>0.000000</td>\n",
       "    </tr>\n",
       "  </tbody>\n",
       "</table>\n",
       "<p>5925 rows × 2 columns</p>\n",
       "</div>"
      ],
      "text/plain": [
       "        features     score\n",
       "0           case  0.222580\n",
       "1          covid  0.119155\n",
       "2          death  0.084439\n",
       "3            new  0.083046\n",
       "4            day  0.076522\n",
       "...          ...       ...\n",
       "5920   percepect  0.000000\n",
       "5921     perfect  0.000000\n",
       "5922  perfection  0.000000\n",
       "5923     perform  0.000000\n",
       "5924       aachi  0.000000\n",
       "\n",
       "[5925 rows x 2 columns]"
      ]
     },
     "execution_count": 401,
     "metadata": {},
     "output_type": "execute_result"
    }
   ],
   "source": [
    "dfs1[0]"
   ]
  },
  {
   "cell_type": "code",
   "execution_count": 402,
   "metadata": {},
   "outputs": [
    {
     "data": {
      "text/html": [
       "<div>\n",
       "<style scoped>\n",
       "    .dataframe tbody tr th:only-of-type {\n",
       "        vertical-align: middle;\n",
       "    }\n",
       "\n",
       "    .dataframe tbody tr th {\n",
       "        vertical-align: top;\n",
       "    }\n",
       "\n",
       "    .dataframe thead th {\n",
       "        text-align: right;\n",
       "    }\n",
       "</style>\n",
       "<table border=\"1\" class=\"dataframe\">\n",
       "  <thead>\n",
       "    <tr style=\"text-align: right;\">\n",
       "      <th></th>\n",
       "      <th>features</th>\n",
       "      <th>score</th>\n",
       "    </tr>\n",
       "  </thead>\n",
       "  <tbody>\n",
       "    <tr>\n",
       "      <th>0</th>\n",
       "      <td>covid</td>\n",
       "      <td>0.057177</td>\n",
       "    </tr>\n",
       "    <tr>\n",
       "      <th>1</th>\n",
       "      <td>vaccin</td>\n",
       "      <td>0.041706</td>\n",
       "    </tr>\n",
       "    <tr>\n",
       "      <th>2</th>\n",
       "      <td>peopl</td>\n",
       "      <td>0.019429</td>\n",
       "    </tr>\n",
       "    <tr>\n",
       "      <th>3</th>\n",
       "      <td>help</td>\n",
       "      <td>0.018791</td>\n",
       "    </tr>\n",
       "    <tr>\n",
       "      <th>4</th>\n",
       "      <td>hospit</td>\n",
       "      <td>0.017859</td>\n",
       "    </tr>\n",
       "    <tr>\n",
       "      <th>...</th>\n",
       "      <td>...</td>\n",
       "      <td>...</td>\n",
       "    </tr>\n",
       "    <tr>\n",
       "      <th>5920</th>\n",
       "      <td>democrat</td>\n",
       "      <td>0.000000</td>\n",
       "    </tr>\n",
       "    <tr>\n",
       "      <th>5921</th>\n",
       "      <td>dene</td>\n",
       "      <td>0.000000</td>\n",
       "    </tr>\n",
       "    <tr>\n",
       "      <th>5922</th>\n",
       "      <td>khalitani</td>\n",
       "      <td>0.000000</td>\n",
       "    </tr>\n",
       "    <tr>\n",
       "      <th>5923</th>\n",
       "      <td>dental</td>\n",
       "      <td>0.000000</td>\n",
       "    </tr>\n",
       "    <tr>\n",
       "      <th>5924</th>\n",
       "      <td>reviv</td>\n",
       "      <td>0.000000</td>\n",
       "    </tr>\n",
       "  </tbody>\n",
       "</table>\n",
       "<p>5925 rows × 2 columns</p>\n",
       "</div>"
      ],
      "text/plain": [
       "       features     score\n",
       "0         covid  0.057177\n",
       "1        vaccin  0.041706\n",
       "2         peopl  0.019429\n",
       "3          help  0.018791\n",
       "4        hospit  0.017859\n",
       "...         ...       ...\n",
       "5920   democrat  0.000000\n",
       "5921       dene  0.000000\n",
       "5922  khalitani  0.000000\n",
       "5923     dental  0.000000\n",
       "5924      reviv  0.000000\n",
       "\n",
       "[5925 rows x 2 columns]"
      ]
     },
     "execution_count": 402,
     "metadata": {},
     "output_type": "execute_result"
    }
   ],
   "source": [
    "dfs1[1]"
   ]
  },
  {
   "cell_type": "code",
   "execution_count": 403,
   "metadata": {},
   "outputs": [
    {
     "data": {
      "text/html": [
       "<div>\n",
       "<style scoped>\n",
       "    .dataframe tbody tr th:only-of-type {\n",
       "        vertical-align: middle;\n",
       "    }\n",
       "\n",
       "    .dataframe tbody tr th {\n",
       "        vertical-align: top;\n",
       "    }\n",
       "\n",
       "    .dataframe thead th {\n",
       "        text-align: right;\n",
       "    }\n",
       "</style>\n",
       "<table border=\"1\" class=\"dataframe\">\n",
       "  <thead>\n",
       "    <tr style=\"text-align: right;\">\n",
       "      <th></th>\n",
       "      <th>features</th>\n",
       "      <th>score</th>\n",
       "    </tr>\n",
       "  </thead>\n",
       "  <tbody>\n",
       "    <tr>\n",
       "      <th>0</th>\n",
       "      <td>corona</td>\n",
       "      <td>0.123484</td>\n",
       "    </tr>\n",
       "    <tr>\n",
       "      <th>1</th>\n",
       "      <td>curfew</td>\n",
       "      <td>0.080931</td>\n",
       "    </tr>\n",
       "    <tr>\n",
       "      <th>2</th>\n",
       "      <td>night</td>\n",
       "      <td>0.068465</td>\n",
       "    </tr>\n",
       "    <tr>\n",
       "      <th>3</th>\n",
       "      <td>viru</td>\n",
       "      <td>0.041892</td>\n",
       "    </tr>\n",
       "    <tr>\n",
       "      <th>4</th>\n",
       "      <td>day</td>\n",
       "      <td>0.023813</td>\n",
       "    </tr>\n",
       "    <tr>\n",
       "      <th>...</th>\n",
       "      <td>...</td>\n",
       "      <td>...</td>\n",
       "    </tr>\n",
       "    <tr>\n",
       "      <th>5920</th>\n",
       "      <td>nois</td>\n",
       "      <td>0.000000</td>\n",
       "    </tr>\n",
       "    <tr>\n",
       "      <th>5921</th>\n",
       "      <td>nom</td>\n",
       "      <td>0.000000</td>\n",
       "    </tr>\n",
       "    <tr>\n",
       "      <th>5922</th>\n",
       "      <td>nonbail</td>\n",
       "      <td>0.000000</td>\n",
       "    </tr>\n",
       "    <tr>\n",
       "      <th>5923</th>\n",
       "      <td>nonmuslimveri</td>\n",
       "      <td>0.000000</td>\n",
       "    </tr>\n",
       "    <tr>\n",
       "      <th>5924</th>\n",
       "      <td>aachi</td>\n",
       "      <td>0.000000</td>\n",
       "    </tr>\n",
       "  </tbody>\n",
       "</table>\n",
       "<p>5925 rows × 2 columns</p>\n",
       "</div>"
      ],
      "text/plain": [
       "           features     score\n",
       "0            corona  0.123484\n",
       "1            curfew  0.080931\n",
       "2             night  0.068465\n",
       "3              viru  0.041892\n",
       "4               day  0.023813\n",
       "...             ...       ...\n",
       "5920           nois  0.000000\n",
       "5921            nom  0.000000\n",
       "5922        nonbail  0.000000\n",
       "5923  nonmuslimveri  0.000000\n",
       "5924          aachi  0.000000\n",
       "\n",
       "[5925 rows x 2 columns]"
      ]
     },
     "execution_count": 403,
     "metadata": {},
     "output_type": "execute_result"
    }
   ],
   "source": [
    "dfs1[2]"
   ]
  },
  {
   "cell_type": "code",
   "execution_count": 404,
   "metadata": {},
   "outputs": [],
   "source": [
    "def get_top_features_cluster(tf_idf_array, prediction, n_feats):\n",
    "    labels = np.unique(prediction)\n",
    "    dfs = []\n",
    "    for label in labels:\n",
    "        id_temp = np.where(prediction==label) # indices for each cluster\n",
    "        x_means = np.mean(tf_idf_array[id_temp], axis = 0) # returns average score across cluster\n",
    "        sorted_means = np.argsort(x_means)[::-1][:n_feats] # indices with top 20 scores\n",
    "        features = tf_idf_vectorizor.get_feature_names()\n",
    "        best_features = [(features[i], x_means[i]) for i in sorted_means]\n",
    "        df = pd.DataFrame(best_features, columns = ['features', 'score'])\n",
    "        dfs.append(df)\n",
    "    return dfs\n",
    "dfs = get_top_features_cluster(tf_idf_array, prediction, 10)"
   ]
  },
  {
   "cell_type": "code",
   "execution_count": 405,
   "metadata": {},
   "outputs": [],
   "source": [
    "april_cluster=dfs"
   ]
  },
  {
   "cell_type": "code",
   "execution_count": 425,
   "metadata": {},
   "outputs": [
    {
     "data": {
      "image/png": "[encoded data removed]",
      "text/plain": [
       "<Figure size 1440x720 with 1 Axes>"
      ]
     },
     "metadata": {},
     "output_type": "display_data"
    }
   ],
   "source": [
    "\n",
    "# Figure Size\n",
    "fig = plt.figure(figsize =(20, 10))\n",
    " \n",
    "# Horizontal Bar Plot\n",
    "sns.barplot(x='features',y='score',data=april_cluster[0]).set(title=\"Features of Cluster 2 of April\")\n",
    "plt.xlabel('Features',fontsize=20)\n",
    "plt.ylabel('Scores',fontsize=20)\n",
    "plt.xticks(rotation=45)\n",
    "# Show Plot\n",
    "plt.show()"
   ]
  },
  {
   "cell_type": "code",
   "execution_count": 424,
   "metadata": {},
   "outputs": [
    {
     "data": {
      "image/png": "[encoded data removed]",
      "text/plain": [
       "<Figure size 1440x720 with 1 Axes>"
      ]
     },
     "metadata": {},
     "output_type": "display_data"
    }
   ],
   "source": [
    "\n",
    "# Figure Size\n",
    "fig = plt.figure(figsize =(20, 10))\n",
    " \n",
    "# Horizontal Bar Plot\n",
    "sns.barplot(x='features',y='score',data=april_cluster[1]).set(title=\"Features of Cluster 1 of April\")\n",
    "plt.xlabel('Features',fontsize=20)\n",
    "plt.ylabel('Scores',fontsize=20)\n",
    "plt.xticks(rotation=45)\n",
    "# Show Plot\n",
    "plt.show()"
   ]
  },
  {
   "cell_type": "code",
   "execution_count": 426,
   "metadata": {},
   "outputs": [
    {
     "data": {
      "image/png": "[encoded data removed]",
      "text/plain": [
       "<Figure size 1440x720 with 1 Axes>"
      ]
     },
     "metadata": {},
     "output_type": "display_data"
    }
   ],
   "source": [
    "\n",
    "# Figure Size\n",
    "fig = plt.figure(figsize =(20, 10))\n",
    " \n",
    "# Horizontal Bar Plot\n",
    "sns.barplot(x='features',y='score',data=april_cluster[2]).set(title=\"Features of Cluster 3 of April\")\n",
    "plt.xlabel('Features',fontsize=20)\n",
    "plt.ylabel('Scores',fontsize=20)\n",
    "plt.xticks(rotation=45)\n",
    "# Show Plot\n",
    "plt.show()"
   ]
  },
  {
   "cell_type": "code",
   "execution_count": 409,
   "metadata": {},
   "outputs": [],
   "source": [
    "K3=dfs1[2]\n",
    "K1=dfs1[0]\n",
    "K2=dfs1[1]"
   ]
  },
  {
   "cell_type": "code",
   "execution_count": 410,
   "metadata": {},
   "outputs": [],
   "source": [
    "april_bw=pd.read_csv('AprilTopWords.csv')"
   ]
  },
  {
   "cell_type": "code",
   "execution_count": 411,
   "metadata": {},
   "outputs": [],
   "source": [
    "t=april_bw[:30]"
   ]
  },
  {
   "cell_type": "code",
   "execution_count": 412,
   "metadata": {},
   "outputs": [],
   "source": [
    "c1=[]\n",
    "p=0\n",
    "c2=[]\n",
    "q=0\n",
    "c3=[]\n",
    "x=0\n",
    "for i in range(0,30):\n",
    "    for j in range(0,100):\n",
    "        if(t.words[i]==K1['features'][j]):\n",
    "            c1.append(K1['features'][j])\n",
    "            p=p+1\n",
    "for i in range(0,30):\n",
    "    for j in range(0,100):\n",
    "        if(t.words[i]==K2['features'][j]):\n",
    "            c2.append(K1['features'][j])\n",
    "            q=q+1\n",
    "for i in range(0,30):\n",
    "    for j in range(0,100):\n",
    "        if(t.words[i]==K3['features'][j]):\n",
    "            c3.append(K3['features'][j])\n",
    "            x=x+1"
   ]
  },
  {
   "cell_type": "code",
   "execution_count": 413,
   "metadata": {},
   "outputs": [
    {
     "name": "stdout",
     "output_type": "stream",
     "text": [
      "20\n",
      "27\n",
      "20\n"
     ]
    }
   ],
   "source": [
    "\n",
    "print(p)\n",
    "print(q)\n",
    "print(x)"
   ]
  },
  {
   "cell_type": "markdown",
   "metadata": {},
   "source": [
    "### Tweet Grouping"
   ]
  },
  {
   "cell_type": "code",
   "execution_count": 414,
   "metadata": {},
   "outputs": [
    {
     "data": {
      "text/html": [
       "<div>\n",
       "<style scoped>\n",
       "    .dataframe tbody tr th:only-of-type {\n",
       "        vertical-align: middle;\n",
       "    }\n",
       "\n",
       "    .dataframe tbody tr th {\n",
       "        vertical-align: top;\n",
       "    }\n",
       "\n",
       "    .dataframe thead th {\n",
       "        text-align: right;\n",
       "    }\n",
       "</style>\n",
       "<table border=\"1\" class=\"dataframe\">\n",
       "  <thead>\n",
       "    <tr style=\"text-align: right;\">\n",
       "      <th></th>\n",
       "      <th>tweet</th>\n",
       "      <th>clean_tweet</th>\n",
       "      <th>hastags</th>\n",
       "      <th>attherate</th>\n",
       "      <th>urls</th>\n",
       "      <th>emojis</th>\n",
       "      <th>label</th>\n",
       "    </tr>\n",
       "  </thead>\n",
       "  <tbody>\n",
       "    <tr>\n",
       "      <th>0</th>\n",
       "      <td>COVID infection leads to clousure of two Jamsh...</td>\n",
       "      <td>covid infect lead clousur jamshedpur school db...</td>\n",
       "      <td>[]</td>\n",
       "      <td>['@HemantSorenJMM', '@DCEastSinghbhum', '@Bann...</td>\n",
       "      <td>[]</td>\n",
       "      <td>[]</td>\n",
       "      <td>1</td>\n",
       "    </tr>\n",
       "    <tr>\n",
       "      <th>1</th>\n",
       "      <td>UK's Glastonbury Festival, cinemas, museums ge...</td>\n",
       "      <td>glastonburi festiv cinema museum govern cash s...</td>\n",
       "      <td>['#Sipgrab', '#UnitingPeopleWithThePossibiliti...</td>\n",
       "      <td>[]</td>\n",
       "      <td>['https://t.co/zsvvfaO49b']</td>\n",
       "      <td>[]</td>\n",
       "      <td>1</td>\n",
       "    </tr>\n",
       "    <tr>\n",
       "      <th>2</th>\n",
       "      <td>These covid lockdowns make me desperate than e...</td>\n",
       "      <td>covid lockdown desper watch leak cum like true...</td>\n",
       "      <td>['#sissyclit', '#ExposedSissySlut', '#sissy', ...</td>\n",
       "      <td>[]</td>\n",
       "      <td>['https://t.co/RB7Dse2yYF']</td>\n",
       "      <td>[]</td>\n",
       "      <td>1</td>\n",
       "    </tr>\n",
       "  </tbody>\n",
       "</table>\n",
       "</div>"
      ],
      "text/plain": [
       "                                               tweet  \\\n",
       "0  COVID infection leads to clousure of two Jamsh...   \n",
       "1  UK's Glastonbury Festival, cinemas, museums ge...   \n",
       "2  These covid lockdowns make me desperate than e...   \n",
       "\n",
       "                                         clean_tweet  \\\n",
       "0  covid infect lead clousur jamshedpur school db...   \n",
       "1  glastonburi festiv cinema museum govern cash s...   \n",
       "2  covid lockdown desper watch leak cum like true...   \n",
       "\n",
       "                                             hastags  \\\n",
       "0                                                 []   \n",
       "1  ['#Sipgrab', '#UnitingPeopleWithThePossibiliti...   \n",
       "2  ['#sissyclit', '#ExposedSissySlut', '#sissy', ...   \n",
       "\n",
       "                                           attherate  \\\n",
       "0  ['@HemantSorenJMM', '@DCEastSinghbhum', '@Bann...   \n",
       "1                                                 []   \n",
       "2                                                 []   \n",
       "\n",
       "                          urls emojis  label  \n",
       "0                           []     []      1  \n",
       "1  ['https://t.co/zsvvfaO49b']     []      1  \n",
       "2  ['https://t.co/RB7Dse2yYF']     []      1  "
      ]
     },
     "execution_count": 414,
     "metadata": {},
     "output_type": "execute_result"
    }
   ],
   "source": [
    "label=kmeans.labels_\n",
    "april['label']=label\n",
    "april.head(3)"
   ]
  },
  {
   "cell_type": "code",
   "execution_count": 415,
   "metadata": {},
   "outputs": [
    {
     "data": {
      "text/plain": [
       "array([0, 1, 2])"
      ]
     },
     "execution_count": 415,
     "metadata": {},
     "output_type": "execute_result"
    }
   ],
   "source": [
    "np.unique(april['label'])"
   ]
  },
  {
   "cell_type": "code",
   "execution_count": 416,
   "metadata": {},
   "outputs": [
    {
     "data": {
      "text/plain": [
       "1    1894\n",
       "2     510\n",
       "0     161\n",
       "Name: label, dtype: int64"
      ]
     },
     "execution_count": 416,
     "metadata": {},
     "output_type": "execute_result"
    }
   ],
   "source": [
    "april['label'].value_counts()"
   ]
  },
  {
   "cell_type": "code",
   "execution_count": 417,
   "metadata": {},
   "outputs": [],
   "source": [
    "april_cluster_1=april[april.label ==0]\n",
    "april_cluster_2=april[april.label ==1]\n",
    "april_cluster_3=april[april.label ==2]"
   ]
  },
  {
   "cell_type": "code",
   "execution_count": 418,
   "metadata": {},
   "outputs": [],
   "source": [
    "april_cluster_1.to_csv('AprilCluster1Tweet.csv')\n",
    "april_cluster_2.to_csv('AprilCluster2Tweet.csv')\n",
    "april_cluster_3.to_csv('AprilCluster3Tweet.csv')"
   ]
  },
  {
   "cell_type": "code",
   "execution_count": 423,
   "metadata": {},
   "outputs": [
    {
     "data": {
      "image/png": "[encoded data removed]",
      "text/plain": [
       "<Figure size 432x288 with 1 Axes>"
      ]
     },
     "metadata": {},
     "output_type": "display_data"
    }
   ],
   "source": [
    "count=april['label'].value_counts()\n",
    "tweet_freq_cluster=[]\n",
    "tweet_freq_cluster.append(count[0])\n",
    "tweet_freq_cluster.append(count[1])\n",
    "tweet_freq_cluster.append(count[2])\n",
    "cluster_name=['Cluster 3','Cluster 1','Cluster 2']\n",
    "explode = [0, 0,0.1]\n",
    "palette_color = sns.color_palette(\"husl\", 3)\n",
    "  \n",
    "# plotting data on chart\n",
    "plt.pie(tweet_freq_cluster, labels=cluster_name, colors=palette_color,   explode=explode,autopct='%.0f%%')\n",
    "plt.title('April',fontsize=20)\n",
    "# displaying chart\n",
    "plt.show()\n",
    "\n"
   ]
  },
  {
   "cell_type": "code",
   "execution_count": 420,
   "metadata": {},
   "outputs": [
    {
     "data": {
      "text/plain": [
       "'Nothing to worry my fellow country people ☺️, now a days corona is doing night shift thats why government imposed night curfew, lets support our #MaharashtraGovernment #NoMoreLockdowns #mumbailockdown #COVIDー19 #UddhavThackeray #nightcurfew #Trending  https://t.co/bsxIxPM2LC'"
      ]
     },
     "execution_count": 420,
     "metadata": {},
     "output_type": "execute_result"
    }
   ],
   "source": [
    "april['tweet'][1984]"
   ]
  }
 ],
 "metadata": {
  "interpreter": {
   "hash": "f5077de726081cd88c6b6f65b193df0af57117231466353a74e8f1aa7856d823"
  },
  "kernelspec": {
   "display_name": "Python 3.8.8 ('base')",
   "language": "python",
   "name": "python3"
  },
  "language_info": {
   "codemirror_mode": {
    "name": "ipython",
    "version": 3
   },
   "file_extension": ".py",
   "mimetype": "text/x-python",
   "name": "python",
   "nbconvert_exporter": "python",
   "pygments_lexer": "ipython3",
   "version": "3.8.8"
  },
  "orig_nbformat": 4
 },
 "nbformat": 4,
 "nbformat_minor": 2
}
