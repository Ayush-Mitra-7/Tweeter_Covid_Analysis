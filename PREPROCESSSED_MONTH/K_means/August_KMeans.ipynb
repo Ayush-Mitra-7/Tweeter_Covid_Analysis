{
 "cells": [
  {
   "cell_type": "code",
   "execution_count": 1,
   "metadata": {},
   "outputs": [],
   "source": [
    "import numpy as np \n",
    "import pandas as pd\n",
    "\n",
    "from K_means import Kmeans\n",
    "from sklearn.cluster import KMeans \n",
    "from sklearn.feature_extraction.text import TfidfVectorizer\n",
    "from sklearn.decomposition import PCA\n",
    "from sklearn.preprocessing import normalize\n",
    "from scipy.spatial.distance import cdist\n",
    "\n",
    "import string\n",
    "\n",
    "from nltk.corpus import stopwords\n",
    "\n",
    "from nltk.stem.wordnet import WordNetLemmatizer\n",
    "from nltk.stem import PorterStemmer\n",
    "from nltk.tokenize import word_tokenize\n",
    "import neattext.functions as nfx\n",
    "\n",
    "from textblob import TextBlob as tb\n",
    "from textblob import Word\n",
    "\n",
    "import matplotlib.pyplot as plt\n",
    "import seaborn as sns\n",
    "plt.style.use('ggplot')\n",
    "%matplotlib inline\n",
    "plt.style.use('fivethirtyeight')\n",
    "\n",
    "import warnings\n",
    "warnings.simplefilter('ignore')"
   ]
  },
  {
   "cell_type": "code",
   "execution_count": 2,
   "metadata": {},
   "outputs": [],
   "source": [
    "august=pd.read_csv('06_PREPROCESSED_AUGUST.csv')"
   ]
  },
  {
   "cell_type": "code",
   "execution_count": 3,
   "metadata": {},
   "outputs": [],
   "source": [
    "custom_words = ['from', 'subject', 're', 'edu', 'use', 'not', 'would', 'say', 'could', '_', 'be', 'know', 'good', 'go', 'get', 'do', 'done', 'try', 'many', 'some', 'nice', 'thank', 'think', 'see', 'rather',\n",
    "                'easy', 'easily', 'lot', 'lack', 'make', 'want', 'seem', 'run', 'need', 'even', 'right', 'line', 'even', 'also', 'may', 'take', 'come', '%', '.', 'the', 'etc', 'pls', 'btw', 'let', 'hgd', 'get', 'amp', 'gt','lt','hrs','dos','say','reply','sir','replying','coronavirus','death','youth','old','lover','people','sri']"
   ]
  },
  {
   "cell_type": "code",
   "execution_count": 4,
   "metadata": {},
   "outputs": [],
   "source": [
    "for i in range(0,august.shape[0]):\n",
    "    august['clean_tweet'][i]= ''.join([i for i in august['clean_tweet'][i] if not i.isdigit()])\n",
    "    august['clean_tweet'][i]=august['clean_tweet'][i].lower()\n",
    "    august['clean_tweet'][i]=nfx.remove_custom_words(august['clean_tweet'][i],custom_words)"
   ]
  },
  {
   "cell_type": "code",
   "execution_count": 5,
   "metadata": {},
   "outputs": [],
   "source": [
    "tweets_august=august['clean_tweet']"
   ]
  },
  {
   "cell_type": "code",
   "execution_count": 6,
   "metadata": {},
   "outputs": [],
   "source": [
    "tweet_list_august = tweets_august.apply(nfx.remove_stopwords)\n",
    "tweet_list_august = tweet_list_august .apply(nfx.remove_special_characters)\n",
    "tweet_list_august = tweet_list_august.apply(nfx.remove_punctuations)"
   ]
  },
  {
   "cell_type": "code",
   "execution_count": 7,
   "metadata": {},
   "outputs": [],
   "source": [
    "def remove_single_char(list):\n",
    "    for token in list:\n",
    "        if( len(token)==1):\n",
    "            list.remove(token)\n",
    "def remove_dual_char(list):\n",
    "    for token in list:\n",
    "        if( len(token)==2):\n",
    "            list.remove(token)\n",
    "def remove_words(list1, remove_words):\n",
    "    for word in list(list1):\n",
    "        if word in remove_words:\n",
    "            list1.remove(word)\n",
    "    return list1   "
   ]
  },
  {
   "cell_type": "code",
   "execution_count": 8,
   "metadata": {},
   "outputs": [],
   "source": [
    "def Convert_list(string):\n",
    "    li = list(string.split(\" \"))\n",
    "    return li\n",
    "def listToString(s): \n",
    "    str1 = \" \" \n",
    "    return (str1.join(s))"
   ]
  },
  {
   "cell_type": "code",
   "execution_count": 9,
   "metadata": {},
   "outputs": [],
   "source": [
    "for i in range(0,august.shape[0]):\n",
    "    ls=Convert_list(tweet_list_august[i])\n",
    "    remove_single_char(ls)\n",
    "    remove_dual_char(ls)\n",
    "    ls=remove_words(ls,custom_words)\n",
    "    tweet_list_august[i]=listToString(ls)"
   ]
  },
  {
   "cell_type": "code",
   "execution_count": 10,
   "metadata": {},
   "outputs": [],
   "source": [
    "def my_lemma(token,i=0):\n",
    "    word=tb(token)\n",
    "    tags=word.tags\n",
    "    sample=Word(tags[0][0])\n",
    "    if tags[0][1][0] =='V':\n",
    "        x=sample.lemmatize('v')\n",
    "        ls[i]=x\n",
    "    else:\n",
    "        x=sample.lemmatize()\n",
    "        ls[i]=x"
   ]
  },
  {
   "cell_type": "code",
   "execution_count": 11,
   "metadata": {},
   "outputs": [],
   "source": [
    "for i in range(0,august.shape[0]):\n",
    "    ls=Convert_list(tweet_list_august[i])\n",
    "    for j in range(0,len(ls)):\n",
    "        text=ls[j]\n",
    "        if(text==\"\"):\n",
    "                continue\n",
    "        word=tb(text)\n",
    "        tags=word.tags\n",
    "        sample=Word(tags[0][0])\n",
    "        if tags[0][1][0] =='V':\n",
    "                x=sample.lemmatize('v')\n",
    "                ls[j]=x\n",
    "        else:\n",
    "                x=sample.lemmatize()\n",
    "                ls[j]=x"
   ]
  },
  {
   "cell_type": "code",
   "execution_count": 12,
   "metadata": {},
   "outputs": [],
   "source": [
    "for i in range(0,august.shape[0]):\n",
    "    ls=Convert_list(tweet_list_august[i])\n",
    "    for j in range(0,len(ls)):\n",
    "        text=ls[j]\n",
    "        if(text==\"\"):\n",
    "            continue\n",
    "        my_lemma(text,j)\n",
    "    tweet_list_august[i]=listToString(ls)"
   ]
  },
  {
   "cell_type": "code",
   "execution_count": 13,
   "metadata": {},
   "outputs": [],
   "source": [
    "for i in range(0,august.shape[0]):\n",
    "    ls=Convert_list(tweet_list_august[i])\n",
    "    "
   ]
  },
  {
   "cell_type": "code",
   "execution_count": 14,
   "metadata": {},
   "outputs": [],
   "source": [
    "for i in range(0,august.shape[0]):\n",
    "    ls=Convert_list(tweet_list_august[i])\n",
    "    ls=remove_words(ls,custom_words)\n",
    "    tweet_list_august[i]=listToString(ls)"
   ]
  },
  {
   "cell_type": "code",
   "execution_count": 15,
   "metadata": {},
   "outputs": [],
   "source": [
    "august['clean_tweet']=tweet_list_august"
   ]
  },
  {
   "cell_type": "code",
   "execution_count": 16,
   "metadata": {},
   "outputs": [
    {
     "data": {
      "text/plain": [
       "0       treatment covid hydroquinone ivermectin zincov...\n",
       "1       yes oxygen remdesivir versus hindumuslim agend...\n",
       "2       pt remdesivir tociluzimab urgently wid icu bed...\n",
       "3        citizen india request oxygen remdesivir remember\n",
       "4                remdesivir india reach help flight covid\n",
       "                              ...                        \n",
       "1693    thought thing normal end covid vaccine availab...\n",
       "1694          covid vaccination pregnancy srishti clin...\n",
       "1695    covid advisor new lockdown expect despite delt...\n",
       "1696                  covid vaccine prioritize distribute\n",
       "1697    update schedule announce withdrawn participate...\n",
       "Name: clean_tweet, Length: 1698, dtype: object"
      ]
     },
     "execution_count": 16,
     "metadata": {},
     "output_type": "execute_result"
    }
   ],
   "source": [
    "august['clean_tweet']"
   ]
  },
  {
   "cell_type": "code",
   "execution_count": 17,
   "metadata": {},
   "outputs": [],
   "source": [
    "ps=PorterStemmer()"
   ]
  },
  {
   "cell_type": "code",
   "execution_count": 18,
   "metadata": {},
   "outputs": [
    {
     "data": {
      "text/plain": [
       "'treatment covid hydroquinone ivermectin zincovit celine vitc paracetamol doxy antibody cocktail dexamethasone azithromycin remdesivir frapivir oxygen vaccinate prevent'"
      ]
     },
     "execution_count": 18,
     "metadata": {},
     "output_type": "execute_result"
    }
   ],
   "source": [
    "ls=august['clean_tweet'][0]\n",
    "ls"
   ]
  },
  {
   "cell_type": "code",
   "execution_count": 19,
   "metadata": {},
   "outputs": [
    {
     "data": {
      "text/plain": [
       "['treatment',\n",
       " 'covid',\n",
       " 'hydroquinone',\n",
       " 'ivermectin',\n",
       " 'zincovit',\n",
       " 'celine',\n",
       " 'vitc',\n",
       " 'paracetamol',\n",
       " 'doxy',\n",
       " 'antibody',\n",
       " 'cocktail',\n",
       " 'dexamethasone',\n",
       " 'azithromycin',\n",
       " 'remdesivir',\n",
       " 'frapivir',\n",
       " 'oxygen',\n",
       " 'vaccinate',\n",
       " 'prevent']"
      ]
     },
     "execution_count": 19,
     "metadata": {},
     "output_type": "execute_result"
    }
   ],
   "source": [
    "words = word_tokenize(ls)\n",
    "words"
   ]
  },
  {
   "cell_type": "code",
   "execution_count": 20,
   "metadata": {},
   "outputs": [],
   "source": [
    "st=\"\""
   ]
  },
  {
   "cell_type": "code",
   "execution_count": 21,
   "metadata": {},
   "outputs": [],
   "source": [
    "for w in words:\n",
    "    w=ps.stem(w)\n",
    "    st+=w+' '"
   ]
  },
  {
   "cell_type": "code",
   "execution_count": 22,
   "metadata": {},
   "outputs": [
    {
     "data": {
      "text/plain": [
       "'treatment covid hydroquinon ivermectin zincovit celin vitc paracetamol doxi antibodi cocktail dexamethason azithromycin remdesivir frapivir oxygen vaccin prevent '"
      ]
     },
     "execution_count": 22,
     "metadata": {},
     "output_type": "execute_result"
    }
   ],
   "source": [
    "st"
   ]
  },
  {
   "cell_type": "code",
   "execution_count": 23,
   "metadata": {},
   "outputs": [],
   "source": [
    "for i in range(0,august.shape[0]):\n",
    "    ls=august['clean_tweet'][i]\n",
    "    words = word_tokenize(ls)\n",
    "    st=\"\"\n",
    "    for w in words:\n",
    "        w=ps.stem(w)\n",
    "        st+=w+' '\n",
    "    august['clean_tweet'][i]=st"
   ]
  },
  {
   "cell_type": "code",
   "execution_count": 24,
   "metadata": {},
   "outputs": [
    {
     "data": {
      "text/plain": [
       "'india remdesivir product capac increas lakh vial month june govern namo app '"
      ]
     },
     "execution_count": 24,
     "metadata": {},
     "output_type": "execute_result"
    }
   ],
   "source": [
    "august['clean_tweet'][6]"
   ]
  },
  {
   "cell_type": "code",
   "execution_count": 25,
   "metadata": {},
   "outputs": [],
   "source": [
    "tweet_list_august=august['clean_tweet']"
   ]
  },
  {
   "cell_type": "code",
   "execution_count": 26,
   "metadata": {},
   "outputs": [
    {
     "data": {
      "text/plain": [
       "'report india prepar possibl covid wave current lakh remdesivir medicin stock plant hospit lakh bed india plan restart vaccin export novemb '"
      ]
     },
     "execution_count": 26,
     "metadata": {},
     "output_type": "execute_result"
    }
   ],
   "source": [
    "tweet_list_august[7]"
   ]
  },
  {
   "cell_type": "code",
   "execution_count": 27,
   "metadata": {},
   "outputs": [],
   "source": [
    "for i in range(0,august.shape[0]):\n",
    "    ls=Convert_list(tweet_list_august[i])\n",
    "    remove_single_char(ls)\n",
    "    remove_dual_char(ls)\n",
    "    ls=remove_words(ls,custom_words)\n",
    "    tweet_list_august[i]=listToString(ls)"
   ]
  },
  {
   "cell_type": "code",
   "execution_count": 28,
   "metadata": {},
   "outputs": [],
   "source": [
    "august['clean_tweet']=tweet_list_august"
   ]
  },
  {
   "cell_type": "markdown",
   "metadata": {},
   "source": [
    "# K-Means"
   ]
  },
  {
   "cell_type": "code",
   "execution_count": 29,
   "metadata": {},
   "outputs": [],
   "source": [
    "data =august['clean_tweet']\n",
    "\n",
    "tf_idf_vectorizor = TfidfVectorizer(stop_words = 'english',#tokenizer = tokenize_and_stem,\n",
    "                             max_features = 20000)\n",
    "tf_idf = tf_idf_vectorizor.fit_transform(data)\n",
    "tf_idf_norm = normalize(tf_idf)\n",
    "tf_idf_array = tf_idf_norm.toarray()"
   ]
  },
  {
   "cell_type": "code",
   "execution_count": 30,
   "metadata": {},
   "outputs": [
    {
     "data": {
      "text/html": [
       "<div>\n",
       "<style scoped>\n",
       "    .dataframe tbody tr th:only-of-type {\n",
       "        vertical-align: middle;\n",
       "    }\n",
       "\n",
       "    .dataframe tbody tr th {\n",
       "        vertical-align: top;\n",
       "    }\n",
       "\n",
       "    .dataframe thead th {\n",
       "        text-align: right;\n",
       "    }\n",
       "</style>\n",
       "<table border=\"1\" class=\"dataframe\">\n",
       "  <thead>\n",
       "    <tr style=\"text-align: right;\">\n",
       "      <th></th>\n",
       "      <th>aaand</th>\n",
       "      <th>aab</th>\n",
       "      <th>aadhar</th>\n",
       "      <th>aala</th>\n",
       "      <th>aam</th>\n",
       "      <th>aameen</th>\n",
       "      <th>aandolan</th>\n",
       "      <th>aapk</th>\n",
       "      <th>aapko</th>\n",
       "      <th>aayega</th>\n",
       "      <th>...</th>\n",
       "      <th>zia</th>\n",
       "      <th>ziauddin</th>\n",
       "      <th>zilla</th>\n",
       "      <th>zincovit</th>\n",
       "      <th>zone</th>\n",
       "      <th>zoo</th>\n",
       "      <th>zoom</th>\n",
       "      <th>zycovd</th>\n",
       "      <th>zydu</th>\n",
       "      <th>zyjgk</th>\n",
       "    </tr>\n",
       "  </thead>\n",
       "  <tbody>\n",
       "    <tr>\n",
       "      <th>0</th>\n",
       "      <td>0.0</td>\n",
       "      <td>0.0</td>\n",
       "      <td>0.0</td>\n",
       "      <td>0.0</td>\n",
       "      <td>0.0</td>\n",
       "      <td>0.0</td>\n",
       "      <td>0.0</td>\n",
       "      <td>0.0</td>\n",
       "      <td>0.0</td>\n",
       "      <td>0.0</td>\n",
       "      <td>...</td>\n",
       "      <td>0.0</td>\n",
       "      <td>0.0</td>\n",
       "      <td>0.0</td>\n",
       "      <td>0.268995</td>\n",
       "      <td>0.0</td>\n",
       "      <td>0.0</td>\n",
       "      <td>0.0</td>\n",
       "      <td>0.0</td>\n",
       "      <td>0.0</td>\n",
       "      <td>0.0</td>\n",
       "    </tr>\n",
       "    <tr>\n",
       "      <th>1</th>\n",
       "      <td>0.0</td>\n",
       "      <td>0.0</td>\n",
       "      <td>0.0</td>\n",
       "      <td>0.0</td>\n",
       "      <td>0.0</td>\n",
       "      <td>0.0</td>\n",
       "      <td>0.0</td>\n",
       "      <td>0.0</td>\n",
       "      <td>0.0</td>\n",
       "      <td>0.0</td>\n",
       "      <td>...</td>\n",
       "      <td>0.0</td>\n",
       "      <td>0.0</td>\n",
       "      <td>0.0</td>\n",
       "      <td>0.000000</td>\n",
       "      <td>0.0</td>\n",
       "      <td>0.0</td>\n",
       "      <td>0.0</td>\n",
       "      <td>0.0</td>\n",
       "      <td>0.0</td>\n",
       "      <td>0.0</td>\n",
       "    </tr>\n",
       "    <tr>\n",
       "      <th>2</th>\n",
       "      <td>0.0</td>\n",
       "      <td>0.0</td>\n",
       "      <td>0.0</td>\n",
       "      <td>0.0</td>\n",
       "      <td>0.0</td>\n",
       "      <td>0.0</td>\n",
       "      <td>0.0</td>\n",
       "      <td>0.0</td>\n",
       "      <td>0.0</td>\n",
       "      <td>0.0</td>\n",
       "      <td>...</td>\n",
       "      <td>0.0</td>\n",
       "      <td>0.0</td>\n",
       "      <td>0.0</td>\n",
       "      <td>0.000000</td>\n",
       "      <td>0.0</td>\n",
       "      <td>0.0</td>\n",
       "      <td>0.0</td>\n",
       "      <td>0.0</td>\n",
       "      <td>0.0</td>\n",
       "      <td>0.0</td>\n",
       "    </tr>\n",
       "    <tr>\n",
       "      <th>3</th>\n",
       "      <td>0.0</td>\n",
       "      <td>0.0</td>\n",
       "      <td>0.0</td>\n",
       "      <td>0.0</td>\n",
       "      <td>0.0</td>\n",
       "      <td>0.0</td>\n",
       "      <td>0.0</td>\n",
       "      <td>0.0</td>\n",
       "      <td>0.0</td>\n",
       "      <td>0.0</td>\n",
       "      <td>...</td>\n",
       "      <td>0.0</td>\n",
       "      <td>0.0</td>\n",
       "      <td>0.0</td>\n",
       "      <td>0.000000</td>\n",
       "      <td>0.0</td>\n",
       "      <td>0.0</td>\n",
       "      <td>0.0</td>\n",
       "      <td>0.0</td>\n",
       "      <td>0.0</td>\n",
       "      <td>0.0</td>\n",
       "    </tr>\n",
       "    <tr>\n",
       "      <th>4</th>\n",
       "      <td>0.0</td>\n",
       "      <td>0.0</td>\n",
       "      <td>0.0</td>\n",
       "      <td>0.0</td>\n",
       "      <td>0.0</td>\n",
       "      <td>0.0</td>\n",
       "      <td>0.0</td>\n",
       "      <td>0.0</td>\n",
       "      <td>0.0</td>\n",
       "      <td>0.0</td>\n",
       "      <td>...</td>\n",
       "      <td>0.0</td>\n",
       "      <td>0.0</td>\n",
       "      <td>0.0</td>\n",
       "      <td>0.000000</td>\n",
       "      <td>0.0</td>\n",
       "      <td>0.0</td>\n",
       "      <td>0.0</td>\n",
       "      <td>0.0</td>\n",
       "      <td>0.0</td>\n",
       "      <td>0.0</td>\n",
       "    </tr>\n",
       "    <tr>\n",
       "      <th>...</th>\n",
       "      <td>...</td>\n",
       "      <td>...</td>\n",
       "      <td>...</td>\n",
       "      <td>...</td>\n",
       "      <td>...</td>\n",
       "      <td>...</td>\n",
       "      <td>...</td>\n",
       "      <td>...</td>\n",
       "      <td>...</td>\n",
       "      <td>...</td>\n",
       "      <td>...</td>\n",
       "      <td>...</td>\n",
       "      <td>...</td>\n",
       "      <td>...</td>\n",
       "      <td>...</td>\n",
       "      <td>...</td>\n",
       "      <td>...</td>\n",
       "      <td>...</td>\n",
       "      <td>...</td>\n",
       "      <td>...</td>\n",
       "      <td>...</td>\n",
       "    </tr>\n",
       "    <tr>\n",
       "      <th>1693</th>\n",
       "      <td>0.0</td>\n",
       "      <td>0.0</td>\n",
       "      <td>0.0</td>\n",
       "      <td>0.0</td>\n",
       "      <td>0.0</td>\n",
       "      <td>0.0</td>\n",
       "      <td>0.0</td>\n",
       "      <td>0.0</td>\n",
       "      <td>0.0</td>\n",
       "      <td>0.0</td>\n",
       "      <td>...</td>\n",
       "      <td>0.0</td>\n",
       "      <td>0.0</td>\n",
       "      <td>0.0</td>\n",
       "      <td>0.000000</td>\n",
       "      <td>0.0</td>\n",
       "      <td>0.0</td>\n",
       "      <td>0.0</td>\n",
       "      <td>0.0</td>\n",
       "      <td>0.0</td>\n",
       "      <td>0.0</td>\n",
       "    </tr>\n",
       "    <tr>\n",
       "      <th>1694</th>\n",
       "      <td>0.0</td>\n",
       "      <td>0.0</td>\n",
       "      <td>0.0</td>\n",
       "      <td>0.0</td>\n",
       "      <td>0.0</td>\n",
       "      <td>0.0</td>\n",
       "      <td>0.0</td>\n",
       "      <td>0.0</td>\n",
       "      <td>0.0</td>\n",
       "      <td>0.0</td>\n",
       "      <td>...</td>\n",
       "      <td>0.0</td>\n",
       "      <td>0.0</td>\n",
       "      <td>0.0</td>\n",
       "      <td>0.000000</td>\n",
       "      <td>0.0</td>\n",
       "      <td>0.0</td>\n",
       "      <td>0.0</td>\n",
       "      <td>0.0</td>\n",
       "      <td>0.0</td>\n",
       "      <td>0.0</td>\n",
       "    </tr>\n",
       "    <tr>\n",
       "      <th>1695</th>\n",
       "      <td>0.0</td>\n",
       "      <td>0.0</td>\n",
       "      <td>0.0</td>\n",
       "      <td>0.0</td>\n",
       "      <td>0.0</td>\n",
       "      <td>0.0</td>\n",
       "      <td>0.0</td>\n",
       "      <td>0.0</td>\n",
       "      <td>0.0</td>\n",
       "      <td>0.0</td>\n",
       "      <td>...</td>\n",
       "      <td>0.0</td>\n",
       "      <td>0.0</td>\n",
       "      <td>0.0</td>\n",
       "      <td>0.000000</td>\n",
       "      <td>0.0</td>\n",
       "      <td>0.0</td>\n",
       "      <td>0.0</td>\n",
       "      <td>0.0</td>\n",
       "      <td>0.0</td>\n",
       "      <td>0.0</td>\n",
       "    </tr>\n",
       "    <tr>\n",
       "      <th>1696</th>\n",
       "      <td>0.0</td>\n",
       "      <td>0.0</td>\n",
       "      <td>0.0</td>\n",
       "      <td>0.0</td>\n",
       "      <td>0.0</td>\n",
       "      <td>0.0</td>\n",
       "      <td>0.0</td>\n",
       "      <td>0.0</td>\n",
       "      <td>0.0</td>\n",
       "      <td>0.0</td>\n",
       "      <td>...</td>\n",
       "      <td>0.0</td>\n",
       "      <td>0.0</td>\n",
       "      <td>0.0</td>\n",
       "      <td>0.000000</td>\n",
       "      <td>0.0</td>\n",
       "      <td>0.0</td>\n",
       "      <td>0.0</td>\n",
       "      <td>0.0</td>\n",
       "      <td>0.0</td>\n",
       "      <td>0.0</td>\n",
       "    </tr>\n",
       "    <tr>\n",
       "      <th>1697</th>\n",
       "      <td>0.0</td>\n",
       "      <td>0.0</td>\n",
       "      <td>0.0</td>\n",
       "      <td>0.0</td>\n",
       "      <td>0.0</td>\n",
       "      <td>0.0</td>\n",
       "      <td>0.0</td>\n",
       "      <td>0.0</td>\n",
       "      <td>0.0</td>\n",
       "      <td>0.0</td>\n",
       "      <td>...</td>\n",
       "      <td>0.0</td>\n",
       "      <td>0.0</td>\n",
       "      <td>0.0</td>\n",
       "      <td>0.000000</td>\n",
       "      <td>0.0</td>\n",
       "      <td>0.0</td>\n",
       "      <td>0.0</td>\n",
       "      <td>0.0</td>\n",
       "      <td>0.0</td>\n",
       "      <td>0.0</td>\n",
       "    </tr>\n",
       "  </tbody>\n",
       "</table>\n",
       "<p>1698 rows × 4815 columns</p>\n",
       "</div>"
      ],
      "text/plain": [
       "      aaand  aab  aadhar  aala  aam  aameen  aandolan  aapk  aapko  aayega  \\\n",
       "0       0.0  0.0     0.0   0.0  0.0     0.0       0.0   0.0    0.0     0.0   \n",
       "1       0.0  0.0     0.0   0.0  0.0     0.0       0.0   0.0    0.0     0.0   \n",
       "2       0.0  0.0     0.0   0.0  0.0     0.0       0.0   0.0    0.0     0.0   \n",
       "3       0.0  0.0     0.0   0.0  0.0     0.0       0.0   0.0    0.0     0.0   \n",
       "4       0.0  0.0     0.0   0.0  0.0     0.0       0.0   0.0    0.0     0.0   \n",
       "...     ...  ...     ...   ...  ...     ...       ...   ...    ...     ...   \n",
       "1693    0.0  0.0     0.0   0.0  0.0     0.0       0.0   0.0    0.0     0.0   \n",
       "1694    0.0  0.0     0.0   0.0  0.0     0.0       0.0   0.0    0.0     0.0   \n",
       "1695    0.0  0.0     0.0   0.0  0.0     0.0       0.0   0.0    0.0     0.0   \n",
       "1696    0.0  0.0     0.0   0.0  0.0     0.0       0.0   0.0    0.0     0.0   \n",
       "1697    0.0  0.0     0.0   0.0  0.0     0.0       0.0   0.0    0.0     0.0   \n",
       "\n",
       "      ...  zia  ziauddin  zilla  zincovit  zone  zoo  zoom  zycovd  zydu  \\\n",
       "0     ...  0.0       0.0    0.0  0.268995   0.0  0.0   0.0     0.0   0.0   \n",
       "1     ...  0.0       0.0    0.0  0.000000   0.0  0.0   0.0     0.0   0.0   \n",
       "2     ...  0.0       0.0    0.0  0.000000   0.0  0.0   0.0     0.0   0.0   \n",
       "3     ...  0.0       0.0    0.0  0.000000   0.0  0.0   0.0     0.0   0.0   \n",
       "4     ...  0.0       0.0    0.0  0.000000   0.0  0.0   0.0     0.0   0.0   \n",
       "...   ...  ...       ...    ...       ...   ...  ...   ...     ...   ...   \n",
       "1693  ...  0.0       0.0    0.0  0.000000   0.0  0.0   0.0     0.0   0.0   \n",
       "1694  ...  0.0       0.0    0.0  0.000000   0.0  0.0   0.0     0.0   0.0   \n",
       "1695  ...  0.0       0.0    0.0  0.000000   0.0  0.0   0.0     0.0   0.0   \n",
       "1696  ...  0.0       0.0    0.0  0.000000   0.0  0.0   0.0     0.0   0.0   \n",
       "1697  ...  0.0       0.0    0.0  0.000000   0.0  0.0   0.0     0.0   0.0   \n",
       "\n",
       "      zyjgk  \n",
       "0       0.0  \n",
       "1       0.0  \n",
       "2       0.0  \n",
       "3       0.0  \n",
       "4       0.0  \n",
       "...     ...  \n",
       "1693    0.0  \n",
       "1694    0.0  \n",
       "1695    0.0  \n",
       "1696    0.0  \n",
       "1697    0.0  \n",
       "\n",
       "[1698 rows x 4815 columns]"
      ]
     },
     "execution_count": 30,
     "metadata": {},
     "output_type": "execute_result"
    }
   ],
   "source": [
    "pd.DataFrame(tf_idf_array, columns=tf_idf_vectorizor.get_feature_names())"
   ]
  },
  {
   "cell_type": "code",
   "execution_count": 31,
   "metadata": {},
   "outputs": [
    {
     "data": {
      "image/png": "[encoded data removed]",
      "text/plain": [
       "<Figure size 432x288 with 1 Axes>"
      ]
     },
     "metadata": {},
     "output_type": "display_data"
    }
   ],
   "source": [
    "sklearn_pca = PCA(n_components = 2)\n",
    "Y_sklearn = sklearn_pca.fit_transform(tf_idf_array)\n",
    "kmeans_kwargs = {\"init\": \"k-means++\",\"n_init\": 2,\"max_iter\": 1000,\"random_state\": 42,}\n",
    "# A list holds the SSE values for each k\n",
    "sse = []\n",
    "for k in range(1, 11):\n",
    "    kmeans = KMeans(n_clusters=k, **kmeans_kwargs)\n",
    "    kmeans.fit(Y_sklearn)\n",
    "    sse.append(kmeans.inertia_)\n",
    "plt.style.use(\"fivethirtyeight\")\n",
    "plt.plot(range(1, 11), sse)\n",
    "plt.plot(range(1, 11), sse,'r*')\n",
    "plt.xticks(range(1, 11))\n",
    "plt.yticks(range(0,50,10))\n",
    "plt.xlabel(\"Number of Clusters\")\n",
    "plt.ylabel(\"SSE\")\n",
    "plt.show()\n"
   ]
  },
  {
   "cell_type": "code",
   "execution_count": 32,
   "metadata": {},
   "outputs": [
    {
     "data": {
      "text/plain": [
       "array([[-0.03930086,  0.04031515],\n",
       "       [-0.03670648, -0.0306022 ],\n",
       "       [-0.04274822, -0.01545738],\n",
       "       ...,\n",
       "       [ 0.03300172,  0.0353267 ],\n",
       "       [-0.0417132 ,  0.17516395],\n",
       "       [-0.00918007,  0.02849582]])"
      ]
     },
     "execution_count": 32,
     "metadata": {},
     "output_type": "execute_result"
    }
   ],
   "source": [
    "Y_sklearn"
   ]
  },
  {
   "cell_type": "code",
   "execution_count": 33,
   "metadata": {},
   "outputs": [
    {
     "name": "stdout",
     "output_type": "stream",
     "text": [
      "For n_clusters = 2 The average silhouette_score is : 0.7645287257975962\n",
      "For n_clusters = 3 The average silhouette_score is : 0.4340560295923786\n",
      "For n_clusters = 4 The average silhouette_score is : 0.4557768252551419\n",
      "For n_clusters = 5 The average silhouette_score is : 0.4839877321682685\n",
      "For n_clusters = 6 The average silhouette_score is : 0.4236578244155438\n",
      "For n_clusters = 7 The average silhouette_score is : 0.4052221551668321\n",
      "For n_clusters = 8 The average silhouette_score is : 0.47581923609247717\n",
      "For n_clusters = 9 The average silhouette_score is : 0.42884230562996495\n",
      "For n_clusters = 10 The average silhouette_score is : 0.41761782721056956\n"
     ]
    },
    {
     "data": {
      "image/png": "[encoded data removed]",
      "text/plain": [
       "<Figure size 432x288 with 1 Axes>"
      ]
     },
     "metadata": {},
     "output_type": "display_data"
    }
   ],
   "source": [
    "from sklearn.metrics import silhouette_samples, silhouette_score\n",
    "import matplotlib.style as style\n",
    "range_n_clusters = [2, 3, 4, 5, 6,7,8,9,10]\n",
    "silhouette_avg_n_clusters = []\n",
    "\n",
    "for n_clusters in range_n_clusters:\n",
    "    clusterer = KMeans(n_clusters=n_clusters, **kmeans_kwargs)\n",
    "    cluster_labels = clusterer.fit_predict(Y_sklearn)\n",
    "\n",
    "    # The silhouette_score gives the average value for all the samples.\n",
    "    # This gives a perspective into the density and separation of the formed\n",
    "    # clusters\n",
    "    silhouette_avg = silhouette_score(Y_sklearn, cluster_labels)\n",
    "    print(\"For n_clusters =\", n_clusters,\n",
    "          \"The average silhouette_score is :\", silhouette_avg)\n",
    "\n",
    "    silhouette_avg_n_clusters.append(silhouette_avg)\n",
    "    # Compute the silhouette scores for each sample\n",
    "    sample_silhouette_values = silhouette_samples(Y_sklearn, cluster_labels)\n",
    "style.use(\"fivethirtyeight\")\n",
    "plt.plot(range_n_clusters, silhouette_avg_n_clusters)\n",
    "plt.xlabel(\"Number of Clusters (k)\")\n",
    "plt.ylabel(\"silhouette score\")\n",
    "plt.xticks(range(1, 11))\n",
    "plt.show()"
   ]
  },
  {
   "cell_type": "code",
   "execution_count": 34,
   "metadata": {},
   "outputs": [
    {
     "data": {
      "image/png": "[encoded data removed]",
      "text/plain": [
       "<Figure size 432x288 with 1 Axes>"
      ]
     },
     "metadata": {},
     "output_type": "display_data"
    }
   ],
   "source": [
    "sklearn_pca = PCA(n_components = 2)\n",
    "Y_sklearn = sklearn_pca.fit_transform(tf_idf_array)\n",
    "kmeans = KMeans(n_clusters=2, max_iter=1000,n_init=2, algorithm = 'auto')\n",
    "fitted = kmeans.fit(Y_sklearn)\n",
    "prediction = kmeans.predict(Y_sklearn)\n",
    "\n",
    "centers = fitted.cluster_centers_\n",
    "plt.scatter(Y_sklearn[:, 0], Y_sklearn[:, 1], c=prediction, s=50, cmap='viridis')\n",
    "plt.scatter(centers[:, 0], centers[:, 1],c='red', s=50, alpha=0.6);\n",
    "# plt.xlabel(\"Feature space for the 1st feature\")\n",
    "# plt.ylabel(\"Feature space for the 2nd feature\")\n",
    "plt.title('August',fontsize=20)\n",
    "plt.show()"
   ]
  },
  {
   "cell_type": "code",
   "execution_count": 35,
   "metadata": {},
   "outputs": [],
   "source": [
    "labels = np.unique(prediction)\n",
    "dfs1 = []\n",
    "for label in labels:\n",
    "    id_temp = np.where(prediction==label) \n",
    "    x_means = np.mean(tf_idf_array[id_temp], axis = 0) # returns average score across cluster\n",
    "    sorted_means = np.argsort(x_means)[::-1]\n",
    "    features = tf_idf_vectorizor.get_feature_names()\n",
    "    best_features = [(features[i], x_means[i]) for i in sorted_means]\n",
    "    df = pd.DataFrame(best_features, columns = ['features', 'score'])\n",
    "    dfs1.append(df)"
   ]
  },
  {
   "cell_type": "code",
   "execution_count": 36,
   "metadata": {},
   "outputs": [
    {
     "data": {
      "text/html": [
       "<div>\n",
       "<style scoped>\n",
       "    .dataframe tbody tr th:only-of-type {\n",
       "        vertical-align: middle;\n",
       "    }\n",
       "\n",
       "    .dataframe tbody tr th {\n",
       "        vertical-align: top;\n",
       "    }\n",
       "\n",
       "    .dataframe thead th {\n",
       "        text-align: right;\n",
       "    }\n",
       "</style>\n",
       "<table border=\"1\" class=\"dataframe\">\n",
       "  <thead>\n",
       "    <tr style=\"text-align: right;\">\n",
       "      <th></th>\n",
       "      <th>features</th>\n",
       "      <th>score</th>\n",
       "    </tr>\n",
       "  </thead>\n",
       "  <tbody>\n",
       "    <tr>\n",
       "      <th>0</th>\n",
       "      <td>covid</td>\n",
       "      <td>0.051623</td>\n",
       "    </tr>\n",
       "    <tr>\n",
       "      <th>1</th>\n",
       "      <td>vaccin</td>\n",
       "      <td>0.035185</td>\n",
       "    </tr>\n",
       "    <tr>\n",
       "      <th>2</th>\n",
       "      <td>corona</td>\n",
       "      <td>0.027781</td>\n",
       "    </tr>\n",
       "    <tr>\n",
       "      <th>3</th>\n",
       "      <td>curfew</td>\n",
       "      <td>0.020989</td>\n",
       "    </tr>\n",
       "    <tr>\n",
       "      <th>4</th>\n",
       "      <td>india</td>\n",
       "      <td>0.018364</td>\n",
       "    </tr>\n",
       "    <tr>\n",
       "      <th>...</th>\n",
       "      <td>...</td>\n",
       "      <td>...</td>\n",
       "    </tr>\n",
       "    <tr>\n",
       "      <th>4810</th>\n",
       "      <td>joseph</td>\n",
       "      <td>0.000000</td>\n",
       "    </tr>\n",
       "    <tr>\n",
       "      <th>4811</th>\n",
       "      <td>ampact</td>\n",
       "      <td>0.000000</td>\n",
       "    </tr>\n",
       "    <tr>\n",
       "      <th>4812</th>\n",
       "      <td>row</td>\n",
       "      <td>0.000000</td>\n",
       "    </tr>\n",
       "    <tr>\n",
       "      <th>4813</th>\n",
       "      <td>notabl</td>\n",
       "      <td>0.000000</td>\n",
       "    </tr>\n",
       "    <tr>\n",
       "      <th>4814</th>\n",
       "      <td>lasthr</td>\n",
       "      <td>0.000000</td>\n",
       "    </tr>\n",
       "  </tbody>\n",
       "</table>\n",
       "<p>4815 rows × 2 columns</p>\n",
       "</div>"
      ],
      "text/plain": [
       "     features     score\n",
       "0       covid  0.051623\n",
       "1      vaccin  0.035185\n",
       "2      corona  0.027781\n",
       "3      curfew  0.020989\n",
       "4       india  0.018364\n",
       "...       ...       ...\n",
       "4810   joseph  0.000000\n",
       "4811   ampact  0.000000\n",
       "4812      row  0.000000\n",
       "4813   notabl  0.000000\n",
       "4814   lasthr  0.000000\n",
       "\n",
       "[4815 rows x 2 columns]"
      ]
     },
     "execution_count": 36,
     "metadata": {},
     "output_type": "execute_result"
    }
   ],
   "source": [
    "dfs1[0]"
   ]
  },
  {
   "cell_type": "code",
   "execution_count": 37,
   "metadata": {},
   "outputs": [
    {
     "data": {
      "text/html": [
       "<div>\n",
       "<style scoped>\n",
       "    .dataframe tbody tr th:only-of-type {\n",
       "        vertical-align: middle;\n",
       "    }\n",
       "\n",
       "    .dataframe tbody tr th {\n",
       "        vertical-align: top;\n",
       "    }\n",
       "\n",
       "    .dataframe thead th {\n",
       "        text-align: right;\n",
       "    }\n",
       "</style>\n",
       "<table border=\"1\" class=\"dataframe\">\n",
       "  <thead>\n",
       "    <tr style=\"text-align: right;\">\n",
       "      <th></th>\n",
       "      <th>features</th>\n",
       "      <th>score</th>\n",
       "    </tr>\n",
       "  </thead>\n",
       "  <tbody>\n",
       "    <tr>\n",
       "      <th>0</th>\n",
       "      <td>case</td>\n",
       "      <td>0.280960</td>\n",
       "    </tr>\n",
       "    <tr>\n",
       "      <th>1</th>\n",
       "      <td>report</td>\n",
       "      <td>0.265506</td>\n",
       "    </tr>\n",
       "    <tr>\n",
       "      <th>2</th>\n",
       "      <td>today</td>\n",
       "      <td>0.183828</td>\n",
       "    </tr>\n",
       "    <tr>\n",
       "      <th>3</th>\n",
       "      <td>far</td>\n",
       "      <td>0.148978</td>\n",
       "    </tr>\n",
       "    <tr>\n",
       "      <th>4</th>\n",
       "      <td>new</td>\n",
       "      <td>0.138769</td>\n",
       "    </tr>\n",
       "    <tr>\n",
       "      <th>...</th>\n",
       "      <td>...</td>\n",
       "      <td>...</td>\n",
       "    </tr>\n",
       "    <tr>\n",
       "      <th>4810</th>\n",
       "      <td>philippin</td>\n",
       "      <td>0.000000</td>\n",
       "    </tr>\n",
       "    <tr>\n",
       "      <th>4811</th>\n",
       "      <td>phir</td>\n",
       "      <td>0.000000</td>\n",
       "    </tr>\n",
       "    <tr>\n",
       "      <th>4812</th>\n",
       "      <td>phone</td>\n",
       "      <td>0.000000</td>\n",
       "    </tr>\n",
       "    <tr>\n",
       "      <th>4813</th>\n",
       "      <td>photo</td>\n",
       "      <td>0.000000</td>\n",
       "    </tr>\n",
       "    <tr>\n",
       "      <th>4814</th>\n",
       "      <td>aaand</td>\n",
       "      <td>0.000000</td>\n",
       "    </tr>\n",
       "  </tbody>\n",
       "</table>\n",
       "<p>4815 rows × 2 columns</p>\n",
       "</div>"
      ],
      "text/plain": [
       "       features     score\n",
       "0          case  0.280960\n",
       "1        report  0.265506\n",
       "2         today  0.183828\n",
       "3           far  0.148978\n",
       "4           new  0.138769\n",
       "...         ...       ...\n",
       "4810  philippin  0.000000\n",
       "4811       phir  0.000000\n",
       "4812      phone  0.000000\n",
       "4813      photo  0.000000\n",
       "4814      aaand  0.000000\n",
       "\n",
       "[4815 rows x 2 columns]"
      ]
     },
     "execution_count": 37,
     "metadata": {},
     "output_type": "execute_result"
    }
   ],
   "source": [
    "dfs1[1]"
   ]
  },
  {
   "cell_type": "code",
   "execution_count": 38,
   "metadata": {},
   "outputs": [],
   "source": [
    "def get_top_features_cluster(tf_idf_array, prediction, n_feats):\n",
    "    labels = np.unique(prediction)\n",
    "    dfs = []\n",
    "    for label in labels:\n",
    "        id_temp = np.where(prediction==label) # indices for each cluster\n",
    "        x_means = np.mean(tf_idf_array[id_temp], axis = 0) # returns average score across cluster\n",
    "        sorted_means = np.argsort(x_means)[::-1][:n_feats] # indices with top 20 scores\n",
    "        features = tf_idf_vectorizor.get_feature_names()\n",
    "        best_features = [(features[i], x_means[i]) for i in sorted_means]\n",
    "        df = pd.DataFrame(best_features, columns = ['features', 'score'])\n",
    "        dfs.append(df)\n",
    "    return dfs\n",
    "dfs = get_top_features_cluster(tf_idf_array,prediction, 10)"
   ]
  },
  {
   "cell_type": "code",
   "execution_count": 39,
   "metadata": {},
   "outputs": [],
   "source": [
    "august_cluster=dfs"
   ]
  },
  {
   "cell_type": "code",
   "execution_count": 40,
   "metadata": {},
   "outputs": [
    {
     "data": {
      "image/png": "[encoded data removed]",
      "text/plain": [
       "<Figure size 1440x720 with 1 Axes>"
      ]
     },
     "metadata": {},
     "output_type": "display_data"
    }
   ],
   "source": [
    "\n",
    "# Figure Size\n",
    "fig = plt.figure(figsize =(20, 10))\n",
    " \n",
    "# Horizontal Bar Plot\n",
    "sns.barplot(x='features',y='score',data=august_cluster[0]).set(title=\"Features of Cluster 1 of August\")\n",
    "plt.xlabel('Features',fontsize=20)\n",
    "plt.ylabel('Scores',fontsize=20)\n",
    "plt.xticks(rotation=45)\n",
    "# Show Plot\n",
    "plt.show()"
   ]
  },
  {
   "cell_type": "code",
   "execution_count": 41,
   "metadata": {},
   "outputs": [
    {
     "data": {
      "image/png": "[encoded data removed]",
      "text/plain": [
       "<Figure size 1440x720 with 1 Axes>"
      ]
     },
     "metadata": {},
     "output_type": "display_data"
    }
   ],
   "source": [
    "\n",
    "# Figure Size\n",
    "fig = plt.figure(figsize =(20, 10))\n",
    " \n",
    "# Horizontal Bar Plot\n",
    "sns.barplot(x='features',y='score',data=august_cluster[1]).set(title=\"Features of Cluster 2 of August\")\n",
    "plt.xlabel('Features',fontsize=20)\n",
    "plt.ylabel('Scores',fontsize=20)\n",
    "plt.xticks(rotation=45)\n",
    "# Show Plot\n",
    "plt.show()"
   ]
  },
  {
   "cell_type": "code",
   "execution_count": 42,
   "metadata": {},
   "outputs": [],
   "source": [
    "K1=dfs1[0]\n",
    "K2=dfs1[1]"
   ]
  },
  {
   "cell_type": "code",
   "execution_count": 43,
   "metadata": {},
   "outputs": [],
   "source": [
    "august_bw=pd.read_csv('AugustTopWords.csv')"
   ]
  },
  {
   "cell_type": "code",
   "execution_count": 44,
   "metadata": {},
   "outputs": [],
   "source": [
    "t=august_bw[:30]"
   ]
  },
  {
   "cell_type": "code",
   "execution_count": 45,
   "metadata": {},
   "outputs": [],
   "source": [
    "c1=[]\n",
    "p=0\n",
    "c2=[]\n",
    "q=0\n",
    "for i in range(0,30):\n",
    "    for j in range(0,100):\n",
    "        if(t.words[i]==K1['features'][j]):\n",
    "            c1.append(K1['features'][j])\n",
    "            p=p+1\n",
    "for i in range(0,30):\n",
    "    for j in range(0,100):\n",
    "        if(t.words[i]==K2['features'][j]):\n",
    "            c2.append(K1['features'][j])\n",
    "            q=q+1"
   ]
  },
  {
   "cell_type": "code",
   "execution_count": 46,
   "metadata": {},
   "outputs": [
    {
     "name": "stdout",
     "output_type": "stream",
     "text": [
      "25\n",
      "16\n"
     ]
    }
   ],
   "source": [
    "print(p)\n",
    "print(q)"
   ]
  },
  {
   "cell_type": "markdown",
   "metadata": {},
   "source": [
    "### Tweet Grouping"
   ]
  },
  {
   "cell_type": "code",
   "execution_count": 47,
   "metadata": {},
   "outputs": [
    {
     "data": {
      "text/html": [
       "<div>\n",
       "<style scoped>\n",
       "    .dataframe tbody tr th:only-of-type {\n",
       "        vertical-align: middle;\n",
       "    }\n",
       "\n",
       "    .dataframe tbody tr th {\n",
       "        vertical-align: top;\n",
       "    }\n",
       "\n",
       "    .dataframe thead th {\n",
       "        text-align: right;\n",
       "    }\n",
       "</style>\n",
       "<table border=\"1\" class=\"dataframe\">\n",
       "  <thead>\n",
       "    <tr style=\"text-align: right;\">\n",
       "      <th></th>\n",
       "      <th>tweet</th>\n",
       "      <th>clean_tweet</th>\n",
       "      <th>hastags</th>\n",
       "      <th>attherate</th>\n",
       "      <th>urls</th>\n",
       "      <th>emojis</th>\n",
       "      <th>label</th>\n",
       "    </tr>\n",
       "  </thead>\n",
       "  <tbody>\n",
       "    <tr>\n",
       "      <th>0</th>\n",
       "      <td>Line of Treatment for Covid-19 Hydroquinone  I...</td>\n",
       "      <td>treatment covid hydroquinon ivermectin zincovi...</td>\n",
       "      <td>[]</td>\n",
       "      <td>[]</td>\n",
       "      <td>[]</td>\n",
       "      <td>[]</td>\n",
       "      <td>0</td>\n",
       "    </tr>\n",
       "    <tr>\n",
       "      <th>1</th>\n",
       "      <td>Yes, it's Oxygen and Remdesivir Versus Hindu-M...</td>\n",
       "      <td>oxygen remdesivir versu hindumuslim agenda tim...</td>\n",
       "      <td>[]</td>\n",
       "      <td>[]</td>\n",
       "      <td>[]</td>\n",
       "      <td>[]</td>\n",
       "      <td>0</td>\n",
       "    </tr>\n",
       "    <tr>\n",
       "      <th>2</th>\n",
       "      <td>@KDMCOfficial one of my pts needs remdesivir a...</td>\n",
       "      <td>remdesivir tociluzimab urgent wid icu bed avai...</td>\n",
       "      <td>[]</td>\n",
       "      <td>['@KDMCOfficial']</td>\n",
       "      <td>[]</td>\n",
       "      <td>[]</td>\n",
       "      <td>0</td>\n",
       "    </tr>\n",
       "  </tbody>\n",
       "</table>\n",
       "</div>"
      ],
      "text/plain": [
       "                                               tweet  \\\n",
       "0  Line of Treatment for Covid-19 Hydroquinone  I...   \n",
       "1  Yes, it's Oxygen and Remdesivir Versus Hindu-M...   \n",
       "2  @KDMCOfficial one of my pts needs remdesivir a...   \n",
       "\n",
       "                                         clean_tweet hastags  \\\n",
       "0  treatment covid hydroquinon ivermectin zincovi...      []   \n",
       "1  oxygen remdesivir versu hindumuslim agenda tim...      []   \n",
       "2  remdesivir tociluzimab urgent wid icu bed avai...      []   \n",
       "\n",
       "           attherate urls emojis  label  \n",
       "0                 []   []     []      0  \n",
       "1                 []   []     []      0  \n",
       "2  ['@KDMCOfficial']   []     []      0  "
      ]
     },
     "execution_count": 47,
     "metadata": {},
     "output_type": "execute_result"
    }
   ],
   "source": [
    "label=kmeans.labels_\n",
    "august['label']=label\n",
    "august.head(3)"
   ]
  },
  {
   "cell_type": "code",
   "execution_count": 48,
   "metadata": {},
   "outputs": [
    {
     "data": {
      "text/plain": [
       "array([0, 1])"
      ]
     },
     "execution_count": 48,
     "metadata": {},
     "output_type": "execute_result"
    }
   ],
   "source": [
    "np.unique(august['label'])"
   ]
  },
  {
   "cell_type": "code",
   "execution_count": 49,
   "metadata": {},
   "outputs": [
    {
     "data": {
      "text/plain": [
       "0    1626\n",
       "1      72\n",
       "Name: label, dtype: int64"
      ]
     },
     "execution_count": 49,
     "metadata": {},
     "output_type": "execute_result"
    }
   ],
   "source": [
    "august['label'].value_counts()"
   ]
  },
  {
   "cell_type": "code",
   "execution_count": 50,
   "metadata": {},
   "outputs": [],
   "source": [
    "august_cluster_1=august[august.label ==0]\n",
    "august_cluster_2=august[august.label ==1]"
   ]
  },
  {
   "cell_type": "code",
   "execution_count": 51,
   "metadata": {},
   "outputs": [],
   "source": [
    "august_cluster_1.to_csv('AugustCluster1Tweet.csv')\n",
    "august_cluster_2.to_csv('AugustCluster2Tweet.csv')"
   ]
  },
  {
   "cell_type": "code",
   "execution_count": 52,
   "metadata": {},
   "outputs": [
    {
     "data": {
      "image/png": "[encoded data removed]",
      "text/plain": [
       "<Figure size 432x288 with 1 Axes>"
      ]
     },
     "metadata": {},
     "output_type": "display_data"
    }
   ],
   "source": [
    "count=august['label'].value_counts()\n",
    "tweet_freq_cluster=[]\n",
    "tweet_freq_cluster.append(count[0])\n",
    "tweet_freq_cluster.append(count[1])\n",
    "cluster_name=['Cluster 1','Cluster 2']\n",
    "explode = [0, 0.1]\n",
    "palette_color = sns.color_palette(\"husl\", 3)\n",
    "  \n",
    "# plotting data on chart\n",
    "plt.pie(tweet_freq_cluster, labels=cluster_name, colors=palette_color,   explode=explode,autopct='%.0f%%')\n",
    "plt.title(\"August\",fontsize=20)\n",
    "# displaying chart\n",
    "plt.show()"
   ]
  },
  {
   "cell_type": "code",
   "execution_count": null,
   "metadata": {},
   "outputs": [],
   "source": []
  }
 ],
 "metadata": {
  "interpreter": {
   "hash": "f5077de726081cd88c6b6f65b193df0af57117231466353a74e8f1aa7856d823"
  },
  "kernelspec": {
   "display_name": "Python 3.8.8 ('base')",
   "language": "python",
   "name": "python3"
  },
  "language_info": {
   "codemirror_mode": {
    "name": "ipython",
    "version": 3
   },
   "file_extension": ".py",
   "mimetype": "text/x-python",
   "name": "python",
   "nbconvert_exporter": "python",
   "pygments_lexer": "ipython3",
   "version": "3.8.8"
  },
  "orig_nbformat": 4
 },
 "nbformat": 4,
 "nbformat_minor": 2
}
