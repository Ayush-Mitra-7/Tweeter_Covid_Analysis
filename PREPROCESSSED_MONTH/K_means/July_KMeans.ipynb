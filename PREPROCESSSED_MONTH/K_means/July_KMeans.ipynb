{
 "cells": [
  {
   "cell_type": "code",
   "execution_count": 45,
   "metadata": {},
   "outputs": [],
   "source": [
    "import numpy as np \n",
    "import pandas as pd\n",
    "\n",
    "from K_means import Kmeans\n",
    "from sklearn.cluster import KMeans \n",
    "from sklearn.feature_extraction.text import TfidfVectorizer\n",
    "from sklearn.decomposition import PCA\n",
    "from sklearn.preprocessing import normalize\n",
    "from scipy.spatial.distance import cdist\n",
    "\n",
    "import string\n",
    "\n",
    "from nltk.corpus import stopwords\n",
    "\n",
    "from nltk.stem.wordnet import WordNetLemmatizer\n",
    "from nltk.stem import PorterStemmer\n",
    "from nltk.tokenize import word_tokenize\n",
    "import neattext.functions as nfx\n",
    "\n",
    "from textblob import TextBlob as tb\n",
    "from textblob import Word\n",
    "\n",
    "import matplotlib.pyplot as plt\n",
    "import seaborn as sns\n",
    "plt.style.use('ggplot')\n",
    "%matplotlib inline\n",
    "plt.style.use('fivethirtyeight')\n",
    "\n",
    "import warnings\n",
    "warnings.simplefilter('ignore')"
   ]
  },
  {
   "cell_type": "code",
   "execution_count": 46,
   "metadata": {},
   "outputs": [],
   "source": [
    "july=pd.read_csv('05_PREPROCESSED_JULY.csv')"
   ]
  },
  {
   "cell_type": "code",
   "execution_count": 47,
   "metadata": {},
   "outputs": [],
   "source": [
    "custom_words = ['from', 'subject', 're', 'edu', 'use', 'not', 'would', 'say', 'could', '_', 'be', 'know', 'good', 'go', 'get', 'do', 'done', 'try', 'many', 'some', 'nice', 'thank', 'think', 'see', 'rather',\n",
    "                'easy', 'easily', 'lot', 'lack', 'make', 'want', 'seem', 'run', 'need', 'even', 'right', 'line', 'even', 'also', 'may', 'take', 'come', '%', '.', 'the', 'etc', 'pls', 'btw', 'let', 'hgd', 'get', 'amp', 'gt','lt','hrs','dos','say','reply','sir','replying','update','sri']"
   ]
  },
  {
   "cell_type": "code",
   "execution_count": 48,
   "metadata": {},
   "outputs": [],
   "source": [
    "for i in range(0,july.shape[0]):\n",
    "    july['clean_tweet'][i]= ''.join([i for i in july['clean_tweet'][i] if not i.isdigit()])\n",
    "    july['clean_tweet'][i]=july['clean_tweet'][i].lower()\n",
    "    july['clean_tweet'][i]=nfx.remove_custom_words(july['clean_tweet'][i],custom_words)"
   ]
  },
  {
   "cell_type": "code",
   "execution_count": 49,
   "metadata": {},
   "outputs": [],
   "source": [
    "tweets_july=july['clean_tweet']"
   ]
  },
  {
   "cell_type": "code",
   "execution_count": 50,
   "metadata": {},
   "outputs": [],
   "source": [
    "tweet_list_july = tweets_july.apply(nfx.remove_stopwords)\n",
    "tweet_list_july = tweet_list_july .apply(nfx.remove_special_characters)\n",
    "tweet_list_july = tweet_list_july.apply(nfx.remove_punctuations)"
   ]
  },
  {
   "cell_type": "code",
   "execution_count": 51,
   "metadata": {},
   "outputs": [],
   "source": [
    "def remove_single_char(list):\n",
    "    for token in list:\n",
    "        if( len(token)==1):\n",
    "            list.remove(token)\n",
    "def remove_dual_char(list):\n",
    "    for token in list:\n",
    "        if( len(token)==2):\n",
    "            list.remove(token)\n",
    "def remove_words(list1, remove_words):\n",
    "    for word in list(list1):\n",
    "        if word in remove_words:\n",
    "            list1.remove(word)\n",
    "    return list1   "
   ]
  },
  {
   "cell_type": "code",
   "execution_count": 52,
   "metadata": {},
   "outputs": [],
   "source": [
    "def Convert_list(string):\n",
    "    li = list(string.split(\" \"))\n",
    "    return li\n",
    "def listToString(s): \n",
    "    str1 = \" \" \n",
    "    return (str1.join(s))"
   ]
  },
  {
   "cell_type": "code",
   "execution_count": 53,
   "metadata": {},
   "outputs": [],
   "source": [
    "for i in range(0,july.shape[0]):\n",
    "    ls=Convert_list(tweet_list_july[i])\n",
    "    remove_single_char(ls)\n",
    "    remove_dual_char(ls)\n",
    "    ls=remove_words(ls,custom_words)\n",
    "    tweet_list_july[i]=listToString(ls)"
   ]
  },
  {
   "cell_type": "code",
   "execution_count": 54,
   "metadata": {},
   "outputs": [],
   "source": [
    "def my_lemma(token,i=0):\n",
    "    word=tb(token)\n",
    "    tags=word.tags\n",
    "    sample=Word(tags[0][0])\n",
    "    if tags[0][1][0] =='V':\n",
    "        x=sample.lemmatize('v')\n",
    "        ls[i]=x\n",
    "    else:\n",
    "        x=sample.lemmatize()\n",
    "        ls[i]=x"
   ]
  },
  {
   "cell_type": "code",
   "execution_count": 55,
   "metadata": {},
   "outputs": [],
   "source": [
    "for i in range(0,july.shape[0]):\n",
    "    ls=Convert_list(tweet_list_july[i])\n",
    "    for j in range(0,len(ls)):\n",
    "        text=ls[j]\n",
    "        if(text==\"\"):\n",
    "                continue\n",
    "        word=tb(text)\n",
    "        tags=word.tags\n",
    "        sample=Word(tags[0][0])\n",
    "        if tags[0][1][0] =='V':\n",
    "                x=sample.lemmatize('v')\n",
    "                ls[j]=x\n",
    "        else:\n",
    "                x=sample.lemmatize()\n",
    "                ls[j]=x"
   ]
  },
  {
   "cell_type": "code",
   "execution_count": 56,
   "metadata": {},
   "outputs": [],
   "source": [
    "for i in range(0,july.shape[0]):\n",
    "    ls=Convert_list(tweet_list_july[i])\n",
    "    for j in range(0,len(ls)):\n",
    "        text=ls[j]\n",
    "        if(text==\"\"):\n",
    "            continue\n",
    "        my_lemma(text,j)\n",
    "    tweet_list_july[i]=listToString(ls)"
   ]
  },
  {
   "cell_type": "code",
   "execution_count": 57,
   "metadata": {},
   "outputs": [],
   "source": [
    "for i in range(0,july.shape[0]):\n",
    "    ls=Convert_list(tweet_list_july[i])\n",
    "    ls=remove_words(ls,custom_words)\n",
    "    tweet_list_july[i]=listToString(ls)"
   ]
  },
  {
   "cell_type": "code",
   "execution_count": 58,
   "metadata": {},
   "outputs": [],
   "source": [
    "july['clean_tweet']=tweet_list_july"
   ]
  },
  {
   "cell_type": "code",
   "execution_count": 59,
   "metadata": {},
   "outputs": [
    {
     "data": {
      "text/plain": [
       "0                                     covid admission far\n",
       "1                  uggah sarawak free covid delta variant\n",
       "2                                  follow covid guideline\n",
       "3       parent senior citizen vaccinate way port blair...\n",
       "4       fastspreading delta variant vaccination rate r...\n",
       "                              ...                        \n",
       "1988    double vaccine protect variant report afp news...\n",
       "1989          covid vaccine havent vaccine love one world\n",
       "1990                  salute real worrier covid   kolkata\n",
       "1991    passenger fully vaccinate pcr formality best i...\n",
       "1992    warm wish doctor day doctor work hard restore ...\n",
       "Name: clean_tweet, Length: 1993, dtype: object"
      ]
     },
     "execution_count": 59,
     "metadata": {},
     "output_type": "execute_result"
    }
   ],
   "source": [
    "july['clean_tweet']"
   ]
  },
  {
   "cell_type": "code",
   "execution_count": 60,
   "metadata": {},
   "outputs": [],
   "source": [
    "tweet_list_july=july['clean_tweet']"
   ]
  },
  {
   "cell_type": "code",
   "execution_count": 61,
   "metadata": {},
   "outputs": [],
   "source": [
    "ps=PorterStemmer()"
   ]
  },
  {
   "cell_type": "code",
   "execution_count": 62,
   "metadata": {},
   "outputs": [],
   "source": [
    "for i in range(0,july.shape[0]):\n",
    "    ls=july['clean_tweet'][i]\n",
    "    words = word_tokenize(ls)\n",
    "    st=\"\"\n",
    "    for w in words:\n",
    "        w=ps.stem(w)\n",
    "        st+=w+' '\n",
    "    july['clean_tweet'][i]=st"
   ]
  },
  {
   "cell_type": "code",
   "execution_count": 63,
   "metadata": {},
   "outputs": [],
   "source": [
    "for i in range(0,july.shape[0]):\n",
    "    ls=Convert_list(tweet_list_july[i])\n",
    "    remove_single_char(ls)\n",
    "    remove_dual_char(ls)\n",
    "    ls=remove_words(ls,custom_words)\n",
    "    tweet_list_july[i]=listToString(ls)"
   ]
  },
  {
   "cell_type": "code",
   "execution_count": 64,
   "metadata": {},
   "outputs": [],
   "source": [
    "july['clean_tweet']=tweet_list_july"
   ]
  },
  {
   "cell_type": "markdown",
   "metadata": {},
   "source": [
    "# K-Means"
   ]
  },
  {
   "cell_type": "code",
   "execution_count": 65,
   "metadata": {},
   "outputs": [],
   "source": [
    "data =july['clean_tweet']\n",
    "\n",
    "tf_idf_vectorizor = TfidfVectorizer(stop_words = 'english',#tokenizer = tokenize_and_stem,\n",
    "                             max_features = 20000)\n",
    "tf_idf = tf_idf_vectorizor.fit_transform(data)\n",
    "tf_idf_norm = normalize(tf_idf)\n",
    "tf_idf_array = tf_idf_norm.toarray()"
   ]
  },
  {
   "cell_type": "code",
   "execution_count": 66,
   "metadata": {},
   "outputs": [
    {
     "data": {
      "text/html": [
       "<div>\n",
       "<style scoped>\n",
       "    .dataframe tbody tr th:only-of-type {\n",
       "        vertical-align: middle;\n",
       "    }\n",
       "\n",
       "    .dataframe tbody tr th {\n",
       "        vertical-align: top;\n",
       "    }\n",
       "\n",
       "    .dataframe thead th {\n",
       "        text-align: right;\n",
       "    }\n",
       "</style>\n",
       "<table border=\"1\" class=\"dataframe\">\n",
       "  <thead>\n",
       "    <tr style=\"text-align: right;\">\n",
       "      <th></th>\n",
       "      <th>aadhar</th>\n",
       "      <th>aai</th>\n",
       "      <th>aananda</th>\n",
       "      <th>aankh</th>\n",
       "      <th>aao</th>\n",
       "      <th>aap</th>\n",
       "      <th>aayurved</th>\n",
       "      <th>abbott</th>\n",
       "      <th>abcd</th>\n",
       "      <th>abduct</th>\n",
       "      <th>...</th>\n",
       "      <th>yup</th>\n",
       "      <th>yvett</th>\n",
       "      <th>zafar</th>\n",
       "      <th>zampmilk</th>\n",
       "      <th>zbhkk</th>\n",
       "      <th>zealand</th>\n",
       "      <th>zee</th>\n",
       "      <th>zero</th>\n",
       "      <th>zika</th>\n",
       "      <th>zone</th>\n",
       "    </tr>\n",
       "  </thead>\n",
       "  <tbody>\n",
       "    <tr>\n",
       "      <th>0</th>\n",
       "      <td>0.0</td>\n",
       "      <td>0.0</td>\n",
       "      <td>0.0</td>\n",
       "      <td>0.0</td>\n",
       "      <td>0.0</td>\n",
       "      <td>0.0</td>\n",
       "      <td>0.0</td>\n",
       "      <td>0.0</td>\n",
       "      <td>0.0</td>\n",
       "      <td>0.0</td>\n",
       "      <td>...</td>\n",
       "      <td>0.0</td>\n",
       "      <td>0.0</td>\n",
       "      <td>0.0</td>\n",
       "      <td>0.0</td>\n",
       "      <td>0.0</td>\n",
       "      <td>0.0</td>\n",
       "      <td>0.0</td>\n",
       "      <td>0.0</td>\n",
       "      <td>0.0</td>\n",
       "      <td>0.0</td>\n",
       "    </tr>\n",
       "    <tr>\n",
       "      <th>1</th>\n",
       "      <td>0.0</td>\n",
       "      <td>0.0</td>\n",
       "      <td>0.0</td>\n",
       "      <td>0.0</td>\n",
       "      <td>0.0</td>\n",
       "      <td>0.0</td>\n",
       "      <td>0.0</td>\n",
       "      <td>0.0</td>\n",
       "      <td>0.0</td>\n",
       "      <td>0.0</td>\n",
       "      <td>...</td>\n",
       "      <td>0.0</td>\n",
       "      <td>0.0</td>\n",
       "      <td>0.0</td>\n",
       "      <td>0.0</td>\n",
       "      <td>0.0</td>\n",
       "      <td>0.0</td>\n",
       "      <td>0.0</td>\n",
       "      <td>0.0</td>\n",
       "      <td>0.0</td>\n",
       "      <td>0.0</td>\n",
       "    </tr>\n",
       "    <tr>\n",
       "      <th>2</th>\n",
       "      <td>0.0</td>\n",
       "      <td>0.0</td>\n",
       "      <td>0.0</td>\n",
       "      <td>0.0</td>\n",
       "      <td>0.0</td>\n",
       "      <td>0.0</td>\n",
       "      <td>0.0</td>\n",
       "      <td>0.0</td>\n",
       "      <td>0.0</td>\n",
       "      <td>0.0</td>\n",
       "      <td>...</td>\n",
       "      <td>0.0</td>\n",
       "      <td>0.0</td>\n",
       "      <td>0.0</td>\n",
       "      <td>0.0</td>\n",
       "      <td>0.0</td>\n",
       "      <td>0.0</td>\n",
       "      <td>0.0</td>\n",
       "      <td>0.0</td>\n",
       "      <td>0.0</td>\n",
       "      <td>0.0</td>\n",
       "    </tr>\n",
       "    <tr>\n",
       "      <th>3</th>\n",
       "      <td>0.0</td>\n",
       "      <td>0.0</td>\n",
       "      <td>0.0</td>\n",
       "      <td>0.0</td>\n",
       "      <td>0.0</td>\n",
       "      <td>0.0</td>\n",
       "      <td>0.0</td>\n",
       "      <td>0.0</td>\n",
       "      <td>0.0</td>\n",
       "      <td>0.0</td>\n",
       "      <td>...</td>\n",
       "      <td>0.0</td>\n",
       "      <td>0.0</td>\n",
       "      <td>0.0</td>\n",
       "      <td>0.0</td>\n",
       "      <td>0.0</td>\n",
       "      <td>0.0</td>\n",
       "      <td>0.0</td>\n",
       "      <td>0.0</td>\n",
       "      <td>0.0</td>\n",
       "      <td>0.0</td>\n",
       "    </tr>\n",
       "    <tr>\n",
       "      <th>4</th>\n",
       "      <td>0.0</td>\n",
       "      <td>0.0</td>\n",
       "      <td>0.0</td>\n",
       "      <td>0.0</td>\n",
       "      <td>0.0</td>\n",
       "      <td>0.0</td>\n",
       "      <td>0.0</td>\n",
       "      <td>0.0</td>\n",
       "      <td>0.0</td>\n",
       "      <td>0.0</td>\n",
       "      <td>...</td>\n",
       "      <td>0.0</td>\n",
       "      <td>0.0</td>\n",
       "      <td>0.0</td>\n",
       "      <td>0.0</td>\n",
       "      <td>0.0</td>\n",
       "      <td>0.0</td>\n",
       "      <td>0.0</td>\n",
       "      <td>0.0</td>\n",
       "      <td>0.0</td>\n",
       "      <td>0.0</td>\n",
       "    </tr>\n",
       "    <tr>\n",
       "      <th>...</th>\n",
       "      <td>...</td>\n",
       "      <td>...</td>\n",
       "      <td>...</td>\n",
       "      <td>...</td>\n",
       "      <td>...</td>\n",
       "      <td>...</td>\n",
       "      <td>...</td>\n",
       "      <td>...</td>\n",
       "      <td>...</td>\n",
       "      <td>...</td>\n",
       "      <td>...</td>\n",
       "      <td>...</td>\n",
       "      <td>...</td>\n",
       "      <td>...</td>\n",
       "      <td>...</td>\n",
       "      <td>...</td>\n",
       "      <td>...</td>\n",
       "      <td>...</td>\n",
       "      <td>...</td>\n",
       "      <td>...</td>\n",
       "      <td>...</td>\n",
       "    </tr>\n",
       "    <tr>\n",
       "      <th>1988</th>\n",
       "      <td>0.0</td>\n",
       "      <td>0.0</td>\n",
       "      <td>0.0</td>\n",
       "      <td>0.0</td>\n",
       "      <td>0.0</td>\n",
       "      <td>0.0</td>\n",
       "      <td>0.0</td>\n",
       "      <td>0.0</td>\n",
       "      <td>0.0</td>\n",
       "      <td>0.0</td>\n",
       "      <td>...</td>\n",
       "      <td>0.0</td>\n",
       "      <td>0.0</td>\n",
       "      <td>0.0</td>\n",
       "      <td>0.0</td>\n",
       "      <td>0.0</td>\n",
       "      <td>0.0</td>\n",
       "      <td>0.0</td>\n",
       "      <td>0.0</td>\n",
       "      <td>0.0</td>\n",
       "      <td>0.0</td>\n",
       "    </tr>\n",
       "    <tr>\n",
       "      <th>1989</th>\n",
       "      <td>0.0</td>\n",
       "      <td>0.0</td>\n",
       "      <td>0.0</td>\n",
       "      <td>0.0</td>\n",
       "      <td>0.0</td>\n",
       "      <td>0.0</td>\n",
       "      <td>0.0</td>\n",
       "      <td>0.0</td>\n",
       "      <td>0.0</td>\n",
       "      <td>0.0</td>\n",
       "      <td>...</td>\n",
       "      <td>0.0</td>\n",
       "      <td>0.0</td>\n",
       "      <td>0.0</td>\n",
       "      <td>0.0</td>\n",
       "      <td>0.0</td>\n",
       "      <td>0.0</td>\n",
       "      <td>0.0</td>\n",
       "      <td>0.0</td>\n",
       "      <td>0.0</td>\n",
       "      <td>0.0</td>\n",
       "    </tr>\n",
       "    <tr>\n",
       "      <th>1990</th>\n",
       "      <td>0.0</td>\n",
       "      <td>0.0</td>\n",
       "      <td>0.0</td>\n",
       "      <td>0.0</td>\n",
       "      <td>0.0</td>\n",
       "      <td>0.0</td>\n",
       "      <td>0.0</td>\n",
       "      <td>0.0</td>\n",
       "      <td>0.0</td>\n",
       "      <td>0.0</td>\n",
       "      <td>...</td>\n",
       "      <td>0.0</td>\n",
       "      <td>0.0</td>\n",
       "      <td>0.0</td>\n",
       "      <td>0.0</td>\n",
       "      <td>0.0</td>\n",
       "      <td>0.0</td>\n",
       "      <td>0.0</td>\n",
       "      <td>0.0</td>\n",
       "      <td>0.0</td>\n",
       "      <td>0.0</td>\n",
       "    </tr>\n",
       "    <tr>\n",
       "      <th>1991</th>\n",
       "      <td>0.0</td>\n",
       "      <td>0.0</td>\n",
       "      <td>0.0</td>\n",
       "      <td>0.0</td>\n",
       "      <td>0.0</td>\n",
       "      <td>0.0</td>\n",
       "      <td>0.0</td>\n",
       "      <td>0.0</td>\n",
       "      <td>0.0</td>\n",
       "      <td>0.0</td>\n",
       "      <td>...</td>\n",
       "      <td>0.0</td>\n",
       "      <td>0.0</td>\n",
       "      <td>0.0</td>\n",
       "      <td>0.0</td>\n",
       "      <td>0.0</td>\n",
       "      <td>0.0</td>\n",
       "      <td>0.0</td>\n",
       "      <td>0.0</td>\n",
       "      <td>0.0</td>\n",
       "      <td>0.0</td>\n",
       "    </tr>\n",
       "    <tr>\n",
       "      <th>1992</th>\n",
       "      <td>0.0</td>\n",
       "      <td>0.0</td>\n",
       "      <td>0.0</td>\n",
       "      <td>0.0</td>\n",
       "      <td>0.0</td>\n",
       "      <td>0.0</td>\n",
       "      <td>0.0</td>\n",
       "      <td>0.0</td>\n",
       "      <td>0.0</td>\n",
       "      <td>0.0</td>\n",
       "      <td>...</td>\n",
       "      <td>0.0</td>\n",
       "      <td>0.0</td>\n",
       "      <td>0.0</td>\n",
       "      <td>0.0</td>\n",
       "      <td>0.0</td>\n",
       "      <td>0.0</td>\n",
       "      <td>0.0</td>\n",
       "      <td>0.0</td>\n",
       "      <td>0.0</td>\n",
       "      <td>0.0</td>\n",
       "    </tr>\n",
       "  </tbody>\n",
       "</table>\n",
       "<p>1993 rows × 5330 columns</p>\n",
       "</div>"
      ],
      "text/plain": [
       "      aadhar  aai  aananda  aankh  aao  aap  aayurved  abbott  abcd  abduct  \\\n",
       "0        0.0  0.0      0.0    0.0  0.0  0.0       0.0     0.0   0.0     0.0   \n",
       "1        0.0  0.0      0.0    0.0  0.0  0.0       0.0     0.0   0.0     0.0   \n",
       "2        0.0  0.0      0.0    0.0  0.0  0.0       0.0     0.0   0.0     0.0   \n",
       "3        0.0  0.0      0.0    0.0  0.0  0.0       0.0     0.0   0.0     0.0   \n",
       "4        0.0  0.0      0.0    0.0  0.0  0.0       0.0     0.0   0.0     0.0   \n",
       "...      ...  ...      ...    ...  ...  ...       ...     ...   ...     ...   \n",
       "1988     0.0  0.0      0.0    0.0  0.0  0.0       0.0     0.0   0.0     0.0   \n",
       "1989     0.0  0.0      0.0    0.0  0.0  0.0       0.0     0.0   0.0     0.0   \n",
       "1990     0.0  0.0      0.0    0.0  0.0  0.0       0.0     0.0   0.0     0.0   \n",
       "1991     0.0  0.0      0.0    0.0  0.0  0.0       0.0     0.0   0.0     0.0   \n",
       "1992     0.0  0.0      0.0    0.0  0.0  0.0       0.0     0.0   0.0     0.0   \n",
       "\n",
       "      ...  yup  yvett  zafar  zampmilk  zbhkk  zealand  zee  zero  zika  zone  \n",
       "0     ...  0.0    0.0    0.0       0.0    0.0      0.0  0.0   0.0   0.0   0.0  \n",
       "1     ...  0.0    0.0    0.0       0.0    0.0      0.0  0.0   0.0   0.0   0.0  \n",
       "2     ...  0.0    0.0    0.0       0.0    0.0      0.0  0.0   0.0   0.0   0.0  \n",
       "3     ...  0.0    0.0    0.0       0.0    0.0      0.0  0.0   0.0   0.0   0.0  \n",
       "4     ...  0.0    0.0    0.0       0.0    0.0      0.0  0.0   0.0   0.0   0.0  \n",
       "...   ...  ...    ...    ...       ...    ...      ...  ...   ...   ...   ...  \n",
       "1988  ...  0.0    0.0    0.0       0.0    0.0      0.0  0.0   0.0   0.0   0.0  \n",
       "1989  ...  0.0    0.0    0.0       0.0    0.0      0.0  0.0   0.0   0.0   0.0  \n",
       "1990  ...  0.0    0.0    0.0       0.0    0.0      0.0  0.0   0.0   0.0   0.0  \n",
       "1991  ...  0.0    0.0    0.0       0.0    0.0      0.0  0.0   0.0   0.0   0.0  \n",
       "1992  ...  0.0    0.0    0.0       0.0    0.0      0.0  0.0   0.0   0.0   0.0  \n",
       "\n",
       "[1993 rows x 5330 columns]"
      ]
     },
     "execution_count": 66,
     "metadata": {},
     "output_type": "execute_result"
    }
   ],
   "source": [
    "pd.DataFrame(tf_idf_array, columns=tf_idf_vectorizor.get_feature_names())"
   ]
  },
  {
   "cell_type": "code",
   "execution_count": 67,
   "metadata": {},
   "outputs": [
    {
     "data": {
      "image/png": "[encoded data removed]",
      "text/plain": [
       "<Figure size 432x288 with 1 Axes>"
      ]
     },
     "metadata": {},
     "output_type": "display_data"
    }
   ],
   "source": [
    "sklearn_pca = PCA(n_components = 2)\n",
    "Y_sklearn = sklearn_pca.fit_transform(tf_idf_array)\n",
    "kmeans_kwargs = {\"init\": \"k-means++\",\"n_init\": 2,\"max_iter\": 1000,\"random_state\": 42,}\n",
    "# A list holds the SSE values for each k\n",
    "sse = []\n",
    "for k in range(1, 11):\n",
    "    kmeans = KMeans(n_clusters=k, **kmeans_kwargs)\n",
    "    kmeans.fit(Y_sklearn)\n",
    "    sse.append(kmeans.inertia_)\n",
    "plt.style.use(\"fivethirtyeight\")\n",
    "plt.plot(range(1, 11), sse)\n",
    "plt.plot(range(1, 11), sse,'r*')\n",
    "plt.xticks(range(1, 11))\n",
    "plt.yticks(range(0,60,10))\n",
    "plt.xlabel(\"Number of Clusters\")\n",
    "plt.ylabel(\"SSE\")\n",
    "plt.show()\n"
   ]
  },
  {
   "cell_type": "code",
   "execution_count": 68,
   "metadata": {},
   "outputs": [
    {
     "name": "stdout",
     "output_type": "stream",
     "text": [
      "For n_clusters = 2 The average silhouette_score is : 0.7457518423539595\n",
      "For n_clusters = 3 The average silhouette_score is : 0.6575683027605923\n",
      "For n_clusters = 4 The average silhouette_score is : 0.5326177732207111\n",
      "For n_clusters = 5 The average silhouette_score is : 0.4242249062606434\n",
      "For n_clusters = 6 The average silhouette_score is : 0.5294750306521612\n",
      "For n_clusters = 7 The average silhouette_score is : 0.46701011846427726\n",
      "For n_clusters = 8 The average silhouette_score is : 0.4989543988096248\n",
      "For n_clusters = 9 The average silhouette_score is : 0.5183257940454857\n",
      "For n_clusters = 10 The average silhouette_score is : 0.5103596136063946\n"
     ]
    },
    {
     "data": {
      "image/png": "[encoded data removed]",
      "text/plain": [
       "<Figure size 432x288 with 1 Axes>"
      ]
     },
     "metadata": {},
     "output_type": "display_data"
    }
   ],
   "source": [
    "from sklearn.metrics import silhouette_samples, silhouette_score\n",
    "import matplotlib.style as style\n",
    "range_n_clusters = [2, 3, 4, 5, 6,7,8,9,10]\n",
    "silhouette_avg_n_clusters = []\n",
    "\n",
    "for n_clusters in range_n_clusters:\n",
    "    clusterer = KMeans(n_clusters=n_clusters, **kmeans_kwargs)\n",
    "    cluster_labels = clusterer.fit_predict(Y_sklearn)\n",
    "\n",
    "    # The silhouette_score gives the average value for all the samples.\n",
    "    # This gives a perspective into the density and separation of the formed\n",
    "    # clusters\n",
    "    silhouette_avg = silhouette_score(Y_sklearn, cluster_labels)\n",
    "    print(\"For n_clusters =\", n_clusters,\n",
    "          \"The average silhouette_score is :\", silhouette_avg)\n",
    "\n",
    "    silhouette_avg_n_clusters.append(silhouette_avg)\n",
    "    # Compute the silhouette scores for each sample\n",
    "    sample_silhouette_values = silhouette_samples(Y_sklearn, cluster_labels)\n",
    "style.use(\"fivethirtyeight\")\n",
    "plt.plot(range_n_clusters, silhouette_avg_n_clusters)\n",
    "plt.xlabel(\"Number of Clusters (k)\")\n",
    "plt.ylabel(\"silhouette score\")\n",
    "plt.xticks(range(1, 11))\n",
    "plt.show()"
   ]
  },
  {
   "cell_type": "code",
   "execution_count": 69,
   "metadata": {},
   "outputs": [
    {
     "data": {
      "text/plain": [
       "Text(0.5, 1.0, 'July')"
      ]
     },
     "execution_count": 69,
     "metadata": {},
     "output_type": "execute_result"
    },
    {
     "data": {
      "image/png": "[encoded data removed]",
      "text/plain": [
       "<Figure size 432x288 with 1 Axes>"
      ]
     },
     "metadata": {},
     "output_type": "display_data"
    }
   ],
   "source": [
    "sklearn_pca = PCA(n_components = 2)\n",
    "Y_sklearn = sklearn_pca.fit_transform(tf_idf_array)\n",
    "kmeans = KMeans(n_clusters=2, max_iter=1000,n_init=2, algorithm = 'auto')\n",
    "fitted = kmeans.fit(Y_sklearn)\n",
    "prediction = kmeans.predict(Y_sklearn)\n",
    "\n",
    "centers = fitted.cluster_centers_\n",
    "plt.scatter(Y_sklearn[:, 0], Y_sklearn[:, 1], c=prediction, s=50, cmap='viridis')\n",
    "plt.scatter(centers[:, 0], centers[:, 1],c='red', s=50, alpha=0.6);\n",
    "# plt.xlabel(\"Feature space for the 1st feature\")\n",
    "# plt.ylabel(\"Feature space for the 2nd feature\")\n",
    "plt.title(\"July\",fontsize=20)"
   ]
  },
  {
   "cell_type": "code",
   "execution_count": 70,
   "metadata": {},
   "outputs": [],
   "source": [
    "labels = np.unique(prediction)\n",
    "dfs1 = []\n",
    "for label in labels:\n",
    "    id_temp = np.where(prediction==label) \n",
    "    x_means = np.mean(tf_idf_array[id_temp], axis = 0) # returns average score across cluster\n",
    "    sorted_means = np.argsort(x_means)[::-1]\n",
    "    features = tf_idf_vectorizor.get_feature_names()\n",
    "    best_features = [(features[i], x_means[i]) for i in sorted_means]\n",
    "    df = pd.DataFrame(best_features, columns = ['features', 'score'])\n",
    "    dfs1.append(df)"
   ]
  },
  {
   "cell_type": "code",
   "execution_count": 71,
   "metadata": {},
   "outputs": [
    {
     "data": {
      "text/html": [
       "<div>\n",
       "<style scoped>\n",
       "    .dataframe tbody tr th:only-of-type {\n",
       "        vertical-align: middle;\n",
       "    }\n",
       "\n",
       "    .dataframe tbody tr th {\n",
       "        vertical-align: top;\n",
       "    }\n",
       "\n",
       "    .dataframe thead th {\n",
       "        text-align: right;\n",
       "    }\n",
       "</style>\n",
       "<table border=\"1\" class=\"dataframe\">\n",
       "  <thead>\n",
       "    <tr style=\"text-align: right;\">\n",
       "      <th></th>\n",
       "      <th>features</th>\n",
       "      <th>score</th>\n",
       "    </tr>\n",
       "  </thead>\n",
       "  <tbody>\n",
       "    <tr>\n",
       "      <th>0</th>\n",
       "      <td>covid</td>\n",
       "      <td>0.051482</td>\n",
       "    </tr>\n",
       "    <tr>\n",
       "      <th>1</th>\n",
       "      <td>vaccin</td>\n",
       "      <td>0.039568</td>\n",
       "    </tr>\n",
       "    <tr>\n",
       "      <th>2</th>\n",
       "      <td>corona</td>\n",
       "      <td>0.026181</td>\n",
       "    </tr>\n",
       "    <tr>\n",
       "      <th>3</th>\n",
       "      <td>case</td>\n",
       "      <td>0.022454</td>\n",
       "    </tr>\n",
       "    <tr>\n",
       "      <th>4</th>\n",
       "      <td>coronaviru</td>\n",
       "      <td>0.021175</td>\n",
       "    </tr>\n",
       "    <tr>\n",
       "      <th>...</th>\n",
       "      <td>...</td>\n",
       "      <td>...</td>\n",
       "    </tr>\n",
       "    <tr>\n",
       "      <th>5325</th>\n",
       "      <td>districtkushtia</td>\n",
       "      <td>0.000000</td>\n",
       "    </tr>\n",
       "    <tr>\n",
       "      <th>5326</th>\n",
       "      <td>kushtia</td>\n",
       "      <td>0.000000</td>\n",
       "    </tr>\n",
       "    <tr>\n",
       "      <th>5327</th>\n",
       "      <td>clue</td>\n",
       "      <td>0.000000</td>\n",
       "    </tr>\n",
       "    <tr>\n",
       "      <th>5328</th>\n",
       "      <td>neighbor</td>\n",
       "      <td>0.000000</td>\n",
       "    </tr>\n",
       "    <tr>\n",
       "      <th>5329</th>\n",
       "      <td>zika</td>\n",
       "      <td>0.000000</td>\n",
       "    </tr>\n",
       "  </tbody>\n",
       "</table>\n",
       "<p>5330 rows × 2 columns</p>\n",
       "</div>"
      ],
      "text/plain": [
       "             features     score\n",
       "0               covid  0.051482\n",
       "1              vaccin  0.039568\n",
       "2              corona  0.026181\n",
       "3                case  0.022454\n",
       "4          coronaviru  0.021175\n",
       "...               ...       ...\n",
       "5325  districtkushtia  0.000000\n",
       "5326          kushtia  0.000000\n",
       "5327             clue  0.000000\n",
       "5328         neighbor  0.000000\n",
       "5329             zika  0.000000\n",
       "\n",
       "[5330 rows x 2 columns]"
      ]
     },
     "execution_count": 71,
     "metadata": {},
     "output_type": "execute_result"
    }
   ],
   "source": [
    "dfs1[0]"
   ]
  },
  {
   "cell_type": "code",
   "execution_count": 72,
   "metadata": {},
   "outputs": [
    {
     "data": {
      "text/html": [
       "<div>\n",
       "<style scoped>\n",
       "    .dataframe tbody tr th:only-of-type {\n",
       "        vertical-align: middle;\n",
       "    }\n",
       "\n",
       "    .dataframe tbody tr th {\n",
       "        vertical-align: top;\n",
       "    }\n",
       "\n",
       "    .dataframe thead th {\n",
       "        text-align: right;\n",
       "    }\n",
       "</style>\n",
       "<table border=\"1\" class=\"dataframe\">\n",
       "  <thead>\n",
       "    <tr style=\"text-align: right;\">\n",
       "      <th></th>\n",
       "      <th>features</th>\n",
       "      <th>score</th>\n",
       "    </tr>\n",
       "  </thead>\n",
       "  <tbody>\n",
       "    <tr>\n",
       "      <th>0</th>\n",
       "      <td>viru</td>\n",
       "      <td>0.411837</td>\n",
       "    </tr>\n",
       "    <tr>\n",
       "      <th>1</th>\n",
       "      <td>corona</td>\n",
       "      <td>0.370553</td>\n",
       "    </tr>\n",
       "    <tr>\n",
       "      <th>2</th>\n",
       "      <td>awar</td>\n",
       "      <td>0.070205</td>\n",
       "    </tr>\n",
       "    <tr>\n",
       "      <th>3</th>\n",
       "      <td>bulletin</td>\n",
       "      <td>0.057981</td>\n",
       "    </tr>\n",
       "    <tr>\n",
       "      <th>4</th>\n",
       "      <td>recov</td>\n",
       "      <td>0.055163</td>\n",
       "    </tr>\n",
       "    <tr>\n",
       "      <th>...</th>\n",
       "      <td>...</td>\n",
       "      <td>...</td>\n",
       "    </tr>\n",
       "    <tr>\n",
       "      <th>5325</th>\n",
       "      <td>period</td>\n",
       "      <td>0.000000</td>\n",
       "    </tr>\n",
       "    <tr>\n",
       "      <th>5326</th>\n",
       "      <td>perman</td>\n",
       "      <td>0.000000</td>\n",
       "    </tr>\n",
       "    <tr>\n",
       "      <th>5327</th>\n",
       "      <td>permen</td>\n",
       "      <td>0.000000</td>\n",
       "    </tr>\n",
       "    <tr>\n",
       "      <th>5328</th>\n",
       "      <td>permiss</td>\n",
       "      <td>0.000000</td>\n",
       "    </tr>\n",
       "    <tr>\n",
       "      <th>5329</th>\n",
       "      <td>aadhar</td>\n",
       "      <td>0.000000</td>\n",
       "    </tr>\n",
       "  </tbody>\n",
       "</table>\n",
       "<p>5330 rows × 2 columns</p>\n",
       "</div>"
      ],
      "text/plain": [
       "      features     score\n",
       "0         viru  0.411837\n",
       "1       corona  0.370553\n",
       "2         awar  0.070205\n",
       "3     bulletin  0.057981\n",
       "4        recov  0.055163\n",
       "...        ...       ...\n",
       "5325    period  0.000000\n",
       "5326    perman  0.000000\n",
       "5327    permen  0.000000\n",
       "5328   permiss  0.000000\n",
       "5329    aadhar  0.000000\n",
       "\n",
       "[5330 rows x 2 columns]"
      ]
     },
     "execution_count": 72,
     "metadata": {},
     "output_type": "execute_result"
    }
   ],
   "source": [
    "dfs1[1]"
   ]
  },
  {
   "cell_type": "code",
   "execution_count": 73,
   "metadata": {},
   "outputs": [],
   "source": [
    "def get_top_features_cluster(tf_idf_array, prediction, n_feats):\n",
    "    labels = np.unique(prediction)\n",
    "    dfs = []\n",
    "    for label in labels:\n",
    "        id_temp = np.where(prediction==label) # indices for each cluster\n",
    "        x_means = np.mean(tf_idf_array[id_temp], axis = 0) # returns average score across cluster\n",
    "        sorted_means = np.argsort(x_means)[::-1][:n_feats] # indices with top 20 scores\n",
    "        features = tf_idf_vectorizor.get_feature_names()\n",
    "        best_features = [(features[i], x_means[i]) for i in sorted_means]\n",
    "        df = pd.DataFrame(best_features, columns = ['features', 'score'])\n",
    "        dfs.append(df)\n",
    "    return dfs\n",
    "dfs = get_top_features_cluster(tf_idf_array,prediction, 10)"
   ]
  },
  {
   "cell_type": "code",
   "execution_count": 74,
   "metadata": {},
   "outputs": [],
   "source": [
    "april_cluster=dfs"
   ]
  },
  {
   "cell_type": "code",
   "execution_count": 91,
   "metadata": {},
   "outputs": [
    {
     "data": {
      "image/png": "[encoded data removed]",
      "text/plain": [
       "<Figure size 1440x720 with 1 Axes>"
      ]
     },
     "metadata": {},
     "output_type": "display_data"
    }
   ],
   "source": [
    "\n",
    "# Figure Size\n",
    "fig = plt.figure(figsize =(20, 10))\n",
    " \n",
    "# Horizontal Bar Plot\n",
    "sns.barplot(x='features',y='score',data=april_cluster[0]).set(title=\"Features of Cluster 1 of July\")\n",
    "plt.xlabel('Features',fontsize=20)\n",
    "plt.ylabel('Scores',fontsize=20)\n",
    "plt.xticks(rotation=45)\n",
    "# Show Plot\n",
    "plt.show()"
   ]
  },
  {
   "cell_type": "code",
   "execution_count": 92,
   "metadata": {},
   "outputs": [
    {
     "data": {
      "image/png": "[encoded data removed]",
      "text/plain": [
       "<Figure size 1440x720 with 1 Axes>"
      ]
     },
     "metadata": {},
     "output_type": "display_data"
    }
   ],
   "source": [
    "\n",
    "# Figure Size\n",
    "fig = plt.figure(figsize =(20, 10))\n",
    " \n",
    "# Horizontal Bar Plot\n",
    "sns.barplot(x='features',y='score',data=april_cluster[1]).set(title=\"Features of Cluster 2 of July\")\n",
    "plt.xlabel('Features',fontsize=20)\n",
    "plt.ylabel('Scores',fontsize=20)\n",
    "plt.xticks(rotation=45)\n",
    "# Show Plot\n",
    "plt.show()"
   ]
  },
  {
   "cell_type": "code",
   "execution_count": 77,
   "metadata": {},
   "outputs": [],
   "source": [
    "\n",
    "K1=dfs1[0]\n",
    "K2=dfs1[1]"
   ]
  },
  {
   "cell_type": "code",
   "execution_count": 78,
   "metadata": {},
   "outputs": [],
   "source": [
    "july_bw=pd.read_csv('JulyTopWords.csv')"
   ]
  },
  {
   "cell_type": "code",
   "execution_count": 79,
   "metadata": {},
   "outputs": [],
   "source": [
    "t=july_bw[:30]"
   ]
  },
  {
   "cell_type": "code",
   "execution_count": 80,
   "metadata": {},
   "outputs": [],
   "source": [
    "c1=[]\n",
    "p=0\n",
    "c2=[]\n",
    "q=0\n",
    "for i in range(0,30):\n",
    "    for j in range(0,100):\n",
    "        if(t.words[i]==K1['features'][j]):\n",
    "            c1.append(K1['features'][j])\n",
    "            p=p+1\n",
    "for i in range(0,30):\n",
    "    for j in range(0,100):\n",
    "        if(t.words[i]==K2['features'][j]):\n",
    "            c2.append(K1['features'][j])\n",
    "            q=q+1"
   ]
  },
  {
   "cell_type": "code",
   "execution_count": 81,
   "metadata": {},
   "outputs": [
    {
     "name": "stdout",
     "output_type": "stream",
     "text": [
      "29\n",
      "16\n"
     ]
    }
   ],
   "source": [
    "print(p)\n",
    "print(q)\n"
   ]
  },
  {
   "cell_type": "markdown",
   "metadata": {},
   "source": [
    "### Tweet Grouping"
   ]
  },
  {
   "cell_type": "code",
   "execution_count": 82,
   "metadata": {},
   "outputs": [
    {
     "data": {
      "text/html": [
       "<div>\n",
       "<style scoped>\n",
       "    .dataframe tbody tr th:only-of-type {\n",
       "        vertical-align: middle;\n",
       "    }\n",
       "\n",
       "    .dataframe tbody tr th {\n",
       "        vertical-align: top;\n",
       "    }\n",
       "\n",
       "    .dataframe thead th {\n",
       "        text-align: right;\n",
       "    }\n",
       "</style>\n",
       "<table border=\"1\" class=\"dataframe\">\n",
       "  <thead>\n",
       "    <tr style=\"text-align: right;\">\n",
       "      <th></th>\n",
       "      <th>tweet</th>\n",
       "      <th>clean_tweet</th>\n",
       "      <th>hastags</th>\n",
       "      <th>attherate</th>\n",
       "      <th>urls</th>\n",
       "      <th>emojis</th>\n",
       "      <th>label</th>\n",
       "    </tr>\n",
       "  </thead>\n",
       "  <tbody>\n",
       "    <tr>\n",
       "      <th>0</th>\n",
       "      <td>@anileshmahajan @tsrawatbjp @TIRATHSRAWAT @BJP...</td>\n",
       "      <td>covid admiss far</td>\n",
       "      <td>[]</td>\n",
       "      <td>['@anileshmahajan', '@tsrawatbjp', '@TIRATHSRA...</td>\n",
       "      <td>[]</td>\n",
       "      <td>[]</td>\n",
       "      <td>0</td>\n",
       "    </tr>\n",
       "    <tr>\n",
       "      <th>1</th>\n",
       "      <td>Uggah: Sarawak still free of Covid-19 Delta va...</td>\n",
       "      <td>uggah sarawak free covid delta variant</td>\n",
       "      <td>[]</td>\n",
       "      <td>[]</td>\n",
       "      <td>['https://t.co/BtjONCXGgI']</td>\n",
       "      <td>[]</td>\n",
       "      <td>0</td>\n",
       "    </tr>\n",
       "    <tr>\n",
       "      <th>2</th>\n",
       "      <td>@RomainSandro Following Covid 19 guidelines.</td>\n",
       "      <td>follow covid guidelin</td>\n",
       "      <td>[]</td>\n",
       "      <td>['@RomainSandro']</td>\n",
       "      <td>[]</td>\n",
       "      <td>[]</td>\n",
       "      <td>0</td>\n",
       "    </tr>\n",
       "  </tbody>\n",
       "</table>\n",
       "</div>"
      ],
      "text/plain": [
       "                                               tweet  \\\n",
       "0  @anileshmahajan @tsrawatbjp @TIRATHSRAWAT @BJP...   \n",
       "1  Uggah: Sarawak still free of Covid-19 Delta va...   \n",
       "2       @RomainSandro Following Covid 19 guidelines.   \n",
       "\n",
       "                               clean_tweet hastags  \\\n",
       "0                        covid admiss far       []   \n",
       "1  uggah sarawak free covid delta variant       []   \n",
       "2                   follow covid guidelin       []   \n",
       "\n",
       "                                           attherate  \\\n",
       "0  ['@anileshmahajan', '@tsrawatbjp', '@TIRATHSRA...   \n",
       "1                                                 []   \n",
       "2                                  ['@RomainSandro']   \n",
       "\n",
       "                          urls emojis  label  \n",
       "0                           []     []      0  \n",
       "1  ['https://t.co/BtjONCXGgI']     []      0  \n",
       "2                           []     []      0  "
      ]
     },
     "execution_count": 82,
     "metadata": {},
     "output_type": "execute_result"
    }
   ],
   "source": [
    "label=kmeans.labels_\n",
    "july['label']=label\n",
    "july.head(3)"
   ]
  },
  {
   "cell_type": "code",
   "execution_count": 83,
   "metadata": {},
   "outputs": [
    {
     "data": {
      "text/plain": [
       "array([0, 1])"
      ]
     },
     "execution_count": 83,
     "metadata": {},
     "output_type": "execute_result"
    }
   ],
   "source": [
    "np.unique(july['label'])"
   ]
  },
  {
   "cell_type": "code",
   "execution_count": 84,
   "metadata": {},
   "outputs": [
    {
     "data": {
      "text/plain": [
       "0    1928\n",
       "1      65\n",
       "Name: label, dtype: int64"
      ]
     },
     "execution_count": 84,
     "metadata": {},
     "output_type": "execute_result"
    }
   ],
   "source": [
    "july['label'].value_counts()"
   ]
  },
  {
   "cell_type": "code",
   "execution_count": 85,
   "metadata": {},
   "outputs": [],
   "source": [
    "july_cluster_1=july[july.label ==0]\n",
    "july_cluster_2=july[july.label ==1]"
   ]
  },
  {
   "cell_type": "code",
   "execution_count": 86,
   "metadata": {},
   "outputs": [],
   "source": [
    "july_cluster_1.to_csv('JulyCluster1Tweet.csv')\n",
    "july_cluster_2.to_csv('JulyCluster2Tweet.csv')"
   ]
  },
  {
   "cell_type": "code",
   "execution_count": 90,
   "metadata": {},
   "outputs": [
    {
     "data": {
      "image/png": "[encoded data removed]",
      "text/plain": [
       "<Figure size 432x288 with 1 Axes>"
      ]
     },
     "metadata": {},
     "output_type": "display_data"
    }
   ],
   "source": [
    "count=july['label'].value_counts()\n",
    "tweet_freq_cluster=[]\n",
    "tweet_freq_cluster.append(count[0])\n",
    "tweet_freq_cluster.append(count[1])\n",
    "cluster_name=['Cluster 1','Cluster 2']\n",
    "explode = [0, 0.1]\n",
    "palette_color = sns.color_palette(\"husl\", 3)\n",
    "  \n",
    "# plotting data on chart\n",
    "plt.pie(tweet_freq_cluster, labels=cluster_name, colors=palette_color,   explode=explode,autopct='%.0f%%')\n",
    "plt.title(\"July\",fontsize=20)\n",
    "# displaying chart\n",
    "plt.show()"
   ]
  },
  {
   "cell_type": "code",
   "execution_count": 88,
   "metadata": {},
   "outputs": [
    {
     "data": {
      "text/plain": [
       "'Someone will tell that if i make a program then it will contain corona virus or anything else 😂😂🤣 #programmer #virus @PR0GRAMMERHUM0R  @Hakertow'"
      ]
     },
     "execution_count": 88,
     "metadata": {},
     "output_type": "execute_result"
    }
   ],
   "source": [
    "july['tweet'][1229]"
   ]
  },
  {
   "cell_type": "code",
   "execution_count": null,
   "metadata": {},
   "outputs": [],
   "source": []
  }
 ],
 "metadata": {
  "interpreter": {
   "hash": "f5077de726081cd88c6b6f65b193df0af57117231466353a74e8f1aa7856d823"
  },
  "kernelspec": {
   "display_name": "Python 3.8.8 ('base')",
   "language": "python",
   "name": "python3"
  },
  "language_info": {
   "codemirror_mode": {
    "name": "ipython",
    "version": 3
   },
   "file_extension": ".py",
   "mimetype": "text/x-python",
   "name": "python",
   "nbconvert_exporter": "python",
   "pygments_lexer": "ipython3",
   "version": "3.8.8"
  },
  "orig_nbformat": 4
 },
 "nbformat": 4,
 "nbformat_minor": 2
}
