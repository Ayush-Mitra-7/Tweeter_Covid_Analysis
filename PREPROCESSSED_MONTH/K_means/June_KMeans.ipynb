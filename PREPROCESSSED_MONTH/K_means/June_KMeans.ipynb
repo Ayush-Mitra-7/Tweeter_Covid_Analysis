{
 "cells": [
  {
   "cell_type": "code",
   "execution_count": 1,
   "metadata": {},
   "outputs": [],
   "source": [
    "import numpy as np \n",
    "import pandas as pd\n",
    "\n",
    "from K_means import Kmeans\n",
    "from sklearn.cluster import KMeans \n",
    "from sklearn.feature_extraction.text import TfidfVectorizer\n",
    "from sklearn.decomposition import PCA\n",
    "from sklearn.preprocessing import normalize\n",
    "from scipy.spatial.distance import cdist\n",
    "\n",
    "import string\n",
    "\n",
    "from nltk.corpus import stopwords\n",
    "\n",
    "from nltk.stem.wordnet import WordNetLemmatizer\n",
    "from nltk.stem import PorterStemmer\n",
    "from nltk.tokenize import word_tokenize\n",
    "import neattext.functions as nfx\n",
    "\n",
    "from textblob import TextBlob as tb\n",
    "from textblob import Word\n",
    "\n",
    "import matplotlib.pyplot as plt\n",
    "import seaborn as sns\n",
    "plt.style.use('ggplot')\n",
    "%matplotlib inline\n",
    "plt.style.use('fivethirtyeight')\n",
    "\n",
    "import warnings\n",
    "warnings.simplefilter('ignore')"
   ]
  },
  {
   "cell_type": "code",
   "execution_count": 2,
   "metadata": {},
   "outputs": [],
   "source": [
    "june=pd.read_csv('04_PREPROCESSED_JUNE.csv')"
   ]
  },
  {
   "cell_type": "code",
   "execution_count": 3,
   "metadata": {},
   "outputs": [],
   "source": [
    "custom_words = ['from', 'subject', 're', 'edu', 'use', 'not', 'would', 'say', 'could', '_', 'be', 'know', 'good', 'go', 'get', 'do', 'done', 'try', 'many', 'some', 'nice', 'thank', 'think', 'see', 'rather',\n",
    "                'easy', 'easily', 'lot', 'lack', 'make', 'want', 'seem', 'run', 'need', 'even', 'right', 'line', 'even', 'also', 'may', 'take', 'come', '%', '.', 'the', 'etc', 'pls', 'btw', 'let', 'hgd', 'get', 'amp', 'gt', \n",
    "                'lt', 'hrs', 'dos', 'say', 'reply', 'sir', 'replying']"
   ]
  },
  {
   "cell_type": "code",
   "execution_count": 4,
   "metadata": {},
   "outputs": [],
   "source": [
    "for i in range(0,june.shape[0]):\n",
    "    june['clean_tweet'][i]= ''.join([i for i in june['clean_tweet'][i] if not i.isdigit()])\n",
    "    june['clean_tweet'][i]=june['clean_tweet'][i].lower()\n",
    "    june['clean_tweet'][i]=nfx.remove_custom_words(june['clean_tweet'][i],custom_words)"
   ]
  },
  {
   "cell_type": "code",
   "execution_count": 5,
   "metadata": {},
   "outputs": [],
   "source": [
    "tweets_june=june['clean_tweet']"
   ]
  },
  {
   "cell_type": "code",
   "execution_count": 6,
   "metadata": {},
   "outputs": [],
   "source": [
    "tweet_list_june = tweets_june.apply(nfx.remove_stopwords)\n",
    "tweet_list_june = tweet_list_june .apply(nfx.remove_special_characters)\n",
    "tweet_list_june = tweet_list_june.apply(nfx.remove_punctuations)"
   ]
  },
  {
   "cell_type": "code",
   "execution_count": 7,
   "metadata": {},
   "outputs": [],
   "source": [
    "def remove_single_char(list):\n",
    "    for token in list:\n",
    "        if( len(token)==1):\n",
    "            list.remove(token)\n",
    "def remove_dual_char(list):\n",
    "    for token in list:\n",
    "        if( len(token)==2):\n",
    "            list.remove(token)\n",
    "def remove_words(list1, remove_words):\n",
    "    for word in list(list1):\n",
    "        if word in remove_words:\n",
    "            list1.remove(word)\n",
    "    return list1   "
   ]
  },
  {
   "cell_type": "code",
   "execution_count": 8,
   "metadata": {},
   "outputs": [],
   "source": [
    "def Convert_list(string):\n",
    "    li = list(string.split(\" \"))\n",
    "    return li\n",
    "def listToString(s): \n",
    "    str1 = \" \" \n",
    "    return (str1.join(s))"
   ]
  },
  {
   "cell_type": "code",
   "execution_count": 9,
   "metadata": {},
   "outputs": [],
   "source": [
    "for i in range(0,june.shape[0]):\n",
    "    ls=Convert_list(tweet_list_june[i])\n",
    "    remove_single_char(ls)\n",
    "    remove_dual_char(ls)\n",
    "    ls=remove_words(ls,custom_words)\n",
    "    tweet_list_june[i]=listToString(ls)"
   ]
  },
  {
   "cell_type": "code",
   "execution_count": 10,
   "metadata": {},
   "outputs": [],
   "source": [
    "def my_lemma(token,i=0):\n",
    "    word=tb(token)\n",
    "    tags=word.tags\n",
    "    sample=Word(tags[0][0])\n",
    "    if tags[0][1][0] =='V':\n",
    "        x=sample.lemmatize('v')\n",
    "        ls[i]=x\n",
    "    else:\n",
    "        x=sample.lemmatize()\n",
    "        ls[i]=x"
   ]
  },
  {
   "cell_type": "code",
   "execution_count": 11,
   "metadata": {},
   "outputs": [],
   "source": [
    "for i in range(0,june.shape[0]):\n",
    "    ls=Convert_list(tweet_list_june[i])\n",
    "    for j in range(0,len(ls)):\n",
    "        text=ls[j]\n",
    "        if(text==\"\"):\n",
    "                continue\n",
    "        word=tb(text)\n",
    "        tags=word.tags\n",
    "        sample=Word(tags[0][0])\n",
    "        if tags[0][1][0] =='V':\n",
    "                x=sample.lemmatize('v')\n",
    "                ls[j]=x\n",
    "        else:\n",
    "                x=sample.lemmatize()\n",
    "                ls[j]=x"
   ]
  },
  {
   "cell_type": "code",
   "execution_count": 12,
   "metadata": {},
   "outputs": [],
   "source": [
    "for i in range(0,june.shape[0]):\n",
    "    ls=Convert_list(tweet_list_june[i])\n",
    "    for j in range(0,len(ls)):\n",
    "        text=ls[j]\n",
    "        if(text==\"\"):\n",
    "            continue\n",
    "        my_lemma(text,j)\n",
    "    tweet_list_june[i]=listToString(ls)"
   ]
  },
  {
   "cell_type": "code",
   "execution_count": 13,
   "metadata": {},
   "outputs": [],
   "source": [
    "for i in range(0,june.shape[0]):\n",
    "    ls=Convert_list(tweet_list_june[i])\n",
    "    ls=remove_words(ls,custom_words)\n",
    "    tweet_list_june[i]=listToString(ls)"
   ]
  },
  {
   "cell_type": "code",
   "execution_count": 14,
   "metadata": {},
   "outputs": [],
   "source": [
    "june['clean_tweet']=tweet_list_june"
   ]
  },
  {
   "cell_type": "code",
   "execution_count": 15,
   "metadata": {},
   "outputs": [
    {
     "data": {
      "text/plain": [
       "0       notice change psychological physical condition...\n",
       "1       goodbye indian south african british coronavir...\n",
       "2                                     dear donate retweet\n",
       "3                  best future dream job direct sell like\n",
       "4       mosque worshiper visitor pray corona virus end...\n",
       "                              ...                        \n",
       "2434                          covid impact family country\n",
       "2435    entire govt machinery work resolute leadership...\n",
       "2436            young life covid husband colleague mumbai\n",
       "2437                                                     \n",
       "2438    effective vaccine protect family member countr...\n",
       "Name: clean_tweet, Length: 2439, dtype: object"
      ]
     },
     "execution_count": 15,
     "metadata": {},
     "output_type": "execute_result"
    }
   ],
   "source": [
    "june['clean_tweet']"
   ]
  },
  {
   "cell_type": "code",
   "execution_count": 16,
   "metadata": {},
   "outputs": [],
   "source": [
    "tweet_list_june=june['clean_tweet']\n",
    "ps=PorterStemmer()\n",
    "for i in range(0,june.shape[0]):\n",
    "    ls=june['clean_tweet'][i]\n",
    "    words = word_tokenize(ls)\n",
    "    st=\"\"\n",
    "    for w in words:\n",
    "        w=ps.stem(w)\n",
    "        st+=w+' '\n",
    "    june['clean_tweet'][i]=st\n",
    "for i in range(0,june.shape[0]):\n",
    "    ls=Convert_list(tweet_list_june[i])\n",
    "    remove_single_char(ls)\n",
    "    remove_dual_char(ls)\n",
    "    ls=remove_words(ls,custom_words)\n",
    "    tweet_list_june[i]=listToString(ls)\n",
    "june['clean_tweet']=tweet_list_june\n"
   ]
  },
  {
   "cell_type": "markdown",
   "metadata": {},
   "source": [
    "# K-Means"
   ]
  },
  {
   "cell_type": "code",
   "execution_count": 17,
   "metadata": {},
   "outputs": [],
   "source": [
    "data =june['clean_tweet']\n",
    "\n",
    "tf_idf_vectorizor = TfidfVectorizer(stop_words = 'english',#tokenizer = tokenize_and_stem,\n",
    "                             max_features = 20000)\n",
    "tf_idf = tf_idf_vectorizor.fit_transform(data)\n",
    "tf_idf_norm = normalize(tf_idf)\n",
    "tf_idf_array = tf_idf_norm.toarray()"
   ]
  },
  {
   "cell_type": "code",
   "execution_count": 18,
   "metadata": {},
   "outputs": [
    {
     "data": {
      "text/html": [
       "<div>\n",
       "<style scoped>\n",
       "    .dataframe tbody tr th:only-of-type {\n",
       "        vertical-align: middle;\n",
       "    }\n",
       "\n",
       "    .dataframe tbody tr th {\n",
       "        vertical-align: top;\n",
       "    }\n",
       "\n",
       "    .dataframe thead th {\n",
       "        text-align: right;\n",
       "    }\n",
       "</style>\n",
       "<table border=\"1\" class=\"dataframe\">\n",
       "  <thead>\n",
       "    <tr style=\"text-align: right;\">\n",
       "      <th></th>\n",
       "      <th>aaa</th>\n",
       "      <th>aad</th>\n",
       "      <th>aadharpan</th>\n",
       "      <th>aai</th>\n",
       "      <th>aaj</th>\n",
       "      <th>aajii</th>\n",
       "      <th>aajtak</th>\n",
       "      <th>aandh</th>\n",
       "      <th>aap</th>\n",
       "      <th>aapi</th>\n",
       "      <th>...</th>\n",
       "      <th>zealand</th>\n",
       "      <th>zeeshan</th>\n",
       "      <th>zenica</th>\n",
       "      <th>zero</th>\n",
       "      <th>zerowastag</th>\n",
       "      <th>zinc</th>\n",
       "      <th>zindabad</th>\n",
       "      <th>zombi</th>\n",
       "      <th>zone</th>\n",
       "      <th>zoo</th>\n",
       "    </tr>\n",
       "  </thead>\n",
       "  <tbody>\n",
       "    <tr>\n",
       "      <th>0</th>\n",
       "      <td>0.0</td>\n",
       "      <td>0.0</td>\n",
       "      <td>0.0</td>\n",
       "      <td>0.0</td>\n",
       "      <td>0.0</td>\n",
       "      <td>0.0</td>\n",
       "      <td>0.0</td>\n",
       "      <td>0.0</td>\n",
       "      <td>0.0</td>\n",
       "      <td>0.0</td>\n",
       "      <td>...</td>\n",
       "      <td>0.0</td>\n",
       "      <td>0.0</td>\n",
       "      <td>0.0</td>\n",
       "      <td>0.0</td>\n",
       "      <td>0.0</td>\n",
       "      <td>0.0</td>\n",
       "      <td>0.0</td>\n",
       "      <td>0.0</td>\n",
       "      <td>0.0</td>\n",
       "      <td>0.0</td>\n",
       "    </tr>\n",
       "    <tr>\n",
       "      <th>1</th>\n",
       "      <td>0.0</td>\n",
       "      <td>0.0</td>\n",
       "      <td>0.0</td>\n",
       "      <td>0.0</td>\n",
       "      <td>0.0</td>\n",
       "      <td>0.0</td>\n",
       "      <td>0.0</td>\n",
       "      <td>0.0</td>\n",
       "      <td>0.0</td>\n",
       "      <td>0.0</td>\n",
       "      <td>...</td>\n",
       "      <td>0.0</td>\n",
       "      <td>0.0</td>\n",
       "      <td>0.0</td>\n",
       "      <td>0.0</td>\n",
       "      <td>0.0</td>\n",
       "      <td>0.0</td>\n",
       "      <td>0.0</td>\n",
       "      <td>0.0</td>\n",
       "      <td>0.0</td>\n",
       "      <td>0.0</td>\n",
       "    </tr>\n",
       "    <tr>\n",
       "      <th>2</th>\n",
       "      <td>0.0</td>\n",
       "      <td>0.0</td>\n",
       "      <td>0.0</td>\n",
       "      <td>0.0</td>\n",
       "      <td>0.0</td>\n",
       "      <td>0.0</td>\n",
       "      <td>0.0</td>\n",
       "      <td>0.0</td>\n",
       "      <td>0.0</td>\n",
       "      <td>0.0</td>\n",
       "      <td>...</td>\n",
       "      <td>0.0</td>\n",
       "      <td>0.0</td>\n",
       "      <td>0.0</td>\n",
       "      <td>0.0</td>\n",
       "      <td>0.0</td>\n",
       "      <td>0.0</td>\n",
       "      <td>0.0</td>\n",
       "      <td>0.0</td>\n",
       "      <td>0.0</td>\n",
       "      <td>0.0</td>\n",
       "    </tr>\n",
       "    <tr>\n",
       "      <th>3</th>\n",
       "      <td>0.0</td>\n",
       "      <td>0.0</td>\n",
       "      <td>0.0</td>\n",
       "      <td>0.0</td>\n",
       "      <td>0.0</td>\n",
       "      <td>0.0</td>\n",
       "      <td>0.0</td>\n",
       "      <td>0.0</td>\n",
       "      <td>0.0</td>\n",
       "      <td>0.0</td>\n",
       "      <td>...</td>\n",
       "      <td>0.0</td>\n",
       "      <td>0.0</td>\n",
       "      <td>0.0</td>\n",
       "      <td>0.0</td>\n",
       "      <td>0.0</td>\n",
       "      <td>0.0</td>\n",
       "      <td>0.0</td>\n",
       "      <td>0.0</td>\n",
       "      <td>0.0</td>\n",
       "      <td>0.0</td>\n",
       "    </tr>\n",
       "    <tr>\n",
       "      <th>4</th>\n",
       "      <td>0.0</td>\n",
       "      <td>0.0</td>\n",
       "      <td>0.0</td>\n",
       "      <td>0.0</td>\n",
       "      <td>0.0</td>\n",
       "      <td>0.0</td>\n",
       "      <td>0.0</td>\n",
       "      <td>0.0</td>\n",
       "      <td>0.0</td>\n",
       "      <td>0.0</td>\n",
       "      <td>...</td>\n",
       "      <td>0.0</td>\n",
       "      <td>0.0</td>\n",
       "      <td>0.0</td>\n",
       "      <td>0.0</td>\n",
       "      <td>0.0</td>\n",
       "      <td>0.0</td>\n",
       "      <td>0.0</td>\n",
       "      <td>0.0</td>\n",
       "      <td>0.0</td>\n",
       "      <td>0.0</td>\n",
       "    </tr>\n",
       "    <tr>\n",
       "      <th>...</th>\n",
       "      <td>...</td>\n",
       "      <td>...</td>\n",
       "      <td>...</td>\n",
       "      <td>...</td>\n",
       "      <td>...</td>\n",
       "      <td>...</td>\n",
       "      <td>...</td>\n",
       "      <td>...</td>\n",
       "      <td>...</td>\n",
       "      <td>...</td>\n",
       "      <td>...</td>\n",
       "      <td>...</td>\n",
       "      <td>...</td>\n",
       "      <td>...</td>\n",
       "      <td>...</td>\n",
       "      <td>...</td>\n",
       "      <td>...</td>\n",
       "      <td>...</td>\n",
       "      <td>...</td>\n",
       "      <td>...</td>\n",
       "      <td>...</td>\n",
       "    </tr>\n",
       "    <tr>\n",
       "      <th>2434</th>\n",
       "      <td>0.0</td>\n",
       "      <td>0.0</td>\n",
       "      <td>0.0</td>\n",
       "      <td>0.0</td>\n",
       "      <td>0.0</td>\n",
       "      <td>0.0</td>\n",
       "      <td>0.0</td>\n",
       "      <td>0.0</td>\n",
       "      <td>0.0</td>\n",
       "      <td>0.0</td>\n",
       "      <td>...</td>\n",
       "      <td>0.0</td>\n",
       "      <td>0.0</td>\n",
       "      <td>0.0</td>\n",
       "      <td>0.0</td>\n",
       "      <td>0.0</td>\n",
       "      <td>0.0</td>\n",
       "      <td>0.0</td>\n",
       "      <td>0.0</td>\n",
       "      <td>0.0</td>\n",
       "      <td>0.0</td>\n",
       "    </tr>\n",
       "    <tr>\n",
       "      <th>2435</th>\n",
       "      <td>0.0</td>\n",
       "      <td>0.0</td>\n",
       "      <td>0.0</td>\n",
       "      <td>0.0</td>\n",
       "      <td>0.0</td>\n",
       "      <td>0.0</td>\n",
       "      <td>0.0</td>\n",
       "      <td>0.0</td>\n",
       "      <td>0.0</td>\n",
       "      <td>0.0</td>\n",
       "      <td>...</td>\n",
       "      <td>0.0</td>\n",
       "      <td>0.0</td>\n",
       "      <td>0.0</td>\n",
       "      <td>0.0</td>\n",
       "      <td>0.0</td>\n",
       "      <td>0.0</td>\n",
       "      <td>0.0</td>\n",
       "      <td>0.0</td>\n",
       "      <td>0.0</td>\n",
       "      <td>0.0</td>\n",
       "    </tr>\n",
       "    <tr>\n",
       "      <th>2436</th>\n",
       "      <td>0.0</td>\n",
       "      <td>0.0</td>\n",
       "      <td>0.0</td>\n",
       "      <td>0.0</td>\n",
       "      <td>0.0</td>\n",
       "      <td>0.0</td>\n",
       "      <td>0.0</td>\n",
       "      <td>0.0</td>\n",
       "      <td>0.0</td>\n",
       "      <td>0.0</td>\n",
       "      <td>...</td>\n",
       "      <td>0.0</td>\n",
       "      <td>0.0</td>\n",
       "      <td>0.0</td>\n",
       "      <td>0.0</td>\n",
       "      <td>0.0</td>\n",
       "      <td>0.0</td>\n",
       "      <td>0.0</td>\n",
       "      <td>0.0</td>\n",
       "      <td>0.0</td>\n",
       "      <td>0.0</td>\n",
       "    </tr>\n",
       "    <tr>\n",
       "      <th>2437</th>\n",
       "      <td>0.0</td>\n",
       "      <td>0.0</td>\n",
       "      <td>0.0</td>\n",
       "      <td>0.0</td>\n",
       "      <td>0.0</td>\n",
       "      <td>0.0</td>\n",
       "      <td>0.0</td>\n",
       "      <td>0.0</td>\n",
       "      <td>0.0</td>\n",
       "      <td>0.0</td>\n",
       "      <td>...</td>\n",
       "      <td>0.0</td>\n",
       "      <td>0.0</td>\n",
       "      <td>0.0</td>\n",
       "      <td>0.0</td>\n",
       "      <td>0.0</td>\n",
       "      <td>0.0</td>\n",
       "      <td>0.0</td>\n",
       "      <td>0.0</td>\n",
       "      <td>0.0</td>\n",
       "      <td>0.0</td>\n",
       "    </tr>\n",
       "    <tr>\n",
       "      <th>2438</th>\n",
       "      <td>0.0</td>\n",
       "      <td>0.0</td>\n",
       "      <td>0.0</td>\n",
       "      <td>0.0</td>\n",
       "      <td>0.0</td>\n",
       "      <td>0.0</td>\n",
       "      <td>0.0</td>\n",
       "      <td>0.0</td>\n",
       "      <td>0.0</td>\n",
       "      <td>0.0</td>\n",
       "      <td>...</td>\n",
       "      <td>0.0</td>\n",
       "      <td>0.0</td>\n",
       "      <td>0.0</td>\n",
       "      <td>0.0</td>\n",
       "      <td>0.0</td>\n",
       "      <td>0.0</td>\n",
       "      <td>0.0</td>\n",
       "      <td>0.0</td>\n",
       "      <td>0.0</td>\n",
       "      <td>0.0</td>\n",
       "    </tr>\n",
       "  </tbody>\n",
       "</table>\n",
       "<p>2439 rows × 5470 columns</p>\n",
       "</div>"
      ],
      "text/plain": [
       "      aaa  aad  aadharpan  aai  aaj  aajii  aajtak  aandh  aap  aapi  ...  \\\n",
       "0     0.0  0.0        0.0  0.0  0.0    0.0     0.0    0.0  0.0   0.0  ...   \n",
       "1     0.0  0.0        0.0  0.0  0.0    0.0     0.0    0.0  0.0   0.0  ...   \n",
       "2     0.0  0.0        0.0  0.0  0.0    0.0     0.0    0.0  0.0   0.0  ...   \n",
       "3     0.0  0.0        0.0  0.0  0.0    0.0     0.0    0.0  0.0   0.0  ...   \n",
       "4     0.0  0.0        0.0  0.0  0.0    0.0     0.0    0.0  0.0   0.0  ...   \n",
       "...   ...  ...        ...  ...  ...    ...     ...    ...  ...   ...  ...   \n",
       "2434  0.0  0.0        0.0  0.0  0.0    0.0     0.0    0.0  0.0   0.0  ...   \n",
       "2435  0.0  0.0        0.0  0.0  0.0    0.0     0.0    0.0  0.0   0.0  ...   \n",
       "2436  0.0  0.0        0.0  0.0  0.0    0.0     0.0    0.0  0.0   0.0  ...   \n",
       "2437  0.0  0.0        0.0  0.0  0.0    0.0     0.0    0.0  0.0   0.0  ...   \n",
       "2438  0.0  0.0        0.0  0.0  0.0    0.0     0.0    0.0  0.0   0.0  ...   \n",
       "\n",
       "      zealand  zeeshan  zenica  zero  zerowastag  zinc  zindabad  zombi  zone  \\\n",
       "0         0.0      0.0     0.0   0.0         0.0   0.0       0.0    0.0   0.0   \n",
       "1         0.0      0.0     0.0   0.0         0.0   0.0       0.0    0.0   0.0   \n",
       "2         0.0      0.0     0.0   0.0         0.0   0.0       0.0    0.0   0.0   \n",
       "3         0.0      0.0     0.0   0.0         0.0   0.0       0.0    0.0   0.0   \n",
       "4         0.0      0.0     0.0   0.0         0.0   0.0       0.0    0.0   0.0   \n",
       "...       ...      ...     ...   ...         ...   ...       ...    ...   ...   \n",
       "2434      0.0      0.0     0.0   0.0         0.0   0.0       0.0    0.0   0.0   \n",
       "2435      0.0      0.0     0.0   0.0         0.0   0.0       0.0    0.0   0.0   \n",
       "2436      0.0      0.0     0.0   0.0         0.0   0.0       0.0    0.0   0.0   \n",
       "2437      0.0      0.0     0.0   0.0         0.0   0.0       0.0    0.0   0.0   \n",
       "2438      0.0      0.0     0.0   0.0         0.0   0.0       0.0    0.0   0.0   \n",
       "\n",
       "      zoo  \n",
       "0     0.0  \n",
       "1     0.0  \n",
       "2     0.0  \n",
       "3     0.0  \n",
       "4     0.0  \n",
       "...   ...  \n",
       "2434  0.0  \n",
       "2435  0.0  \n",
       "2436  0.0  \n",
       "2437  0.0  \n",
       "2438  0.0  \n",
       "\n",
       "[2439 rows x 5470 columns]"
      ]
     },
     "execution_count": 18,
     "metadata": {},
     "output_type": "execute_result"
    }
   ],
   "source": [
    "pd.DataFrame(tf_idf_array, columns=tf_idf_vectorizor.get_feature_names())"
   ]
  },
  {
   "cell_type": "code",
   "execution_count": 19,
   "metadata": {},
   "outputs": [],
   "source": [
    "sklearn_pca = PCA(n_components = 2)\n",
    "Y_sklearn = sklearn_pca.fit_transform(tf_idf_array)"
   ]
  },
  {
   "cell_type": "code",
   "execution_count": 20,
   "metadata": {},
   "outputs": [
    {
     "data": {
      "image/png": "[encoded data removed]",
      "text/plain": [
       "<Figure size 432x288 with 1 Axes>"
      ]
     },
     "metadata": {},
     "output_type": "display_data"
    }
   ],
   "source": [
    "sklearn_pca = PCA(n_components = 2)\n",
    "Y_sklearn = sklearn_pca.fit_transform(tf_idf_array)\n",
    "kmeans_kwargs = {\"init\": \"k-means++\",\"n_init\": 2,\"max_iter\": 1000,\"random_state\": 42,}\n",
    "# A list holds the SSE values for each k\n",
    "sse = []\n",
    "for k in range(1, 11):\n",
    "    kmeans = KMeans(n_clusters=k, **kmeans_kwargs)\n",
    "    kmeans.fit(Y_sklearn)\n",
    "    sse.append(kmeans.inertia_)\n",
    "plt.style.use(\"fivethirtyeight\")\n",
    "plt.plot(range(1, 11), sse)\n",
    "plt.plot(range(1, 11), sse,'r*')\n",
    "plt.xticks(range(1, 11))\n",
    "plt.yticks(range(0,60,10))\n",
    "plt.xlabel(\"Number of Clusters\")\n",
    "plt.ylabel(\"SSE\")\n",
    "plt.show()"
   ]
  },
  {
   "cell_type": "code",
   "execution_count": 21,
   "metadata": {},
   "outputs": [
    {
     "name": "stdout",
     "output_type": "stream",
     "text": [
      "For n_clusters = 2 The average silhouette_score is : 0.5960750984332851\n",
      "For n_clusters = 3 The average silhouette_score is : 0.6093093451211761\n",
      "For n_clusters = 4 The average silhouette_score is : 0.543175356042765\n",
      "For n_clusters = 5 The average silhouette_score is : 0.48048724910866586\n",
      "For n_clusters = 6 The average silhouette_score is : 0.4604809262594035\n",
      "For n_clusters = 7 The average silhouette_score is : 0.47290790405396743\n",
      "For n_clusters = 8 The average silhouette_score is : 0.480035914040969\n",
      "For n_clusters = 9 The average silhouette_score is : 0.4635074967120413\n",
      "For n_clusters = 10 The average silhouette_score is : 0.3965874126997262\n"
     ]
    },
    {
     "data": {
      "image/png": "[encoded data removed]",
      "text/plain": [
       "<Figure size 432x288 with 1 Axes>"
      ]
     },
     "metadata": {},
     "output_type": "display_data"
    }
   ],
   "source": [
    "from sklearn.metrics import silhouette_samples, silhouette_score\n",
    "import matplotlib.style as style\n",
    "range_n_clusters = [2, 3, 4, 5, 6,7,8,9,10]\n",
    "silhouette_avg_n_clusters = []\n",
    "\n",
    "for n_clusters in range_n_clusters:\n",
    "    clusterer = KMeans(n_clusters=n_clusters, **kmeans_kwargs)\n",
    "    cluster_labels = clusterer.fit_predict(Y_sklearn)\n",
    "\n",
    "    # The silhouette_score gives the average value for all the samples.\n",
    "    # This gives a perspective into the density and separation of the formed\n",
    "    # clusters\n",
    "    silhouette_avg = silhouette_score(Y_sklearn, cluster_labels)\n",
    "    print(\"For n_clusters =\", n_clusters,\n",
    "          \"The average silhouette_score is :\", silhouette_avg)\n",
    "\n",
    "    silhouette_avg_n_clusters.append(silhouette_avg)\n",
    "    # Compute the silhouette scores for each sample\n",
    "    sample_silhouette_values = silhouette_samples(Y_sklearn, cluster_labels)\n",
    "style.use(\"fivethirtyeight\")\n",
    "plt.plot(range_n_clusters, silhouette_avg_n_clusters)\n",
    "plt.xlabel(\"Number of Clusters (k)\")\n",
    "plt.ylabel(\"silhouette score\")\n",
    "plt.xticks(range(1, 11))\n",
    "plt.show()"
   ]
  },
  {
   "cell_type": "code",
   "execution_count": 45,
   "metadata": {},
   "outputs": [
    {
     "data": {
      "text/plain": [
       "Text(0.5, 1.0, 'June')"
      ]
     },
     "execution_count": 45,
     "metadata": {},
     "output_type": "execute_result"
    },
    {
     "data": {
      "image/png": "[encoded data removed]",
      "text/plain": [
       "<Figure size 432x288 with 1 Axes>"
      ]
     },
     "metadata": {},
     "output_type": "display_data"
    }
   ],
   "source": [
    "sklearn_pca = PCA(n_components = 2)\n",
    "Y_sklearn = sklearn_pca.fit_transform(tf_idf_array)\n",
    "kmeans = KMeans(n_clusters=3, max_iter=1000,n_init=2, algorithm = 'auto')\n",
    "fitted = kmeans.fit(Y_sklearn)\n",
    "prediction = kmeans.predict(Y_sklearn)\n",
    "\n",
    "centers = fitted.cluster_centers_\n",
    "plt.scatter(Y_sklearn[:, 0], Y_sklearn[:, 1], c=prediction, s=50, cmap='viridis')\n",
    "plt.scatter(centers[:, 0], centers[:, 1],c='red', s=50, alpha=0.6);\n",
    "plt.title('June',fontsize=20)\n",
    "# plt.xlabel(\"Feature space for the 1st feature\")\n",
    "# plt.ylabel(\"Feature space for the 2nd feature\")"
   ]
  },
  {
   "cell_type": "code",
   "execution_count": 23,
   "metadata": {},
   "outputs": [],
   "source": [
    "labels = np.unique(prediction)\n",
    "dfs1 = []\n",
    "for label in labels:\n",
    "    id_temp = np.where(prediction==label) \n",
    "    x_means = np.mean(tf_idf_array[id_temp], axis = 0) # returns average score across cluster\n",
    "    sorted_means = np.argsort(x_means)[::-1]\n",
    "    features = tf_idf_vectorizor.get_feature_names()\n",
    "    best_features = [(features[i], x_means[i]) for i in sorted_means]\n",
    "    df = pd.DataFrame(best_features, columns = ['features', 'score'])\n",
    "    dfs1.append(df)"
   ]
  },
  {
   "cell_type": "code",
   "execution_count": 24,
   "metadata": {},
   "outputs": [
    {
     "data": {
      "text/html": [
       "<div>\n",
       "<style scoped>\n",
       "    .dataframe tbody tr th:only-of-type {\n",
       "        vertical-align: middle;\n",
       "    }\n",
       "\n",
       "    .dataframe tbody tr th {\n",
       "        vertical-align: top;\n",
       "    }\n",
       "\n",
       "    .dataframe thead th {\n",
       "        text-align: right;\n",
       "    }\n",
       "</style>\n",
       "<table border=\"1\" class=\"dataframe\">\n",
       "  <thead>\n",
       "    <tr style=\"text-align: right;\">\n",
       "      <th></th>\n",
       "      <th>features</th>\n",
       "      <th>score</th>\n",
       "    </tr>\n",
       "  </thead>\n",
       "  <tbody>\n",
       "    <tr>\n",
       "      <th>0</th>\n",
       "      <td>vaccin</td>\n",
       "      <td>0.239889</td>\n",
       "    </tr>\n",
       "    <tr>\n",
       "      <th>1</th>\n",
       "      <td>covid</td>\n",
       "      <td>0.072680</td>\n",
       "    </tr>\n",
       "    <tr>\n",
       "      <th>2</th>\n",
       "      <td>dose</td>\n",
       "      <td>0.039922</td>\n",
       "    </tr>\n",
       "    <tr>\n",
       "      <th>3</th>\n",
       "      <td>india</td>\n",
       "      <td>0.031704</td>\n",
       "    </tr>\n",
       "    <tr>\n",
       "      <th>4</th>\n",
       "      <td>administ</td>\n",
       "      <td>0.028396</td>\n",
       "    </tr>\n",
       "    <tr>\n",
       "      <th>...</th>\n",
       "      <td>...</td>\n",
       "      <td>...</td>\n",
       "    </tr>\n",
       "    <tr>\n",
       "      <th>5465</th>\n",
       "      <td>pakistani</td>\n",
       "      <td>0.000000</td>\n",
       "    </tr>\n",
       "    <tr>\n",
       "      <th>5466</th>\n",
       "      <td>pal</td>\n",
       "      <td>0.000000</td>\n",
       "    </tr>\n",
       "    <tr>\n",
       "      <th>5467</th>\n",
       "      <td>palakkad</td>\n",
       "      <td>0.000000</td>\n",
       "    </tr>\n",
       "    <tr>\n",
       "      <th>5468</th>\n",
       "      <td>palan</td>\n",
       "      <td>0.000000</td>\n",
       "    </tr>\n",
       "    <tr>\n",
       "      <th>5469</th>\n",
       "      <td>aaa</td>\n",
       "      <td>0.000000</td>\n",
       "    </tr>\n",
       "  </tbody>\n",
       "</table>\n",
       "<p>5470 rows × 2 columns</p>\n",
       "</div>"
      ],
      "text/plain": [
       "       features     score\n",
       "0        vaccin  0.239889\n",
       "1         covid  0.072680\n",
       "2          dose  0.039922\n",
       "3         india  0.031704\n",
       "4      administ  0.028396\n",
       "...         ...       ...\n",
       "5465  pakistani  0.000000\n",
       "5466        pal  0.000000\n",
       "5467   palakkad  0.000000\n",
       "5468      palan  0.000000\n",
       "5469        aaa  0.000000\n",
       "\n",
       "[5470 rows x 2 columns]"
      ]
     },
     "execution_count": 24,
     "metadata": {},
     "output_type": "execute_result"
    }
   ],
   "source": [
    "dfs1[0]"
   ]
  },
  {
   "cell_type": "code",
   "execution_count": 25,
   "metadata": {},
   "outputs": [
    {
     "data": {
      "text/html": [
       "<div>\n",
       "<style scoped>\n",
       "    .dataframe tbody tr th:only-of-type {\n",
       "        vertical-align: middle;\n",
       "    }\n",
       "\n",
       "    .dataframe tbody tr th {\n",
       "        vertical-align: top;\n",
       "    }\n",
       "\n",
       "    .dataframe thead th {\n",
       "        text-align: right;\n",
       "    }\n",
       "</style>\n",
       "<table border=\"1\" class=\"dataframe\">\n",
       "  <thead>\n",
       "    <tr style=\"text-align: right;\">\n",
       "      <th></th>\n",
       "      <th>features</th>\n",
       "      <th>score</th>\n",
       "    </tr>\n",
       "  </thead>\n",
       "  <tbody>\n",
       "    <tr>\n",
       "      <th>0</th>\n",
       "      <td>covid</td>\n",
       "      <td>0.040459</td>\n",
       "    </tr>\n",
       "    <tr>\n",
       "      <th>1</th>\n",
       "      <td>corona</td>\n",
       "      <td>0.027822</td>\n",
       "    </tr>\n",
       "    <tr>\n",
       "      <th>2</th>\n",
       "      <td>curfew</td>\n",
       "      <td>0.016013</td>\n",
       "    </tr>\n",
       "    <tr>\n",
       "      <th>3</th>\n",
       "      <td>peopl</td>\n",
       "      <td>0.014417</td>\n",
       "    </tr>\n",
       "    <tr>\n",
       "      <th>4</th>\n",
       "      <td>case</td>\n",
       "      <td>0.014169</td>\n",
       "    </tr>\n",
       "    <tr>\n",
       "      <th>...</th>\n",
       "      <td>...</td>\n",
       "      <td>...</td>\n",
       "    </tr>\n",
       "    <tr>\n",
       "      <th>5465</th>\n",
       "      <td>reimburs</td>\n",
       "      <td>0.000000</td>\n",
       "    </tr>\n",
       "    <tr>\n",
       "      <th>5466</th>\n",
       "      <td>recruit</td>\n",
       "      <td>0.000000</td>\n",
       "    </tr>\n",
       "    <tr>\n",
       "      <th>5467</th>\n",
       "      <td>impot</td>\n",
       "      <td>0.000000</td>\n",
       "    </tr>\n",
       "    <tr>\n",
       "      <th>5468</th>\n",
       "      <td>recommend</td>\n",
       "      <td>0.000000</td>\n",
       "    </tr>\n",
       "    <tr>\n",
       "      <th>5469</th>\n",
       "      <td>belliev</td>\n",
       "      <td>0.000000</td>\n",
       "    </tr>\n",
       "  </tbody>\n",
       "</table>\n",
       "<p>5470 rows × 2 columns</p>\n",
       "</div>"
      ],
      "text/plain": [
       "       features     score\n",
       "0         covid  0.040459\n",
       "1        corona  0.027822\n",
       "2        curfew  0.016013\n",
       "3         peopl  0.014417\n",
       "4          case  0.014169\n",
       "...         ...       ...\n",
       "5465   reimburs  0.000000\n",
       "5466    recruit  0.000000\n",
       "5467      impot  0.000000\n",
       "5468  recommend  0.000000\n",
       "5469    belliev  0.000000\n",
       "\n",
       "[5470 rows x 2 columns]"
      ]
     },
     "execution_count": 25,
     "metadata": {},
     "output_type": "execute_result"
    }
   ],
   "source": [
    "dfs1[1]"
   ]
  },
  {
   "cell_type": "code",
   "execution_count": 26,
   "metadata": {},
   "outputs": [
    {
     "data": {
      "text/html": [
       "<div>\n",
       "<style scoped>\n",
       "    .dataframe tbody tr th:only-of-type {\n",
       "        vertical-align: middle;\n",
       "    }\n",
       "\n",
       "    .dataframe tbody tr th {\n",
       "        vertical-align: top;\n",
       "    }\n",
       "\n",
       "    .dataframe thead th {\n",
       "        text-align: right;\n",
       "    }\n",
       "</style>\n",
       "<table border=\"1\" class=\"dataframe\">\n",
       "  <thead>\n",
       "    <tr style=\"text-align: right;\">\n",
       "      <th></th>\n",
       "      <th>features</th>\n",
       "      <th>score</th>\n",
       "    </tr>\n",
       "  </thead>\n",
       "  <tbody>\n",
       "    <tr>\n",
       "      <th>0</th>\n",
       "      <td>covid</td>\n",
       "      <td>0.392263</td>\n",
       "    </tr>\n",
       "    <tr>\n",
       "      <th>1</th>\n",
       "      <td>updat</td>\n",
       "      <td>0.259207</td>\n",
       "    </tr>\n",
       "    <tr>\n",
       "      <th>2</th>\n",
       "      <td>live</td>\n",
       "      <td>0.254044</td>\n",
       "    </tr>\n",
       "    <tr>\n",
       "      <th>3</th>\n",
       "      <td>case</td>\n",
       "      <td>0.105165</td>\n",
       "    </tr>\n",
       "    <tr>\n",
       "      <th>4</th>\n",
       "      <td>coronaviru</td>\n",
       "      <td>0.086705</td>\n",
       "    </tr>\n",
       "    <tr>\n",
       "      <th>...</th>\n",
       "      <td>...</td>\n",
       "      <td>...</td>\n",
       "    </tr>\n",
       "    <tr>\n",
       "      <th>5465</th>\n",
       "      <td>pois</td>\n",
       "      <td>0.000000</td>\n",
       "    </tr>\n",
       "    <tr>\n",
       "      <th>5466</th>\n",
       "      <td>poison</td>\n",
       "      <td>0.000000</td>\n",
       "    </tr>\n",
       "    <tr>\n",
       "      <th>5467</th>\n",
       "      <td>polic</td>\n",
       "      <td>0.000000</td>\n",
       "    </tr>\n",
       "    <tr>\n",
       "      <th>5468</th>\n",
       "      <td>policeman</td>\n",
       "      <td>0.000000</td>\n",
       "    </tr>\n",
       "    <tr>\n",
       "      <th>5469</th>\n",
       "      <td>aaa</td>\n",
       "      <td>0.000000</td>\n",
       "    </tr>\n",
       "  </tbody>\n",
       "</table>\n",
       "<p>5470 rows × 2 columns</p>\n",
       "</div>"
      ],
      "text/plain": [
       "        features     score\n",
       "0          covid  0.392263\n",
       "1          updat  0.259207\n",
       "2           live  0.254044\n",
       "3           case  0.105165\n",
       "4     coronaviru  0.086705\n",
       "...          ...       ...\n",
       "5465        pois  0.000000\n",
       "5466      poison  0.000000\n",
       "5467       polic  0.000000\n",
       "5468   policeman  0.000000\n",
       "5469         aaa  0.000000\n",
       "\n",
       "[5470 rows x 2 columns]"
      ]
     },
     "execution_count": 26,
     "metadata": {},
     "output_type": "execute_result"
    }
   ],
   "source": [
    "dfs1[2]"
   ]
  },
  {
   "cell_type": "code",
   "execution_count": 27,
   "metadata": {},
   "outputs": [],
   "source": [
    "def get_top_features_cluster(tf_idf_array, prediction, n_feats):\n",
    "    labels = np.unique(prediction)\n",
    "    dfs = []\n",
    "    for label in labels:\n",
    "        id_temp = np.where(prediction==label) # indices for each cluster\n",
    "        x_means = np.mean(tf_idf_array[id_temp], axis = 0) # returns average score across cluster\n",
    "        sorted_means = np.argsort(x_means)[::-1][:n_feats] # indices with top 20 scores\n",
    "        features = tf_idf_vectorizor.get_feature_names()\n",
    "        best_features = [(features[i], x_means[i]) for i in sorted_means]\n",
    "        df = pd.DataFrame(best_features, columns = ['features', 'score'])\n",
    "        dfs.append(df)\n",
    "    return dfs\n",
    "dfs = get_top_features_cluster(tf_idf_array, prediction, 10)"
   ]
  },
  {
   "cell_type": "code",
   "execution_count": 28,
   "metadata": {},
   "outputs": [],
   "source": [
    "june_cluster=dfs"
   ]
  },
  {
   "cell_type": "code",
   "execution_count": 48,
   "metadata": {},
   "outputs": [
    {
     "data": {
      "image/png": "[encoded data removed]",
      "text/plain": [
       "<Figure size 1440x720 with 1 Axes>"
      ]
     },
     "metadata": {},
     "output_type": "display_data"
    }
   ],
   "source": [
    "\n",
    "# Figure Size\n",
    "fig = plt.figure(figsize =(20, 10))\n",
    " \n",
    "# Horizontal Bar Plot\n",
    "sns.barplot(x='features',y='score',data=june_cluster[0]).set(title=\"Features of Cluster 2 of June\")\n",
    "plt.xlabel('Features',fontsize=20)\n",
    "plt.ylabel('Scores',fontsize=20)\n",
    "plt.xticks(rotation=45)\n",
    "# Show Plot\n",
    "plt.show()"
   ]
  },
  {
   "cell_type": "code",
   "execution_count": 47,
   "metadata": {},
   "outputs": [
    {
     "data": {
      "image/png": "[encoded data removed]",
      "text/plain": [
       "<Figure size 1440x720 with 1 Axes>"
      ]
     },
     "metadata": {},
     "output_type": "display_data"
    }
   ],
   "source": [
    "\n",
    "# Figure Size\n",
    "fig = plt.figure(figsize =(20, 10))\n",
    " \n",
    "# Horizontal Bar Plot\n",
    "sns.barplot(x='features',y='score',data=june_cluster[1]).set(title=\"Features of Cluster 1 of June\")\n",
    "plt.xlabel('Features',fontsize=20)\n",
    "plt.ylabel('Scores',fontsize=20)\n",
    "plt.xticks(rotation=45)\n",
    "# Show Plot\n",
    "plt.show()"
   ]
  },
  {
   "cell_type": "code",
   "execution_count": 49,
   "metadata": {},
   "outputs": [
    {
     "data": {
      "image/png": "[encoded data removed]",
      "text/plain": [
       "<Figure size 1440x720 with 1 Axes>"
      ]
     },
     "metadata": {},
     "output_type": "display_data"
    }
   ],
   "source": [
    "\n",
    "# Figure Size\n",
    "fig = plt.figure(figsize =(20, 10))\n",
    " \n",
    "# Horizontal Bar Plot\n",
    "sns.barplot(x='features',y='score',data=june_cluster[2]).set(title=\"Features of Cluster 3 of June\")\n",
    "plt.xlabel('Features',fontsize=20)\n",
    "plt.ylabel('Scores',fontsize=20)\n",
    "plt.xticks(rotation=45)\n",
    "# Show Plot\n",
    "plt.show()"
   ]
  },
  {
   "cell_type": "code",
   "execution_count": 32,
   "metadata": {},
   "outputs": [],
   "source": [
    "K3=dfs1[2]\n",
    "K1=dfs1[0]\n",
    "K2=dfs1[1]"
   ]
  },
  {
   "cell_type": "code",
   "execution_count": 33,
   "metadata": {},
   "outputs": [],
   "source": [
    "june_bw=pd.read_csv('JuneTopWords.csv')"
   ]
  },
  {
   "cell_type": "code",
   "execution_count": 34,
   "metadata": {},
   "outputs": [],
   "source": [
    "t=june_bw[:30]\n"
   ]
  },
  {
   "cell_type": "code",
   "execution_count": 35,
   "metadata": {},
   "outputs": [],
   "source": [
    "c1=[]\n",
    "p=0\n",
    "c2=[]\n",
    "q=0\n",
    "c3=[]\n",
    "x=0\n",
    "for i in range(0,30):\n",
    "    for j in range(0,100):\n",
    "        if(t.words[i]==K1['features'][j]):\n",
    "            c1.append(K1['features'][j])\n",
    "            p=p+1\n",
    "for i in range(0,30):\n",
    "    for j in range(0,100):\n",
    "        if(t.words[i]==K2['features'][j]):\n",
    "            c2.append(K1['features'][j])\n",
    "            q=q+1\n",
    "for i in range(0,30):\n",
    "    for j in range(0,100):\n",
    "        if(t.words[i]==K3['features'][j]):\n",
    "            c3.append(K3['features'][j])\n",
    "            x=x+1"
   ]
  },
  {
   "cell_type": "code",
   "execution_count": 36,
   "metadata": {},
   "outputs": [
    {
     "name": "stdout",
     "output_type": "stream",
     "text": [
      "21\n",
      "29\n",
      "16\n"
     ]
    }
   ],
   "source": [
    "\n",
    "print(p)\n",
    "print(q)\n",
    "print(x)"
   ]
  },
  {
   "cell_type": "markdown",
   "metadata": {},
   "source": [
    "### Tweet Grouping"
   ]
  },
  {
   "cell_type": "code",
   "execution_count": 37,
   "metadata": {},
   "outputs": [
    {
     "data": {
      "text/html": [
       "<div>\n",
       "<style scoped>\n",
       "    .dataframe tbody tr th:only-of-type {\n",
       "        vertical-align: middle;\n",
       "    }\n",
       "\n",
       "    .dataframe tbody tr th {\n",
       "        vertical-align: top;\n",
       "    }\n",
       "\n",
       "    .dataframe thead th {\n",
       "        text-align: right;\n",
       "    }\n",
       "</style>\n",
       "<table border=\"1\" class=\"dataframe\">\n",
       "  <thead>\n",
       "    <tr style=\"text-align: right;\">\n",
       "      <th></th>\n",
       "      <th>tweet</th>\n",
       "      <th>clean_tweet</th>\n",
       "      <th>hastags</th>\n",
       "      <th>attherate</th>\n",
       "      <th>urls</th>\n",
       "      <th>emojis</th>\n",
       "      <th>label</th>\n",
       "    </tr>\n",
       "  </thead>\n",
       "  <tbody>\n",
       "    <tr>\n",
       "      <th>0</th>\n",
       "      <td>Did anyone notice a change in their psychologi...</td>\n",
       "      <td>notic chang psycholog physic condit coronaviru...</td>\n",
       "      <td>[]</td>\n",
       "      <td>[]</td>\n",
       "      <td>[]</td>\n",
       "      <td>[]</td>\n",
       "      <td>1</td>\n",
       "    </tr>\n",
       "    <tr>\n",
       "      <th>1</th>\n",
       "      <td>Say goodbye to the “Indian,” “South African” a...</td>\n",
       "      <td>goodby indian south african british coronaviru...</td>\n",
       "      <td>[]</td>\n",
       "      <td>[]</td>\n",
       "      <td>['https://t.co/nkQo4IdGqO']</td>\n",
       "      <td>[]</td>\n",
       "      <td>1</td>\n",
       "    </tr>\n",
       "    <tr>\n",
       "      <th>2</th>\n",
       "      <td>Dear all, Keep Donate Keep Retweet   https://t...</td>\n",
       "      <td>dear donat retweet</td>\n",
       "      <td>['#milaap', '#verified', '#campaign', '#COVID1...</td>\n",
       "      <td>[]</td>\n",
       "      <td>['https://t.co/TRRT59Sd8K']</td>\n",
       "      <td>[]</td>\n",
       "      <td>1</td>\n",
       "    </tr>\n",
       "  </tbody>\n",
       "</table>\n",
       "</div>"
      ],
      "text/plain": [
       "                                               tweet  \\\n",
       "0  Did anyone notice a change in their psychologi...   \n",
       "1  Say goodbye to the “Indian,” “South African” a...   \n",
       "2  Dear all, Keep Donate Keep Retweet   https://t...   \n",
       "\n",
       "                                         clean_tweet  \\\n",
       "0  notic chang psycholog physic condit coronaviru...   \n",
       "1  goodby indian south african british coronaviru...   \n",
       "2                                dear donat retweet    \n",
       "\n",
       "                                             hastags attherate  \\\n",
       "0                                                 []        []   \n",
       "1                                                 []        []   \n",
       "2  ['#milaap', '#verified', '#campaign', '#COVID1...        []   \n",
       "\n",
       "                          urls emojis  label  \n",
       "0                           []     []      1  \n",
       "1  ['https://t.co/nkQo4IdGqO']     []      1  \n",
       "2  ['https://t.co/TRRT59Sd8K']     []      1  "
      ]
     },
     "execution_count": 37,
     "metadata": {},
     "output_type": "execute_result"
    }
   ],
   "source": [
    "label=kmeans.labels_\n",
    "june['label']=label\n",
    "june.head(3)"
   ]
  },
  {
   "cell_type": "code",
   "execution_count": 38,
   "metadata": {},
   "outputs": [
    {
     "data": {
      "text/plain": [
       "array([0, 1, 2])"
      ]
     },
     "execution_count": 38,
     "metadata": {},
     "output_type": "execute_result"
    }
   ],
   "source": [
    "np.unique(june['label'])"
   ]
  },
  {
   "cell_type": "code",
   "execution_count": 39,
   "metadata": {},
   "outputs": [
    {
     "data": {
      "text/plain": [
       "1    2034\n",
       "0     353\n",
       "2      52\n",
       "Name: label, dtype: int64"
      ]
     },
     "execution_count": 39,
     "metadata": {},
     "output_type": "execute_result"
    }
   ],
   "source": [
    "june['label'].value_counts()"
   ]
  },
  {
   "cell_type": "code",
   "execution_count": 40,
   "metadata": {},
   "outputs": [],
   "source": [
    "june_cluster_1=june[june.label ==0]\n",
    "june_cluster_2=june[june.label ==1]\n",
    "june_cluster_3=june[june.label ==2]"
   ]
  },
  {
   "cell_type": "code",
   "execution_count": 41,
   "metadata": {},
   "outputs": [],
   "source": [
    "june_cluster_1.to_csv('JuneCluster1Tweet.csv')\n",
    "june_cluster_2.to_csv('JuneCluster2Tweet.csv')\n",
    "june_cluster_3.to_csv('JuneCluster3Tweet.csv')"
   ]
  },
  {
   "cell_type": "code",
   "execution_count": 46,
   "metadata": {},
   "outputs": [
    {
     "data": {
      "image/png": "[encoded data removed]",
      "text/plain": [
       "<Figure size 432x288 with 1 Axes>"
      ]
     },
     "metadata": {},
     "output_type": "display_data"
    }
   ],
   "source": [
    "count=june['label'].value_counts()\n",
    "tweet_freq_cluster=[]\n",
    "tweet_freq_cluster.append(count[0])\n",
    "tweet_freq_cluster.append(count[1])\n",
    "tweet_freq_cluster.append(count[2])\n",
    "cluster_name=['Cluster 2','Cluster 1','Cluster 3']\n",
    "explode = [0.1, 0,0]\n",
    "palette_color = sns.color_palette(\"husl\", 3)\n",
    "plt.title('June',fontsize=20)\n",
    "# plotting data on chart\n",
    "plt.pie(tweet_freq_cluster, labels=cluster_name, colors=palette_color,   explode=explode,autopct='%.0f%%')\n",
    "  \n",
    "# displaying chart\n",
    "plt.show()"
   ]
  },
  {
   "cell_type": "code",
   "execution_count": 43,
   "metadata": {},
   "outputs": [
    {
     "data": {
      "text/plain": [
       "'✳️ COVID-19 Live Updates: 22/06/2021  @thoddoo_hc  https://t.co/oAR3a9NMvK'"
      ]
     },
     "execution_count": 43,
     "metadata": {},
     "output_type": "execute_result"
    }
   ],
   "source": [
    "june['tweet'][1846]"
   ]
  },
  {
   "cell_type": "code",
   "execution_count": null,
   "metadata": {},
   "outputs": [],
   "source": []
  }
 ],
 "metadata": {
  "interpreter": {
   "hash": "f5077de726081cd88c6b6f65b193df0af57117231466353a74e8f1aa7856d823"
  },
  "kernelspec": {
   "display_name": "Python 3.8.8 ('base')",
   "language": "python",
   "name": "python3"
  },
  "language_info": {
   "codemirror_mode": {
    "name": "ipython",
    "version": 3
   },
   "file_extension": ".py",
   "mimetype": "text/x-python",
   "name": "python",
   "nbconvert_exporter": "python",
   "pygments_lexer": "ipython3",
   "version": "3.8.8"
  },
  "orig_nbformat": 4
 },
 "nbformat": 4,
 "nbformat_minor": 2
}
