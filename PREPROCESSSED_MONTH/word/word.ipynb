{
 "cells": [
  {
   "cell_type": "code",
   "execution_count": 1,
   "metadata": {},
   "outputs": [],
   "source": [
    "import pandas as pd\n",
    "import numpy as np\n",
    "from textblob import TextBlob as tb\n",
    "from textblob import Word\n",
    "from nltk.corpus import stopwords\n",
    "import neattext.functions as nfx\n",
    "import seaborn as sns\n",
    "import matplotlib.pyplot as plt\n",
    "from collections import Counter\n",
    "from wordcloud import WordCloud\n",
    "from PIL import Image\n",
    "plt.style.use('ggplot')\n",
    "import string\n",
    "from string import digits\n",
    "\n",
    "from nltk.stem.wordnet import WordNetLemmatizer\n",
    "\n",
    "import warnings\n",
    "warnings.simplefilter('ignore')"
   ]
  },
  {
   "cell_type": "code",
   "execution_count": 2,
   "metadata": {},
   "outputs": [],
   "source": [
    "march_tw=pd.read_csv('MarchTopWords.csv')\n",
    "april_tw=pd.read_csv('AprilTopWords.csv')\n",
    "may_tw=pd.read_csv('MayTopWords.csv')\n",
    "june_tw=pd.read_csv('JuneTopWords.csv')\n",
    "july_tw=pd.read_csv('JulyTopWords.csv')\n",
    "august_tw=pd.read_csv('AugustTopWords.csv')"
   ]
  },
  {
   "cell_type": "code",
   "execution_count": 3,
   "metadata": {},
   "outputs": [],
   "source": [
    "x='curfew'\n",
    "z='vaccine'\n",
    "m=0\n",
    "k=0\n",
    "word_freq_x=[0,0,0,0,0,0]\n",
    "word_freq_z=[0,0,0,0,0,0]"
   ]
  },
  {
   "cell_type": "code",
   "execution_count": 4,
   "metadata": {},
   "outputs": [],
   "source": [
    "for i in range(0,march_tw.shape[0]):\n",
    "    if(z==march_tw['words'][i]):\n",
    "        word_freq_z[m]=march_tw['scores'][i]\n",
    "    if(x==march_tw['words'][i]):\n",
    "        word_freq_x[k]=march_tw['scores'][i]\n",
    "m+=1\n",
    "k+=1\n",
    "for i in range(0,april_tw.shape[0]):\n",
    "    if(z==april_tw['words'][i]):\n",
    "        word_freq_z[m]=april_tw['scores'][i]\n",
    "    if(x==april_tw['words'][i]):\n",
    "        word_freq_x[k]=april_tw['scores'][i]\n",
    "m+=1\n",
    "k+=1\n",
    "for i in range(0,may_tw.shape[0]):\n",
    "    if(z==may_tw['words'][i]):\n",
    "        word_freq_z[m]=may_tw['scores'][i]\n",
    "    if(x==may_tw['words'][i]):\n",
    "        word_freq_x[k]=may_tw['scores'][i]\n",
    "m+=1\n",
    "k+=1\n",
    "for i in range(0,july_tw.shape[0]):\n",
    "    if(z ==july_tw['words'][i]):\n",
    "         word_freq_z[m]=july_tw['scores'][i]\n",
    "    if(x==july_tw['words'][i]):\n",
    "         word_freq_x[k]=july_tw['scores'][i]\n",
    "m+=1\n",
    "k+=1\n",
    "for i in range(0,july_tw.shape[0]):\n",
    "    if(z ==july_tw['words'][i]):\n",
    "         word_freq_z[m]=july_tw['scores'][i]\n",
    "    if(x==july_tw['words'][i]):\n",
    "         word_freq_x[k]=july_tw['scores'][i]\n",
    "m+=1\n",
    "k+=1\n",
    "for i in range(0,august_tw.shape[0]):\n",
    "    if(z==august_tw['words'][i]):\n",
    "         word_freq_z[m]=august_tw['scores'][i]\n",
    "    if(x==august_tw['words'][i]):\n",
    "         word_freq_x[k]=august_tw['scores'][i]"
   ]
  },
  {
   "cell_type": "code",
   "execution_count": 5,
   "metadata": {},
   "outputs": [],
   "source": [
    "month=['March','April','May','June','july','August']"
   ]
  },
  {
   "cell_type": "code",
   "execution_count": 6,
   "metadata": {},
   "outputs": [
    {
     "data": {
      "text/plain": [
       "[550, 391, 289, 301, 301, 247]"
      ]
     },
     "execution_count": 6,
     "metadata": {},
     "output_type": "execute_result"
    }
   ],
   "source": [
    "word_freq_z"
   ]
  },
  {
   "cell_type": "code",
   "execution_count": 7,
   "metadata": {},
   "outputs": [
    {
     "data": {
      "text/plain": [
       "[136, 268, 98, 152, 152, 185]"
      ]
     },
     "execution_count": 7,
     "metadata": {},
     "output_type": "execute_result"
    }
   ],
   "source": [
    "word_freq_x"
   ]
  },
  {
   "cell_type": "code",
   "execution_count": 8,
   "metadata": {},
   "outputs": [
    {
     "data": {
      "text/plain": [
       "{'freq': [550, 391, 289, 301, 301, 247],\n",
       " 'month': ['March', 'April', 'May', 'June', 'july', 'August']}"
      ]
     },
     "execution_count": 8,
     "metadata": {},
     "output_type": "execute_result"
    }
   ],
   "source": [
    "data_z={'freq':word_freq_z,'month':month}\n",
    "data_z"
   ]
  },
  {
   "cell_type": "code",
   "execution_count": 9,
   "metadata": {},
   "outputs": [
    {
     "data": {
      "text/plain": [
       "{'freq': [136, 268, 98, 152, 152, 185],\n",
       " 'month': ['March', 'April', 'May', 'June', 'july', 'August']}"
      ]
     },
     "execution_count": 9,
     "metadata": {},
     "output_type": "execute_result"
    }
   ],
   "source": [
    "data_x={'freq':word_freq_x,'month':month}\n",
    "data_x"
   ]
  },
  {
   "cell_type": "code",
   "execution_count": 10,
   "metadata": {},
   "outputs": [
    {
     "data": {
      "text/html": [
       "<div>\n",
       "<style scoped>\n",
       "    .dataframe tbody tr th:only-of-type {\n",
       "        vertical-align: middle;\n",
       "    }\n",
       "\n",
       "    .dataframe tbody tr th {\n",
       "        vertical-align: top;\n",
       "    }\n",
       "\n",
       "    .dataframe thead th {\n",
       "        text-align: right;\n",
       "    }\n",
       "</style>\n",
       "<table border=\"1\" class=\"dataframe\">\n",
       "  <thead>\n",
       "    <tr style=\"text-align: right;\">\n",
       "      <th></th>\n",
       "      <th>freq</th>\n",
       "      <th>month</th>\n",
       "    </tr>\n",
       "  </thead>\n",
       "  <tbody>\n",
       "    <tr>\n",
       "      <th>0</th>\n",
       "      <td>550</td>\n",
       "      <td>March</td>\n",
       "    </tr>\n",
       "    <tr>\n",
       "      <th>1</th>\n",
       "      <td>391</td>\n",
       "      <td>April</td>\n",
       "    </tr>\n",
       "    <tr>\n",
       "      <th>2</th>\n",
       "      <td>289</td>\n",
       "      <td>May</td>\n",
       "    </tr>\n",
       "    <tr>\n",
       "      <th>3</th>\n",
       "      <td>301</td>\n",
       "      <td>June</td>\n",
       "    </tr>\n",
       "    <tr>\n",
       "      <th>4</th>\n",
       "      <td>301</td>\n",
       "      <td>july</td>\n",
       "    </tr>\n",
       "    <tr>\n",
       "      <th>5</th>\n",
       "      <td>247</td>\n",
       "      <td>August</td>\n",
       "    </tr>\n",
       "  </tbody>\n",
       "</table>\n",
       "</div>"
      ],
      "text/plain": [
       "   freq   month\n",
       "0   550   March\n",
       "1   391   April\n",
       "2   289     May\n",
       "3   301    June\n",
       "4   301    july\n",
       "5   247  August"
      ]
     },
     "execution_count": 10,
     "metadata": {},
     "output_type": "execute_result"
    }
   ],
   "source": [
    "Word_z=pd.DataFrame(data_z)\n",
    "Word_z"
   ]
  },
  {
   "cell_type": "code",
   "execution_count": 11,
   "metadata": {},
   "outputs": [
    {
     "data": {
      "text/html": [
       "<div>\n",
       "<style scoped>\n",
       "    .dataframe tbody tr th:only-of-type {\n",
       "        vertical-align: middle;\n",
       "    }\n",
       "\n",
       "    .dataframe tbody tr th {\n",
       "        vertical-align: top;\n",
       "    }\n",
       "\n",
       "    .dataframe thead th {\n",
       "        text-align: right;\n",
       "    }\n",
       "</style>\n",
       "<table border=\"1\" class=\"dataframe\">\n",
       "  <thead>\n",
       "    <tr style=\"text-align: right;\">\n",
       "      <th></th>\n",
       "      <th>freq</th>\n",
       "      <th>month</th>\n",
       "    </tr>\n",
       "  </thead>\n",
       "  <tbody>\n",
       "    <tr>\n",
       "      <th>0</th>\n",
       "      <td>136</td>\n",
       "      <td>March</td>\n",
       "    </tr>\n",
       "    <tr>\n",
       "      <th>1</th>\n",
       "      <td>268</td>\n",
       "      <td>April</td>\n",
       "    </tr>\n",
       "    <tr>\n",
       "      <th>2</th>\n",
       "      <td>98</td>\n",
       "      <td>May</td>\n",
       "    </tr>\n",
       "    <tr>\n",
       "      <th>3</th>\n",
       "      <td>152</td>\n",
       "      <td>June</td>\n",
       "    </tr>\n",
       "    <tr>\n",
       "      <th>4</th>\n",
       "      <td>152</td>\n",
       "      <td>july</td>\n",
       "    </tr>\n",
       "    <tr>\n",
       "      <th>5</th>\n",
       "      <td>185</td>\n",
       "      <td>August</td>\n",
       "    </tr>\n",
       "  </tbody>\n",
       "</table>\n",
       "</div>"
      ],
      "text/plain": [
       "   freq   month\n",
       "0   136   March\n",
       "1   268   April\n",
       "2    98     May\n",
       "3   152    June\n",
       "4   152    july\n",
       "5   185  August"
      ]
     },
     "execution_count": 11,
     "metadata": {},
     "output_type": "execute_result"
    }
   ],
   "source": [
    "Word_x=pd.DataFrame(data_x)\n",
    "Word_x"
   ]
  },
  {
   "cell_type": "code",
   "execution_count": 12,
   "metadata": {},
   "outputs": [
    {
     "data": {
      "image/png": "[encoded data removed]",
      "text/plain": [
       "<Figure size 1440x720 with 1 Axes>"
      ]
     },
     "metadata": {},
     "output_type": "display_data"
    }
   ],
   "source": [
    "plt.figure(figsize=(20,10))\n",
    "sns.set(font_scale = 2)\n",
    "sns.lineplot( data=Word_x,x=\"month\", y=\"freq\").set(title=\"Usage of Perticular Hastags\",)\n",
    "sns.lineplot( data=Word_z,x=\"month\", y=\"freq\")\n",
    "plt.legend([x,z])\n",
    "plt.show()"
   ]
  },
  {
   "cell_type": "code",
   "execution_count": null,
   "metadata": {},
   "outputs": [],
   "source": []
  }
 ],
 "metadata": {
  "interpreter": {
   "hash": "f5077de726081cd88c6b6f65b193df0af57117231466353a74e8f1aa7856d823"
  },
  "kernelspec": {
   "display_name": "Python 3.8.8 ('base')",
   "language": "python",
   "name": "python3"
  },
  "language_info": {
   "codemirror_mode": {
    "name": "ipython",
    "version": 3
   },
   "file_extension": ".py",
   "mimetype": "text/x-python",
   "name": "python",
   "nbconvert_exporter": "python",
   "pygments_lexer": "ipython3",
   "version": "3.8.8"
  },
  "orig_nbformat": 4
 },
 "nbformat": 4,
 "nbformat_minor": 2
}
