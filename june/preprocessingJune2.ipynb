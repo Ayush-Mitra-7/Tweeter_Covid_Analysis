{
 "cells": [
  {
   "cell_type": "code",
   "execution_count": 18,
   "metadata": {},
   "outputs": [],
   "source": [
    "import pandas as pd\n",
    "import numpy as np\n",
    "import math\n",
    "from textblob import TextBlob as tb\n",
    "import re\n",
    "from nltk.corpus import stopwords"
   ]
  },
  {
   "cell_type": "code",
   "execution_count": 19,
   "metadata": {},
   "outputs": [],
   "source": [
    "import neattext.functions as nfx\n",
    "import emoji\n",
    "import advertools as adv"
   ]
  },
  {
   "cell_type": "code",
   "execution_count": 20,
   "metadata": {},
   "outputs": [],
   "source": [
    "juneTweet=pd.read_csv('JuneTweet_(with Emojis and other language within eng sentence).csv')"
   ]
  },
  {
   "cell_type": "code",
   "execution_count": 21,
   "metadata": {},
   "outputs": [
    {
     "data": {
      "text/html": [
       "<div>\n",
       "<style scoped>\n",
       "    .dataframe tbody tr th:only-of-type {\n",
       "        vertical-align: middle;\n",
       "    }\n",
       "\n",
       "    .dataframe tbody tr th {\n",
       "        vertical-align: top;\n",
       "    }\n",
       "\n",
       "    .dataframe thead th {\n",
       "        text-align: right;\n",
       "    }\n",
       "</style>\n",
       "<table border=\"1\" class=\"dataframe\">\n",
       "  <thead>\n",
       "    <tr style=\"text-align: right;\">\n",
       "      <th></th>\n",
       "      <th>Unnamed: 0</th>\n",
       "      <th>Unnamed: 0.1</th>\n",
       "      <th>tweet</th>\n",
       "      <th>language</th>\n",
       "      <th>hastags</th>\n",
       "      <th>attherate</th>\n",
       "      <th>urls</th>\n",
       "      <th>tokenized_Tweet</th>\n",
       "      <th>filteredToken</th>\n",
       "      <th>clean_tweet</th>\n",
       "    </tr>\n",
       "  </thead>\n",
       "  <tbody>\n",
       "    <tr>\n",
       "      <th>0</th>\n",
       "      <td>0</td>\n",
       "      <td>0</td>\n",
       "      <td>Did anyone notice a change in their psychologi...</td>\n",
       "      <td>en</td>\n",
       "      <td>[]</td>\n",
       "      <td>[]</td>\n",
       "      <td>[]</td>\n",
       "      <td>['Did', 'anyone', 'notice', 'a', 'change', 'in...</td>\n",
       "      <td>['Did', 'change', 'notice', 'coronavirus', 'co...</td>\n",
       "      <td>Did anyone notice a change in their psychologi...</td>\n",
       "    </tr>\n",
       "    <tr>\n",
       "      <th>1</th>\n",
       "      <td>1</td>\n",
       "      <td>1</td>\n",
       "      <td>Say goodbye to the “Indian,” “South African” a...</td>\n",
       "      <td>en</td>\n",
       "      <td>[]</td>\n",
       "      <td>[]</td>\n",
       "      <td>['https://t.co/nkQo4IdGqO']</td>\n",
       "      <td>['Say', 'goodbye', 'to', 'the', '“', 'Indian',...</td>\n",
       "      <td>NaN</td>\n",
       "      <td>Say goodbye to the “Indian” “South African” an...</td>\n",
       "    </tr>\n",
       "    <tr>\n",
       "      <th>2</th>\n",
       "      <td>2</td>\n",
       "      <td>2</td>\n",
       "      <td>Dear all, Keep Donate Keep Retweet   https://t...</td>\n",
       "      <td>en</td>\n",
       "      <td>['#milaap', '#verified', '#campaign', '#COVID1...</td>\n",
       "      <td>[]</td>\n",
       "      <td>['https://t.co/TRRT59Sd8K']</td>\n",
       "      <td>['Dear', 'all', 'Keep', 'Donate', 'Keep', 'Ret...</td>\n",
       "      <td>NaN</td>\n",
       "      <td>Dear all Keep Donate Keep Retweet</td>\n",
       "    </tr>\n",
       "    <tr>\n",
       "      <th>3</th>\n",
       "      <td>3</td>\n",
       "      <td>3</td>\n",
       "      <td>#jobseekers #jobvsmlm #MLM #directselling #net...</td>\n",
       "      <td>en</td>\n",
       "      <td>['#jobseekers', '#jobvsmlm', '#MLM', '#directs...</td>\n",
       "      <td>[]</td>\n",
       "      <td>['https://t.co/fcj7letDwE']</td>\n",
       "      <td>['jobseekers', 'jobvsmlm', 'MLM', 'directselli...</td>\n",
       "      <td>NaN</td>\n",
       "      <td>Which is best for your future and Dreams Job ...</td>\n",
       "    </tr>\n",
       "    <tr>\n",
       "      <th>4</th>\n",
       "      <td>4</td>\n",
       "      <td>4</td>\n",
       "      <td>@UsmaniToheed  This is the same mosque which u...</td>\n",
       "      <td>en</td>\n",
       "      <td>['#jamamasjid', '#India', '#DelhiFightsCorona']</td>\n",
       "      <td>['@UsmaniToheed']</td>\n",
       "      <td>['https://t.co/KHGP0eLUT0']</td>\n",
       "      <td>['UsmaniToheed', 'This', 'is', 'the', 'same', ...</td>\n",
       "      <td>NaN</td>\n",
       "      <td>This is the same mosque which used to be full...</td>\n",
       "    </tr>\n",
       "  </tbody>\n",
       "</table>\n",
       "</div>"
      ],
      "text/plain": [
       "   Unnamed: 0  Unnamed: 0.1  \\\n",
       "0           0             0   \n",
       "1           1             1   \n",
       "2           2             2   \n",
       "3           3             3   \n",
       "4           4             4   \n",
       "\n",
       "                                               tweet language  \\\n",
       "0  Did anyone notice a change in their psychologi...       en   \n",
       "1  Say goodbye to the “Indian,” “South African” a...       en   \n",
       "2  Dear all, Keep Donate Keep Retweet   https://t...       en   \n",
       "3  #jobseekers #jobvsmlm #MLM #directselling #net...       en   \n",
       "4  @UsmaniToheed  This is the same mosque which u...       en   \n",
       "\n",
       "                                             hastags          attherate  \\\n",
       "0                                                 []                 []   \n",
       "1                                                 []                 []   \n",
       "2  ['#milaap', '#verified', '#campaign', '#COVID1...                 []   \n",
       "3  ['#jobseekers', '#jobvsmlm', '#MLM', '#directs...                 []   \n",
       "4    ['#jamamasjid', '#India', '#DelhiFightsCorona']  ['@UsmaniToheed']   \n",
       "\n",
       "                          urls  \\\n",
       "0                           []   \n",
       "1  ['https://t.co/nkQo4IdGqO']   \n",
       "2  ['https://t.co/TRRT59Sd8K']   \n",
       "3  ['https://t.co/fcj7letDwE']   \n",
       "4  ['https://t.co/KHGP0eLUT0']   \n",
       "\n",
       "                                     tokenized_Tweet  \\\n",
       "0  ['Did', 'anyone', 'notice', 'a', 'change', 'in...   \n",
       "1  ['Say', 'goodbye', 'to', 'the', '“', 'Indian',...   \n",
       "2  ['Dear', 'all', 'Keep', 'Donate', 'Keep', 'Ret...   \n",
       "3  ['jobseekers', 'jobvsmlm', 'MLM', 'directselli...   \n",
       "4  ['UsmaniToheed', 'This', 'is', 'the', 'same', ...   \n",
       "\n",
       "                                       filteredToken  \\\n",
       "0  ['Did', 'change', 'notice', 'coronavirus', 'co...   \n",
       "1                                                NaN   \n",
       "2                                                NaN   \n",
       "3                                                NaN   \n",
       "4                                                NaN   \n",
       "\n",
       "                                         clean_tweet  \n",
       "0  Did anyone notice a change in their psychologi...  \n",
       "1  Say goodbye to the “Indian” “South African” an...  \n",
       "2                Dear all Keep Donate Keep Retweet    \n",
       "3   Which is best for your future and Dreams Job ...  \n",
       "4   This is the same mosque which used to be full...  "
      ]
     },
     "execution_count": 21,
     "metadata": {},
     "output_type": "execute_result"
    }
   ],
   "source": [
    "juneTweet.head()"
   ]
  },
  {
   "cell_type": "markdown",
   "metadata": {},
   "source": [
    "### -----Removing hastags from tweet------- "
   ]
  },
  {
   "cell_type": "code",
   "execution_count": 22,
   "metadata": {},
   "outputs": [],
   "source": [
    "juneTweet['clean_tweet'] =juneTweet['tweet'].apply(nfx.remove_hashtags)"
   ]
  },
  {
   "cell_type": "markdown",
   "metadata": {},
   "source": [
    "### -----Removing userhandle from tweet -----"
   ]
  },
  {
   "cell_type": "code",
   "execution_count": 23,
   "metadata": {},
   "outputs": [],
   "source": [
    "juneTweet['clean_tweet'] = juneTweet['clean_tweet'].apply(lambda x: nfx.remove_userhandles(x))"
   ]
  },
  {
   "cell_type": "markdown",
   "metadata": {},
   "source": [
    "### ----Removing multiple white spaces-----"
   ]
  },
  {
   "cell_type": "code",
   "execution_count": 24,
   "metadata": {},
   "outputs": [],
   "source": [
    "juneTweet['clean_tweet'] =juneTweet['clean_tweet'].apply(nfx.remove_multiple_spaces)"
   ]
  },
  {
   "cell_type": "markdown",
   "metadata": {},
   "source": [
    "### ----Removing Urls-----"
   ]
  },
  {
   "cell_type": "code",
   "execution_count": 25,
   "metadata": {},
   "outputs": [],
   "source": [
    "juneTweet['clean_tweet'] = juneTweet['clean_tweet'].apply(nfx.remove_urls)"
   ]
  },
  {
   "cell_type": "code",
   "execution_count": 26,
   "metadata": {},
   "outputs": [
    {
     "data": {
      "text/html": [
       "<div>\n",
       "<style scoped>\n",
       "    .dataframe tbody tr th:only-of-type {\n",
       "        vertical-align: middle;\n",
       "    }\n",
       "\n",
       "    .dataframe tbody tr th {\n",
       "        vertical-align: top;\n",
       "    }\n",
       "\n",
       "    .dataframe thead th {\n",
       "        text-align: right;\n",
       "    }\n",
       "</style>\n",
       "<table border=\"1\" class=\"dataframe\">\n",
       "  <thead>\n",
       "    <tr style=\"text-align: right;\">\n",
       "      <th></th>\n",
       "      <th>tweet</th>\n",
       "      <th>clean_tweet</th>\n",
       "    </tr>\n",
       "  </thead>\n",
       "  <tbody>\n",
       "    <tr>\n",
       "      <th>0</th>\n",
       "      <td>Did anyone notice a change in their psychologi...</td>\n",
       "      <td>Did anyone notice a change in their psychologi...</td>\n",
       "    </tr>\n",
       "    <tr>\n",
       "      <th>1</th>\n",
       "      <td>Say goodbye to the “Indian,” “South African” a...</td>\n",
       "      <td>Say goodbye to the “Indian,” “South African” a...</td>\n",
       "    </tr>\n",
       "    <tr>\n",
       "      <th>2</th>\n",
       "      <td>Dear all, Keep Donate Keep Retweet   https://t...</td>\n",
       "      <td>Dear all, Keep Donate Keep Retweet</td>\n",
       "    </tr>\n",
       "    <tr>\n",
       "      <th>3</th>\n",
       "      <td>#jobseekers #jobvsmlm #MLM #directselling #net...</td>\n",
       "      <td>Which is best for your future and Dreams? Job...</td>\n",
       "    </tr>\n",
       "    <tr>\n",
       "      <th>4</th>\n",
       "      <td>@UsmaniToheed  This is the same mosque which u...</td>\n",
       "      <td>This is the same mosque which used to be full...</td>\n",
       "    </tr>\n",
       "    <tr>\n",
       "      <th>...</th>\n",
       "      <td>...</td>\n",
       "      <td>...</td>\n",
       "    </tr>\n",
       "    <tr>\n",
       "      <th>2434</th>\n",
       "      <td>Thinking about Covid-19 impacted families in m...</td>\n",
       "      <td>Thinking about Covid-19 impacted families in m...</td>\n",
       "    </tr>\n",
       "    <tr>\n",
       "      <th>2435</th>\n",
       "      <td>#IndiaFightsCorona The entire Govt machinery i...</td>\n",
       "      <td>The entire Govt machinery is working under th...</td>\n",
       "    </tr>\n",
       "    <tr>\n",
       "      <th>2436</th>\n",
       "      <td>One more young life .....covid 19 husband’s co...</td>\n",
       "      <td>One more young life .....covid 19 husband’s co...</td>\n",
       "    </tr>\n",
       "    <tr>\n",
       "      <th>2437</th>\n",
       "      <td>Replying to \\n@learner_vk\\n \\n@nsitharaman\\n a...</td>\n",
       "      <td>Replying to and</td>\n",
       "    </tr>\n",
       "    <tr>\n",
       "      <th>2438</th>\n",
       "      <td>These effective vaccines can protect me, my fa...</td>\n",
       "      <td>These effective vaccines can protect me, my fa...</td>\n",
       "    </tr>\n",
       "  </tbody>\n",
       "</table>\n",
       "<p>2439 rows × 2 columns</p>\n",
       "</div>"
      ],
      "text/plain": [
       "                                                  tweet  \\\n",
       "0     Did anyone notice a change in their psychologi...   \n",
       "1     Say goodbye to the “Indian,” “South African” a...   \n",
       "2     Dear all, Keep Donate Keep Retweet   https://t...   \n",
       "3     #jobseekers #jobvsmlm #MLM #directselling #net...   \n",
       "4     @UsmaniToheed  This is the same mosque which u...   \n",
       "...                                                 ...   \n",
       "2434  Thinking about Covid-19 impacted families in m...   \n",
       "2435  #IndiaFightsCorona The entire Govt machinery i...   \n",
       "2436  One more young life .....covid 19 husband’s co...   \n",
       "2437  Replying to \\n@learner_vk\\n \\n@nsitharaman\\n a...   \n",
       "2438  These effective vaccines can protect me, my fa...   \n",
       "\n",
       "                                            clean_tweet  \n",
       "0     Did anyone notice a change in their psychologi...  \n",
       "1     Say goodbye to the “Indian,” “South African” a...  \n",
       "2                  Dear all, Keep Donate Keep Retweet    \n",
       "3      Which is best for your future and Dreams? Job...  \n",
       "4      This is the same mosque which used to be full...  \n",
       "...                                                 ...  \n",
       "2434  Thinking about Covid-19 impacted families in m...  \n",
       "2435   The entire Govt machinery is working under th...  \n",
       "2436  One more young life .....covid 19 husband’s co...  \n",
       "2437                                   Replying to and   \n",
       "2438  These effective vaccines can protect me, my fa...  \n",
       "\n",
       "[2439 rows x 2 columns]"
      ]
     },
     "execution_count": 26,
     "metadata": {},
     "output_type": "execute_result"
    }
   ],
   "source": [
    "juneTweet[['tweet','clean_tweet']]"
   ]
  },
  {
   "cell_type": "markdown",
   "metadata": {},
   "source": [
    "### ----Removing Punctuations----"
   ]
  },
  {
   "cell_type": "code",
   "execution_count": 27,
   "metadata": {},
   "outputs": [],
   "source": [
    "juneTweet['clean_tweet'] = juneTweet['clean_tweet'].apply(nfx.remove_puncts)"
   ]
  },
  {
   "cell_type": "code",
   "execution_count": 28,
   "metadata": {},
   "outputs": [
    {
     "data": {
      "text/html": [
       "<div>\n",
       "<style scoped>\n",
       "    .dataframe tbody tr th:only-of-type {\n",
       "        vertical-align: middle;\n",
       "    }\n",
       "\n",
       "    .dataframe tbody tr th {\n",
       "        vertical-align: top;\n",
       "    }\n",
       "\n",
       "    .dataframe thead th {\n",
       "        text-align: right;\n",
       "    }\n",
       "</style>\n",
       "<table border=\"1\" class=\"dataframe\">\n",
       "  <thead>\n",
       "    <tr style=\"text-align: right;\">\n",
       "      <th></th>\n",
       "      <th>tweet</th>\n",
       "      <th>clean_tweet</th>\n",
       "    </tr>\n",
       "  </thead>\n",
       "  <tbody>\n",
       "    <tr>\n",
       "      <th>0</th>\n",
       "      <td>Did anyone notice a change in their psychologi...</td>\n",
       "      <td>Did anyone notice a change in their psychologi...</td>\n",
       "    </tr>\n",
       "    <tr>\n",
       "      <th>1</th>\n",
       "      <td>Say goodbye to the “Indian,” “South African” a...</td>\n",
       "      <td>Say goodbye to the “Indian” “South African” an...</td>\n",
       "    </tr>\n",
       "    <tr>\n",
       "      <th>2</th>\n",
       "      <td>Dear all, Keep Donate Keep Retweet   https://t...</td>\n",
       "      <td>Dear all Keep Donate Keep Retweet</td>\n",
       "    </tr>\n",
       "    <tr>\n",
       "      <th>3</th>\n",
       "      <td>#jobseekers #jobvsmlm #MLM #directselling #net...</td>\n",
       "      <td>Which is best for your future and Dreams Job ...</td>\n",
       "    </tr>\n",
       "    <tr>\n",
       "      <th>4</th>\n",
       "      <td>@UsmaniToheed  This is the same mosque which u...</td>\n",
       "      <td>This is the same mosque which used to be full...</td>\n",
       "    </tr>\n",
       "    <tr>\n",
       "      <th>...</th>\n",
       "      <td>...</td>\n",
       "      <td>...</td>\n",
       "    </tr>\n",
       "    <tr>\n",
       "      <th>2434</th>\n",
       "      <td>Thinking about Covid-19 impacted families in m...</td>\n",
       "      <td>Thinking about Covid19 impacted families in my...</td>\n",
       "    </tr>\n",
       "    <tr>\n",
       "      <th>2435</th>\n",
       "      <td>#IndiaFightsCorona The entire Govt machinery i...</td>\n",
       "      <td>The entire Govt machinery is working under th...</td>\n",
       "    </tr>\n",
       "    <tr>\n",
       "      <th>2436</th>\n",
       "      <td>One more young life .....covid 19 husband’s co...</td>\n",
       "      <td>One more young life covid 19 husband’s colleag...</td>\n",
       "    </tr>\n",
       "    <tr>\n",
       "      <th>2437</th>\n",
       "      <td>Replying to \\n@learner_vk\\n \\n@nsitharaman\\n a...</td>\n",
       "      <td>Replying to and</td>\n",
       "    </tr>\n",
       "    <tr>\n",
       "      <th>2438</th>\n",
       "      <td>These effective vaccines can protect me, my fa...</td>\n",
       "      <td>These effective vaccines can protect me my fam...</td>\n",
       "    </tr>\n",
       "  </tbody>\n",
       "</table>\n",
       "<p>2439 rows × 2 columns</p>\n",
       "</div>"
      ],
      "text/plain": [
       "                                                  tweet  \\\n",
       "0     Did anyone notice a change in their psychologi...   \n",
       "1     Say goodbye to the “Indian,” “South African” a...   \n",
       "2     Dear all, Keep Donate Keep Retweet   https://t...   \n",
       "3     #jobseekers #jobvsmlm #MLM #directselling #net...   \n",
       "4     @UsmaniToheed  This is the same mosque which u...   \n",
       "...                                                 ...   \n",
       "2434  Thinking about Covid-19 impacted families in m...   \n",
       "2435  #IndiaFightsCorona The entire Govt machinery i...   \n",
       "2436  One more young life .....covid 19 husband’s co...   \n",
       "2437  Replying to \\n@learner_vk\\n \\n@nsitharaman\\n a...   \n",
       "2438  These effective vaccines can protect me, my fa...   \n",
       "\n",
       "                                            clean_tweet  \n",
       "0     Did anyone notice a change in their psychologi...  \n",
       "1     Say goodbye to the “Indian” “South African” an...  \n",
       "2                   Dear all Keep Donate Keep Retweet    \n",
       "3      Which is best for your future and Dreams Job ...  \n",
       "4      This is the same mosque which used to be full...  \n",
       "...                                                 ...  \n",
       "2434  Thinking about Covid19 impacted families in my...  \n",
       "2435   The entire Govt machinery is working under th...  \n",
       "2436  One more young life covid 19 husband’s colleag...  \n",
       "2437                                   Replying to and   \n",
       "2438  These effective vaccines can protect me my fam...  \n",
       "\n",
       "[2439 rows x 2 columns]"
      ]
     },
     "execution_count": 28,
     "metadata": {},
     "output_type": "execute_result"
    }
   ],
   "source": [
    "juneTweet[['tweet','clean_tweet']]"
   ]
  },
  {
   "cell_type": "code",
   "execution_count": 29,
   "metadata": {},
   "outputs": [],
   "source": [
    "juneTweet.to_csv('JuneTweet_(with Emojis and other language within eng sentence).csv')"
   ]
  },
  {
   "cell_type": "markdown",
   "metadata": {},
   "source": [
    "### -----Extract Emojis ----- ###"
   ]
  },
  {
   "cell_type": "code",
   "execution_count": 30,
   "metadata": {},
   "outputs": [],
   "source": [
    "juneTweet['emojis']=np.nan"
   ]
  },
  {
   "cell_type": "code",
   "execution_count": 31,
   "metadata": {},
   "outputs": [],
   "source": [
    "def extract_emoji(text):\n",
    "    emoji_dict=adv.extract_emoji(text)\n",
    "    new_list=emoji_dict['emoji'][0]\n",
    "    return new_list\n",
    "    "
   ]
  },
  {
   "cell_type": "code",
   "execution_count": 32,
   "metadata": {},
   "outputs": [
    {
     "data": {
      "text/plain": [
       "'Here is the proof that virus was man made at '"
      ]
     },
     "execution_count": 32,
     "metadata": {},
     "output_type": "execute_result"
    }
   ],
   "source": [
    "juneTweet['clean_tweet'][75]"
   ]
  },
  {
   "cell_type": "code",
   "execution_count": 33,
   "metadata": {},
   "outputs": [
    {
     "data": {
      "text/plain": [
       "['Here is the proof that virus was man made at ']"
      ]
     },
     "execution_count": 33,
     "metadata": {},
     "output_type": "execute_result"
    }
   ],
   "source": [
    "text=[juneTweet['clean_tweet'][75] ]\n",
    "text"
   ]
  },
  {
   "cell_type": "code",
   "execution_count": 35,
   "metadata": {},
   "outputs": [],
   "source": [
    "#juneTweet['emojis'][67]=extract_emoji(text)"
   ]
  },
  {
   "cell_type": "code",
   "execution_count": 36,
   "metadata": {},
   "outputs": [
    {
     "data": {
      "text/plain": [
       "nan"
      ]
     },
     "execution_count": 36,
     "metadata": {},
     "output_type": "execute_result"
    }
   ],
   "source": [
    "juneTweet['emojis'][67]"
   ]
  },
  {
   "cell_type": "code",
   "execution_count": 51,
   "metadata": {},
   "outputs": [],
   "source": [
    "for i in range(0,2439):\n",
    "    text=[juneTweet['clean_tweet'][i]]\n",
    "    juneTweet['emojis'][i]=extract_emoji(text)"
   ]
  },
  {
   "cell_type": "code",
   "execution_count": 52,
   "metadata": {},
   "outputs": [],
   "source": [
    "juneTweet.to_csv('extractedEmoji.csv')\n"
   ]
  },
  {
   "cell_type": "markdown",
   "metadata": {},
   "source": [
    "### -----Remove Emojis-----"
   ]
  },
  {
   "cell_type": "code",
   "execution_count": 53,
   "metadata": {},
   "outputs": [],
   "source": [
    "def remove_emojis(text,i=0):\n",
    "    new_text= re.sub(emoji.get_emoji_regexp(),r'',text)\n",
    "    juneTweet['clean_tweet'][i]=new_text"
   ]
  },
  {
   "cell_type": "code",
   "execution_count": 54,
   "metadata": {},
   "outputs": [
    {
     "data": {
      "text/plain": [
       "'Such a very bad situation many people dead 💀 continuously by and who are alive they feel fear from it Ehe I check corona reports I completely worrying about humanity and world '"
      ]
     },
     "execution_count": 54,
     "metadata": {},
     "output_type": "execute_result"
    }
   ],
   "source": [
    "juneTweet['clean_tweet'][7]"
   ]
  },
  {
   "cell_type": "code",
   "execution_count": 55,
   "metadata": {},
   "outputs": [
    {
     "name": "stderr",
     "output_type": "stream",
     "text": [
      "C:\\Users\\gango\\AppData\\Local\\Temp/ipykernel_8628/2357741614.py:3: SettingWithCopyWarning: \n",
      "A value is trying to be set on a copy of a slice from a DataFrame\n",
      "\n",
      "See the caveats in the documentation: https://pandas.pydata.org/pandas-docs/stable/user_guide/indexing.html#returning-a-view-versus-a-copy\n",
      "  juneTweet['clean_tweet'][i]=new_text\n"
     ]
    }
   ],
   "source": [
    "remove_emojis(juneTweet['clean_tweet'][7],7)"
   ]
  },
  {
   "cell_type": "code",
   "execution_count": 56,
   "metadata": {},
   "outputs": [
    {
     "data": {
      "text/plain": [
       "'Such a very bad situation many people dead  continuously by and who are alive they feel fear from it Ehe I check corona reports I completely worrying about humanity and world '"
      ]
     },
     "execution_count": 56,
     "metadata": {},
     "output_type": "execute_result"
    }
   ],
   "source": [
    "juneTweet['clean_tweet'][7]"
   ]
  },
  {
   "cell_type": "code",
   "execution_count": 57,
   "metadata": {},
   "outputs": [
    {
     "name": "stderr",
     "output_type": "stream",
     "text": [
      "C:\\Users\\gango\\AppData\\Local\\Temp/ipykernel_8628/2357741614.py:3: SettingWithCopyWarning: \n",
      "A value is trying to be set on a copy of a slice from a DataFrame\n",
      "\n",
      "See the caveats in the documentation: https://pandas.pydata.org/pandas-docs/stable/user_guide/indexing.html#returning-a-view-versus-a-copy\n",
      "  juneTweet['clean_tweet'][i]=new_text\n"
     ]
    }
   ],
   "source": [
    "for i in range(0,2439):\n",
    "    text=juneTweet['clean_tweet'][i]\n",
    "    remove_emojis(text,i)"
   ]
  },
  {
   "cell_type": "code",
   "execution_count": 58,
   "metadata": {},
   "outputs": [],
   "source": [
    "juneTweet.to_csv('JulyTweet.csv')"
   ]
  },
  {
   "cell_type": "code",
   "execution_count": 59,
   "metadata": {},
   "outputs": [
    {
     "data": {
      "text/plain": [
       "Index(['Unnamed: 0', 'Unnamed: 0.1', 'tweet', 'language', 'hastags',\n",
       "       'attherate', 'urls', 'tokenized_Tweet', 'filteredToken', 'clean_tweet',\n",
       "       'emojis'],\n",
       "      dtype='object')"
      ]
     },
     "execution_count": 59,
     "metadata": {},
     "output_type": "execute_result"
    }
   ],
   "source": [
    "juneTweet.columns"
   ]
  },
  {
   "cell_type": "code",
   "execution_count": 60,
   "metadata": {},
   "outputs": [],
   "source": [
    "juneTweetClean=juneTweet[['tweet','clean_tweet', 'hastags','attherate','urls','emojis']]"
   ]
  },
  {
   "cell_type": "code",
   "execution_count": 61,
   "metadata": {},
   "outputs": [
    {
     "data": {
      "text/html": [
       "<div>\n",
       "<style scoped>\n",
       "    .dataframe tbody tr th:only-of-type {\n",
       "        vertical-align: middle;\n",
       "    }\n",
       "\n",
       "    .dataframe tbody tr th {\n",
       "        vertical-align: top;\n",
       "    }\n",
       "\n",
       "    .dataframe thead th {\n",
       "        text-align: right;\n",
       "    }\n",
       "</style>\n",
       "<table border=\"1\" class=\"dataframe\">\n",
       "  <thead>\n",
       "    <tr style=\"text-align: right;\">\n",
       "      <th></th>\n",
       "      <th>tweet</th>\n",
       "      <th>clean_tweet</th>\n",
       "      <th>hastags</th>\n",
       "      <th>attherate</th>\n",
       "      <th>urls</th>\n",
       "      <th>emojis</th>\n",
       "    </tr>\n",
       "  </thead>\n",
       "  <tbody>\n",
       "    <tr>\n",
       "      <th>0</th>\n",
       "      <td>Did anyone notice a change in their psychologi...</td>\n",
       "      <td>Did anyone notice a change in their psychologi...</td>\n",
       "      <td>[]</td>\n",
       "      <td>[]</td>\n",
       "      <td>[]</td>\n",
       "      <td>[]</td>\n",
       "    </tr>\n",
       "    <tr>\n",
       "      <th>1</th>\n",
       "      <td>Say goodbye to the “Indian,” “South African” a...</td>\n",
       "      <td>Say goodbye to the “Indian” “South African” an...</td>\n",
       "      <td>[]</td>\n",
       "      <td>[]</td>\n",
       "      <td>['https://t.co/nkQo4IdGqO']</td>\n",
       "      <td>[]</td>\n",
       "    </tr>\n",
       "    <tr>\n",
       "      <th>2</th>\n",
       "      <td>Dear all, Keep Donate Keep Retweet   https://t...</td>\n",
       "      <td>Dear all Keep Donate Keep Retweet</td>\n",
       "      <td>['#milaap', '#verified', '#campaign', '#COVID1...</td>\n",
       "      <td>[]</td>\n",
       "      <td>['https://t.co/TRRT59Sd8K']</td>\n",
       "      <td>[]</td>\n",
       "    </tr>\n",
       "    <tr>\n",
       "      <th>3</th>\n",
       "      <td>#jobseekers #jobvsmlm #MLM #directselling #net...</td>\n",
       "      <td>Which is best for your future and Dreams Job ...</td>\n",
       "      <td>['#jobseekers', '#jobvsmlm', '#MLM', '#directs...</td>\n",
       "      <td>[]</td>\n",
       "      <td>['https://t.co/fcj7letDwE']</td>\n",
       "      <td>[🐦, ❤️]</td>\n",
       "    </tr>\n",
       "    <tr>\n",
       "      <th>4</th>\n",
       "      <td>@UsmaniToheed  This is the same mosque which u...</td>\n",
       "      <td>This is the same mosque which used to be full...</td>\n",
       "      <td>['#jamamasjid', '#India', '#DelhiFightsCorona']</td>\n",
       "      <td>['@UsmaniToheed']</td>\n",
       "      <td>['https://t.co/KHGP0eLUT0']</td>\n",
       "      <td>[❤️]</td>\n",
       "    </tr>\n",
       "    <tr>\n",
       "      <th>5</th>\n",
       "      <td>Glimpses of 2nd Day of Training session on #CO...</td>\n",
       "      <td>Glimpses of 2nd Day of Training session on SOP...</td>\n",
       "      <td>['#COVID', '#KPTourism', '#KITEDoT', '#KITE', ...</td>\n",
       "      <td>['@KITEProjectDoT.', '@dostacykp', '@kafzal01']</td>\n",
       "      <td>['https://t.co/ERPBPwglA4']</td>\n",
       "      <td>[]</td>\n",
       "    </tr>\n",
       "    <tr>\n",
       "      <th>6</th>\n",
       "      <td>Coronavirus Update: New COVID-19 cases, deaths...</td>\n",
       "      <td>Coronavirus Update: New COVID19 cases deaths a...</td>\n",
       "      <td>['#Nifty', '#Sipgrab', '#UnitingPeopleWithTheP...</td>\n",
       "      <td>[]</td>\n",
       "      <td>['https://t.co/zeYu9uF9e1']</td>\n",
       "      <td>[]</td>\n",
       "    </tr>\n",
       "    <tr>\n",
       "      <th>7</th>\n",
       "      <td>Such a very bad situation many people dead 💀 c...</td>\n",
       "      <td>Such a very bad situation many people dead  co...</td>\n",
       "      <td>['#coronavirus', '#badnews', '#coronavirus']</td>\n",
       "      <td>['@htTweets']</td>\n",
       "      <td>[]</td>\n",
       "      <td>[💀]</td>\n",
       "    </tr>\n",
       "    <tr>\n",
       "      <th>8</th>\n",
       "      <td>How’s the coronavirus situation in pakistan? H...</td>\n",
       "      <td>How’s the coronavirus situation in pakistan Ha...</td>\n",
       "      <td>[]</td>\n",
       "      <td>[]</td>\n",
       "      <td>[]</td>\n",
       "      <td>[]</td>\n",
       "    </tr>\n",
       "    <tr>\n",
       "      <th>9</th>\n",
       "      <td>What you want, is not always what you need.  Y...</td>\n",
       "      <td>What you want is not always what you need You ...</td>\n",
       "      <td>['#coronavirus', '#COVID19India', '#StayStrong...</td>\n",
       "      <td>['@StarbucksIndia']</td>\n",
       "      <td>[]</td>\n",
       "      <td>[]</td>\n",
       "    </tr>\n",
       "  </tbody>\n",
       "</table>\n",
       "</div>"
      ],
      "text/plain": [
       "                                               tweet  \\\n",
       "0  Did anyone notice a change in their psychologi...   \n",
       "1  Say goodbye to the “Indian,” “South African” a...   \n",
       "2  Dear all, Keep Donate Keep Retweet   https://t...   \n",
       "3  #jobseekers #jobvsmlm #MLM #directselling #net...   \n",
       "4  @UsmaniToheed  This is the same mosque which u...   \n",
       "5  Glimpses of 2nd Day of Training session on #CO...   \n",
       "6  Coronavirus Update: New COVID-19 cases, deaths...   \n",
       "7  Such a very bad situation many people dead 💀 c...   \n",
       "8  How’s the coronavirus situation in pakistan? H...   \n",
       "9  What you want, is not always what you need.  Y...   \n",
       "\n",
       "                                         clean_tweet  \\\n",
       "0  Did anyone notice a change in their psychologi...   \n",
       "1  Say goodbye to the “Indian” “South African” an...   \n",
       "2                Dear all Keep Donate Keep Retweet     \n",
       "3   Which is best for your future and Dreams Job ...   \n",
       "4   This is the same mosque which used to be full...   \n",
       "5  Glimpses of 2nd Day of Training session on SOP...   \n",
       "6  Coronavirus Update: New COVID19 cases deaths a...   \n",
       "7  Such a very bad situation many people dead  co...   \n",
       "8  How’s the coronavirus situation in pakistan Ha...   \n",
       "9  What you want is not always what you need You ...   \n",
       "\n",
       "                                             hastags  \\\n",
       "0                                                 []   \n",
       "1                                                 []   \n",
       "2  ['#milaap', '#verified', '#campaign', '#COVID1...   \n",
       "3  ['#jobseekers', '#jobvsmlm', '#MLM', '#directs...   \n",
       "4    ['#jamamasjid', '#India', '#DelhiFightsCorona']   \n",
       "5  ['#COVID', '#KPTourism', '#KITEDoT', '#KITE', ...   \n",
       "6  ['#Nifty', '#Sipgrab', '#UnitingPeopleWithTheP...   \n",
       "7       ['#coronavirus', '#badnews', '#coronavirus']   \n",
       "8                                                 []   \n",
       "9  ['#coronavirus', '#COVID19India', '#StayStrong...   \n",
       "\n",
       "                                         attherate  \\\n",
       "0                                               []   \n",
       "1                                               []   \n",
       "2                                               []   \n",
       "3                                               []   \n",
       "4                                ['@UsmaniToheed']   \n",
       "5  ['@KITEProjectDoT.', '@dostacykp', '@kafzal01']   \n",
       "6                                               []   \n",
       "7                                    ['@htTweets']   \n",
       "8                                               []   \n",
       "9                              ['@StarbucksIndia']   \n",
       "\n",
       "                          urls   emojis  \n",
       "0                           []       []  \n",
       "1  ['https://t.co/nkQo4IdGqO']       []  \n",
       "2  ['https://t.co/TRRT59Sd8K']       []  \n",
       "3  ['https://t.co/fcj7letDwE']  [🐦, ❤️]  \n",
       "4  ['https://t.co/KHGP0eLUT0']     [❤️]  \n",
       "5  ['https://t.co/ERPBPwglA4']       []  \n",
       "6  ['https://t.co/zeYu9uF9e1']       []  \n",
       "7                           []      [💀]  \n",
       "8                           []       []  \n",
       "9                           []       []  "
      ]
     },
     "execution_count": 61,
     "metadata": {},
     "output_type": "execute_result"
    }
   ],
   "source": [
    "juneTweetClean.head(10)"
   ]
  },
  {
   "cell_type": "code",
   "execution_count": 62,
   "metadata": {},
   "outputs": [],
   "source": [
    "juneTweetClean.to_csv('PREPROCESSED_JUNE.csv')"
   ]
  }
 ],
 "metadata": {
  "interpreter": {
   "hash": "634498344980471fb0944d848df28373b199ff2468c6404ec32442b20f813eee"
  },
  "kernelspec": {
   "display_name": "Python 3.9.6 64-bit",
   "language": "python",
   "name": "python3"
  },
  "language_info": {
   "codemirror_mode": {
    "name": "ipython",
    "version": 3
   },
   "file_extension": ".py",
   "mimetype": "text/x-python",
   "name": "python",
   "nbconvert_exporter": "python",
   "pygments_lexer": "ipython3",
   "version": "3.9.7"
  },
  "orig_nbformat": 4
 },
 "nbformat": 4,
 "nbformat_minor": 2
}
