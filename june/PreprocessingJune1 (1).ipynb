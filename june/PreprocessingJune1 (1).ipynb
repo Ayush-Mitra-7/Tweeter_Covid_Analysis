{
 "cells": [
  {
   "cell_type": "code",
   "execution_count": 77,
   "metadata": {},
   "outputs": [],
   "source": [
    "import pandas as pd\n",
    "import numpy as np\n",
    "import math\n",
    "from textblob import TextBlob as tb\n",
    "import re\n",
    "from nltk.corpus import stopwords"
   ]
  },
  {
   "cell_type": "code",
   "execution_count": 78,
   "metadata": {},
   "outputs": [
    {
     "name": "stderr",
     "output_type": "stream",
     "text": [
      "[nltk_data] Downloading package stopwords to\n",
      "[nltk_data]     C:\\Users\\gango\\AppData\\Roaming\\nltk_data...\n",
      "[nltk_data]   Package stopwords is already up-to-date!\n"
     ]
    },
    {
     "data": {
      "text/plain": [
       "True"
      ]
     },
     "execution_count": 78,
     "metadata": {},
     "output_type": "execute_result"
    }
   ],
   "source": [
    "import nltk\n",
    "nltk.download('stopwords')"
   ]
  },
  {
   "cell_type": "code",
   "execution_count": 79,
   "metadata": {},
   "outputs": [],
   "source": [
    "june=pd.read_csv('JuneRemove.csv')"
   ]
  },
  {
   "cell_type": "code",
   "execution_count": 80,
   "metadata": {},
   "outputs": [
    {
     "data": {
      "text/plain": [
       "Index(['Unnamed: 0', 'Unnamed: 0.1', 'created_at', 'username', 'tweet',\n",
       "       'language', 'replies_count', 'retweets_count', 'likes_count'],\n",
       "      dtype='object')"
      ]
     },
     "execution_count": 80,
     "metadata": {},
     "output_type": "execute_result"
    }
   ],
   "source": [
    "june.columns"
   ]
  },
  {
   "cell_type": "code",
   "execution_count": 81,
   "metadata": {},
   "outputs": [],
   "source": [
    "june.drop(['Unnamed: 0'],axis=1,inplace=True)"
   ]
  },
  {
   "cell_type": "code",
   "execution_count": 82,
   "metadata": {},
   "outputs": [
    {
     "data": {
      "text/plain": [
       "Index(['Unnamed: 0.1', 'created_at', 'username', 'tweet', 'language',\n",
       "       'replies_count', 'retweets_count', 'likes_count'],\n",
       "      dtype='object')"
      ]
     },
     "execution_count": 82,
     "metadata": {},
     "output_type": "execute_result"
    }
   ],
   "source": [
    "june.columns"
   ]
  },
  {
   "cell_type": "code",
   "execution_count": 83,
   "metadata": {},
   "outputs": [
    {
     "data": {
      "text/plain": [
       "array(['en'], dtype=object)"
      ]
     },
     "execution_count": 83,
     "metadata": {},
     "output_type": "execute_result"
    }
   ],
   "source": [
    "june['language'].unique()"
   ]
  },
  {
   "cell_type": "code",
   "execution_count": 84,
   "metadata": {},
   "outputs": [],
   "source": [
    "for i in june['language']:\n",
    "    index_names = june[june['language']!='en' ].index\n",
    "    june.drop(index_names, inplace = True)"
   ]
  },
  {
   "cell_type": "code",
   "execution_count": 85,
   "metadata": {},
   "outputs": [
    {
     "data": {
      "text/plain": [
       "(2440, 8)"
      ]
     },
     "execution_count": 85,
     "metadata": {},
     "output_type": "execute_result"
    }
   ],
   "source": [
    "june.shape"
   ]
  },
  {
   "cell_type": "code",
   "execution_count": 86,
   "metadata": {},
   "outputs": [
    {
     "data": {
      "text/plain": [
       "(1, 8)"
      ]
     },
     "execution_count": 86,
     "metadata": {},
     "output_type": "execute_result"
    }
   ],
   "source": [
    "duplicates = june[june.duplicated()]\n",
    "duplicates.shape"
   ]
  },
  {
   "cell_type": "code",
   "execution_count": 87,
   "metadata": {},
   "outputs": [
    {
     "data": {
      "text/plain": [
       "(2439, 8)"
      ]
     },
     "execution_count": 87,
     "metadata": {},
     "output_type": "execute_result"
    }
   ],
   "source": [
    "june=june.drop_duplicates(keep='first')\n",
    "june.shape"
   ]
  },
  {
   "cell_type": "code",
   "execution_count": 88,
   "metadata": {},
   "outputs": [
    {
     "data": {
      "text/html": [
       "<div>\n",
       "<style scoped>\n",
       "    .dataframe tbody tr th:only-of-type {\n",
       "        vertical-align: middle;\n",
       "    }\n",
       "\n",
       "    .dataframe tbody tr th {\n",
       "        vertical-align: top;\n",
       "    }\n",
       "\n",
       "    .dataframe thead th {\n",
       "        text-align: right;\n",
       "    }\n",
       "</style>\n",
       "<table border=\"1\" class=\"dataframe\">\n",
       "  <thead>\n",
       "    <tr style=\"text-align: right;\">\n",
       "      <th></th>\n",
       "      <th>Unnamed: 0.1</th>\n",
       "      <th>created_at</th>\n",
       "      <th>username</th>\n",
       "      <th>tweet</th>\n",
       "      <th>language</th>\n",
       "      <th>replies_count</th>\n",
       "      <th>retweets_count</th>\n",
       "      <th>likes_count</th>\n",
       "    </tr>\n",
       "  </thead>\n",
       "  <tbody>\n",
       "    <tr>\n",
       "      <th>0</th>\n",
       "      <td>0</td>\n",
       "      <td>2021-06-03 03:35:55 India Standard Time</td>\n",
       "      <td>albosaily1958</td>\n",
       "      <td>Did anyone notice a change in their psychologi...</td>\n",
       "      <td>en</td>\n",
       "      <td>0.0</td>\n",
       "      <td>0.0</td>\n",
       "      <td>1</td>\n",
       "    </tr>\n",
       "    <tr>\n",
       "      <th>1</th>\n",
       "      <td>2</td>\n",
       "      <td>2021-06-03 01:38:30 India Standard Time</td>\n",
       "      <td>stickwithchick</td>\n",
       "      <td>Say goodbye to the “Indian,” “South African” a...</td>\n",
       "      <td>en</td>\n",
       "      <td>0.0</td>\n",
       "      <td>0.0</td>\n",
       "      <td>1</td>\n",
       "    </tr>\n",
       "    <tr>\n",
       "      <th>2</th>\n",
       "      <td>3</td>\n",
       "      <td>2021-06-03 00:59:28 India Standard Time</td>\n",
       "      <td>ssforgdel</td>\n",
       "      <td>Dear all, Keep Donate Keep Retweet   https://t...</td>\n",
       "      <td>en</td>\n",
       "      <td>0.0</td>\n",
       "      <td>2.0</td>\n",
       "      <td>1</td>\n",
       "    </tr>\n",
       "    <tr>\n",
       "      <th>3</th>\n",
       "      <td>4</td>\n",
       "      <td>2021-06-03 00:54:37 India Standard Time</td>\n",
       "      <td>msknowledgehub1</td>\n",
       "      <td>#jobseekers #jobvsmlm #MLM #directselling #net...</td>\n",
       "      <td>en</td>\n",
       "      <td>0.0</td>\n",
       "      <td>0.0</td>\n",
       "      <td>2</td>\n",
       "    </tr>\n",
       "    <tr>\n",
       "      <th>4</th>\n",
       "      <td>5</td>\n",
       "      <td>2021-06-03 00:38:41 India Standard Time</td>\n",
       "      <td>usmanitoheed</td>\n",
       "      <td>@UsmaniToheed  This is the same mosque which u...</td>\n",
       "      <td>en</td>\n",
       "      <td>0.0</td>\n",
       "      <td>0.0</td>\n",
       "      <td>1</td>\n",
       "    </tr>\n",
       "    <tr>\n",
       "      <th>...</th>\n",
       "      <td>...</td>\n",
       "      <td>...</td>\n",
       "      <td>...</td>\n",
       "      <td>...</td>\n",
       "      <td>...</td>\n",
       "      <td>...</td>\n",
       "      <td>...</td>\n",
       "      <td>...</td>\n",
       "    </tr>\n",
       "    <tr>\n",
       "      <th>2435</th>\n",
       "      <td>1022</td>\n",
       "      <td>2021-06-01T09:45:16.000Z</td>\n",
       "      <td>NaN</td>\n",
       "      <td>Thinking about Covid-19 impacted families in m...</td>\n",
       "      <td>en</td>\n",
       "      <td>NaN</td>\n",
       "      <td>NaN</td>\n",
       "      <td>NaN</td>\n",
       "    </tr>\n",
       "    <tr>\n",
       "      <th>2436</th>\n",
       "      <td>1023</td>\n",
       "      <td>2021-06-01T09:12:36.000Z</td>\n",
       "      <td>NaN</td>\n",
       "      <td>#IndiaFightsCorona The entire Govt machinery i...</td>\n",
       "      <td>en</td>\n",
       "      <td>NaN</td>\n",
       "      <td>1.0</td>\n",
       "      <td>2</td>\n",
       "    </tr>\n",
       "    <tr>\n",
       "      <th>2437</th>\n",
       "      <td>1024</td>\n",
       "      <td>2021-06-01T08:08:54.000Z</td>\n",
       "      <td>NaN</td>\n",
       "      <td>One more young life .....covid 19 husband’s co...</td>\n",
       "      <td>en</td>\n",
       "      <td>1.0</td>\n",
       "      <td>NaN</td>\n",
       "      <td>1</td>\n",
       "    </tr>\n",
       "    <tr>\n",
       "      <th>2438</th>\n",
       "      <td>1025</td>\n",
       "      <td>2021-06-01T08:01:46.000Z</td>\n",
       "      <td>NaN</td>\n",
       "      <td>Replying to \\n@learner_vk\\n \\n@nsitharaman\\n a...</td>\n",
       "      <td>en</td>\n",
       "      <td>NaN</td>\n",
       "      <td>NaN</td>\n",
       "      <td>NaN</td>\n",
       "    </tr>\n",
       "    <tr>\n",
       "      <th>2439</th>\n",
       "      <td>1026</td>\n",
       "      <td>2021-06-01T02:27:12.000Z</td>\n",
       "      <td>NaN</td>\n",
       "      <td>These effective vaccines can protect me, my fa...</td>\n",
       "      <td>en</td>\n",
       "      <td>NaN</td>\n",
       "      <td>NaN</td>\n",
       "      <td>1</td>\n",
       "    </tr>\n",
       "  </tbody>\n",
       "</table>\n",
       "<p>2439 rows × 8 columns</p>\n",
       "</div>"
      ],
      "text/plain": [
       "      Unnamed: 0.1                               created_at         username  \\\n",
       "0                0  2021-06-03 03:35:55 India Standard Time    albosaily1958   \n",
       "1                2  2021-06-03 01:38:30 India Standard Time   stickwithchick   \n",
       "2                3  2021-06-03 00:59:28 India Standard Time        ssforgdel   \n",
       "3                4  2021-06-03 00:54:37 India Standard Time  msknowledgehub1   \n",
       "4                5  2021-06-03 00:38:41 India Standard Time     usmanitoheed   \n",
       "...            ...                                      ...              ...   \n",
       "2435          1022                 2021-06-01T09:45:16.000Z              NaN   \n",
       "2436          1023                 2021-06-01T09:12:36.000Z              NaN   \n",
       "2437          1024                 2021-06-01T08:08:54.000Z              NaN   \n",
       "2438          1025                 2021-06-01T08:01:46.000Z              NaN   \n",
       "2439          1026                 2021-06-01T02:27:12.000Z              NaN   \n",
       "\n",
       "                                                  tweet language  \\\n",
       "0     Did anyone notice a change in their psychologi...       en   \n",
       "1     Say goodbye to the “Indian,” “South African” a...       en   \n",
       "2     Dear all, Keep Donate Keep Retweet   https://t...       en   \n",
       "3     #jobseekers #jobvsmlm #MLM #directselling #net...       en   \n",
       "4     @UsmaniToheed  This is the same mosque which u...       en   \n",
       "...                                                 ...      ...   \n",
       "2435  Thinking about Covid-19 impacted families in m...       en   \n",
       "2436  #IndiaFightsCorona The entire Govt machinery i...       en   \n",
       "2437  One more young life .....covid 19 husband’s co...       en   \n",
       "2438  Replying to \\n@learner_vk\\n \\n@nsitharaman\\n a...       en   \n",
       "2439  These effective vaccines can protect me, my fa...       en   \n",
       "\n",
       "      replies_count  retweets_count likes_count  \n",
       "0               0.0             0.0           1  \n",
       "1               0.0             0.0           1  \n",
       "2               0.0             2.0           1  \n",
       "3               0.0             0.0           2  \n",
       "4               0.0             0.0           1  \n",
       "...             ...             ...         ...  \n",
       "2435            NaN             NaN         NaN  \n",
       "2436            NaN             1.0           2  \n",
       "2437            1.0             NaN           1  \n",
       "2438            NaN             NaN         NaN  \n",
       "2439            NaN             NaN           1  \n",
       "\n",
       "[2439 rows x 8 columns]"
      ]
     },
     "execution_count": 88,
     "metadata": {},
     "output_type": "execute_result"
    }
   ],
   "source": [
    "june"
   ]
  },
  {
   "cell_type": "code",
   "execution_count": 89,
   "metadata": {},
   "outputs": [
    {
     "data": {
      "text/plain": [
       "Index(['Unnamed: 0.1', 'created_at', 'username', 'tweet', 'language',\n",
       "       'replies_count', 'retweets_count', 'likes_count'],\n",
       "      dtype='object')"
      ]
     },
     "execution_count": 89,
     "metadata": {},
     "output_type": "execute_result"
    }
   ],
   "source": [
    "june.columns"
   ]
  },
  {
   "cell_type": "code",
   "execution_count": 90,
   "metadata": {},
   "outputs": [],
   "source": [
    "june[['replies_count','retweets_count', 'likes_count']]=june[['replies_count','retweets_count', 'likes_count']].fillna(0)"
   ]
  },
  {
   "cell_type": "code",
   "execution_count": 91,
   "metadata": {},
   "outputs": [
    {
     "data": {
      "text/html": [
       "<div>\n",
       "<style scoped>\n",
       "    .dataframe tbody tr th:only-of-type {\n",
       "        vertical-align: middle;\n",
       "    }\n",
       "\n",
       "    .dataframe tbody tr th {\n",
       "        vertical-align: top;\n",
       "    }\n",
       "\n",
       "    .dataframe thead th {\n",
       "        text-align: right;\n",
       "    }\n",
       "</style>\n",
       "<table border=\"1\" class=\"dataframe\">\n",
       "  <thead>\n",
       "    <tr style=\"text-align: right;\">\n",
       "      <th></th>\n",
       "      <th>Unnamed: 0.1</th>\n",
       "      <th>created_at</th>\n",
       "      <th>username</th>\n",
       "      <th>tweet</th>\n",
       "      <th>language</th>\n",
       "      <th>replies_count</th>\n",
       "      <th>retweets_count</th>\n",
       "      <th>likes_count</th>\n",
       "    </tr>\n",
       "  </thead>\n",
       "  <tbody>\n",
       "    <tr>\n",
       "      <th>0</th>\n",
       "      <td>0</td>\n",
       "      <td>2021-06-03 03:35:55 India Standard Time</td>\n",
       "      <td>albosaily1958</td>\n",
       "      <td>Did anyone notice a change in their psychologi...</td>\n",
       "      <td>en</td>\n",
       "      <td>0.0</td>\n",
       "      <td>0.0</td>\n",
       "      <td>1</td>\n",
       "    </tr>\n",
       "    <tr>\n",
       "      <th>1</th>\n",
       "      <td>2</td>\n",
       "      <td>2021-06-03 01:38:30 India Standard Time</td>\n",
       "      <td>stickwithchick</td>\n",
       "      <td>Say goodbye to the “Indian,” “South African” a...</td>\n",
       "      <td>en</td>\n",
       "      <td>0.0</td>\n",
       "      <td>0.0</td>\n",
       "      <td>1</td>\n",
       "    </tr>\n",
       "    <tr>\n",
       "      <th>2</th>\n",
       "      <td>3</td>\n",
       "      <td>2021-06-03 00:59:28 India Standard Time</td>\n",
       "      <td>ssforgdel</td>\n",
       "      <td>Dear all, Keep Donate Keep Retweet   https://t...</td>\n",
       "      <td>en</td>\n",
       "      <td>0.0</td>\n",
       "      <td>2.0</td>\n",
       "      <td>1</td>\n",
       "    </tr>\n",
       "    <tr>\n",
       "      <th>3</th>\n",
       "      <td>4</td>\n",
       "      <td>2021-06-03 00:54:37 India Standard Time</td>\n",
       "      <td>msknowledgehub1</td>\n",
       "      <td>#jobseekers #jobvsmlm #MLM #directselling #net...</td>\n",
       "      <td>en</td>\n",
       "      <td>0.0</td>\n",
       "      <td>0.0</td>\n",
       "      <td>2</td>\n",
       "    </tr>\n",
       "    <tr>\n",
       "      <th>4</th>\n",
       "      <td>5</td>\n",
       "      <td>2021-06-03 00:38:41 India Standard Time</td>\n",
       "      <td>usmanitoheed</td>\n",
       "      <td>@UsmaniToheed  This is the same mosque which u...</td>\n",
       "      <td>en</td>\n",
       "      <td>0.0</td>\n",
       "      <td>0.0</td>\n",
       "      <td>1</td>\n",
       "    </tr>\n",
       "    <tr>\n",
       "      <th>...</th>\n",
       "      <td>...</td>\n",
       "      <td>...</td>\n",
       "      <td>...</td>\n",
       "      <td>...</td>\n",
       "      <td>...</td>\n",
       "      <td>...</td>\n",
       "      <td>...</td>\n",
       "      <td>...</td>\n",
       "    </tr>\n",
       "    <tr>\n",
       "      <th>2435</th>\n",
       "      <td>1022</td>\n",
       "      <td>2021-06-01T09:45:16.000Z</td>\n",
       "      <td>NaN</td>\n",
       "      <td>Thinking about Covid-19 impacted families in m...</td>\n",
       "      <td>en</td>\n",
       "      <td>0.0</td>\n",
       "      <td>0.0</td>\n",
       "      <td>0</td>\n",
       "    </tr>\n",
       "    <tr>\n",
       "      <th>2436</th>\n",
       "      <td>1023</td>\n",
       "      <td>2021-06-01T09:12:36.000Z</td>\n",
       "      <td>NaN</td>\n",
       "      <td>#IndiaFightsCorona The entire Govt machinery i...</td>\n",
       "      <td>en</td>\n",
       "      <td>0.0</td>\n",
       "      <td>1.0</td>\n",
       "      <td>2</td>\n",
       "    </tr>\n",
       "    <tr>\n",
       "      <th>2437</th>\n",
       "      <td>1024</td>\n",
       "      <td>2021-06-01T08:08:54.000Z</td>\n",
       "      <td>NaN</td>\n",
       "      <td>One more young life .....covid 19 husband’s co...</td>\n",
       "      <td>en</td>\n",
       "      <td>1.0</td>\n",
       "      <td>0.0</td>\n",
       "      <td>1</td>\n",
       "    </tr>\n",
       "    <tr>\n",
       "      <th>2438</th>\n",
       "      <td>1025</td>\n",
       "      <td>2021-06-01T08:01:46.000Z</td>\n",
       "      <td>NaN</td>\n",
       "      <td>Replying to \\n@learner_vk\\n \\n@nsitharaman\\n a...</td>\n",
       "      <td>en</td>\n",
       "      <td>0.0</td>\n",
       "      <td>0.0</td>\n",
       "      <td>0</td>\n",
       "    </tr>\n",
       "    <tr>\n",
       "      <th>2439</th>\n",
       "      <td>1026</td>\n",
       "      <td>2021-06-01T02:27:12.000Z</td>\n",
       "      <td>NaN</td>\n",
       "      <td>These effective vaccines can protect me, my fa...</td>\n",
       "      <td>en</td>\n",
       "      <td>0.0</td>\n",
       "      <td>0.0</td>\n",
       "      <td>1</td>\n",
       "    </tr>\n",
       "  </tbody>\n",
       "</table>\n",
       "<p>2439 rows × 8 columns</p>\n",
       "</div>"
      ],
      "text/plain": [
       "      Unnamed: 0.1                               created_at         username  \\\n",
       "0                0  2021-06-03 03:35:55 India Standard Time    albosaily1958   \n",
       "1                2  2021-06-03 01:38:30 India Standard Time   stickwithchick   \n",
       "2                3  2021-06-03 00:59:28 India Standard Time        ssforgdel   \n",
       "3                4  2021-06-03 00:54:37 India Standard Time  msknowledgehub1   \n",
       "4                5  2021-06-03 00:38:41 India Standard Time     usmanitoheed   \n",
       "...            ...                                      ...              ...   \n",
       "2435          1022                 2021-06-01T09:45:16.000Z              NaN   \n",
       "2436          1023                 2021-06-01T09:12:36.000Z              NaN   \n",
       "2437          1024                 2021-06-01T08:08:54.000Z              NaN   \n",
       "2438          1025                 2021-06-01T08:01:46.000Z              NaN   \n",
       "2439          1026                 2021-06-01T02:27:12.000Z              NaN   \n",
       "\n",
       "                                                  tweet language  \\\n",
       "0     Did anyone notice a change in their psychologi...       en   \n",
       "1     Say goodbye to the “Indian,” “South African” a...       en   \n",
       "2     Dear all, Keep Donate Keep Retweet   https://t...       en   \n",
       "3     #jobseekers #jobvsmlm #MLM #directselling #net...       en   \n",
       "4     @UsmaniToheed  This is the same mosque which u...       en   \n",
       "...                                                 ...      ...   \n",
       "2435  Thinking about Covid-19 impacted families in m...       en   \n",
       "2436  #IndiaFightsCorona The entire Govt machinery i...       en   \n",
       "2437  One more young life .....covid 19 husband’s co...       en   \n",
       "2438  Replying to \\n@learner_vk\\n \\n@nsitharaman\\n a...       en   \n",
       "2439  These effective vaccines can protect me, my fa...       en   \n",
       "\n",
       "      replies_count  retweets_count likes_count  \n",
       "0               0.0             0.0           1  \n",
       "1               0.0             0.0           1  \n",
       "2               0.0             2.0           1  \n",
       "3               0.0             0.0           2  \n",
       "4               0.0             0.0           1  \n",
       "...             ...             ...         ...  \n",
       "2435            0.0             0.0           0  \n",
       "2436            0.0             1.0           2  \n",
       "2437            1.0             0.0           1  \n",
       "2438            0.0             0.0           0  \n",
       "2439            0.0             0.0           1  \n",
       "\n",
       "[2439 rows x 8 columns]"
      ]
     },
     "execution_count": 91,
     "metadata": {},
     "output_type": "execute_result"
    }
   ],
   "source": [
    "june"
   ]
  },
  {
   "cell_type": "code",
   "execution_count": 92,
   "metadata": {},
   "outputs": [],
   "source": [
    "JuneTweet=june[['tweet','language']]"
   ]
  },
  {
   "cell_type": "code",
   "execution_count": 93,
   "metadata": {},
   "outputs": [
    {
     "data": {
      "text/html": [
       "<div>\n",
       "<style scoped>\n",
       "    .dataframe tbody tr th:only-of-type {\n",
       "        vertical-align: middle;\n",
       "    }\n",
       "\n",
       "    .dataframe tbody tr th {\n",
       "        vertical-align: top;\n",
       "    }\n",
       "\n",
       "    .dataframe thead th {\n",
       "        text-align: right;\n",
       "    }\n",
       "</style>\n",
       "<table border=\"1\" class=\"dataframe\">\n",
       "  <thead>\n",
       "    <tr style=\"text-align: right;\">\n",
       "      <th></th>\n",
       "      <th>tweet</th>\n",
       "      <th>language</th>\n",
       "    </tr>\n",
       "  </thead>\n",
       "  <tbody>\n",
       "    <tr>\n",
       "      <th>0</th>\n",
       "      <td>Did anyone notice a change in their psychologi...</td>\n",
       "      <td>en</td>\n",
       "    </tr>\n",
       "    <tr>\n",
       "      <th>1</th>\n",
       "      <td>Say goodbye to the “Indian,” “South African” a...</td>\n",
       "      <td>en</td>\n",
       "    </tr>\n",
       "    <tr>\n",
       "      <th>2</th>\n",
       "      <td>Dear all, Keep Donate Keep Retweet   https://t...</td>\n",
       "      <td>en</td>\n",
       "    </tr>\n",
       "    <tr>\n",
       "      <th>3</th>\n",
       "      <td>#jobseekers #jobvsmlm #MLM #directselling #net...</td>\n",
       "      <td>en</td>\n",
       "    </tr>\n",
       "    <tr>\n",
       "      <th>4</th>\n",
       "      <td>@UsmaniToheed  This is the same mosque which u...</td>\n",
       "      <td>en</td>\n",
       "    </tr>\n",
       "    <tr>\n",
       "      <th>...</th>\n",
       "      <td>...</td>\n",
       "      <td>...</td>\n",
       "    </tr>\n",
       "    <tr>\n",
       "      <th>2435</th>\n",
       "      <td>Thinking about Covid-19 impacted families in m...</td>\n",
       "      <td>en</td>\n",
       "    </tr>\n",
       "    <tr>\n",
       "      <th>2436</th>\n",
       "      <td>#IndiaFightsCorona The entire Govt machinery i...</td>\n",
       "      <td>en</td>\n",
       "    </tr>\n",
       "    <tr>\n",
       "      <th>2437</th>\n",
       "      <td>One more young life .....covid 19 husband’s co...</td>\n",
       "      <td>en</td>\n",
       "    </tr>\n",
       "    <tr>\n",
       "      <th>2438</th>\n",
       "      <td>Replying to \\n@learner_vk\\n \\n@nsitharaman\\n a...</td>\n",
       "      <td>en</td>\n",
       "    </tr>\n",
       "    <tr>\n",
       "      <th>2439</th>\n",
       "      <td>These effective vaccines can protect me, my fa...</td>\n",
       "      <td>en</td>\n",
       "    </tr>\n",
       "  </tbody>\n",
       "</table>\n",
       "<p>2439 rows × 2 columns</p>\n",
       "</div>"
      ],
      "text/plain": [
       "                                                  tweet language\n",
       "0     Did anyone notice a change in their psychologi...       en\n",
       "1     Say goodbye to the “Indian,” “South African” a...       en\n",
       "2     Dear all, Keep Donate Keep Retweet   https://t...       en\n",
       "3     #jobseekers #jobvsmlm #MLM #directselling #net...       en\n",
       "4     @UsmaniToheed  This is the same mosque which u...       en\n",
       "...                                                 ...      ...\n",
       "2435  Thinking about Covid-19 impacted families in m...       en\n",
       "2436  #IndiaFightsCorona The entire Govt machinery i...       en\n",
       "2437  One more young life .....covid 19 husband’s co...       en\n",
       "2438  Replying to \\n@learner_vk\\n \\n@nsitharaman\\n a...       en\n",
       "2439  These effective vaccines can protect me, my fa...       en\n",
       "\n",
       "[2439 rows x 2 columns]"
      ]
     },
     "execution_count": 93,
     "metadata": {},
     "output_type": "execute_result"
    }
   ],
   "source": [
    "JuneTweet"
   ]
  },
  {
   "cell_type": "code",
   "execution_count": 94,
   "metadata": {},
   "outputs": [],
   "source": [
    "JuneTweet=JuneTweet.reset_index(level=None, drop=False, inplace=False, col_level=0, col_fill='')"
   ]
  },
  {
   "cell_type": "code",
   "execution_count": 95,
   "metadata": {},
   "outputs": [
    {
     "data": {
      "text/html": [
       "<div>\n",
       "<style scoped>\n",
       "    .dataframe tbody tr th:only-of-type {\n",
       "        vertical-align: middle;\n",
       "    }\n",
       "\n",
       "    .dataframe tbody tr th {\n",
       "        vertical-align: top;\n",
       "    }\n",
       "\n",
       "    .dataframe thead th {\n",
       "        text-align: right;\n",
       "    }\n",
       "</style>\n",
       "<table border=\"1\" class=\"dataframe\">\n",
       "  <thead>\n",
       "    <tr style=\"text-align: right;\">\n",
       "      <th></th>\n",
       "      <th>index</th>\n",
       "      <th>tweet</th>\n",
       "      <th>language</th>\n",
       "    </tr>\n",
       "  </thead>\n",
       "  <tbody>\n",
       "    <tr>\n",
       "      <th>0</th>\n",
       "      <td>0</td>\n",
       "      <td>Did anyone notice a change in their psychologi...</td>\n",
       "      <td>en</td>\n",
       "    </tr>\n",
       "    <tr>\n",
       "      <th>1</th>\n",
       "      <td>1</td>\n",
       "      <td>Say goodbye to the “Indian,” “South African” a...</td>\n",
       "      <td>en</td>\n",
       "    </tr>\n",
       "    <tr>\n",
       "      <th>2</th>\n",
       "      <td>2</td>\n",
       "      <td>Dear all, Keep Donate Keep Retweet   https://t...</td>\n",
       "      <td>en</td>\n",
       "    </tr>\n",
       "    <tr>\n",
       "      <th>3</th>\n",
       "      <td>3</td>\n",
       "      <td>#jobseekers #jobvsmlm #MLM #directselling #net...</td>\n",
       "      <td>en</td>\n",
       "    </tr>\n",
       "    <tr>\n",
       "      <th>4</th>\n",
       "      <td>4</td>\n",
       "      <td>@UsmaniToheed  This is the same mosque which u...</td>\n",
       "      <td>en</td>\n",
       "    </tr>\n",
       "    <tr>\n",
       "      <th>...</th>\n",
       "      <td>...</td>\n",
       "      <td>...</td>\n",
       "      <td>...</td>\n",
       "    </tr>\n",
       "    <tr>\n",
       "      <th>2434</th>\n",
       "      <td>2435</td>\n",
       "      <td>Thinking about Covid-19 impacted families in m...</td>\n",
       "      <td>en</td>\n",
       "    </tr>\n",
       "    <tr>\n",
       "      <th>2435</th>\n",
       "      <td>2436</td>\n",
       "      <td>#IndiaFightsCorona The entire Govt machinery i...</td>\n",
       "      <td>en</td>\n",
       "    </tr>\n",
       "    <tr>\n",
       "      <th>2436</th>\n",
       "      <td>2437</td>\n",
       "      <td>One more young life .....covid 19 husband’s co...</td>\n",
       "      <td>en</td>\n",
       "    </tr>\n",
       "    <tr>\n",
       "      <th>2437</th>\n",
       "      <td>2438</td>\n",
       "      <td>Replying to \\n@learner_vk\\n \\n@nsitharaman\\n a...</td>\n",
       "      <td>en</td>\n",
       "    </tr>\n",
       "    <tr>\n",
       "      <th>2438</th>\n",
       "      <td>2439</td>\n",
       "      <td>These effective vaccines can protect me, my fa...</td>\n",
       "      <td>en</td>\n",
       "    </tr>\n",
       "  </tbody>\n",
       "</table>\n",
       "<p>2439 rows × 3 columns</p>\n",
       "</div>"
      ],
      "text/plain": [
       "      index                                              tweet language\n",
       "0         0  Did anyone notice a change in their psychologi...       en\n",
       "1         1  Say goodbye to the “Indian,” “South African” a...       en\n",
       "2         2  Dear all, Keep Donate Keep Retweet   https://t...       en\n",
       "3         3  #jobseekers #jobvsmlm #MLM #directselling #net...       en\n",
       "4         4  @UsmaniToheed  This is the same mosque which u...       en\n",
       "...     ...                                                ...      ...\n",
       "2434   2435  Thinking about Covid-19 impacted families in m...       en\n",
       "2435   2436  #IndiaFightsCorona The entire Govt machinery i...       en\n",
       "2436   2437  One more young life .....covid 19 husband’s co...       en\n",
       "2437   2438  Replying to \\n@learner_vk\\n \\n@nsitharaman\\n a...       en\n",
       "2438   2439  These effective vaccines can protect me, my fa...       en\n",
       "\n",
       "[2439 rows x 3 columns]"
      ]
     },
     "execution_count": 95,
     "metadata": {},
     "output_type": "execute_result"
    }
   ],
   "source": [
    "JuneTweet"
   ]
  },
  {
   "cell_type": "code",
   "execution_count": 96,
   "metadata": {},
   "outputs": [],
   "source": [
    "JuneTweet.drop(['index'],axis=1,inplace=True)"
   ]
  },
  {
   "cell_type": "code",
   "execution_count": 97,
   "metadata": {},
   "outputs": [
    {
     "data": {
      "text/html": [
       "<div>\n",
       "<style scoped>\n",
       "    .dataframe tbody tr th:only-of-type {\n",
       "        vertical-align: middle;\n",
       "    }\n",
       "\n",
       "    .dataframe tbody tr th {\n",
       "        vertical-align: top;\n",
       "    }\n",
       "\n",
       "    .dataframe thead th {\n",
       "        text-align: right;\n",
       "    }\n",
       "</style>\n",
       "<table border=\"1\" class=\"dataframe\">\n",
       "  <thead>\n",
       "    <tr style=\"text-align: right;\">\n",
       "      <th></th>\n",
       "      <th>tweet</th>\n",
       "      <th>language</th>\n",
       "    </tr>\n",
       "  </thead>\n",
       "  <tbody>\n",
       "    <tr>\n",
       "      <th>0</th>\n",
       "      <td>Did anyone notice a change in their psychologi...</td>\n",
       "      <td>en</td>\n",
       "    </tr>\n",
       "    <tr>\n",
       "      <th>1</th>\n",
       "      <td>Say goodbye to the “Indian,” “South African” a...</td>\n",
       "      <td>en</td>\n",
       "    </tr>\n",
       "    <tr>\n",
       "      <th>2</th>\n",
       "      <td>Dear all, Keep Donate Keep Retweet   https://t...</td>\n",
       "      <td>en</td>\n",
       "    </tr>\n",
       "    <tr>\n",
       "      <th>3</th>\n",
       "      <td>#jobseekers #jobvsmlm #MLM #directselling #net...</td>\n",
       "      <td>en</td>\n",
       "    </tr>\n",
       "    <tr>\n",
       "      <th>4</th>\n",
       "      <td>@UsmaniToheed  This is the same mosque which u...</td>\n",
       "      <td>en</td>\n",
       "    </tr>\n",
       "    <tr>\n",
       "      <th>...</th>\n",
       "      <td>...</td>\n",
       "      <td>...</td>\n",
       "    </tr>\n",
       "    <tr>\n",
       "      <th>2434</th>\n",
       "      <td>Thinking about Covid-19 impacted families in m...</td>\n",
       "      <td>en</td>\n",
       "    </tr>\n",
       "    <tr>\n",
       "      <th>2435</th>\n",
       "      <td>#IndiaFightsCorona The entire Govt machinery i...</td>\n",
       "      <td>en</td>\n",
       "    </tr>\n",
       "    <tr>\n",
       "      <th>2436</th>\n",
       "      <td>One more young life .....covid 19 husband’s co...</td>\n",
       "      <td>en</td>\n",
       "    </tr>\n",
       "    <tr>\n",
       "      <th>2437</th>\n",
       "      <td>Replying to \\n@learner_vk\\n \\n@nsitharaman\\n a...</td>\n",
       "      <td>en</td>\n",
       "    </tr>\n",
       "    <tr>\n",
       "      <th>2438</th>\n",
       "      <td>These effective vaccines can protect me, my fa...</td>\n",
       "      <td>en</td>\n",
       "    </tr>\n",
       "  </tbody>\n",
       "</table>\n",
       "<p>2439 rows × 2 columns</p>\n",
       "</div>"
      ],
      "text/plain": [
       "                                                  tweet language\n",
       "0     Did anyone notice a change in their psychologi...       en\n",
       "1     Say goodbye to the “Indian,” “South African” a...       en\n",
       "2     Dear all, Keep Donate Keep Retweet   https://t...       en\n",
       "3     #jobseekers #jobvsmlm #MLM #directselling #net...       en\n",
       "4     @UsmaniToheed  This is the same mosque which u...       en\n",
       "...                                                 ...      ...\n",
       "2434  Thinking about Covid-19 impacted families in m...       en\n",
       "2435  #IndiaFightsCorona The entire Govt machinery i...       en\n",
       "2436  One more young life .....covid 19 husband’s co...       en\n",
       "2437  Replying to \\n@learner_vk\\n \\n@nsitharaman\\n a...       en\n",
       "2438  These effective vaccines can protect me, my fa...       en\n",
       "\n",
       "[2439 rows x 2 columns]"
      ]
     },
     "execution_count": 97,
     "metadata": {},
     "output_type": "execute_result"
    }
   ],
   "source": [
    "JuneTweet"
   ]
  },
  {
   "cell_type": "code",
   "execution_count": 98,
   "metadata": {},
   "outputs": [],
   "source": [
    "JuneTweet.to_csv('JuneTweet.csv')"
   ]
  },
  {
   "cell_type": "markdown",
   "metadata": {},
   "source": [
    "### --------extract HASTAGS--------- ###"
   ]
  },
  {
   "cell_type": "code",
   "execution_count": 99,
   "metadata": {},
   "outputs": [],
   "source": [
    "JuneTweet['hastags']=np.nan"
   ]
  },
  {
   "cell_type": "code",
   "execution_count": 100,
   "metadata": {},
   "outputs": [],
   "source": [
    "def extract_hastags(text,i=0):\n",
    "    hashtag_list = []\n",
    "    for word in text.split():\n",
    "        if word[0] == '#':\n",
    "            hashtag_list.append(word[0:])\n",
    "    JuneTweet['hastags'][i]=hashtag_list\n",
    "    i+=1\n"
   ]
  },
  {
   "cell_type": "code",
   "execution_count": 101,
   "metadata": {},
   "outputs": [
    {
     "name": "stdout",
     "output_type": "stream",
     "text": [
      "RangeIndex(start=0, stop=2439, step=1)\n"
     ]
    }
   ],
   "source": [
    "index=JuneTweet.index\n",
    "print(index)"
   ]
  },
  {
   "cell_type": "code",
   "execution_count": 105,
   "metadata": {},
   "outputs": [],
   "source": [
    "extract_hastags(JuneTweet['tweet'][8],8)"
   ]
  },
  {
   "cell_type": "code",
   "execution_count": 106,
   "metadata": {},
   "outputs": [
    {
     "data": {
      "text/plain": [
       "[]"
      ]
     },
     "execution_count": 106,
     "metadata": {},
     "output_type": "execute_result"
    }
   ],
   "source": [
    "JuneTweet['hastags'][8]"
   ]
  },
  {
   "cell_type": "code",
   "execution_count": 107,
   "metadata": {},
   "outputs": [],
   "source": [
    "for i in range(0,2439):\n",
    "    text=JuneTweet['tweet'][i]\n",
    "    extract_hastags(text,i)\n"
   ]
  },
  {
   "cell_type": "code",
   "execution_count": 108,
   "metadata": {},
   "outputs": [
    {
     "data": {
      "text/plain": [
       "0                                                      []\n",
       "1                                                      []\n",
       "2       [#milaap, #verified, #campaign, #COVID19, #cor...\n",
       "3       [#jobseekers, #jobvsmlm, #MLM, #directselling,...\n",
       "4               [#jamamasjid, #India, #DelhiFightsCorona]\n",
       "                              ...                        \n",
       "2434                          [#spirit, #india, #empathy]\n",
       "2435                  [#IndiaFightsCorona, #7YearsOfSeva]\n",
       "2436                                             [#COVID]\n",
       "2437                                                   []\n",
       "2438    [#VaccinesWork, #proudTCSer, #GotTheDose, #Uni...\n",
       "Name: hastags, Length: 2439, dtype: object"
      ]
     },
     "execution_count": 108,
     "metadata": {},
     "output_type": "execute_result"
    }
   ],
   "source": [
    "JuneTweet['hastags']"
   ]
  },
  {
   "cell_type": "markdown",
   "metadata": {},
   "source": [
    "### ---- Extract @texts ----"
   ]
  },
  {
   "cell_type": "code",
   "execution_count": 109,
   "metadata": {},
   "outputs": [],
   "source": [
    "JuneTweet['attherate']=np.nan"
   ]
  },
  {
   "cell_type": "code",
   "execution_count": 110,
   "metadata": {},
   "outputs": [],
   "source": [
    "def extract_attherate(text,i=0):\n",
    "    attherate_list = []\n",
    "    for word in text.split():\n",
    "        if word[0] == '@':\n",
    "            attherate_list.append(word[0:])\n",
    "    JuneTweet['attherate'][i]=attherate_list\n",
    "    i+=1"
   ]
  },
  {
   "cell_type": "code",
   "execution_count": 114,
   "metadata": {},
   "outputs": [],
   "source": [
    "for i in range(0,2439):\n",
    "    text=JuneTweet['tweet'][i]\n",
    "    extract_attherate(text,i)\n"
   ]
  },
  {
   "cell_type": "code",
   "execution_count": 115,
   "metadata": {},
   "outputs": [
    {
     "data": {
      "text/plain": [
       "0                                               []\n",
       "1                                               []\n",
       "2                                               []\n",
       "3                                               []\n",
       "4                                  [@UsmaniToheed]\n",
       "                           ...                    \n",
       "2434                                            []\n",
       "2435                                            []\n",
       "2436                                            []\n",
       "2437    [@learner_vk, @nsitharaman, @timesofindia]\n",
       "2438                                            []\n",
       "Name: attherate, Length: 2439, dtype: object"
      ]
     },
     "execution_count": 115,
     "metadata": {},
     "output_type": "execute_result"
    }
   ],
   "source": [
    "JuneTweet['attherate']"
   ]
  },
  {
   "cell_type": "code",
   "execution_count": 116,
   "metadata": {},
   "outputs": [],
   "source": [
    "JuneTweet.to_csv('JuneTweet.csv')"
   ]
  },
  {
   "cell_type": "code",
   "execution_count": 117,
   "metadata": {},
   "outputs": [],
   "source": [
    "JuneTweet['urls']=np.nan"
   ]
  },
  {
   "cell_type": "code",
   "execution_count": 118,
   "metadata": {},
   "outputs": [],
   "source": [
    "def extract_urls(text,i=0):\n",
    "    attherate_list = []\n",
    "    for word in text.split():\n",
    "        if word[0:5] == 'https':\n",
    "            attherate_list.append(word[0:])\n",
    "    JuneTweet['urls'][i]=attherate_list\n",
    "    i+=1"
   ]
  },
  {
   "cell_type": "code",
   "execution_count": 119,
   "metadata": {},
   "outputs": [
    {
     "data": {
      "text/plain": [
       "'Say goodbye to the “Indian,” “South African” and \"British\" Coronavirus variants.  According to the World Health Organization, they’re the Delta, Beta and Alpha variants now.   https://t.co/nkQo4IdGqO'"
      ]
     },
     "execution_count": 119,
     "metadata": {},
     "output_type": "execute_result"
    }
   ],
   "source": [
    "JuneTweet['tweet'][1]"
   ]
  },
  {
   "cell_type": "code",
   "execution_count": 122,
   "metadata": {},
   "outputs": [],
   "source": [
    "extract_urls(JuneTweet['tweet'][8],8)"
   ]
  },
  {
   "cell_type": "code",
   "execution_count": 123,
   "metadata": {},
   "outputs": [
    {
     "data": {
      "text/plain": [
       "nan"
      ]
     },
     "execution_count": 123,
     "metadata": {},
     "output_type": "execute_result"
    }
   ],
   "source": [
    "JuneTweet['urls'][1]"
   ]
  },
  {
   "cell_type": "code",
   "execution_count": 124,
   "metadata": {},
   "outputs": [],
   "source": [
    "for i in range(0,2439):\n",
    "    text=JuneTweet['tweet'][i]\n",
    "    extract_urls(text,i)\n"
   ]
  },
  {
   "cell_type": "code",
   "execution_count": 125,
   "metadata": {},
   "outputs": [
    {
     "data": {
      "text/plain": [
       "0                              []\n",
       "1       [https://t.co/nkQo4IdGqO]\n",
       "2       [https://t.co/TRRT59Sd8K]\n",
       "3       [https://t.co/fcj7letDwE]\n",
       "4       [https://t.co/KHGP0eLUT0]\n",
       "                  ...            \n",
       "2434                           []\n",
       "2435                           []\n",
       "2436                           []\n",
       "2437                           []\n",
       "2438                           []\n",
       "Name: urls, Length: 2439, dtype: object"
      ]
     },
     "execution_count": 125,
     "metadata": {},
     "output_type": "execute_result"
    }
   ],
   "source": [
    "JuneTweet['urls']"
   ]
  },
  {
   "cell_type": "code",
   "execution_count": 126,
   "metadata": {},
   "outputs": [],
   "source": [
    "JuneTweet.to_csv('JuneTweet.csv')"
   ]
  },
  {
   "cell_type": "code",
   "execution_count": 127,
   "metadata": {},
   "outputs": [
    {
     "data": {
      "text/html": [
       "<div>\n",
       "<style scoped>\n",
       "    .dataframe tbody tr th:only-of-type {\n",
       "        vertical-align: middle;\n",
       "    }\n",
       "\n",
       "    .dataframe tbody tr th {\n",
       "        vertical-align: top;\n",
       "    }\n",
       "\n",
       "    .dataframe thead th {\n",
       "        text-align: right;\n",
       "    }\n",
       "</style>\n",
       "<table border=\"1\" class=\"dataframe\">\n",
       "  <thead>\n",
       "    <tr style=\"text-align: right;\">\n",
       "      <th></th>\n",
       "      <th>tweet</th>\n",
       "      <th>language</th>\n",
       "      <th>hastags</th>\n",
       "      <th>attherate</th>\n",
       "      <th>urls</th>\n",
       "    </tr>\n",
       "  </thead>\n",
       "  <tbody>\n",
       "    <tr>\n",
       "      <th>0</th>\n",
       "      <td>Did anyone notice a change in their psychologi...</td>\n",
       "      <td>en</td>\n",
       "      <td>[]</td>\n",
       "      <td>[]</td>\n",
       "      <td>[]</td>\n",
       "    </tr>\n",
       "    <tr>\n",
       "      <th>1</th>\n",
       "      <td>Say goodbye to the “Indian,” “South African” a...</td>\n",
       "      <td>en</td>\n",
       "      <td>[]</td>\n",
       "      <td>[]</td>\n",
       "      <td>[https://t.co/nkQo4IdGqO]</td>\n",
       "    </tr>\n",
       "    <tr>\n",
       "      <th>2</th>\n",
       "      <td>Dear all, Keep Donate Keep Retweet   https://t...</td>\n",
       "      <td>en</td>\n",
       "      <td>[#milaap, #verified, #campaign, #COVID19, #cor...</td>\n",
       "      <td>[]</td>\n",
       "      <td>[https://t.co/TRRT59Sd8K]</td>\n",
       "    </tr>\n",
       "    <tr>\n",
       "      <th>3</th>\n",
       "      <td>#jobseekers #jobvsmlm #MLM #directselling #net...</td>\n",
       "      <td>en</td>\n",
       "      <td>[#jobseekers, #jobvsmlm, #MLM, #directselling,...</td>\n",
       "      <td>[]</td>\n",
       "      <td>[https://t.co/fcj7letDwE]</td>\n",
       "    </tr>\n",
       "    <tr>\n",
       "      <th>4</th>\n",
       "      <td>@UsmaniToheed  This is the same mosque which u...</td>\n",
       "      <td>en</td>\n",
       "      <td>[#jamamasjid, #India, #DelhiFightsCorona]</td>\n",
       "      <td>[@UsmaniToheed]</td>\n",
       "      <td>[https://t.co/KHGP0eLUT0]</td>\n",
       "    </tr>\n",
       "    <tr>\n",
       "      <th>...</th>\n",
       "      <td>...</td>\n",
       "      <td>...</td>\n",
       "      <td>...</td>\n",
       "      <td>...</td>\n",
       "      <td>...</td>\n",
       "    </tr>\n",
       "    <tr>\n",
       "      <th>2434</th>\n",
       "      <td>Thinking about Covid-19 impacted families in m...</td>\n",
       "      <td>en</td>\n",
       "      <td>[#spirit, #india, #empathy]</td>\n",
       "      <td>[]</td>\n",
       "      <td>[]</td>\n",
       "    </tr>\n",
       "    <tr>\n",
       "      <th>2435</th>\n",
       "      <td>#IndiaFightsCorona The entire Govt machinery i...</td>\n",
       "      <td>en</td>\n",
       "      <td>[#IndiaFightsCorona, #7YearsOfSeva]</td>\n",
       "      <td>[]</td>\n",
       "      <td>[]</td>\n",
       "    </tr>\n",
       "    <tr>\n",
       "      <th>2436</th>\n",
       "      <td>One more young life .....covid 19 husband’s co...</td>\n",
       "      <td>en</td>\n",
       "      <td>[#COVID]</td>\n",
       "      <td>[]</td>\n",
       "      <td>[]</td>\n",
       "    </tr>\n",
       "    <tr>\n",
       "      <th>2437</th>\n",
       "      <td>Replying to \\n@learner_vk\\n \\n@nsitharaman\\n a...</td>\n",
       "      <td>en</td>\n",
       "      <td>[]</td>\n",
       "      <td>[@learner_vk, @nsitharaman, @timesofindia]</td>\n",
       "      <td>[]</td>\n",
       "    </tr>\n",
       "    <tr>\n",
       "      <th>2438</th>\n",
       "      <td>These effective vaccines can protect me, my fa...</td>\n",
       "      <td>en</td>\n",
       "      <td>[#VaccinesWork, #proudTCSer, #GotTheDose, #Uni...</td>\n",
       "      <td>[]</td>\n",
       "      <td>[]</td>\n",
       "    </tr>\n",
       "  </tbody>\n",
       "</table>\n",
       "<p>2439 rows × 5 columns</p>\n",
       "</div>"
      ],
      "text/plain": [
       "                                                  tweet language  \\\n",
       "0     Did anyone notice a change in their psychologi...       en   \n",
       "1     Say goodbye to the “Indian,” “South African” a...       en   \n",
       "2     Dear all, Keep Donate Keep Retweet   https://t...       en   \n",
       "3     #jobseekers #jobvsmlm #MLM #directselling #net...       en   \n",
       "4     @UsmaniToheed  This is the same mosque which u...       en   \n",
       "...                                                 ...      ...   \n",
       "2434  Thinking about Covid-19 impacted families in m...       en   \n",
       "2435  #IndiaFightsCorona The entire Govt machinery i...       en   \n",
       "2436  One more young life .....covid 19 husband’s co...       en   \n",
       "2437  Replying to \\n@learner_vk\\n \\n@nsitharaman\\n a...       en   \n",
       "2438  These effective vaccines can protect me, my fa...       en   \n",
       "\n",
       "                                                hastags  \\\n",
       "0                                                    []   \n",
       "1                                                    []   \n",
       "2     [#milaap, #verified, #campaign, #COVID19, #cor...   \n",
       "3     [#jobseekers, #jobvsmlm, #MLM, #directselling,...   \n",
       "4             [#jamamasjid, #India, #DelhiFightsCorona]   \n",
       "...                                                 ...   \n",
       "2434                        [#spirit, #india, #empathy]   \n",
       "2435                [#IndiaFightsCorona, #7YearsOfSeva]   \n",
       "2436                                           [#COVID]   \n",
       "2437                                                 []   \n",
       "2438  [#VaccinesWork, #proudTCSer, #GotTheDose, #Uni...   \n",
       "\n",
       "                                       attherate                       urls  \n",
       "0                                             []                         []  \n",
       "1                                             []  [https://t.co/nkQo4IdGqO]  \n",
       "2                                             []  [https://t.co/TRRT59Sd8K]  \n",
       "3                                             []  [https://t.co/fcj7letDwE]  \n",
       "4                                [@UsmaniToheed]  [https://t.co/KHGP0eLUT0]  \n",
       "...                                          ...                        ...  \n",
       "2434                                          []                         []  \n",
       "2435                                          []                         []  \n",
       "2436                                          []                         []  \n",
       "2437  [@learner_vk, @nsitharaman, @timesofindia]                         []  \n",
       "2438                                          []                         []  \n",
       "\n",
       "[2439 rows x 5 columns]"
      ]
     },
     "execution_count": 127,
     "metadata": {},
     "output_type": "execute_result"
    }
   ],
   "source": [
    "JuneTweet"
   ]
  },
  {
   "cell_type": "code",
   "execution_count": 128,
   "metadata": {},
   "outputs": [],
   "source": [
    "JuneTweet['tokenized_Tweet']=np.nan"
   ]
  },
  {
   "cell_type": "code",
   "execution_count": 129,
   "metadata": {},
   "outputs": [],
   "source": [
    "def tokenizing(text,i=0):\n",
    "    text=tb(text)\n",
    "    token_text=text.words\n",
    "    token_text\n",
    "    JuneTweet['tokenized_Tweet'][i]=token_text"
   ]
  },
  {
   "cell_type": "code",
   "execution_count": 130,
   "metadata": {},
   "outputs": [
    {
     "name": "stderr",
     "output_type": "stream",
     "text": [
      "C:\\Users\\gango\\AppData\\Local\\Temp/ipykernel_20220/1683041727.py:5: SettingWithCopyWarning: \n",
      "A value is trying to be set on a copy of a slice from a DataFrame\n",
      "\n",
      "See the caveats in the documentation: https://pandas.pydata.org/pandas-docs/stable/user_guide/indexing.html#returning-a-view-versus-a-copy\n",
      "  JuneTweet['tokenized_Tweet'][i]=token_text\n",
      "C:\\Users\\gango\\anaconda3\\lib\\site-packages\\pandas\\core\\indexing.py:1732: SettingWithCopyWarning: \n",
      "A value is trying to be set on a copy of a slice from a DataFrame\n",
      "\n",
      "See the caveats in the documentation: https://pandas.pydata.org/pandas-docs/stable/user_guide/indexing.html#returning-a-view-versus-a-copy\n",
      "  self._setitem_single_block(indexer, value, name)\n"
     ]
    }
   ],
   "source": [
    "tokenizing(JuneTweet['tweet'][0],0)"
   ]
  },
  {
   "cell_type": "code",
   "execution_count": 131,
   "metadata": {},
   "outputs": [
    {
     "data": {
      "text/plain": [
       "WordList(['Did', 'anyone', 'notice', 'a', 'change', 'in', 'their', 'psychological', 'and', 'physical', 'condition', 'after', 'he', 'took', 'the', 'coronavirus', 'vaccine'])"
      ]
     },
     "execution_count": 131,
     "metadata": {},
     "output_type": "execute_result"
    }
   ],
   "source": [
    "JuneTweet['tokenized_Tweet'][0]"
   ]
  },
  {
   "cell_type": "code",
   "execution_count": 132,
   "metadata": {},
   "outputs": [
    {
     "data": {
      "text/plain": [
       "'Did anyone notice a change in their psychological and physical condition after he took the coronavirus vaccine?'"
      ]
     },
     "execution_count": 132,
     "metadata": {},
     "output_type": "execute_result"
    }
   ],
   "source": [
    "JuneTweet['tweet'][0]"
   ]
  },
  {
   "cell_type": "code",
   "execution_count": 133,
   "metadata": {},
   "outputs": [],
   "source": [
    "for i in range(0,2439):\n",
    "    text=JuneTweet['tweet'][i]\n",
    "    tokenizing(text,i)"
   ]
  },
  {
   "cell_type": "code",
   "execution_count": 134,
   "metadata": {},
   "outputs": [
    {
     "data": {
      "text/plain": [
       "0       [Did, anyone, notice, a, change, in, their, ps...\n",
       "1       [Say, goodbye, to, the, “, Indian, ”, “, South...\n",
       "2       [Dear, all, Keep, Donate, Keep, Retweet, https...\n",
       "3       [jobseekers, jobvsmlm, MLM, directselling, net...\n",
       "4       [UsmaniToheed, This, is, the, same, mosque, wh...\n",
       "                              ...                        \n",
       "2434    [Thinking, about, Covid-19, impacted, families...\n",
       "2435    [IndiaFightsCorona, The, entire, Govt, machine...\n",
       "2436    [One, more, young, life, covid, 19, husband, ’...\n",
       "2437    [Replying, to, learner_vk, nsitharaman, and, t...\n",
       "2438    [These, effective, vaccines, can, protect, me,...\n",
       "Name: tokenized_Tweet, Length: 2439, dtype: object"
      ]
     },
     "execution_count": 134,
     "metadata": {},
     "output_type": "execute_result"
    }
   ],
   "source": [
    "JuneTweet['tokenized_Tweet']"
   ]
  },
  {
   "cell_type": "code",
   "execution_count": 135,
   "metadata": {},
   "outputs": [],
   "source": [
    "JuneTweet.to_csv('JuneTweet.csv')"
   ]
  },
  {
   "cell_type": "code",
   "execution_count": 136,
   "metadata": {},
   "outputs": [
    {
     "data": {
      "text/html": [
       "<div>\n",
       "<style scoped>\n",
       "    .dataframe tbody tr th:only-of-type {\n",
       "        vertical-align: middle;\n",
       "    }\n",
       "\n",
       "    .dataframe tbody tr th {\n",
       "        vertical-align: top;\n",
       "    }\n",
       "\n",
       "    .dataframe thead th {\n",
       "        text-align: right;\n",
       "    }\n",
       "</style>\n",
       "<table border=\"1\" class=\"dataframe\">\n",
       "  <thead>\n",
       "    <tr style=\"text-align: right;\">\n",
       "      <th></th>\n",
       "      <th>tweet</th>\n",
       "      <th>language</th>\n",
       "      <th>hastags</th>\n",
       "      <th>attherate</th>\n",
       "      <th>urls</th>\n",
       "      <th>tokenized_Tweet</th>\n",
       "    </tr>\n",
       "  </thead>\n",
       "  <tbody>\n",
       "    <tr>\n",
       "      <th>0</th>\n",
       "      <td>Did anyone notice a change in their psychologi...</td>\n",
       "      <td>en</td>\n",
       "      <td>[]</td>\n",
       "      <td>[]</td>\n",
       "      <td>[]</td>\n",
       "      <td>[Did, anyone, notice, a, change, in, their, ps...</td>\n",
       "    </tr>\n",
       "    <tr>\n",
       "      <th>1</th>\n",
       "      <td>Say goodbye to the “Indian,” “South African” a...</td>\n",
       "      <td>en</td>\n",
       "      <td>[]</td>\n",
       "      <td>[]</td>\n",
       "      <td>[https://t.co/nkQo4IdGqO]</td>\n",
       "      <td>[Say, goodbye, to, the, “, Indian, ”, “, South...</td>\n",
       "    </tr>\n",
       "    <tr>\n",
       "      <th>2</th>\n",
       "      <td>Dear all, Keep Donate Keep Retweet   https://t...</td>\n",
       "      <td>en</td>\n",
       "      <td>[#milaap, #verified, #campaign, #COVID19, #cor...</td>\n",
       "      <td>[]</td>\n",
       "      <td>[https://t.co/TRRT59Sd8K]</td>\n",
       "      <td>[Dear, all, Keep, Donate, Keep, Retweet, https...</td>\n",
       "    </tr>\n",
       "    <tr>\n",
       "      <th>3</th>\n",
       "      <td>#jobseekers #jobvsmlm #MLM #directselling #net...</td>\n",
       "      <td>en</td>\n",
       "      <td>[#jobseekers, #jobvsmlm, #MLM, #directselling,...</td>\n",
       "      <td>[]</td>\n",
       "      <td>[https://t.co/fcj7letDwE]</td>\n",
       "      <td>[jobseekers, jobvsmlm, MLM, directselling, net...</td>\n",
       "    </tr>\n",
       "    <tr>\n",
       "      <th>4</th>\n",
       "      <td>@UsmaniToheed  This is the same mosque which u...</td>\n",
       "      <td>en</td>\n",
       "      <td>[#jamamasjid, #India, #DelhiFightsCorona]</td>\n",
       "      <td>[@UsmaniToheed]</td>\n",
       "      <td>[https://t.co/KHGP0eLUT0]</td>\n",
       "      <td>[UsmaniToheed, This, is, the, same, mosque, wh...</td>\n",
       "    </tr>\n",
       "    <tr>\n",
       "      <th>...</th>\n",
       "      <td>...</td>\n",
       "      <td>...</td>\n",
       "      <td>...</td>\n",
       "      <td>...</td>\n",
       "      <td>...</td>\n",
       "      <td>...</td>\n",
       "    </tr>\n",
       "    <tr>\n",
       "      <th>2434</th>\n",
       "      <td>Thinking about Covid-19 impacted families in m...</td>\n",
       "      <td>en</td>\n",
       "      <td>[#spirit, #india, #empathy]</td>\n",
       "      <td>[]</td>\n",
       "      <td>[]</td>\n",
       "      <td>[Thinking, about, Covid-19, impacted, families...</td>\n",
       "    </tr>\n",
       "    <tr>\n",
       "      <th>2435</th>\n",
       "      <td>#IndiaFightsCorona The entire Govt machinery i...</td>\n",
       "      <td>en</td>\n",
       "      <td>[#IndiaFightsCorona, #7YearsOfSeva]</td>\n",
       "      <td>[]</td>\n",
       "      <td>[]</td>\n",
       "      <td>[IndiaFightsCorona, The, entire, Govt, machine...</td>\n",
       "    </tr>\n",
       "    <tr>\n",
       "      <th>2436</th>\n",
       "      <td>One more young life .....covid 19 husband’s co...</td>\n",
       "      <td>en</td>\n",
       "      <td>[#COVID]</td>\n",
       "      <td>[]</td>\n",
       "      <td>[]</td>\n",
       "      <td>[One, more, young, life, covid, 19, husband, ’...</td>\n",
       "    </tr>\n",
       "    <tr>\n",
       "      <th>2437</th>\n",
       "      <td>Replying to \\n@learner_vk\\n \\n@nsitharaman\\n a...</td>\n",
       "      <td>en</td>\n",
       "      <td>[]</td>\n",
       "      <td>[@learner_vk, @nsitharaman, @timesofindia]</td>\n",
       "      <td>[]</td>\n",
       "      <td>[Replying, to, learner_vk, nsitharaman, and, t...</td>\n",
       "    </tr>\n",
       "    <tr>\n",
       "      <th>2438</th>\n",
       "      <td>These effective vaccines can protect me, my fa...</td>\n",
       "      <td>en</td>\n",
       "      <td>[#VaccinesWork, #proudTCSer, #GotTheDose, #Uni...</td>\n",
       "      <td>[]</td>\n",
       "      <td>[]</td>\n",
       "      <td>[These, effective, vaccines, can, protect, me,...</td>\n",
       "    </tr>\n",
       "  </tbody>\n",
       "</table>\n",
       "<p>2439 rows × 6 columns</p>\n",
       "</div>"
      ],
      "text/plain": [
       "                                                  tweet language  \\\n",
       "0     Did anyone notice a change in their psychologi...       en   \n",
       "1     Say goodbye to the “Indian,” “South African” a...       en   \n",
       "2     Dear all, Keep Donate Keep Retweet   https://t...       en   \n",
       "3     #jobseekers #jobvsmlm #MLM #directselling #net...       en   \n",
       "4     @UsmaniToheed  This is the same mosque which u...       en   \n",
       "...                                                 ...      ...   \n",
       "2434  Thinking about Covid-19 impacted families in m...       en   \n",
       "2435  #IndiaFightsCorona The entire Govt machinery i...       en   \n",
       "2436  One more young life .....covid 19 husband’s co...       en   \n",
       "2437  Replying to \\n@learner_vk\\n \\n@nsitharaman\\n a...       en   \n",
       "2438  These effective vaccines can protect me, my fa...       en   \n",
       "\n",
       "                                                hastags  \\\n",
       "0                                                    []   \n",
       "1                                                    []   \n",
       "2     [#milaap, #verified, #campaign, #COVID19, #cor...   \n",
       "3     [#jobseekers, #jobvsmlm, #MLM, #directselling,...   \n",
       "4             [#jamamasjid, #India, #DelhiFightsCorona]   \n",
       "...                                                 ...   \n",
       "2434                        [#spirit, #india, #empathy]   \n",
       "2435                [#IndiaFightsCorona, #7YearsOfSeva]   \n",
       "2436                                           [#COVID]   \n",
       "2437                                                 []   \n",
       "2438  [#VaccinesWork, #proudTCSer, #GotTheDose, #Uni...   \n",
       "\n",
       "                                       attherate                       urls  \\\n",
       "0                                             []                         []   \n",
       "1                                             []  [https://t.co/nkQo4IdGqO]   \n",
       "2                                             []  [https://t.co/TRRT59Sd8K]   \n",
       "3                                             []  [https://t.co/fcj7letDwE]   \n",
       "4                                [@UsmaniToheed]  [https://t.co/KHGP0eLUT0]   \n",
       "...                                          ...                        ...   \n",
       "2434                                          []                         []   \n",
       "2435                                          []                         []   \n",
       "2436                                          []                         []   \n",
       "2437  [@learner_vk, @nsitharaman, @timesofindia]                         []   \n",
       "2438                                          []                         []   \n",
       "\n",
       "                                        tokenized_Tweet  \n",
       "0     [Did, anyone, notice, a, change, in, their, ps...  \n",
       "1     [Say, goodbye, to, the, “, Indian, ”, “, South...  \n",
       "2     [Dear, all, Keep, Donate, Keep, Retweet, https...  \n",
       "3     [jobseekers, jobvsmlm, MLM, directselling, net...  \n",
       "4     [UsmaniToheed, This, is, the, same, mosque, wh...  \n",
       "...                                                 ...  \n",
       "2434  [Thinking, about, Covid-19, impacted, families...  \n",
       "2435  [IndiaFightsCorona, The, entire, Govt, machine...  \n",
       "2436  [One, more, young, life, covid, 19, husband, ’...  \n",
       "2437  [Replying, to, learner_vk, nsitharaman, and, t...  \n",
       "2438  [These, effective, vaccines, can, protect, me,...  \n",
       "\n",
       "[2439 rows x 6 columns]"
      ]
     },
     "execution_count": 136,
     "metadata": {},
     "output_type": "execute_result"
    }
   ],
   "source": [
    "JuneTweet"
   ]
  },
  {
   "cell_type": "markdown",
   "metadata": {},
   "source": [
    "### ------Removing stopwords------- ###"
   ]
  },
  {
   "cell_type": "code",
   "execution_count": 137,
   "metadata": {},
   "outputs": [],
   "source": [
    "JuneTweet['filteredToken']=np.nan"
   ]
  },
  {
   "cell_type": "code",
   "execution_count": 138,
   "metadata": {},
   "outputs": [
    {
     "name": "stderr",
     "output_type": "stream",
     "text": [
      "C:\\Users\\gango\\AppData\\Local\\Temp/ipykernel_20220/2016686119.py:3: SettingWithCopyWarning: \n",
      "A value is trying to be set on a copy of a slice from a DataFrame\n",
      "\n",
      "See the caveats in the documentation: https://pandas.pydata.org/pandas-docs/stable/user_guide/indexing.html#returning-a-view-versus-a-copy\n",
      "  JuneTweet['filteredToken'][0]=list(text_set-stop_set)\n",
      "C:\\Users\\gango\\anaconda3\\lib\\site-packages\\pandas\\core\\indexing.py:1732: SettingWithCopyWarning: \n",
      "A value is trying to be set on a copy of a slice from a DataFrame\n",
      "\n",
      "See the caveats in the documentation: https://pandas.pydata.org/pandas-docs/stable/user_guide/indexing.html#returning-a-view-versus-a-copy\n",
      "  self._setitem_single_block(indexer, value, name)\n"
     ]
    }
   ],
   "source": [
    "text_set=set(JuneTweet['tokenized_Tweet'][0])\n",
    "stop_set=set(stopwords.words(\"english\"))\n",
    "JuneTweet['filteredToken'][0]=list(text_set-stop_set)"
   ]
  },
  {
   "cell_type": "code",
   "execution_count": 139,
   "metadata": {},
   "outputs": [
    {
     "data": {
      "text/plain": [
       "WordList(['Did', 'anyone', 'notice', 'a', 'change', 'in', 'their', 'psychological', 'and', 'physical', 'condition', 'after', 'he', 'took', 'the', 'coronavirus', 'vaccine'])"
      ]
     },
     "execution_count": 139,
     "metadata": {},
     "output_type": "execute_result"
    }
   ],
   "source": [
    "JuneTweet['tokenized_Tweet'][0]"
   ]
  },
  {
   "cell_type": "code",
   "execution_count": 140,
   "metadata": {},
   "outputs": [],
   "source": [
    "text_set=set(JuneTweet['tokenized_Tweet'][0])\n",
    "stop_set=set(stopwords.words(\"english\"))\n",
    "JuneTweet['filteredToken'][0]=list(text_set-stop_set)"
   ]
  },
  {
   "cell_type": "code",
   "execution_count": 141,
   "metadata": {},
   "outputs": [
    {
     "data": {
      "text/html": [
       "<div>\n",
       "<style scoped>\n",
       "    .dataframe tbody tr th:only-of-type {\n",
       "        vertical-align: middle;\n",
       "    }\n",
       "\n",
       "    .dataframe tbody tr th {\n",
       "        vertical-align: top;\n",
       "    }\n",
       "\n",
       "    .dataframe thead th {\n",
       "        text-align: right;\n",
       "    }\n",
       "</style>\n",
       "<table border=\"1\" class=\"dataframe\">\n",
       "  <thead>\n",
       "    <tr style=\"text-align: right;\">\n",
       "      <th></th>\n",
       "      <th>tweet</th>\n",
       "      <th>language</th>\n",
       "      <th>hastags</th>\n",
       "      <th>attherate</th>\n",
       "      <th>urls</th>\n",
       "      <th>tokenized_Tweet</th>\n",
       "      <th>filteredToken</th>\n",
       "    </tr>\n",
       "  </thead>\n",
       "  <tbody>\n",
       "    <tr>\n",
       "      <th>0</th>\n",
       "      <td>Did anyone notice a change in their psychologi...</td>\n",
       "      <td>en</td>\n",
       "      <td>[]</td>\n",
       "      <td>[]</td>\n",
       "      <td>[]</td>\n",
       "      <td>[Did, anyone, notice, a, change, in, their, ps...</td>\n",
       "      <td>[Did, change, notice, coronavirus, condition, ...</td>\n",
       "    </tr>\n",
       "    <tr>\n",
       "      <th>1</th>\n",
       "      <td>Say goodbye to the “Indian,” “South African” a...</td>\n",
       "      <td>en</td>\n",
       "      <td>[]</td>\n",
       "      <td>[]</td>\n",
       "      <td>[https://t.co/nkQo4IdGqO]</td>\n",
       "      <td>[Say, goodbye, to, the, “, Indian, ”, “, South...</td>\n",
       "      <td>NaN</td>\n",
       "    </tr>\n",
       "    <tr>\n",
       "      <th>2</th>\n",
       "      <td>Dear all, Keep Donate Keep Retweet   https://t...</td>\n",
       "      <td>en</td>\n",
       "      <td>[#milaap, #verified, #campaign, #COVID19, #cor...</td>\n",
       "      <td>[]</td>\n",
       "      <td>[https://t.co/TRRT59Sd8K]</td>\n",
       "      <td>[Dear, all, Keep, Donate, Keep, Retweet, https...</td>\n",
       "      <td>NaN</td>\n",
       "    </tr>\n",
       "    <tr>\n",
       "      <th>3</th>\n",
       "      <td>#jobseekers #jobvsmlm #MLM #directselling #net...</td>\n",
       "      <td>en</td>\n",
       "      <td>[#jobseekers, #jobvsmlm, #MLM, #directselling,...</td>\n",
       "      <td>[]</td>\n",
       "      <td>[https://t.co/fcj7letDwE]</td>\n",
       "      <td>[jobseekers, jobvsmlm, MLM, directselling, net...</td>\n",
       "      <td>NaN</td>\n",
       "    </tr>\n",
       "    <tr>\n",
       "      <th>4</th>\n",
       "      <td>@UsmaniToheed  This is the same mosque which u...</td>\n",
       "      <td>en</td>\n",
       "      <td>[#jamamasjid, #India, #DelhiFightsCorona]</td>\n",
       "      <td>[@UsmaniToheed]</td>\n",
       "      <td>[https://t.co/KHGP0eLUT0]</td>\n",
       "      <td>[UsmaniToheed, This, is, the, same, mosque, wh...</td>\n",
       "      <td>NaN</td>\n",
       "    </tr>\n",
       "    <tr>\n",
       "      <th>...</th>\n",
       "      <td>...</td>\n",
       "      <td>...</td>\n",
       "      <td>...</td>\n",
       "      <td>...</td>\n",
       "      <td>...</td>\n",
       "      <td>...</td>\n",
       "      <td>...</td>\n",
       "    </tr>\n",
       "    <tr>\n",
       "      <th>2434</th>\n",
       "      <td>Thinking about Covid-19 impacted families in m...</td>\n",
       "      <td>en</td>\n",
       "      <td>[#spirit, #india, #empathy]</td>\n",
       "      <td>[]</td>\n",
       "      <td>[]</td>\n",
       "      <td>[Thinking, about, Covid-19, impacted, families...</td>\n",
       "      <td>NaN</td>\n",
       "    </tr>\n",
       "    <tr>\n",
       "      <th>2435</th>\n",
       "      <td>#IndiaFightsCorona The entire Govt machinery i...</td>\n",
       "      <td>en</td>\n",
       "      <td>[#IndiaFightsCorona, #7YearsOfSeva]</td>\n",
       "      <td>[]</td>\n",
       "      <td>[]</td>\n",
       "      <td>[IndiaFightsCorona, The, entire, Govt, machine...</td>\n",
       "      <td>NaN</td>\n",
       "    </tr>\n",
       "    <tr>\n",
       "      <th>2436</th>\n",
       "      <td>One more young life .....covid 19 husband’s co...</td>\n",
       "      <td>en</td>\n",
       "      <td>[#COVID]</td>\n",
       "      <td>[]</td>\n",
       "      <td>[]</td>\n",
       "      <td>[One, more, young, life, covid, 19, husband, ’...</td>\n",
       "      <td>NaN</td>\n",
       "    </tr>\n",
       "    <tr>\n",
       "      <th>2437</th>\n",
       "      <td>Replying to \\n@learner_vk\\n \\n@nsitharaman\\n a...</td>\n",
       "      <td>en</td>\n",
       "      <td>[]</td>\n",
       "      <td>[@learner_vk, @nsitharaman, @timesofindia]</td>\n",
       "      <td>[]</td>\n",
       "      <td>[Replying, to, learner_vk, nsitharaman, and, t...</td>\n",
       "      <td>NaN</td>\n",
       "    </tr>\n",
       "    <tr>\n",
       "      <th>2438</th>\n",
       "      <td>These effective vaccines can protect me, my fa...</td>\n",
       "      <td>en</td>\n",
       "      <td>[#VaccinesWork, #proudTCSer, #GotTheDose, #Uni...</td>\n",
       "      <td>[]</td>\n",
       "      <td>[]</td>\n",
       "      <td>[These, effective, vaccines, can, protect, me,...</td>\n",
       "      <td>NaN</td>\n",
       "    </tr>\n",
       "  </tbody>\n",
       "</table>\n",
       "<p>2439 rows × 7 columns</p>\n",
       "</div>"
      ],
      "text/plain": [
       "                                                  tweet language  \\\n",
       "0     Did anyone notice a change in their psychologi...       en   \n",
       "1     Say goodbye to the “Indian,” “South African” a...       en   \n",
       "2     Dear all, Keep Donate Keep Retweet   https://t...       en   \n",
       "3     #jobseekers #jobvsmlm #MLM #directselling #net...       en   \n",
       "4     @UsmaniToheed  This is the same mosque which u...       en   \n",
       "...                                                 ...      ...   \n",
       "2434  Thinking about Covid-19 impacted families in m...       en   \n",
       "2435  #IndiaFightsCorona The entire Govt machinery i...       en   \n",
       "2436  One more young life .....covid 19 husband’s co...       en   \n",
       "2437  Replying to \\n@learner_vk\\n \\n@nsitharaman\\n a...       en   \n",
       "2438  These effective vaccines can protect me, my fa...       en   \n",
       "\n",
       "                                                hastags  \\\n",
       "0                                                    []   \n",
       "1                                                    []   \n",
       "2     [#milaap, #verified, #campaign, #COVID19, #cor...   \n",
       "3     [#jobseekers, #jobvsmlm, #MLM, #directselling,...   \n",
       "4             [#jamamasjid, #India, #DelhiFightsCorona]   \n",
       "...                                                 ...   \n",
       "2434                        [#spirit, #india, #empathy]   \n",
       "2435                [#IndiaFightsCorona, #7YearsOfSeva]   \n",
       "2436                                           [#COVID]   \n",
       "2437                                                 []   \n",
       "2438  [#VaccinesWork, #proudTCSer, #GotTheDose, #Uni...   \n",
       "\n",
       "                                       attherate                       urls  \\\n",
       "0                                             []                         []   \n",
       "1                                             []  [https://t.co/nkQo4IdGqO]   \n",
       "2                                             []  [https://t.co/TRRT59Sd8K]   \n",
       "3                                             []  [https://t.co/fcj7letDwE]   \n",
       "4                                [@UsmaniToheed]  [https://t.co/KHGP0eLUT0]   \n",
       "...                                          ...                        ...   \n",
       "2434                                          []                         []   \n",
       "2435                                          []                         []   \n",
       "2436                                          []                         []   \n",
       "2437  [@learner_vk, @nsitharaman, @timesofindia]                         []   \n",
       "2438                                          []                         []   \n",
       "\n",
       "                                        tokenized_Tweet  \\\n",
       "0     [Did, anyone, notice, a, change, in, their, ps...   \n",
       "1     [Say, goodbye, to, the, “, Indian, ”, “, South...   \n",
       "2     [Dear, all, Keep, Donate, Keep, Retweet, https...   \n",
       "3     [jobseekers, jobvsmlm, MLM, directselling, net...   \n",
       "4     [UsmaniToheed, This, is, the, same, mosque, wh...   \n",
       "...                                                 ...   \n",
       "2434  [Thinking, about, Covid-19, impacted, families...   \n",
       "2435  [IndiaFightsCorona, The, entire, Govt, machine...   \n",
       "2436  [One, more, young, life, covid, 19, husband, ’...   \n",
       "2437  [Replying, to, learner_vk, nsitharaman, and, t...   \n",
       "2438  [These, effective, vaccines, can, protect, me,...   \n",
       "\n",
       "                                          filteredToken  \n",
       "0     [Did, change, notice, coronavirus, condition, ...  \n",
       "1                                                   NaN  \n",
       "2                                                   NaN  \n",
       "3                                                   NaN  \n",
       "4                                                   NaN  \n",
       "...                                                 ...  \n",
       "2434                                                NaN  \n",
       "2435                                                NaN  \n",
       "2436                                                NaN  \n",
       "2437                                                NaN  \n",
       "2438                                                NaN  \n",
       "\n",
       "[2439 rows x 7 columns]"
      ]
     },
     "execution_count": 141,
     "metadata": {},
     "output_type": "execute_result"
    }
   ],
   "source": [
    "JuneTweet"
   ]
  },
  {
   "cell_type": "code",
   "execution_count": 142,
   "metadata": {},
   "outputs": [],
   "source": [
    "JuneTweet.to_csv('JuneTweet_(with Emojis and other language within eng sentence).csv')"
   ]
  }
 ],
 "metadata": {
  "interpreter": {
   "hash": "204572981a9c880a2832b5713da616a32be7f6f4a56a8320d89604bb1cfd1343"
  },
  "kernelspec": {
   "display_name": "Python 3.10.2 64-bit",
   "language": "python",
   "name": "python3"
  },
  "language_info": {
   "codemirror_mode": {
    "name": "ipython",
    "version": 3
   },
   "file_extension": ".py",
   "mimetype": "text/x-python",
   "name": "python",
   "nbconvert_exporter": "python",
   "pygments_lexer": "ipython3",
   "version": "3.9.7"
  },
  "orig_nbformat": 4
 },
 "nbformat": 4,
 "nbformat_minor": 2
}
