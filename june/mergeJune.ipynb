{
 "cells": [
  {
   "cell_type": "code",
   "execution_count": 1,
   "metadata": {},
   "outputs": [],
   "source": [
    "import pandas as pd\n",
    "import numpy as np"
   ]
  },
  {
   "cell_type": "code",
   "execution_count": 2,
   "metadata": {},
   "outputs": [],
   "source": [
    "def MergeDataFrame(Df1,Df2):\n",
    "    Df=pd.concat([Df1,Df2])\n",
    "    return Df"
   ]
  },
  {
   "cell_type": "code",
   "execution_count": 3,
   "metadata": {},
   "outputs": [],
   "source": [
    "juneAyush_covid=pd.read_csv('june(T-covid).csv')\n",
    "juneAyush_Covid_19=pd.read_csv('june(T-Covid_19).csv')\n",
    "juneAyush_remdesivir=pd.read_csv('june(T-remdesivir).csv')\n"
   ]
  },
  {
   "cell_type": "code",
   "execution_count": 4,
   "metadata": {},
   "outputs": [],
   "source": [
    "t1=MergeDataFrame(juneAyush_covid,juneAyush_Covid_19)"
   ]
  },
  {
   "cell_type": "code",
   "execution_count": 5,
   "metadata": {},
   "outputs": [],
   "source": [
    "AyushJune=MergeDataFrame(juneAyush_remdesivir,t1)"
   ]
  },
  {
   "cell_type": "code",
   "execution_count": 6,
   "metadata": {},
   "outputs": [
    {
     "data": {
      "text/plain": [
       "(679, 36)"
      ]
     },
     "execution_count": 6,
     "metadata": {},
     "output_type": "execute_result"
    }
   ],
   "source": [
    "AyushJune.shape"
   ]
  },
  {
   "cell_type": "code",
   "execution_count": 7,
   "metadata": {},
   "outputs": [],
   "source": [
    "juneGangotri_CoronaVirus=pd.read_csv('june(TG-CoronaVirus).csv')\n",
    "juneGangotri_curfew=pd.read_csv('june(TG-curfew).csv')\n",
    "juneGangotri_vaccine=pd.read_csv('june(TG-vaccine).csv')"
   ]
  },
  {
   "cell_type": "code",
   "execution_count": 8,
   "metadata": {},
   "outputs": [],
   "source": [
    "t1=MergeDataFrame(juneGangotri_CoronaVirus,juneGangotri_curfew)\n",
    "GangotriJune=MergeDataFrame(juneGangotri_vaccine,t1)"
   ]
  },
  {
   "cell_type": "code",
   "execution_count": 9,
   "metadata": {},
   "outputs": [
    {
     "data": {
      "text/plain": [
       "(767, 36)"
      ]
     },
     "execution_count": 9,
     "metadata": {},
     "output_type": "execute_result"
    }
   ],
   "source": [
    "GangotriJune.shape"
   ]
  },
  {
   "cell_type": "code",
   "execution_count": 10,
   "metadata": {},
   "outputs": [],
   "source": [
    "juneMahabub_corona=pd.read_csv('june(t)_corona.csv')\n",
    "juneMahabub_COVID_19=pd.read_csv('june(t)_COVID_19.csv')\n",
    "juneMahabub_COVID=pd.read_csv('june(t)_COVID.csv')"
   ]
  },
  {
   "cell_type": "code",
   "execution_count": 11,
   "metadata": {},
   "outputs": [],
   "source": [
    "t1=MergeDataFrame(juneMahabub_corona,juneMahabub_COVID_19)\n",
    "MahabubJune=MergeDataFrame(juneMahabub_COVID,t1)"
   ]
  },
  {
   "cell_type": "code",
   "execution_count": 12,
   "metadata": {},
   "outputs": [
    {
     "data": {
      "text/plain": [
       "(1548, 36)"
      ]
     },
     "execution_count": 12,
     "metadata": {},
     "output_type": "execute_result"
    }
   ],
   "source": [
    "MahabubJune.shape"
   ]
  },
  {
   "cell_type": "code",
   "execution_count": 13,
   "metadata": {},
   "outputs": [],
   "source": [
    "t1=MergeDataFrame(AyushJune,GangotriJune)\n",
    "JuneKey=MergeDataFrame(MahabubJune,t1)"
   ]
  },
  {
   "cell_type": "code",
   "execution_count": 14,
   "metadata": {},
   "outputs": [
    {
     "data": {
      "text/plain": [
       "(2994, 36)"
      ]
     },
     "execution_count": 14,
     "metadata": {},
     "output_type": "execute_result"
    }
   ],
   "source": [
    "JuneKey.shape"
   ]
  },
  {
   "cell_type": "code",
   "execution_count": 15,
   "metadata": {},
   "outputs": [],
   "source": [
    "juneL=pd.read_csv('covidtweets(june-2021-LatestSection).csv')\n",
    "juneT=pd.read_csv('covidtweets(june-TopSectio).csv')"
   ]
  },
  {
   "cell_type": "code",
   "execution_count": 16,
   "metadata": {},
   "outputs": [
    {
     "name": "stdout",
     "output_type": "stream",
     "text": [
      "Index(['Username', 'Userhandle', 'Time', 'comments', 'Retweets', 'likes',\n",
      "       'Tweet'],\n",
      "      dtype='object') Index(['Username', 'Userhandle', 'Time', 'comments', 'retweets', 'likes',\n",
      "       'Tweet'],\n",
      "      dtype='object')\n"
     ]
    }
   ],
   "source": [
    "a=juneL.columns\n",
    "b=juneT.columns\n",
    "print(a,b)"
   ]
  },
  {
   "cell_type": "code",
   "execution_count": 17,
   "metadata": {},
   "outputs": [],
   "source": [
    "juneL =juneL.rename(columns={'Retweets':'retweets'})"
   ]
  },
  {
   "cell_type": "code",
   "execution_count": 18,
   "metadata": {},
   "outputs": [],
   "source": [
    "juneLT=MergeDataFrame(juneL,juneT)"
   ]
  },
  {
   "cell_type": "code",
   "execution_count": 22,
   "metadata": {},
   "outputs": [],
   "source": [
    "juneLT.drop(['Userhandle'], axis=1, inplace=True)\n",
    "juneLT = juneLT.rename(columns={'Username': 'username', 'Time': 'created_at', 'comments': 'replies_count',\n",
    "                     'retweets': 'retweets_count', 'likes': 'likes_count', 'Tweet': 'tweet','retweets':'retweets_count'})\n",
    "juneLT[\"language\"]='en'"
   ]
  },
  {
   "cell_type": "code",
   "execution_count": 23,
   "metadata": {},
   "outputs": [
    {
     "data": {
      "text/plain": [
       "Index(['username', 'created_at', 'replies_count', 'retweets_count',\n",
       "       'likes_count', 'tweet', 'language'],\n",
       "      dtype='object')"
      ]
     },
     "execution_count": 23,
     "metadata": {},
     "output_type": "execute_result"
    }
   ],
   "source": [
    "juneLT.columns"
   ]
  },
  {
   "cell_type": "code",
   "execution_count": 21,
   "metadata": {},
   "outputs": [
    {
     "data": {
      "text/plain": [
       "(2994, 7)"
      ]
     },
     "execution_count": 21,
     "metadata": {},
     "output_type": "execute_result"
    }
   ],
   "source": [
    "JuneKey.drop(['trans_dest', 'trans_src', 'retweet_id', 'reply_to', 'retweet_date', 'translate', 'geo', 'source', 'user_rt_id', 'user_rt', 'video', 'thumbnail', 'quote_url', 'near',\n",
    "                 'id', 'conversation_id', 'date', 'time', 'place', 'mentions', 'urls', 'photos', 'hashtags', 'cashtags', 'link', 'retweet', 'timezone', 'user_id', 'name'], axis=1, inplace=True)\n",
    "JuneKey.shape"
   ]
  },
  {
   "cell_type": "code",
   "execution_count": 24,
   "metadata": {},
   "outputs": [],
   "source": [
    "June_Raw=MergeDataFrame(JuneKey,juneLT)"
   ]
  },
  {
   "cell_type": "code",
   "execution_count": 25,
   "metadata": {},
   "outputs": [
    {
     "data": {
      "text/plain": [
       "(3247, 7)"
      ]
     },
     "execution_count": 25,
     "metadata": {},
     "output_type": "execute_result"
    }
   ],
   "source": [
    "June_Raw.shape"
   ]
  },
  {
   "cell_type": "code",
   "execution_count": 26,
   "metadata": {},
   "outputs": [],
   "source": [
    "June_Raw.to_csv('JUNEFINALTWEET(RAW).csv')"
   ]
  }
 ],
 "metadata": {
  "interpreter": {
   "hash": "634498344980471fb0944d848df28373b199ff2468c6404ec32442b20f813eee"
  },
  "kernelspec": {
   "display_name": "Python 3.9.6 64-bit",
   "language": "python",
   "name": "python3"
  },
  "language_info": {
   "codemirror_mode": {
    "name": "ipython",
    "version": 3
   },
   "file_extension": ".py",
   "mimetype": "text/x-python",
   "name": "python",
   "nbconvert_exporter": "python",
   "pygments_lexer": "ipython3",
   "version": "3.8.8"
  },
  "orig_nbformat": 4
 },
 "nbformat": 4,
 "nbformat_minor": 2
}
