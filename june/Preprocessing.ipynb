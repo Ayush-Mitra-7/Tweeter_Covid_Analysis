{
 "cells": [
  {
   "cell_type": "code",
   "execution_count": 1,
   "metadata": {},
   "outputs": [],
   "source": [
    "import pandas as pd\n",
    "import numpy as np\n",
    "import math\n",
    "from textblob import TextBlob as tb\n",
    "import re\n",
    "import nltk"
   ]
  },
  {
   "cell_type": "code",
   "execution_count": 2,
   "metadata": {},
   "outputs": [],
   "source": [
    "june=pd.read_csv('juneRemove.csv')"
   ]
  },
  {
   "cell_type": "code",
   "execution_count": 3,
   "metadata": {},
   "outputs": [
    {
     "data": {
      "text/plain": [
       "Index(['Unnamed: 0', 'Unnamed: 0.1', 'created_at', 'username', 'tweet',\n",
       "       'language', 'replies_count', 'retweets_count', 'likes_count'],\n",
       "      dtype='object')"
      ]
     },
     "execution_count": 3,
     "metadata": {},
     "output_type": "execute_result"
    }
   ],
   "source": [
    "june.columns"
   ]
  },
  {
   "cell_type": "code",
   "execution_count": 4,
   "metadata": {},
   "outputs": [],
   "source": [
    "june.drop(['Unnamed: 0'],axis=1,inplace=True)"
   ]
  },
  {
   "cell_type": "code",
   "execution_count": 5,
   "metadata": {},
   "outputs": [
    {
     "data": {
      "text/plain": [
       "Index(['Unnamed: 0.1', 'created_at', 'username', 'tweet', 'language',\n",
       "       'replies_count', 'retweets_count', 'likes_count'],\n",
       "      dtype='object')"
      ]
     },
     "execution_count": 5,
     "metadata": {},
     "output_type": "execute_result"
    }
   ],
   "source": [
    "june.columns"
   ]
  },
  {
   "cell_type": "code",
   "execution_count": 6,
   "metadata": {},
   "outputs": [
    {
     "data": {
      "text/plain": [
       "array(['en'], dtype=object)"
      ]
     },
     "execution_count": 6,
     "metadata": {},
     "output_type": "execute_result"
    }
   ],
   "source": [
    "june['language'].unique()"
   ]
  },
  {
   "cell_type": "code",
   "execution_count": 7,
   "metadata": {},
   "outputs": [],
   "source": [
    "for i in june['language']:\n",
    "    index_names = june[june['language']!='en' ].index\n",
    "    june.drop(index_names, inplace = True)"
   ]
  },
  {
   "cell_type": "code",
   "execution_count": 8,
   "metadata": {},
   "outputs": [
    {
     "data": {
      "text/plain": [
       "(2440, 8)"
      ]
     },
     "execution_count": 8,
     "metadata": {},
     "output_type": "execute_result"
    }
   ],
   "source": [
    "june.shape"
   ]
  },
  {
   "cell_type": "code",
   "execution_count": 9,
   "metadata": {},
   "outputs": [
    {
     "data": {
      "text/plain": [
       "(1, 8)"
      ]
     },
     "execution_count": 9,
     "metadata": {},
     "output_type": "execute_result"
    }
   ],
   "source": [
    "duplicates = june[june.duplicated()]\n",
    "duplicates.shape"
   ]
  },
  {
   "cell_type": "code",
   "execution_count": 10,
   "metadata": {},
   "outputs": [
    {
     "data": {
      "text/plain": [
       "(2439, 8)"
      ]
     },
     "execution_count": 10,
     "metadata": {},
     "output_type": "execute_result"
    }
   ],
   "source": [
    "june=june.drop_duplicates(keep='first')\n",
    "june.shape"
   ]
  },
  {
   "cell_type": "code",
   "execution_count": 11,
   "metadata": {},
   "outputs": [
    {
     "data": {
      "text/html": [
       "<div>\n",
       "<style scoped>\n",
       "    .dataframe tbody tr th:only-of-type {\n",
       "        vertical-align: middle;\n",
       "    }\n",
       "\n",
       "    .dataframe tbody tr th {\n",
       "        vertical-align: top;\n",
       "    }\n",
       "\n",
       "    .dataframe thead th {\n",
       "        text-align: right;\n",
       "    }\n",
       "</style>\n",
       "<table border=\"1\" class=\"dataframe\">\n",
       "  <thead>\n",
       "    <tr style=\"text-align: right;\">\n",
       "      <th></th>\n",
       "      <th>Unnamed: 0.1</th>\n",
       "      <th>created_at</th>\n",
       "      <th>username</th>\n",
       "      <th>tweet</th>\n",
       "      <th>language</th>\n",
       "      <th>replies_count</th>\n",
       "      <th>retweets_count</th>\n",
       "      <th>likes_count</th>\n",
       "    </tr>\n",
       "  </thead>\n",
       "  <tbody>\n",
       "    <tr>\n",
       "      <th>0</th>\n",
       "      <td>0</td>\n",
       "      <td>2021-06-03 03:35:55 India Standard Time</td>\n",
       "      <td>albosaily1958</td>\n",
       "      <td>Did anyone notice a change in their psychologi...</td>\n",
       "      <td>en</td>\n",
       "      <td>0.0</td>\n",
       "      <td>0.0</td>\n",
       "      <td>1</td>\n",
       "    </tr>\n",
       "    <tr>\n",
       "      <th>1</th>\n",
       "      <td>2</td>\n",
       "      <td>2021-06-03 01:38:30 India Standard Time</td>\n",
       "      <td>stickwithchick</td>\n",
       "      <td>Say goodbye to the “Indian,” “South African” a...</td>\n",
       "      <td>en</td>\n",
       "      <td>0.0</td>\n",
       "      <td>0.0</td>\n",
       "      <td>1</td>\n",
       "    </tr>\n",
       "    <tr>\n",
       "      <th>2</th>\n",
       "      <td>3</td>\n",
       "      <td>2021-06-03 00:59:28 India Standard Time</td>\n",
       "      <td>ssforgdel</td>\n",
       "      <td>Dear all, Keep Donate Keep Retweet   https://t...</td>\n",
       "      <td>en</td>\n",
       "      <td>0.0</td>\n",
       "      <td>2.0</td>\n",
       "      <td>1</td>\n",
       "    </tr>\n",
       "    <tr>\n",
       "      <th>3</th>\n",
       "      <td>4</td>\n",
       "      <td>2021-06-03 00:54:37 India Standard Time</td>\n",
       "      <td>msknowledgehub1</td>\n",
       "      <td>#jobseekers #jobvsmlm #MLM #directselling #net...</td>\n",
       "      <td>en</td>\n",
       "      <td>0.0</td>\n",
       "      <td>0.0</td>\n",
       "      <td>2</td>\n",
       "    </tr>\n",
       "    <tr>\n",
       "      <th>4</th>\n",
       "      <td>5</td>\n",
       "      <td>2021-06-03 00:38:41 India Standard Time</td>\n",
       "      <td>usmanitoheed</td>\n",
       "      <td>@UsmaniToheed  This is the same mosque which u...</td>\n",
       "      <td>en</td>\n",
       "      <td>0.0</td>\n",
       "      <td>0.0</td>\n",
       "      <td>1</td>\n",
       "    </tr>\n",
       "    <tr>\n",
       "      <th>...</th>\n",
       "      <td>...</td>\n",
       "      <td>...</td>\n",
       "      <td>...</td>\n",
       "      <td>...</td>\n",
       "      <td>...</td>\n",
       "      <td>...</td>\n",
       "      <td>...</td>\n",
       "      <td>...</td>\n",
       "    </tr>\n",
       "    <tr>\n",
       "      <th>2435</th>\n",
       "      <td>1022</td>\n",
       "      <td>2021-06-01T09:45:16.000Z</td>\n",
       "      <td>NaN</td>\n",
       "      <td>Thinking about Covid-19 impacted families in m...</td>\n",
       "      <td>en</td>\n",
       "      <td>NaN</td>\n",
       "      <td>NaN</td>\n",
       "      <td>NaN</td>\n",
       "    </tr>\n",
       "    <tr>\n",
       "      <th>2436</th>\n",
       "      <td>1023</td>\n",
       "      <td>2021-06-01T09:12:36.000Z</td>\n",
       "      <td>NaN</td>\n",
       "      <td>#IndiaFightsCorona The entire Govt machinery i...</td>\n",
       "      <td>en</td>\n",
       "      <td>NaN</td>\n",
       "      <td>1.0</td>\n",
       "      <td>2</td>\n",
       "    </tr>\n",
       "    <tr>\n",
       "      <th>2437</th>\n",
       "      <td>1024</td>\n",
       "      <td>2021-06-01T08:08:54.000Z</td>\n",
       "      <td>NaN</td>\n",
       "      <td>One more young life .....covid 19 husband’s co...</td>\n",
       "      <td>en</td>\n",
       "      <td>1.0</td>\n",
       "      <td>NaN</td>\n",
       "      <td>1</td>\n",
       "    </tr>\n",
       "    <tr>\n",
       "      <th>2438</th>\n",
       "      <td>1025</td>\n",
       "      <td>2021-06-01T08:01:46.000Z</td>\n",
       "      <td>NaN</td>\n",
       "      <td>Replying to \\n@learner_vk\\n \\n@nsitharaman\\n a...</td>\n",
       "      <td>en</td>\n",
       "      <td>NaN</td>\n",
       "      <td>NaN</td>\n",
       "      <td>NaN</td>\n",
       "    </tr>\n",
       "    <tr>\n",
       "      <th>2439</th>\n",
       "      <td>1026</td>\n",
       "      <td>2021-06-01T02:27:12.000Z</td>\n",
       "      <td>NaN</td>\n",
       "      <td>These effective vaccines can protect me, my fa...</td>\n",
       "      <td>en</td>\n",
       "      <td>NaN</td>\n",
       "      <td>NaN</td>\n",
       "      <td>1</td>\n",
       "    </tr>\n",
       "  </tbody>\n",
       "</table>\n",
       "<p>2439 rows × 8 columns</p>\n",
       "</div>"
      ],
      "text/plain": [
       "      Unnamed: 0.1                               created_at         username  \\\n",
       "0                0  2021-06-03 03:35:55 India Standard Time    albosaily1958   \n",
       "1                2  2021-06-03 01:38:30 India Standard Time   stickwithchick   \n",
       "2                3  2021-06-03 00:59:28 India Standard Time        ssforgdel   \n",
       "3                4  2021-06-03 00:54:37 India Standard Time  msknowledgehub1   \n",
       "4                5  2021-06-03 00:38:41 India Standard Time     usmanitoheed   \n",
       "...            ...                                      ...              ...   \n",
       "2435          1022                 2021-06-01T09:45:16.000Z              NaN   \n",
       "2436          1023                 2021-06-01T09:12:36.000Z              NaN   \n",
       "2437          1024                 2021-06-01T08:08:54.000Z              NaN   \n",
       "2438          1025                 2021-06-01T08:01:46.000Z              NaN   \n",
       "2439          1026                 2021-06-01T02:27:12.000Z              NaN   \n",
       "\n",
       "                                                  tweet language  \\\n",
       "0     Did anyone notice a change in their psychologi...       en   \n",
       "1     Say goodbye to the “Indian,” “South African” a...       en   \n",
       "2     Dear all, Keep Donate Keep Retweet   https://t...       en   \n",
       "3     #jobseekers #jobvsmlm #MLM #directselling #net...       en   \n",
       "4     @UsmaniToheed  This is the same mosque which u...       en   \n",
       "...                                                 ...      ...   \n",
       "2435  Thinking about Covid-19 impacted families in m...       en   \n",
       "2436  #IndiaFightsCorona The entire Govt machinery i...       en   \n",
       "2437  One more young life .....covid 19 husband’s co...       en   \n",
       "2438  Replying to \\n@learner_vk\\n \\n@nsitharaman\\n a...       en   \n",
       "2439  These effective vaccines can protect me, my fa...       en   \n",
       "\n",
       "      replies_count  retweets_count likes_count  \n",
       "0               0.0             0.0           1  \n",
       "1               0.0             0.0           1  \n",
       "2               0.0             2.0           1  \n",
       "3               0.0             0.0           2  \n",
       "4               0.0             0.0           1  \n",
       "...             ...             ...         ...  \n",
       "2435            NaN             NaN         NaN  \n",
       "2436            NaN             1.0           2  \n",
       "2437            1.0             NaN           1  \n",
       "2438            NaN             NaN         NaN  \n",
       "2439            NaN             NaN           1  \n",
       "\n",
       "[2439 rows x 8 columns]"
      ]
     },
     "execution_count": 11,
     "metadata": {},
     "output_type": "execute_result"
    }
   ],
   "source": [
    "june"
   ]
  },
  {
   "cell_type": "code",
   "execution_count": 12,
   "metadata": {},
   "outputs": [
    {
     "data": {
      "text/plain": [
       "Index(['Unnamed: 0.1', 'created_at', 'username', 'tweet', 'language',\n",
       "       'replies_count', 'retweets_count', 'likes_count'],\n",
       "      dtype='object')"
      ]
     },
     "execution_count": 12,
     "metadata": {},
     "output_type": "execute_result"
    }
   ],
   "source": [
    "june.columns"
   ]
  },
  {
   "cell_type": "code",
   "execution_count": 13,
   "metadata": {},
   "outputs": [],
   "source": [
    "june[['replies_count','retweets_count', 'likes_count']]=june[['replies_count','retweets_count', 'likes_count']].fillna(0)"
   ]
  },
  {
   "cell_type": "code",
   "execution_count": 14,
   "metadata": {},
   "outputs": [
    {
     "data": {
      "text/html": [
       "<div>\n",
       "<style scoped>\n",
       "    .dataframe tbody tr th:only-of-type {\n",
       "        vertical-align: middle;\n",
       "    }\n",
       "\n",
       "    .dataframe tbody tr th {\n",
       "        vertical-align: top;\n",
       "    }\n",
       "\n",
       "    .dataframe thead th {\n",
       "        text-align: right;\n",
       "    }\n",
       "</style>\n",
       "<table border=\"1\" class=\"dataframe\">\n",
       "  <thead>\n",
       "    <tr style=\"text-align: right;\">\n",
       "      <th></th>\n",
       "      <th>Unnamed: 0.1</th>\n",
       "      <th>created_at</th>\n",
       "      <th>username</th>\n",
       "      <th>tweet</th>\n",
       "      <th>language</th>\n",
       "      <th>replies_count</th>\n",
       "      <th>retweets_count</th>\n",
       "      <th>likes_count</th>\n",
       "    </tr>\n",
       "  </thead>\n",
       "  <tbody>\n",
       "    <tr>\n",
       "      <th>0</th>\n",
       "      <td>0</td>\n",
       "      <td>2021-06-03 03:35:55 India Standard Time</td>\n",
       "      <td>albosaily1958</td>\n",
       "      <td>Did anyone notice a change in their psychologi...</td>\n",
       "      <td>en</td>\n",
       "      <td>0.0</td>\n",
       "      <td>0.0</td>\n",
       "      <td>1</td>\n",
       "    </tr>\n",
       "    <tr>\n",
       "      <th>1</th>\n",
       "      <td>2</td>\n",
       "      <td>2021-06-03 01:38:30 India Standard Time</td>\n",
       "      <td>stickwithchick</td>\n",
       "      <td>Say goodbye to the “Indian,” “South African” a...</td>\n",
       "      <td>en</td>\n",
       "      <td>0.0</td>\n",
       "      <td>0.0</td>\n",
       "      <td>1</td>\n",
       "    </tr>\n",
       "    <tr>\n",
       "      <th>2</th>\n",
       "      <td>3</td>\n",
       "      <td>2021-06-03 00:59:28 India Standard Time</td>\n",
       "      <td>ssforgdel</td>\n",
       "      <td>Dear all, Keep Donate Keep Retweet   https://t...</td>\n",
       "      <td>en</td>\n",
       "      <td>0.0</td>\n",
       "      <td>2.0</td>\n",
       "      <td>1</td>\n",
       "    </tr>\n",
       "    <tr>\n",
       "      <th>3</th>\n",
       "      <td>4</td>\n",
       "      <td>2021-06-03 00:54:37 India Standard Time</td>\n",
       "      <td>msknowledgehub1</td>\n",
       "      <td>#jobseekers #jobvsmlm #MLM #directselling #net...</td>\n",
       "      <td>en</td>\n",
       "      <td>0.0</td>\n",
       "      <td>0.0</td>\n",
       "      <td>2</td>\n",
       "    </tr>\n",
       "    <tr>\n",
       "      <th>4</th>\n",
       "      <td>5</td>\n",
       "      <td>2021-06-03 00:38:41 India Standard Time</td>\n",
       "      <td>usmanitoheed</td>\n",
       "      <td>@UsmaniToheed  This is the same mosque which u...</td>\n",
       "      <td>en</td>\n",
       "      <td>0.0</td>\n",
       "      <td>0.0</td>\n",
       "      <td>1</td>\n",
       "    </tr>\n",
       "    <tr>\n",
       "      <th>...</th>\n",
       "      <td>...</td>\n",
       "      <td>...</td>\n",
       "      <td>...</td>\n",
       "      <td>...</td>\n",
       "      <td>...</td>\n",
       "      <td>...</td>\n",
       "      <td>...</td>\n",
       "      <td>...</td>\n",
       "    </tr>\n",
       "    <tr>\n",
       "      <th>2435</th>\n",
       "      <td>1022</td>\n",
       "      <td>2021-06-01T09:45:16.000Z</td>\n",
       "      <td>NaN</td>\n",
       "      <td>Thinking about Covid-19 impacted families in m...</td>\n",
       "      <td>en</td>\n",
       "      <td>0.0</td>\n",
       "      <td>0.0</td>\n",
       "      <td>0</td>\n",
       "    </tr>\n",
       "    <tr>\n",
       "      <th>2436</th>\n",
       "      <td>1023</td>\n",
       "      <td>2021-06-01T09:12:36.000Z</td>\n",
       "      <td>NaN</td>\n",
       "      <td>#IndiaFightsCorona The entire Govt machinery i...</td>\n",
       "      <td>en</td>\n",
       "      <td>0.0</td>\n",
       "      <td>1.0</td>\n",
       "      <td>2</td>\n",
       "    </tr>\n",
       "    <tr>\n",
       "      <th>2437</th>\n",
       "      <td>1024</td>\n",
       "      <td>2021-06-01T08:08:54.000Z</td>\n",
       "      <td>NaN</td>\n",
       "      <td>One more young life .....covid 19 husband’s co...</td>\n",
       "      <td>en</td>\n",
       "      <td>1.0</td>\n",
       "      <td>0.0</td>\n",
       "      <td>1</td>\n",
       "    </tr>\n",
       "    <tr>\n",
       "      <th>2438</th>\n",
       "      <td>1025</td>\n",
       "      <td>2021-06-01T08:01:46.000Z</td>\n",
       "      <td>NaN</td>\n",
       "      <td>Replying to \\n@learner_vk\\n \\n@nsitharaman\\n a...</td>\n",
       "      <td>en</td>\n",
       "      <td>0.0</td>\n",
       "      <td>0.0</td>\n",
       "      <td>0</td>\n",
       "    </tr>\n",
       "    <tr>\n",
       "      <th>2439</th>\n",
       "      <td>1026</td>\n",
       "      <td>2021-06-01T02:27:12.000Z</td>\n",
       "      <td>NaN</td>\n",
       "      <td>These effective vaccines can protect me, my fa...</td>\n",
       "      <td>en</td>\n",
       "      <td>0.0</td>\n",
       "      <td>0.0</td>\n",
       "      <td>1</td>\n",
       "    </tr>\n",
       "  </tbody>\n",
       "</table>\n",
       "<p>2439 rows × 8 columns</p>\n",
       "</div>"
      ],
      "text/plain": [
       "      Unnamed: 0.1                               created_at         username  \\\n",
       "0                0  2021-06-03 03:35:55 India Standard Time    albosaily1958   \n",
       "1                2  2021-06-03 01:38:30 India Standard Time   stickwithchick   \n",
       "2                3  2021-06-03 00:59:28 India Standard Time        ssforgdel   \n",
       "3                4  2021-06-03 00:54:37 India Standard Time  msknowledgehub1   \n",
       "4                5  2021-06-03 00:38:41 India Standard Time     usmanitoheed   \n",
       "...            ...                                      ...              ...   \n",
       "2435          1022                 2021-06-01T09:45:16.000Z              NaN   \n",
       "2436          1023                 2021-06-01T09:12:36.000Z              NaN   \n",
       "2437          1024                 2021-06-01T08:08:54.000Z              NaN   \n",
       "2438          1025                 2021-06-01T08:01:46.000Z              NaN   \n",
       "2439          1026                 2021-06-01T02:27:12.000Z              NaN   \n",
       "\n",
       "                                                  tweet language  \\\n",
       "0     Did anyone notice a change in their psychologi...       en   \n",
       "1     Say goodbye to the “Indian,” “South African” a...       en   \n",
       "2     Dear all, Keep Donate Keep Retweet   https://t...       en   \n",
       "3     #jobseekers #jobvsmlm #MLM #directselling #net...       en   \n",
       "4     @UsmaniToheed  This is the same mosque which u...       en   \n",
       "...                                                 ...      ...   \n",
       "2435  Thinking about Covid-19 impacted families in m...       en   \n",
       "2436  #IndiaFightsCorona The entire Govt machinery i...       en   \n",
       "2437  One more young life .....covid 19 husband’s co...       en   \n",
       "2438  Replying to \\n@learner_vk\\n \\n@nsitharaman\\n a...       en   \n",
       "2439  These effective vaccines can protect me, my fa...       en   \n",
       "\n",
       "      replies_count  retweets_count likes_count  \n",
       "0               0.0             0.0           1  \n",
       "1               0.0             0.0           1  \n",
       "2               0.0             2.0           1  \n",
       "3               0.0             0.0           2  \n",
       "4               0.0             0.0           1  \n",
       "...             ...             ...         ...  \n",
       "2435            0.0             0.0           0  \n",
       "2436            0.0             1.0           2  \n",
       "2437            1.0             0.0           1  \n",
       "2438            0.0             0.0           0  \n",
       "2439            0.0             0.0           1  \n",
       "\n",
       "[2439 rows x 8 columns]"
      ]
     },
     "execution_count": 14,
     "metadata": {},
     "output_type": "execute_result"
    }
   ],
   "source": [
    "june"
   ]
  },
  {
   "cell_type": "code",
   "execution_count": 15,
   "metadata": {},
   "outputs": [],
   "source": [
    "juneTweet=june[['tweet','language']]"
   ]
  },
  {
   "cell_type": "code",
   "execution_count": 16,
   "metadata": {},
   "outputs": [
    {
     "data": {
      "text/html": [
       "<div>\n",
       "<style scoped>\n",
       "    .dataframe tbody tr th:only-of-type {\n",
       "        vertical-align: middle;\n",
       "    }\n",
       "\n",
       "    .dataframe tbody tr th {\n",
       "        vertical-align: top;\n",
       "    }\n",
       "\n",
       "    .dataframe thead th {\n",
       "        text-align: right;\n",
       "    }\n",
       "</style>\n",
       "<table border=\"1\" class=\"dataframe\">\n",
       "  <thead>\n",
       "    <tr style=\"text-align: right;\">\n",
       "      <th></th>\n",
       "      <th>tweet</th>\n",
       "      <th>language</th>\n",
       "    </tr>\n",
       "  </thead>\n",
       "  <tbody>\n",
       "    <tr>\n",
       "      <th>0</th>\n",
       "      <td>Did anyone notice a change in their psychologi...</td>\n",
       "      <td>en</td>\n",
       "    </tr>\n",
       "    <tr>\n",
       "      <th>1</th>\n",
       "      <td>Say goodbye to the “Indian,” “South African” a...</td>\n",
       "      <td>en</td>\n",
       "    </tr>\n",
       "    <tr>\n",
       "      <th>2</th>\n",
       "      <td>Dear all, Keep Donate Keep Retweet   https://t...</td>\n",
       "      <td>en</td>\n",
       "    </tr>\n",
       "    <tr>\n",
       "      <th>3</th>\n",
       "      <td>#jobseekers #jobvsmlm #MLM #directselling #net...</td>\n",
       "      <td>en</td>\n",
       "    </tr>\n",
       "    <tr>\n",
       "      <th>4</th>\n",
       "      <td>@UsmaniToheed  This is the same mosque which u...</td>\n",
       "      <td>en</td>\n",
       "    </tr>\n",
       "    <tr>\n",
       "      <th>...</th>\n",
       "      <td>...</td>\n",
       "      <td>...</td>\n",
       "    </tr>\n",
       "    <tr>\n",
       "      <th>2435</th>\n",
       "      <td>Thinking about Covid-19 impacted families in m...</td>\n",
       "      <td>en</td>\n",
       "    </tr>\n",
       "    <tr>\n",
       "      <th>2436</th>\n",
       "      <td>#IndiaFightsCorona The entire Govt machinery i...</td>\n",
       "      <td>en</td>\n",
       "    </tr>\n",
       "    <tr>\n",
       "      <th>2437</th>\n",
       "      <td>One more young life .....covid 19 husband’s co...</td>\n",
       "      <td>en</td>\n",
       "    </tr>\n",
       "    <tr>\n",
       "      <th>2438</th>\n",
       "      <td>Replying to \\n@learner_vk\\n \\n@nsitharaman\\n a...</td>\n",
       "      <td>en</td>\n",
       "    </tr>\n",
       "    <tr>\n",
       "      <th>2439</th>\n",
       "      <td>These effective vaccines can protect me, my fa...</td>\n",
       "      <td>en</td>\n",
       "    </tr>\n",
       "  </tbody>\n",
       "</table>\n",
       "<p>2439 rows × 2 columns</p>\n",
       "</div>"
      ],
      "text/plain": [
       "                                                  tweet language\n",
       "0     Did anyone notice a change in their psychologi...       en\n",
       "1     Say goodbye to the “Indian,” “South African” a...       en\n",
       "2     Dear all, Keep Donate Keep Retweet   https://t...       en\n",
       "3     #jobseekers #jobvsmlm #MLM #directselling #net...       en\n",
       "4     @UsmaniToheed  This is the same mosque which u...       en\n",
       "...                                                 ...      ...\n",
       "2435  Thinking about Covid-19 impacted families in m...       en\n",
       "2436  #IndiaFightsCorona The entire Govt machinery i...       en\n",
       "2437  One more young life .....covid 19 husband’s co...       en\n",
       "2438  Replying to \\n@learner_vk\\n \\n@nsitharaman\\n a...       en\n",
       "2439  These effective vaccines can protect me, my fa...       en\n",
       "\n",
       "[2439 rows x 2 columns]"
      ]
     },
     "execution_count": 16,
     "metadata": {},
     "output_type": "execute_result"
    }
   ],
   "source": [
    "juneTweet"
   ]
  },
  {
   "cell_type": "code",
   "execution_count": 17,
   "metadata": {},
   "outputs": [],
   "source": [
    "juneTweet=juneTweet.reset_index(level=None, drop=False, inplace=False, col_level=0, col_fill='')"
   ]
  },
  {
   "cell_type": "code",
   "execution_count": 18,
   "metadata": {},
   "outputs": [
    {
     "data": {
      "text/html": [
       "<div>\n",
       "<style scoped>\n",
       "    .dataframe tbody tr th:only-of-type {\n",
       "        vertical-align: middle;\n",
       "    }\n",
       "\n",
       "    .dataframe tbody tr th {\n",
       "        vertical-align: top;\n",
       "    }\n",
       "\n",
       "    .dataframe thead th {\n",
       "        text-align: right;\n",
       "    }\n",
       "</style>\n",
       "<table border=\"1\" class=\"dataframe\">\n",
       "  <thead>\n",
       "    <tr style=\"text-align: right;\">\n",
       "      <th></th>\n",
       "      <th>index</th>\n",
       "      <th>tweet</th>\n",
       "      <th>language</th>\n",
       "    </tr>\n",
       "  </thead>\n",
       "  <tbody>\n",
       "    <tr>\n",
       "      <th>0</th>\n",
       "      <td>0</td>\n",
       "      <td>Did anyone notice a change in their psychologi...</td>\n",
       "      <td>en</td>\n",
       "    </tr>\n",
       "    <tr>\n",
       "      <th>1</th>\n",
       "      <td>1</td>\n",
       "      <td>Say goodbye to the “Indian,” “South African” a...</td>\n",
       "      <td>en</td>\n",
       "    </tr>\n",
       "    <tr>\n",
       "      <th>2</th>\n",
       "      <td>2</td>\n",
       "      <td>Dear all, Keep Donate Keep Retweet   https://t...</td>\n",
       "      <td>en</td>\n",
       "    </tr>\n",
       "    <tr>\n",
       "      <th>3</th>\n",
       "      <td>3</td>\n",
       "      <td>#jobseekers #jobvsmlm #MLM #directselling #net...</td>\n",
       "      <td>en</td>\n",
       "    </tr>\n",
       "    <tr>\n",
       "      <th>4</th>\n",
       "      <td>4</td>\n",
       "      <td>@UsmaniToheed  This is the same mosque which u...</td>\n",
       "      <td>en</td>\n",
       "    </tr>\n",
       "    <tr>\n",
       "      <th>...</th>\n",
       "      <td>...</td>\n",
       "      <td>...</td>\n",
       "      <td>...</td>\n",
       "    </tr>\n",
       "    <tr>\n",
       "      <th>2434</th>\n",
       "      <td>2435</td>\n",
       "      <td>Thinking about Covid-19 impacted families in m...</td>\n",
       "      <td>en</td>\n",
       "    </tr>\n",
       "    <tr>\n",
       "      <th>2435</th>\n",
       "      <td>2436</td>\n",
       "      <td>#IndiaFightsCorona The entire Govt machinery i...</td>\n",
       "      <td>en</td>\n",
       "    </tr>\n",
       "    <tr>\n",
       "      <th>2436</th>\n",
       "      <td>2437</td>\n",
       "      <td>One more young life .....covid 19 husband’s co...</td>\n",
       "      <td>en</td>\n",
       "    </tr>\n",
       "    <tr>\n",
       "      <th>2437</th>\n",
       "      <td>2438</td>\n",
       "      <td>Replying to \\n@learner_vk\\n \\n@nsitharaman\\n a...</td>\n",
       "      <td>en</td>\n",
       "    </tr>\n",
       "    <tr>\n",
       "      <th>2438</th>\n",
       "      <td>2439</td>\n",
       "      <td>These effective vaccines can protect me, my fa...</td>\n",
       "      <td>en</td>\n",
       "    </tr>\n",
       "  </tbody>\n",
       "</table>\n",
       "<p>2439 rows × 3 columns</p>\n",
       "</div>"
      ],
      "text/plain": [
       "      index                                              tweet language\n",
       "0         0  Did anyone notice a change in their psychologi...       en\n",
       "1         1  Say goodbye to the “Indian,” “South African” a...       en\n",
       "2         2  Dear all, Keep Donate Keep Retweet   https://t...       en\n",
       "3         3  #jobseekers #jobvsmlm #MLM #directselling #net...       en\n",
       "4         4  @UsmaniToheed  This is the same mosque which u...       en\n",
       "...     ...                                                ...      ...\n",
       "2434   2435  Thinking about Covid-19 impacted families in m...       en\n",
       "2435   2436  #IndiaFightsCorona The entire Govt machinery i...       en\n",
       "2436   2437  One more young life .....covid 19 husband’s co...       en\n",
       "2437   2438  Replying to \\n@learner_vk\\n \\n@nsitharaman\\n a...       en\n",
       "2438   2439  These effective vaccines can protect me, my fa...       en\n",
       "\n",
       "[2439 rows x 3 columns]"
      ]
     },
     "execution_count": 18,
     "metadata": {},
     "output_type": "execute_result"
    }
   ],
   "source": [
    "juneTweet"
   ]
  },
  {
   "cell_type": "code",
   "execution_count": 19,
   "metadata": {},
   "outputs": [],
   "source": [
    "juneTweet.drop(['index'],axis=1,inplace=True)"
   ]
  },
  {
   "cell_type": "code",
   "execution_count": 20,
   "metadata": {},
   "outputs": [
    {
     "data": {
      "text/html": [
       "<div>\n",
       "<style scoped>\n",
       "    .dataframe tbody tr th:only-of-type {\n",
       "        vertical-align: middle;\n",
       "    }\n",
       "\n",
       "    .dataframe tbody tr th {\n",
       "        vertical-align: top;\n",
       "    }\n",
       "\n",
       "    .dataframe thead th {\n",
       "        text-align: right;\n",
       "    }\n",
       "</style>\n",
       "<table border=\"1\" class=\"dataframe\">\n",
       "  <thead>\n",
       "    <tr style=\"text-align: right;\">\n",
       "      <th></th>\n",
       "      <th>tweet</th>\n",
       "      <th>language</th>\n",
       "    </tr>\n",
       "  </thead>\n",
       "  <tbody>\n",
       "    <tr>\n",
       "      <th>0</th>\n",
       "      <td>Did anyone notice a change in their psychologi...</td>\n",
       "      <td>en</td>\n",
       "    </tr>\n",
       "    <tr>\n",
       "      <th>1</th>\n",
       "      <td>Say goodbye to the “Indian,” “South African” a...</td>\n",
       "      <td>en</td>\n",
       "    </tr>\n",
       "    <tr>\n",
       "      <th>2</th>\n",
       "      <td>Dear all, Keep Donate Keep Retweet   https://t...</td>\n",
       "      <td>en</td>\n",
       "    </tr>\n",
       "    <tr>\n",
       "      <th>3</th>\n",
       "      <td>#jobseekers #jobvsmlm #MLM #directselling #net...</td>\n",
       "      <td>en</td>\n",
       "    </tr>\n",
       "    <tr>\n",
       "      <th>4</th>\n",
       "      <td>@UsmaniToheed  This is the same mosque which u...</td>\n",
       "      <td>en</td>\n",
       "    </tr>\n",
       "    <tr>\n",
       "      <th>...</th>\n",
       "      <td>...</td>\n",
       "      <td>...</td>\n",
       "    </tr>\n",
       "    <tr>\n",
       "      <th>2434</th>\n",
       "      <td>Thinking about Covid-19 impacted families in m...</td>\n",
       "      <td>en</td>\n",
       "    </tr>\n",
       "    <tr>\n",
       "      <th>2435</th>\n",
       "      <td>#IndiaFightsCorona The entire Govt machinery i...</td>\n",
       "      <td>en</td>\n",
       "    </tr>\n",
       "    <tr>\n",
       "      <th>2436</th>\n",
       "      <td>One more young life .....covid 19 husband’s co...</td>\n",
       "      <td>en</td>\n",
       "    </tr>\n",
       "    <tr>\n",
       "      <th>2437</th>\n",
       "      <td>Replying to \\n@learner_vk\\n \\n@nsitharaman\\n a...</td>\n",
       "      <td>en</td>\n",
       "    </tr>\n",
       "    <tr>\n",
       "      <th>2438</th>\n",
       "      <td>These effective vaccines can protect me, my fa...</td>\n",
       "      <td>en</td>\n",
       "    </tr>\n",
       "  </tbody>\n",
       "</table>\n",
       "<p>2439 rows × 2 columns</p>\n",
       "</div>"
      ],
      "text/plain": [
       "                                                  tweet language\n",
       "0     Did anyone notice a change in their psychologi...       en\n",
       "1     Say goodbye to the “Indian,” “South African” a...       en\n",
       "2     Dear all, Keep Donate Keep Retweet   https://t...       en\n",
       "3     #jobseekers #jobvsmlm #MLM #directselling #net...       en\n",
       "4     @UsmaniToheed  This is the same mosque which u...       en\n",
       "...                                                 ...      ...\n",
       "2434  Thinking about Covid-19 impacted families in m...       en\n",
       "2435  #IndiaFightsCorona The entire Govt machinery i...       en\n",
       "2436  One more young life .....covid 19 husband’s co...       en\n",
       "2437  Replying to \\n@learner_vk\\n \\n@nsitharaman\\n a...       en\n",
       "2438  These effective vaccines can protect me, my fa...       en\n",
       "\n",
       "[2439 rows x 2 columns]"
      ]
     },
     "execution_count": 20,
     "metadata": {},
     "output_type": "execute_result"
    }
   ],
   "source": [
    "juneTweet"
   ]
  },
  {
   "cell_type": "code",
   "execution_count": 21,
   "metadata": {},
   "outputs": [],
   "source": [
    "juneTweet.to_csv('juneTweet.csv')"
   ]
  },
  {
   "cell_type": "markdown",
   "metadata": {},
   "source": [
    "### --------REMOVING HASTAGS--------- ###"
   ]
  },
  {
   "cell_type": "code",
   "execution_count": 22,
   "metadata": {},
   "outputs": [],
   "source": [
    "juneTweet['hastags']=np.nan"
   ]
  },
  {
   "cell_type": "code",
   "execution_count": 23,
   "metadata": {},
   "outputs": [],
   "source": [
    "def extract_hastags(text,i=0):\n",
    "    hashtag_list = []\n",
    "    for word in text.split():\n",
    "        if word[0] == '#':\n",
    "            hashtag_list.append(word[0:])\n",
    "    juneTweet['hastags'][i]=hashtag_list\n",
    "    i+=1\n"
   ]
  },
  {
   "cell_type": "code",
   "execution_count": 24,
   "metadata": {},
   "outputs": [
    {
     "name": "stdout",
     "output_type": "stream",
     "text": [
      "RangeIndex(start=0, stop=2439, step=1)\n"
     ]
    }
   ],
   "source": [
    "index=juneTweet.index\n",
    "print(index)"
   ]
  },
  {
   "cell_type": "code",
   "execution_count": 28,
   "metadata": {},
   "outputs": [],
   "source": [
    "extract_hastags(juneTweet['tweet'][8],8)"
   ]
  },
  {
   "cell_type": "code",
   "execution_count": 29,
   "metadata": {},
   "outputs": [
    {
     "data": {
      "text/plain": [
       "[]"
      ]
     },
     "execution_count": 29,
     "metadata": {},
     "output_type": "execute_result"
    }
   ],
   "source": [
    "juneTweet['hastags'][8]"
   ]
  },
  {
   "cell_type": "code",
   "execution_count": 30,
   "metadata": {},
   "outputs": [],
   "source": [
    "for i in range(0,2439):\n",
    "    text=juneTweet['tweet'][i]\n",
    "    extract_hastags(text,i)\n"
   ]
  },
  {
   "cell_type": "code",
   "execution_count": 31,
   "metadata": {},
   "outputs": [
    {
     "data": {
      "text/plain": [
       "0                                                      []\n",
       "1                                                      []\n",
       "2       [#milaap, #verified, #campaign, #COVID19, #cor...\n",
       "3       [#jobseekers, #jobvsmlm, #MLM, #directselling,...\n",
       "4               [#jamamasjid, #India, #DelhiFightsCorona]\n",
       "                              ...                        \n",
       "2434                          [#spirit, #india, #empathy]\n",
       "2435                  [#IndiaFightsCorona, #7YearsOfSeva]\n",
       "2436                                             [#COVID]\n",
       "2437                                                   []\n",
       "2438    [#VaccinesWork, #proudTCSer, #GotTheDose, #Uni...\n",
       "Name: hastags, Length: 2439, dtype: object"
      ]
     },
     "execution_count": 31,
     "metadata": {},
     "output_type": "execute_result"
    }
   ],
   "source": [
    "juneTweet['hastags']"
   ]
  },
  {
   "cell_type": "markdown",
   "metadata": {},
   "source": [
    "### ---- Removing @texts ----"
   ]
  },
  {
   "cell_type": "code",
   "execution_count": 32,
   "metadata": {},
   "outputs": [],
   "source": [
    "juneTweet['attherate']=np.nan"
   ]
  },
  {
   "cell_type": "code",
   "execution_count": 33,
   "metadata": {},
   "outputs": [],
   "source": [
    "def extract_attherate(text,i=0):\n",
    "    attherate_list = []\n",
    "    for word in text.split():\n",
    "        if word[0] == '@':\n",
    "            attherate_list.append(word[0:])\n",
    "    juneTweet['attherate'][i]=attherate_list\n",
    "    i+=1"
   ]
  },
  {
   "cell_type": "code",
   "execution_count": 36,
   "metadata": {},
   "outputs": [],
   "source": [
    "for i in range(0,2439):\n",
    "    text=juneTweet['tweet'][i]\n",
    "    extract_attherate(text,i)\n"
   ]
  },
  {
   "cell_type": "code",
   "execution_count": 37,
   "metadata": {},
   "outputs": [
    {
     "data": {
      "text/plain": [
       "0                                               []\n",
       "1                                               []\n",
       "2                                               []\n",
       "3                                               []\n",
       "4                                  [@UsmaniToheed]\n",
       "                           ...                    \n",
       "2434                                            []\n",
       "2435                                            []\n",
       "2436                                            []\n",
       "2437    [@learner_vk, @nsitharaman, @timesofindia]\n",
       "2438                                            []\n",
       "Name: attherate, Length: 2439, dtype: object"
      ]
     },
     "execution_count": 37,
     "metadata": {},
     "output_type": "execute_result"
    }
   ],
   "source": [
    "juneTweet['attherate']"
   ]
  },
  {
   "cell_type": "code",
   "execution_count": 38,
   "metadata": {},
   "outputs": [],
   "source": [
    "juneTweet.to_csv('juneTweet.csv')"
   ]
  },
  {
   "cell_type": "code",
   "execution_count": 39,
   "metadata": {},
   "outputs": [],
   "source": [
    "juneTweet['urls']=np.nan"
   ]
  },
  {
   "cell_type": "code",
   "execution_count": 40,
   "metadata": {},
   "outputs": [],
   "source": [
    "def extract_urls(text,i=0):\n",
    "    attherate_list = []\n",
    "    for word in text.split():\n",
    "        if word[0:5] == 'https':\n",
    "            attherate_list.append(word[0:])\n",
    "    juneTweet['urls'][i]=attherate_list\n",
    "    i+=1"
   ]
  },
  {
   "cell_type": "code",
   "execution_count": 41,
   "metadata": {},
   "outputs": [
    {
     "data": {
      "text/plain": [
       "'Say goodbye to the “Indian,” “South African” and \"British\" Coronavirus variants.  According to the World Health Organization, they’re the Delta, Beta and Alpha variants now.   https://t.co/nkQo4IdGqO'"
      ]
     },
     "execution_count": 41,
     "metadata": {},
     "output_type": "execute_result"
    }
   ],
   "source": [
    "juneTweet['tweet'][1]"
   ]
  },
  {
   "cell_type": "code",
   "execution_count": 42,
   "metadata": {},
   "outputs": [
    {
     "name": "stderr",
     "output_type": "stream",
     "text": [
      "C:\\Users\\gango\\AppData\\Local\\Temp/ipykernel_7424/2151850754.py:6: SettingWithCopyWarning: \n",
      "A value is trying to be set on a copy of a slice from a DataFrame\n",
      "\n",
      "See the caveats in the documentation: https://pandas.pydata.org/pandas-docs/stable/user_guide/indexing.html#returning-a-view-versus-a-copy\n",
      "  juneTweet['urls'][i]=attherate_list\n"
     ]
    }
   ],
   "source": [
    "extract_urls(juneTweet['tweet'][1],1)"
   ]
  },
  {
   "cell_type": "code",
   "execution_count": 43,
   "metadata": {},
   "outputs": [
    {
     "data": {
      "text/plain": [
       "['https://t.co/nkQo4IdGqO']"
      ]
     },
     "execution_count": 43,
     "metadata": {},
     "output_type": "execute_result"
    }
   ],
   "source": [
    "juneTweet['urls'][1]"
   ]
  },
  {
   "cell_type": "code",
   "execution_count": 44,
   "metadata": {},
   "outputs": [],
   "source": [
    "for i in range(0,2439):\n",
    "    text=juneTweet['tweet'][i]\n",
    "    extract_urls(text,i)\n"
   ]
  },
  {
   "cell_type": "code",
   "execution_count": 45,
   "metadata": {},
   "outputs": [
    {
     "data": {
      "text/plain": [
       "0                              []\n",
       "1       [https://t.co/nkQo4IdGqO]\n",
       "2       [https://t.co/TRRT59Sd8K]\n",
       "3       [https://t.co/fcj7letDwE]\n",
       "4       [https://t.co/KHGP0eLUT0]\n",
       "                  ...            \n",
       "2434                           []\n",
       "2435                           []\n",
       "2436                           []\n",
       "2437                           []\n",
       "2438                           []\n",
       "Name: urls, Length: 2439, dtype: object"
      ]
     },
     "execution_count": 45,
     "metadata": {},
     "output_type": "execute_result"
    }
   ],
   "source": [
    "juneTweet['urls']"
   ]
  },
  {
   "cell_type": "code",
   "execution_count": 46,
   "metadata": {},
   "outputs": [],
   "source": [
    "juneTweet.to_csv('juneTweet.csv')"
   ]
  },
  {
   "cell_type": "code",
   "execution_count": 47,
   "metadata": {},
   "outputs": [
    {
     "data": {
      "text/html": [
       "<div>\n",
       "<style scoped>\n",
       "    .dataframe tbody tr th:only-of-type {\n",
       "        vertical-align: middle;\n",
       "    }\n",
       "\n",
       "    .dataframe tbody tr th {\n",
       "        vertical-align: top;\n",
       "    }\n",
       "\n",
       "    .dataframe thead th {\n",
       "        text-align: right;\n",
       "    }\n",
       "</style>\n",
       "<table border=\"1\" class=\"dataframe\">\n",
       "  <thead>\n",
       "    <tr style=\"text-align: right;\">\n",
       "      <th></th>\n",
       "      <th>tweet</th>\n",
       "      <th>language</th>\n",
       "      <th>hastags</th>\n",
       "      <th>attherate</th>\n",
       "      <th>urls</th>\n",
       "    </tr>\n",
       "  </thead>\n",
       "  <tbody>\n",
       "    <tr>\n",
       "      <th>0</th>\n",
       "      <td>Did anyone notice a change in their psychologi...</td>\n",
       "      <td>en</td>\n",
       "      <td>[]</td>\n",
       "      <td>[]</td>\n",
       "      <td>[]</td>\n",
       "    </tr>\n",
       "    <tr>\n",
       "      <th>1</th>\n",
       "      <td>Say goodbye to the “Indian,” “South African” a...</td>\n",
       "      <td>en</td>\n",
       "      <td>[]</td>\n",
       "      <td>[]</td>\n",
       "      <td>[https://t.co/nkQo4IdGqO]</td>\n",
       "    </tr>\n",
       "    <tr>\n",
       "      <th>2</th>\n",
       "      <td>Dear all, Keep Donate Keep Retweet   https://t...</td>\n",
       "      <td>en</td>\n",
       "      <td>[#milaap, #verified, #campaign, #COVID19, #cor...</td>\n",
       "      <td>[]</td>\n",
       "      <td>[https://t.co/TRRT59Sd8K]</td>\n",
       "    </tr>\n",
       "    <tr>\n",
       "      <th>3</th>\n",
       "      <td>#jobseekers #jobvsmlm #MLM #directselling #net...</td>\n",
       "      <td>en</td>\n",
       "      <td>[#jobseekers, #jobvsmlm, #MLM, #directselling,...</td>\n",
       "      <td>[]</td>\n",
       "      <td>[https://t.co/fcj7letDwE]</td>\n",
       "    </tr>\n",
       "    <tr>\n",
       "      <th>4</th>\n",
       "      <td>@UsmaniToheed  This is the same mosque which u...</td>\n",
       "      <td>en</td>\n",
       "      <td>[#jamamasjid, #India, #DelhiFightsCorona]</td>\n",
       "      <td>[@UsmaniToheed]</td>\n",
       "      <td>[https://t.co/KHGP0eLUT0]</td>\n",
       "    </tr>\n",
       "    <tr>\n",
       "      <th>...</th>\n",
       "      <td>...</td>\n",
       "      <td>...</td>\n",
       "      <td>...</td>\n",
       "      <td>...</td>\n",
       "      <td>...</td>\n",
       "    </tr>\n",
       "    <tr>\n",
       "      <th>2434</th>\n",
       "      <td>Thinking about Covid-19 impacted families in m...</td>\n",
       "      <td>en</td>\n",
       "      <td>[#spirit, #india, #empathy]</td>\n",
       "      <td>[]</td>\n",
       "      <td>[]</td>\n",
       "    </tr>\n",
       "    <tr>\n",
       "      <th>2435</th>\n",
       "      <td>#IndiaFightsCorona The entire Govt machinery i...</td>\n",
       "      <td>en</td>\n",
       "      <td>[#IndiaFightsCorona, #7YearsOfSeva]</td>\n",
       "      <td>[]</td>\n",
       "      <td>[]</td>\n",
       "    </tr>\n",
       "    <tr>\n",
       "      <th>2436</th>\n",
       "      <td>One more young life .....covid 19 husband’s co...</td>\n",
       "      <td>en</td>\n",
       "      <td>[#COVID]</td>\n",
       "      <td>[]</td>\n",
       "      <td>[]</td>\n",
       "    </tr>\n",
       "    <tr>\n",
       "      <th>2437</th>\n",
       "      <td>Replying to \\n@learner_vk\\n \\n@nsitharaman\\n a...</td>\n",
       "      <td>en</td>\n",
       "      <td>[]</td>\n",
       "      <td>[@learner_vk, @nsitharaman, @timesofindia]</td>\n",
       "      <td>[]</td>\n",
       "    </tr>\n",
       "    <tr>\n",
       "      <th>2438</th>\n",
       "      <td>These effective vaccines can protect me, my fa...</td>\n",
       "      <td>en</td>\n",
       "      <td>[#VaccinesWork, #proudTCSer, #GotTheDose, #Uni...</td>\n",
       "      <td>[]</td>\n",
       "      <td>[]</td>\n",
       "    </tr>\n",
       "  </tbody>\n",
       "</table>\n",
       "<p>2439 rows × 5 columns</p>\n",
       "</div>"
      ],
      "text/plain": [
       "                                                  tweet language  \\\n",
       "0     Did anyone notice a change in their psychologi...       en   \n",
       "1     Say goodbye to the “Indian,” “South African” a...       en   \n",
       "2     Dear all, Keep Donate Keep Retweet   https://t...       en   \n",
       "3     #jobseekers #jobvsmlm #MLM #directselling #net...       en   \n",
       "4     @UsmaniToheed  This is the same mosque which u...       en   \n",
       "...                                                 ...      ...   \n",
       "2434  Thinking about Covid-19 impacted families in m...       en   \n",
       "2435  #IndiaFightsCorona The entire Govt machinery i...       en   \n",
       "2436  One more young life .....covid 19 husband’s co...       en   \n",
       "2437  Replying to \\n@learner_vk\\n \\n@nsitharaman\\n a...       en   \n",
       "2438  These effective vaccines can protect me, my fa...       en   \n",
       "\n",
       "                                                hastags  \\\n",
       "0                                                    []   \n",
       "1                                                    []   \n",
       "2     [#milaap, #verified, #campaign, #COVID19, #cor...   \n",
       "3     [#jobseekers, #jobvsmlm, #MLM, #directselling,...   \n",
       "4             [#jamamasjid, #India, #DelhiFightsCorona]   \n",
       "...                                                 ...   \n",
       "2434                        [#spirit, #india, #empathy]   \n",
       "2435                [#IndiaFightsCorona, #7YearsOfSeva]   \n",
       "2436                                           [#COVID]   \n",
       "2437                                                 []   \n",
       "2438  [#VaccinesWork, #proudTCSer, #GotTheDose, #Uni...   \n",
       "\n",
       "                                       attherate                       urls  \n",
       "0                                             []                         []  \n",
       "1                                             []  [https://t.co/nkQo4IdGqO]  \n",
       "2                                             []  [https://t.co/TRRT59Sd8K]  \n",
       "3                                             []  [https://t.co/fcj7letDwE]  \n",
       "4                                [@UsmaniToheed]  [https://t.co/KHGP0eLUT0]  \n",
       "...                                          ...                        ...  \n",
       "2434                                          []                         []  \n",
       "2435                                          []                         []  \n",
       "2436                                          []                         []  \n",
       "2437  [@learner_vk, @nsitharaman, @timesofindia]                         []  \n",
       "2438                                          []                         []  \n",
       "\n",
       "[2439 rows x 5 columns]"
      ]
     },
     "execution_count": 47,
     "metadata": {},
     "output_type": "execute_result"
    }
   ],
   "source": [
    "juneTweet"
   ]
  },
  {
   "cell_type": "code",
   "execution_count": 48,
   "metadata": {},
   "outputs": [],
   "source": [
    "juneTweet['tokenized_Tweet']=np.nan"
   ]
  },
  {
   "cell_type": "code",
   "execution_count": 49,
   "metadata": {},
   "outputs": [],
   "source": [
    "def tokenizing(text,i=0):\n",
    "    text=tb(text)\n",
    "    token_text=text.words\n",
    "    token_text\n",
    "    juneTweet['tokenized_Tweet'][i]=token_text"
   ]
  },
  {
   "cell_type": "code",
   "execution_count": 50,
   "metadata": {},
   "outputs": [
    {
     "name": "stderr",
     "output_type": "stream",
     "text": [
      "C:\\Users\\gango\\AppData\\Local\\Temp/ipykernel_7424/697914153.py:5: SettingWithCopyWarning: \n",
      "A value is trying to be set on a copy of a slice from a DataFrame\n",
      "\n",
      "See the caveats in the documentation: https://pandas.pydata.org/pandas-docs/stable/user_guide/indexing.html#returning-a-view-versus-a-copy\n",
      "  juneTweet['tokenized_Tweet'][i]=token_text\n",
      "C:\\Users\\gango\\anaconda3\\lib\\site-packages\\pandas\\core\\indexing.py:1732: SettingWithCopyWarning: \n",
      "A value is trying to be set on a copy of a slice from a DataFrame\n",
      "\n",
      "See the caveats in the documentation: https://pandas.pydata.org/pandas-docs/stable/user_guide/indexing.html#returning-a-view-versus-a-copy\n",
      "  self._setitem_single_block(indexer, value, name)\n"
     ]
    }
   ],
   "source": [
    "tokenizing(juneTweet['tweet'][0],0)"
   ]
  },
  {
   "cell_type": "code",
   "execution_count": 51,
   "metadata": {},
   "outputs": [
    {
     "data": {
      "text/plain": [
       "WordList(['Did', 'anyone', 'notice', 'a', 'change', 'in', 'their', 'psychological', 'and', 'physical', 'condition', 'after', 'he', 'took', 'the', 'coronavirus', 'vaccine'])"
      ]
     },
     "execution_count": 51,
     "metadata": {},
     "output_type": "execute_result"
    }
   ],
   "source": [
    "juneTweet['tokenized_Tweet'][0]"
   ]
  },
  {
   "cell_type": "code",
   "execution_count": 52,
   "metadata": {},
   "outputs": [
    {
     "data": {
      "text/plain": [
       "'Did anyone notice a change in their psychological and physical condition after he took the coronavirus vaccine?'"
      ]
     },
     "execution_count": 52,
     "metadata": {},
     "output_type": "execute_result"
    }
   ],
   "source": [
    "juneTweet['tweet'][0]"
   ]
  },
  {
   "cell_type": "code",
   "execution_count": 53,
   "metadata": {},
   "outputs": [],
   "source": [
    "for i in range(0,2439):\n",
    "    text=juneTweet['tweet'][i]\n",
    "    tokenizing(text,i)"
   ]
  },
  {
   "cell_type": "code",
   "execution_count": 54,
   "metadata": {},
   "outputs": [
    {
     "data": {
      "text/plain": [
       "0       [Did, anyone, notice, a, change, in, their, ps...\n",
       "1       [Say, goodbye, to, the, “, Indian, ”, “, South...\n",
       "2       [Dear, all, Keep, Donate, Keep, Retweet, https...\n",
       "3       [jobseekers, jobvsmlm, MLM, directselling, net...\n",
       "4       [UsmaniToheed, This, is, the, same, mosque, wh...\n",
       "                              ...                        \n",
       "2434    [Thinking, about, Covid-19, impacted, families...\n",
       "2435    [IndiaFightsCorona, The, entire, Govt, machine...\n",
       "2436    [One, more, young, life, covid, 19, husband, ’...\n",
       "2437    [Replying, to, learner_vk, nsitharaman, and, t...\n",
       "2438    [These, effective, vaccines, can, protect, me,...\n",
       "Name: tokenized_Tweet, Length: 2439, dtype: object"
      ]
     },
     "execution_count": 54,
     "metadata": {},
     "output_type": "execute_result"
    }
   ],
   "source": [
    "juneTweet['tokenized_Tweet']"
   ]
  },
  {
   "cell_type": "code",
   "execution_count": 55,
   "metadata": {},
   "outputs": [],
   "source": [
    "juneTweet.to_csv('juneTweet.csv')"
   ]
  }
 ],
 "metadata": {
  "interpreter": {
   "hash": "204572981a9c880a2832b5713da616a32be7f6f4a56a8320d89604bb1cfd1343"
  },
  "kernelspec": {
   "display_name": "Python 3.10.2 64-bit",
   "language": "python",
   "name": "python3"
  },
  "language_info": {
   "codemirror_mode": {
    "name": "ipython",
    "version": 3
   },
   "file_extension": ".py",
   "mimetype": "text/x-python",
   "name": "python",
   "nbconvert_exporter": "python",
   "pygments_lexer": "ipython3",
   "version": "3.9.7"
  },
  "orig_nbformat": 4
 },
 "nbformat": 4,
 "nbformat_minor": 2
}
