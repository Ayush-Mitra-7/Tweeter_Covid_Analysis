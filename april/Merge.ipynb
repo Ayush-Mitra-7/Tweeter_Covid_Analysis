{
 "cells": [
  {
   "cell_type": "code",
   "execution_count": 1,
   "metadata": {},
   "outputs": [],
   "source": [
    "import pandas as pd\n",
    "import numpy as np"
   ]
  },
  {
   "cell_type": "code",
   "execution_count": 2,
   "metadata": {},
   "outputs": [],
   "source": [
    "def MergeDataFrame(Df1,Df2):\n",
    "    Df=pd.concat([Df1,Df2])\n",
    "    return Df"
   ]
  },
  {
   "cell_type": "code",
   "execution_count": 3,
   "metadata": {},
   "outputs": [],
   "source": [
    "aprilAyush_covid=pd.read_csv('april(T-covid).csv')\n",
    "aprilAyush_Covid_19=pd.read_csv('april(T-Covid_19).csv')\n",
    "aprilAyush_remdesivir=pd.read_csv('april(T-remdesivir).csv')"
   ]
  },
  {
   "cell_type": "code",
   "execution_count": 4,
   "metadata": {},
   "outputs": [],
   "source": [
    "t1=MergeDataFrame(aprilAyush_covid,aprilAyush_Covid_19)\n",
    "Ayushapril=MergeDataFrame(aprilAyush_remdesivir,t1)"
   ]
  },
  {
   "cell_type": "code",
   "execution_count": 5,
   "metadata": {},
   "outputs": [
    {
     "data": {
      "text/plain": [
       "(764, 36)"
      ]
     },
     "execution_count": 5,
     "metadata": {},
     "output_type": "execute_result"
    }
   ],
   "source": [
    "Ayushapril.shape"
   ]
  },
  {
   "cell_type": "code",
   "execution_count": 6,
   "metadata": {},
   "outputs": [],
   "source": [
    "aprilGangotri_CoronaVirus=pd.read_csv('april(TG-CoronaVirus).csv')\n",
    "aprilGangotri_curfew=pd.read_csv('april(TG-curfew).csv')\n",
    "aprilGangotri_vaccine=pd.read_csv('april(TG-vaccine).csv')"
   ]
  },
  {
   "cell_type": "code",
   "execution_count": 7,
   "metadata": {},
   "outputs": [],
   "source": [
    "t1=MergeDataFrame(aprilGangotri_CoronaVirus,aprilGangotri_curfew)\n",
    "Gangotriapril=MergeDataFrame(aprilGangotri_vaccine,t1)"
   ]
  },
  {
   "cell_type": "code",
   "execution_count": 8,
   "metadata": {},
   "outputs": [
    {
     "data": {
      "text/plain": [
       "(890, 36)"
      ]
     },
     "execution_count": 8,
     "metadata": {},
     "output_type": "execute_result"
    }
   ],
   "source": [
    "Gangotriapril.shape"
   ]
  },
  {
   "cell_type": "code",
   "execution_count": 9,
   "metadata": {},
   "outputs": [],
   "source": [
    "aprilMahabub_corona=pd.read_csv('april(t)_corona.csv')\n",
    "aprilMahabub_COVID_19=pd.read_csv('april(t)_COVID_19.csv')\n",
    "aprilMahabub_COVID=pd.read_csv('april(t)_COVID.csv')"
   ]
  },
  {
   "cell_type": "code",
   "execution_count": 10,
   "metadata": {},
   "outputs": [],
   "source": [
    "t1=MergeDataFrame(aprilMahabub_corona,aprilMahabub_COVID_19)\n",
    "Mahabubapril=MergeDataFrame(aprilMahabub_COVID,t1)"
   ]
  },
  {
   "cell_type": "code",
   "execution_count": 11,
   "metadata": {},
   "outputs": [
    {
     "data": {
      "text/plain": [
       "(1797, 36)"
      ]
     },
     "execution_count": 11,
     "metadata": {},
     "output_type": "execute_result"
    }
   ],
   "source": [
    "Mahabubapril.shape"
   ]
  },
  {
   "cell_type": "code",
   "execution_count": 12,
   "metadata": {},
   "outputs": [],
   "source": [
    "t1=MergeDataFrame(Ayushapril,Gangotriapril)\n",
    "aprilKey=MergeDataFrame(Mahabubapril,t1) "
   ]
  },
  {
   "cell_type": "code",
   "execution_count": 13,
   "metadata": {},
   "outputs": [
    {
     "data": {
      "text/plain": [
       "(3451, 36)"
      ]
     },
     "execution_count": 13,
     "metadata": {},
     "output_type": "execute_result"
    }
   ],
   "source": [
    "aprilKey.shape"
   ]
  },
  {
   "cell_type": "code",
   "execution_count": 14,
   "metadata": {},
   "outputs": [],
   "source": [
    "aprilL=pd.read_csv('covidTweets(april-2021-latest).csv.csv')\n",
    "aprilT=pd.read_csv('covidTweets(april-2021-TopSection).csv')"
   ]
  },
  {
   "cell_type": "code",
   "execution_count": 15,
   "metadata": {},
   "outputs": [
    {
     "name": "stdout",
     "output_type": "stream",
     "text": [
      "Index(['UserName', 'userhandle', 'Time', 'comments', 'retweets', 'likes',\n",
      "       'Tweet'],\n",
      "      dtype='object') Index(['UserName', 'userhandle', 'Time', 'comments', 'retweets', 'likes',\n",
      "       'Tweet'],\n",
      "      dtype='object')\n"
     ]
    }
   ],
   "source": [
    "a=aprilL.columns\n",
    "b=aprilT.columns\n",
    "print(a,b)"
   ]
  },
  {
   "cell_type": "code",
   "execution_count": 16,
   "metadata": {},
   "outputs": [],
   "source": [
    "aprilLT=MergeDataFrame(aprilL,aprilT)"
   ]
  },
  {
   "cell_type": "code",
   "execution_count": 17,
   "metadata": {},
   "outputs": [
    {
     "data": {
      "text/plain": [
       "Index(['UserName', 'userhandle', 'Time', 'comments', 'retweets', 'likes',\n",
       "       'Tweet'],\n",
       "      dtype='object')"
      ]
     },
     "execution_count": 17,
     "metadata": {},
     "output_type": "execute_result"
    }
   ],
   "source": [
    "aprilLT.columns"
   ]
  },
  {
   "cell_type": "code",
   "execution_count": 18,
   "metadata": {},
   "outputs": [],
   "source": [
    "aprilLT.drop(['userhandle'], axis=1, inplace=True)\n",
    "aprilLT = aprilLT.rename(columns={'UserName': 'username', 'Time': 'created_at', 'comments': 'replies_count',\n",
    "                     'retweets': 'retweets_count', 'likes': 'likes_count', 'Tweet': 'tweet','retweets':'retweets_count'})\n",
    "aprilLT[\"language\"]='en'"
   ]
  },
  {
   "cell_type": "code",
   "execution_count": 19,
   "metadata": {},
   "outputs": [
    {
     "data": {
      "text/plain": [
       "(3451, 7)"
      ]
     },
     "execution_count": 19,
     "metadata": {},
     "output_type": "execute_result"
    }
   ],
   "source": [
    "aprilKey.drop(['trans_dest', 'trans_src', 'retweet_id', 'reply_to', 'retweet_date', 'translate', 'geo', 'source', 'user_rt_id', 'user_rt', 'video', 'thumbnail', 'quote_url', 'near',\n",
    "                 'id', 'conversation_id', 'date', 'time', 'place', 'mentions', 'urls', 'photos', 'hashtags', 'cashtags', 'link', 'retweet', 'timezone', 'user_id', 'name'], axis=1, inplace=True)\n",
    "aprilKey.shape"
   ]
  },
  {
   "cell_type": "code",
   "execution_count": 20,
   "metadata": {},
   "outputs": [],
   "source": [
    "april_Raw=MergeDataFrame(aprilKey,aprilLT)"
   ]
  },
  {
   "cell_type": "code",
   "execution_count": 21,
   "metadata": {},
   "outputs": [
    {
     "data": {
      "text/plain": [
       "(3980, 7)"
      ]
     },
     "execution_count": 21,
     "metadata": {},
     "output_type": "execute_result"
    }
   ],
   "source": [
    "april_Raw.shape"
   ]
  },
  {
   "cell_type": "code",
   "execution_count": null,
   "metadata": {},
   "outputs": [],
   "source": [
    "april_Raw.to_csv('APRILFINALTWEET(RAW).csv')"
   ]
  }
 ],
 "metadata": {
  "interpreter": {
   "hash": "0e861e0b67293902224e9acfb8ab2e3cf2b4facd370dfc6bbb77427def9848a9"
  },
  "kernelspec": {
   "display_name": "Python 3.8.8 ('base')",
   "language": "python",
   "name": "python3"
  },
  "language_info": {
   "codemirror_mode": {
    "name": "ipython",
    "version": 3
   },
   "file_extension": ".py",
   "mimetype": "text/x-python",
   "name": "python",
   "nbconvert_exporter": "python",
   "pygments_lexer": "ipython3",
   "version": "3.9.6"
  },
  "orig_nbformat": 4
 },
 "nbformat": 4,
 "nbformat_minor": 2
}
