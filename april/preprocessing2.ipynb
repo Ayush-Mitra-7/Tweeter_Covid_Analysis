{
 "cells": [
  {
   "cell_type": "code",
   "execution_count": 1,
   "metadata": {},
   "outputs": [],
   "source": [
    "import pandas as pd\n",
    "import numpy as np\n",
    "import math\n",
    "from textblob import TextBlob as tb\n",
    "import re\n",
    "from nltk.corpus import stopwords\n",
    "import neattext.functions as nfx\n",
    "import emoji\n",
    "import advertools as adv"
   ]
  },
  {
   "cell_type": "code",
   "execution_count": 2,
   "metadata": {},
   "outputs": [],
   "source": [
    "AprilTweet=pd.read_csv('AprilTweet_(with Emojis and other language within eng sentence).csv')"
   ]
  },
  {
   "cell_type": "code",
   "execution_count": 5,
   "metadata": {},
   "outputs": [],
   "source": [
    "AprilTweet['clean_tweet'] =AprilTweet['tweet'].apply(nfx.remove_hashtags)"
   ]
  },
  {
   "cell_type": "code",
   "execution_count": 6,
   "metadata": {},
   "outputs": [],
   "source": [
    "AprilTweet['clean_tweet'] = AprilTweet['clean_tweet'].apply(lambda x: nfx.remove_userhandles(x))"
   ]
  },
  {
   "cell_type": "code",
   "execution_count": 7,
   "metadata": {},
   "outputs": [],
   "source": [
    "AprilTweet['clean_tweet'] =AprilTweet['clean_tweet'].apply(nfx.remove_multiple_spaces)"
   ]
  },
  {
   "cell_type": "code",
   "execution_count": 8,
   "metadata": {},
   "outputs": [],
   "source": [
    "AprilTweet['clean_tweet'] = AprilTweet['clean_tweet'].apply(nfx.remove_urls)"
   ]
  },
  {
   "cell_type": "code",
   "execution_count": 9,
   "metadata": {},
   "outputs": [
    {
     "data": {
      "text/html": [
       "<div>\n",
       "<style scoped>\n",
       "    .dataframe tbody tr th:only-of-type {\n",
       "        vertical-align: middle;\n",
       "    }\n",
       "\n",
       "    .dataframe tbody tr th {\n",
       "        vertical-align: top;\n",
       "    }\n",
       "\n",
       "    .dataframe thead th {\n",
       "        text-align: right;\n",
       "    }\n",
       "</style>\n",
       "<table border=\"1\" class=\"dataframe\">\n",
       "  <thead>\n",
       "    <tr style=\"text-align: right;\">\n",
       "      <th></th>\n",
       "      <th>tweet</th>\n",
       "      <th>clean_tweet</th>\n",
       "    </tr>\n",
       "  </thead>\n",
       "  <tbody>\n",
       "    <tr>\n",
       "      <th>0</th>\n",
       "      <td>COVID infection leads to clousure of two Jamsh...</td>\n",
       "      <td>COVID infection leads to clousure of two Jamsh...</td>\n",
       "    </tr>\n",
       "    <tr>\n",
       "      <th>1</th>\n",
       "      <td>UK's Glastonbury Festival, cinemas, museums ge...</td>\n",
       "      <td>UK's Glastonbury Festival, cinemas, museums ge...</td>\n",
       "    </tr>\n",
       "    <tr>\n",
       "      <th>2</th>\n",
       "      <td>These covid lockdowns make me desperate than e...</td>\n",
       "      <td>These covid lockdowns make me desperate than e...</td>\n",
       "    </tr>\n",
       "    <tr>\n",
       "      <th>3</th>\n",
       "      <td>@Dublin_Called @NFitzPsychology Thanks, Orla! ...</td>\n",
       "      <td>Thanks, Orla! The pandemic has made it toughe...</td>\n",
       "    </tr>\n",
       "    <tr>\n",
       "      <th>4</th>\n",
       "      <td>Please take strict action against the DPS &amp;amp...</td>\n",
       "      <td>Please take strict action against the DPS &amp;amp...</td>\n",
       "    </tr>\n",
       "    <tr>\n",
       "      <th>...</th>\n",
       "      <td>...</td>\n",
       "      <td>...</td>\n",
       "    </tr>\n",
       "    <tr>\n",
       "      <th>2619</th>\n",
       "      <td>#Covid_19 might not be such a bad time for sho...</td>\n",
       "      <td>might not be such a bad time for shopping . I...</td>\n",
       "    </tr>\n",
       "    <tr>\n",
       "      <th>2620</th>\n",
       "      <td>Here I'm requesting each and every warrior of ...</td>\n",
       "      <td>Here I'm requesting each and every warrior of ...</td>\n",
       "    </tr>\n",
       "    <tr>\n",
       "      <th>2621</th>\n",
       "      <td>Covid-19 is a pandemic and Corona patients in ...</td>\n",
       "      <td>Covid-19 is a pandemic and Corona patients in ...</td>\n",
       "    </tr>\n",
       "    <tr>\n",
       "      <th>2622</th>\n",
       "      <td>Covid-19 news: Corona infection may increase a...</td>\n",
       "      <td>Covid-19 news: Corona infection may increase a...</td>\n",
       "    </tr>\n",
       "    <tr>\n",
       "      <th>2623</th>\n",
       "      <td>Replying to \\n@LokKalyanSetu</td>\n",
       "      <td>Replying to</td>\n",
       "    </tr>\n",
       "  </tbody>\n",
       "</table>\n",
       "<p>2624 rows × 2 columns</p>\n",
       "</div>"
      ],
      "text/plain": [
       "                                                  tweet  \\\n",
       "0     COVID infection leads to clousure of two Jamsh...   \n",
       "1     UK's Glastonbury Festival, cinemas, museums ge...   \n",
       "2     These covid lockdowns make me desperate than e...   \n",
       "3     @Dublin_Called @NFitzPsychology Thanks, Orla! ...   \n",
       "4     Please take strict action against the DPS &amp...   \n",
       "...                                                 ...   \n",
       "2619  #Covid_19 might not be such a bad time for sho...   \n",
       "2620  Here I'm requesting each and every warrior of ...   \n",
       "2621  Covid-19 is a pandemic and Corona patients in ...   \n",
       "2622  Covid-19 news: Corona infection may increase a...   \n",
       "2623                       Replying to \\n@LokKalyanSetu   \n",
       "\n",
       "                                            clean_tweet  \n",
       "0     COVID infection leads to clousure of two Jamsh...  \n",
       "1     UK's Glastonbury Festival, cinemas, museums ge...  \n",
       "2     These covid lockdowns make me desperate than e...  \n",
       "3      Thanks, Orla! The pandemic has made it toughe...  \n",
       "4     Please take strict action against the DPS &amp...  \n",
       "...                                                 ...  \n",
       "2619   might not be such a bad time for shopping . I...  \n",
       "2620  Here I'm requesting each and every warrior of ...  \n",
       "2621  Covid-19 is a pandemic and Corona patients in ...  \n",
       "2622  Covid-19 news: Corona infection may increase a...  \n",
       "2623                                       Replying to   \n",
       "\n",
       "[2624 rows x 2 columns]"
      ]
     },
     "execution_count": 9,
     "metadata": {},
     "output_type": "execute_result"
    }
   ],
   "source": [
    "AprilTweet[['tweet','clean_tweet']]"
   ]
  },
  {
   "cell_type": "code",
   "execution_count": 10,
   "metadata": {},
   "outputs": [],
   "source": [
    "AprilTweet['clean_tweet'] = AprilTweet['clean_tweet'].apply(nfx.remove_puncts)"
   ]
  },
  {
   "cell_type": "code",
   "execution_count": 11,
   "metadata": {},
   "outputs": [],
   "source": [
    "AprilTweet.to_csv('AprilTweet_(with Emojis and other language within eng sentence).csv')"
   ]
  },
  {
   "cell_type": "code",
   "execution_count": 12,
   "metadata": {},
   "outputs": [],
   "source": [
    "AprilTweet['emojis']=np.nan"
   ]
  },
  {
   "cell_type": "code",
   "execution_count": 13,
   "metadata": {},
   "outputs": [],
   "source": [
    "def extract_emoji(text):\n",
    "    emoji_dict=adv.extract_emoji(text)\n",
    "    new_list=emoji_dict['emoji'][0]\n",
    "    return new_list"
   ]
  },
  {
   "cell_type": "code",
   "execution_count": 14,
   "metadata": {},
   "outputs": [
    {
     "name": "stderr",
     "output_type": "stream",
     "text": [
      "<ipython-input-14-1fb7d2b3d407>:2: SettingWithCopyWarning: \n",
      "A value is trying to be set on a copy of a slice from a DataFrame\n",
      "\n",
      "See the caveats in the documentation: https://pandas.pydata.org/pandas-docs/stable/user_guide/indexing.html#returning-a-view-versus-a-copy\n",
      "  AprilTweet['emojis'][21]=extract_emoji(text)\n",
      "C:\\Users\\AYUSH\\anaconda3\\lib\\site-packages\\pandas\\core\\indexing.py:1637: SettingWithCopyWarning: \n",
      "A value is trying to be set on a copy of a slice from a DataFrame\n",
      "\n",
      "See the caveats in the documentation: https://pandas.pydata.org/pandas-docs/stable/user_guide/indexing.html#returning-a-view-versus-a-copy\n",
      "  self._setitem_single_block(indexer, value, name)\n"
     ]
    }
   ],
   "source": [
    "text=[AprilTweet['clean_tweet'][21] ]\n",
    "AprilTweet['emojis'][21]=extract_emoji(text)"
   ]
  },
  {
   "cell_type": "code",
   "execution_count": 15,
   "metadata": {},
   "outputs": [
    {
     "data": {
      "text/plain": [
       "(2624, 10)"
      ]
     },
     "execution_count": 15,
     "metadata": {},
     "output_type": "execute_result"
    }
   ],
   "source": [
    "AprilTweet.shape"
   ]
  },
  {
   "cell_type": "code",
   "execution_count": 16,
   "metadata": {},
   "outputs": [
    {
     "name": "stderr",
     "output_type": "stream",
     "text": [
      "<ipython-input-16-ef851be6267a>:3: SettingWithCopyWarning: \n",
      "A value is trying to be set on a copy of a slice from a DataFrame\n",
      "\n",
      "See the caveats in the documentation: https://pandas.pydata.org/pandas-docs/stable/user_guide/indexing.html#returning-a-view-versus-a-copy\n",
      "  AprilTweet['emojis'][i]=extract_emoji(text)\n"
     ]
    }
   ],
   "source": [
    "for i in range(0,2624):\n",
    "    text=[AprilTweet['clean_tweet'][i] ]\n",
    "    AprilTweet['emojis'][i]=extract_emoji(text)"
   ]
  },
  {
   "cell_type": "code",
   "execution_count": 17,
   "metadata": {},
   "outputs": [],
   "source": [
    "AprilTweet.to_csv('extractedEmoji.csv')"
   ]
  },
  {
   "cell_type": "code",
   "execution_count": 18,
   "metadata": {},
   "outputs": [],
   "source": [
    "def remove_emojis(text,i=0):\n",
    "    new_text= re.sub(emoji.get_emoji_regexp(),r'',text)\n",
    "    AprilTweet['clean_tweet'][i]=new_text"
   ]
  },
  {
   "cell_type": "code",
   "execution_count": 19,
   "metadata": {},
   "outputs": [
    {
     "data": {
      "text/plain": [
       "'🛑🚨some very critical work by my buddy on the now infamous spike proteins He and his team conclude that this work may facilitate the development of new vaccines'"
      ]
     },
     "execution_count": 19,
     "metadata": {},
     "output_type": "execute_result"
    }
   ],
   "source": [
    "AprilTweet['clean_tweet'][21] "
   ]
  },
  {
   "cell_type": "code",
   "execution_count": 20,
   "metadata": {},
   "outputs": [
    {
     "name": "stderr",
     "output_type": "stream",
     "text": [
      "<ipython-input-18-02854173902f>:3: SettingWithCopyWarning: \n",
      "A value is trying to be set on a copy of a slice from a DataFrame\n",
      "\n",
      "See the caveats in the documentation: https://pandas.pydata.org/pandas-docs/stable/user_guide/indexing.html#returning-a-view-versus-a-copy\n",
      "  AprilTweet['clean_tweet'][i]=new_text\n"
     ]
    }
   ],
   "source": [
    "remove_emojis(AprilTweet['clean_tweet'][21],21)"
   ]
  },
  {
   "cell_type": "code",
   "execution_count": 21,
   "metadata": {},
   "outputs": [
    {
     "data": {
      "text/plain": [
       "'some very critical work by my buddy on the now infamous spike proteins He and his team conclude that this work may facilitate the development of new vaccines'"
      ]
     },
     "execution_count": 21,
     "metadata": {},
     "output_type": "execute_result"
    }
   ],
   "source": [
    "AprilTweet['clean_tweet'][21]"
   ]
  },
  {
   "cell_type": "code",
   "execution_count": 22,
   "metadata": {},
   "outputs": [
    {
     "name": "stderr",
     "output_type": "stream",
     "text": [
      "<ipython-input-18-02854173902f>:3: SettingWithCopyWarning: \n",
      "A value is trying to be set on a copy of a slice from a DataFrame\n",
      "\n",
      "See the caveats in the documentation: https://pandas.pydata.org/pandas-docs/stable/user_guide/indexing.html#returning-a-view-versus-a-copy\n",
      "  AprilTweet['clean_tweet'][i]=new_text\n"
     ]
    }
   ],
   "source": [
    "for i in range(0,2624):\n",
    "    text=AprilTweet['clean_tweet'][i]\n",
    "    remove_emojis(text,i)"
   ]
  },
  {
   "cell_type": "code",
   "execution_count": 23,
   "metadata": {},
   "outputs": [],
   "source": [
    "AprilTweet.to_csv('AprilTweet.csv')"
   ]
  },
  {
   "cell_type": "code",
   "execution_count": 26,
   "metadata": {},
   "outputs": [
    {
     "data": {
      "text/plain": [
       "Index(['Unnamed: 0', 'tweet', 'language', 'hastags', 'attherate', 'urls',\n",
       "       'tokenized_Tweet', 'filteredToken', 'clean_tweet', 'emojis'],\n",
       "      dtype='object')"
      ]
     },
     "execution_count": 26,
     "metadata": {},
     "output_type": "execute_result"
    }
   ],
   "source": [
    "AprilTweet.columns"
   ]
  },
  {
   "cell_type": "code",
   "execution_count": 24,
   "metadata": {},
   "outputs": [],
   "source": [
    "AprilTweetClean=AprilTweet[['tweet','clean_tweet', 'hastags','attherate','urls','emojis']]"
   ]
  },
  {
   "cell_type": "code",
   "execution_count": 25,
   "metadata": {},
   "outputs": [],
   "source": [
    "AprilTweetClean.to_csv('PREPROCESSED_APRIL.csv')"
   ]
  }
 ],
 "metadata": {
  "interpreter": {
   "hash": "0e861e0b67293902224e9acfb8ab2e3cf2b4facd370dfc6bbb77427def9848a9"
  },
  "kernelspec": {
   "display_name": "Python 3.8.8 ('base')",
   "language": "python",
   "name": "python3"
  },
  "language_info": {
   "codemirror_mode": {
    "name": "ipython",
    "version": 3
   },
   "file_extension": ".py",
   "mimetype": "text/x-python",
   "name": "python",
   "nbconvert_exporter": "python",
   "pygments_lexer": "ipython3",
   "version": "3.8.8"
  },
  "orig_nbformat": 4
 },
 "nbformat": 4,
 "nbformat_minor": 2
}
