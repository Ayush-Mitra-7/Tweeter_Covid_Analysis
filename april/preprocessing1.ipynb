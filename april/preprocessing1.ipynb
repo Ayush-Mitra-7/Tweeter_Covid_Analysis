{
 "cells": [
  {
   "cell_type": "code",
   "execution_count": 49,
   "metadata": {},
   "outputs": [
    {
     "name": "stderr",
     "output_type": "stream",
     "text": [
      "[nltk_data] Downloading package stopwords to\n",
      "[nltk_data]     C:\\Users\\AYUSH\\AppData\\Roaming\\nltk_data...\n",
      "[nltk_data]   Package stopwords is already up-to-date!\n"
     ]
    }
   ],
   "source": [
    "import pandas as pd\n",
    "import numpy as np\n",
    "import math\n",
    "from textblob import TextBlob as tb\n",
    "import re\n",
    "from nltk.corpus import stopwords\n",
    "import nltk\n",
    "nltk.download('stopwords')\n",
    "import neattext.functions as nfx\n",
    "import emoji\n",
    "import advertools as adv\n",
    "import matplotlib.pyplot as plt\n",
    "import seaborn as sns"
   ]
  },
  {
   "cell_type": "code",
   "execution_count": 51,
   "metadata": {},
   "outputs": [],
   "source": [
    "april=pd.read_csv('APRILFINALTWEET(RAW).csv')"
   ]
  },
  {
   "cell_type": "code",
   "execution_count": 52,
   "metadata": {},
   "outputs": [
    {
     "data": {
      "text/plain": [
       "Index(['Unnamed: 0', 'created_at', 'username', 'tweet', 'language',\n",
       "       'replies_count', 'retweets_count', 'likes_count'],\n",
       "      dtype='object')"
      ]
     },
     "execution_count": 52,
     "metadata": {},
     "output_type": "execute_result"
    }
   ],
   "source": [
    "april.columns"
   ]
  },
  {
   "cell_type": "code",
   "execution_count": 53,
   "metadata": {},
   "outputs": [],
   "source": [
    "april.drop(['Unnamed: 0'],axis=1,inplace=True)"
   ]
  },
  {
   "cell_type": "code",
   "execution_count": 54,
   "metadata": {},
   "outputs": [
    {
     "data": {
      "text/plain": [
       "Index(['created_at', 'username', 'tweet', 'language', 'replies_count',\n",
       "       'retweets_count', 'likes_count'],\n",
       "      dtype='object')"
      ]
     },
     "execution_count": 54,
     "metadata": {},
     "output_type": "execute_result"
    }
   ],
   "source": [
    "april.columns"
   ]
  },
  {
   "cell_type": "code",
   "execution_count": 55,
   "metadata": {},
   "outputs": [
    {
     "data": {
      "text/plain": [
       "(3980, 7)"
      ]
     },
     "execution_count": 55,
     "metadata": {},
     "output_type": "execute_result"
    }
   ],
   "source": [
    "april.shape"
   ]
  },
  {
   "cell_type": "code",
   "execution_count": 56,
   "metadata": {},
   "outputs": [
    {
     "data": {
      "text/plain": [
       "(485, 7)"
      ]
     },
     "execution_count": 56,
     "metadata": {},
     "output_type": "execute_result"
    }
   ],
   "source": [
    "duplicates = april[april.duplicated()]\n",
    "duplicates.shape  "
   ]
  },
  {
   "cell_type": "code",
   "execution_count": 57,
   "metadata": {},
   "outputs": [
    {
     "data": {
      "text/plain": [
       "(3495, 7)"
      ]
     },
     "execution_count": 57,
     "metadata": {},
     "output_type": "execute_result"
    }
   ],
   "source": [
    "april=april.drop_duplicates(keep='first')\n",
    "april.shape"
   ]
  },
  {
   "cell_type": "code",
   "execution_count": 58,
   "metadata": {},
   "outputs": [
    {
     "data": {
      "text/plain": [
       "array(['und', 'in', 'th', 'en', 'hi', 'et', 'ar', 'mr', 'tl', 'zh', 'it',\n",
       "       'tr', 'ca', 'es', 'ja', 'ur', 'ne', 'bn', 'de', 'ta', 'lo', 'si',\n",
       "       'lt', 'gu', 'pl', 'pt', 'sl', 'ro', 'fi', 'ht', 'vi', 'or', 'fa',\n",
       "       'te', 'ml', 'no', 'fr', 'cs'], dtype=object)"
      ]
     },
     "execution_count": 58,
     "metadata": {},
     "output_type": "execute_result"
    }
   ],
   "source": [
    "april['language'].unique()"
   ]
  },
  {
   "cell_type": "code",
   "execution_count": 59,
   "metadata": {},
   "outputs": [
    {
     "data": {
      "text/plain": [
       "en     2624\n",
       "hi      331\n",
       "in      151\n",
       "und     130\n",
       "tl       47\n",
       "mr       34\n",
       "th       23\n",
       "et       21\n",
       "ur       19\n",
       "gu       19\n",
       "bn       12\n",
       "ca       11\n",
       "es        9\n",
       "ar        8\n",
       "or        8\n",
       "ro        7\n",
       "si        6\n",
       "tr        5\n",
       "pt        3\n",
       "ja        3\n",
       "ht        3\n",
       "it        2\n",
       "fi        2\n",
       "de        2\n",
       "zh        2\n",
       "ta        1\n",
       "no        1\n",
       "lo        1\n",
       "fr        1\n",
       "ml        1\n",
       "lt        1\n",
       "cs        1\n",
       "sl        1\n",
       "te        1\n",
       "pl        1\n",
       "ne        1\n",
       "vi        1\n",
       "fa        1\n",
       "Name: language, dtype: int64"
      ]
     },
     "execution_count": 59,
     "metadata": {},
     "output_type": "execute_result"
    }
   ],
   "source": [
    "april['language'].value_counts()"
   ]
  },
  {
   "cell_type": "code",
   "execution_count": 60,
   "metadata": {},
   "outputs": [
    {
     "data": {
      "image/png": "[encoded data removed]",
      "text/plain": [
       "<Figure size 540x252 with 1 Axes>"
      ]
     },
     "metadata": {
      "needs_background": "light"
     },
     "output_type": "display_data"
    }
   ],
   "source": [
    "list1=np.array\n",
    "plt.rcParams[\"figure.figsize\"] = [7.50, 3.50]\n",
    "plt.rcParams[\"figure.autolayout\"] = True\n",
    "fig, ax = plt.subplots()\n",
    "list1=april['language'].value_counts().plot(ax=ax, kind='bar', xlabel='languages', ylabel='frequency')\n",
    "plt.show()"
   ]
  },
  {
   "cell_type": "code",
   "execution_count": 63,
   "metadata": {},
   "outputs": [
    {
     "data": {
      "image/png": "[encoded data removed]",
      "text/plain": [
       "<Figure size 540x252 with 1 Axes>"
      ]
     },
     "metadata": {
      "needs_background": "light"
     },
     "output_type": "display_data"
    }
   ],
   "source": [
    "import seaborn as sns\n",
    "lang=april['language'].value_counts().rename_axis('lang').reset_index(name='frequency')\n",
    "ax = sns.barplot(x=\"lang\", y=\"frequency\", data=lang)\n",
    "plt.title(\"April\")\n",
    "plt.xticks(rotation=90)\n",
    "plt.show()"
   ]
  },
  {
   "cell_type": "code",
   "execution_count": 64,
   "metadata": {},
   "outputs": [
    {
     "data": {
      "text/plain": [
       "(38, 2)"
      ]
     },
     "execution_count": 64,
     "metadata": {},
     "output_type": "execute_result"
    }
   ],
   "source": [
    "lang.shape"
   ]
  },
  {
   "cell_type": "code",
   "execution_count": 12,
   "metadata": {},
   "outputs": [],
   "source": [
    "for i in april['language']:\n",
    "    index_names = april[april['language']!='en' ].index\n",
    "    april.drop(index_names, inplace = True)"
   ]
  },
  {
   "cell_type": "code",
   "execution_count": 13,
   "metadata": {},
   "outputs": [
    {
     "data": {
      "image/png": "[encoded data removed]",
      "text/plain": [
       "<Figure size 540x252 with 1 Axes>"
      ]
     },
     "metadata": {
      "needs_background": "light"
     },
     "output_type": "display_data"
    }
   ],
   "source": [
    "list1=np.array\n",
    "plt.rcParams[\"figure.figsize\"] = [7.50, 3.50]\n",
    "plt.rcParams[\"figure.autolayout\"] = True\n",
    "fig, ax = plt.subplots()\n",
    "list1=april['language'].value_counts().plot(ax=ax, kind='bar', xlabel='languages', ylabel='frequency')\n",
    "plt.show()"
   ]
  },
  {
   "cell_type": "code",
   "execution_count": 14,
   "metadata": {},
   "outputs": [
    {
     "data": {
      "text/plain": [
       "(2624, 7)"
      ]
     },
     "execution_count": 14,
     "metadata": {},
     "output_type": "execute_result"
    }
   ],
   "source": [
    "april.shape"
   ]
  },
  {
   "cell_type": "code",
   "execution_count": 15,
   "metadata": {},
   "outputs": [
    {
     "data": {
      "text/plain": [
       "(0, 7)"
      ]
     },
     "execution_count": 15,
     "metadata": {},
     "output_type": "execute_result"
    }
   ],
   "source": [
    "duplicates = april[april.duplicated()]\n",
    "duplicates.shape  "
   ]
  },
  {
   "cell_type": "code",
   "execution_count": 16,
   "metadata": {},
   "outputs": [],
   "source": [
    "AprilTweet=april[['tweet','language']]"
   ]
  },
  {
   "cell_type": "code",
   "execution_count": 17,
   "metadata": {},
   "outputs": [],
   "source": [
    "AprilTweet=AprilTweet.reset_index(level=None, drop=False, inplace=False, col_level=0, col_fill='')"
   ]
  },
  {
   "cell_type": "code",
   "execution_count": 18,
   "metadata": {},
   "outputs": [],
   "source": [
    "AprilTweet.drop(['index'],axis=1,inplace=True)"
   ]
  },
  {
   "cell_type": "code",
   "execution_count": 19,
   "metadata": {},
   "outputs": [],
   "source": [
    "AprilTweet.to_csv(\"AprilTweet.csv\")"
   ]
  },
  {
   "cell_type": "code",
   "execution_count": 20,
   "metadata": {},
   "outputs": [],
   "source": [
    "AprilTweet['hastags']=np.nan"
   ]
  },
  {
   "cell_type": "code",
   "execution_count": 21,
   "metadata": {},
   "outputs": [],
   "source": [
    "\n",
    "def extract_hastags(text,i=0):\n",
    "    hashtag_list = []\n",
    "    for word in text.split():\n",
    "        if word[0] == '#':\n",
    "            hashtag_list.append(word[0:])\n",
    "    AprilTweet['hastags'][i]=hashtag_list"
   ]
  },
  {
   "cell_type": "code",
   "execution_count": 22,
   "metadata": {},
   "outputs": [
    {
     "data": {
      "text/plain": [
       "'Temporarily closed due to pandemic #Covid_19  https://t.co/l71WUDF1WI'"
      ]
     },
     "execution_count": 22,
     "metadata": {},
     "output_type": "execute_result"
    }
   ],
   "source": [
    "AprilTweet['tweet'][20]"
   ]
  },
  {
   "cell_type": "code",
   "execution_count": 23,
   "metadata": {},
   "outputs": [
    {
     "name": "stderr",
     "output_type": "stream",
     "text": [
      "<ipython-input-21-0d5c3b9ef41d>:6: SettingWithCopyWarning: \n",
      "A value is trying to be set on a copy of a slice from a DataFrame\n",
      "\n",
      "See the caveats in the documentation: https://pandas.pydata.org/pandas-docs/stable/user_guide/indexing.html#returning-a-view-versus-a-copy\n",
      "  AprilTweet['hastags'][i]=hashtag_list\n",
      "c:\\Users\\AYUSH\\anaconda3\\lib\\site-packages\\pandas\\core\\indexing.py:1637: SettingWithCopyWarning: \n",
      "A value is trying to be set on a copy of a slice from a DataFrame\n",
      "\n",
      "See the caveats in the documentation: https://pandas.pydata.org/pandas-docs/stable/user_guide/indexing.html#returning-a-view-versus-a-copy\n",
      "  self._setitem_single_block(indexer, value, name)\n"
     ]
    }
   ],
   "source": [
    "extract_hastags(AprilTweet['tweet'][20],20)"
   ]
  },
  {
   "cell_type": "code",
   "execution_count": 24,
   "metadata": {},
   "outputs": [],
   "source": [
    "for i in range(0,2624):\n",
    "    text=AprilTweet['tweet'][i]\n",
    "    extract_hastags(text,i)\n"
   ]
  },
  {
   "cell_type": "code",
   "execution_count": 25,
   "metadata": {},
   "outputs": [
    {
     "data": {
      "text/plain": [
       "0                                                      []\n",
       "1          [#Sipgrab, #UnitingPeopleWithThePossibilities]\n",
       "2       [#sissyclit, #ExposedSissySlut, #sissy, #faggot.]\n",
       "3                                                      []\n",
       "4                                                      []\n",
       "                              ...                        \n",
       "2619    [#Covid_19, #PohelaBoishak, #WestBengalElectio...\n",
       "2620                                 [#SaveLives4Sushant]\n",
       "2621                               [#CoronaRiskInPrisons]\n",
       "2622                                                   []\n",
       "2623                                                   []\n",
       "Name: hastags, Length: 2624, dtype: object"
      ]
     },
     "execution_count": 25,
     "metadata": {},
     "output_type": "execute_result"
    }
   ],
   "source": [
    "AprilTweet['hastags']"
   ]
  },
  {
   "cell_type": "code",
   "execution_count": 26,
   "metadata": {},
   "outputs": [],
   "source": [
    "AprilTweet['attherate']=np.nan"
   ]
  },
  {
   "cell_type": "code",
   "execution_count": 27,
   "metadata": {},
   "outputs": [],
   "source": [
    "def extract_at_the_rate(text,i=0):\n",
    "    list1= []\n",
    "    for word in text.split():\n",
    "        if word[0] == '@':\n",
    "            list1.append(word[0:])\n",
    "    AprilTweet['attherate'][i]=list1"
   ]
  },
  {
   "cell_type": "code",
   "execution_count": 28,
   "metadata": {},
   "outputs": [
    {
     "data": {
      "text/plain": [
       "'@Dublin_Called @NFitzPsychology Thanks, Orla! The pandemic has made it tougher. My sis (in Canada) &amp; hubster can\\'t even fly over to help out. Under normal conditions (we\\'ll need to redefine \"normal\" post-Covid) we could take turns. However tough, I have no regrets caring for my mum ❤️ (really miss Dublin tho🍀)'"
      ]
     },
     "execution_count": 28,
     "metadata": {},
     "output_type": "execute_result"
    }
   ],
   "source": [
    "AprilTweet['tweet'][3]"
   ]
  },
  {
   "cell_type": "code",
   "execution_count": 29,
   "metadata": {},
   "outputs": [
    {
     "name": "stderr",
     "output_type": "stream",
     "text": [
      "<ipython-input-27-8a8d2d1262db>:6: SettingWithCopyWarning: \n",
      "A value is trying to be set on a copy of a slice from a DataFrame\n",
      "\n",
      "See the caveats in the documentation: https://pandas.pydata.org/pandas-docs/stable/user_guide/indexing.html#returning-a-view-versus-a-copy\n",
      "  AprilTweet['attherate'][i]=list1\n"
     ]
    }
   ],
   "source": [
    "extract_at_the_rate(AprilTweet['tweet'][3],3)"
   ]
  },
  {
   "cell_type": "code",
   "execution_count": 30,
   "metadata": {},
   "outputs": [],
   "source": [
    "for i in range(0,2624):\n",
    "    text=AprilTweet['tweet'][i]\n",
    "    extract_at_the_rate(text,i)\n"
   ]
  },
  {
   "cell_type": "code",
   "execution_count": 31,
   "metadata": {},
   "outputs": [
    {
     "data": {
      "text/plain": [
       "0       [@HemantSorenJMM, @DCEastSinghbhum, @BannaGupt...\n",
       "1                                                      []\n",
       "2                                                      []\n",
       "3                      [@Dublin_Called, @NFitzPsychology]\n",
       "4       [@DCFaisalabad, @ImranKhanPTI, @OfficialNcoc, ...\n",
       "                              ...                        \n",
       "2619                                        [@AboutIndia]\n",
       "2620                                                   []\n",
       "2621                                                   []\n",
       "2622                                                   []\n",
       "2623                                     [@LokKalyanSetu]\n",
       "Name: attherate, Length: 2624, dtype: object"
      ]
     },
     "execution_count": 31,
     "metadata": {},
     "output_type": "execute_result"
    }
   ],
   "source": [
    "AprilTweet['attherate']"
   ]
  },
  {
   "cell_type": "code",
   "execution_count": 32,
   "metadata": {},
   "outputs": [],
   "source": [
    "AprilTweet.to_csv('AprilTweet.csv')"
   ]
  },
  {
   "cell_type": "code",
   "execution_count": 33,
   "metadata": {},
   "outputs": [],
   "source": [
    "AprilTweet['urls']=np.nan"
   ]
  },
  {
   "cell_type": "code",
   "execution_count": 34,
   "metadata": {},
   "outputs": [],
   "source": [
    "def extract_urls(text,i=0):\n",
    "    attherate_list = []\n",
    "    for word in text.split():\n",
    "        if word[0:5] == 'https':\n",
    "            attherate_list.append(word[0:])\n",
    "    AprilTweet['urls'][i]=attherate_list"
   ]
  },
  {
   "cell_type": "code",
   "execution_count": 35,
   "metadata": {},
   "outputs": [
    {
     "data": {
      "text/plain": [
       "'Temporarily closed due to pandemic #Covid_19  https://t.co/l71WUDF1WI'"
      ]
     },
     "execution_count": 35,
     "metadata": {},
     "output_type": "execute_result"
    }
   ],
   "source": [
    "AprilTweet['tweet'][20]"
   ]
  },
  {
   "cell_type": "code",
   "execution_count": 36,
   "metadata": {},
   "outputs": [
    {
     "name": "stderr",
     "output_type": "stream",
     "text": [
      "<ipython-input-34-b5db7d8d2be8>:6: SettingWithCopyWarning: \n",
      "A value is trying to be set on a copy of a slice from a DataFrame\n",
      "\n",
      "See the caveats in the documentation: https://pandas.pydata.org/pandas-docs/stable/user_guide/indexing.html#returning-a-view-versus-a-copy\n",
      "  AprilTweet['urls'][i]=attherate_list\n"
     ]
    }
   ],
   "source": [
    "extract_urls(AprilTweet['tweet'][20],20)"
   ]
  },
  {
   "cell_type": "code",
   "execution_count": 37,
   "metadata": {},
   "outputs": [],
   "source": [
    "for i in range(0,2624):\n",
    "    text=AprilTweet['tweet'][i]\n",
    "    extract_urls(text,i)"
   ]
  },
  {
   "cell_type": "code",
   "execution_count": 38,
   "metadata": {},
   "outputs": [],
   "source": [
    "AprilTweet.to_csv('AprilTweet.csv')"
   ]
  },
  {
   "cell_type": "code",
   "execution_count": 39,
   "metadata": {},
   "outputs": [],
   "source": [
    "AprilTweet['tokenized_Tweet']=np.nan"
   ]
  },
  {
   "cell_type": "code",
   "execution_count": 40,
   "metadata": {},
   "outputs": [],
   "source": [
    "def tokenizing(text,i=0):\n",
    "    text=tb(text)\n",
    "    token_text=text.words\n",
    "    token_text\n",
    "    AprilTweet['tokenized_Tweet'][i]=token_text"
   ]
  },
  {
   "cell_type": "code",
   "execution_count": 41,
   "metadata": {},
   "outputs": [
    {
     "name": "stderr",
     "output_type": "stream",
     "text": [
      "<ipython-input-40-9a7b99c740aa>:5: SettingWithCopyWarning: \n",
      "A value is trying to be set on a copy of a slice from a DataFrame\n",
      "\n",
      "See the caveats in the documentation: https://pandas.pydata.org/pandas-docs/stable/user_guide/indexing.html#returning-a-view-versus-a-copy\n",
      "  AprilTweet['tokenized_Tweet'][i]=token_text\n"
     ]
    }
   ],
   "source": [
    "for i in range(0,2624):\n",
    "    text=AprilTweet['tweet'][i]\n",
    "    tokenizing(text,i)"
   ]
  },
  {
   "cell_type": "code",
   "execution_count": 42,
   "metadata": {},
   "outputs": [
    {
     "data": {
      "text/plain": [
       "0       [COVID, infection, leads, to, clousure, of, tw...\n",
       "1       [UK, 's, Glastonbury, Festival, cinemas, museu...\n",
       "2       [These, covid, lockdowns, make, me, desperate,...\n",
       "3       [Dublin_Called, NFitzPsychology, Thanks, Orla,...\n",
       "4       [Please, take, strict, action, against, the, D...\n",
       "                              ...                        \n",
       "2619    [Covid_19, might, not, be, such, a, bad, time,...\n",
       "2620    [Here, I, 'm, requesting, each, and, every, wa...\n",
       "2621    [Covid-19, is, a, pandemic, and, Corona, patie...\n",
       "2622    [Covid-19, news, Corona, infection, may, incre...\n",
       "2623                        [Replying, to, LokKalyanSetu]\n",
       "Name: tokenized_Tweet, Length: 2624, dtype: object"
      ]
     },
     "execution_count": 42,
     "metadata": {},
     "output_type": "execute_result"
    }
   ],
   "source": [
    "AprilTweet['tokenized_Tweet']"
   ]
  },
  {
   "cell_type": "code",
   "execution_count": 43,
   "metadata": {},
   "outputs": [],
   "source": [
    "AprilTweet.to_csv('AprilTweet.csv')"
   ]
  },
  {
   "cell_type": "code",
   "execution_count": 44,
   "metadata": {},
   "outputs": [],
   "source": [
    "AprilTweet['filteredToken']=np.nan"
   ]
  },
  {
   "cell_type": "code",
   "execution_count": 45,
   "metadata": {},
   "outputs": [
    {
     "name": "stderr",
     "output_type": "stream",
     "text": [
      "<ipython-input-45-7ca931b629db>:3: SettingWithCopyWarning: \n",
      "A value is trying to be set on a copy of a slice from a DataFrame\n",
      "\n",
      "See the caveats in the documentation: https://pandas.pydata.org/pandas-docs/stable/user_guide/indexing.html#returning-a-view-versus-a-copy\n",
      "  AprilTweet['filteredToken'][0]=list(text_set-stop_set)\n"
     ]
    }
   ],
   "source": [
    "text_set=set(AprilTweet['tokenized_Tweet'][0])\n",
    "stop_set=set(stopwords.words(\"english\"))\n",
    "AprilTweet['filteredToken'][0]=list(text_set-stop_set)"
   ]
  },
  {
   "cell_type": "code",
   "execution_count": 46,
   "metadata": {},
   "outputs": [],
   "source": [
    "stop_set=set(stopwords.words(\"english\"))\n",
    "for i in range(0,1698):\n",
    "    text_set=set(AprilTweet['tokenized_Tweet'][i])\n",
    "    AprilTweet['filteredToken'][i]=list(text_set-stop_set)"
   ]
  },
  {
   "cell_type": "code",
   "execution_count": 47,
   "metadata": {},
   "outputs": [
    {
     "data": {
      "text/html": [
       "<div>\n",
       "<style scoped>\n",
       "    .dataframe tbody tr th:only-of-type {\n",
       "        vertical-align: middle;\n",
       "    }\n",
       "\n",
       "    .dataframe tbody tr th {\n",
       "        vertical-align: top;\n",
       "    }\n",
       "\n",
       "    .dataframe thead th {\n",
       "        text-align: right;\n",
       "    }\n",
       "</style>\n",
       "<table border=\"1\" class=\"dataframe\">\n",
       "  <thead>\n",
       "    <tr style=\"text-align: right;\">\n",
       "      <th></th>\n",
       "      <th>tweet</th>\n",
       "      <th>language</th>\n",
       "      <th>hastags</th>\n",
       "      <th>attherate</th>\n",
       "      <th>urls</th>\n",
       "      <th>tokenized_Tweet</th>\n",
       "      <th>filteredToken</th>\n",
       "    </tr>\n",
       "  </thead>\n",
       "  <tbody>\n",
       "    <tr>\n",
       "      <th>0</th>\n",
       "      <td>COVID infection leads to clousure of two Jamsh...</td>\n",
       "      <td>en</td>\n",
       "      <td>[]</td>\n",
       "      <td>[@HemantSorenJMM, @DCEastSinghbhum, @BannaGupt...</td>\n",
       "      <td>[]</td>\n",
       "      <td>[COVID, infection, leads, to, clousure, of, tw...</td>\n",
       "      <td>[two, Jamshedpur, English, BannaGupta76, Andhr...</td>\n",
       "    </tr>\n",
       "    <tr>\n",
       "      <th>1</th>\n",
       "      <td>UK's Glastonbury Festival, cinemas, museums ge...</td>\n",
       "      <td>en</td>\n",
       "      <td>[#Sipgrab, #UnitingPeopleWithThePossibilities]</td>\n",
       "      <td>[]</td>\n",
       "      <td>[https://t.co/zsvvfaO49b]</td>\n",
       "      <td>[UK, 's, Glastonbury, Festival, cinemas, museu...</td>\n",
       "      <td>[Glastonbury, cash, Festival, UnitingPeopleWit...</td>\n",
       "    </tr>\n",
       "    <tr>\n",
       "      <th>2</th>\n",
       "      <td>These covid lockdowns make me desperate than e...</td>\n",
       "      <td>en</td>\n",
       "      <td>[#sissyclit, #ExposedSissySlut, #sissy, #faggot.]</td>\n",
       "      <td>[]</td>\n",
       "      <td>[https://t.co/RB7Dse2yYF]</td>\n",
       "      <td>[These, covid, lockdowns, make, me, desperate,...</td>\n",
       "      <td>[expose, Please, https, leak, ever, sissyclit,...</td>\n",
       "    </tr>\n",
       "    <tr>\n",
       "      <th>3</th>\n",
       "      <td>@Dublin_Called @NFitzPsychology Thanks, Orla! ...</td>\n",
       "      <td>en</td>\n",
       "      <td>[]</td>\n",
       "      <td>[@Dublin_Called, @NFitzPsychology]</td>\n",
       "      <td>[]</td>\n",
       "      <td>[Dublin_Called, NFitzPsychology, Thanks, Orla,...</td>\n",
       "      <td>[Dublin_Called, hubster, conditions, take, My,...</td>\n",
       "    </tr>\n",
       "    <tr>\n",
       "      <th>4</th>\n",
       "      <td>Please take strict action against the DPS &amp;amp...</td>\n",
       "      <td>en</td>\n",
       "      <td>[]</td>\n",
       "      <td>[@DCFaisalabad, @ImranKhanPTI, @OfficialNcoc, ...</td>\n",
       "      <td>[]</td>\n",
       "      <td>[Please, take, strict, action, against, the, D...</td>\n",
       "      <td>[opening, lives, take, DCFaisalabad, Please, t...</td>\n",
       "    </tr>\n",
       "    <tr>\n",
       "      <th>...</th>\n",
       "      <td>...</td>\n",
       "      <td>...</td>\n",
       "      <td>...</td>\n",
       "      <td>...</td>\n",
       "      <td>...</td>\n",
       "      <td>...</td>\n",
       "      <td>...</td>\n",
       "    </tr>\n",
       "    <tr>\n",
       "      <th>2619</th>\n",
       "      <td>#Covid_19 might not be such a bad time for sho...</td>\n",
       "      <td>en</td>\n",
       "      <td>[#Covid_19, #PohelaBoishak, #WestBengalElectio...</td>\n",
       "      <td>[@AboutIndia]</td>\n",
       "      <td>[]</td>\n",
       "      <td>[Covid_19, might, not, be, such, a, bad, time,...</td>\n",
       "      <td>NaN</td>\n",
       "    </tr>\n",
       "    <tr>\n",
       "      <th>2620</th>\n",
       "      <td>Here I'm requesting each and every warrior of ...</td>\n",
       "      <td>en</td>\n",
       "      <td>[#SaveLives4Sushant]</td>\n",
       "      <td>[]</td>\n",
       "      <td>[]</td>\n",
       "      <td>[Here, I, 'm, requesting, each, and, every, wa...</td>\n",
       "      <td>NaN</td>\n",
       "    </tr>\n",
       "    <tr>\n",
       "      <th>2621</th>\n",
       "      <td>Covid-19 is a pandemic and Corona patients in ...</td>\n",
       "      <td>en</td>\n",
       "      <td>[#CoronaRiskInPrisons]</td>\n",
       "      <td>[]</td>\n",
       "      <td>[]</td>\n",
       "      <td>[Covid-19, is, a, pandemic, and, Corona, patie...</td>\n",
       "      <td>NaN</td>\n",
       "    </tr>\n",
       "    <tr>\n",
       "      <th>2622</th>\n",
       "      <td>Covid-19 news: Corona infection may increase a...</td>\n",
       "      <td>en</td>\n",
       "      <td>[]</td>\n",
       "      <td>[]</td>\n",
       "      <td>[]</td>\n",
       "      <td>[Covid-19, news, Corona, infection, may, incre...</td>\n",
       "      <td>NaN</td>\n",
       "    </tr>\n",
       "    <tr>\n",
       "      <th>2623</th>\n",
       "      <td>Replying to \\n@LokKalyanSetu</td>\n",
       "      <td>en</td>\n",
       "      <td>[]</td>\n",
       "      <td>[@LokKalyanSetu]</td>\n",
       "      <td>[]</td>\n",
       "      <td>[Replying, to, LokKalyanSetu]</td>\n",
       "      <td>NaN</td>\n",
       "    </tr>\n",
       "  </tbody>\n",
       "</table>\n",
       "<p>2624 rows × 7 columns</p>\n",
       "</div>"
      ],
      "text/plain": [
       "                                                  tweet language  \\\n",
       "0     COVID infection leads to clousure of two Jamsh...       en   \n",
       "1     UK's Glastonbury Festival, cinemas, museums ge...       en   \n",
       "2     These covid lockdowns make me desperate than e...       en   \n",
       "3     @Dublin_Called @NFitzPsychology Thanks, Orla! ...       en   \n",
       "4     Please take strict action against the DPS &amp...       en   \n",
       "...                                                 ...      ...   \n",
       "2619  #Covid_19 might not be such a bad time for sho...       en   \n",
       "2620  Here I'm requesting each and every warrior of ...       en   \n",
       "2621  Covid-19 is a pandemic and Corona patients in ...       en   \n",
       "2622  Covid-19 news: Corona infection may increase a...       en   \n",
       "2623                       Replying to \\n@LokKalyanSetu       en   \n",
       "\n",
       "                                                hastags  \\\n",
       "0                                                    []   \n",
       "1        [#Sipgrab, #UnitingPeopleWithThePossibilities]   \n",
       "2     [#sissyclit, #ExposedSissySlut, #sissy, #faggot.]   \n",
       "3                                                    []   \n",
       "4                                                    []   \n",
       "...                                                 ...   \n",
       "2619  [#Covid_19, #PohelaBoishak, #WestBengalElectio...   \n",
       "2620                               [#SaveLives4Sushant]   \n",
       "2621                             [#CoronaRiskInPrisons]   \n",
       "2622                                                 []   \n",
       "2623                                                 []   \n",
       "\n",
       "                                              attherate  \\\n",
       "0     [@HemantSorenJMM, @DCEastSinghbhum, @BannaGupt...   \n",
       "1                                                    []   \n",
       "2                                                    []   \n",
       "3                    [@Dublin_Called, @NFitzPsychology]   \n",
       "4     [@DCFaisalabad, @ImranKhanPTI, @OfficialNcoc, ...   \n",
       "...                                                 ...   \n",
       "2619                                      [@AboutIndia]   \n",
       "2620                                                 []   \n",
       "2621                                                 []   \n",
       "2622                                                 []   \n",
       "2623                                   [@LokKalyanSetu]   \n",
       "\n",
       "                           urls  \\\n",
       "0                            []   \n",
       "1     [https://t.co/zsvvfaO49b]   \n",
       "2     [https://t.co/RB7Dse2yYF]   \n",
       "3                            []   \n",
       "4                            []   \n",
       "...                         ...   \n",
       "2619                         []   \n",
       "2620                         []   \n",
       "2621                         []   \n",
       "2622                         []   \n",
       "2623                         []   \n",
       "\n",
       "                                        tokenized_Tweet  \\\n",
       "0     [COVID, infection, leads, to, clousure, of, tw...   \n",
       "1     [UK, 's, Glastonbury, Festival, cinemas, museu...   \n",
       "2     [These, covid, lockdowns, make, me, desperate,...   \n",
       "3     [Dublin_Called, NFitzPsychology, Thanks, Orla,...   \n",
       "4     [Please, take, strict, action, against, the, D...   \n",
       "...                                                 ...   \n",
       "2619  [Covid_19, might, not, be, such, a, bad, time,...   \n",
       "2620  [Here, I, 'm, requesting, each, and, every, wa...   \n",
       "2621  [Covid-19, is, a, pandemic, and, Corona, patie...   \n",
       "2622  [Covid-19, news, Corona, infection, may, incre...   \n",
       "2623                      [Replying, to, LokKalyanSetu]   \n",
       "\n",
       "                                          filteredToken  \n",
       "0     [two, Jamshedpur, English, BannaGupta76, Andhr...  \n",
       "1     [Glastonbury, cash, Festival, UnitingPeopleWit...  \n",
       "2     [expose, Please, https, leak, ever, sissyclit,...  \n",
       "3     [Dublin_Called, hubster, conditions, take, My,...  \n",
       "4     [opening, lives, take, DCFaisalabad, Please, t...  \n",
       "...                                                 ...  \n",
       "2619                                                NaN  \n",
       "2620                                                NaN  \n",
       "2621                                                NaN  \n",
       "2622                                                NaN  \n",
       "2623                                                NaN  \n",
       "\n",
       "[2624 rows x 7 columns]"
      ]
     },
     "execution_count": 47,
     "metadata": {},
     "output_type": "execute_result"
    }
   ],
   "source": [
    "AprilTweet"
   ]
  },
  {
   "cell_type": "code",
   "execution_count": 48,
   "metadata": {},
   "outputs": [],
   "source": [
    "AprilTweet.to_csv('AprilTweet_(with Emojis and other language within eng sentence).csv')"
   ]
  }
 ],
 "metadata": {
  "interpreter": {
   "hash": "f5077de726081cd88c6b6f65b193df0af57117231466353a74e8f1aa7856d823"
  },
  "kernelspec": {
   "display_name": "Python 3.8.8 ('base')",
   "language": "python",
   "name": "python3"
  },
  "language_info": {
   "codemirror_mode": {
    "name": "ipython",
    "version": 3
   },
   "file_extension": ".py",
   "mimetype": "text/x-python",
   "name": "python",
   "nbconvert_exporter": "python",
   "pygments_lexer": "ipython3",
   "version": "3.8.8"
  },
  "orig_nbformat": 4
 },
 "nbformat": 4,
 "nbformat_minor": 2
}
