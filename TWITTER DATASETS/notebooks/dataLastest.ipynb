{
 "cells": [
  {
   "cell_type": "code",
   "execution_count": 1,
   "metadata": {},
   "outputs": [],
   "source": [
    "import pandas as pd"
   ]
  },
  {
   "cell_type": "code",
   "execution_count": 2,
   "metadata": {},
   "outputs": [],
   "source": [
    "MarchTweetlatest=pd.read_csv(r'Scrapped tweets\\Covid_tweets(march-2021-latest).csv.csv.csv')"
   ]
  },
  {
   "cell_type": "code",
   "execution_count": 3,
   "metadata": {},
   "outputs": [
    {
     "data": {
      "text/html": [
       "<div>\n",
       "<style scoped>\n",
       "    .dataframe tbody tr th:only-of-type {\n",
       "        vertical-align: middle;\n",
       "    }\n",
       "\n",
       "    .dataframe tbody tr th {\n",
       "        vertical-align: top;\n",
       "    }\n",
       "\n",
       "    .dataframe thead th {\n",
       "        text-align: right;\n",
       "    }\n",
       "</style>\n",
       "<table border=\"1\" class=\"dataframe\">\n",
       "  <thead>\n",
       "    <tr style=\"text-align: right;\">\n",
       "      <th></th>\n",
       "      <th>UserName</th>\n",
       "      <th>userhandel</th>\n",
       "      <th>Time</th>\n",
       "      <th>comments</th>\n",
       "      <th>retweets</th>\n",
       "      <th>likes</th>\n",
       "      <th>Tweet</th>\n",
       "    </tr>\n",
       "  </thead>\n",
       "  <tbody>\n",
       "    <tr>\n",
       "      <th>0</th>\n",
       "      <td>Megha Kejriwal</td>\n",
       "      <td>@Megha_journo</td>\n",
       "      <td>2021-03-30T09:18:17.000Z</td>\n",
       "      <td>NaN</td>\n",
       "      <td>NaN</td>\n",
       "      <td>1.0</td>\n",
       "      <td>Airports may levy spot fines if face mask rule...</td>\n",
       "    </tr>\n",
       "    <tr>\n",
       "      <th>1</th>\n",
       "      <td>Soumyajit Majumder</td>\n",
       "      <td>@SoumyajitWrites</td>\n",
       "      <td>2021-03-29T15:00:18.000Z</td>\n",
       "      <td>4.0</td>\n",
       "      <td>NaN</td>\n",
       "      <td>11.0</td>\n",
       "      <td>West Bengal reports 639 new COVID-19 cases, Ko...</td>\n",
       "    </tr>\n",
       "    <tr>\n",
       "      <th>2</th>\n",
       "      <td>Nishit Shaw</td>\n",
       "      <td>@NishitShawHere</td>\n",
       "      <td>2021-03-29T05:35:57.000Z</td>\n",
       "      <td>NaN</td>\n",
       "      <td>1.0</td>\n",
       "      <td>NaN</td>\n",
       "      <td>Recovery rate drops to 94.32%, very very worri...</td>\n",
       "    </tr>\n",
       "    <tr>\n",
       "      <th>3</th>\n",
       "      <td>Rajlkxmi Datta</td>\n",
       "      <td>@RajlkxmiD</td>\n",
       "      <td>2021-03-28T13:56:19.000Z</td>\n",
       "      <td>NaN</td>\n",
       "      <td>NaN</td>\n",
       "      <td>NaN</td>\n",
       "      <td>Replying to \\n@republic</td>\n",
       "    </tr>\n",
       "    <tr>\n",
       "      <th>4</th>\n",
       "      <td>Call me WD or Wri</td>\n",
       "      <td>@Wri_Dutta</td>\n",
       "      <td>2021-03-28T07:22:24.000Z</td>\n",
       "      <td>NaN</td>\n",
       "      <td>NaN</td>\n",
       "      <td>NaN</td>\n",
       "      <td>Doesn’t quite feel like #Holi, but just anothe...</td>\n",
       "    </tr>\n",
       "    <tr>\n",
       "      <th>...</th>\n",
       "      <td>...</td>\n",
       "      <td>...</td>\n",
       "      <td>...</td>\n",
       "      <td>...</td>\n",
       "      <td>...</td>\n",
       "      <td>...</td>\n",
       "      <td>...</td>\n",
       "    </tr>\n",
       "    <tr>\n",
       "      <th>76</th>\n",
       "      <td>Mridul Sen</td>\n",
       "      <td>@MridulSen3</td>\n",
       "      <td>2021-03-03T15:07:35.000Z</td>\n",
       "      <td>NaN</td>\n",
       "      <td>NaN</td>\n",
       "      <td>NaN</td>\n",
       "      <td>@CMOMaharashtra\\n If you guys cannot control c...</td>\n",
       "    </tr>\n",
       "    <tr>\n",
       "      <th>77</th>\n",
       "      <td>TheAnupmaJha</td>\n",
       "      <td>@theanupamajha</td>\n",
       "      <td>2021-03-03T11:08:58.000Z</td>\n",
       "      <td>NaN</td>\n",
       "      <td>4.0</td>\n",
       "      <td>26.0</td>\n",
       "      <td>Cricketer Kapil Dev received his first dose of...</td>\n",
       "    </tr>\n",
       "    <tr>\n",
       "      <th>78</th>\n",
       "      <td>voice of the nation.</td>\n",
       "      <td>@SrimantiG</td>\n",
       "      <td>2021-03-02T10:33:50.000Z</td>\n",
       "      <td>NaN</td>\n",
       "      <td>NaN</td>\n",
       "      <td>3.0</td>\n",
       "      <td>How PM Modi used humour to lighten up atmosphe...</td>\n",
       "    </tr>\n",
       "    <tr>\n",
       "      <th>79</th>\n",
       "      <td>ABHINAV CHATTERJEE</td>\n",
       "      <td>@ABHI26890</td>\n",
       "      <td>2021-03-02T05:24:39.000Z</td>\n",
       "      <td>NaN</td>\n",
       "      <td>NaN</td>\n",
       "      <td>NaN</td>\n",
       "      <td>Don't fool us you dumb. Drivers are saying we ...</td>\n",
       "    </tr>\n",
       "    <tr>\n",
       "      <th>80</th>\n",
       "      <td>Sreshth Shah</td>\n",
       "      <td>@sreshthx</td>\n",
       "      <td>2021-03-01T14:35:56.000Z</td>\n",
       "      <td>1.0</td>\n",
       "      <td>2.0</td>\n",
       "      <td>11.0</td>\n",
       "      <td>Covid 19 case forces tonight's #PSL2021 game t...</td>\n",
       "    </tr>\n",
       "  </tbody>\n",
       "</table>\n",
       "<p>81 rows × 7 columns</p>\n",
       "</div>"
      ],
      "text/plain": [
       "                UserName        userhandel                      Time  \\\n",
       "0         Megha Kejriwal     @Megha_journo  2021-03-30T09:18:17.000Z   \n",
       "1     Soumyajit Majumder  @SoumyajitWrites  2021-03-29T15:00:18.000Z   \n",
       "2            Nishit Shaw   @NishitShawHere  2021-03-29T05:35:57.000Z   \n",
       "3         Rajlkxmi Datta        @RajlkxmiD  2021-03-28T13:56:19.000Z   \n",
       "4      Call me WD or Wri        @Wri_Dutta  2021-03-28T07:22:24.000Z   \n",
       "..                   ...               ...                       ...   \n",
       "76            Mridul Sen       @MridulSen3  2021-03-03T15:07:35.000Z   \n",
       "77          TheAnupmaJha    @theanupamajha  2021-03-03T11:08:58.000Z   \n",
       "78  voice of the nation.        @SrimantiG  2021-03-02T10:33:50.000Z   \n",
       "79    ABHINAV CHATTERJEE        @ABHI26890  2021-03-02T05:24:39.000Z   \n",
       "80          Sreshth Shah         @sreshthx  2021-03-01T14:35:56.000Z   \n",
       "\n",
       "    comments  retweets  likes  \\\n",
       "0        NaN       NaN    1.0   \n",
       "1        4.0       NaN   11.0   \n",
       "2        NaN       1.0    NaN   \n",
       "3        NaN       NaN    NaN   \n",
       "4        NaN       NaN    NaN   \n",
       "..       ...       ...    ...   \n",
       "76       NaN       NaN    NaN   \n",
       "77       NaN       4.0   26.0   \n",
       "78       NaN       NaN    3.0   \n",
       "79       NaN       NaN    NaN   \n",
       "80       1.0       2.0   11.0   \n",
       "\n",
       "                                                Tweet  \n",
       "0   Airports may levy spot fines if face mask rule...  \n",
       "1   West Bengal reports 639 new COVID-19 cases, Ko...  \n",
       "2   Recovery rate drops to 94.32%, very very worri...  \n",
       "3                             Replying to \\n@republic  \n",
       "4   Doesn’t quite feel like #Holi, but just anothe...  \n",
       "..                                                ...  \n",
       "76  @CMOMaharashtra\\n If you guys cannot control c...  \n",
       "77  Cricketer Kapil Dev received his first dose of...  \n",
       "78  How PM Modi used humour to lighten up atmosphe...  \n",
       "79  Don't fool us you dumb. Drivers are saying we ...  \n",
       "80  Covid 19 case forces tonight's #PSL2021 game t...  \n",
       "\n",
       "[81 rows x 7 columns]"
      ]
     },
     "execution_count": 3,
     "metadata": {},
     "output_type": "execute_result"
    }
   ],
   "source": [
    "MarchTweetlatest"
   ]
  },
  {
   "cell_type": "code",
   "execution_count": 7,
   "metadata": {},
   "outputs": [
    {
     "data": {
      "text/plain": [
       "'We all remember this day. Maybe we will not be forgetting this phase of life in our lifetime! \\n\\nShare your 23rd March 2020 moment in the comment section.\\n\\n#lockdownanniversary #23rdMarch2020 #jantacurfewanniversary #blazeindigitally #coronaalert #Covid #pandemic'"
      ]
     },
     "execution_count": 7,
     "metadata": {},
     "output_type": "execute_result"
    }
   ],
   "source": [
    "MarchTweetlatest.Tweet[23]"
   ]
  },
  {
   "cell_type": "code",
   "execution_count": 8,
   "metadata": {},
   "outputs": [],
   "source": [
    "aprilTweetLatest=pd.read_csv(r'Scrapped tweets\\covidTweets(april-2021-latest).csv.csv')"
   ]
  },
  {
   "cell_type": "code",
   "execution_count": 9,
   "metadata": {},
   "outputs": [
    {
     "data": {
      "text/plain": [
       "Index(['UserName', 'userhandel', 'Time', 'comments', 'retweets', 'likes',\n",
       "       'Tweet'],\n",
       "      dtype='object')"
      ]
     },
     "execution_count": 9,
     "metadata": {},
     "output_type": "execute_result"
    }
   ],
   "source": [
    "aprilTweetLatest.columns"
   ]
  },
  {
   "cell_type": "code",
   "execution_count": 10,
   "metadata": {},
   "outputs": [
    {
     "data": {
      "text/plain": [
       "(444, 7)"
      ]
     },
     "execution_count": 10,
     "metadata": {},
     "output_type": "execute_result"
    }
   ],
   "source": [
    "aprilTweetLatest.shape"
   ]
  },
  {
   "cell_type": "code",
   "execution_count": null,
   "metadata": {},
   "outputs": [],
   "source": []
  }
 ],
 "metadata": {
  "interpreter": {
   "hash": "634498344980471fb0944d848df28373b199ff2468c6404ec32442b20f813eee"
  },
  "kernelspec": {
   "display_name": "Python 3.9.6 64-bit",
   "language": "python",
   "name": "python3"
  },
  "language_info": {
   "codemirror_mode": {
    "name": "ipython",
    "version": 3
   },
   "file_extension": ".py",
   "mimetype": "text/x-python",
   "name": "python",
   "nbconvert_exporter": "python",
   "pygments_lexer": "ipython3",
   "version": "3.9.6"
  },
  "orig_nbformat": 4
 },
 "nbformat": 4,
 "nbformat_minor": 2
}
