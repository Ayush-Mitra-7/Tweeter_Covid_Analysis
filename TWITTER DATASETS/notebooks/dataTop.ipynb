{
 "cells": [
  {
   "cell_type": "code",
   "execution_count": 1,
   "metadata": {},
   "outputs": [],
   "source": [
    "import pandas as pd"
   ]
  },
  {
   "cell_type": "code",
   "execution_count": 2,
   "metadata": {},
   "outputs": [],
   "source": [
    "marchTweetTop=pd.read_csv(r'Scrapped tweets\\Covid_tweets(march-2021-topSection).csv')"
   ]
  },
  {
   "cell_type": "code",
   "execution_count": 3,
   "metadata": {},
   "outputs": [
    {
     "data": {
      "text/html": [
       "<div>\n",
       "<style scoped>\n",
       "    .dataframe tbody tr th:only-of-type {\n",
       "        vertical-align: middle;\n",
       "    }\n",
       "\n",
       "    .dataframe tbody tr th {\n",
       "        vertical-align: top;\n",
       "    }\n",
       "\n",
       "    .dataframe thead th {\n",
       "        text-align: right;\n",
       "    }\n",
       "</style>\n",
       "<table border=\"1\" class=\"dataframe\">\n",
       "  <thead>\n",
       "    <tr style=\"text-align: right;\">\n",
       "      <th></th>\n",
       "      <th>User_Name</th>\n",
       "      <th>User_handel</th>\n",
       "      <th>Time</th>\n",
       "      <th>comments</th>\n",
       "      <th>likes</th>\n",
       "      <th>retweets</th>\n",
       "      <th>tweets</th>\n",
       "    </tr>\n",
       "  </thead>\n",
       "  <tbody>\n",
       "    <tr>\n",
       "      <th>0</th>\n",
       "      <td>Nishit Shaw</td>\n",
       "      <td>@NishitShawHere</td>\n",
       "      <td>2021-03-29T05:35:57.000Z</td>\n",
       "      <td>NaN</td>\n",
       "      <td>NaN</td>\n",
       "      <td>1.0</td>\n",
       "      <td>Recovery rate drops to 94.32%, very very worri...</td>\n",
       "    </tr>\n",
       "    <tr>\n",
       "      <th>1</th>\n",
       "      <td>Harleen</td>\n",
       "      <td>@DontiaHarleen</td>\n",
       "      <td>2021-03-04T08:35:26.000Z</td>\n",
       "      <td>NaN</td>\n",
       "      <td>NaN</td>\n",
       "      <td>NaN</td>\n",
       "      <td>Covid Second dose done\\n\\n#Covid_19 #COVID19Va...</td>\n",
       "    </tr>\n",
       "    <tr>\n",
       "      <th>2</th>\n",
       "      <td>Nishit Shaw</td>\n",
       "      <td>@NishitShawHere</td>\n",
       "      <td>2021-03-27T05:35:43.000Z</td>\n",
       "      <td>NaN</td>\n",
       "      <td>1.0</td>\n",
       "      <td>NaN</td>\n",
       "      <td>With #SachinTendulkar testing positive, here i...</td>\n",
       "    </tr>\n",
       "    <tr>\n",
       "      <th>3</th>\n",
       "      <td>Prashant Kumar</td>\n",
       "      <td>@scribe_prashant</td>\n",
       "      <td>2021-03-18T05:32:47.000Z</td>\n",
       "      <td>NaN</td>\n",
       "      <td>32.0</td>\n",
       "      <td>11.0</td>\n",
       "      <td>BREAKING: Cases of Covid-19 on rise in nationa...</td>\n",
       "    </tr>\n",
       "    <tr>\n",
       "      <th>4</th>\n",
       "      <td>shyamal das</td>\n",
       "      <td>@shyamal81465999</td>\n",
       "      <td>2021-03-22T08:45:59.000Z</td>\n",
       "      <td>NaN</td>\n",
       "      <td>NaN</td>\n",
       "      <td>NaN</td>\n",
       "      <td>Protection covid 19</td>\n",
       "    </tr>\n",
       "  </tbody>\n",
       "</table>\n",
       "</div>"
      ],
      "text/plain": [
       "        User_Name       User_handel                      Time  comments  \\\n",
       "0     Nishit Shaw   @NishitShawHere  2021-03-29T05:35:57.000Z       NaN   \n",
       "1         Harleen    @DontiaHarleen  2021-03-04T08:35:26.000Z       NaN   \n",
       "2     Nishit Shaw   @NishitShawHere  2021-03-27T05:35:43.000Z       NaN   \n",
       "3  Prashant Kumar  @scribe_prashant  2021-03-18T05:32:47.000Z       NaN   \n",
       "4     shyamal das  @shyamal81465999  2021-03-22T08:45:59.000Z       NaN   \n",
       "\n",
       "   likes  retweets                                             tweets  \n",
       "0    NaN       1.0  Recovery rate drops to 94.32%, very very worri...  \n",
       "1    NaN       NaN  Covid Second dose done\\n\\n#Covid_19 #COVID19Va...  \n",
       "2    1.0       NaN  With #SachinTendulkar testing positive, here i...  \n",
       "3   32.0      11.0  BREAKING: Cases of Covid-19 on rise in nationa...  \n",
       "4    NaN       NaN                                Protection covid 19  "
      ]
     },
     "execution_count": 3,
     "metadata": {},
     "output_type": "execute_result"
    }
   ],
   "source": [
    "marchTweetTop.head(5)"
   ]
  },
  {
   "cell_type": "code",
   "execution_count": 4,
   "metadata": {},
   "outputs": [
    {
     "data": {
      "text/plain": [
       "Index(['User_Name', 'User_handel', 'Time', 'comments', 'likes', 'retweets',\n",
       "       'tweets'],\n",
       "      dtype='object')"
      ]
     },
     "execution_count": 4,
     "metadata": {},
     "output_type": "execute_result"
    }
   ],
   "source": [
    "marchTweetTop.columns"
   ]
  },
  {
   "cell_type": "code",
   "execution_count": 5,
   "metadata": {},
   "outputs": [
    {
     "data": {
      "text/plain": [
       "(67, 7)"
      ]
     },
     "execution_count": 5,
     "metadata": {},
     "output_type": "execute_result"
    }
   ],
   "source": [
    "marchTweetTop.shape"
   ]
  },
  {
   "cell_type": "markdown",
   "metadata": {},
   "source": [
    "<h1>Top Section Tweet From March(01-03-21 till 31-03-21) is 67 in number with no duplicate tweets</h1>"
   ]
  },
  {
   "cell_type": "code",
   "execution_count": 6,
   "metadata": {},
   "outputs": [],
   "source": [
    "aprilTweetTop=pd.read_csv('Scrapped tweets\\covidTweets(april(01-04021 till 30-04-21-TopSection).csv')"
   ]
  },
  {
   "cell_type": "code",
   "execution_count": 7,
   "metadata": {},
   "outputs": [
    {
     "data": {
      "text/html": [
       "<div>\n",
       "<style scoped>\n",
       "    .dataframe tbody tr th:only-of-type {\n",
       "        vertical-align: middle;\n",
       "    }\n",
       "\n",
       "    .dataframe tbody tr th {\n",
       "        vertical-align: top;\n",
       "    }\n",
       "\n",
       "    .dataframe thead th {\n",
       "        text-align: right;\n",
       "    }\n",
       "</style>\n",
       "<table border=\"1\" class=\"dataframe\">\n",
       "  <thead>\n",
       "    <tr style=\"text-align: right;\">\n",
       "      <th></th>\n",
       "      <th>username</th>\n",
       "      <th>userhandel</th>\n",
       "      <th>Time</th>\n",
       "      <th>comments</th>\n",
       "      <th>retweets</th>\n",
       "      <th>likes</th>\n",
       "      <th>tweets</th>\n",
       "    </tr>\n",
       "  </thead>\n",
       "  <tbody>\n",
       "    <tr>\n",
       "      <th>0</th>\n",
       "      <td>Rima Prasad</td>\n",
       "      <td>@RimaPrasad</td>\n",
       "      <td>2021-04-15T07:53:06.000Z</td>\n",
       "      <td>4.0</td>\n",
       "      <td>8.0</td>\n",
       "      <td>55.0</td>\n",
       "      <td>Helpline numbers\\n#Covid_19</td>\n",
       "    </tr>\n",
       "    <tr>\n",
       "      <th>1</th>\n",
       "      <td>𝐒𝐀𝐍𝐃𝐄𝐄𝐏</td>\n",
       "      <td>@Sandeep06424827</td>\n",
       "      <td>2021-04-22T02:37:48.000Z</td>\n",
       "      <td>5.0</td>\n",
       "      <td>107.0</td>\n",
       "      <td>103.0</td>\n",
       "      <td>The Centre for Disease Control and Prevention ...</td>\n",
       "    </tr>\n",
       "    <tr>\n",
       "      <th>2</th>\n",
       "      <td>planetSetu</td>\n",
       "      <td>@PlanetSetuHQ</td>\n",
       "      <td>2021-04-25T10:34:37.000Z</td>\n",
       "      <td>NaN</td>\n",
       "      <td>1.0</td>\n",
       "      <td>1.0</td>\n",
       "      <td>#SocialDistancing is the key. Please follow al...</td>\n",
       "    </tr>\n",
       "    <tr>\n",
       "      <th>3</th>\n",
       "      <td>Hiraan</td>\n",
       "      <td>@hiran_chatterji</td>\n",
       "      <td>2021-04-18T07:05:14.000Z</td>\n",
       "      <td>6.0</td>\n",
       "      <td>38.0</td>\n",
       "      <td>146.0</td>\n",
       "      <td>Pl wear a mask and maintain the distance and f...</td>\n",
       "    </tr>\n",
       "    <tr>\n",
       "      <th>4</th>\n",
       "      <td>Manshi | My</td>\n",
       "      <td>@ManshiDS</td>\n",
       "      <td>2021-04-22T05:51:19.000Z</td>\n",
       "      <td>1.0</td>\n",
       "      <td>31.0</td>\n",
       "      <td>13.0</td>\n",
       "      <td>List of PLASMA BANKS in WEST BENGAL for COVID ...</td>\n",
       "    </tr>\n",
       "  </tbody>\n",
       "</table>\n",
       "</div>"
      ],
      "text/plain": [
       "       username        userhandel                      Time  comments  \\\n",
       "0   Rima Prasad       @RimaPrasad  2021-04-15T07:53:06.000Z       4.0   \n",
       "1       𝐒𝐀𝐍𝐃𝐄𝐄𝐏  @Sandeep06424827  2021-04-22T02:37:48.000Z       5.0   \n",
       "2    planetSetu     @PlanetSetuHQ  2021-04-25T10:34:37.000Z       NaN   \n",
       "3        Hiraan  @hiran_chatterji  2021-04-18T07:05:14.000Z       6.0   \n",
       "4  Manshi | My          @ManshiDS  2021-04-22T05:51:19.000Z       1.0   \n",
       "\n",
       "   retweets  likes                                             tweets  \n",
       "0       8.0   55.0                        Helpline numbers\\n#Covid_19  \n",
       "1     107.0  103.0  The Centre for Disease Control and Prevention ...  \n",
       "2       1.0    1.0  #SocialDistancing is the key. Please follow al...  \n",
       "3      38.0  146.0  Pl wear a mask and maintain the distance and f...  \n",
       "4      31.0   13.0  List of PLASMA BANKS in WEST BENGAL for COVID ...  "
      ]
     },
     "execution_count": 7,
     "metadata": {},
     "output_type": "execute_result"
    }
   ],
   "source": [
    "aprilTweetTop.head(5)"
   ]
  },
  {
   "cell_type": "code",
   "execution_count": 8,
   "metadata": {},
   "outputs": [
    {
     "data": {
      "text/plain": [
       "Index(['username', 'userhandel', 'Time', 'comments', 'retweets', 'likes',\n",
       "       'tweets'],\n",
       "      dtype='object')"
      ]
     },
     "execution_count": 8,
     "metadata": {},
     "output_type": "execute_result"
    }
   ],
   "source": [
    "aprilTweetTop.columns"
   ]
  },
  {
   "cell_type": "code",
   "execution_count": 9,
   "metadata": {},
   "outputs": [
    {
     "data": {
      "text/plain": [
       "(85, 7)"
      ]
     },
     "execution_count": 9,
     "metadata": {},
     "output_type": "execute_result"
    }
   ],
   "source": [
    "aprilTweetTop.shape"
   ]
  },
  {
   "cell_type": "markdown",
   "metadata": {},
   "source": [
    "<h1>Top Section Tweet From April(01-04-21 till 30-04-21) is 85 in number with no duplicate tweets</h1>"
   ]
  },
  {
   "cell_type": "code",
   "execution_count": 10,
   "metadata": {},
   "outputs": [],
   "source": [
    "maytweetTop=pd.read_csv(r'Scrapped tweets\\covidTweets(may-TopSection).csv.csv')"
   ]
  },
  {
   "cell_type": "code",
   "execution_count": 11,
   "metadata": {},
   "outputs": [
    {
     "data": {
      "text/html": [
       "<div>\n",
       "<style scoped>\n",
       "    .dataframe tbody tr th:only-of-type {\n",
       "        vertical-align: middle;\n",
       "    }\n",
       "\n",
       "    .dataframe tbody tr th {\n",
       "        vertical-align: top;\n",
       "    }\n",
       "\n",
       "    .dataframe thead th {\n",
       "        text-align: right;\n",
       "    }\n",
       "</style>\n",
       "<table border=\"1\" class=\"dataframe\">\n",
       "  <thead>\n",
       "    <tr style=\"text-align: right;\">\n",
       "      <th></th>\n",
       "      <th>username</th>\n",
       "      <th>userhandel</th>\n",
       "      <th>time</th>\n",
       "      <th>comments</th>\n",
       "      <th>retweets</th>\n",
       "      <th>likes</th>\n",
       "      <th>tweet</th>\n",
       "    </tr>\n",
       "  </thead>\n",
       "  <tbody>\n",
       "    <tr>\n",
       "      <th>0</th>\n",
       "      <td>Pooja Mehta</td>\n",
       "      <td>@pooja_news</td>\n",
       "      <td>2021-05-21T15:53:39.000Z</td>\n",
       "      <td>9.0</td>\n",
       "      <td>51.0</td>\n",
       "      <td>282</td>\n",
       "      <td>#GoodNews: A 99-year-old lady, Arati Bhattacha...</td>\n",
       "    </tr>\n",
       "    <tr>\n",
       "      <th>1</th>\n",
       "      <td>Rupam Art</td>\n",
       "      <td>@ArtRupam</td>\n",
       "      <td>2021-05-22T14:23:11.000Z</td>\n",
       "      <td>28.0</td>\n",
       "      <td>71.0</td>\n",
       "      <td>1.4K</td>\n",
       "      <td>@SonuSood\\n the real life hero.\\n(Pencil sketc...</td>\n",
       "    </tr>\n",
       "    <tr>\n",
       "      <th>2</th>\n",
       "      <td>Arpita Mukherjee</td>\n",
       "      <td>@ArpitaM57600621</td>\n",
       "      <td>2021-05-19T03:25:06.000Z</td>\n",
       "      <td>3.0</td>\n",
       "      <td>2.0</td>\n",
       "      <td>8</td>\n",
       "      <td>Active covid cases in India,May 13th,2021\\n#co...</td>\n",
       "    </tr>\n",
       "    <tr>\n",
       "      <th>3</th>\n",
       "      <td>Soumick Mondal</td>\n",
       "      <td>@soumick_raj</td>\n",
       "      <td>2021-05-02T14:22:31.000Z</td>\n",
       "      <td>1.0</td>\n",
       "      <td>1.0</td>\n",
       "      <td>8</td>\n",
       "      <td>Eating Carbohydrates/Sugar in excess regularly...</td>\n",
       "    </tr>\n",
       "    <tr>\n",
       "      <th>4</th>\n",
       "      <td>𝐒𝐀𝐍𝐃𝐄𝐄𝐏</td>\n",
       "      <td>@Sandeep06424827</td>\n",
       "      <td>2021-05-15T11:20:13.000Z</td>\n",
       "      <td>NaN</td>\n",
       "      <td>NaN</td>\n",
       "      <td>NaN</td>\n",
       "      <td>Replying to \\n@__Shubhu0123</td>\n",
       "    </tr>\n",
       "  </tbody>\n",
       "</table>\n",
       "</div>"
      ],
      "text/plain": [
       "           username        userhandel                      time  comments  \\\n",
       "0       Pooja Mehta       @pooja_news  2021-05-21T15:53:39.000Z       9.0   \n",
       "1         Rupam Art         @ArtRupam  2021-05-22T14:23:11.000Z      28.0   \n",
       "2  Arpita Mukherjee  @ArpitaM57600621  2021-05-19T03:25:06.000Z       3.0   \n",
       "3    Soumick Mondal      @soumick_raj  2021-05-02T14:22:31.000Z       1.0   \n",
       "4           𝐒𝐀𝐍𝐃𝐄𝐄𝐏  @Sandeep06424827  2021-05-15T11:20:13.000Z       NaN   \n",
       "\n",
       "   retweets likes                                              tweet  \n",
       "0      51.0   282  #GoodNews: A 99-year-old lady, Arati Bhattacha...  \n",
       "1      71.0  1.4K  @SonuSood\\n the real life hero.\\n(Pencil sketc...  \n",
       "2       2.0     8  Active covid cases in India,May 13th,2021\\n#co...  \n",
       "3       1.0     8  Eating Carbohydrates/Sugar in excess regularly...  \n",
       "4       NaN   NaN                        Replying to \\n@__Shubhu0123  "
      ]
     },
     "execution_count": 11,
     "metadata": {},
     "output_type": "execute_result"
    }
   ],
   "source": [
    "maytweetTop.head(5)"
   ]
  },
  {
   "cell_type": "code",
   "execution_count": 12,
   "metadata": {},
   "outputs": [
    {
     "data": {
      "text/plain": [
       "Index(['username', 'userhandel', 'time', 'comments', 'retweets', 'likes',\n",
       "       'tweet'],\n",
       "      dtype='object')"
      ]
     },
     "execution_count": 12,
     "metadata": {},
     "output_type": "execute_result"
    }
   ],
   "source": [
    "maytweetTop.columns"
   ]
  },
  {
   "cell_type": "code",
   "execution_count": 13,
   "metadata": {},
   "outputs": [
    {
     "data": {
      "text/plain": [
       "(84, 7)"
      ]
     },
     "execution_count": 13,
     "metadata": {},
     "output_type": "execute_result"
    }
   ],
   "source": [
    "maytweetTop.shape"
   ]
  },
  {
   "cell_type": "markdown",
   "metadata": {},
   "source": [
    "<h1>Top Section Tweet From May(01-05-21 till 31-05-21) is 84 in number with no duplicate tweets</h1>"
   ]
  },
  {
   "cell_type": "code",
   "execution_count": 14,
   "metadata": {},
   "outputs": [],
   "source": [
    "juneTweetsTop=pd.read_csv(r'Scrapped tweets\\covidtweets(june-TopSectio).csv')"
   ]
  },
  {
   "cell_type": "code",
   "execution_count": 15,
   "metadata": {},
   "outputs": [
    {
     "data": {
      "text/html": [
       "<div>\n",
       "<style scoped>\n",
       "    .dataframe tbody tr th:only-of-type {\n",
       "        vertical-align: middle;\n",
       "    }\n",
       "\n",
       "    .dataframe tbody tr th {\n",
       "        vertical-align: top;\n",
       "    }\n",
       "\n",
       "    .dataframe thead th {\n",
       "        text-align: right;\n",
       "    }\n",
       "</style>\n",
       "<table border=\"1\" class=\"dataframe\">\n",
       "  <thead>\n",
       "    <tr style=\"text-align: right;\">\n",
       "      <th></th>\n",
       "      <th>username</th>\n",
       "      <th>userhandel</th>\n",
       "      <th>Time</th>\n",
       "      <th>comments</th>\n",
       "      <th>retweets</th>\n",
       "      <th>likes</th>\n",
       "      <th>tweet</th>\n",
       "    </tr>\n",
       "  </thead>\n",
       "  <tbody>\n",
       "    <tr>\n",
       "      <th>0</th>\n",
       "      <td>Pooja Mehta</td>\n",
       "      <td>@pooja_news</td>\n",
       "      <td>2021-06-08T08:34:34.000Z</td>\n",
       "      <td>140.0</td>\n",
       "      <td>888.0</td>\n",
       "      <td>4.2K</td>\n",
       "      <td>#HeartWrenching: Dr. Arfa Sajadin, who had tes...</td>\n",
       "    </tr>\n",
       "    <tr>\n",
       "      <th>1</th>\n",
       "      <td>𝐒𝐀𝐍𝐃𝐄𝐄𝐏</td>\n",
       "      <td>@Sandeep06424827</td>\n",
       "      <td>2021-06-24T03:02:01.000Z</td>\n",
       "      <td>2.0</td>\n",
       "      <td>58.0</td>\n",
       "      <td>58</td>\n",
       "      <td>Considering corona pandemic, when several pris...</td>\n",
       "    </tr>\n",
       "    <tr>\n",
       "      <th>2</th>\n",
       "      <td>Aishwarja Nath</td>\n",
       "      <td>@AishwarjaNath</td>\n",
       "      <td>2021-06-06T01:47:49.000Z</td>\n",
       "      <td>NaN</td>\n",
       "      <td>NaN</td>\n",
       "      <td>NaN</td>\n",
       "      <td>N440K in Gujarat: The new super infective viru...</td>\n",
       "    </tr>\n",
       "    <tr>\n",
       "      <th>3</th>\n",
       "      <td>Srijan's Faucet</td>\n",
       "      <td>@Srijans_Faucet</td>\n",
       "      <td>2021-06-09T14:40:21.000Z</td>\n",
       "      <td>NaN</td>\n",
       "      <td>NaN</td>\n",
       "      <td>NaN</td>\n",
       "      <td>The World Health Organization has revealed a n...</td>\n",
       "    </tr>\n",
       "    <tr>\n",
       "      <th>4</th>\n",
       "      <td>V I C K Y @25 DEC</td>\n",
       "      <td>@VickyKu25129877</td>\n",
       "      <td>2021-06-08T18:30:50.000Z</td>\n",
       "      <td>NaN</td>\n",
       "      <td>NaN</td>\n",
       "      <td>NaN</td>\n",
       "      <td>Let’s fight together against #covid_19 .\\nGet ...</td>\n",
       "    </tr>\n",
       "  </tbody>\n",
       "</table>\n",
       "</div>"
      ],
      "text/plain": [
       "            username        userhandel                      Time  comments  \\\n",
       "0        Pooja Mehta       @pooja_news  2021-06-08T08:34:34.000Z     140.0   \n",
       "1            𝐒𝐀𝐍𝐃𝐄𝐄𝐏  @Sandeep06424827  2021-06-24T03:02:01.000Z       2.0   \n",
       "2     Aishwarja Nath    @AishwarjaNath  2021-06-06T01:47:49.000Z       NaN   \n",
       "3    Srijan's Faucet   @Srijans_Faucet  2021-06-09T14:40:21.000Z       NaN   \n",
       "4  V I C K Y @25 DEC  @VickyKu25129877  2021-06-08T18:30:50.000Z       NaN   \n",
       "\n",
       "   retweets likes                                              tweet  \n",
       "0     888.0  4.2K  #HeartWrenching: Dr. Arfa Sajadin, who had tes...  \n",
       "1      58.0    58  Considering corona pandemic, when several pris...  \n",
       "2       NaN   NaN  N440K in Gujarat: The new super infective viru...  \n",
       "3       NaN   NaN  The World Health Organization has revealed a n...  \n",
       "4       NaN   NaN  Let’s fight together against #covid_19 .\\nGet ...  "
      ]
     },
     "execution_count": 15,
     "metadata": {},
     "output_type": "execute_result"
    }
   ],
   "source": [
    "juneTweetsTop.head(5)"
   ]
  },
  {
   "cell_type": "code",
   "execution_count": 16,
   "metadata": {},
   "outputs": [
    {
     "data": {
      "text/plain": [
       "Index(['username', 'userhandel', 'Time', 'comments', 'retweets', 'likes',\n",
       "       'tweet'],\n",
       "      dtype='object')"
      ]
     },
     "execution_count": 16,
     "metadata": {},
     "output_type": "execute_result"
    }
   ],
   "source": [
    "juneTweetsTop.columns"
   ]
  },
  {
   "cell_type": "code",
   "execution_count": 17,
   "metadata": {},
   "outputs": [
    {
     "data": {
      "text/plain": [
       "(79, 7)"
      ]
     },
     "execution_count": 17,
     "metadata": {},
     "output_type": "execute_result"
    }
   ],
   "source": [
    "juneTweetsTop.shape"
   ]
  },
  {
   "cell_type": "markdown",
   "metadata": {},
   "source": [
    "<h1>Top Section Tweet From June(01-06-21 till 30-06-21) is 79\n",
    " in number with no duplicate tweets</h1>"
   ]
  },
  {
   "cell_type": "code",
   "execution_count": 18,
   "metadata": {},
   "outputs": [],
   "source": [
    "julyTweetTop=pd.read_csv('Scrapped tweets\\covidtweets(july-TopSection).csv.csv')"
   ]
  },
  {
   "cell_type": "code",
   "execution_count": 19,
   "metadata": {},
   "outputs": [
    {
     "data": {
      "text/html": [
       "<div>\n",
       "<style scoped>\n",
       "    .dataframe tbody tr th:only-of-type {\n",
       "        vertical-align: middle;\n",
       "    }\n",
       "\n",
       "    .dataframe tbody tr th {\n",
       "        vertical-align: top;\n",
       "    }\n",
       "\n",
       "    .dataframe thead th {\n",
       "        text-align: right;\n",
       "    }\n",
       "</style>\n",
       "<table border=\"1\" class=\"dataframe\">\n",
       "  <thead>\n",
       "    <tr style=\"text-align: right;\">\n",
       "      <th></th>\n",
       "      <th>Username</th>\n",
       "      <th>userhandel</th>\n",
       "      <th>Time</th>\n",
       "      <th>comments</th>\n",
       "      <th>retweets</th>\n",
       "      <th>likes</th>\n",
       "      <th>tweet</th>\n",
       "    </tr>\n",
       "  </thead>\n",
       "  <tbody>\n",
       "    <tr>\n",
       "      <th>0</th>\n",
       "      <td>Supratim Chakraborty</td>\n",
       "      <td>@SupratimChakr</td>\n",
       "      <td>2021-07-04T06:54:20.000Z</td>\n",
       "      <td>11.0</td>\n",
       "      <td>61.0</td>\n",
       "      <td>66</td>\n",
       "      <td>After so many Jumlas and acute mismanagement o...</td>\n",
       "    </tr>\n",
       "    <tr>\n",
       "      <th>1</th>\n",
       "      <td>Techno Crushur</td>\n",
       "      <td>@TCrushur</td>\n",
       "      <td>2021-07-04T02:38:29.000Z</td>\n",
       "      <td>NaN</td>\n",
       "      <td>NaN</td>\n",
       "      <td>2</td>\n",
       "      <td>Safety is most important during covid-19</td>\n",
       "    </tr>\n",
       "    <tr>\n",
       "      <th>2</th>\n",
       "      <td>MD ZAHIR</td>\n",
       "      <td>@MDZAHIR72889357</td>\n",
       "      <td>2021-07-10T23:29:50.000Z</td>\n",
       "      <td>NaN</td>\n",
       "      <td>NaN</td>\n",
       "      <td>NaN</td>\n",
       "      <td>Covid 19 warriors</td>\n",
       "    </tr>\n",
       "    <tr>\n",
       "      <th>3</th>\n",
       "      <td>Prasanna Bachhar</td>\n",
       "      <td>@PrasannaBachha4</td>\n",
       "      <td>2021-07-01T03:59:00.000Z</td>\n",
       "      <td>NaN</td>\n",
       "      <td>NaN</td>\n",
       "      <td>NaN</td>\n",
       "      <td>Happy Doctor Day All Doctor Fighting With The ...</td>\n",
       "    </tr>\n",
       "    <tr>\n",
       "      <th>4</th>\n",
       "      <td>Raj Saha</td>\n",
       "      <td>@rajsahaofficial</td>\n",
       "      <td>2021-07-28T13:13:49.000Z</td>\n",
       "      <td>NaN</td>\n",
       "      <td>NaN</td>\n",
       "      <td>NaN</td>\n",
       "      <td>Kolkata get's it's normal life slowly \\n#kolka...</td>\n",
       "    </tr>\n",
       "  </tbody>\n",
       "</table>\n",
       "</div>"
      ],
      "text/plain": [
       "               Username        userhandel                      Time  comments  \\\n",
       "0  Supratim Chakraborty    @SupratimChakr  2021-07-04T06:54:20.000Z      11.0   \n",
       "1        Techno Crushur         @TCrushur  2021-07-04T02:38:29.000Z       NaN   \n",
       "2              MD ZAHIR  @MDZAHIR72889357  2021-07-10T23:29:50.000Z       NaN   \n",
       "3      Prasanna Bachhar  @PrasannaBachha4  2021-07-01T03:59:00.000Z       NaN   \n",
       "4             Raj Saha   @rajsahaofficial  2021-07-28T13:13:49.000Z       NaN   \n",
       "\n",
       "   retweets likes                                              tweet  \n",
       "0      61.0    66  After so many Jumlas and acute mismanagement o...  \n",
       "1       NaN     2           Safety is most important during covid-19  \n",
       "2       NaN   NaN                                  Covid 19 warriors  \n",
       "3       NaN   NaN  Happy Doctor Day All Doctor Fighting With The ...  \n",
       "4       NaN   NaN  Kolkata get's it's normal life slowly \\n#kolka...  "
      ]
     },
     "execution_count": 19,
     "metadata": {},
     "output_type": "execute_result"
    }
   ],
   "source": [
    "julyTweetTop.head(5)"
   ]
  },
  {
   "cell_type": "code",
   "execution_count": 20,
   "metadata": {},
   "outputs": [
    {
     "data": {
      "text/plain": [
       "Index(['Username', 'userhandel', 'Time', 'comments', 'retweets', 'likes',\n",
       "       'tweet'],\n",
       "      dtype='object')"
      ]
     },
     "execution_count": 20,
     "metadata": {},
     "output_type": "execute_result"
    }
   ],
   "source": [
    "julyTweetTop.columns"
   ]
  },
  {
   "cell_type": "code",
   "execution_count": 21,
   "metadata": {},
   "outputs": [
    {
     "data": {
      "text/plain": [
       "(156, 7)"
      ]
     },
     "execution_count": 21,
     "metadata": {},
     "output_type": "execute_result"
    }
   ],
   "source": [
    "julyTweetTop.shape"
   ]
  },
  {
   "cell_type": "code",
   "execution_count": 22,
   "metadata": {},
   "outputs": [],
   "source": [
    "augustTweetTop=pd.read_csv('Scrapped tweets\\covidTweets(August-TopSection).csv.csv')"
   ]
  },
  {
   "cell_type": "code",
   "execution_count": 23,
   "metadata": {},
   "outputs": [
    {
     "data": {
      "text/html": [
       "<div>\n",
       "<style scoped>\n",
       "    .dataframe tbody tr th:only-of-type {\n",
       "        vertical-align: middle;\n",
       "    }\n",
       "\n",
       "    .dataframe tbody tr th {\n",
       "        vertical-align: top;\n",
       "    }\n",
       "\n",
       "    .dataframe thead th {\n",
       "        text-align: right;\n",
       "    }\n",
       "</style>\n",
       "<table border=\"1\" class=\"dataframe\">\n",
       "  <thead>\n",
       "    <tr style=\"text-align: right;\">\n",
       "      <th></th>\n",
       "      <th>Username</th>\n",
       "      <th>userhandel</th>\n",
       "      <th>Time</th>\n",
       "      <th>comments</th>\n",
       "      <th>retweets</th>\n",
       "      <th>likes</th>\n",
       "      <th>Tweet</th>\n",
       "    </tr>\n",
       "  </thead>\n",
       "  <tbody>\n",
       "    <tr>\n",
       "      <th>0</th>\n",
       "      <td>Chandrima Bhattacharya</td>\n",
       "      <td>@Chandrima_04</td>\n",
       "      <td>2021-08-13T12:50:17.000Z</td>\n",
       "      <td>NaN</td>\n",
       "      <td>8.0</td>\n",
       "      <td>14.0</td>\n",
       "      <td>#Kolkata starts city sampling post lockdown! L...</td>\n",
       "    </tr>\n",
       "    <tr>\n",
       "      <th>1</th>\n",
       "      <td>Shantanu Biswas (শুভ্র)</td>\n",
       "      <td>@Shantanu_subhra</td>\n",
       "      <td>2021-08-10T03:21:50.000Z</td>\n",
       "      <td>NaN</td>\n",
       "      <td>NaN</td>\n",
       "      <td>NaN</td>\n",
       "      <td>35,499 cases and 447 deaths in last 24 hours.....</td>\n",
       "    </tr>\n",
       "    <tr>\n",
       "      <th>2</th>\n",
       "      <td>Sayan Dey</td>\n",
       "      <td>@sayan_dey</td>\n",
       "      <td>2021-08-10T19:50:58.000Z</td>\n",
       "      <td>NaN</td>\n",
       "      <td>NaN</td>\n",
       "      <td>NaN</td>\n",
       "      <td>Well, of course! All thanks to you! Actually, ...</td>\n",
       "    </tr>\n",
       "    <tr>\n",
       "      <th>3</th>\n",
       "      <td>Megha Kejriwal</td>\n",
       "      <td>@Megha_journo</td>\n",
       "      <td>2021-08-27T09:48:14.000Z</td>\n",
       "      <td>1.0</td>\n",
       "      <td>1.0</td>\n",
       "      <td>1.0</td>\n",
       "      <td>#BREAKING_NEWS: In view of the #Covid situatio...</td>\n",
       "    </tr>\n",
       "    <tr>\n",
       "      <th>4</th>\n",
       "      <td>Sparsh</td>\n",
       "      <td>@info_sparsh</td>\n",
       "      <td>2021-08-24T06:21:58.000Z</td>\n",
       "      <td>NaN</td>\n",
       "      <td>NaN</td>\n",
       "      <td>NaN</td>\n",
       "      <td>What can we do to avoid the Third Wave of Covi...</td>\n",
       "    </tr>\n",
       "  </tbody>\n",
       "</table>\n",
       "</div>"
      ],
      "text/plain": [
       "                   Username        userhandel                      Time  \\\n",
       "0    Chandrima Bhattacharya     @Chandrima_04  2021-08-13T12:50:17.000Z   \n",
       "1  Shantanu Biswas (শুভ্র)   @Shantanu_subhra  2021-08-10T03:21:50.000Z   \n",
       "2                 Sayan Dey        @sayan_dey  2021-08-10T19:50:58.000Z   \n",
       "3            Megha Kejriwal     @Megha_journo  2021-08-27T09:48:14.000Z   \n",
       "4                    Sparsh      @info_sparsh  2021-08-24T06:21:58.000Z   \n",
       "\n",
       "   comments  retweets  likes  \\\n",
       "0       NaN       8.0   14.0   \n",
       "1       NaN       NaN    NaN   \n",
       "2       NaN       NaN    NaN   \n",
       "3       1.0       1.0    1.0   \n",
       "4       NaN       NaN    NaN   \n",
       "\n",
       "                                               Tweet  \n",
       "0  #Kolkata starts city sampling post lockdown! L...  \n",
       "1  35,499 cases and 447 deaths in last 24 hours.....  \n",
       "2  Well, of course! All thanks to you! Actually, ...  \n",
       "3  #BREAKING_NEWS: In view of the #Covid situatio...  \n",
       "4  What can we do to avoid the Third Wave of Covi...  "
      ]
     },
     "execution_count": 23,
     "metadata": {},
     "output_type": "execute_result"
    }
   ],
   "source": [
    "augustTweetTop.head(5)"
   ]
  },
  {
   "cell_type": "code",
   "execution_count": 24,
   "metadata": {},
   "outputs": [
    {
     "data": {
      "text/plain": [
       "Index(['Username', 'userhandel', 'Time', 'comments', 'retweets', 'likes',\n",
       "       'Tweet'],\n",
       "      dtype='object')"
      ]
     },
     "execution_count": 24,
     "metadata": {},
     "output_type": "execute_result"
    }
   ],
   "source": [
    "augustTweetTop.columns"
   ]
  },
  {
   "cell_type": "code",
   "execution_count": 25,
   "metadata": {},
   "outputs": [
    {
     "data": {
      "text/plain": [
       "(63, 7)"
      ]
     },
     "execution_count": 25,
     "metadata": {},
     "output_type": "execute_result"
    }
   ],
   "source": [
    "augustTweetTop.shape"
   ]
  },
  {
   "cell_type": "markdown",
   "metadata": {},
   "source": [
    "<h1>Top Section Tweet From August(01-07-21 till 31-07-21) is 63\n",
    " in number with no duplicate tweets</h1>"
   ]
  },
  {
   "cell_type": "code",
   "execution_count": null,
   "metadata": {},
   "outputs": [],
   "source": []
  }
 ],
 "metadata": {
  "interpreter": {
   "hash": "634498344980471fb0944d848df28373b199ff2468c6404ec32442b20f813eee"
  },
  "kernelspec": {
   "display_name": "Python 3.9.6 64-bit",
   "language": "python",
   "name": "python3"
  },
  "language_info": {
   "codemirror_mode": {
    "name": "ipython",
    "version": 3
   },
   "file_extension": ".py",
   "mimetype": "text/x-python",
   "name": "python",
   "nbconvert_exporter": "python",
   "pygments_lexer": "ipython3",
   "version": "3.9.6"
  },
  "orig_nbformat": 4
 },
 "nbformat": 4,
 "nbformat_minor": 2
}
