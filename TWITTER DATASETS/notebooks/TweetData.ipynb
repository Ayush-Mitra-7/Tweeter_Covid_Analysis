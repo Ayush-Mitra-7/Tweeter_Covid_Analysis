{
 "cells": [
  {
   "cell_type": "code",
   "execution_count": 2,
   "metadata": {},
   "outputs": [],
   "source": [
    "import pandas as pd"
   ]
  },
  {
   "cell_type": "markdown",
   "metadata": {},
   "source": [
    "<h1>Merging March Tweets(Top Section tweets and Latest Section Tweets)</h1>"
   ]
  },
  {
   "cell_type": "code",
   "execution_count": 3,
   "metadata": {},
   "outputs": [],
   "source": [
    "MarchTweetTop=pd.read_csv(r'Scrapped tweets\\Covid_tweets(march-2021-topSection).csv')\n",
    "MarchTweetLatest=pd.read_csv(r'Scrapped tweets\\Covid_tweets(march-2021-latest).csv')"
   ]
  },
  {
   "cell_type": "markdown",
   "metadata": {},
   "source": [
    "<h3>Shape(size) of March tweets from the top section</h3>"
   ]
  },
  {
   "cell_type": "code",
   "execution_count": 4,
   "metadata": {},
   "outputs": [
    {
     "data": {
      "text/plain": [
       "(67, 7)"
      ]
     },
     "execution_count": 4,
     "metadata": {},
     "output_type": "execute_result"
    }
   ],
   "source": [
    "MarchTweetTop.shape"
   ]
  },
  {
   "cell_type": "markdown",
   "metadata": {},
   "source": [
    "<h3>Shape(size) of March tweets from the Latest section</h3>"
   ]
  },
  {
   "cell_type": "code",
   "execution_count": 5,
   "metadata": {},
   "outputs": [
    {
     "data": {
      "text/plain": [
       "(81, 7)"
      ]
     },
     "execution_count": 5,
     "metadata": {},
     "output_type": "execute_result"
    }
   ],
   "source": [
    "MarchTweetLatest.shape"
   ]
  },
  {
   "cell_type": "markdown",
   "metadata": {},
   "source": [
    "<h3>Merging both the Section to create the main March Tweet dataframe</h3>"
   ]
  },
  {
   "cell_type": "code",
   "execution_count": 6,
   "metadata": {},
   "outputs": [],
   "source": [
    "MarchTweet=pd.concat([MarchTweetLatest,MarchTweetTop]).drop_duplicates().reset_index(drop=True)"
   ]
  },
  {
   "cell_type": "markdown",
   "metadata": {},
   "source": [
    "<h3>shape(size) of the Total Merged March Tweets</h3>"
   ]
  },
  {
   "cell_type": "code",
   "execution_count": 7,
   "metadata": {},
   "outputs": [
    {
     "data": {
      "text/plain": [
       "(81, 7)"
      ]
     },
     "execution_count": 7,
     "metadata": {},
     "output_type": "execute_result"
    }
   ],
   "source": [
    "MarchTweet.shape"
   ]
  },
  {
   "cell_type": "markdown",
   "metadata": {},
   "source": [
    "<h3>Checking for any duplicate elemnts in MarchTweet</h3>"
   ]
  },
  {
   "cell_type": "code",
   "execution_count": 8,
   "metadata": {},
   "outputs": [],
   "source": [
    "duplicate = MarchTweet[MarchTweet.duplicated()]"
   ]
  },
  {
   "cell_type": "code",
   "execution_count": 9,
   "metadata": {},
   "outputs": [
    {
     "data": {
      "text/plain": [
       "(0, 7)"
      ]
     },
     "execution_count": 9,
     "metadata": {},
     "output_type": "execute_result"
    }
   ],
   "source": [
    "\n",
    "duplicate.shape"
   ]
  },
  {
   "cell_type": "markdown",
   "metadata": {},
   "source": [
    "<h3>As the no of row  elements are 0 in duplicate so their are no duplicate tweets</h3>"
   ]
  },
  {
   "cell_type": "code",
   "execution_count": 10,
   "metadata": {},
   "outputs": [
    {
     "data": {
      "text/html": [
       "<div>\n",
       "<style scoped>\n",
       "    .dataframe tbody tr th:only-of-type {\n",
       "        vertical-align: middle;\n",
       "    }\n",
       "\n",
       "    .dataframe tbody tr th {\n",
       "        vertical-align: top;\n",
       "    }\n",
       "\n",
       "    .dataframe thead th {\n",
       "        text-align: right;\n",
       "    }\n",
       "</style>\n",
       "<table border=\"1\" class=\"dataframe\">\n",
       "  <thead>\n",
       "    <tr style=\"text-align: right;\">\n",
       "      <th></th>\n",
       "      <th>UserName</th>\n",
       "      <th>Userhandle</th>\n",
       "      <th>Time</th>\n",
       "      <th>comments</th>\n",
       "      <th>retweets</th>\n",
       "      <th>likes</th>\n",
       "      <th>Tweet</th>\n",
       "    </tr>\n",
       "  </thead>\n",
       "  <tbody>\n",
       "    <tr>\n",
       "      <th>0</th>\n",
       "      <td>Megha Kejriwal</td>\n",
       "      <td>@Megha_journo</td>\n",
       "      <td>2021-03-30T09:18:17.000Z</td>\n",
       "      <td>NaN</td>\n",
       "      <td>NaN</td>\n",
       "      <td>1.0</td>\n",
       "      <td>Airports may levy spot fines if face mask rule...</td>\n",
       "    </tr>\n",
       "    <tr>\n",
       "      <th>1</th>\n",
       "      <td>Soumyajit Majumder</td>\n",
       "      <td>@SoumyajitWrites</td>\n",
       "      <td>2021-03-29T15:00:18.000Z</td>\n",
       "      <td>4.0</td>\n",
       "      <td>NaN</td>\n",
       "      <td>11.0</td>\n",
       "      <td>West Bengal reports 639 new COVID-19 cases, Ko...</td>\n",
       "    </tr>\n",
       "    <tr>\n",
       "      <th>2</th>\n",
       "      <td>Nishit Shaw</td>\n",
       "      <td>@NishitShawHere</td>\n",
       "      <td>2021-03-29T05:35:57.000Z</td>\n",
       "      <td>NaN</td>\n",
       "      <td>1.0</td>\n",
       "      <td>NaN</td>\n",
       "      <td>Recovery rate drops to 94.32%, very very worri...</td>\n",
       "    </tr>\n",
       "    <tr>\n",
       "      <th>3</th>\n",
       "      <td>Rajlkxmi Datta</td>\n",
       "      <td>@RajlkxmiD</td>\n",
       "      <td>2021-03-28T13:56:19.000Z</td>\n",
       "      <td>NaN</td>\n",
       "      <td>NaN</td>\n",
       "      <td>NaN</td>\n",
       "      <td>Replying to \\n@republic</td>\n",
       "    </tr>\n",
       "    <tr>\n",
       "      <th>4</th>\n",
       "      <td>Call me WD or Wri</td>\n",
       "      <td>@Wri_Dutta</td>\n",
       "      <td>2021-03-28T07:22:24.000Z</td>\n",
       "      <td>NaN</td>\n",
       "      <td>NaN</td>\n",
       "      <td>NaN</td>\n",
       "      <td>Doesn’t quite feel like #Holi, but just anothe...</td>\n",
       "    </tr>\n",
       "  </tbody>\n",
       "</table>\n",
       "</div>"
      ],
      "text/plain": [
       "             UserName        Userhandle                      Time  comments  \\\n",
       "0      Megha Kejriwal     @Megha_journo  2021-03-30T09:18:17.000Z       NaN   \n",
       "1  Soumyajit Majumder  @SoumyajitWrites  2021-03-29T15:00:18.000Z       4.0   \n",
       "2         Nishit Shaw   @NishitShawHere  2021-03-29T05:35:57.000Z       NaN   \n",
       "3      Rajlkxmi Datta        @RajlkxmiD  2021-03-28T13:56:19.000Z       NaN   \n",
       "4   Call me WD or Wri        @Wri_Dutta  2021-03-28T07:22:24.000Z       NaN   \n",
       "\n",
       "   retweets  likes                                              Tweet  \n",
       "0       NaN    1.0  Airports may levy spot fines if face mask rule...  \n",
       "1       NaN   11.0  West Bengal reports 639 new COVID-19 cases, Ko...  \n",
       "2       1.0    NaN  Recovery rate drops to 94.32%, very very worri...  \n",
       "3       NaN    NaN                            Replying to \\n@republic  \n",
       "4       NaN    NaN  Doesn’t quite feel like #Holi, but just anothe...  "
      ]
     },
     "execution_count": 10,
     "metadata": {},
     "output_type": "execute_result"
    }
   ],
   "source": [
    "MarchTweet.head(5)"
   ]
  },
  {
   "cell_type": "markdown",
   "metadata": {},
   "source": [
    "<h3>Storing the Merged tweet Data into a CSV file named MarchTweets-2021</h3>"
   ]
  },
  {
   "cell_type": "code",
   "execution_count": 11,
   "metadata": {},
   "outputs": [],
   "source": [
    "MarchTweet.to_csv('MarchTweets-2021.csv')"
   ]
  },
  {
   "cell_type": "markdown",
   "metadata": {},
   "source": [
    "<h1>Merging April Tweets(Top Section tweets and Latest Section Tweets)</h1>"
   ]
  },
  {
   "cell_type": "code",
   "execution_count": 12,
   "metadata": {},
   "outputs": [],
   "source": [
    "AprilTweetsTop=pd.read_csv(r'Scrapped tweets\\covidTweets(april-2021-TopSection).csv')\n",
    "AprilTweetsLatest=pd.read_csv(r'Scrapped tweets\\covidTweets(april-2021-latest).csv.csv')"
   ]
  },
  {
   "cell_type": "markdown",
   "metadata": {},
   "source": [
    "<h3>Shape(size) of April tweets from the Top Scetion</h3>"
   ]
  },
  {
   "cell_type": "code",
   "execution_count": 13,
   "metadata": {},
   "outputs": [
    {
     "data": {
      "text/plain": [
       "(85, 7)"
      ]
     },
     "execution_count": 13,
     "metadata": {},
     "output_type": "execute_result"
    }
   ],
   "source": [
    "AprilTweetsTop.shape"
   ]
  },
  {
   "cell_type": "markdown",
   "metadata": {},
   "source": [
    "<h3>Shape(size) of April tweets from the Latest Scetion</h3>"
   ]
  },
  {
   "cell_type": "code",
   "execution_count": 14,
   "metadata": {},
   "outputs": [
    {
     "data": {
      "text/plain": [
       "(444, 7)"
      ]
     },
     "execution_count": 14,
     "metadata": {},
     "output_type": "execute_result"
    }
   ],
   "source": [
    "AprilTweetsLatest.shape"
   ]
  },
  {
   "cell_type": "markdown",
   "metadata": {},
   "source": [
    "<h3>Merging both the Section to create the main April Tweet dataframe</h3>"
   ]
  },
  {
   "cell_type": "code",
   "execution_count": 15,
   "metadata": {},
   "outputs": [],
   "source": [
    "AprilTweet=pd.concat([AprilTweetsLatest,AprilTweetsTop]).drop_duplicates().reset_index(drop=True)"
   ]
  },
  {
   "cell_type": "markdown",
   "metadata": {},
   "source": [
    "<h3>Checking for the any Duplicated Value in the Merged dataframe</h3>"
   ]
  },
  {
   "cell_type": "code",
   "execution_count": 16,
   "metadata": {},
   "outputs": [],
   "source": [
    "duplicate = AprilTweet[AprilTweet.duplicated()]"
   ]
  },
  {
   "cell_type": "code",
   "execution_count": 17,
   "metadata": {},
   "outputs": [
    {
     "data": {
      "text/plain": [
       "(0, 7)"
      ]
     },
     "execution_count": 17,
     "metadata": {},
     "output_type": "execute_result"
    }
   ],
   "source": [
    "duplicate.shape"
   ]
  },
  {
   "cell_type": "markdown",
   "metadata": {},
   "source": [
    "<h3> As the Data of the Row is Zero there are no duplicate elements in AprilTweet</h3>"
   ]
  },
  {
   "cell_type": "markdown",
   "metadata": {},
   "source": [
    "<h3>Shape(size) of the Main April Tweet data</h3>"
   ]
  },
  {
   "cell_type": "code",
   "execution_count": 18,
   "metadata": {},
   "outputs": [
    {
     "data": {
      "text/plain": [
       "(451, 7)"
      ]
     },
     "execution_count": 18,
     "metadata": {},
     "output_type": "execute_result"
    }
   ],
   "source": [
    "AprilTweet.shape"
   ]
  },
  {
   "cell_type": "code",
   "execution_count": 19,
   "metadata": {},
   "outputs": [
    {
     "data": {
      "text/html": [
       "<div>\n",
       "<style scoped>\n",
       "    .dataframe tbody tr th:only-of-type {\n",
       "        vertical-align: middle;\n",
       "    }\n",
       "\n",
       "    .dataframe tbody tr th {\n",
       "        vertical-align: top;\n",
       "    }\n",
       "\n",
       "    .dataframe thead th {\n",
       "        text-align: right;\n",
       "    }\n",
       "</style>\n",
       "<table border=\"1\" class=\"dataframe\">\n",
       "  <thead>\n",
       "    <tr style=\"text-align: right;\">\n",
       "      <th></th>\n",
       "      <th>UserName</th>\n",
       "      <th>userhandle</th>\n",
       "      <th>Time</th>\n",
       "      <th>comments</th>\n",
       "      <th>retweets</th>\n",
       "      <th>likes</th>\n",
       "      <th>Tweet</th>\n",
       "    </tr>\n",
       "  </thead>\n",
       "  <tbody>\n",
       "    <tr>\n",
       "      <th>0</th>\n",
       "      <td>Sumant Kumar</td>\n",
       "      <td>@SumantKumar2019</td>\n",
       "      <td>2021-04-29T20:16:34.000Z</td>\n",
       "      <td>NaN</td>\n",
       "      <td>NaN</td>\n",
       "      <td>NaN</td>\n",
       "      <td>@MamataOfficial\\n\\n\\n@narendramodi\\n \\n@DrHVof...</td>\n",
       "    </tr>\n",
       "    <tr>\n",
       "      <th>1</th>\n",
       "      <td>MEHEDI HASSAN MONDAL</td>\n",
       "      <td>@MEHEDIH59739306</td>\n",
       "      <td>2021-04-29T18:22:50.000Z</td>\n",
       "      <td>1.0</td>\n",
       "      <td>2.0</td>\n",
       "      <td>3.0</td>\n",
       "      <td>Where is our India'n GOVERNMENT.lack of people...</td>\n",
       "    </tr>\n",
       "    <tr>\n",
       "      <th>2</th>\n",
       "      <td>Janta Power</td>\n",
       "      <td>@Power_Janta</td>\n",
       "      <td>2021-04-29T15:57:31.000Z</td>\n",
       "      <td>NaN</td>\n",
       "      <td>NaN</td>\n",
       "      <td>NaN</td>\n",
       "      <td>The media has turned a blind eye to the ongoin...</td>\n",
       "    </tr>\n",
       "    <tr>\n",
       "      <th>3</th>\n",
       "      <td>Chakradharparhi</td>\n",
       "      <td>@Chakradharparhi</td>\n",
       "      <td>2021-04-29T12:47:25.000Z</td>\n",
       "      <td>NaN</td>\n",
       "      <td>NaN</td>\n",
       "      <td>NaN</td>\n",
       "      <td>My dear all twiter friends &amp; My siniour person...</td>\n",
       "    </tr>\n",
       "    <tr>\n",
       "      <th>4</th>\n",
       "      <td>Janta Power</td>\n",
       "      <td>@Power_Janta</td>\n",
       "      <td>2021-04-29T11:55:41.000Z</td>\n",
       "      <td>2.0</td>\n",
       "      <td>NaN</td>\n",
       "      <td>NaN</td>\n",
       "      <td>@KareenaKapoor\\n reveals chat with Taimur abou...</td>\n",
       "    </tr>\n",
       "  </tbody>\n",
       "</table>\n",
       "</div>"
      ],
      "text/plain": [
       "               UserName        userhandle                      Time  comments  \\\n",
       "0          Sumant Kumar  @SumantKumar2019  2021-04-29T20:16:34.000Z       NaN   \n",
       "1  MEHEDI HASSAN MONDAL  @MEHEDIH59739306  2021-04-29T18:22:50.000Z       1.0   \n",
       "2           Janta Power      @Power_Janta  2021-04-29T15:57:31.000Z       NaN   \n",
       "3       Chakradharparhi  @Chakradharparhi  2021-04-29T12:47:25.000Z       NaN   \n",
       "4           Janta Power      @Power_Janta  2021-04-29T11:55:41.000Z       2.0   \n",
       "\n",
       "   retweets  likes                                              Tweet  \n",
       "0       NaN    NaN  @MamataOfficial\\n\\n\\n@narendramodi\\n \\n@DrHVof...  \n",
       "1       2.0    3.0  Where is our India'n GOVERNMENT.lack of people...  \n",
       "2       NaN    NaN  The media has turned a blind eye to the ongoin...  \n",
       "3       NaN    NaN  My dear all twiter friends & My siniour person...  \n",
       "4       NaN    NaN  @KareenaKapoor\\n reveals chat with Taimur abou...  "
      ]
     },
     "execution_count": 19,
     "metadata": {},
     "output_type": "execute_result"
    }
   ],
   "source": [
    "AprilTweet.head(5)"
   ]
  },
  {
   "cell_type": "markdown",
   "metadata": {},
   "source": [
    "<h3>Storing the Merged tweet Data into a CSV file named AprilTweets-2021</h3>"
   ]
  },
  {
   "cell_type": "code",
   "execution_count": 20,
   "metadata": {},
   "outputs": [],
   "source": [
    "AprilTweet.to_csv('AprilTweets-2021.csv')"
   ]
  },
  {
   "cell_type": "markdown",
   "metadata": {},
   "source": [
    "<h1>Merging May Tweets(Top Section tweets and Latest Section Tweets)</h1>"
   ]
  },
  {
   "cell_type": "code",
   "execution_count": 21,
   "metadata": {},
   "outputs": [],
   "source": [
    "MayTweetTop=pd.read_csv(r'Scrapped tweets\\covidTweets(may-TopSection).csv.csv')\n",
    "MayTweetLatest=pd.read_csv(r'Scrapped tweets\\covidTweets(may-2021-Latest).csv')"
   ]
  },
  {
   "cell_type": "markdown",
   "metadata": {},
   "source": [
    "<h3>Shape(size) of May tweets from the Top Section</h3>"
   ]
  },
  {
   "cell_type": "code",
   "execution_count": 22,
   "metadata": {},
   "outputs": [
    {
     "data": {
      "text/plain": [
       "(84, 7)"
      ]
     },
     "execution_count": 22,
     "metadata": {},
     "output_type": "execute_result"
    }
   ],
   "source": [
    "MayTweetTop.shape"
   ]
  },
  {
   "cell_type": "markdown",
   "metadata": {},
   "source": [
    "<h3>Shape(size) of May tweets from the Latest Section</h3>"
   ]
  },
  {
   "cell_type": "code",
   "execution_count": 23,
   "metadata": {},
   "outputs": [
    {
     "data": {
      "text/plain": [
       "(272, 7)"
      ]
     },
     "execution_count": 23,
     "metadata": {},
     "output_type": "execute_result"
    }
   ],
   "source": [
    "MayTweetLatest.shape"
   ]
  },
  {
   "cell_type": "markdown",
   "metadata": {},
   "source": [
    "<h3>Merging both the Section to create the main MayTweet dataframe</h3>"
   ]
  },
  {
   "cell_type": "code",
   "execution_count": 24,
   "metadata": {},
   "outputs": [],
   "source": [
    "MayTweet=pd.concat([MayTweetLatest,MayTweetTop]).drop_duplicates().reset_index(drop=True)"
   ]
  },
  {
   "cell_type": "markdown",
   "metadata": {},
   "source": [
    "<h3>Shape(size) of Main May tweets </h3>"
   ]
  },
  {
   "cell_type": "code",
   "execution_count": 25,
   "metadata": {},
   "outputs": [
    {
     "data": {
      "text/plain": [
       "(288, 7)"
      ]
     },
     "execution_count": 25,
     "metadata": {},
     "output_type": "execute_result"
    }
   ],
   "source": [
    "MayTweet.shape"
   ]
  },
  {
   "cell_type": "markdown",
   "metadata": {},
   "source": [
    "<h3>Checking for the any duplicate values in MayTweet</h3>"
   ]
  },
  {
   "cell_type": "code",
   "execution_count": 26,
   "metadata": {},
   "outputs": [],
   "source": [
    "duplicate = MayTweet[MayTweet.duplicated()]"
   ]
  },
  {
   "cell_type": "code",
   "execution_count": 27,
   "metadata": {},
   "outputs": [
    {
     "data": {
      "text/plain": [
       "(0, 7)"
      ]
     },
     "execution_count": 27,
     "metadata": {},
     "output_type": "execute_result"
    }
   ],
   "source": [
    "duplicate.shape"
   ]
  },
  {
   "cell_type": "markdown",
   "metadata": {},
   "source": [
    "<h3>As their is no Values in row there are no duplicate elements</h3>"
   ]
  },
  {
   "cell_type": "code",
   "execution_count": 28,
   "metadata": {},
   "outputs": [
    {
     "data": {
      "text/html": [
       "<div>\n",
       "<style scoped>\n",
       "    .dataframe tbody tr th:only-of-type {\n",
       "        vertical-align: middle;\n",
       "    }\n",
       "\n",
       "    .dataframe tbody tr th {\n",
       "        vertical-align: top;\n",
       "    }\n",
       "\n",
       "    .dataframe thead th {\n",
       "        text-align: right;\n",
       "    }\n",
       "</style>\n",
       "<table border=\"1\" class=\"dataframe\">\n",
       "  <thead>\n",
       "    <tr style=\"text-align: right;\">\n",
       "      <th></th>\n",
       "      <th>Username</th>\n",
       "      <th>Userhandle</th>\n",
       "      <th>Time</th>\n",
       "      <th>comments</th>\n",
       "      <th>retweets</th>\n",
       "      <th>likes</th>\n",
       "      <th>Tweet</th>\n",
       "    </tr>\n",
       "  </thead>\n",
       "  <tbody>\n",
       "    <tr>\n",
       "      <th>0</th>\n",
       "      <td>Mohammed Zeeshan</td>\n",
       "      <td>@ZeeshanAITC</td>\n",
       "      <td>2021-05-30T23:31:17.000Z</td>\n",
       "      <td>NaN</td>\n",
       "      <td>1.0</td>\n",
       "      <td>4</td>\n",
       "      <td>#cancelboardexam\\nDon't trigger the Covid-19 i...</td>\n",
       "    </tr>\n",
       "    <tr>\n",
       "      <th>1</th>\n",
       "      <td>Ujjwal Roy</td>\n",
       "      <td>@ujjwalroy06</td>\n",
       "      <td>2021-05-30T17:33:16.000Z</td>\n",
       "      <td>NaN</td>\n",
       "      <td>1.0</td>\n",
       "      <td>1</td>\n",
       "      <td>Read_My_Coverage_Story \\n@ANI\\n\\n#IHAFoundatio...</td>\n",
       "    </tr>\n",
       "    <tr>\n",
       "      <th>2</th>\n",
       "      <td>Sourav_Raj_d</td>\n",
       "      <td>@iSourav_d</td>\n",
       "      <td>2021-05-30T17:21:21.000Z</td>\n",
       "      <td>NaN</td>\n",
       "      <td>NaN</td>\n",
       "      <td>1</td>\n",
       "      <td>KMC Hon'ble Mayor \\n@FirhadHakim\\n sir,Inaugur...</td>\n",
       "    </tr>\n",
       "    <tr>\n",
       "      <th>3</th>\n",
       "      <td>Soumyajit Majumder</td>\n",
       "      <td>@SoumyajitWrites</td>\n",
       "      <td>2021-05-30T17:00:48.000Z</td>\n",
       "      <td>1.0</td>\n",
       "      <td>6.0</td>\n",
       "      <td>48</td>\n",
       "      <td>Bengal’s COVID active cases drops below 1 lakh...</td>\n",
       "    </tr>\n",
       "    <tr>\n",
       "      <th>4</th>\n",
       "      <td>Saurendranath Konar</td>\n",
       "      <td>@SaurendranathK1</td>\n",
       "      <td>2021-05-30T13:13:13.000Z</td>\n",
       "      <td>1.0</td>\n",
       "      <td>NaN</td>\n",
       "      <td>NaN</td>\n",
       "      <td>Ramdev again questions Covid-19 vaccines, says...</td>\n",
       "    </tr>\n",
       "  </tbody>\n",
       "</table>\n",
       "</div>"
      ],
      "text/plain": [
       "              Username        Userhandle                      Time  comments  \\\n",
       "0     Mohammed Zeeshan      @ZeeshanAITC  2021-05-30T23:31:17.000Z       NaN   \n",
       "1           Ujjwal Roy      @ujjwalroy06  2021-05-30T17:33:16.000Z       NaN   \n",
       "2        Sourav_Raj_d         @iSourav_d  2021-05-30T17:21:21.000Z       NaN   \n",
       "3   Soumyajit Majumder  @SoumyajitWrites  2021-05-30T17:00:48.000Z       1.0   \n",
       "4  Saurendranath Konar  @SaurendranathK1  2021-05-30T13:13:13.000Z       1.0   \n",
       "\n",
       "   retweets likes                                              Tweet  \n",
       "0       1.0     4  #cancelboardexam\\nDon't trigger the Covid-19 i...  \n",
       "1       1.0     1  Read_My_Coverage_Story \\n@ANI\\n\\n#IHAFoundatio...  \n",
       "2       NaN     1  KMC Hon'ble Mayor \\n@FirhadHakim\\n sir,Inaugur...  \n",
       "3       6.0    48  Bengal’s COVID active cases drops below 1 lakh...  \n",
       "4       NaN   NaN  Ramdev again questions Covid-19 vaccines, says...  "
      ]
     },
     "execution_count": 28,
     "metadata": {},
     "output_type": "execute_result"
    }
   ],
   "source": [
    "MayTweet.head(5)"
   ]
  },
  {
   "cell_type": "markdown",
   "metadata": {},
   "source": [
    "<h3>Storing the Merged tweet Data into a CSV file named MayTweets-2021</h3>"
   ]
  },
  {
   "cell_type": "code",
   "execution_count": 29,
   "metadata": {},
   "outputs": [],
   "source": [
    "MayTweet.to_csv('MayTweets-2021.csv')"
   ]
  },
  {
   "cell_type": "markdown",
   "metadata": {},
   "source": [
    "<h1>Merging June Tweets(Top Section tweets and Latest Section Tweets)</h1>"
   ]
  },
  {
   "cell_type": "code",
   "execution_count": 35,
   "metadata": {},
   "outputs": [],
   "source": [
    "JuneTweetTop=pd.read_csv(r\"Scrapped tweets\\covidtweets(june-TopSectio).csv\")\n",
    "JuneTweetLatest=pd.read_csv(r\"Scrapped tweets\\covidTweets(may-2021-Latest).csv\")"
   ]
  },
  {
   "cell_type": "markdown",
   "metadata": {},
   "source": [
    "<h3>Shape(size) of the tweets From the Top Section In June</h3>"
   ]
  },
  {
   "cell_type": "code",
   "execution_count": 36,
   "metadata": {},
   "outputs": [
    {
     "data": {
      "text/plain": [
       "(79, 7)"
      ]
     },
     "execution_count": 36,
     "metadata": {},
     "output_type": "execute_result"
    }
   ],
   "source": [
    "JuneTweetTop.shape"
   ]
  },
  {
   "cell_type": "markdown",
   "metadata": {},
   "source": [
    "<h3>Shape(size) of the tweets From the Latest Section In June</h3>"
   ]
  },
  {
   "cell_type": "code",
   "execution_count": 37,
   "metadata": {},
   "outputs": [
    {
     "data": {
      "text/plain": [
       "(272, 7)"
      ]
     },
     "execution_count": 37,
     "metadata": {},
     "output_type": "execute_result"
    }
   ],
   "source": [
    "JuneTweetLatest.shape"
   ]
  },
  {
   "cell_type": "markdown",
   "metadata": {},
   "source": [
    "<h3>Merging both the Section to create the main JuneTweet dataframe</h3>"
   ]
  },
  {
   "cell_type": "code",
   "execution_count": 40,
   "metadata": {},
   "outputs": [],
   "source": [
    "JuneTweet=pd.concat([JuneTweetLatest,JuneTweetTop]).drop_duplicates().reset_index(drop=True)"
   ]
  },
  {
   "cell_type": "markdown",
   "metadata": {},
   "source": [
    "<h3>shape(size) of the main JuneTweet dataFrame</h3>"
   ]
  },
  {
   "cell_type": "code",
   "execution_count": 41,
   "metadata": {},
   "outputs": [
    {
     "data": {
      "text/plain": [
       "(351, 7)"
      ]
     },
     "execution_count": 41,
     "metadata": {},
     "output_type": "execute_result"
    }
   ],
   "source": [
    "JuneTweet.shape"
   ]
  },
  {
   "cell_type": "markdown",
   "metadata": {},
   "source": [
    "<h3>Checking for duplicate elements in June tweets</h3>"
   ]
  },
  {
   "cell_type": "code",
   "execution_count": 43,
   "metadata": {},
   "outputs": [],
   "source": [
    "duplicate = JuneTweet[JuneTweet.duplicated()]"
   ]
  },
  {
   "cell_type": "code",
   "execution_count": 44,
   "metadata": {},
   "outputs": [
    {
     "data": {
      "text/plain": [
       "(0, 7)"
      ]
     },
     "execution_count": 44,
     "metadata": {},
     "output_type": "execute_result"
    }
   ],
   "source": [
    "duplicate.shape"
   ]
  },
  {
   "cell_type": "markdown",
   "metadata": {},
   "source": [
    "<h3>There is no duplicate elements</h3>"
   ]
  },
  {
   "cell_type": "markdown",
   "metadata": {},
   "source": [
    "<h3>Storing the Merged Dataframe into a CSV file named JuneTweets-2021</h3>"
   ]
  },
  {
   "cell_type": "code",
   "execution_count": 46,
   "metadata": {},
   "outputs": [
    {
     "data": {
      "text/html": [
       "<div>\n",
       "<style scoped>\n",
       "    .dataframe tbody tr th:only-of-type {\n",
       "        vertical-align: middle;\n",
       "    }\n",
       "\n",
       "    .dataframe tbody tr th {\n",
       "        vertical-align: top;\n",
       "    }\n",
       "\n",
       "    .dataframe thead th {\n",
       "        text-align: right;\n",
       "    }\n",
       "</style>\n",
       "<table border=\"1\" class=\"dataframe\">\n",
       "  <thead>\n",
       "    <tr style=\"text-align: right;\">\n",
       "      <th></th>\n",
       "      <th>Username</th>\n",
       "      <th>Userhandle</th>\n",
       "      <th>Time</th>\n",
       "      <th>comments</th>\n",
       "      <th>retweets</th>\n",
       "      <th>likes</th>\n",
       "      <th>Tweet</th>\n",
       "    </tr>\n",
       "  </thead>\n",
       "  <tbody>\n",
       "    <tr>\n",
       "      <th>0</th>\n",
       "      <td>Mohammed Zeeshan</td>\n",
       "      <td>@ZeeshanAITC</td>\n",
       "      <td>2021-05-30T23:31:17.000Z</td>\n",
       "      <td>NaN</td>\n",
       "      <td>1.0</td>\n",
       "      <td>4</td>\n",
       "      <td>#cancelboardexam\\nDon't trigger the Covid-19 i...</td>\n",
       "    </tr>\n",
       "    <tr>\n",
       "      <th>1</th>\n",
       "      <td>Ujjwal Roy</td>\n",
       "      <td>@ujjwalroy06</td>\n",
       "      <td>2021-05-30T17:33:16.000Z</td>\n",
       "      <td>NaN</td>\n",
       "      <td>1.0</td>\n",
       "      <td>1</td>\n",
       "      <td>Read_My_Coverage_Story \\n@ANI\\n\\n#IHAFoundatio...</td>\n",
       "    </tr>\n",
       "    <tr>\n",
       "      <th>2</th>\n",
       "      <td>Sourav_Raj_d</td>\n",
       "      <td>@iSourav_d</td>\n",
       "      <td>2021-05-30T17:21:21.000Z</td>\n",
       "      <td>NaN</td>\n",
       "      <td>NaN</td>\n",
       "      <td>1</td>\n",
       "      <td>KMC Hon'ble Mayor \\n@FirhadHakim\\n sir,Inaugur...</td>\n",
       "    </tr>\n",
       "    <tr>\n",
       "      <th>3</th>\n",
       "      <td>Soumyajit Majumder</td>\n",
       "      <td>@SoumyajitWrites</td>\n",
       "      <td>2021-05-30T17:00:48.000Z</td>\n",
       "      <td>1.0</td>\n",
       "      <td>6.0</td>\n",
       "      <td>48</td>\n",
       "      <td>Bengal’s COVID active cases drops below 1 lakh...</td>\n",
       "    </tr>\n",
       "    <tr>\n",
       "      <th>4</th>\n",
       "      <td>Saurendranath Konar</td>\n",
       "      <td>@SaurendranathK1</td>\n",
       "      <td>2021-05-30T13:13:13.000Z</td>\n",
       "      <td>1.0</td>\n",
       "      <td>NaN</td>\n",
       "      <td>NaN</td>\n",
       "      <td>Ramdev again questions Covid-19 vaccines, says...</td>\n",
       "    </tr>\n",
       "  </tbody>\n",
       "</table>\n",
       "</div>"
      ],
      "text/plain": [
       "              Username        Userhandle                      Time  comments  \\\n",
       "0     Mohammed Zeeshan      @ZeeshanAITC  2021-05-30T23:31:17.000Z       NaN   \n",
       "1           Ujjwal Roy      @ujjwalroy06  2021-05-30T17:33:16.000Z       NaN   \n",
       "2        Sourav_Raj_d         @iSourav_d  2021-05-30T17:21:21.000Z       NaN   \n",
       "3   Soumyajit Majumder  @SoumyajitWrites  2021-05-30T17:00:48.000Z       1.0   \n",
       "4  Saurendranath Konar  @SaurendranathK1  2021-05-30T13:13:13.000Z       1.0   \n",
       "\n",
       "   retweets likes                                              Tweet  \n",
       "0       1.0     4  #cancelboardexam\\nDon't trigger the Covid-19 i...  \n",
       "1       1.0     1  Read_My_Coverage_Story \\n@ANI\\n\\n#IHAFoundatio...  \n",
       "2       NaN     1  KMC Hon'ble Mayor \\n@FirhadHakim\\n sir,Inaugur...  \n",
       "3       6.0    48  Bengal’s COVID active cases drops below 1 lakh...  \n",
       "4       NaN   NaN  Ramdev again questions Covid-19 vaccines, says...  "
      ]
     },
     "execution_count": 46,
     "metadata": {},
     "output_type": "execute_result"
    }
   ],
   "source": [
    "JuneTweet.head(5)"
   ]
  },
  {
   "cell_type": "code",
   "execution_count": 47,
   "metadata": {},
   "outputs": [],
   "source": [
    "JuneTweet.to_csv('JuneTweets-2021.csv')"
   ]
  },
  {
   "cell_type": "markdown",
   "metadata": {},
   "source": [
    "<h1>Merging July Tweets(Top Section tweets and Latest Section Tweets)</h1>"
   ]
  },
  {
   "cell_type": "code",
   "execution_count": null,
   "metadata": {},
   "outputs": [],
   "source": []
  }
 ],
 "metadata": {
  "interpreter": {
   "hash": "634498344980471fb0944d848df28373b199ff2468c6404ec32442b20f813eee"
  },
  "kernelspec": {
   "display_name": "Python 3.9.6 64-bit",
   "language": "python",
   "name": "python3"
  },
  "language_info": {
   "codemirror_mode": {
    "name": "ipython",
    "version": 3
   },
   "file_extension": ".py",
   "mimetype": "text/x-python",
   "name": "python",
   "nbconvert_exporter": "python",
   "pygments_lexer": "ipython3",
   "version": "3.9.6"
  },
  "orig_nbformat": 4
 },
 "nbformat": 4,
 "nbformat_minor": 2
}
