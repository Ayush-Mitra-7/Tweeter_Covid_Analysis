{
 "cells": [
  {
   "cell_type": "code",
   "execution_count": 3,
   "id": "ee227b4f",
   "metadata": {},
   "outputs": [],
   "source": [
    "import twint\n",
    "import nest_asyncio\n",
    "nest_asyncio.apply()"
   ]
  },
  {
   "cell_type": "code",
   "execution_count": 4,
   "id": "69283b8f",
   "metadata": {},
   "outputs": [],
   "source": [
    "def Tweet_scrap(keyword,since,until,filename):\n",
    "    config = twint.Config()\n",
    "    config.Search = keyword\n",
    "    config.Lang = \"en\"\n",
    "    config.Limit = 1000\n",
    "    config.Since = since\n",
    "    config.Until = until\n",
    "    config.Near=\"India\"\n",
    "    config.Store_csv = True\n",
    "    config.Output = filename\n",
    "    twint.run.Search(config)"
   ]
  },
  {
   "cell_type": "code",
   "execution_count": 52,
   "id": "9976402e",
   "metadata": {},
   "outputs": [
    {
     "name": "stdout",
     "output_type": "stream",
     "text": [
      "1432486427024105473 2021-08-31 05:02:33 +0530 <Zams706> After without testing entry of #US soldiers in #Pakistan, do you really think #COVID19 exist?   #WellDoneNCOC\n",
      "1432485811065290754 2021-08-31 05:00:06 +0530 <jennu_sahadev> \"ICMR predicts third wave of COVID-19 to be less severe than the second wave — Delhi, Maharashtra and Uttar Pradesh may see a decline\"   https://t.co/kW91W2A8Ch\n",
      "1432484747188465668 2021-08-31 04:55:52 +0530 <akmalarif90> PPN - SOP FASA 1 | COVID-19 MALAYSIA -  https://t.co/ZfWGAzzrLg\n",
      "1432484339699240971 2021-08-31 04:54:15 +0530 <akmalarif90> #cegah_Covid19 #kitateguhkitamenang  https://t.co/pmLXvEjOoc\n",
      "1432484112321814528 2021-08-31 04:53:21 +0530 <kumarrahul0204> AIH after CoVid-19 Vax; are we seeing the tip of iceberg ?  True causality or mere association?  https://t.co/de8DYwXwUs @wong_yujun #LiverTwitter\n",
      "1432482508638097412 2021-08-31 04:46:58 +0530 <AnandKSen> @scottkessler @cnbci $ZM  Good analysis as always from Scott. How they arrive at these valuations boggles the mind.Zoom is the man of the hour during Covid-19 pandemic but many competitors out there &amp; nothing like live face to face meetings for greater results with personal touch  https://t.co/8FwhxCPTIR\n",
      "1432481368009633794 2021-08-31 04:42:27 +0530 <AznurNadiyah> Sunyi sepi semalam 😔. Ya Allah, merdekakanlah muka bumi ni dari #COVID19. Selamat Hari #Merdeka.  https://t.co/EBZxpSO2WD\n",
      "1432479442161463301 2021-08-31 04:34:47 +0530 <depachins> Positif au Covid-19, Renaud Muselier placé à l'isolement via @bleuprovence  https://t.co/is79J90zS0\n",
      "1432476876531027971 2021-08-31 04:24:36 +0530 <RayZee> What a twist! The tracking chip isnt in the vaccine but it's in your phone, your debit card and your smart devices. 🤣🤣.  #vaccinated #vaccine #GetVaccinated #Karachi #CovidVaccine #COVID19 #deltaplusVariant #Pakistan\n",
      "1432469800429756422 2021-08-31 03:56:29 +0530 <snsbmho> RM0 Zahirkan rasa cinta kepada negara dengan mengibarkan Jalur Gemilang.  Bersamalah berdoa agar negara segera pulih daripada wabak Covid-19. #MalaysiaPrihatin 🇲🇾  https://t.co/F8zwKW4X9k\n",
      "1432468334369378312 2021-08-31 03:50:39 +0530 <EzryIr> 31 Ogos 2021 |Salam Kemerdekaan  Nantikan segmen khas Petugas Pengurusan Jenazah COVID-19 Surau KKR &amp; JKR bersama SPJM dalam Berita Bernama Saluran ASTRO CH502 hari ini🇲🇾  Jutaan t.kasih atas sokongan &amp; doa’ yg dititipkan buat semua  #Allahjagakita   https://t.co/yd5KwqyQsu  https://t.co/0B651D8NF8\n",
      "1432462422376390656 2021-08-31 03:27:10 +0530 <rajeshgandhi> #startups A job portal catering only to #covid19 layoff victims\n",
      "1432447441337466884 2021-08-31 02:27:38 +0530 <MuqeetK35622287> The world is finally divided into two clear groups 1.the vaccinated ones waiting for the non vaccinated ones to die. 2.the non vaccinated ones waiting for the vaccinated ones to die. #covid-19\n",
      "1432439594348433409 2021-08-31 01:56:27 +0530 <aleinalishah> Delta Variant is the worst! #DeltaVariant #Covid_19\n",
      "1432437471669735427 2021-08-31 01:48:01 +0530 <sahilSmishra> @MumbaiPolice Respected @MumbaiPolice do visit once near  @advanilparab house look the gathering of volunteers, please do some legal action on that it's not about politics it's just for people who are standing for the minister they may be pay for it,  in the covid19 situation. Tim: 12pm to 9pm\n",
      "1432436621555601408 2021-08-31 01:44:38 +0530 <mdshrzal> RM0 Zahirkan rasa cinta kepada negara dengan mengibarkan Jalur Gemilang.  Bersamalah berdoa agar negara segera pulih daripada wabak Covid-19. #MalaysiaPrihatin\n",
      "1432425407194697731 2021-08-31 01:00:04 +0530 <Beritabualbual> Dimasa Pandemi Covid-19, Polres Bintan Tetap Melayani Pembuatan SKCK  https://t.co/5Yjbyccs7c\n",
      "1432424839361429505 2021-08-31 00:57:49 +0530 <GroupLeroy> ✅Kak @aishahjmm positive COVID-19, get well soon kakak 😷 . ✅IG: @leroy_media . #leroygroup#leroycrewproductions#leroylegacy#leroyfantastic#leroymedia#theleroy#theleroycafe#leroylux#entertainment#fashion#lifestyle#news#travel#info#media#celebrity#kualalumpur#singapore#brunei  https://t.co/bSNooJJOYS\n",
      "1432415585283948545 2021-08-31 00:21:03 +0530 <Thedmdvbd> රටකට ලොකුම හිමිකම ලැබුණු දිනයේම  නැවතත් වාර්තාවන දිනක වැඩිම අහිමිවීම්  2️⃣1️⃣6️⃣ 💔  #COVID19 #COVID19SL #COVID19LK #lka #SriLanka\n",
      "1432410027634016257 2021-08-30 23:58:58 +0530 <BiswasNirmalya> @labnol guru I really can't stop thanking u from the bottom of my heart because of ur trigger our entire family got vaccinated. God bless u! #vaccinated #COVID19 #COVISHIELD #ThankU\n",
      "[!] No more data! Scraping will stop now.\n",
      "found 0 deleted tweets in this search.\n"
     ]
    }
   ],
   "source": [
    "Tweet_scrap(\"vaccine\",\"2021-03-01\",\"2021-03-04\",\"3.csv\")"
   ]
  },
  {
   "cell_type": "code",
   "execution_count": null,
   "id": "7bd155fa",
   "metadata": {},
   "outputs": [],
   "source": []
  }
 ],
 "metadata": {
  "kernelspec": {
   "display_name": "Python 3",
   "language": "python",
   "name": "python3"
  },
  "language_info": {
   "codemirror_mode": {
    "name": "ipython",
    "version": 3
   },
   "file_extension": ".py",
   "mimetype": "text/x-python",
   "name": "python",
   "nbconvert_exporter": "python",
   "pygments_lexer": "ipython3",
   "version": "3.8.8"
  }
 },
 "nbformat": 4,
 "nbformat_minor": 5
}
