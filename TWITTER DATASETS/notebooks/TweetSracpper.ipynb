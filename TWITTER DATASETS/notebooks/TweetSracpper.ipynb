{
 "cells": [
  {
   "cell_type": "code",
   "execution_count": 3,
   "id": "ee227b4f",
   "metadata": {},
   "outputs": [],
   "source": [
    "import twint\n",
    "import nest_asyncio\n",
    "nest_asyncio.apply()"
   ]
  },
  {
   "cell_type": "code",
   "execution_count": 4,
   "id": "69283b8f",
   "metadata": {},
   "outputs": [],
   "source": [
    "def Tweet_scrap(keyword,since,until,filename):\n",
    "    config = twint.Config()\n",
    "    config.Search = keyword\n",
    "    config.Lang = \"en\"\n",
    "    config.Limit = 1000\n",
    "    config.Since = since\n",
    "    config.Until = until\n",
    "    config.Near=\"India\"\n",
    "    config.Store_csv = True\n",
    "    config.Output = filename\n",
    "    twint.run.Search(config)"
   ]
  },
  {
   "cell_type": "code",
   "execution_count": 150,
   "id": "9976402e",
   "metadata": {},
   "outputs": [
    {
     "name": "stdout",
     "output_type": "stream",
     "text": [
      "1378476567681069056 2021-04-04 04:06:39 +0530 <AnkitaDsinha> In Spite of the process of providing vaccination is in full swing in India,2nd wave of #coronavirus has already started raising more tension and fear among us.There are so many more questions are floating in our minds.This nightmare virus is getting more dangerous. #COVID19India\n",
      "1378464700518703104 2021-04-04 03:19:29 +0530 <gashxr> since. This is a scientific plan to defeat the coronavirus. Feel proud to share this with as many fellow hindus for the wellbeing of your family🚩🚩🚩\n",
      "1378415235732660225 2021-04-04 00:02:56 +0530 <parthcbm2601> \" વેક્સીન \"લઇ ઘણાં લોકો એમ ફોટો મુકે છે જાણે અમર થવા માટે જગતના નાથ બ્રહ્મા એ \"અમૃત\" નું ઇન્જેક્શન આપ્યું હોય😂😂😅🤣🤣  #coronavirus\n",
      "1378404234060701700 2021-04-03 23:19:13 +0530 <kumaran4kp> #Coronavirus can wait.\n",
      "1378402307117703169 2021-04-03 23:11:34 +0530 <jennu_sahadev> When Coronavirus transmits exponentially and the daily new cases escalated to 89,129 and deaths about 714, all schools and colleges are again switched on to online studies, what's the necessity of  #FullOccupancyInTheatres?\n",
      "1378395521727963137 2021-04-03 22:44:36 +0530 <Pallavi75> #maharashtralockdown see what is trending and what is happening??? #COVID19India #coronavirus  https://t.co/PablvZpKgG\n",
      "1378385761427283973 2021-04-03 22:05:49 +0530 <MadhunaikBunty> @PuneethRajkumar is this what you wanted ?.. It's @ veeresh theater.   @CMofKarnataka @BSYBJP gave permission to theaters with 100% capacity,  But look at these theaters the care about #coronavirus is this how fight #COVID ?.  @mla_sudhakar @BBMPCOMM @DHFWKA @CMofKarnataka  https://t.co/WgNcVnCDc0\n",
      "1378384515509313536 2021-04-03 22:00:52 +0530 <svmurthy> Why can't make it vaccination as a unavoidable precondition for public, health ministry must make it available for 24 hrs for jab work.  #coronavirus  #COVIDー19  #COVIDvaccine  #COVIDUpdates\n",
      "1378363640684802048 2021-04-03 20:37:55 +0530 <Raja_Gurjar921> पता नही कोरोना को शादियों  से नफरत या परीक्षा से वरना चुनाव तो अच्छे से लड़ता है!   #coronavirus  #Corona  #CoronavirusPandemic  #CoronavirusIndia  #motivation  #motivational\n",
      "1378360976655851520 2021-04-03 20:27:20 +0530 <Abhijeet_mene> एक बार दंड होणे के बाद दूबारा,कोई मास्क न पेहना या थुकता पाया जाये,तो ऊसे कारावास की सजा मिले। इस तरह के इंसान कोरोना महामारी फेलाने मे सहयोग दे रहे हे। #कोरोना_वायरस #कोरोना #कोविड_वैक्सीन #coronavirus #CoronavirusPandemic #Corona\n",
      "1378357052225937410 2021-04-03 20:11:44 +0530 <2103Chandra> #coronavirus #Corona #CoronavirusIndia  https://t.co/QQ0taYZizj\n",
      "1378355212050595840 2021-04-03 20:04:25 +0530 <amityeole11> @brizpatil @psambhajisakal @PSamratSakal 5720 फार मोठी रुग्णसंख्या झालीये, अवघड झालंय, लोक तरी पण चहा, नाश्ता साठी सकाळी गर्दी करतांना दिसतंच आहे. सदाशिव पेठेत ही गर्दी जास्त दिसते. @mohol_murlidhar ती गर्दी कमी करा .संख्या 50% तरी किमान कमी होईल. #म #coronavirus\n",
      "1378350869654204417 2021-04-03 19:47:10 +0530 <bninewsbharuch> #BigBreaking   રાજ્ય ગૃહમંત્રી પ્રદિપસિંહ જાડેજા કોરોનાથી સંક્રમિત.   કોરોનાના સામાન્ય લક્ષણો જણાઈ આવતા ટેસ્ટ કરાવતા કોરોના રિપોર્ટ પોઝિટિવ આવ્યો.  #coronavirus @ BNI News  https://t.co/adKQCiUzuy\n",
      "1378342919371845634 2021-04-03 19:15:35 +0530 <ImKuldeepRaghav> उत्तर प्रदेश में 3290 कोरोना के नए मामले। लखनऊ में 1041 नए केस।  #coronavirus\n",
      "1378327979588165638 2021-04-03 18:16:13 +0530 <NileshB91313799> @VarshaEGaikwad  *राज्यातील 1ली ते 8 वि पर्यंत सरसकट विद्यार्थी पास** #schools #coronavirus #maharashtralockdown\n",
      "1378311080548593665 2021-04-03 17:09:04 +0530 <sharifmansuri96> जहाँ चुनाव है , क्या वहाँ #coronavirus छुट्टी पर है??\n",
      "1378302959423954947 2021-04-03 16:36:47 +0530 <onemevinod> Governments Feel #coronavirus Will come only if you enter Marriages , Malls , #Movies and #GYM ,  but #coronavirus doesn't spread during #ElectionCampaign right sir @PMOIndia  #TamilNaduElections2021 #KeralaElections #AssamAssemblyPolls #BengalElections\n",
      "1378297231594254338 2021-04-03 16:14:02 +0530 <shassaann> @SindhCMHouse @SindhGovt1 visited Saddar, Zainab Market and Zaibunissa Street in the afternoon. Shops were not fully opened owing to #coronavirus SOPs notification but Tariq Road is opened as if it isn’t covered by the Notification\n",
      "1378295333965361153 2021-04-03 16:06:29 +0530 <setiyar> Some coronavirus restrictions are being cautiously lifted across England today.   Here’s what you need to know [tap to expand] ⬇️  https://t.co/SehjaQaJu9\n",
      "1378288178604470275 2021-04-03 15:38:03 +0530 <sanjoygt> Finally I have got my 1st #covid19 vaccination &gt; #covidshield from #medicasuperspecialityhospital #kolkata .  . . #protection #coronavirus #coronapandemic #maskupindia #maskupkolkata  https://t.co/2YowpQSmJs\n",
      "1378263373448503299 2021-04-03 13:59:29 +0530 <baba_bhopali> जर्मनी जैसा स्टेशन, अमेरिका जैसी सड़के और अफ्रीका जैसे हालात। वाह @ChouhanShivraj मामा वाह। @PMOIndia @BJP4MP @OfficeofSSC @JansamparkMP @TheLallantop @ndtv @AHindinews @INCMP #MPFightsCorona #coronavirus #MAMA\n",
      "1378262514396397568 2021-04-03 13:56:04 +0530 <Kailashsss1> पता नही कोरोना को शादी और पढ़ाई से क्या नफ़रत है ?   चुनाव तो अच्छा लड़ लेता है। 🤔  #COVID19 #coronavirus  #CoronavirusIndia\n",
      "1378261779566895107 2021-04-03 13:53:09 +0530 <AshwaniDulhera> देश में लगातार तेजी से बढ़ रहे कोरोना के मामलों के बावजूद, पीएम मोदी अगले तीन दिन में 10 बार बनेंगे #कोरोनाजीवी!!!  #coronavirus #COVID19 #COVID19India\n",
      "1378259761120964609 2021-04-03 13:45:08 +0530 <DestExplore> Travel News 📺 #travelnews #travel #travelphotography #travelblogger #travelgram #covid #traveltips #tourism #vacation #traveltheworld #travelling #adventure #travelblog #travelguide #coronavirus #visa #travelupdate #hotelnews #travelagent #travelart  #bhfyp @ParaagSawant  https://t.co/Ub0717do4E\n",
      "1378258043733831681 2021-04-03 13:38:19 +0530 <nutanpress> #gondal #coronavirus #bhuj #hitvev #CoronaVaccine   https://t.co/AVPyfUn6UZ #rajkotnews #gujaratinews #શ્રીનૂતનસૌરાષ્ટ્ર #નૂતનસૌરાષ્ટ્ર #Nutansaurashtra #todaysnews #ગુજરાતીસમાચાર #તાજાસમાચાર #03એપ્રિલ2021નાસમાચાર  https://t.co/I7N5NlnyZa\n",
      "1378257333516558336 2021-04-03 13:35:29 +0530 <nutanpress> #Rajkot #coronavirus #Remdesivir #CoronaVaccine #rajkot #remyamohan   https://t.co/AVPyfUn6UZ #rajkotnews #gujaratinews #શ્રીનૂતનસૌરાષ્ટ્ર #નૂતનસૌરાષ્ટ્ર #Nutansaurashtra #todaysnews #ગુજરાતીસમાચાર #તાજાસમાચાર #03એપ્રિલ2021નાસમાચાર  https://t.co/DNEsBtAF85\n",
      "1378256600167686144 2021-04-03 13:32:34 +0530 <nutanpress> #nitinpatel #coronavirus #CoronaUpdate #vadodara   https://t.co/AVPyfUn6UZ #rajkotnews #gujaratinews #શ્રીનૂતનસૌરાષ્ટ્ર #નૂતનસૌરાષ્ટ્ર #Nutansaurashtra #todaysnews #ગુજરાતીસમાચાર #તાજાસમાચાર #03એપ્રિલ2021નાસમાચાર  https://t.co/UaKQJFfeL4\n",
      "1378254903403896834 2021-04-03 13:25:50 +0530 <RaktimPratihar> Last year when 90k cases were in daily we are in full lockdown mode. How people can forget 2020 along with #COVID19 #coronavirus #lockdown2020 so easily??#1stLifeThenElection\n",
      "1378250817246003201 2021-04-03 13:09:36 +0530 <imnoumanashraf> Successful people see every obstacle and problem as an opportunity to learn and grow themselves. . . . . #success  #business  #entrepreneur  #coronavirus  #investment  #cryptocurrency\n",
      "1378248612442906628 2021-04-03 13:00:50 +0530 <thebuzzermedia> Bollywood actors Alia Bhatt has tested positive for Covid-19,  she is self-isolating at home.   Earlier, Ranbir Kapoor had tested positive for coronavirus a couple of weeks back. @ India  https://t.co/h0NXGwJewc\n",
      "1378247566345662465 2021-04-03 12:56:41 +0530 <Veaswarrr> திமுக எம்.பி. கனிமொழிக்கு  கொரோனா தொற்று உறுதி   #CoronaVirus | #Covid19 | #DMK | @KanimozhiDMK  https://t.co/nj3J8Icq27\n",
      "1378246000913969155 2021-04-03 12:50:27 +0530 <JehlamTimes> Farooq Abdullah Hospitalized, Days After Testing Covid-19 Positive   #SRINAGAR: National Conference president Farooq Abdullah was hospitalized on Saturday, few days after he tested positive for the novel coronavirus.  https://t.co/jH1NTtXvHb\n",
      "1378244810201473024 2021-04-03 12:45:43 +0530 <thenewstankweb>  https://t.co/LqsrCr16KZ राज्यात काल ४७ हजार ८२७ कोविड रुग्णांची नोंद #coronavirus #CoronaVirusUpdates The news tank\n",
      "1378244794992844801 2021-04-03 12:45:40 +0530 <Megha_journo> #Breaking| Bangladesh government announces a seven-day countrywide lockdown from Monday to curb the spread of Coronavirus. Road Transport and Bridges Minister Obaidul Quader announced the decision today #lockdown2021\n",
      "1378243651227185160 2021-04-03 12:41:07 +0530 <thenewstankweb>  https://t.co/ppMj2sW8y2 पुणेकरांनो कामावर जाताय ओळखपत्र नक्की बरोबर ठेवा #pune #punelockdown #Pune #PuneFightsCorona #coronavirus #CoronaVirusUpdates #CoronavirusPandemic  The news tank\n",
      "1378232717557530624 2021-04-03 11:57:40 +0530 <jaggi_officialy> आज के मुख्य समाचार जहां पर चुनाव हैं वहाँ पर #coronavirus भूख हड़ताल पर रहेगा। आज के मुख्य समाचार समाप्त हुए।😂😂 #BangladeshHatesModi #BangalElection2021 @IMinakshiJoshi\n",
      "1378230068560850945 2021-04-03 11:47:09 +0530 <MalekVasimakram> कोरोना कोई अड़ियल नेता की आत्मा लग रही है..जिसे पढ़ाई और शादी के नफरत है पर चुनाव में शांत रहता है  #coronavirus\n",
      "1378228996698161152 2021-04-03 11:42:53 +0530 <imnoumanashraf> Look for opportunity in all circumstances and problems. . . . . #Motivation  #coronavirus  https://t.co/O0COtO7NtW\n",
      "1378226614941573127 2021-04-03 11:33:25 +0530 <JournalistPrem3> Agra #coronavirus  के बढ़ते हुए केसों को भी नजरअंदाज कर रहा प्रशासन एत्मादपुर में नामांकन की फीस को लेकर #SBIबैंक में नही कॉन्टर की व्यवस्था । कोरोना को चुनौती @myogiadityanath @UPGovt @drharshvardhan @dgpup @Uppolice @adgzoneagra @agrapolice @OfficeOfDMAgra @112UttarPradesh  https://t.co/u1JUfos2DB\n",
      "1378226058613321729 2021-04-03 11:31:13 +0530 <yashwantbhilai> ये देखने के बावजूद अगर लोग मास्क नहीं लगाते हैं तो घोर चिंतनशील विषय है...मास्क, दो गज दूरी &amp; वैक्सीन जरुरी है   #coronavirus #mask #SocialDistancing #COVID19   @DurgDist @anandmahindra @drramansingh @BBCHindi @ChhattisgarhCMO @PMOIndia @akash_maheshwar @surajsahu0001  https://t.co/1fuzpmqxlz\n"
     ]
    },
    {
     "name": "stdout",
     "output_type": "stream",
     "text": [
      "1378225701657178113 2021-04-03 11:29:48 +0530 <AnujaDhakras21> To all those who don’t understand Marathi and expect CM to speak in English to address Maharashtrians 🤷‍♀️  @CMOMaharashtra @MahaDGIPR @ShivSena @OfficeofUT @AUThackeray @mnsadhikrut   #Marathi #coronavirus  https://t.co/MKuv1Hphwr\n",
      "1378225665216942085 2021-04-03 11:29:39 +0530 <JournalistPrem3> Agra #coronavirus  के बढ़ते हुए केसों को भी नजरअंदाज कर रहा प्रशासन एत्मादपुर में नामांकन की फीस को लेकर बैंक पर कोरोना को चुनौती देना है  https://t.co/kZzP26Lvr9\n",
      "1378225184969121793 2021-04-03 11:27:44 +0530 <MayurKhadse12> करोना पेक्षा जास्त त्रास तर तुम्ही कपल देत आहात हो एकीकडे तुमची बायको गाणं म्हणून कान खाते आणि दुसरी कडे तुम्ही नुसते भोकत राहता नॉइस Pollution कारणीभूत तुम्ही दोघेच आहात 🧐 #coronavirus\n",
      "1378223609190092801 2021-04-03 11:21:29 +0530 <theruralpress> Coronavirus Second Wave: 15-20 अप्रैल के बीच पीक पर होगा संक्रमण, मई के बाद कमजोर पड़ेगा कोविड-19  #coronavirusindia #secondwave #COVID19 #CaseStudy  #LatestNewsUpdates #trp #newsportal #raipur #Chhattisgarh    https://t.co/WsdSgf0QYd\n",
      "1378220607553204224 2021-04-03 11:09:33 +0530 <viku_peri> Phir bol rahe  han #coronavirus badh raha hai.... #politics at highest level...#BJP #TMC @abpnewshindi @aajtak @ndtvindia @ZeeBusiness @CNBC_Awaaz  https://t.co/g86w0m0Xi8\n",
      "1378220533599281155 2021-04-03 11:09:15 +0530 <thenewstankweb> पुणे जिल्ह्यातील माहितीचा सूत्रधार हरपला, जिल्हा माहिती अधिकारी राजेंद्र सरग यांचे निधन   https://t.co/2xv7wuhnAC #corona #coronavirus #pune #sadnews  @InfoAhmednagar @InfoBeed @Infolatur @Info_Pune @InfoNashik @MahaDGIPR The News Tank\n",
      "1378218476997799940 2021-04-03 11:01:05 +0530 <speaksmrc> धन्यवाद @Dev_Fadnavis जी आपण @narendramodi यांना त्यांच्या खऱ्या कामांची जाणीव करून दिली, आता तरी ते तुमचं ऐकून देशासाठी चांगलं #package जाहीर करून संपूर्ण जनतेपर्यंत पोहचविण्याची व्यवस्था करतील #Corona #coronavirus  https://t.co/UntrW8F5mr\n",
      "1378218408248889346 2021-04-03 11:00:49 +0530 <Vivekk057> कोरोना सिर्फ मंदिरों, मॉल जाने से बढ़ रहा है और चुनावी सभा से कोरोना नहीं बढ़ता एक तरफ तो सरकार बोलती है सोशल डिस्टेंसिंग का पालन हो और दूसरी तरफ उन्ही के पार्टी के कार्यकर्ता ये दावा करते है की हम चुनावी सभा में ज्यादा से ज्यादा भीड़ जुटाएंगे..  #COVIDSecondWave  #coronavirus\n",
      "1378217971634606081 2021-04-03 10:59:05 +0530 <JunaidQazi4> Heart touching &amp; untold story inside Islamabad's Coronavirus ICU by BBC.  Bravery of doctors &amp; vigilant role of district administration paved the way to save more lives during the coronavirus pandemic.  @dcislamabad @hamzashafqaat @ssp_ict @syedmustafapsp   https://t.co/QGyOxo1rrk\n",
      "1378213484425404420 2021-04-03 10:41:15 +0530 <sanjayyadavij> देश में 24 घंटे में 89 हज़ार सक्रमित मिले ,24 घंटे में ही 713 लोगों की मौत। #coronavirus  #CoronavirusPandemic\n",
      "1378212257159544832 2021-04-03 10:36:22 +0530 <sunil2819> @BBCHindi Mute करके भी नही सुनना सदी के इस महान धोखेबाज़ को। #coronavirus से भी ज़्यादा ख़तरनाक.  https://t.co/GHndASxyhU\n",
      "1378211447843397632 2021-04-03 10:33:09 +0530 <nadirkanthawala> What @PaytmFirstGames should consider changing on their app interface considering their tagline  #SachinTendulkar #paytm #COVIDSecondWave #coronavirus #lockdownindia #COVID19 #cricket #IPL #IPL2021 #mumbailockdown #MumbaiIndians  https://t.co/OcGbcKjoJ2\n",
      "1378210555610030086 2021-04-03 10:29:37 +0530 <Rajesh95377129> @ThePushpendra_ Bhaiya coronavirus vaccine ka private wale Hospital covid-19 Nagari Kat rahe hain Public School base into Laga rahe hain lekin certificate Nahin de raha hai\n",
      "1378208125795229699 2021-04-03 10:19:57 +0530 <harshal_rj> फडणवीस साहेबांनी सांगितलेले आकडे तिकडच्या #केंद्र सरकारने दिलेली मदत, पॅकेज आहे... #भारतातील मोदी सरकारने टाळ्या, थाळ्या आणि मेणबत्ती पेटवण्याशिवाय काय केलं..? (2/2)  #CoronaVirus  #DevendraFadanvis  #Political_राडा\n",
      "1378208121726791680 2021-04-03 10:19:56 +0530 <harshal_rj> तोंडघशी कसं पडावं हे #भाजपकडून शिकावं... मुख्यमंत्र्यांच्या भाषणावर #पलटवार करायला गेले आणि केंद्र सरकारचीच लाज काढली... (1/2)  #CoronaVirus  #DevendraFadanvis  #Political_राडा  https://t.co/xT49fUF4JA\n",
      "1378204251848110157 2021-04-03 10:04:34 +0530 <umarsharif503> Now it depends upon government rather they give preference to exams or someone's life........ #cancelcieexams2021 #coronavirus #cancelboardexams2021 #StudentsBoycottOfflineExams  https://t.co/qHlxxClZro\n",
      "1378203365025280003 2021-04-03 10:01:02 +0530 <imsachidanand23> जहाँ चुनाव है , क्या वहाँ #coronavirus छुट्टी पर है?? ये दोहरा निती समझ नहीं आ रहा है आखिर हो क्या रहा है ।???  https://t.co/99c8J4k8Yi\n",
      "1378202608398073858 2021-04-03 09:58:02 +0530 <SanjoyRoyTWA> Even as the #COVID19 surge nears the 90,000 a day mark representing only those tested, politicians r still at their irresponsible best and not urging their followers to #MaskUp and participating in large crowded rallies! #secondwave #coronavirus\n",
      "1378201312387420161 2021-04-03 09:52:53 +0530 <alpavipul1711> @AmitShah जहाँ चुनाव है , क्या वहाँ #coronavirus छुट्टी पर है??\n",
      "1378194774918754305 2021-04-03 09:26:54 +0530 <imsouravsinha10> जहाँ चुनाव है , क्या वहाँ #coronavirus छुट्टी पर है?? #BengalElections2021 #AssamAssemblyElections2021 #KeralaAssemblyElections2021 #COVID19\n",
      "[!] No more data! Scraping will stop now.\n",
      "found 0 deleted tweets in this search.\n"
     ]
    }
   ],
   "source": [
    "Tweet_scrap(\"coronavirus\",\"2021-04-01\",\"2021-04-04\",\"april(TG-coronavirus).csv\")"
   ]
  },
  {
   "cell_type": "code",
   "execution_count": null,
   "id": "7bd155fa",
   "metadata": {},
   "outputs": [],
   "source": []
  },
  {
   "cell_type": "code",
   "execution_count": null,
   "id": "5a855bd2",
   "metadata": {},
   "outputs": [],
   "source": []
  }
 ],
 "metadata": {
  "kernelspec": {
   "display_name": "Python 3",
   "language": "python",
   "name": "python3"
  },
  "language_info": {
   "codemirror_mode": {
    "name": "ipython",
    "version": 3
   },
   "file_extension": ".py",
   "mimetype": "text/x-python",
   "name": "python",
   "nbconvert_exporter": "python",
   "pygments_lexer": "ipython3",
   "version": "3.8.8"
  }
 },
 "nbformat": 4,
 "nbformat_minor": 5
}
