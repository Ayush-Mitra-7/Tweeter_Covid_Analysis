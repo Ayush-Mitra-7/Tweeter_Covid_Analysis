{
 "cells": [
  {
   "cell_type": "code",
   "execution_count": 2,
   "id": "ee227b4f",
   "metadata": {},
   "outputs": [],
   "source": [
    "import twint\n",
    "import nest_asyncio\n",
    "nest_asyncio.apply()"
   ]
  },
  {
   "cell_type": "code",
   "execution_count": 32,
   "id": "69283b8f",
   "metadata": {},
   "outputs": [],
   "source": [
    "def Tweet_scrap(keyword,since,until,filename):\n",
    "    config = twint.Config()\n",
    "    config.Search = keyword\n",
    "    config.Lang = \"en\"\n",
    "    config.Limit = 1000\n",
    "    config.Since = since\n",
    "    config.Until = until\n",
    "    config.Near=\"India\"\n",
    "    config.Store_csv = True\n",
    "    config.Output = filename\n",
    "    #running search\n",
    "    twint.run.Search(config)"
   ]
  },
  {
   "cell_type": "code",
   "execution_count": 117,
   "id": "9976402e",
   "metadata": {},
   "outputs": [
    {
     "name": "stdout",
     "output_type": "stream",
     "text": [
      "1432488866213027840 2021-08-31 05:12:14 +0530 <humanity_p2021> Successfully organised our first observance NATIONAL SPORTS DAY 2021 at Kenya Pather village. Running &amp; Quiz competitions were conducted to boost the morale of the school-age children, the future of the nation, who are amongst the highly affected ones in this COVID pandemic.  https://t.co/y7ZJWh0euM\n",
      "1432486668532080641 2021-08-31 05:03:30 +0530 <KaleechBaig> @BiyaAli9 Wo kia kehty Hain.. Bhala sa name hy.. Covid.. Haan Covid ho gya\n",
      "1432485811065290754 2021-08-31 05:00:06 +0530 <jennu_sahadev> \"ICMR predicts third wave of COVID-19 to be less severe than the second wave — Delhi, Maharashtra and Uttar Pradesh may see a decline\"   https://t.co/kW91W2A8Ch\n",
      "1432484747188465668 2021-08-31 04:55:52 +0530 <akmalarif90> PPN - SOP FASA 1 | COVID-19 MALAYSIA -  https://t.co/ZfWGAzzrLg\n",
      "1432484112321814528 2021-08-31 04:53:21 +0530 <kumarrahul0204> AIH after CoVid-19 Vax; are we seeing the tip of iceberg ?  True causality or mere association?  https://t.co/de8DYwXwUs @wong_yujun #LiverTwitter\n",
      "1432482508638097412 2021-08-31 04:46:58 +0530 <AnandKSen> @scottkessler @cnbci $ZM  Good analysis as always from Scott. How they arrive at these valuations boggles the mind.Zoom is the man of the hour during Covid-19 pandemic but many competitors out there &amp; nothing like live face to face meetings for greater results with personal touch  https://t.co/8FwhxCPTIR\n",
      "1432479442161463301 2021-08-31 04:34:47 +0530 <depachins> Positif au Covid-19, Renaud Muselier placé à l'isolement via @bleuprovence  https://t.co/is79J90zS0\n",
      "1432473450505859075 2021-08-31 04:10:59 +0530 <RazaEdu> Covid மரணங்கள் உலகில் நிலையற்ற தன்மையையும்  மறுமையும் நினைவு படுத்துகின்றது.  The Covid deaths are reminiscent of the unstable world and the afterlife.\n",
      "1432469800429756422 2021-08-31 03:56:29 +0530 <snsbmho> RM0 Zahirkan rasa cinta kepada negara dengan mengibarkan Jalur Gemilang.  Bersamalah berdoa agar negara segera pulih daripada wabak Covid-19. #MalaysiaPrihatin 🇲🇾  https://t.co/F8zwKW4X9k\n",
      "1432468334369378312 2021-08-31 03:50:39 +0530 <EzryIr> 31 Ogos 2021 |Salam Kemerdekaan  Nantikan segmen khas Petugas Pengurusan Jenazah COVID-19 Surau KKR &amp; JKR bersama SPJM dalam Berita Bernama Saluran ASTRO CH502 hari ini🇲🇾  Jutaan t.kasih atas sokongan &amp; doa’ yg dititipkan buat semua  #Allahjagakita   https://t.co/yd5KwqyQsu  https://t.co/0B651D8NF8\n",
      "1432466785941479436 2021-08-31 03:44:30 +0530 <Ruchiragupta> A moment in our ongoing Covid relief food drive among fishing women in the Sundarbans mangrove forest in India. #covid #1MillionMeals #Food @apneaap Join us  https://t.co/9IqRKVcK23 pix by @vickyroy87 @ Sundarban National Park  https://t.co/Fl9gJOC9dz\n",
      "1432447478159187972 2021-08-31 02:27:47 +0530 <MALWENTO> @MuhyiddinYassin Hari Kebangsaan Yang Dukacita 1.7Juta Kes Covid 16K Kematian  Kebanyakan Kematian Kerana Tak Dapat Dirawati DiHospital &amp; Tak Cukup Peralatan Medical  Kebanyakan Kes  Kerana Tak Bikin Testing Contact Tracings Isolations SOP Tak TerKawal Di MRT LRT BUS Pusat Vaksinasi &amp; Quarantine\n",
      "1432447441337466884 2021-08-31 02:27:38 +0530 <MuqeetK35622287> The world is finally divided into two clear groups 1.the vaccinated ones waiting for the non vaccinated ones to die. 2.the non vaccinated ones waiting for the vaccinated ones to die. #covid-19\n",
      "1432446975362748422 2021-08-31 02:25:47 +0530 <doctor__Piyush> #Opinion While economy is on a ventilator support from central banks, Fed's tapering is like reducing the oxygen supply.  I wonder how long will it take for vulnerable corporations to experience hypoxia in the setting of CoViD fatigue.  There's poor economic resilience.  🤔  📊📈\n",
      "1432436621555601408 2021-08-31 01:44:38 +0530 <mdshrzal> RM0 Zahirkan rasa cinta kepada negara dengan mengibarkan Jalur Gemilang.  Bersamalah berdoa agar negara segera pulih daripada wabak Covid-19. #MalaysiaPrihatin\n",
      "1432431312707592193 2021-08-31 01:23:32 +0530 <zulfitrizohari> Kalau keluaq topic parlimen malaysia ni tobat aku surrender. Kalau covid ka merdeka ka boleh lagi nak goreng koeteow.\n",
      "1432425407194697731 2021-08-31 01:00:04 +0530 <Beritabualbual> Dimasa Pandemi Covid-19, Polres Bintan Tetap Melayani Pembuatan SKCK  https://t.co/5Yjbyccs7c\n",
      "1432424839361429505 2021-08-31 00:57:49 +0530 <GroupLeroy> ✅Kak @aishahjmm positive COVID-19, get well soon kakak 😷 . ✅IG: @leroy_media . #leroygroup#leroycrewproductions#leroylegacy#leroyfantastic#leroymedia#theleroy#theleroycafe#leroylux#entertainment#fashion#lifestyle#news#travel#info#media#celebrity#kualalumpur#singapore#brunei  https://t.co/bSNooJJOYS\n",
      "1432424303346266118 2021-08-31 00:55:41 +0530 <MayankJ65769373> kerala is receiving a huge no. of Cases. Now it's time to shift resources from other states (where covid cases are low or negligible) to kerala.Last time 2nd wave starts from Maharashtra where cases were high. to avoid 3rd wave we have to help kerala. @narendramodi  @MoHFW_INDIA\n",
      "1432421966648987650 2021-08-31 00:46:24 +0530 <norazzlinna> I have never been in a hospital for this long, in fact never got warded in. Covid really be giving me a whole damn new experience that I never wanted to repeat again!\n",
      "1432417991275122689 2021-08-31 00:30:36 +0530 <Sdipro_BLP> Regular Covid Status of Bilasipara Sub-Division:  https://t.co/vZNpF8U5MF\n",
      "1432417194525138945 2021-08-31 00:27:26 +0530 <gargi_speaks> @biscuit_rotti Vhai, but comparatively crowd sumaar une asa. Due to covid.\n",
      "1432413658991116290 2021-08-31 00:13:23 +0530 <Stuti8220> Portable #Oxygen cans are the new ‘must-have’ products in every home #medical kit: #Covid  https://t.co/EAT9C8N2id\n",
      "1432407194008387585 2021-08-30 23:47:42 +0530 <khedekarvishal1> @Abhishe76622837 @NitinShindeNS @avinash_mns @mnsadhikrut @ShivsenapuneIT @YuvasenaPune_ @RupeshKadam03 @AnaghaAcharya @anuj_sena @DindoshiYuva @BodkheShilpa @IMJagtapPK_9 @ShivsenaMaharas @AShirodkarSS बेस्ट CM आहेत म्हणून तू आहेस. ज्यांच्या घरी Covid होऊन गेला ना त्याला जाऊन विचारा काय दुःख असते ते 😔\n",
      "1432407190283841538 2021-08-30 23:47:41 +0530 <mohamed_haris> @dytjq05 How is malaysia situation for covid\n",
      "1432405876015460360 2021-08-30 23:42:28 +0530 <Shameer63558235> Covid -19  https://t.co/Fkjo3motNi\n",
      "1432405811771240449 2021-08-30 23:42:12 +0530 <pinkesht1> @MumbaiPolice Loud band noice &amp; Dahi Handi celibration in such COVID-19 situation which seems too risky. near Prabhadevi Beach\n",
      "1432397526695510020 2021-08-30 23:09:17 +0530 <Vishal227412> India is fighting against COVID-19 &amp; Railway is supporting by increasing the fair in the name of pandemic. This is the real scene of train no. 02296, S1 coach on 30.08.21. @DrmDnr  @RailMinIndia  https://t.co/9c1Yd7Qlw0\n",
      "1432396957259943939 2021-08-30 23:07:01 +0530 <shabbirmb> @SonaliVaid Azithro has become an OTC after COVID.\n",
      "1432396506225545226 2021-08-30 23:05:14 +0530 <nuzu8121> Covid numberu thah mahchah dhanee eve!!!!\n",
      "1432394979721166848 2021-08-30 22:59:10 +0530 <jamesmk93> @EuphoricNausea i cant fucking wait to get mine. covid has really been fuckin this up\n",
      "1432394234192093184 2021-08-30 22:56:12 +0530 <riezforester> Salam Merdeka. 🇲🇾  Photo taken last year when we thought were gonna be #Merdeka from Covid soon after. Sadly that's not the case. @ Kuala Lumpur, Malaysia  https://t.co/RgitqbgsGy\n",
      "1432393297905864704 2021-08-30 22:52:29 +0530 <sethi_vani> Spot feeding for pregnant women restarts in gadhchiroli after the COVID lull as cases reduce to single digit. Egg back on plate of those who need it most @hegde_aparna @arjandewagt @sinhadipa  https://t.co/AiDPTJehqC\n",
      "1432392915217747977 2021-08-30 22:50:58 +0530 <zaibullahkhan6> @etribune Very bad news regarding fatal side effects of Pfizer vaccine for covid 19.\n",
      "1432392652645748740 2021-08-30 22:49:55 +0530 <nik_nazwan> Happy 64th Independence Day, Malaysia 🇲🇾  May Allah free the land of Malaysia from the threat of Covid-19 and continue to be peaceful,harmony always.  https://t.co/zI0HL8GUKu\n",
      "1432391852779397120 2021-08-30 22:46:44 +0530 <tn_madurai> @CTRavi_BJP NAMO BHARATH .WE WIL ACHIVE BEFORE DECEMBER 2021 SIR JI .COVID FREE INDIA 2022 JAN ...\n",
      "1432389320501911554 2021-08-30 22:36:41 +0530 <Adam_Smike_u_m> @sunkn76 Now it keeps going because it's still busy with..Covid 19😉😉😉No job yet..😃😃🎶🎶👍🙏💜\n",
      "1432388219203555328 2021-08-30 22:32:18 +0530 <arvindmahajan> How A Year of Covid-19 Financially Dented India's Middle Class  https://t.co/iKyGEvEEKv via @IndiaSpend\n",
      "1432387890970087424 2021-08-30 22:31:00 +0530 <Thashns> @ChrysalisAurora This is 202O clip.  World has already acknowledged Pakistan as Impressively Managing Covid 19 Pandemic and Economy.   Next Big Story will be how well we are doing with Coverage and Inoculation of Covid 19 Vaccinations. Getting 50 million+ shots across is no short of miracle.\n",
      "1432385852496400387 2021-08-30 22:22:54 +0530 <AbdulSekanyo> @maria47211520 @Mercy90337673 @JanetMuseveni @Educ_SportsUg So @maria47211520 , you want to tell me that COVID-19🦠😷is not for really???\n"
     ]
    },
    {
     "name": "stdout",
     "output_type": "stream",
     "text": [
      "1432385401692385281 2021-08-30 22:21:06 +0530 <lynda_jamaludin> PEPLUM JALUR GEMILANG - Upah Tailor RM50 utk 2 pasang. Hasil jahitan kemas. Sambil tu dpt la bagi tailor job &amp; tailor siap excited sbb kalau bkn Covid dia dpt byk jahit baju jalur gemilang. Sekarang segala terjejas 😔  https://t.co/j0vKdD7CAt\n",
      "1432385291470336003 2021-08-30 22:20:40 +0530 <MoonOfMiracles> @kunalb11 Sir, there is lot to learn at the local level...real problems and realistic solutions. In fact we need to develop from bottom up if we want to have sustainable development! COVID has provided that opportunity ... it’s up to us now!#vocalforlocal #grassroots\n",
      "1432384786555826183 2021-08-30 22:18:40 +0530 <kiran_mestry> @ashish280287 @bbcnewsmarathi @BJP4Maharashtra @CMOMaharashtra @rajeshtope11 @Dev_Fadnavis Thy will do protest fr opening of temples, then the covid nos. Increases, blame the govt.\n",
      "1432382721385373696 2021-08-30 22:10:27 +0530 <Rajivku65516406> @myogiadityanath dear sir,when your Govt is fully preparing to tackle corona 3rd wave,Saharanpur development authority is busy in preventing construction of covid hospital at bajoria road despite depositing 20lacs in government treasury,is SDA diluting fight againstcovid\n",
      "1432382350227214341 2021-08-30 22:08:59 +0530 <mrhaziqasyraf> semoga esok covid habis amiinn\n",
      "1432382215736856578 2021-08-30 22:08:27 +0530 <janatunmaqwa> As a covid survivor. Org offer la aku berjuta sekali pon. Aku tak nak kene covid lg. 😭😭😭sakit. Baru stage 3 tp rasa macam nak mati😭\n",
      "1432381738479669250 2021-08-30 22:06:33 +0530 <crustyliver78> JUST IN | President Duterte's pre-recorded \"Talk to the People on COVID-19\" will be streamed tomorrow, Presidential Spokesperson Sec. Harry Roque confirms. Pres. Duterte's meeting with selected government officials started late this evening. (via News5/Maricel Halili)  https://t.co/zD6xwIBTua\n",
      "1432379162950397952 2021-08-30 21:56:19 +0530 <sailesh2000> No Covid ? Get ready for 3rd Wave..   Radhe Radhe\n",
      "1432377753714765827 2021-08-30 21:50:43 +0530 <imrankhan331611> @b33n1sh Okay; it’s seems great, but no care for COVID SOPs. 🙂\n",
      "1432377074266910724 2021-08-30 21:48:01 +0530 <wanema10> Selamat menyambut hari kemerdekaan yg ke 64 Malaysiaku! 😍  jom sama-sama kita bebas dari covid! #MonstrMerdekaDariCovid  #Monstr #MalaysiaPrihatin  https://t.co/JlM9jelQ82\n",
      "1432376720607354881 2021-08-30 21:46:37 +0530 <DrWaheedMiraj> COVID-19: Pakistan Medical Association seconds WHO/CDC stance on safety of anti-COVID vaccines for pregnant ladies. #GetVaxxedRightNow  https://t.co/NUuDdg9VA0\n",
      "1432376717415358464 2021-08-30 21:46:36 +0530 <AdammaOsman> Done submitted video self test covid\n",
      "1432376132419178514 2021-08-30 21:44:16 +0530 <aminpatel_iyc> @MumbaiPolice @CPMumbaiPolice It is true that covid exists but mask is not the solution. Having a clean and nutritional diet, regular exercise, quit smoking and drinking and boom!  Corona will not have much effect on you. Bcoz corona is a chronicle disease so following a healthy lifestyle will keep you safe!\n",
      "1432376040442277888 2021-08-30 21:43:54 +0530 <sailesh2000> As Covid cases are rising, request to restrict Crowding at Street Food Stalls and Street Vendors in Mira Rd and Bhayandar. Vaccinate all on urgent basis. @BhayandarMira @BhaindarMira @CMOMaharashtra @Thane_R_Police\n",
      "[!] No more data! Scraping will stop now.\n",
      "found 0 deleted tweets in this search.\n"
     ]
    }
   ],
   "source": [
    "Tweet_scrap(\"c\",\"2021-08-27\",\"2021-08-31\",\"august1.csv\")"
   ]
  },
  {
   "cell_type": "code",
   "execution_count": null,
   "id": "7bd155fa",
   "metadata": {},
   "outputs": [],
   "source": []
  }
 ],
 "metadata": {
  "kernelspec": {
   "display_name": "Python 3",
   "language": "python",
   "name": "python3"
  },
  "language_info": {
   "codemirror_mode": {
    "name": "ipython",
    "version": 3
   },
   "file_extension": ".py",
   "mimetype": "text/x-python",
   "name": "python",
   "nbconvert_exporter": "python",
   "pygments_lexer": "ipython3",
   "version": "3.8.8"
  }
 },
 "nbformat": 4,
 "nbformat_minor": 5
}
