{
 "cells": [
  {
   "cell_type": "code",
   "execution_count": 2,
   "metadata": {},
   "outputs": [],
   "source": [
    "import pandas as pd\n",
    "import numpy as np"
   ]
  },
  {
   "cell_type": "code",
   "execution_count": 3,
   "metadata": {},
   "outputs": [],
   "source": [
    "april_ayush=pd.read_csv('AprilTweetAyushFinal.csv')\n",
    "april_gangotri=pd.read_csv('AprilTweetGangotriFinal.csv')\n",
    "april_mahabub=pd.read_csv('AprilTweetMahabubFinal.csv')"
   ]
  },
  {
   "cell_type": "code",
   "execution_count": 4,
   "metadata": {},
   "outputs": [],
   "source": [
    "april_gangotri.drop(['trans_dest', 'trans_src', 'retweet_id', 'reply_to', 'retweet_date', 'translate', 'geo', 'source', 'user_rt_id', 'user_rt', 'video', 'thumbnail', 'quote_url', 'near',\n",
    "                 'id', 'conversation_id', 'date', 'time', 'place', 'mentions', 'urls', 'photos', 'hashtags', 'cashtags', 'link', 'retweet', 'timezone', 'user_id', 'name'], axis=1, inplace=True)"
   ]
  },
  {
   "cell_type": "code",
   "execution_count": 5,
   "metadata": {},
   "outputs": [],
   "source": [
    "for i in april_gangotri['language']:\n",
    "    index_names =april_gangotri[april_gangotri['language']!='en' ].index\n",
    "april_gangotri.drop(index_names, inplace = True)"
   ]
  },
  {
   "cell_type": "code",
   "execution_count": 6,
   "metadata": {},
   "outputs": [
    {
     "data": {
      "text/plain": [
       "(445, 8)"
      ]
     },
     "execution_count": 6,
     "metadata": {},
     "output_type": "execute_result"
    }
   ],
   "source": [
    "april_gangotri.shape"
   ]
  },
  {
   "cell_type": "code",
   "execution_count": 7,
   "metadata": {},
   "outputs": [
    {
     "name": "stdout",
     "output_type": "stream",
     "text": [
      "(651, 8) (445, 8) (743, 8)\n"
     ]
    }
   ],
   "source": [
    "a=april_ayush.shape\n",
    "g=april_gangotri.shape\n",
    "m=april_mahabub.shape\n",
    "print(a,g,m)"
   ]
  },
  {
   "cell_type": "code",
   "execution_count": 8,
   "metadata": {},
   "outputs": [],
   "source": [
    "april_Temp = pd.concat([april_gangotri,april_ayush]).drop_duplicates()\n",
    "AprilFinal = pd.concat([april_Temp,april_mahabub]).drop_duplicates()"
   ]
  },
  {
   "cell_type": "code",
   "execution_count": 9,
   "metadata": {},
   "outputs": [
    {
     "data": {
      "text/plain": [
       "(1839, 8)"
      ]
     },
     "execution_count": 9,
     "metadata": {},
     "output_type": "execute_result"
    }
   ],
   "source": [
    "AprilFinal.shape"
   ]
  },
  {
   "cell_type": "code",
   "execution_count": 10,
   "metadata": {},
   "outputs": [],
   "source": [
    "AprilFinal.drop(['Unnamed: 0'],axis=1, inplace=True)"
   ]
  },
  {
   "cell_type": "code",
   "execution_count": 11,
   "metadata": {},
   "outputs": [
    {
     "data": {
      "text/plain": [
       "(1839, 7)"
      ]
     },
     "execution_count": 11,
     "metadata": {},
     "output_type": "execute_result"
    }
   ],
   "source": [
    "AprilFinal.shape"
   ]
  },
  {
   "cell_type": "code",
   "execution_count": 12,
   "metadata": {},
   "outputs": [
    {
     "data": {
      "text/html": [
       "<div>\n",
       "<style scoped>\n",
       "    .dataframe tbody tr th:only-of-type {\n",
       "        vertical-align: middle;\n",
       "    }\n",
       "\n",
       "    .dataframe tbody tr th {\n",
       "        vertical-align: top;\n",
       "    }\n",
       "\n",
       "    .dataframe thead th {\n",
       "        text-align: right;\n",
       "    }\n",
       "</style>\n",
       "<table border=\"1\" class=\"dataframe\">\n",
       "  <thead>\n",
       "    <tr style=\"text-align: right;\">\n",
       "      <th></th>\n",
       "      <th>created_at</th>\n",
       "      <th>username</th>\n",
       "      <th>tweet</th>\n",
       "      <th>language</th>\n",
       "      <th>replies_count</th>\n",
       "      <th>retweets_count</th>\n",
       "      <th>likes_count</th>\n",
       "    </tr>\n",
       "  </thead>\n",
       "  <tbody>\n",
       "    <tr>\n",
       "      <th>0</th>\n",
       "      <td>2021-04-03 01:10:04 India Standard Time</td>\n",
       "      <td>naeemq</td>\n",
       "      <td>Be careful. Check covid situation in Pakistan ...</td>\n",
       "      <td>en</td>\n",
       "      <td>0.0</td>\n",
       "      <td>0.0</td>\n",
       "      <td>1.0</td>\n",
       "    </tr>\n",
       "    <tr>\n",
       "      <th>1</th>\n",
       "      <td>2021-04-02 23:42:01 India Standard Time</td>\n",
       "      <td>dhawan_group</td>\n",
       "      <td>@KankichiRyotsu2 @MurliMenon6 @minaldoshi CCP ...</td>\n",
       "      <td>en</td>\n",
       "      <td>1.0</td>\n",
       "      <td>0.0</td>\n",
       "      <td>0.0</td>\n",
       "    </tr>\n",
       "    <tr>\n",
       "      <th>2</th>\n",
       "      <td>2021-04-02 23:18:00 India Standard Time</td>\n",
       "      <td>iattishx</td>\n",
       "      <td>UK variant is more killing one here in third w...</td>\n",
       "      <td>en</td>\n",
       "      <td>0.0</td>\n",
       "      <td>0.0</td>\n",
       "      <td>0.0</td>\n",
       "    </tr>\n",
       "    <tr>\n",
       "      <th>5</th>\n",
       "      <td>2021-04-02 22:58:12 India Standard Time</td>\n",
       "      <td>potholewarriors</td>\n",
       "      <td>#PollTime #LockDown2  #coronavirus #pandemic #...</td>\n",
       "      <td>en</td>\n",
       "      <td>3.0</td>\n",
       "      <td>5.0</td>\n",
       "      <td>2.0</td>\n",
       "    </tr>\n",
       "    <tr>\n",
       "      <th>7</th>\n",
       "      <td>2021-04-02 22:55:18 India Standard Time</td>\n",
       "      <td>shafique_08</td>\n",
       "      <td>Today, the way CM @OfficeofUT ji has addressed...</td>\n",
       "      <td>en</td>\n",
       "      <td>0.0</td>\n",
       "      <td>1.0</td>\n",
       "      <td>1.0</td>\n",
       "    </tr>\n",
       "    <tr>\n",
       "      <th>10</th>\n",
       "      <td>2021-04-02 22:25:47 India Standard Time</td>\n",
       "      <td>jehlamtimes</td>\n",
       "      <td>JK reports 517 new positive cases, 126720 reco...</td>\n",
       "      <td>en</td>\n",
       "      <td>0.0</td>\n",
       "      <td>1.0</td>\n",
       "      <td>0.0</td>\n",
       "    </tr>\n",
       "    <tr>\n",
       "      <th>11</th>\n",
       "      <td>2021-04-02 22:22:35 India Standard Time</td>\n",
       "      <td>bardoliguide</td>\n",
       "      <td>Today's Corona News Statistics of Surat and Ba...</td>\n",
       "      <td>en</td>\n",
       "      <td>0.0</td>\n",
       "      <td>0.0</td>\n",
       "      <td>0.0</td>\n",
       "    </tr>\n",
       "    <tr>\n",
       "      <th>13</th>\n",
       "      <td>2021-04-02 22:11:13 India Standard Time</td>\n",
       "      <td>dhruvprakashvi1</td>\n",
       "      <td>That's why we haven't find control on corona v...</td>\n",
       "      <td>en</td>\n",
       "      <td>0.0</td>\n",
       "      <td>0.0</td>\n",
       "      <td>0.0</td>\n",
       "    </tr>\n",
       "    <tr>\n",
       "      <th>16</th>\n",
       "      <td>2021-04-02 22:03:47 India Standard Time</td>\n",
       "      <td>suraj_suresh16</td>\n",
       "      <td>Karnataka announces new guidelines:  - Gyms cl...</td>\n",
       "      <td>en</td>\n",
       "      <td>0.0</td>\n",
       "      <td>0.0</td>\n",
       "      <td>0.0</td>\n",
       "    </tr>\n",
       "    <tr>\n",
       "      <th>18</th>\n",
       "      <td>2021-04-02 21:33:18 India Standard Time</td>\n",
       "      <td>kirtidaevents</td>\n",
       "      <td>Let's fight #COVID19   Be careful. Wear a Mask...</td>\n",
       "      <td>en</td>\n",
       "      <td>0.0</td>\n",
       "      <td>0.0</td>\n",
       "      <td>0.0</td>\n",
       "    </tr>\n",
       "  </tbody>\n",
       "</table>\n",
       "</div>"
      ],
      "text/plain": [
       "                                 created_at         username  \\\n",
       "0   2021-04-03 01:10:04 India Standard Time           naeemq   \n",
       "1   2021-04-02 23:42:01 India Standard Time     dhawan_group   \n",
       "2   2021-04-02 23:18:00 India Standard Time         iattishx   \n",
       "5   2021-04-02 22:58:12 India Standard Time  potholewarriors   \n",
       "7   2021-04-02 22:55:18 India Standard Time      shafique_08   \n",
       "10  2021-04-02 22:25:47 India Standard Time      jehlamtimes   \n",
       "11  2021-04-02 22:22:35 India Standard Time     bardoliguide   \n",
       "13  2021-04-02 22:11:13 India Standard Time  dhruvprakashvi1   \n",
       "16  2021-04-02 22:03:47 India Standard Time   suraj_suresh16   \n",
       "18  2021-04-02 21:33:18 India Standard Time    kirtidaevents   \n",
       "\n",
       "                                                tweet language  replies_count  \\\n",
       "0   Be careful. Check covid situation in Pakistan ...       en            0.0   \n",
       "1   @KankichiRyotsu2 @MurliMenon6 @minaldoshi CCP ...       en            1.0   \n",
       "2   UK variant is more killing one here in third w...       en            0.0   \n",
       "5   #PollTime #LockDown2  #coronavirus #pandemic #...       en            3.0   \n",
       "7   Today, the way CM @OfficeofUT ji has addressed...       en            0.0   \n",
       "10  JK reports 517 new positive cases, 126720 reco...       en            0.0   \n",
       "11  Today's Corona News Statistics of Surat and Ba...       en            0.0   \n",
       "13  That's why we haven't find control on corona v...       en            0.0   \n",
       "16  Karnataka announces new guidelines:  - Gyms cl...       en            0.0   \n",
       "18  Let's fight #COVID19   Be careful. Wear a Mask...       en            0.0   \n",
       "\n",
       "    retweets_count  likes_count  \n",
       "0              0.0          1.0  \n",
       "1              0.0          0.0  \n",
       "2              0.0          0.0  \n",
       "5              5.0          2.0  \n",
       "7              1.0          1.0  \n",
       "10             1.0          0.0  \n",
       "11             0.0          0.0  \n",
       "13             0.0          0.0  \n",
       "16             0.0          0.0  \n",
       "18             0.0          0.0  "
      ]
     },
     "execution_count": 12,
     "metadata": {},
     "output_type": "execute_result"
    }
   ],
   "source": [
    "AprilFinal.head(10)"
   ]
  },
  {
   "cell_type": "code",
   "execution_count": 13,
   "metadata": {},
   "outputs": [],
   "source": [
    "AprilFinal.reset_index(inplace=True)"
   ]
  },
  {
   "cell_type": "code",
   "execution_count": 14,
   "metadata": {},
   "outputs": [
    {
     "data": {
      "text/html": [
       "<div>\n",
       "<style scoped>\n",
       "    .dataframe tbody tr th:only-of-type {\n",
       "        vertical-align: middle;\n",
       "    }\n",
       "\n",
       "    .dataframe tbody tr th {\n",
       "        vertical-align: top;\n",
       "    }\n",
       "\n",
       "    .dataframe thead th {\n",
       "        text-align: right;\n",
       "    }\n",
       "</style>\n",
       "<table border=\"1\" class=\"dataframe\">\n",
       "  <thead>\n",
       "    <tr style=\"text-align: right;\">\n",
       "      <th></th>\n",
       "      <th>index</th>\n",
       "      <th>created_at</th>\n",
       "      <th>username</th>\n",
       "      <th>tweet</th>\n",
       "      <th>language</th>\n",
       "      <th>replies_count</th>\n",
       "      <th>retweets_count</th>\n",
       "      <th>likes_count</th>\n",
       "    </tr>\n",
       "  </thead>\n",
       "  <tbody>\n",
       "    <tr>\n",
       "      <th>0</th>\n",
       "      <td>0</td>\n",
       "      <td>2021-04-03 01:10:04 India Standard Time</td>\n",
       "      <td>naeemq</td>\n",
       "      <td>Be careful. Check covid situation in Pakistan ...</td>\n",
       "      <td>en</td>\n",
       "      <td>0.0</td>\n",
       "      <td>0.0</td>\n",
       "      <td>1.0</td>\n",
       "    </tr>\n",
       "    <tr>\n",
       "      <th>1</th>\n",
       "      <td>1</td>\n",
       "      <td>2021-04-02 23:42:01 India Standard Time</td>\n",
       "      <td>dhawan_group</td>\n",
       "      <td>@KankichiRyotsu2 @MurliMenon6 @minaldoshi CCP ...</td>\n",
       "      <td>en</td>\n",
       "      <td>1.0</td>\n",
       "      <td>0.0</td>\n",
       "      <td>0.0</td>\n",
       "    </tr>\n",
       "    <tr>\n",
       "      <th>2</th>\n",
       "      <td>2</td>\n",
       "      <td>2021-04-02 23:18:00 India Standard Time</td>\n",
       "      <td>iattishx</td>\n",
       "      <td>UK variant is more killing one here in third w...</td>\n",
       "      <td>en</td>\n",
       "      <td>0.0</td>\n",
       "      <td>0.0</td>\n",
       "      <td>0.0</td>\n",
       "    </tr>\n",
       "    <tr>\n",
       "      <th>3</th>\n",
       "      <td>5</td>\n",
       "      <td>2021-04-02 22:58:12 India Standard Time</td>\n",
       "      <td>potholewarriors</td>\n",
       "      <td>#PollTime #LockDown2  #coronavirus #pandemic #...</td>\n",
       "      <td>en</td>\n",
       "      <td>3.0</td>\n",
       "      <td>5.0</td>\n",
       "      <td>2.0</td>\n",
       "    </tr>\n",
       "    <tr>\n",
       "      <th>4</th>\n",
       "      <td>7</td>\n",
       "      <td>2021-04-02 22:55:18 India Standard Time</td>\n",
       "      <td>shafique_08</td>\n",
       "      <td>Today, the way CM @OfficeofUT ji has addressed...</td>\n",
       "      <td>en</td>\n",
       "      <td>0.0</td>\n",
       "      <td>1.0</td>\n",
       "      <td>1.0</td>\n",
       "    </tr>\n",
       "    <tr>\n",
       "      <th>5</th>\n",
       "      <td>10</td>\n",
       "      <td>2021-04-02 22:25:47 India Standard Time</td>\n",
       "      <td>jehlamtimes</td>\n",
       "      <td>JK reports 517 new positive cases, 126720 reco...</td>\n",
       "      <td>en</td>\n",
       "      <td>0.0</td>\n",
       "      <td>1.0</td>\n",
       "      <td>0.0</td>\n",
       "    </tr>\n",
       "    <tr>\n",
       "      <th>6</th>\n",
       "      <td>11</td>\n",
       "      <td>2021-04-02 22:22:35 India Standard Time</td>\n",
       "      <td>bardoliguide</td>\n",
       "      <td>Today's Corona News Statistics of Surat and Ba...</td>\n",
       "      <td>en</td>\n",
       "      <td>0.0</td>\n",
       "      <td>0.0</td>\n",
       "      <td>0.0</td>\n",
       "    </tr>\n",
       "    <tr>\n",
       "      <th>7</th>\n",
       "      <td>13</td>\n",
       "      <td>2021-04-02 22:11:13 India Standard Time</td>\n",
       "      <td>dhruvprakashvi1</td>\n",
       "      <td>That's why we haven't find control on corona v...</td>\n",
       "      <td>en</td>\n",
       "      <td>0.0</td>\n",
       "      <td>0.0</td>\n",
       "      <td>0.0</td>\n",
       "    </tr>\n",
       "    <tr>\n",
       "      <th>8</th>\n",
       "      <td>16</td>\n",
       "      <td>2021-04-02 22:03:47 India Standard Time</td>\n",
       "      <td>suraj_suresh16</td>\n",
       "      <td>Karnataka announces new guidelines:  - Gyms cl...</td>\n",
       "      <td>en</td>\n",
       "      <td>0.0</td>\n",
       "      <td>0.0</td>\n",
       "      <td>0.0</td>\n",
       "    </tr>\n",
       "    <tr>\n",
       "      <th>9</th>\n",
       "      <td>18</td>\n",
       "      <td>2021-04-02 21:33:18 India Standard Time</td>\n",
       "      <td>kirtidaevents</td>\n",
       "      <td>Let's fight #COVID19   Be careful. Wear a Mask...</td>\n",
       "      <td>en</td>\n",
       "      <td>0.0</td>\n",
       "      <td>0.0</td>\n",
       "      <td>0.0</td>\n",
       "    </tr>\n",
       "  </tbody>\n",
       "</table>\n",
       "</div>"
      ],
      "text/plain": [
       "   index                               created_at         username  \\\n",
       "0      0  2021-04-03 01:10:04 India Standard Time           naeemq   \n",
       "1      1  2021-04-02 23:42:01 India Standard Time     dhawan_group   \n",
       "2      2  2021-04-02 23:18:00 India Standard Time         iattishx   \n",
       "3      5  2021-04-02 22:58:12 India Standard Time  potholewarriors   \n",
       "4      7  2021-04-02 22:55:18 India Standard Time      shafique_08   \n",
       "5     10  2021-04-02 22:25:47 India Standard Time      jehlamtimes   \n",
       "6     11  2021-04-02 22:22:35 India Standard Time     bardoliguide   \n",
       "7     13  2021-04-02 22:11:13 India Standard Time  dhruvprakashvi1   \n",
       "8     16  2021-04-02 22:03:47 India Standard Time   suraj_suresh16   \n",
       "9     18  2021-04-02 21:33:18 India Standard Time    kirtidaevents   \n",
       "\n",
       "                                               tweet language  replies_count  \\\n",
       "0  Be careful. Check covid situation in Pakistan ...       en            0.0   \n",
       "1  @KankichiRyotsu2 @MurliMenon6 @minaldoshi CCP ...       en            1.0   \n",
       "2  UK variant is more killing one here in third w...       en            0.0   \n",
       "3  #PollTime #LockDown2  #coronavirus #pandemic #...       en            3.0   \n",
       "4  Today, the way CM @OfficeofUT ji has addressed...       en            0.0   \n",
       "5  JK reports 517 new positive cases, 126720 reco...       en            0.0   \n",
       "6  Today's Corona News Statistics of Surat and Ba...       en            0.0   \n",
       "7  That's why we haven't find control on corona v...       en            0.0   \n",
       "8  Karnataka announces new guidelines:  - Gyms cl...       en            0.0   \n",
       "9  Let's fight #COVID19   Be careful. Wear a Mask...       en            0.0   \n",
       "\n",
       "   retweets_count  likes_count  \n",
       "0             0.0          1.0  \n",
       "1             0.0          0.0  \n",
       "2             0.0          0.0  \n",
       "3             5.0          2.0  \n",
       "4             1.0          1.0  \n",
       "5             1.0          0.0  \n",
       "6             0.0          0.0  \n",
       "7             0.0          0.0  \n",
       "8             0.0          0.0  \n",
       "9             0.0          0.0  "
      ]
     },
     "execution_count": 14,
     "metadata": {},
     "output_type": "execute_result"
    }
   ],
   "source": [
    "AprilFinal.head(10)"
   ]
  },
  {
   "cell_type": "code",
   "execution_count": 15,
   "metadata": {},
   "outputs": [],
   "source": [
    "AprilFinal.drop(['index'],axis=1, inplace=True)"
   ]
  },
  {
   "cell_type": "code",
   "execution_count": 16,
   "metadata": {},
   "outputs": [
    {
     "data": {
      "text/plain": [
       "(1839, 7)"
      ]
     },
     "execution_count": 16,
     "metadata": {},
     "output_type": "execute_result"
    }
   ],
   "source": [
    "AprilFinal.shape"
   ]
  },
  {
   "cell_type": "code",
   "execution_count": null,
   "metadata": {},
   "outputs": [],
   "source": [
    "AprilFinal.to_csv('AprilFinal.csv')"
   ]
  },
  {
   "cell_type": "code",
   "execution_count": null,
   "metadata": {},
   "outputs": [],
   "source": []
  }
 ],
 "metadata": {
  "interpreter": {
   "hash": "634498344980471fb0944d848df28373b199ff2468c6404ec32442b20f813eee"
  },
  "kernelspec": {
   "display_name": "Python 3.9.6 64-bit",
   "language": "python",
   "name": "python3"
  },
  "language_info": {
   "codemirror_mode": {
    "name": "ipython",
    "version": 3
   },
   "file_extension": ".py",
   "mimetype": "text/x-python",
   "name": "python",
   "nbconvert_exporter": "python",
   "pygments_lexer": "ipython3",
   "version": "3.9.6"
  },
  "orig_nbformat": 4
 },
 "nbformat": 4,
 "nbformat_minor": 2
}
