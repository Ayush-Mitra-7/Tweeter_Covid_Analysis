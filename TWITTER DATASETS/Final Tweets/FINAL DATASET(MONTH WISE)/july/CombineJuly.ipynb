{
 "cells": [
  {
   "cell_type": "code",
   "execution_count": 1,
   "metadata": {},
   "outputs": [],
   "source": [
    "import pandas as pd\n",
    "import numpy as np"
   ]
  },
  {
   "cell_type": "code",
   "execution_count": 2,
   "metadata": {},
   "outputs": [],
   "source": [
    "july_ayush=pd.read_csv('JulyTweetAyushFinal.csv')\n",
    "july_gangotri=pd.read_csv('JulyTweetGangotriFinal.csv')\n",
    "july_mahabub=pd.read_csv('JulyTweetMahabubFinal.csv')"
   ]
  },
  {
   "cell_type": "code",
   "execution_count": 3,
   "metadata": {},
   "outputs": [
    {
     "name": "stdout",
     "output_type": "stream",
     "text": [
      "(252, 8) (543, 8) (408, 8)\n"
     ]
    }
   ],
   "source": [
    "a=july_ayush.shape\n",
    "g=july_gangotri.shape\n",
    "m=july_mahabub.shape\n",
    "print(a,g,m)"
   ]
  },
  {
   "cell_type": "code",
   "execution_count": 4,
   "metadata": {},
   "outputs": [],
   "source": [
    "july_Temp = pd.concat([july_gangotri,july_ayush]).drop_duplicates()\n",
    "JulyFinal = pd.concat([july_Temp,july_mahabub]).drop_duplicates()"
   ]
  },
  {
   "cell_type": "code",
   "execution_count": 5,
   "metadata": {},
   "outputs": [
    {
     "data": {
      "text/plain": [
       "(1203, 8)"
      ]
     },
     "execution_count": 5,
     "metadata": {},
     "output_type": "execute_result"
    }
   ],
   "source": [
    "JulyFinal.shape"
   ]
  },
  {
   "cell_type": "code",
   "execution_count": 8,
   "metadata": {},
   "outputs": [
    {
     "data": {
      "text/plain": [
       "(1203, 7)"
      ]
     },
     "execution_count": 8,
     "metadata": {},
     "output_type": "execute_result"
    }
   ],
   "source": [
    "JulyFinal.drop(['Unnamed: 0'],axis=1, inplace=True)\n",
    "JulyFinal.reset_index(inplace=True)\n",
    "JulyFinal.drop(['index'],axis=1, inplace=True)\n",
    "JulyFinal.shape"
   ]
  },
  {
   "cell_type": "code",
   "execution_count": 9,
   "metadata": {},
   "outputs": [],
   "source": [
    "JulyFinal.to_csv('JulyFinal.csv')"
   ]
  }
 ],
 "metadata": {
  "interpreter": {
   "hash": "634498344980471fb0944d848df28373b199ff2468c6404ec32442b20f813eee"
  },
  "kernelspec": {
   "display_name": "Python 3.9.6 64-bit",
   "language": "python",
   "name": "python3"
  },
  "language_info": {
   "codemirror_mode": {
    "name": "ipython",
    "version": 3
   },
   "file_extension": ".py",
   "mimetype": "text/x-python",
   "name": "python",
   "nbconvert_exporter": "python",
   "pygments_lexer": "ipython3",
   "version": "3.9.6"
  },
  "orig_nbformat": 4
 },
 "nbformat": 4,
 "nbformat_minor": 2
}
