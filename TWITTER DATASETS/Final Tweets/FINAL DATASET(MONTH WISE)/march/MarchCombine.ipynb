{
 "cells": [
  {
   "cell_type": "code",
   "execution_count": 1,
   "metadata": {},
   "outputs": [],
   "source": [
    "import pandas as pd\n",
    "import numpy as np"
   ]
  },
  {
   "cell_type": "code",
   "execution_count": 2,
   "metadata": {},
   "outputs": [],
   "source": [
    "march_ayush=pd.read_csv('MarchTweetAyushFinal.csv')\n",
    "march_gangotri=pd.read_csv('MarchTweetGangotriFinal.csv')\n",
    "march_mahabub=pd.read_csv('MarchTweetMahabubFinal.csv')"
   ]
  },
  {
   "cell_type": "code",
   "execution_count": 4,
   "metadata": {},
   "outputs": [
    {
     "name": "stdout",
     "output_type": "stream",
     "text": [
      "(483, 8) (631, 37) (1159, 8)\n"
     ]
    }
   ],
   "source": [
    "a=march_ayush.shape\n",
    "g=march_gangotri.shape\n",
    "m=march_mahabub.shape\n",
    "print(a,g,m)"
   ]
  },
  {
   "cell_type": "code",
   "execution_count": 6,
   "metadata": {},
   "outputs": [
    {
     "data": {
      "text/plain": [
       "Index(['Unnamed: 0', 'id', 'conversation_id', 'created_at', 'date', 'time',\n",
       "       'timezone', 'user_id', 'username', 'name', 'place', 'tweet', 'language',\n",
       "       'mentions', 'urls', 'photos', 'replies_count', 'retweets_count',\n",
       "       'likes_count', 'hashtags', 'cashtags', 'link', 'retweet', 'quote_url',\n",
       "       'video', 'thumbnail', 'near', 'geo', 'source', 'user_rt_id', 'user_rt',\n",
       "       'retweet_id', 'reply_to', 'retweet_date', 'translate', 'trans_src',\n",
       "       'trans_dest'],\n",
       "      dtype='object')"
      ]
     },
     "execution_count": 6,
     "metadata": {},
     "output_type": "execute_result"
    }
   ],
   "source": [
    "march_gangotri.columns"
   ]
  },
  {
   "cell_type": "code",
   "execution_count": 7,
   "metadata": {},
   "outputs": [
    {
     "data": {
      "text/plain": [
       "Index(['Unnamed: 0', 'username', 'created_at', 'replies_count', 'likes_count',\n",
       "       'retweets_count', 'tweet', 'language'],\n",
       "      dtype='object')"
      ]
     },
     "execution_count": 7,
     "metadata": {},
     "output_type": "execute_result"
    }
   ],
   "source": [
    "march_ayush.columns"
   ]
  },
  {
   "cell_type": "code",
   "execution_count": 8,
   "metadata": {},
   "outputs": [
    {
     "data": {
      "text/plain": [
       "Index(['Unnamed: 0', 'created_at', 'username', 'tweet', 'language',\n",
       "       'replies_count', 'retweets_count', 'likes_count'],\n",
       "      dtype='object')"
      ]
     },
     "execution_count": 8,
     "metadata": {},
     "output_type": "execute_result"
    }
   ],
   "source": [
    "march_mahabub.columns"
   ]
  },
  {
   "cell_type": "code",
   "execution_count": 9,
   "metadata": {},
   "outputs": [],
   "source": [
    "march_gangotri.drop(['trans_dest', 'trans_src', 'retweet_id', 'reply_to', 'retweet_date', 'translate', 'geo', 'source', 'user_rt_id', 'user_rt', 'video', 'thumbnail', 'quote_url', 'near',\n",
    "                 'id', 'conversation_id', 'date', 'time', 'place', 'mentions', 'urls', 'photos', 'hashtags', 'cashtags', 'link', 'retweet', 'timezone', 'user_id', 'name'], axis=1, inplace=True)"
   ]
  },
  {
   "cell_type": "code",
   "execution_count": 10,
   "metadata": {},
   "outputs": [
    {
     "data": {
      "text/plain": [
       "Index(['Unnamed: 0', 'created_at', 'username', 'tweet', 'language',\n",
       "       'replies_count', 'retweets_count', 'likes_count'],\n",
       "      dtype='object')"
      ]
     },
     "execution_count": 10,
     "metadata": {},
     "output_type": "execute_result"
    }
   ],
   "source": [
    "march_gangotri.columns"
   ]
  },
  {
   "cell_type": "code",
   "execution_count": 12,
   "metadata": {},
   "outputs": [],
   "source": [
    "march_Temp = pd.concat([march_gangotri, march_ayush]).drop_duplicates()\n",
    "MarchFinal = pd.concat([march_Temp, march_mahabub]).drop_duplicates()"
   ]
  },
  {
   "cell_type": "code",
   "execution_count": 13,
   "metadata": {},
   "outputs": [
    {
     "data": {
      "text/plain": [
       "(2273, 8)"
      ]
     },
     "execution_count": 13,
     "metadata": {},
     "output_type": "execute_result"
    }
   ],
   "source": [
    "MarchFinal.shape"
   ]
  },
  {
   "cell_type": "code",
   "execution_count": 14,
   "metadata": {},
   "outputs": [
    {
     "data": {
      "text/plain": [
       "(0, 8)"
      ]
     },
     "execution_count": 14,
     "metadata": {},
     "output_type": "execute_result"
    }
   ],
   "source": [
    "duplicates = MarchFinal[MarchFinal.duplicated()]\n",
    "duplicates.shape"
   ]
  },
  {
   "cell_type": "code",
   "execution_count": 16,
   "metadata": {},
   "outputs": [
    {
     "data": {
      "text/plain": [
       "Index(['Unnamed: 0', 'created_at', 'username', 'tweet', 'language',\n",
       "       'replies_count', 'retweets_count', 'likes_count'],\n",
       "      dtype='object')"
      ]
     },
     "execution_count": 16,
     "metadata": {},
     "output_type": "execute_result"
    }
   ],
   "source": [
    "MarchFinal.columns"
   ]
  },
  {
   "cell_type": "code",
   "execution_count": 17,
   "metadata": {},
   "outputs": [],
   "source": [
    "MarchFinal.drop(['Unnamed: 0'],axis=1, inplace=True)"
   ]
  },
  {
   "cell_type": "code",
   "execution_count": 18,
   "metadata": {},
   "outputs": [
    {
     "data": {
      "text/plain": [
       "Index(['created_at', 'username', 'tweet', 'language', 'replies_count',\n",
       "       'retweets_count', 'likes_count'],\n",
       "      dtype='object')"
      ]
     },
     "execution_count": 18,
     "metadata": {},
     "output_type": "execute_result"
    }
   ],
   "source": [
    "MarchFinal.columns"
   ]
  },
  {
   "cell_type": "code",
   "execution_count": 19,
   "metadata": {},
   "outputs": [
    {
     "data": {
      "text/html": [
       "<div>\n",
       "<style scoped>\n",
       "    .dataframe tbody tr th:only-of-type {\n",
       "        vertical-align: middle;\n",
       "    }\n",
       "\n",
       "    .dataframe tbody tr th {\n",
       "        vertical-align: top;\n",
       "    }\n",
       "\n",
       "    .dataframe thead th {\n",
       "        text-align: right;\n",
       "    }\n",
       "</style>\n",
       "<table border=\"1\" class=\"dataframe\">\n",
       "  <thead>\n",
       "    <tr style=\"text-align: right;\">\n",
       "      <th></th>\n",
       "      <th>created_at</th>\n",
       "      <th>username</th>\n",
       "      <th>tweet</th>\n",
       "      <th>language</th>\n",
       "      <th>replies_count</th>\n",
       "      <th>retweets_count</th>\n",
       "      <th>likes_count</th>\n",
       "    </tr>\n",
       "  </thead>\n",
       "  <tbody>\n",
       "    <tr>\n",
       "      <th>0</th>\n",
       "      <td>2021-03-03 01:41:33 India Standard Time</td>\n",
       "      <td>kwttoday</td>\n",
       "      <td>Number of coronavirus recoveries in Kuwait ros...</td>\n",
       "      <td>en</td>\n",
       "      <td>0.0</td>\n",
       "      <td>0.0</td>\n",
       "      <td>5.0</td>\n",
       "    </tr>\n",
       "    <tr>\n",
       "      <th>1</th>\n",
       "      <td>2021-03-03 00:20:27 India Standard Time</td>\n",
       "      <td>omkargawde_15</td>\n",
       "      <td>मुंबईत #कोव्हीड_19 लसीकरण मोहिमेस प्रारंभ झाला...</td>\n",
       "      <td>mr</td>\n",
       "      <td>0.0</td>\n",
       "      <td>0.0</td>\n",
       "      <td>1.0</td>\n",
       "    </tr>\n",
       "    <tr>\n",
       "      <th>2</th>\n",
       "      <td>2021-03-02 23:35:09 India Standard Time</td>\n",
       "      <td>rohailramzanali</td>\n",
       "      <td>Alhamdullilah!  Despite a player got POSITIVE,...</td>\n",
       "      <td>en</td>\n",
       "      <td>0.0</td>\n",
       "      <td>0.0</td>\n",
       "      <td>0.0</td>\n",
       "    </tr>\n",
       "    <tr>\n",
       "      <th>3</th>\n",
       "      <td>2021-03-02 23:22:25 India Standard Time</td>\n",
       "      <td>raja50301097</td>\n",
       "      <td>CHINA ATTACK INDIA DURING  CORONAVIRUS THE MOS...</td>\n",
       "      <td>en</td>\n",
       "      <td>0.0</td>\n",
       "      <td>0.0</td>\n",
       "      <td>0.0</td>\n",
       "    </tr>\n",
       "    <tr>\n",
       "      <th>4</th>\n",
       "      <td>2021-03-02 22:10:28 India Standard Time</td>\n",
       "      <td>arunchadha6</td>\n",
       "      <td>Respected Pope Francis plans to visit Iraq lat...</td>\n",
       "      <td>en</td>\n",
       "      <td>0.0</td>\n",
       "      <td>0.0</td>\n",
       "      <td>0.0</td>\n",
       "    </tr>\n",
       "    <tr>\n",
       "      <th>5</th>\n",
       "      <td>2021-03-02 21:55:32 India Standard Time</td>\n",
       "      <td>surendrapalsin3</td>\n",
       "      <td>\"COVID-19 in India\" #coronavirus  https://t.co...</td>\n",
       "      <td>en</td>\n",
       "      <td>0.0</td>\n",
       "      <td>0.0</td>\n",
       "      <td>1.0</td>\n",
       "    </tr>\n",
       "    <tr>\n",
       "      <th>6</th>\n",
       "      <td>2021-03-02 21:50:31 India Standard Time</td>\n",
       "      <td>jehlamtimes</td>\n",
       "      <td>Rajnath gets his covaxin jab  NEW DELHI: Defen...</td>\n",
       "      <td>en</td>\n",
       "      <td>0.0</td>\n",
       "      <td>1.0</td>\n",
       "      <td>0.0</td>\n",
       "    </tr>\n",
       "    <tr>\n",
       "      <th>7</th>\n",
       "      <td>2021-03-02 21:17:06 India Standard Time</td>\n",
       "      <td>arunchadha6</td>\n",
       "      <td>The music industry had a way to grow amidst 'C...</td>\n",
       "      <td>en</td>\n",
       "      <td>0.0</td>\n",
       "      <td>0.0</td>\n",
       "      <td>0.0</td>\n",
       "    </tr>\n",
       "    <tr>\n",
       "      <th>8</th>\n",
       "      <td>2021-03-02 19:55:08 India Standard Time</td>\n",
       "      <td>srilankatweet</td>\n",
       "      <td>Coronavirus is not over yet.  Stay Safe and co...</td>\n",
       "      <td>en</td>\n",
       "      <td>0.0</td>\n",
       "      <td>14.0</td>\n",
       "      <td>35.0</td>\n",
       "    </tr>\n",
       "    <tr>\n",
       "      <th>9</th>\n",
       "      <td>2021-03-02 19:53:38 India Standard Time</td>\n",
       "      <td>alikfinifaru</td>\n",
       "      <td>Coronavirus crisis unlikely to be over by the ...</td>\n",
       "      <td>en</td>\n",
       "      <td>0.0</td>\n",
       "      <td>0.0</td>\n",
       "      <td>1.0</td>\n",
       "    </tr>\n",
       "  </tbody>\n",
       "</table>\n",
       "</div>"
      ],
      "text/plain": [
       "                                created_at         username  \\\n",
       "0  2021-03-03 01:41:33 India Standard Time         kwttoday   \n",
       "1  2021-03-03 00:20:27 India Standard Time    omkargawde_15   \n",
       "2  2021-03-02 23:35:09 India Standard Time  rohailramzanali   \n",
       "3  2021-03-02 23:22:25 India Standard Time     raja50301097   \n",
       "4  2021-03-02 22:10:28 India Standard Time      arunchadha6   \n",
       "5  2021-03-02 21:55:32 India Standard Time  surendrapalsin3   \n",
       "6  2021-03-02 21:50:31 India Standard Time      jehlamtimes   \n",
       "7  2021-03-02 21:17:06 India Standard Time      arunchadha6   \n",
       "8  2021-03-02 19:55:08 India Standard Time    srilankatweet   \n",
       "9  2021-03-02 19:53:38 India Standard Time     alikfinifaru   \n",
       "\n",
       "                                               tweet language  replies_count  \\\n",
       "0  Number of coronavirus recoveries in Kuwait ros...       en            0.0   \n",
       "1  मुंबईत #कोव्हीड_19 लसीकरण मोहिमेस प्रारंभ झाला...       mr            0.0   \n",
       "2  Alhamdullilah!  Despite a player got POSITIVE,...       en            0.0   \n",
       "3  CHINA ATTACK INDIA DURING  CORONAVIRUS THE MOS...       en            0.0   \n",
       "4  Respected Pope Francis plans to visit Iraq lat...       en            0.0   \n",
       "5  \"COVID-19 in India\" #coronavirus  https://t.co...       en            0.0   \n",
       "6  Rajnath gets his covaxin jab  NEW DELHI: Defen...       en            0.0   \n",
       "7  The music industry had a way to grow amidst 'C...       en            0.0   \n",
       "8  Coronavirus is not over yet.  Stay Safe and co...       en            0.0   \n",
       "9  Coronavirus crisis unlikely to be over by the ...       en            0.0   \n",
       "\n",
       "   retweets_count  likes_count  \n",
       "0             0.0          5.0  \n",
       "1             0.0          1.0  \n",
       "2             0.0          0.0  \n",
       "3             0.0          0.0  \n",
       "4             0.0          0.0  \n",
       "5             0.0          1.0  \n",
       "6             1.0          0.0  \n",
       "7             0.0          0.0  \n",
       "8            14.0         35.0  \n",
       "9             0.0          1.0  "
      ]
     },
     "execution_count": 19,
     "metadata": {},
     "output_type": "execute_result"
    }
   ],
   "source": [
    "MarchFinal.head(10)"
   ]
  },
  {
   "cell_type": "code",
   "execution_count": 20,
   "metadata": {},
   "outputs": [],
   "source": [
    "for i in MarchFinal['language']:\n",
    "    index_names = MarchFinal[MarchFinal['language']!='en' ].index\n",
    "    MarchFinal.drop(index_names, inplace = True)"
   ]
  },
  {
   "cell_type": "code",
   "execution_count": 21,
   "metadata": {},
   "outputs": [
    {
     "data": {
      "text/plain": [
       "(1793, 7)"
      ]
     },
     "execution_count": 21,
     "metadata": {},
     "output_type": "execute_result"
    }
   ],
   "source": [
    "MarchFinal.shape"
   ]
  },
  {
   "cell_type": "code",
   "execution_count": 22,
   "metadata": {},
   "outputs": [],
   "source": [
    "MarchFinal.reset_index(inplace = True)"
   ]
  },
  {
   "cell_type": "code",
   "execution_count": 24,
   "metadata": {},
   "outputs": [
    {
     "data": {
      "text/plain": [
       "(1793, 8)"
      ]
     },
     "execution_count": 24,
     "metadata": {},
     "output_type": "execute_result"
    }
   ],
   "source": [
    "MarchFinal.shape"
   ]
  },
  {
   "cell_type": "code",
   "execution_count": 25,
   "metadata": {},
   "outputs": [
    {
     "data": {
      "text/plain": [
       "Index(['index', 'created_at', 'username', 'tweet', 'language', 'replies_count',\n",
       "       'retweets_count', 'likes_count'],\n",
       "      dtype='object')"
      ]
     },
     "execution_count": 25,
     "metadata": {},
     "output_type": "execute_result"
    }
   ],
   "source": [
    "MarchFinal.columns"
   ]
  },
  {
   "cell_type": "code",
   "execution_count": 26,
   "metadata": {},
   "outputs": [],
   "source": [
    "MarchFinal.drop(['index'],axis=1, inplace=True)"
   ]
  },
  {
   "cell_type": "code",
   "execution_count": 27,
   "metadata": {},
   "outputs": [
    {
     "data": {
      "text/html": [
       "<div>\n",
       "<style scoped>\n",
       "    .dataframe tbody tr th:only-of-type {\n",
       "        vertical-align: middle;\n",
       "    }\n",
       "\n",
       "    .dataframe tbody tr th {\n",
       "        vertical-align: top;\n",
       "    }\n",
       "\n",
       "    .dataframe thead th {\n",
       "        text-align: right;\n",
       "    }\n",
       "</style>\n",
       "<table border=\"1\" class=\"dataframe\">\n",
       "  <thead>\n",
       "    <tr style=\"text-align: right;\">\n",
       "      <th></th>\n",
       "      <th>created_at</th>\n",
       "      <th>username</th>\n",
       "      <th>tweet</th>\n",
       "      <th>language</th>\n",
       "      <th>replies_count</th>\n",
       "      <th>retweets_count</th>\n",
       "      <th>likes_count</th>\n",
       "    </tr>\n",
       "  </thead>\n",
       "  <tbody>\n",
       "    <tr>\n",
       "      <th>0</th>\n",
       "      <td>2021-03-03 01:41:33 India Standard Time</td>\n",
       "      <td>kwttoday</td>\n",
       "      <td>Number of coronavirus recoveries in Kuwait ros...</td>\n",
       "      <td>en</td>\n",
       "      <td>0.0</td>\n",
       "      <td>0.0</td>\n",
       "      <td>5.0</td>\n",
       "    </tr>\n",
       "    <tr>\n",
       "      <th>1</th>\n",
       "      <td>2021-03-02 23:35:09 India Standard Time</td>\n",
       "      <td>rohailramzanali</td>\n",
       "      <td>Alhamdullilah!  Despite a player got POSITIVE,...</td>\n",
       "      <td>en</td>\n",
       "      <td>0.0</td>\n",
       "      <td>0.0</td>\n",
       "      <td>0.0</td>\n",
       "    </tr>\n",
       "    <tr>\n",
       "      <th>2</th>\n",
       "      <td>2021-03-02 23:22:25 India Standard Time</td>\n",
       "      <td>raja50301097</td>\n",
       "      <td>CHINA ATTACK INDIA DURING  CORONAVIRUS THE MOS...</td>\n",
       "      <td>en</td>\n",
       "      <td>0.0</td>\n",
       "      <td>0.0</td>\n",
       "      <td>0.0</td>\n",
       "    </tr>\n",
       "    <tr>\n",
       "      <th>3</th>\n",
       "      <td>2021-03-02 22:10:28 India Standard Time</td>\n",
       "      <td>arunchadha6</td>\n",
       "      <td>Respected Pope Francis plans to visit Iraq lat...</td>\n",
       "      <td>en</td>\n",
       "      <td>0.0</td>\n",
       "      <td>0.0</td>\n",
       "      <td>0.0</td>\n",
       "    </tr>\n",
       "    <tr>\n",
       "      <th>4</th>\n",
       "      <td>2021-03-02 21:55:32 India Standard Time</td>\n",
       "      <td>surendrapalsin3</td>\n",
       "      <td>\"COVID-19 in India\" #coronavirus  https://t.co...</td>\n",
       "      <td>en</td>\n",
       "      <td>0.0</td>\n",
       "      <td>0.0</td>\n",
       "      <td>1.0</td>\n",
       "    </tr>\n",
       "  </tbody>\n",
       "</table>\n",
       "</div>"
      ],
      "text/plain": [
       "                                created_at         username  \\\n",
       "0  2021-03-03 01:41:33 India Standard Time         kwttoday   \n",
       "1  2021-03-02 23:35:09 India Standard Time  rohailramzanali   \n",
       "2  2021-03-02 23:22:25 India Standard Time     raja50301097   \n",
       "3  2021-03-02 22:10:28 India Standard Time      arunchadha6   \n",
       "4  2021-03-02 21:55:32 India Standard Time  surendrapalsin3   \n",
       "\n",
       "                                               tweet language  replies_count  \\\n",
       "0  Number of coronavirus recoveries in Kuwait ros...       en            0.0   \n",
       "1  Alhamdullilah!  Despite a player got POSITIVE,...       en            0.0   \n",
       "2  CHINA ATTACK INDIA DURING  CORONAVIRUS THE MOS...       en            0.0   \n",
       "3  Respected Pope Francis plans to visit Iraq lat...       en            0.0   \n",
       "4  \"COVID-19 in India\" #coronavirus  https://t.co...       en            0.0   \n",
       "\n",
       "   retweets_count  likes_count  \n",
       "0             0.0          5.0  \n",
       "1             0.0          0.0  \n",
       "2             0.0          0.0  \n",
       "3             0.0          0.0  \n",
       "4             0.0          1.0  "
      ]
     },
     "execution_count": 27,
     "metadata": {},
     "output_type": "execute_result"
    }
   ],
   "source": [
    "MarchFinal.head(5)"
   ]
  },
  {
   "cell_type": "code",
   "execution_count": null,
   "metadata": {},
   "outputs": [],
   "source": [
    "MarchFinal.to_csv('MarchFinal.csv')"
   ]
  },
  {
   "cell_type": "code",
   "execution_count": null,
   "metadata": {},
   "outputs": [],
   "source": []
  }
 ],
 "metadata": {
  "interpreter": {
   "hash": "634498344980471fb0944d848df28373b199ff2468c6404ec32442b20f813eee"
  },
  "kernelspec": {
   "display_name": "Python 3.9.6 64-bit",
   "language": "python",
   "name": "python3"
  },
  "language_info": {
   "codemirror_mode": {
    "name": "ipython",
    "version": 3
   },
   "file_extension": ".py",
   "mimetype": "text/x-python",
   "name": "python",
   "nbconvert_exporter": "python",
   "pygments_lexer": "ipython3",
   "version": "3.9.6"
  },
  "orig_nbformat": 4
 },
 "nbformat": 4,
 "nbformat_minor": 2
}
