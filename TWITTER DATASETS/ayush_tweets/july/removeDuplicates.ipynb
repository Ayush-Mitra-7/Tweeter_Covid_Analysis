{
 "cells": [
  {
   "cell_type": "code",
   "execution_count": 1,
   "metadata": {},
   "outputs": [],
   "source": [
    "import numpy as np\n",
    "import pandas as pd"
   ]
  },
  {
   "cell_type": "code",
   "execution_count": 2,
   "metadata": {},
   "outputs": [],
   "source": [
    "july_covid = pd.read_csv('july(T-covid).csv')\n",
    "july_Covid_19 = pd.read_csv('july(T-Covid_19).csv')\n",
    "july_remdesivir = pd.read_csv('july(T-remdesivir).csv')"
   ]
  },
  {
   "cell_type": "code",
   "execution_count": 3,
   "metadata": {},
   "outputs": [
    {
     "data": {
      "text/plain": [
       "(442, 36)"
      ]
     },
     "execution_count": 3,
     "metadata": {},
     "output_type": "execute_result"
    }
   ],
   "source": [
    "july_Temp = pd.concat([july_Covid_19, july_covid]).drop_duplicates()\n",
    "julyKeyAyush = pd.concat([july_Temp, july_remdesivir]).drop_duplicates()\n",
    "julyKeyAyush.shape"
   ]
  },
  {
   "cell_type": "code",
   "execution_count": 4,
   "metadata": {},
   "outputs": [
    {
     "data": {
      "text/plain": [
       "(0, 36)"
      ]
     },
     "execution_count": 4,
     "metadata": {},
     "output_type": "execute_result"
    }
   ],
   "source": [
    "duplicates = julyKeyAyush[julyKeyAyush.duplicated()]\n",
    "duplicates.shape"
   ]
  },
  {
   "cell_type": "code",
   "execution_count": 5,
   "metadata": {},
   "outputs": [
    {
     "data": {
      "text/plain": [
       "(442, 7)"
      ]
     },
     "execution_count": 5,
     "metadata": {},
     "output_type": "execute_result"
    }
   ],
   "source": [
    "julyKeyAyush.drop(['trans_dest', 'trans_src', 'retweet_id', 'reply_to', 'retweet_date', 'translate', 'geo', 'source', 'user_rt_id', 'user_rt', 'video', 'thumbnail', 'quote_url', 'near',\n",
    "                 'id', 'conversation_id', 'date', 'time', 'place', 'mentions', 'urls', 'photos', 'hashtags', 'cashtags', 'link', 'retweet', 'timezone', 'user_id', 'name'], axis=1, inplace=True)\n",
    "julyKeyAyush.shape"
   ]
  },
  {
   "cell_type": "code",
   "execution_count": 6,
   "metadata": {},
   "outputs": [],
   "source": [
    "julyT=pd.read_csv('covidtweets(july-TopSection).csv.csv')\n",
    "julyL=pd.read_csv('covidtweets(july-2021-Latest).csv')"
   ]
  },
  {
   "cell_type": "code",
   "execution_count": 7,
   "metadata": {},
   "outputs": [
    {
     "data": {
      "text/plain": [
       "Index(['Username', 'Userhandle', 'Time', 'Comments', 'retweets', 'likes',\n",
       "       'Tweet'],\n",
       "      dtype='object')"
      ]
     },
     "execution_count": 7,
     "metadata": {},
     "output_type": "execute_result"
    }
   ],
   "source": [
    "julyL.columns"
   ]
  },
  {
   "cell_type": "code",
   "execution_count": 9,
   "metadata": {},
   "outputs": [
    {
     "data": {
      "text/plain": [
       "Index(['Username', 'Userhandle', 'Time', 'comments', 'retweets', 'likes',\n",
       "       'Tweet'],\n",
       "      dtype='object')"
      ]
     },
     "execution_count": 9,
     "metadata": {},
     "output_type": "execute_result"
    }
   ],
   "source": [
    "julyT.columns"
   ]
  },
  {
   "cell_type": "code",
   "execution_count": 10,
   "metadata": {},
   "outputs": [],
   "source": [
    "julyL = julyL.rename(columns={'Comments':'comments'})"
   ]
  },
  {
   "cell_type": "code",
   "execution_count": 11,
   "metadata": {},
   "outputs": [],
   "source": [
    "julyLT=pd.concat([julyL, julyT]).drop_duplicates()"
   ]
  },
  {
   "cell_type": "code",
   "execution_count": 12,
   "metadata": {},
   "outputs": [
    {
     "data": {
      "text/plain": [
       "(224, 7)"
      ]
     },
     "execution_count": 12,
     "metadata": {},
     "output_type": "execute_result"
    }
   ],
   "source": [
    "julyLT.shape"
   ]
  },
  {
   "cell_type": "code",
   "execution_count": 13,
   "metadata": {},
   "outputs": [],
   "source": [
    "julyLT.drop(['Userhandle'], axis=1, inplace=True)\n",
    "julyLT = julyLT.rename(columns={'Username': 'username', 'Time': 'created_at', 'comments': 'replies_count',\n",
    "                     'Retweets': 'retweets_count', 'likes': 'likes_count', 'Tweet': 'tweet','retweets':'retweets_count'})\n",
    "julyLT[\"language\"]=np.nan"
   ]
  },
  {
   "cell_type": "code",
   "execution_count": 14,
   "metadata": {},
   "outputs": [
    {
     "data": {
      "text/plain": [
       "Index(['username', 'created_at', 'replies_count', 'retweets_count',\n",
       "       'likes_count', 'tweet', 'language'],\n",
       "      dtype='object')"
      ]
     },
     "execution_count": 14,
     "metadata": {},
     "output_type": "execute_result"
    }
   ],
   "source": [
    "julyLT.columns"
   ]
  },
  {
   "cell_type": "code",
   "execution_count": 15,
   "metadata": {},
   "outputs": [],
   "source": [
    "july_KeyLT=pd.concat([julyLT,julyKeyAyush]).drop_duplicates()"
   ]
  },
  {
   "cell_type": "code",
   "execution_count": 16,
   "metadata": {},
   "outputs": [
    {
     "data": {
      "text/plain": [
       "(666, 7)"
      ]
     },
     "execution_count": 16,
     "metadata": {},
     "output_type": "execute_result"
    }
   ],
   "source": [
    "july_KeyLT.shape"
   ]
  },
  {
   "cell_type": "code",
   "execution_count": 17,
   "metadata": {},
   "outputs": [],
   "source": [
    "july_KeyLT.to_csv(\"julyRawAyush.csv\")"
   ]
  },
  {
   "cell_type": "code",
   "execution_count": 18,
   "metadata": {},
   "outputs": [
    {
     "data": {
      "text/html": [
       "<div>\n",
       "<style scoped>\n",
       "    .dataframe tbody tr th:only-of-type {\n",
       "        vertical-align: middle;\n",
       "    }\n",
       "\n",
       "    .dataframe tbody tr th {\n",
       "        vertical-align: top;\n",
       "    }\n",
       "\n",
       "    .dataframe thead th {\n",
       "        text-align: right;\n",
       "    }\n",
       "</style>\n",
       "<table border=\"1\" class=\"dataframe\">\n",
       "  <thead>\n",
       "    <tr style=\"text-align: right;\">\n",
       "      <th></th>\n",
       "      <th>username</th>\n",
       "      <th>created_at</th>\n",
       "      <th>replies_count</th>\n",
       "      <th>retweets_count</th>\n",
       "      <th>likes_count</th>\n",
       "      <th>tweet</th>\n",
       "      <th>language</th>\n",
       "    </tr>\n",
       "  </thead>\n",
       "  <tbody>\n",
       "    <tr>\n",
       "      <th>0</th>\n",
       "      <td>𝐒𝐎𝐖𝐌𝐄𝐍 𝐌𝐈𝐓𝐓𝐄𝐑 | সৌমেন মিটার</td>\n",
       "      <td>2021-07-30T14:54:29.000Z</td>\n",
       "      <td>NaN</td>\n",
       "      <td>1.0</td>\n",
       "      <td>1.0</td>\n",
       "      <td>Dramatic impact of vaccination as regards cont...</td>\n",
       "      <td>en</td>\n",
       "    </tr>\n",
       "    <tr>\n",
       "      <th>1</th>\n",
       "      <td>Pahchan Foundation</td>\n",
       "      <td>2021-07-30T11:32:00.000Z</td>\n",
       "      <td>NaN</td>\n",
       "      <td>NaN</td>\n",
       "      <td>NaN</td>\n",
       "      <td>#VaccineExpress #Day5\\n\\nWe are glad to share ...</td>\n",
       "      <td>en</td>\n",
       "    </tr>\n",
       "    <tr>\n",
       "      <th>2</th>\n",
       "      <td>Asish</td>\n",
       "      <td>2021-07-30T07:18:54.000Z</td>\n",
       "      <td>NaN</td>\n",
       "      <td>NaN</td>\n",
       "      <td>1.0</td>\n",
       "      <td>@SonuSood\\n Happy Birthday! Thank you for prov...</td>\n",
       "      <td>en</td>\n",
       "    </tr>\n",
       "    <tr>\n",
       "      <th>3</th>\n",
       "      <td>Dr.Suman K Prusty</td>\n",
       "      <td>2021-07-30T05:54:38.000Z</td>\n",
       "      <td>NaN</td>\n",
       "      <td>NaN</td>\n",
       "      <td>1.0</td>\n",
       "      <td>Israel authorized the use of a booster shot of...</td>\n",
       "      <td>en</td>\n",
       "    </tr>\n",
       "    <tr>\n",
       "      <th>4</th>\n",
       "      <td>Czarsportz - Global Associate Cricket World</td>\n",
       "      <td>2021-07-29T20:00:33.000Z</td>\n",
       "      <td>NaN</td>\n",
       "      <td>2.0</td>\n",
       "      <td>5.0</td>\n",
       "      <td>Very unfortunate for \\n@Cricket_Espana\\n to ha...</td>\n",
       "      <td>en</td>\n",
       "    </tr>\n",
       "  </tbody>\n",
       "</table>\n",
       "</div>"
      ],
      "text/plain": [
       "                                      username                created_at  \\\n",
       "0                  𝐒𝐎𝐖𝐌𝐄𝐍 𝐌𝐈𝐓𝐓𝐄𝐑 | সৌমেন মিটার  2021-07-30T14:54:29.000Z   \n",
       "1                           Pahchan Foundation  2021-07-30T11:32:00.000Z   \n",
       "2                                        Asish  2021-07-30T07:18:54.000Z   \n",
       "3                            Dr.Suman K Prusty  2021-07-30T05:54:38.000Z   \n",
       "4  Czarsportz - Global Associate Cricket World  2021-07-29T20:00:33.000Z   \n",
       "\n",
       "   replies_count  retweets_count likes_count  \\\n",
       "0            NaN             1.0         1.0   \n",
       "1            NaN             NaN         NaN   \n",
       "2            NaN             NaN         1.0   \n",
       "3            NaN             NaN         1.0   \n",
       "4            NaN             2.0         5.0   \n",
       "\n",
       "                                               tweet language  \n",
       "0  Dramatic impact of vaccination as regards cont...       en  \n",
       "1  #VaccineExpress #Day5\\n\\nWe are glad to share ...       en  \n",
       "2  @SonuSood\\n Happy Birthday! Thank you for prov...       en  \n",
       "3  Israel authorized the use of a booster shot of...       en  \n",
       "4  Very unfortunate for \\n@Cricket_Espana\\n to ha...       en  "
      ]
     },
     "execution_count": 18,
     "metadata": {},
     "output_type": "execute_result"
    }
   ],
   "source": [
    "july_KeyLT['language'] =july_KeyLT['language'].fillna('en')\n",
    "july_KeyLT.head(5)"
   ]
  },
  {
   "cell_type": "code",
   "execution_count": 19,
   "metadata": {},
   "outputs": [
    {
     "data": {
      "text/plain": [
       "(666, 7)"
      ]
     },
     "execution_count": 19,
     "metadata": {},
     "output_type": "execute_result"
    }
   ],
   "source": [
    "july_KeyLT.shape"
   ]
  },
  {
   "cell_type": "code",
   "execution_count": 21,
   "metadata": {},
   "outputs": [],
   "source": [
    "for i in july_KeyLT['language']:\n",
    "    index_names = july_KeyLT[july_KeyLT['language']!='en' ].index\n",
    "    july_KeyLT.drop(index_names, inplace = True)"
   ]
  },
  {
   "cell_type": "code",
   "execution_count": 22,
   "metadata": {},
   "outputs": [
    {
     "data": {
      "text/plain": [
       "(252, 7)"
      ]
     },
     "execution_count": 22,
     "metadata": {},
     "output_type": "execute_result"
    }
   ],
   "source": [
    "july_KeyLT.shape"
   ]
  },
  {
   "cell_type": "code",
   "execution_count": 23,
   "metadata": {},
   "outputs": [
    {
     "data": {
      "text/html": [
       "<div>\n",
       "<style scoped>\n",
       "    .dataframe tbody tr th:only-of-type {\n",
       "        vertical-align: middle;\n",
       "    }\n",
       "\n",
       "    .dataframe tbody tr th {\n",
       "        vertical-align: top;\n",
       "    }\n",
       "\n",
       "    .dataframe thead th {\n",
       "        text-align: right;\n",
       "    }\n",
       "</style>\n",
       "<table border=\"1\" class=\"dataframe\">\n",
       "  <thead>\n",
       "    <tr style=\"text-align: right;\">\n",
       "      <th></th>\n",
       "      <th>username</th>\n",
       "      <th>created_at</th>\n",
       "      <th>replies_count</th>\n",
       "      <th>retweets_count</th>\n",
       "      <th>likes_count</th>\n",
       "      <th>tweet</th>\n",
       "      <th>language</th>\n",
       "    </tr>\n",
       "  </thead>\n",
       "  <tbody>\n",
       "    <tr>\n",
       "      <th>1</th>\n",
       "      <td>Pahchan Foundation</td>\n",
       "      <td>2021-07-30T11:32:00.000Z</td>\n",
       "      <td>0.0</td>\n",
       "      <td>0.0</td>\n",
       "      <td>0</td>\n",
       "      <td>#VaccineExpress #Day5\\n\\nWe are glad to share ...</td>\n",
       "      <td>en</td>\n",
       "    </tr>\n",
       "    <tr>\n",
       "      <th>2</th>\n",
       "      <td>Asish</td>\n",
       "      <td>2021-07-30T07:18:54.000Z</td>\n",
       "      <td>0.0</td>\n",
       "      <td>0.0</td>\n",
       "      <td>1.0</td>\n",
       "      <td>@SonuSood\\n Happy Birthday! Thank you for prov...</td>\n",
       "      <td>en</td>\n",
       "    </tr>\n",
       "    <tr>\n",
       "      <th>10</th>\n",
       "      <td>Abesh Bhar আবেশ ভড়</td>\n",
       "      <td>2021-07-27T13:23:18.000Z</td>\n",
       "      <td>0.0</td>\n",
       "      <td>0.0</td>\n",
       "      <td>0</td>\n",
       "      <td>Replying to \\n@abeshbhar2015\\n \\n@digvijaay46\\...</td>\n",
       "      <td>en</td>\n",
       "    </tr>\n",
       "    <tr>\n",
       "      <th>14</th>\n",
       "      <td>ramen aditya</td>\n",
       "      <td>2021-07-25T06:18:25.000Z</td>\n",
       "      <td>0.0</td>\n",
       "      <td>0.0</td>\n",
       "      <td>0</td>\n",
       "      <td>Virus of 2020--Covid 19, a threat to the lives...</td>\n",
       "      <td>en</td>\n",
       "    </tr>\n",
       "    <tr>\n",
       "      <th>16</th>\n",
       "      <td>Ujjwal Roy</td>\n",
       "      <td>2021-07-24T14:50:46.000Z</td>\n",
       "      <td>1.0</td>\n",
       "      <td>0.0</td>\n",
       "      <td>4.0</td>\n",
       "      <td>Today Got My first jab of Russia's Sputnik V C...</td>\n",
       "      <td>en</td>\n",
       "    </tr>\n",
       "    <tr>\n",
       "      <th>...</th>\n",
       "      <td>...</td>\n",
       "      <td>...</td>\n",
       "      <td>...</td>\n",
       "      <td>...</td>\n",
       "      <td>...</td>\n",
       "      <td>...</td>\n",
       "      <td>...</td>\n",
       "    </tr>\n",
       "    <tr>\n",
       "      <th>1</th>\n",
       "      <td>24topnews_</td>\n",
       "      <td>2021-07-03 19:04:55 India Standard Time</td>\n",
       "      <td>0.0</td>\n",
       "      <td>0.0</td>\n",
       "      <td>6</td>\n",
       "      <td>The High Court of #Jharkhand has reprimanded t...</td>\n",
       "      <td>en</td>\n",
       "    </tr>\n",
       "    <tr>\n",
       "      <th>2</th>\n",
       "      <td>sauravm46616418</td>\n",
       "      <td>2021-07-03 18:40:58 India Standard Time</td>\n",
       "      <td>0.0</td>\n",
       "      <td>0.0</td>\n",
       "      <td>1</td>\n",
       "      <td>Remdesivir (saline injection) is the best medi...</td>\n",
       "      <td>en</td>\n",
       "    </tr>\n",
       "    <tr>\n",
       "      <th>10</th>\n",
       "      <td>naeemafzal_</td>\n",
       "      <td>2021-07-19 05:21:11 India Standard Time</td>\n",
       "      <td>0.0</td>\n",
       "      <td>0.0</td>\n",
       "      <td>0</td>\n",
       "      <td>@schumailakhan What about remdesivir?</td>\n",
       "      <td>en</td>\n",
       "    </tr>\n",
       "    <tr>\n",
       "      <th>14</th>\n",
       "      <td>mkamran1007</td>\n",
       "      <td>2021-07-22 06:39:44 India Standard Time</td>\n",
       "      <td>0.0</td>\n",
       "      <td>0.0</td>\n",
       "      <td>1</td>\n",
       "      <td>It may sound absurd but let me tell you, they ...</td>\n",
       "      <td>en</td>\n",
       "    </tr>\n",
       "    <tr>\n",
       "      <th>16</th>\n",
       "      <td>drvinay_aiims</td>\n",
       "      <td>2021-07-26 12:50:14 India Standard Time</td>\n",
       "      <td>0.0</td>\n",
       "      <td>3.0</td>\n",
       "      <td>9</td>\n",
       "      <td>👉No Medical Negligence🚫 Docs Also Learn By Exp...</td>\n",
       "      <td>en</td>\n",
       "    </tr>\n",
       "  </tbody>\n",
       "</table>\n",
       "<p>252 rows × 7 columns</p>\n",
       "</div>"
      ],
      "text/plain": [
       "               username                               created_at  \\\n",
       "1    Pahchan Foundation                 2021-07-30T11:32:00.000Z   \n",
       "2                 Asish                 2021-07-30T07:18:54.000Z   \n",
       "10  Abesh Bhar আবেশ ভড়                 2021-07-27T13:23:18.000Z   \n",
       "14         ramen aditya                 2021-07-25T06:18:25.000Z   \n",
       "16           Ujjwal Roy                 2021-07-24T14:50:46.000Z   \n",
       "..                  ...                                      ...   \n",
       "1            24topnews_  2021-07-03 19:04:55 India Standard Time   \n",
       "2       sauravm46616418  2021-07-03 18:40:58 India Standard Time   \n",
       "10          naeemafzal_  2021-07-19 05:21:11 India Standard Time   \n",
       "14          mkamran1007  2021-07-22 06:39:44 India Standard Time   \n",
       "16        drvinay_aiims  2021-07-26 12:50:14 India Standard Time   \n",
       "\n",
       "    replies_count  retweets_count likes_count  \\\n",
       "1             0.0             0.0           0   \n",
       "2             0.0             0.0         1.0   \n",
       "10            0.0             0.0           0   \n",
       "14            0.0             0.0           0   \n",
       "16            1.0             0.0         4.0   \n",
       "..            ...             ...         ...   \n",
       "1             0.0             0.0           6   \n",
       "2             0.0             0.0           1   \n",
       "10            0.0             0.0           0   \n",
       "14            0.0             0.0           1   \n",
       "16            0.0             3.0           9   \n",
       "\n",
       "                                                tweet language  \n",
       "1   #VaccineExpress #Day5\\n\\nWe are glad to share ...       en  \n",
       "2   @SonuSood\\n Happy Birthday! Thank you for prov...       en  \n",
       "10  Replying to \\n@abeshbhar2015\\n \\n@digvijaay46\\...       en  \n",
       "14  Virus of 2020--Covid 19, a threat to the lives...       en  \n",
       "16  Today Got My first jab of Russia's Sputnik V C...       en  \n",
       "..                                                ...      ...  \n",
       "1   The High Court of #Jharkhand has reprimanded t...       en  \n",
       "2   Remdesivir (saline injection) is the best medi...       en  \n",
       "10              @schumailakhan What about remdesivir?       en  \n",
       "14  It may sound absurd but let me tell you, they ...       en  \n",
       "16  👉No Medical Negligence🚫 Docs Also Learn By Exp...       en  \n",
       "\n",
       "[252 rows x 7 columns]"
      ]
     },
     "execution_count": 23,
     "metadata": {},
     "output_type": "execute_result"
    }
   ],
   "source": [
    "july_KeyLT[['replies_count','likes_count','retweets_count',]] =july_KeyLT[['replies_count','likes_count','retweets_count',]].fillna(0)\n",
    "july_KeyLT"
   ]
  },
  {
   "cell_type": "code",
   "execution_count": null,
   "metadata": {},
   "outputs": [],
   "source": [
    "july_KeyLT.to_csv('JulyTweetAyushFinal.csv')"
   ]
  },
  {
   "cell_type": "code",
   "execution_count": null,
   "metadata": {},
   "outputs": [],
   "source": []
  }
 ],
 "metadata": {
  "interpreter": {
   "hash": "634498344980471fb0944d848df28373b199ff2468c6404ec32442b20f813eee"
  },
  "kernelspec": {
   "display_name": "Python 3.9.6 64-bit",
   "language": "python",
   "name": "python3"
  },
  "language_info": {
   "codemirror_mode": {
    "name": "ipython",
    "version": 3
   },
   "file_extension": ".py",
   "mimetype": "text/x-python",
   "name": "python",
   "nbconvert_exporter": "python",
   "pygments_lexer": "ipython3",
   "version": "3.9.6"
  },
  "orig_nbformat": 4
 },
 "nbformat": 4,
 "nbformat_minor": 2
}
