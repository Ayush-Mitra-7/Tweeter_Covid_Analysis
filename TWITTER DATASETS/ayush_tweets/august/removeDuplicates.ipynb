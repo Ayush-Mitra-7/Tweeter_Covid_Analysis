{
 "cells": [
  {
   "cell_type": "code",
   "execution_count": 2,
   "metadata": {},
   "outputs": [],
   "source": [
    "import numpy as np\n",
    "import pandas as pd"
   ]
  },
  {
   "cell_type": "code",
   "execution_count": 3,
   "metadata": {},
   "outputs": [],
   "source": [
    "august_covid = pd.read_csv('august(T-covid).csv')\n",
    "august_Covid_19 = pd.read_csv('august(T-Covid_19).csv')\n",
    "august_remdesivir = pd.read_csv('august(T-remdesivir).csv')\n",
    "\n",
    "augustT=pd.read_csv('covidTweets(August-TopSection).csv.csv')\n",
    "augustL=pd.read_csv('covidTweets(August-2021-Latest).csv.csv')"
   ]
  },
  {
   "cell_type": "code",
   "execution_count": 4,
   "metadata": {},
   "outputs": [
    {
     "data": {
      "text/plain": [
       "(486, 36)"
      ]
     },
     "execution_count": 4,
     "metadata": {},
     "output_type": "execute_result"
    }
   ],
   "source": [
    "august_Temp = pd.concat([august_Covid_19, august_covid]).drop_duplicates()\n",
    "augustKeyAyush = pd.concat([august_Temp, august_remdesivir]).drop_duplicates()\n",
    "augustKeyAyush.shape"
   ]
  },
  {
   "cell_type": "code",
   "execution_count": 5,
   "metadata": {},
   "outputs": [
    {
     "data": {
      "text/plain": [
       "(0, 36)"
      ]
     },
     "execution_count": 5,
     "metadata": {},
     "output_type": "execute_result"
    }
   ],
   "source": [
    "duplicates = augustKeyAyush[augustKeyAyush.duplicated()]\n",
    "duplicates.shape"
   ]
  },
  {
   "cell_type": "code",
   "execution_count": 6,
   "metadata": {},
   "outputs": [
    {
     "data": {
      "text/plain": [
       "(486, 7)"
      ]
     },
     "execution_count": 6,
     "metadata": {},
     "output_type": "execute_result"
    }
   ],
   "source": [
    "augustKeyAyush.drop(['trans_dest', 'trans_src', 'retweet_id', 'reply_to', 'retweet_date', 'translate', 'geo', 'source', 'user_rt_id', 'user_rt', 'video', 'thumbnail', 'quote_url', 'near',\n",
    "                 'id', 'conversation_id', 'date', 'time', 'place', 'mentions', 'urls', 'photos', 'hashtags', 'cashtags', 'link', 'retweet', 'timezone', 'user_id', 'name'], axis=1, inplace=True)\n",
    "augustKeyAyush.shape"
   ]
  },
  {
   "cell_type": "code",
   "execution_count": 7,
   "metadata": {},
   "outputs": [
    {
     "data": {
      "text/plain": [
       "Index(['Username', 'Userhandle', 'Time', 'comments', 'retweets', 'likes',\n",
       "       'Tweet'],\n",
       "      dtype='object')"
      ]
     },
     "execution_count": 7,
     "metadata": {},
     "output_type": "execute_result"
    }
   ],
   "source": [
    "augustL.columns"
   ]
  },
  {
   "cell_type": "code",
   "execution_count": 13,
   "metadata": {},
   "outputs": [
    {
     "data": {
      "text/plain": [
       "Index(['Username', 'userhandel', 'Time', 'comments', 'retweets', 'likes',\n",
       "       'Tweet'],\n",
       "      dtype='object')"
      ]
     },
     "execution_count": 13,
     "metadata": {},
     "output_type": "execute_result"
    }
   ],
   "source": [
    "augustT.columns"
   ]
  },
  {
   "cell_type": "code",
   "execution_count": 14,
   "metadata": {},
   "outputs": [],
   "source": [
    "augustL =augustL.rename(columns={'Userhandle':'userhandel'})"
   ]
  },
  {
   "cell_type": "code",
   "execution_count": 15,
   "metadata": {},
   "outputs": [],
   "source": [
    "augustLT=pd.concat([augustL, augustT]).drop_duplicates()"
   ]
  },
  {
   "cell_type": "code",
   "execution_count": 16,
   "metadata": {},
   "outputs": [
    {
     "data": {
      "text/plain": [
       "(94, 7)"
      ]
     },
     "execution_count": 16,
     "metadata": {},
     "output_type": "execute_result"
    }
   ],
   "source": [
    "augustLT.shape"
   ]
  },
  {
   "cell_type": "code",
   "execution_count": 19,
   "metadata": {},
   "outputs": [
    {
     "data": {
      "text/plain": [
       "Index(['Username', 'userhandel', 'Time', 'comments', 'retweets', 'likes',\n",
       "       'Tweet'],\n",
       "      dtype='object')"
      ]
     },
     "execution_count": 19,
     "metadata": {},
     "output_type": "execute_result"
    }
   ],
   "source": [
    "augustLT.columns"
   ]
  },
  {
   "cell_type": "code",
   "execution_count": 24,
   "metadata": {},
   "outputs": [],
   "source": [
    "augustLT.drop(['userhandel'], axis=1, inplace=True)\n",
    "augustLT = augustLT.rename(columns={'Username': 'username', 'Time': 'created_at', 'comments': 'replies_count',\n",
    "                     'Retweets': 'retweets_count', 'likes': 'likes_count', 'Tweet': 'tweet','retweets':'retweets_count'})\n",
    "augustLT[\"language\"]=np.nan"
   ]
  },
  {
   "cell_type": "code",
   "execution_count": 25,
   "metadata": {},
   "outputs": [],
   "source": [
    "august_KeyLT=pd.concat([augustLT,augustKeyAyush]).drop_duplicates()"
   ]
  },
  {
   "cell_type": "code",
   "execution_count": 26,
   "metadata": {},
   "outputs": [
    {
     "data": {
      "text/plain": [
       "(580, 7)"
      ]
     },
     "execution_count": 26,
     "metadata": {},
     "output_type": "execute_result"
    }
   ],
   "source": [
    "august_KeyLT.shape"
   ]
  },
  {
   "cell_type": "code",
   "execution_count": 27,
   "metadata": {},
   "outputs": [],
   "source": [
    "august_KeyLT.to_csv(\"augustRawAyush.csv\")"
   ]
  },
  {
   "cell_type": "code",
   "execution_count": 28,
   "metadata": {},
   "outputs": [
    {
     "data": {
      "text/html": [
       "<div>\n",
       "<style scoped>\n",
       "    .dataframe tbody tr th:only-of-type {\n",
       "        vertical-align: middle;\n",
       "    }\n",
       "\n",
       "    .dataframe tbody tr th {\n",
       "        vertical-align: top;\n",
       "    }\n",
       "\n",
       "    .dataframe thead th {\n",
       "        text-align: right;\n",
       "    }\n",
       "</style>\n",
       "<table border=\"1\" class=\"dataframe\">\n",
       "  <thead>\n",
       "    <tr style=\"text-align: right;\">\n",
       "      <th></th>\n",
       "      <th>username</th>\n",
       "      <th>created_at</th>\n",
       "      <th>replies_count</th>\n",
       "      <th>retweets_count</th>\n",
       "      <th>likes_count</th>\n",
       "      <th>tweet</th>\n",
       "      <th>language</th>\n",
       "    </tr>\n",
       "  </thead>\n",
       "  <tbody>\n",
       "    <tr>\n",
       "      <th>0</th>\n",
       "      <td>Ruchira Gupta</td>\n",
       "      <td>2021-08-30T22:14:30.000Z</td>\n",
       "      <td>NaN</td>\n",
       "      <td>1.0</td>\n",
       "      <td>4.0</td>\n",
       "      <td>A moment in our ongoing Covid relief food driv...</td>\n",
       "      <td>en</td>\n",
       "    </tr>\n",
       "    <tr>\n",
       "      <th>1</th>\n",
       "      <td>Czarsportz - Global Associate Cricket World</td>\n",
       "      <td>2021-08-30T17:01:20.000Z</td>\n",
       "      <td>2.0</td>\n",
       "      <td>1.0</td>\n",
       "      <td>7.0</td>\n",
       "      <td>Disappointing news coming from Japan Cricket t...</td>\n",
       "      <td>en</td>\n",
       "    </tr>\n",
       "    <tr>\n",
       "      <th>2</th>\n",
       "      <td>The Era</td>\n",
       "      <td>2021-08-30T06:12:03.000Z</td>\n",
       "      <td>NaN</td>\n",
       "      <td>NaN</td>\n",
       "      <td>NaN</td>\n",
       "      <td>Noted Bengali writer Buddhadeb Guha died in a ...</td>\n",
       "      <td>en</td>\n",
       "    </tr>\n",
       "    <tr>\n",
       "      <th>3</th>\n",
       "      <td>Bhudeb Sengupta</td>\n",
       "      <td>2021-08-30T02:58:36.000Z</td>\n",
       "      <td>NaN</td>\n",
       "      <td>NaN</td>\n",
       "      <td>NaN</td>\n",
       "      <td>#englandvsindia #TestCricket \\nIndia desperate...</td>\n",
       "      <td>en</td>\n",
       "    </tr>\n",
       "    <tr>\n",
       "      <th>4</th>\n",
       "      <td>Vedant Jain</td>\n",
       "      <td>2021-08-29T13:41:28.000Z</td>\n",
       "      <td>NaN</td>\n",
       "      <td>NaN</td>\n",
       "      <td>NaN</td>\n",
       "      <td>Has #covid caused desensitisation?</td>\n",
       "      <td>en</td>\n",
       "    </tr>\n",
       "  </tbody>\n",
       "</table>\n",
       "</div>"
      ],
      "text/plain": [
       "                                      username                created_at  \\\n",
       "0                                Ruchira Gupta  2021-08-30T22:14:30.000Z   \n",
       "1  Czarsportz - Global Associate Cricket World  2021-08-30T17:01:20.000Z   \n",
       "2                                      The Era  2021-08-30T06:12:03.000Z   \n",
       "3                              Bhudeb Sengupta  2021-08-30T02:58:36.000Z   \n",
       "4                                  Vedant Jain  2021-08-29T13:41:28.000Z   \n",
       "\n",
       "   replies_count  retweets_count  likes_count  \\\n",
       "0            NaN             1.0          4.0   \n",
       "1            2.0             1.0          7.0   \n",
       "2            NaN             NaN          NaN   \n",
       "3            NaN             NaN          NaN   \n",
       "4            NaN             NaN          NaN   \n",
       "\n",
       "                                               tweet language  \n",
       "0  A moment in our ongoing Covid relief food driv...       en  \n",
       "1  Disappointing news coming from Japan Cricket t...       en  \n",
       "2  Noted Bengali writer Buddhadeb Guha died in a ...       en  \n",
       "3  #englandvsindia #TestCricket \\nIndia desperate...       en  \n",
       "4                 Has #covid caused desensitisation?       en  "
      ]
     },
     "execution_count": 28,
     "metadata": {},
     "output_type": "execute_result"
    }
   ],
   "source": [
    "august_KeyLT['language'] =august_KeyLT['language'].fillna('en')\n",
    "august_KeyLT.head(5)"
   ]
  },
  {
   "cell_type": "code",
   "execution_count": 29,
   "metadata": {},
   "outputs": [
    {
     "data": {
      "text/plain": [
       "(580, 7)"
      ]
     },
     "execution_count": 29,
     "metadata": {},
     "output_type": "execute_result"
    }
   ],
   "source": [
    "august_KeyLT.shape"
   ]
  },
  {
   "cell_type": "code",
   "execution_count": 32,
   "metadata": {},
   "outputs": [],
   "source": [
    "for i in august_KeyLT['language']:\n",
    "    index_names = august_KeyLT[august_KeyLT['language']!='en' ].index\n",
    "    august_KeyLT.drop(index_names, inplace = True)"
   ]
  },
  {
   "cell_type": "code",
   "execution_count": 33,
   "metadata": {},
   "outputs": [
    {
     "data": {
      "text/plain": [
       "(264, 7)"
      ]
     },
     "execution_count": 33,
     "metadata": {},
     "output_type": "execute_result"
    }
   ],
   "source": [
    "august_KeyLT.shape"
   ]
  },
  {
   "cell_type": "code",
   "execution_count": 37,
   "metadata": {},
   "outputs": [
    {
     "data": {
      "text/html": [
       "<div>\n",
       "<style scoped>\n",
       "    .dataframe tbody tr th:only-of-type {\n",
       "        vertical-align: middle;\n",
       "    }\n",
       "\n",
       "    .dataframe tbody tr th {\n",
       "        vertical-align: top;\n",
       "    }\n",
       "\n",
       "    .dataframe thead th {\n",
       "        text-align: right;\n",
       "    }\n",
       "</style>\n",
       "<table border=\"1\" class=\"dataframe\">\n",
       "  <thead>\n",
       "    <tr style=\"text-align: right;\">\n",
       "      <th></th>\n",
       "      <th>username</th>\n",
       "      <th>created_at</th>\n",
       "      <th>replies_count</th>\n",
       "      <th>retweets_count</th>\n",
       "      <th>likes_count</th>\n",
       "      <th>tweet</th>\n",
       "      <th>language</th>\n",
       "    </tr>\n",
       "  </thead>\n",
       "  <tbody>\n",
       "    <tr>\n",
       "      <th>14</th>\n",
       "      <td>Ashis</td>\n",
       "      <td>2021-08-26T06:53:33.000Z</td>\n",
       "      <td>1.0</td>\n",
       "      <td>0.0</td>\n",
       "      <td>0.0</td>\n",
       "      <td>For the last two years govt try to mitigate li...</td>\n",
       "      <td>en</td>\n",
       "    </tr>\n",
       "    <tr>\n",
       "      <th>15</th>\n",
       "      <td>Mahesh Saharia</td>\n",
       "      <td>2021-08-25T15:58:16.000Z</td>\n",
       "      <td>0.0</td>\n",
       "      <td>0.0</td>\n",
       "      <td>0.0</td>\n",
       "      <td>Israel, once model for beating #COVID-19, face...</td>\n",
       "      <td>en</td>\n",
       "    </tr>\n",
       "    <tr>\n",
       "      <th>16</th>\n",
       "      <td>Shamik Bhattacharyya</td>\n",
       "      <td>2021-08-25T09:47:03.000Z</td>\n",
       "      <td>0.0</td>\n",
       "      <td>1.0</td>\n",
       "      <td>1.0</td>\n",
       "      <td>\"New Zealand's lockdown extended as COVID-19 o...</td>\n",
       "      <td>en</td>\n",
       "    </tr>\n",
       "    <tr>\n",
       "      <th>18</th>\n",
       "      <td>Ayan Chatterjee</td>\n",
       "      <td>2021-08-25T05:23:15.000Z</td>\n",
       "      <td>0.0</td>\n",
       "      <td>0.0</td>\n",
       "      <td>1.0</td>\n",
       "      <td>Covid-19: India might be entering the endemic ...</td>\n",
       "      <td>en</td>\n",
       "    </tr>\n",
       "    <tr>\n",
       "      <th>19</th>\n",
       "      <td>Vinay Kumar Dokania</td>\n",
       "      <td>2021-08-24T12:20:11.000Z</td>\n",
       "      <td>0.0</td>\n",
       "      <td>14.0</td>\n",
       "      <td>20.0</td>\n",
       "      <td>You made fun of me when I spoke of Covid-19. I...</td>\n",
       "      <td>en</td>\n",
       "    </tr>\n",
       "    <tr>\n",
       "      <th>...</th>\n",
       "      <td>...</td>\n",
       "      <td>...</td>\n",
       "      <td>...</td>\n",
       "      <td>...</td>\n",
       "      <td>...</td>\n",
       "      <td>...</td>\n",
       "      <td>...</td>\n",
       "    </tr>\n",
       "    <tr>\n",
       "      <th>349</th>\n",
       "      <td>imrankhan331611</td>\n",
       "      <td>2021-08-30 21:50:43 India Standard Time</td>\n",
       "      <td>1.0</td>\n",
       "      <td>0.0</td>\n",
       "      <td>1.0</td>\n",
       "      <td>@b33n1sh Okay; it’s seems great, but no care f...</td>\n",
       "      <td>en</td>\n",
       "    </tr>\n",
       "    <tr>\n",
       "      <th>351</th>\n",
       "      <td>drwaheedmiraj</td>\n",
       "      <td>2021-08-30 21:46:37 India Standard Time</td>\n",
       "      <td>0.0</td>\n",
       "      <td>0.0</td>\n",
       "      <td>4.0</td>\n",
       "      <td>COVID-19: Pakistan Medical Association seconds...</td>\n",
       "      <td>en</td>\n",
       "    </tr>\n",
       "    <tr>\n",
       "      <th>352</th>\n",
       "      <td>adammaosman</td>\n",
       "      <td>2021-08-30 21:46:36 India Standard Time</td>\n",
       "      <td>0.0</td>\n",
       "      <td>0.0</td>\n",
       "      <td>0.0</td>\n",
       "      <td>Done submitted video self test covid</td>\n",
       "      <td>en</td>\n",
       "    </tr>\n",
       "    <tr>\n",
       "      <th>353</th>\n",
       "      <td>aminpatel_iyc</td>\n",
       "      <td>2021-08-30 21:44:16 India Standard Time</td>\n",
       "      <td>1.0</td>\n",
       "      <td>0.0</td>\n",
       "      <td>3.0</td>\n",
       "      <td>@MumbaiPolice @CPMumbaiPolice It is true that ...</td>\n",
       "      <td>en</td>\n",
       "    </tr>\n",
       "    <tr>\n",
       "      <th>354</th>\n",
       "      <td>sailesh2000</td>\n",
       "      <td>2021-08-30 21:43:54 India Standard Time</td>\n",
       "      <td>0.0</td>\n",
       "      <td>3.0</td>\n",
       "      <td>11.0</td>\n",
       "      <td>As Covid cases are rising, request to restrict...</td>\n",
       "      <td>en</td>\n",
       "    </tr>\n",
       "  </tbody>\n",
       "</table>\n",
       "<p>264 rows × 7 columns</p>\n",
       "</div>"
      ],
      "text/plain": [
       "                 username                               created_at  \\\n",
       "14                  Ashis                 2021-08-26T06:53:33.000Z   \n",
       "15         Mahesh Saharia                 2021-08-25T15:58:16.000Z   \n",
       "16   Shamik Bhattacharyya                 2021-08-25T09:47:03.000Z   \n",
       "18        Ayan Chatterjee                 2021-08-25T05:23:15.000Z   \n",
       "19    Vinay Kumar Dokania                 2021-08-24T12:20:11.000Z   \n",
       "..                    ...                                      ...   \n",
       "349       imrankhan331611  2021-08-30 21:50:43 India Standard Time   \n",
       "351         drwaheedmiraj  2021-08-30 21:46:37 India Standard Time   \n",
       "352           adammaosman  2021-08-30 21:46:36 India Standard Time   \n",
       "353         aminpatel_iyc  2021-08-30 21:44:16 India Standard Time   \n",
       "354           sailesh2000  2021-08-30 21:43:54 India Standard Time   \n",
       "\n",
       "     replies_count  retweets_count  likes_count  \\\n",
       "14             1.0             0.0          0.0   \n",
       "15             0.0             0.0          0.0   \n",
       "16             0.0             1.0          1.0   \n",
       "18             0.0             0.0          1.0   \n",
       "19             0.0            14.0         20.0   \n",
       "..             ...             ...          ...   \n",
       "349            1.0             0.0          1.0   \n",
       "351            0.0             0.0          4.0   \n",
       "352            0.0             0.0          0.0   \n",
       "353            1.0             0.0          3.0   \n",
       "354            0.0             3.0         11.0   \n",
       "\n",
       "                                                 tweet language  \n",
       "14   For the last two years govt try to mitigate li...       en  \n",
       "15   Israel, once model for beating #COVID-19, face...       en  \n",
       "16   \"New Zealand's lockdown extended as COVID-19 o...       en  \n",
       "18   Covid-19: India might be entering the endemic ...       en  \n",
       "19   You made fun of me when I spoke of Covid-19. I...       en  \n",
       "..                                                 ...      ...  \n",
       "349  @b33n1sh Okay; it’s seems great, but no care f...       en  \n",
       "351  COVID-19: Pakistan Medical Association seconds...       en  \n",
       "352               Done submitted video self test covid       en  \n",
       "353  @MumbaiPolice @CPMumbaiPolice It is true that ...       en  \n",
       "354  As Covid cases are rising, request to restrict...       en  \n",
       "\n",
       "[264 rows x 7 columns]"
      ]
     },
     "execution_count": 37,
     "metadata": {},
     "output_type": "execute_result"
    }
   ],
   "source": [
    "august_KeyLT[['replies_count','likes_count','retweets_count']] =august_KeyLT[['replies_count','likes_count','retweets_count']].fillna(0)\n",
    "august_KeyLT"
   ]
  },
  {
   "cell_type": "code",
   "execution_count": 38,
   "metadata": {},
   "outputs": [],
   "source": [
    "august_KeyLT.to_csv('augustTweetAyushFinal.csv')"
   ]
  }
 ],
 "metadata": {
  "interpreter": {
   "hash": "634498344980471fb0944d848df28373b199ff2468c6404ec32442b20f813eee"
  },
  "kernelspec": {
   "display_name": "Python 3.9.6 64-bit",
   "language": "python",
   "name": "python3"
  },
  "language_info": {
   "codemirror_mode": {
    "name": "ipython",
    "version": 3
   },
   "file_extension": ".py",
   "mimetype": "text/x-python",
   "name": "python",
   "nbconvert_exporter": "python",
   "pygments_lexer": "ipython3",
   "version": "3.9.6"
  },
  "orig_nbformat": 4
 },
 "nbformat": 4,
 "nbformat_minor": 2
}
