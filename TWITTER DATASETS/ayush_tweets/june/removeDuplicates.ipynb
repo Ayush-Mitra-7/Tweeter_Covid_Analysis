{
 "cells": [
  {
   "cell_type": "code",
   "execution_count": 10,
   "metadata": {},
   "outputs": [],
   "source": [
    "import numpy as np\n",
    "import pandas as pd"
   ]
  },
  {
   "cell_type": "code",
   "execution_count": 11,
   "metadata": {},
   "outputs": [],
   "source": [
    "june_covid = pd.read_csv('june(T-covid).csv')\n",
    "june_Covid_19 = pd.read_csv('june(T-Covid_19).csv')\n",
    "june_remdesivir = pd.read_csv('june(T-remdesivir).csv')"
   ]
  },
  {
   "cell_type": "code",
   "execution_count": 12,
   "metadata": {},
   "outputs": [
    {
     "data": {
      "text/plain": [
       "(0, 36)"
      ]
     },
     "execution_count": 12,
     "metadata": {},
     "output_type": "execute_result"
    }
   ],
   "source": [
    "duplicates = june_covid[june_covid.duplicated()]\n",
    "duplicates.shape"
   ]
  },
  {
   "cell_type": "code",
   "execution_count": 13,
   "metadata": {},
   "outputs": [
    {
     "data": {
      "text/plain": [
       "(0, 36)"
      ]
     },
     "execution_count": 13,
     "metadata": {},
     "output_type": "execute_result"
    }
   ],
   "source": [
    "duplicates = june_Covid_19[june_Covid_19.duplicated()]\n",
    "duplicates.shape"
   ]
  },
  {
   "cell_type": "code",
   "execution_count": 14,
   "metadata": {},
   "outputs": [
    {
     "data": {
      "text/plain": [
       "(12, 36)"
      ]
     },
     "execution_count": 14,
     "metadata": {},
     "output_type": "execute_result"
    }
   ],
   "source": [
    "duplicates = june_remdesivir[june_remdesivir.duplicated()]\n",
    "duplicates.shape"
   ]
  },
  {
   "cell_type": "code",
   "execution_count": 15,
   "metadata": {},
   "outputs": [],
   "source": [
    "june_remdesivir.drop_duplicates(keep =\"first\", inplace = True)"
   ]
  },
  {
   "cell_type": "code",
   "execution_count": 16,
   "metadata": {},
   "outputs": [
    {
     "data": {
      "text/plain": [
       "(0, 36)"
      ]
     },
     "execution_count": 16,
     "metadata": {},
     "output_type": "execute_result"
    }
   ],
   "source": [
    "duplicates = june_remdesivir[june_remdesivir.duplicated()]\n",
    "duplicates.shape"
   ]
  },
  {
   "cell_type": "code",
   "execution_count": 17,
   "metadata": {},
   "outputs": [
    {
     "data": {
      "text/plain": [
       "(652, 36)"
      ]
     },
     "execution_count": 17,
     "metadata": {},
     "output_type": "execute_result"
    }
   ],
   "source": [
    "june_Temp = pd.concat([june_Covid_19, june_covid]).drop_duplicates()\n",
    "juneKeyAyush = pd.concat([june_Temp, june_remdesivir]).drop_duplicates()\n",
    "juneKeyAyush.shape"
   ]
  },
  {
   "cell_type": "code",
   "execution_count": 18,
   "metadata": {},
   "outputs": [
    {
     "data": {
      "text/plain": [
       "(652, 7)"
      ]
     },
     "execution_count": 18,
     "metadata": {},
     "output_type": "execute_result"
    }
   ],
   "source": [
    "juneKeyAyush.drop(['trans_dest', 'trans_src', 'retweet_id', 'reply_to', 'retweet_date', 'translate', 'geo', 'source', 'user_rt_id', 'user_rt', 'video', 'thumbnail', 'quote_url', 'near',\n",
    "                 'id', 'conversation_id', 'date', 'time', 'place', 'mentions', 'urls', 'photos', 'hashtags', 'cashtags', 'link', 'retweet', 'timezone', 'user_id', 'name'], axis=1, inplace=True)\n",
    "juneKeyAyush.shape"
   ]
  },
  {
   "cell_type": "code",
   "execution_count": 19,
   "metadata": {},
   "outputs": [],
   "source": [
    "juneT=pd.read_csv('covidtweets(june-TopSectio).csv')\n",
    "juneL=pd.read_csv('covidtweets(june-2021-LatestSection).csv')"
   ]
  },
  {
   "cell_type": "code",
   "execution_count": 26,
   "metadata": {},
   "outputs": [
    {
     "data": {
      "text/plain": [
       "Index(['Username', 'Userhandle', 'Time', 'comments', 'Retweets', 'likes',\n",
       "       'Tweet'],\n",
       "      dtype='object')"
      ]
     },
     "execution_count": 26,
     "metadata": {},
     "output_type": "execute_result"
    }
   ],
   "source": [
    "juneL.columns"
   ]
  },
  {
   "cell_type": "code",
   "execution_count": 27,
   "metadata": {},
   "outputs": [
    {
     "data": {
      "text/plain": [
       "Index(['Username', 'Userhandle', 'Time', 'comments', 'retweets', 'likes',\n",
       "       'Tweet'],\n",
       "      dtype='object')"
      ]
     },
     "execution_count": 27,
     "metadata": {},
     "output_type": "execute_result"
    }
   ],
   "source": [
    "juneT.columns"
   ]
  },
  {
   "cell_type": "code",
   "execution_count": 28,
   "metadata": {},
   "outputs": [],
   "source": [
    "juneL = juneL.rename(columns={'Retweets':'retweets'})"
   ]
  },
  {
   "cell_type": "code",
   "execution_count": 29,
   "metadata": {},
   "outputs": [],
   "source": [
    "juneLT=pd.concat([juneL, juneT]).drop_duplicates()"
   ]
  },
  {
   "cell_type": "code",
   "execution_count": 30,
   "metadata": {},
   "outputs": [
    {
     "data": {
      "text/plain": [
       "(0, 7)"
      ]
     },
     "execution_count": 30,
     "metadata": {},
     "output_type": "execute_result"
    }
   ],
   "source": [
    "duplicates = juneLT[juneLT.duplicated()]\n",
    "duplicates.shape"
   ]
  },
  {
   "cell_type": "code",
   "execution_count": 31,
   "metadata": {},
   "outputs": [
    {
     "data": {
      "text/plain": [
       "Index(['Username', 'Userhandle', 'Time', 'comments', 'retweets', 'likes',\n",
       "       'Tweet'],\n",
       "      dtype='object')"
      ]
     },
     "execution_count": 31,
     "metadata": {},
     "output_type": "execute_result"
    }
   ],
   "source": [
    "juneLT.columns"
   ]
  },
  {
   "cell_type": "code",
   "execution_count": 32,
   "metadata": {},
   "outputs": [],
   "source": [
    "juneLT.drop(['Userhandle'], axis=1, inplace=True)\n",
    "juneLT = juneLT.rename(columns={'Username': 'username', 'Time': 'created_at', 'comments': 'replies_count',\n",
    "                     'Retweets': 'retweets_count', 'likes': 'likes_count', 'Tweet': 'tweet','retweets':'retweets_count'})\n",
    "juneLT[\"language\"]=np.nan"
   ]
  },
  {
   "cell_type": "code",
   "execution_count": 33,
   "metadata": {},
   "outputs": [
    {
     "data": {
      "text/plain": [
       "Index(['username', 'created_at', 'replies_count', 'retweets_count',\n",
       "       'likes_count', 'tweet', 'language'],\n",
       "      dtype='object')"
      ]
     },
     "execution_count": 33,
     "metadata": {},
     "output_type": "execute_result"
    }
   ],
   "source": [
    "juneLT.columns"
   ]
  },
  {
   "cell_type": "code",
   "execution_count": 34,
   "metadata": {},
   "outputs": [],
   "source": [
    "june_KeyLT=pd.concat([juneLT,juneKeyAyush]).drop_duplicates()"
   ]
  },
  {
   "cell_type": "code",
   "execution_count": 35,
   "metadata": {},
   "outputs": [
    {
     "data": {
      "text/plain": [
       "(826, 7)"
      ]
     },
     "execution_count": 35,
     "metadata": {},
     "output_type": "execute_result"
    }
   ],
   "source": [
    "june_KeyLT.shape"
   ]
  },
  {
   "cell_type": "code",
   "execution_count": 36,
   "metadata": {},
   "outputs": [
    {
     "data": {
      "text/html": [
       "<div>\n",
       "<style scoped>\n",
       "    .dataframe tbody tr th:only-of-type {\n",
       "        vertical-align: middle;\n",
       "    }\n",
       "\n",
       "    .dataframe tbody tr th {\n",
       "        vertical-align: top;\n",
       "    }\n",
       "\n",
       "    .dataframe thead th {\n",
       "        text-align: right;\n",
       "    }\n",
       "</style>\n",
       "<table border=\"1\" class=\"dataframe\">\n",
       "  <thead>\n",
       "    <tr style=\"text-align: right;\">\n",
       "      <th></th>\n",
       "      <th>username</th>\n",
       "      <th>created_at</th>\n",
       "      <th>replies_count</th>\n",
       "      <th>retweets_count</th>\n",
       "      <th>likes_count</th>\n",
       "      <th>tweet</th>\n",
       "      <th>language</th>\n",
       "    </tr>\n",
       "  </thead>\n",
       "  <tbody>\n",
       "    <tr>\n",
       "      <th>0</th>\n",
       "      <td>Ujjwal Roy</td>\n",
       "      <td>2021-06-29T08:30:55.000Z</td>\n",
       "      <td>NaN</td>\n",
       "      <td>1.0</td>\n",
       "      <td>3</td>\n",
       "      <td>My_Coverage_Story \\n@ANI\\n\\n\\nCOVID-19 vaccina...</td>\n",
       "      <td>NaN</td>\n",
       "    </tr>\n",
       "    <tr>\n",
       "      <th>1</th>\n",
       "      <td>Padmanabhan Jaikumar</td>\n",
       "      <td>2021-06-29T05:51:28.000Z</td>\n",
       "      <td>NaN</td>\n",
       "      <td>NaN</td>\n",
       "      <td>NaN</td>\n",
       "      <td>With over 32.36 crore Covid-19 vaccinations, I...</td>\n",
       "      <td>NaN</td>\n",
       "    </tr>\n",
       "    <tr>\n",
       "      <th>2</th>\n",
       "      <td>Raj Saha</td>\n",
       "      <td>2021-06-28T15:29:47.000Z</td>\n",
       "      <td>NaN</td>\n",
       "      <td>NaN</td>\n",
       "      <td>1</td>\n",
       "      <td>COVID-19 restrictions extended in #WestBengal ...</td>\n",
       "      <td>NaN</td>\n",
       "    </tr>\n",
       "    <tr>\n",
       "      <th>3</th>\n",
       "      <td>Full-Vaxxed ভদ্রলোক RajNarayan RoyChoudhury</td>\n",
       "      <td>2021-06-28T13:10:53.000Z</td>\n",
       "      <td>1.0</td>\n",
       "      <td>NaN</td>\n",
       "      <td>1</td>\n",
       "      <td>Will take me at least 7 (one left for BE, 2 fo...</td>\n",
       "      <td>NaN</td>\n",
       "    </tr>\n",
       "    <tr>\n",
       "      <th>4</th>\n",
       "      <td>Mahesh Saharia</td>\n",
       "      <td>2021-06-28T12:06:47.000Z</td>\n",
       "      <td>NaN</td>\n",
       "      <td>1.0</td>\n",
       "      <td>3</td>\n",
       "      <td>Vaccinated health workers at West Hoxton birth...</td>\n",
       "      <td>NaN</td>\n",
       "    </tr>\n",
       "  </tbody>\n",
       "</table>\n",
       "</div>"
      ],
      "text/plain": [
       "                                      username                created_at  \\\n",
       "0                                   Ujjwal Roy  2021-06-29T08:30:55.000Z   \n",
       "1                         Padmanabhan Jaikumar  2021-06-29T05:51:28.000Z   \n",
       "2                                    Raj Saha   2021-06-28T15:29:47.000Z   \n",
       "3  Full-Vaxxed ভদ্রলোক RajNarayan RoyChoudhury  2021-06-28T13:10:53.000Z   \n",
       "4                               Mahesh Saharia  2021-06-28T12:06:47.000Z   \n",
       "\n",
       "   replies_count  retweets_count likes_count  \\\n",
       "0            NaN             1.0           3   \n",
       "1            NaN             NaN         NaN   \n",
       "2            NaN             NaN           1   \n",
       "3            1.0             NaN           1   \n",
       "4            NaN             1.0           3   \n",
       "\n",
       "                                               tweet language  \n",
       "0  My_Coverage_Story \\n@ANI\\n\\n\\nCOVID-19 vaccina...      NaN  \n",
       "1  With over 32.36 crore Covid-19 vaccinations, I...      NaN  \n",
       "2  COVID-19 restrictions extended in #WestBengal ...      NaN  \n",
       "3  Will take me at least 7 (one left for BE, 2 fo...      NaN  \n",
       "4  Vaccinated health workers at West Hoxton birth...      NaN  "
      ]
     },
     "execution_count": 36,
     "metadata": {},
     "output_type": "execute_result"
    }
   ],
   "source": [
    "june_KeyLT.head(5)"
   ]
  },
  {
   "cell_type": "code",
   "execution_count": 37,
   "metadata": {},
   "outputs": [],
   "source": [
    "june_KeyLT.to_csv(\"juneRawAyush.csv\")"
   ]
  },
  {
   "cell_type": "code",
   "execution_count": 38,
   "metadata": {},
   "outputs": [
    {
     "data": {
      "text/html": [
       "<div>\n",
       "<style scoped>\n",
       "    .dataframe tbody tr th:only-of-type {\n",
       "        vertical-align: middle;\n",
       "    }\n",
       "\n",
       "    .dataframe tbody tr th {\n",
       "        vertical-align: top;\n",
       "    }\n",
       "\n",
       "    .dataframe thead th {\n",
       "        text-align: right;\n",
       "    }\n",
       "</style>\n",
       "<table border=\"1\" class=\"dataframe\">\n",
       "  <thead>\n",
       "    <tr style=\"text-align: right;\">\n",
       "      <th></th>\n",
       "      <th>username</th>\n",
       "      <th>created_at</th>\n",
       "      <th>replies_count</th>\n",
       "      <th>retweets_count</th>\n",
       "      <th>likes_count</th>\n",
       "      <th>tweet</th>\n",
       "      <th>language</th>\n",
       "    </tr>\n",
       "  </thead>\n",
       "  <tbody>\n",
       "    <tr>\n",
       "      <th>0</th>\n",
       "      <td>Ujjwal Roy</td>\n",
       "      <td>2021-06-29T08:30:55.000Z</td>\n",
       "      <td>NaN</td>\n",
       "      <td>1.0</td>\n",
       "      <td>3</td>\n",
       "      <td>My_Coverage_Story \\n@ANI\\n\\n\\nCOVID-19 vaccina...</td>\n",
       "      <td>en</td>\n",
       "    </tr>\n",
       "    <tr>\n",
       "      <th>1</th>\n",
       "      <td>Padmanabhan Jaikumar</td>\n",
       "      <td>2021-06-29T05:51:28.000Z</td>\n",
       "      <td>NaN</td>\n",
       "      <td>NaN</td>\n",
       "      <td>NaN</td>\n",
       "      <td>With over 32.36 crore Covid-19 vaccinations, I...</td>\n",
       "      <td>en</td>\n",
       "    </tr>\n",
       "    <tr>\n",
       "      <th>2</th>\n",
       "      <td>Raj Saha</td>\n",
       "      <td>2021-06-28T15:29:47.000Z</td>\n",
       "      <td>NaN</td>\n",
       "      <td>NaN</td>\n",
       "      <td>1</td>\n",
       "      <td>COVID-19 restrictions extended in #WestBengal ...</td>\n",
       "      <td>en</td>\n",
       "    </tr>\n",
       "    <tr>\n",
       "      <th>3</th>\n",
       "      <td>Full-Vaxxed ভদ্রলোক RajNarayan RoyChoudhury</td>\n",
       "      <td>2021-06-28T13:10:53.000Z</td>\n",
       "      <td>1.0</td>\n",
       "      <td>NaN</td>\n",
       "      <td>1</td>\n",
       "      <td>Will take me at least 7 (one left for BE, 2 fo...</td>\n",
       "      <td>en</td>\n",
       "    </tr>\n",
       "    <tr>\n",
       "      <th>4</th>\n",
       "      <td>Mahesh Saharia</td>\n",
       "      <td>2021-06-28T12:06:47.000Z</td>\n",
       "      <td>NaN</td>\n",
       "      <td>1.0</td>\n",
       "      <td>3</td>\n",
       "      <td>Vaccinated health workers at West Hoxton birth...</td>\n",
       "      <td>en</td>\n",
       "    </tr>\n",
       "  </tbody>\n",
       "</table>\n",
       "</div>"
      ],
      "text/plain": [
       "                                      username                created_at  \\\n",
       "0                                   Ujjwal Roy  2021-06-29T08:30:55.000Z   \n",
       "1                         Padmanabhan Jaikumar  2021-06-29T05:51:28.000Z   \n",
       "2                                    Raj Saha   2021-06-28T15:29:47.000Z   \n",
       "3  Full-Vaxxed ভদ্রলোক RajNarayan RoyChoudhury  2021-06-28T13:10:53.000Z   \n",
       "4                               Mahesh Saharia  2021-06-28T12:06:47.000Z   \n",
       "\n",
       "   replies_count  retweets_count likes_count  \\\n",
       "0            NaN             1.0           3   \n",
       "1            NaN             NaN         NaN   \n",
       "2            NaN             NaN           1   \n",
       "3            1.0             NaN           1   \n",
       "4            NaN             1.0           3   \n",
       "\n",
       "                                               tweet language  \n",
       "0  My_Coverage_Story \\n@ANI\\n\\n\\nCOVID-19 vaccina...       en  \n",
       "1  With over 32.36 crore Covid-19 vaccinations, I...       en  \n",
       "2  COVID-19 restrictions extended in #WestBengal ...       en  \n",
       "3  Will take me at least 7 (one left for BE, 2 fo...       en  \n",
       "4  Vaccinated health workers at West Hoxton birth...       en  "
      ]
     },
     "execution_count": 38,
     "metadata": {},
     "output_type": "execute_result"
    }
   ],
   "source": [
    "june_KeyLT['language'] =june_KeyLT['language'].fillna('en')\n",
    "june_KeyLT.head(5)"
   ]
  },
  {
   "cell_type": "code",
   "execution_count": 39,
   "metadata": {},
   "outputs": [
    {
     "data": {
      "text/plain": [
       "(826, 7)"
      ]
     },
     "execution_count": 39,
     "metadata": {},
     "output_type": "execute_result"
    }
   ],
   "source": [
    "june_KeyLT.shape"
   ]
  },
  {
   "cell_type": "code",
   "execution_count": 40,
   "metadata": {},
   "outputs": [],
   "source": [
    "for i in june_KeyLT['language']:\n",
    "    index_names = june_KeyLT[june_KeyLT['language']!='en' ].index\n",
    "    june_KeyLT.drop(index_names, inplace = True)"
   ]
  },
  {
   "cell_type": "code",
   "execution_count": 41,
   "metadata": {},
   "outputs": [
    {
     "data": {
      "text/plain": [
       "(406, 7)"
      ]
     },
     "execution_count": 41,
     "metadata": {},
     "output_type": "execute_result"
    }
   ],
   "source": [
    "june_KeyLT.shape"
   ]
  },
  {
   "cell_type": "code",
   "execution_count": 42,
   "metadata": {},
   "outputs": [
    {
     "data": {
      "text/html": [
       "<div>\n",
       "<style scoped>\n",
       "    .dataframe tbody tr th:only-of-type {\n",
       "        vertical-align: middle;\n",
       "    }\n",
       "\n",
       "    .dataframe tbody tr th {\n",
       "        vertical-align: top;\n",
       "    }\n",
       "\n",
       "    .dataframe thead th {\n",
       "        text-align: right;\n",
       "    }\n",
       "</style>\n",
       "<table border=\"1\" class=\"dataframe\">\n",
       "  <thead>\n",
       "    <tr style=\"text-align: right;\">\n",
       "      <th></th>\n",
       "      <th>username</th>\n",
       "      <th>created_at</th>\n",
       "      <th>replies_count</th>\n",
       "      <th>retweets_count</th>\n",
       "      <th>likes_count</th>\n",
       "      <th>tweet</th>\n",
       "      <th>language</th>\n",
       "    </tr>\n",
       "  </thead>\n",
       "  <tbody>\n",
       "    <tr>\n",
       "      <th>1</th>\n",
       "      <td>Padmanabhan Jaikumar</td>\n",
       "      <td>2021-06-29T05:51:28.000Z</td>\n",
       "      <td>0.0</td>\n",
       "      <td>0.0</td>\n",
       "      <td>0</td>\n",
       "      <td>With over 32.36 crore Covid-19 vaccinations, I...</td>\n",
       "      <td>en</td>\n",
       "    </tr>\n",
       "    <tr>\n",
       "      <th>10</th>\n",
       "      <td>Vivek Singh</td>\n",
       "      <td>2021-06-28T02:44:46.000Z</td>\n",
       "      <td>0.0</td>\n",
       "      <td>0.0</td>\n",
       "      <td>1</td>\n",
       "      <td>More than 450 underprivileged beneficiaries we...</td>\n",
       "      <td>en</td>\n",
       "    </tr>\n",
       "    <tr>\n",
       "      <th>12</th>\n",
       "      <td>Dipayn Bose</td>\n",
       "      <td>2021-06-27T18:53:53.000Z</td>\n",
       "      <td>0.0</td>\n",
       "      <td>0.0</td>\n",
       "      <td>0</td>\n",
       "      <td>Baisakhi, 1-year-old, with her older sister st...</td>\n",
       "      <td>en</td>\n",
       "    </tr>\n",
       "    <tr>\n",
       "      <th>13</th>\n",
       "      <td>Truecare Medical</td>\n",
       "      <td>2021-06-27T17:48:31.000Z</td>\n",
       "      <td>0.0</td>\n",
       "      <td>0.0</td>\n",
       "      <td>0</td>\n",
       "      <td>Started COVID-19 Vaccination #vaccination #Cov...</td>\n",
       "      <td>en</td>\n",
       "    </tr>\n",
       "    <tr>\n",
       "      <th>14</th>\n",
       "      <td>Tirthadeep K</td>\n",
       "      <td>2021-06-27T17:00:45.000Z</td>\n",
       "      <td>0.0</td>\n",
       "      <td>0.0</td>\n",
       "      <td>0</td>\n",
       "      <td>Replying to \\n@jdhankhar1\\n and \\n@MamataOfficial</td>\n",
       "      <td>en</td>\n",
       "    </tr>\n",
       "    <tr>\n",
       "      <th>...</th>\n",
       "      <td>...</td>\n",
       "      <td>...</td>\n",
       "      <td>...</td>\n",
       "      <td>...</td>\n",
       "      <td>...</td>\n",
       "      <td>...</td>\n",
       "      <td>...</td>\n",
       "    </tr>\n",
       "    <tr>\n",
       "      <th>77</th>\n",
       "      <td>ashish_ramola</td>\n",
       "      <td>2021-06-24 21:01:04 India Standard Time</td>\n",
       "      <td>0.0</td>\n",
       "      <td>1.0</td>\n",
       "      <td>5</td>\n",
       "      <td>March - Remdesivir - Sold out April - oxygen c...</td>\n",
       "      <td>en</td>\n",
       "    </tr>\n",
       "    <tr>\n",
       "      <th>78</th>\n",
       "      <td>tusharsy</td>\n",
       "      <td>2021-06-24 19:08:37 India Standard Time</td>\n",
       "      <td>0.0</td>\n",
       "      <td>0.0</td>\n",
       "      <td>1</td>\n",
       "      <td>March , April , May   Remdesivir - not availab...</td>\n",
       "      <td>en</td>\n",
       "    </tr>\n",
       "    <tr>\n",
       "      <th>81</th>\n",
       "      <td>arunprasadsinha</td>\n",
       "      <td>2021-06-24 12:55:15 India Standard Time</td>\n",
       "      <td>0.0</td>\n",
       "      <td>0.0</td>\n",
       "      <td>0</td>\n",
       "      <td>Instead of managing Covid tactfully , BJP lead...</td>\n",
       "      <td>en</td>\n",
       "    </tr>\n",
       "    <tr>\n",
       "      <th>84</th>\n",
       "      <td>imwadhwa</td>\n",
       "      <td>2021-06-23 20:47:18 India Standard Time</td>\n",
       "      <td>0.0</td>\n",
       "      <td>0.0</td>\n",
       "      <td>0</td>\n",
       "      <td>March, April , May   Remdesivir - not availabl...</td>\n",
       "      <td>en</td>\n",
       "    </tr>\n",
       "    <tr>\n",
       "      <th>90</th>\n",
       "      <td>karthikpgsbabu</td>\n",
       "      <td>2021-06-18 09:01:15 India Standard Time</td>\n",
       "      <td>0.0</td>\n",
       "      <td>0.0</td>\n",
       "      <td>0</td>\n",
       "      <td>@RAKRI1 From S. Karthikeyan. Sir, Like in Remd...</td>\n",
       "      <td>en</td>\n",
       "    </tr>\n",
       "  </tbody>\n",
       "</table>\n",
       "<p>406 rows × 7 columns</p>\n",
       "</div>"
      ],
      "text/plain": [
       "                username                               created_at  \\\n",
       "1   Padmanabhan Jaikumar                 2021-06-29T05:51:28.000Z   \n",
       "10           Vivek Singh                 2021-06-28T02:44:46.000Z   \n",
       "12           Dipayn Bose                 2021-06-27T18:53:53.000Z   \n",
       "13      Truecare Medical                 2021-06-27T17:48:31.000Z   \n",
       "14          Tirthadeep K                 2021-06-27T17:00:45.000Z   \n",
       "..                   ...                                      ...   \n",
       "77         ashish_ramola  2021-06-24 21:01:04 India Standard Time   \n",
       "78              tusharsy  2021-06-24 19:08:37 India Standard Time   \n",
       "81       arunprasadsinha  2021-06-24 12:55:15 India Standard Time   \n",
       "84              imwadhwa  2021-06-23 20:47:18 India Standard Time   \n",
       "90        karthikpgsbabu  2021-06-18 09:01:15 India Standard Time   \n",
       "\n",
       "    replies_count  retweets_count likes_count  \\\n",
       "1             0.0             0.0           0   \n",
       "10            0.0             0.0           1   \n",
       "12            0.0             0.0           0   \n",
       "13            0.0             0.0           0   \n",
       "14            0.0             0.0           0   \n",
       "..            ...             ...         ...   \n",
       "77            0.0             1.0           5   \n",
       "78            0.0             0.0           1   \n",
       "81            0.0             0.0           0   \n",
       "84            0.0             0.0           0   \n",
       "90            0.0             0.0           0   \n",
       "\n",
       "                                                tweet language  \n",
       "1   With over 32.36 crore Covid-19 vaccinations, I...       en  \n",
       "10  More than 450 underprivileged beneficiaries we...       en  \n",
       "12  Baisakhi, 1-year-old, with her older sister st...       en  \n",
       "13  Started COVID-19 Vaccination #vaccination #Cov...       en  \n",
       "14  Replying to \\n@jdhankhar1\\n and \\n@MamataOfficial       en  \n",
       "..                                                ...      ...  \n",
       "77  March - Remdesivir - Sold out April - oxygen c...       en  \n",
       "78  March , April , May   Remdesivir - not availab...       en  \n",
       "81  Instead of managing Covid tactfully , BJP lead...       en  \n",
       "84  March, April , May   Remdesivir - not availabl...       en  \n",
       "90  @RAKRI1 From S. Karthikeyan. Sir, Like in Remd...       en  \n",
       "\n",
       "[406 rows x 7 columns]"
      ]
     },
     "execution_count": 42,
     "metadata": {},
     "output_type": "execute_result"
    }
   ],
   "source": [
    "june_KeyLT[['replies_count','likes_count','retweets_count',]] =june_KeyLT[['replies_count','likes_count','retweets_count',]].fillna(0)\n",
    "june_KeyLT"
   ]
  },
  {
   "cell_type": "code",
   "execution_count": null,
   "metadata": {},
   "outputs": [],
   "source": [
    "june_KeyLT.to_csv('JuneTweetAyushFinal.csv')"
   ]
  },
  {
   "cell_type": "code",
   "execution_count": null,
   "metadata": {},
   "outputs": [],
   "source": []
  }
 ],
 "metadata": {
  "interpreter": {
   "hash": "634498344980471fb0944d848df28373b199ff2468c6404ec32442b20f813eee"
  },
  "kernelspec": {
   "display_name": "Python 3.9.6 64-bit",
   "language": "python",
   "name": "python3"
  },
  "language_info": {
   "codemirror_mode": {
    "name": "ipython",
    "version": 3
   },
   "file_extension": ".py",
   "mimetype": "text/x-python",
   "name": "python",
   "nbconvert_exporter": "python",
   "pygments_lexer": "ipython3",
   "version": "3.9.6"
  },
  "orig_nbformat": 4
 },
 "nbformat": 4,
 "nbformat_minor": 2
}
