{
 "cells": [
  {
   "cell_type": "code",
   "execution_count": 2,
   "metadata": {},
   "outputs": [],
   "source": [
    "import pandas as pd\n",
    "import numpy as np"
   ]
  },
  {
   "cell_type": "code",
   "execution_count": 4,
   "metadata": {},
   "outputs": [],
   "source": [
    "june_covid=pd.read_csv('june(T-covid).csv')\n",
    "june_Covid_19=pd.read_csv('june(T-Covid_19).csv')\n",
    "june_remdesivir=pd.read_csv('june(T-remdesivir).csv')"
   ]
  },
  {
   "cell_type": "code",
   "execution_count": 5,
   "metadata": {},
   "outputs": [
    {
     "data": {
      "text/plain": [
       "(679, 36)"
      ]
     },
     "execution_count": 5,
     "metadata": {},
     "output_type": "execute_result"
    }
   ],
   "source": [
    "june_temp=pd.concat([june_Covid_19, june_remdesivir])\n",
    "june1=pd.concat([june_covid,june_temp])\n",
    "\n",
    "june1.shape"
   ]
  },
  {
   "cell_type": "code",
   "execution_count": 7,
   "metadata": {},
   "outputs": [],
   "source": [
    "june_Top=pd.read_csv('covidtweets(june-TopSectio).csv')\n",
    "june_Latest=pd.read_csv('covidtweets(june-2021-LatestSection).csv')"
   ]
  },
  {
   "cell_type": "code",
   "execution_count": 8,
   "metadata": {},
   "outputs": [
    {
     "data": {
      "text/plain": [
       "Index(['Username', 'Userhandle', 'Time', 'comments', 'Retweets', 'likes',\n",
       "       'Tweet'],\n",
       "      dtype='object')"
      ]
     },
     "execution_count": 8,
     "metadata": {},
     "output_type": "execute_result"
    }
   ],
   "source": [
    "june_Latest.columns"
   ]
  },
  {
   "cell_type": "code",
   "execution_count": 9,
   "metadata": {},
   "outputs": [
    {
     "data": {
      "text/plain": [
       "Index(['Username', 'Userhandle', 'Time', 'comments', 'retweets', 'likes',\n",
       "       'Tweet'],\n",
       "      dtype='object')"
      ]
     },
     "execution_count": 9,
     "metadata": {},
     "output_type": "execute_result"
    }
   ],
   "source": [
    "june_Top.columns"
   ]
  },
  {
   "cell_type": "code",
   "execution_count": 10,
   "metadata": {},
   "outputs": [],
   "source": [
    "june_Top=june_Latest.rename(columns={'Retweets':'retweets'})"
   ]
  },
  {
   "cell_type": "code",
   "execution_count": 11,
   "metadata": {},
   "outputs": [],
   "source": [
    "june2=pd.concat([june_Latest, june_Top])"
   ]
  },
  {
   "cell_type": "code",
   "execution_count": 12,
   "metadata": {},
   "outputs": [],
   "source": [
    "june2.drop(['Userhandle'],axis=1,inplace=True)\n",
    "\n",
    "june2=june2.rename(columns={'UserName':'username','Time':'created_at','comments':'replies_count','retweets':'retweets_count','likes':'likes_count','Tweet':'tweet'})"
   ]
  },
  {
   "cell_type": "code",
   "execution_count": 13,
   "metadata": {},
   "outputs": [
    {
     "data": {
      "text/plain": [
       "(679, 7)"
      ]
     },
     "execution_count": 13,
     "metadata": {},
     "output_type": "execute_result"
    }
   ],
   "source": [
    "june2[\"language\"]='en'\n",
    "\n",
    "june1.drop(['trans_dest', 'trans_src', 'retweet_id', 'reply_to', 'retweet_date', 'translate', 'geo', 'source', 'user_rt_id', 'user_rt', 'video', 'thumbnail', 'quote_url', 'near',\n",
    "                 'id', 'conversation_id', 'date', 'time', 'place', 'mentions', 'urls', 'photos', 'hashtags', 'cashtags', 'link', 'retweet', 'timezone', 'user_id', 'name'], axis=1, inplace=True)\n",
    "june1.shape"
   ]
  },
  {
   "cell_type": "code",
   "execution_count": 14,
   "metadata": {},
   "outputs": [],
   "source": [
    "june_Raw=pd.concat([june1, june2])"
   ]
  },
  {
   "cell_type": "code",
   "execution_count": 15,
   "metadata": {},
   "outputs": [
    {
     "data": {
      "text/plain": [
       "Index(['created_at', 'username', 'tweet', 'language', 'replies_count',\n",
       "       'retweets_count', 'likes_count', 'Username', 'Retweets'],\n",
       "      dtype='object')"
      ]
     },
     "execution_count": 15,
     "metadata": {},
     "output_type": "execute_result"
    }
   ],
   "source": [
    "june_Raw.columns"
   ]
  },
  {
   "cell_type": "code",
   "execution_count": 16,
   "metadata": {},
   "outputs": [],
   "source": [
    "june_Raw.to_csv('June_Ayush_Raw.csv')"
   ]
  },
  {
   "cell_type": "code",
   "execution_count": null,
   "metadata": {},
   "outputs": [],
   "source": []
  }
 ],
 "metadata": {
  "interpreter": {
   "hash": "634498344980471fb0944d848df28373b199ff2468c6404ec32442b20f813eee"
  },
  "kernelspec": {
   "display_name": "Python 3.9.6 64-bit",
   "language": "python",
   "name": "python3"
  },
  "language_info": {
   "codemirror_mode": {
    "name": "ipython",
    "version": 3
   },
   "file_extension": ".py",
   "mimetype": "text/x-python",
   "name": "python",
   "nbconvert_exporter": "python",
   "pygments_lexer": "ipython3",
   "version": "3.9.6"
  },
  "orig_nbformat": 4
 },
 "nbformat": 4,
 "nbformat_minor": 2
}
