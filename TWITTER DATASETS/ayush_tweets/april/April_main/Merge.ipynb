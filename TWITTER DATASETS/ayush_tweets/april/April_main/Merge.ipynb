{
 "cells": [
  {
   "cell_type": "code",
   "execution_count": 1,
   "metadata": {},
   "outputs": [],
   "source": [
    "import pandas as pd\n",
    "import numpy as np"
   ]
  },
  {
   "cell_type": "code",
   "execution_count": 2,
   "metadata": {},
   "outputs": [],
   "source": [
    "april_covid=pd.read_csv('april(T-covid).csv')\n",
    "april_Covid_19=pd.read_csv('april(T-Covid_19).csv')\n",
    "april_remdesivir=pd.read_csv('april(T-remdesivir).csv')"
   ]
  },
  {
   "cell_type": "code",
   "execution_count": 3,
   "metadata": {},
   "outputs": [],
   "source": [
    "april_temp=pd.concat([april_Covid_19, april_remdesivir])\n",
    "april1=pd.concat([april_covid,april_temp])"
   ]
  },
  {
   "cell_type": "code",
   "execution_count": 4,
   "metadata": {},
   "outputs": [
    {
     "data": {
      "text/plain": [
       "(764, 36)"
      ]
     },
     "execution_count": 4,
     "metadata": {},
     "output_type": "execute_result"
    }
   ],
   "source": [
    "april1.shape"
   ]
  },
  {
   "cell_type": "code",
   "execution_count": 5,
   "metadata": {},
   "outputs": [],
   "source": [
    "april_Top=pd.read_csv('covidTweets(april-2021-TopSection).csv')\n",
    "april_Latest=pd.read_csv('covidTweets(april-2021-latest).csv.csv')"
   ]
  },
  {
   "cell_type": "code",
   "execution_count": 6,
   "metadata": {},
   "outputs": [
    {
     "data": {
      "text/plain": [
       "Index(['UserName', 'userhandle', 'Time', 'comments', 'retweets', 'likes',\n",
       "       'Tweet'],\n",
       "      dtype='object')"
      ]
     },
     "execution_count": 6,
     "metadata": {},
     "output_type": "execute_result"
    }
   ],
   "source": [
    "april_Latest.columns"
   ]
  },
  {
   "cell_type": "code",
   "execution_count": 7,
   "metadata": {},
   "outputs": [
    {
     "data": {
      "text/plain": [
       "Index(['UserName', 'userhandle', 'Time', 'comments', 'retweets', 'likes',\n",
       "       'Tweet'],\n",
       "      dtype='object')"
      ]
     },
     "execution_count": 7,
     "metadata": {},
     "output_type": "execute_result"
    }
   ],
   "source": [
    "april_Top.columns"
   ]
  },
  {
   "cell_type": "code",
   "execution_count": 8,
   "metadata": {},
   "outputs": [],
   "source": [
    "april2=pd.concat([april_Latest, april_Top])"
   ]
  },
  {
   "cell_type": "code",
   "execution_count": 10,
   "metadata": {},
   "outputs": [],
   "source": [
    "april2.drop(['userhandle'],axis=1,inplace=True)"
   ]
  },
  {
   "cell_type": "code",
   "execution_count": 11,
   "metadata": {},
   "outputs": [],
   "source": [
    "april2=april2.rename(columns={'UserName':'username','Time':'created_at','comments':'replies_count','retweets':'retweets_count','likes':'likes_count','Tweet':'tweet'})"
   ]
  },
  {
   "cell_type": "code",
   "execution_count": 12,
   "metadata": {},
   "outputs": [],
   "source": [
    "april2[\"language\"]='en'"
   ]
  },
  {
   "cell_type": "code",
   "execution_count": 13,
   "metadata": {},
   "outputs": [
    {
     "data": {
      "text/plain": [
       "(764, 7)"
      ]
     },
     "execution_count": 13,
     "metadata": {},
     "output_type": "execute_result"
    }
   ],
   "source": [
    "april1.drop(['trans_dest', 'trans_src', 'retweet_id', 'reply_to', 'retweet_date', 'translate', 'geo', 'source', 'user_rt_id', 'user_rt', 'video', 'thumbnail', 'quote_url', 'near',\n",
    "                 'id', 'conversation_id', 'date', 'time', 'place', 'mentions', 'urls', 'photos', 'hashtags', 'cashtags', 'link', 'retweet', 'timezone', 'user_id', 'name'], axis=1, inplace=True)\n",
    "april1.shape"
   ]
  },
  {
   "cell_type": "code",
   "execution_count": 14,
   "metadata": {},
   "outputs": [],
   "source": [
    "April_Raw=pd.concat([april1, april2])"
   ]
  },
  {
   "cell_type": "code",
   "execution_count": 15,
   "metadata": {},
   "outputs": [
    {
     "data": {
      "text/plain": [
       "Index(['created_at', 'username', 'tweet', 'language', 'replies_count',\n",
       "       'retweets_count', 'likes_count'],\n",
       "      dtype='object')"
      ]
     },
     "execution_count": 15,
     "metadata": {},
     "output_type": "execute_result"
    }
   ],
   "source": [
    "April_Raw.columns"
   ]
  },
  {
   "cell_type": "code",
   "execution_count": 16,
   "metadata": {},
   "outputs": [
    {
     "data": {
      "text/html": [
       "<div>\n",
       "<style scoped>\n",
       "    .dataframe tbody tr th:only-of-type {\n",
       "        vertical-align: middle;\n",
       "    }\n",
       "\n",
       "    .dataframe tbody tr th {\n",
       "        vertical-align: top;\n",
       "    }\n",
       "\n",
       "    .dataframe thead th {\n",
       "        text-align: right;\n",
       "    }\n",
       "</style>\n",
       "<table border=\"1\" class=\"dataframe\">\n",
       "  <thead>\n",
       "    <tr style=\"text-align: right;\">\n",
       "      <th></th>\n",
       "      <th>created_at</th>\n",
       "      <th>username</th>\n",
       "      <th>tweet</th>\n",
       "      <th>language</th>\n",
       "      <th>replies_count</th>\n",
       "      <th>retweets_count</th>\n",
       "      <th>likes_count</th>\n",
       "    </tr>\n",
       "  </thead>\n",
       "  <tbody>\n",
       "    <tr>\n",
       "      <th>0</th>\n",
       "      <td>2021-04-04 05:25:05 India Standard Time</td>\n",
       "      <td>rengat_barat</td>\n",
       "      <td>*Polsek Rengat Barat Bersama TNI Dan Sat Pol P...</td>\n",
       "      <td>in</td>\n",
       "      <td>0.0</td>\n",
       "      <td>0.0</td>\n",
       "      <td>0.0</td>\n",
       "    </tr>\n",
       "    <tr>\n",
       "      <th>1</th>\n",
       "      <td>2021-04-04 05:12:12 India Standard Time</td>\n",
       "      <td>iammohamadkhan</td>\n",
       "      <td>Shocking 2 learn about the sad demise of @Kamr...</td>\n",
       "      <td>en</td>\n",
       "      <td>0.0</td>\n",
       "      <td>1.0</td>\n",
       "      <td>4.0</td>\n",
       "    </tr>\n",
       "    <tr>\n",
       "      <th>2</th>\n",
       "      <td>2021-04-04 05:06:21 India Standard Time</td>\n",
       "      <td>xbe119</td>\n",
       "      <td>I'm at COVID-19 Vaccine Center - @saudimoh in ...</td>\n",
       "      <td>ca</td>\n",
       "      <td>0.0</td>\n",
       "      <td>0.0</td>\n",
       "      <td>0.0</td>\n",
       "    </tr>\n",
       "    <tr>\n",
       "      <th>3</th>\n",
       "      <td>2021-04-04 04:57:47 India Standard Time</td>\n",
       "      <td>tweetwika</td>\n",
       "      <td>@mayurtheboi Sending covid hugs 👍</td>\n",
       "      <td>en</td>\n",
       "      <td>0.0</td>\n",
       "      <td>0.0</td>\n",
       "      <td>2.0</td>\n",
       "    </tr>\n",
       "    <tr>\n",
       "      <th>4</th>\n",
       "      <td>2021-04-04 04:37:43 India Standard Time</td>\n",
       "      <td>iiirdi</td>\n",
       "      <td>@Trendulkar @hvgoenka True and the best or wor...</td>\n",
       "      <td>en</td>\n",
       "      <td>0.0</td>\n",
       "      <td>0.0</td>\n",
       "      <td>0.0</td>\n",
       "    </tr>\n",
       "    <tr>\n",
       "      <th>...</th>\n",
       "      <td>...</td>\n",
       "      <td>...</td>\n",
       "      <td>...</td>\n",
       "      <td>...</td>\n",
       "      <td>...</td>\n",
       "      <td>...</td>\n",
       "      <td>...</td>\n",
       "    </tr>\n",
       "    <tr>\n",
       "      <th>80</th>\n",
       "      <td>2021-04-22T17:19:30.000Z</td>\n",
       "      <td>Santanu Sengupta শান্তনু সেনগুপ্ত</td>\n",
       "      <td>Replying to \\n@virsanghvi\\n and \\n@gauravcsawant</td>\n",
       "      <td>en</td>\n",
       "      <td>NaN</td>\n",
       "      <td>NaN</td>\n",
       "      <td>NaN</td>\n",
       "    </tr>\n",
       "    <tr>\n",
       "      <th>81</th>\n",
       "      <td>2021-04-18T15:33:38.000Z</td>\n",
       "      <td>Siddhant Mishra</td>\n",
       "      <td>@navikakumar\\n did u take your eyes off the Co...</td>\n",
       "      <td>en</td>\n",
       "      <td>1.0</td>\n",
       "      <td>NaN</td>\n",
       "      <td>3.0</td>\n",
       "    </tr>\n",
       "    <tr>\n",
       "      <th>82</th>\n",
       "      <td>2021-04-19T14:17:53.000Z</td>\n",
       "      <td>PIB in Tripura</td>\n",
       "      <td>Government of India announces a Liberalised an...</td>\n",
       "      <td>en</td>\n",
       "      <td>NaN</td>\n",
       "      <td>1.0</td>\n",
       "      <td>1.0</td>\n",
       "    </tr>\n",
       "    <tr>\n",
       "      <th>83</th>\n",
       "      <td>2021-04-05T05:41:30.000Z</td>\n",
       "      <td>VISHAL SINGH</td>\n",
       "      <td>Replying to \\n@Arun07Satapathy\\n and \\n@otvnews</td>\n",
       "      <td>en</td>\n",
       "      <td>NaN</td>\n",
       "      <td>NaN</td>\n",
       "      <td>NaN</td>\n",
       "    </tr>\n",
       "    <tr>\n",
       "      <th>84</th>\n",
       "      <td>2021-04-22T10:22:25.000Z</td>\n",
       "      <td>Urbasi Bhattacharyya</td>\n",
       "      <td>@narendramodi\\n Pls don't come to West Bengal ...</td>\n",
       "      <td>en</td>\n",
       "      <td>1.0</td>\n",
       "      <td>NaN</td>\n",
       "      <td>1.0</td>\n",
       "    </tr>\n",
       "  </tbody>\n",
       "</table>\n",
       "<p>1293 rows × 7 columns</p>\n",
       "</div>"
      ],
      "text/plain": [
       "                                 created_at  \\\n",
       "0   2021-04-04 05:25:05 India Standard Time   \n",
       "1   2021-04-04 05:12:12 India Standard Time   \n",
       "2   2021-04-04 05:06:21 India Standard Time   \n",
       "3   2021-04-04 04:57:47 India Standard Time   \n",
       "4   2021-04-04 04:37:43 India Standard Time   \n",
       "..                                      ...   \n",
       "80                 2021-04-22T17:19:30.000Z   \n",
       "81                 2021-04-18T15:33:38.000Z   \n",
       "82                 2021-04-19T14:17:53.000Z   \n",
       "83                 2021-04-05T05:41:30.000Z   \n",
       "84                 2021-04-22T10:22:25.000Z   \n",
       "\n",
       "                             username  \\\n",
       "0                        rengat_barat   \n",
       "1                      iammohamadkhan   \n",
       "2                              xbe119   \n",
       "3                           tweetwika   \n",
       "4                              iiirdi   \n",
       "..                                ...   \n",
       "80  Santanu Sengupta শান্তনু সেনগুপ্ত   \n",
       "81                    Siddhant Mishra   \n",
       "82                     PIB in Tripura   \n",
       "83                       VISHAL SINGH   \n",
       "84               Urbasi Bhattacharyya   \n",
       "\n",
       "                                                tweet language  replies_count  \\\n",
       "0   *Polsek Rengat Barat Bersama TNI Dan Sat Pol P...       in            0.0   \n",
       "1   Shocking 2 learn about the sad demise of @Kamr...       en            0.0   \n",
       "2   I'm at COVID-19 Vaccine Center - @saudimoh in ...       ca            0.0   \n",
       "3                   @mayurtheboi Sending covid hugs 👍       en            0.0   \n",
       "4   @Trendulkar @hvgoenka True and the best or wor...       en            0.0   \n",
       "..                                                ...      ...            ...   \n",
       "80   Replying to \\n@virsanghvi\\n and \\n@gauravcsawant       en            NaN   \n",
       "81  @navikakumar\\n did u take your eyes off the Co...       en            1.0   \n",
       "82  Government of India announces a Liberalised an...       en            NaN   \n",
       "83    Replying to \\n@Arun07Satapathy\\n and \\n@otvnews       en            NaN   \n",
       "84  @narendramodi\\n Pls don't come to West Bengal ...       en            1.0   \n",
       "\n",
       "    retweets_count  likes_count  \n",
       "0              0.0          0.0  \n",
       "1              1.0          4.0  \n",
       "2              0.0          0.0  \n",
       "3              0.0          2.0  \n",
       "4              0.0          0.0  \n",
       "..             ...          ...  \n",
       "80             NaN          NaN  \n",
       "81             NaN          3.0  \n",
       "82             1.0          1.0  \n",
       "83             NaN          NaN  \n",
       "84             NaN          1.0  \n",
       "\n",
       "[1293 rows x 7 columns]"
      ]
     },
     "execution_count": 16,
     "metadata": {},
     "output_type": "execute_result"
    }
   ],
   "source": [
    "April_Raw\n"
   ]
  },
  {
   "cell_type": "code",
   "execution_count": 17,
   "metadata": {},
   "outputs": [],
   "source": [
    "April_Raw.to_csv('April_Ayush_Raw.csv')"
   ]
  }
 ],
 "metadata": {
  "interpreter": {
   "hash": "634498344980471fb0944d848df28373b199ff2468c6404ec32442b20f813eee"
  },
  "kernelspec": {
   "display_name": "Python 3.9.6 64-bit",
   "language": "python",
   "name": "python3"
  },
  "language_info": {
   "codemirror_mode": {
    "name": "ipython",
    "version": 3
   },
   "file_extension": ".py",
   "mimetype": "text/x-python",
   "name": "python",
   "nbconvert_exporter": "python",
   "pygments_lexer": "ipython3",
   "version": "3.9.6"
  },
  "orig_nbformat": 4
 },
 "nbformat": 4,
 "nbformat_minor": 2
}
