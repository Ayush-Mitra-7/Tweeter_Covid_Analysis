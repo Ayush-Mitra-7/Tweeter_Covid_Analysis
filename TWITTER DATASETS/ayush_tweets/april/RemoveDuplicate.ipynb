{
 "cells": [
  {
   "cell_type": "code",
   "execution_count": 1,
   "metadata": {},
   "outputs": [],
   "source": [
    "import pandas as pd\n",
    "import numpy as np"
   ]
  },
  {
   "cell_type": "code",
   "execution_count": 4,
   "metadata": {},
   "outputs": [],
   "source": [
    "april_covid=pd.read_csv(\"april(T-covid).csv\")\n",
    "april_Covid_19=pd.read_csv('april(T-Covid_19).csv')\n",
    "april_remdesivir=pd.read_csv('april(T-remdesivir).csv')"
   ]
  },
  {
   "cell_type": "code",
   "execution_count": 3,
   "metadata": {},
   "outputs": [
    {
     "data": {
      "text/plain": [
       "(0, 36)"
      ]
     },
     "execution_count": 3,
     "metadata": {},
     "output_type": "execute_result"
    }
   ],
   "source": [
    "duplicates=april_covid[april_covid.duplicated()]\n",
    "duplicates.shape"
   ]
  },
  {
   "cell_type": "code",
   "execution_count": 5,
   "metadata": {},
   "outputs": [
    {
     "data": {
      "text/plain": [
       "(0, 36)"
      ]
     },
     "execution_count": 5,
     "metadata": {},
     "output_type": "execute_result"
    }
   ],
   "source": [
    "duplicates=april_Covid_19[april_Covid_19.duplicated()]\n",
    "duplicates.shape"
   ]
  },
  {
   "cell_type": "code",
   "execution_count": 6,
   "metadata": {},
   "outputs": [
    {
     "data": {
      "text/plain": [
       "(0, 36)"
      ]
     },
     "execution_count": 6,
     "metadata": {},
     "output_type": "execute_result"
    }
   ],
   "source": [
    "duplicates=april_remdesivir[april_remdesivir.duplicated()]\n",
    "duplicates.shape"
   ]
  },
  {
   "cell_type": "code",
   "execution_count": 7,
   "metadata": {},
   "outputs": [],
   "source": [
    "april_Temp =pd.concat([april_Covid_19,april_covid]).drop_duplicates()"
   ]
  },
  {
   "cell_type": "code",
   "execution_count": 8,
   "metadata": {},
   "outputs": [],
   "source": [
    "aprilKeyAyush=pd.concat([april_Temp,april_remdesivir]).drop_duplicates()"
   ]
  },
  {
   "cell_type": "code",
   "execution_count": 9,
   "metadata": {},
   "outputs": [
    {
     "data": {
      "text/plain": [
       "(718, 36)"
      ]
     },
     "execution_count": 9,
     "metadata": {},
     "output_type": "execute_result"
    }
   ],
   "source": [
    "aprilKeyAyush.shape"
   ]
  },
  {
   "cell_type": "code",
   "execution_count": 11,
   "metadata": {},
   "outputs": [
    {
     "data": {
      "text/plain": [
       "(0, 36)"
      ]
     },
     "execution_count": 11,
     "metadata": {},
     "output_type": "execute_result"
    }
   ],
   "source": [
    "duplicates=aprilKeyAyush[aprilKeyAyush.duplicated()]\n",
    "duplicates.shape"
   ]
  },
  {
   "cell_type": "code",
   "execution_count": 10,
   "metadata": {},
   "outputs": [],
   "source": [
    "aprilKeyAyush.to_csv('April_keywords_Ayush.csv')"
   ]
  },
  {
   "cell_type": "code",
   "execution_count": 13,
   "metadata": {},
   "outputs": [],
   "source": [
    "aprilKeyAyush.drop(['trans_dest', 'trans_src', 'retweet_id', 'reply_to', 'retweet_date', 'translate','geo', 'source', 'user_rt_id', 'user_rt','video', 'thumbnail','quote_url', 'near','id', 'conversation_id', 'date', 'time','place','mentions','urls', 'photos','hashtags', 'cashtags', 'link', 'retweet', 'timezone', 'user_id','name'] ,axis = 1,inplace=True)"
   ]
  },
  {
   "cell_type": "code",
   "execution_count": 14,
   "metadata": {},
   "outputs": [
    {
     "data": {
      "text/plain": [
       "(718, 7)"
      ]
     },
     "execution_count": 14,
     "metadata": {},
     "output_type": "execute_result"
    }
   ],
   "source": [
    "aprilKeyAyush.shape"
   ]
  },
  {
   "cell_type": "code",
   "execution_count": 15,
   "metadata": {},
   "outputs": [
    {
     "data": {
      "text/plain": [
       "Index(['created_at', 'username', 'tweet', 'language', 'replies_count',\n",
       "       'retweets_count', 'likes_count'],\n",
       "      dtype='object')"
      ]
     },
     "execution_count": 15,
     "metadata": {},
     "output_type": "execute_result"
    }
   ],
   "source": [
    "aprilKeyAyush.columns"
   ]
  },
  {
   "cell_type": "code",
   "execution_count": 16,
   "metadata": {},
   "outputs": [],
   "source": [
    "aprilT=pd.read_csv('covidTweets(april-2021-TopSection).csv')\n",
    "aprilL=pd.read_csv('covidTweets(april-2021-latest).csv.csv')\n"
   ]
  },
  {
   "cell_type": "code",
   "execution_count": 17,
   "metadata": {},
   "outputs": [
    {
     "data": {
      "text/plain": [
       "(444, 7)"
      ]
     },
     "execution_count": 17,
     "metadata": {},
     "output_type": "execute_result"
    }
   ],
   "source": [
    "aprilL.shape"
   ]
  },
  {
   "cell_type": "code",
   "execution_count": 18,
   "metadata": {},
   "outputs": [
    {
     "data": {
      "text/plain": [
       "Index(['UserName', 'userhandle', 'Time', 'comments', 'retweets', 'likes',\n",
       "       'Tweet'],\n",
       "      dtype='object')"
      ]
     },
     "execution_count": 18,
     "metadata": {},
     "output_type": "execute_result"
    }
   ],
   "source": [
    "aprilL.columns"
   ]
  },
  {
   "cell_type": "code",
   "execution_count": 20,
   "metadata": {},
   "outputs": [],
   "source": [
    "aprilL.drop(['userhandle'],axis=1,inplace=True)"
   ]
  },
  {
   "cell_type": "code",
   "execution_count": 21,
   "metadata": {},
   "outputs": [],
   "source": [
    "aprilL=aprilL.rename(columns={'UserName':'username','Time':'created_at','comments':'replies_count','retweets':'retweets_count','likes':'likes_count','Tweet':'tweet'})"
   ]
  },
  {
   "cell_type": "code",
   "execution_count": 22,
   "metadata": {},
   "outputs": [
    {
     "data": {
      "text/plain": [
       "Index(['username', 'created_at', 'replies_count', 'retweets_count',\n",
       "       'likes_count', 'tweet'],\n",
       "      dtype='object')"
      ]
     },
     "execution_count": 22,
     "metadata": {},
     "output_type": "execute_result"
    }
   ],
   "source": [
    "aprilL.columns"
   ]
  },
  {
   "cell_type": "code",
   "execution_count": 23,
   "metadata": {},
   "outputs": [
    {
     "data": {
      "text/plain": [
       "Index(['created_at', 'username', 'tweet', 'language', 'replies_count',\n",
       "       'retweets_count', 'likes_count'],\n",
       "      dtype='object')"
      ]
     },
     "execution_count": 23,
     "metadata": {},
     "output_type": "execute_result"
    }
   ],
   "source": [
    "aprilKeyAyush.columns"
   ]
  },
  {
   "cell_type": "code",
   "execution_count": 24,
   "metadata": {},
   "outputs": [],
   "source": [
    "aprilL[\"language\"]=np.nan"
   ]
  },
  {
   "cell_type": "code",
   "execution_count": 27,
   "metadata": {},
   "outputs": [
    {
     "data": {
      "text/html": [
       "<div>\n",
       "<style scoped>\n",
       "    .dataframe tbody tr th:only-of-type {\n",
       "        vertical-align: middle;\n",
       "    }\n",
       "\n",
       "    .dataframe tbody tr th {\n",
       "        vertical-align: top;\n",
       "    }\n",
       "\n",
       "    .dataframe thead th {\n",
       "        text-align: right;\n",
       "    }\n",
       "</style>\n",
       "<table border=\"1\" class=\"dataframe\">\n",
       "  <thead>\n",
       "    <tr style=\"text-align: right;\">\n",
       "      <th></th>\n",
       "      <th>username</th>\n",
       "      <th>created_at</th>\n",
       "      <th>replies_count</th>\n",
       "      <th>retweets_count</th>\n",
       "      <th>likes_count</th>\n",
       "      <th>tweet</th>\n",
       "      <th>language</th>\n",
       "    </tr>\n",
       "  </thead>\n",
       "  <tbody>\n",
       "    <tr>\n",
       "      <th>0</th>\n",
       "      <td>Sumant Kumar</td>\n",
       "      <td>2021-04-29T20:16:34.000Z</td>\n",
       "      <td>NaN</td>\n",
       "      <td>NaN</td>\n",
       "      <td>NaN</td>\n",
       "      <td>@MamataOfficial\\n\\n\\n@narendramodi\\n \\n@DrHVof...</td>\n",
       "      <td>NaN</td>\n",
       "    </tr>\n",
       "    <tr>\n",
       "      <th>1</th>\n",
       "      <td>MEHEDI HASSAN MONDAL</td>\n",
       "      <td>2021-04-29T18:22:50.000Z</td>\n",
       "      <td>1.0</td>\n",
       "      <td>2.0</td>\n",
       "      <td>3.0</td>\n",
       "      <td>Where is our India'n GOVERNMENT.lack of people...</td>\n",
       "      <td>NaN</td>\n",
       "    </tr>\n",
       "    <tr>\n",
       "      <th>2</th>\n",
       "      <td>Janta Power</td>\n",
       "      <td>2021-04-29T15:57:31.000Z</td>\n",
       "      <td>NaN</td>\n",
       "      <td>NaN</td>\n",
       "      <td>NaN</td>\n",
       "      <td>The media has turned a blind eye to the ongoin...</td>\n",
       "      <td>NaN</td>\n",
       "    </tr>\n",
       "    <tr>\n",
       "      <th>3</th>\n",
       "      <td>Chakradharparhi</td>\n",
       "      <td>2021-04-29T12:47:25.000Z</td>\n",
       "      <td>NaN</td>\n",
       "      <td>NaN</td>\n",
       "      <td>NaN</td>\n",
       "      <td>My dear all twiter friends &amp; My siniour person...</td>\n",
       "      <td>NaN</td>\n",
       "    </tr>\n",
       "    <tr>\n",
       "      <th>4</th>\n",
       "      <td>Janta Power</td>\n",
       "      <td>2021-04-29T11:55:41.000Z</td>\n",
       "      <td>2.0</td>\n",
       "      <td>NaN</td>\n",
       "      <td>NaN</td>\n",
       "      <td>@KareenaKapoor\\n reveals chat with Taimur abou...</td>\n",
       "      <td>NaN</td>\n",
       "    </tr>\n",
       "  </tbody>\n",
       "</table>\n",
       "</div>"
      ],
      "text/plain": [
       "               username                created_at  replies_count  \\\n",
       "0          Sumant Kumar  2021-04-29T20:16:34.000Z            NaN   \n",
       "1  MEHEDI HASSAN MONDAL  2021-04-29T18:22:50.000Z            1.0   \n",
       "2           Janta Power  2021-04-29T15:57:31.000Z            NaN   \n",
       "3       Chakradharparhi  2021-04-29T12:47:25.000Z            NaN   \n",
       "4           Janta Power  2021-04-29T11:55:41.000Z            2.0   \n",
       "\n",
       "   retweets_count  likes_count  \\\n",
       "0             NaN          NaN   \n",
       "1             2.0          3.0   \n",
       "2             NaN          NaN   \n",
       "3             NaN          NaN   \n",
       "4             NaN          NaN   \n",
       "\n",
       "                                               tweet  language  \n",
       "0  @MamataOfficial\\n\\n\\n@narendramodi\\n \\n@DrHVof...       NaN  \n",
       "1  Where is our India'n GOVERNMENT.lack of people...       NaN  \n",
       "2  The media has turned a blind eye to the ongoin...       NaN  \n",
       "3  My dear all twiter friends & My siniour person...       NaN  \n",
       "4  @KareenaKapoor\\n reveals chat with Taimur abou...       NaN  "
      ]
     },
     "execution_count": 27,
     "metadata": {},
     "output_type": "execute_result"
    }
   ],
   "source": [
    "aprilL.head(5)"
   ]
  },
  {
   "cell_type": "code",
   "execution_count": 35,
   "metadata": {},
   "outputs": [],
   "source": [
    "april_KeyL=pd.concat([aprilL,aprilKeyAyush]).drop_duplicates()"
   ]
  },
  {
   "cell_type": "code",
   "execution_count": 36,
   "metadata": {},
   "outputs": [
    {
     "data": {
      "text/plain": [
       "(1162, 7)"
      ]
     },
     "execution_count": 36,
     "metadata": {},
     "output_type": "execute_result"
    }
   ],
   "source": [
    "april_KeyL.shape"
   ]
  },
  {
   "cell_type": "code",
   "execution_count": 43,
   "metadata": {},
   "outputs": [
    {
     "data": {
      "text/html": [
       "<div>\n",
       "<style scoped>\n",
       "    .dataframe tbody tr th:only-of-type {\n",
       "        vertical-align: middle;\n",
       "    }\n",
       "\n",
       "    .dataframe tbody tr th {\n",
       "        vertical-align: top;\n",
       "    }\n",
       "\n",
       "    .dataframe thead th {\n",
       "        text-align: right;\n",
       "    }\n",
       "</style>\n",
       "<table border=\"1\" class=\"dataframe\">\n",
       "  <thead>\n",
       "    <tr style=\"text-align: right;\">\n",
       "      <th></th>\n",
       "      <th>username</th>\n",
       "      <th>created_at</th>\n",
       "      <th>replies_count</th>\n",
       "      <th>retweets_count</th>\n",
       "      <th>likes_count</th>\n",
       "      <th>tweet</th>\n",
       "      <th>language</th>\n",
       "    </tr>\n",
       "  </thead>\n",
       "  <tbody>\n",
       "    <tr>\n",
       "      <th>0</th>\n",
       "      <td>Sumant Kumar</td>\n",
       "      <td>2021-04-29T20:16:34.000Z</td>\n",
       "      <td>NaN</td>\n",
       "      <td>NaN</td>\n",
       "      <td>NaN</td>\n",
       "      <td>@MamataOfficial\\n\\n\\n@narendramodi\\n \\n@DrHVof...</td>\n",
       "      <td>NaN</td>\n",
       "    </tr>\n",
       "    <tr>\n",
       "      <th>1</th>\n",
       "      <td>MEHEDI HASSAN MONDAL</td>\n",
       "      <td>2021-04-29T18:22:50.000Z</td>\n",
       "      <td>1.0</td>\n",
       "      <td>2.0</td>\n",
       "      <td>3.0</td>\n",
       "      <td>Where is our India'n GOVERNMENT.lack of people...</td>\n",
       "      <td>NaN</td>\n",
       "    </tr>\n",
       "    <tr>\n",
       "      <th>2</th>\n",
       "      <td>Janta Power</td>\n",
       "      <td>2021-04-29T15:57:31.000Z</td>\n",
       "      <td>NaN</td>\n",
       "      <td>NaN</td>\n",
       "      <td>NaN</td>\n",
       "      <td>The media has turned a blind eye to the ongoin...</td>\n",
       "      <td>NaN</td>\n",
       "    </tr>\n",
       "    <tr>\n",
       "      <th>3</th>\n",
       "      <td>Chakradharparhi</td>\n",
       "      <td>2021-04-29T12:47:25.000Z</td>\n",
       "      <td>NaN</td>\n",
       "      <td>NaN</td>\n",
       "      <td>NaN</td>\n",
       "      <td>My dear all twiter friends &amp; My siniour person...</td>\n",
       "      <td>NaN</td>\n",
       "    </tr>\n",
       "    <tr>\n",
       "      <th>4</th>\n",
       "      <td>Janta Power</td>\n",
       "      <td>2021-04-29T11:55:41.000Z</td>\n",
       "      <td>2.0</td>\n",
       "      <td>NaN</td>\n",
       "      <td>NaN</td>\n",
       "      <td>@KareenaKapoor\\n reveals chat with Taimur abou...</td>\n",
       "      <td>NaN</td>\n",
       "    </tr>\n",
       "    <tr>\n",
       "      <th>...</th>\n",
       "      <td>...</td>\n",
       "      <td>...</td>\n",
       "      <td>...</td>\n",
       "      <td>...</td>\n",
       "      <td>...</td>\n",
       "      <td>...</td>\n",
       "      <td>...</td>\n",
       "    </tr>\n",
       "    <tr>\n",
       "      <th>245</th>\n",
       "      <td>_gocoronago_</td>\n",
       "      <td>2021-04-27 23:05:26 India Standard Time</td>\n",
       "      <td>2.0</td>\n",
       "      <td>3.0</td>\n",
       "      <td>1.0</td>\n",
       "      <td>Please RT SPO2- 39‼️ #Lucknow #Remdesivir #Fav...</td>\n",
       "      <td>en</td>\n",
       "    </tr>\n",
       "    <tr>\n",
       "      <th>246</th>\n",
       "      <td>nilesh9306</td>\n",
       "      <td>2021-04-27 23:03:16 India Standard Time</td>\n",
       "      <td>0.0</td>\n",
       "      <td>1.0</td>\n",
       "      <td>0.0</td>\n",
       "      <td>@PMOIndia Dear Sir, I am Covid positive and su...</td>\n",
       "      <td>en</td>\n",
       "    </tr>\n",
       "    <tr>\n",
       "      <th>247</th>\n",
       "      <td>handle_rahul</td>\n",
       "      <td>2021-04-27 23:01:13 India Standard Time</td>\n",
       "      <td>2.0</td>\n",
       "      <td>0.0</td>\n",
       "      <td>2.0</td>\n",
       "      <td>@DarshanNPopat @Yoongistwinnie @sandhyafernez ...</td>\n",
       "      <td>en</td>\n",
       "    </tr>\n",
       "    <tr>\n",
       "      <th>248</th>\n",
       "      <td>seemas_khan</td>\n",
       "      <td>2021-04-27 23:00:52 India Standard Time</td>\n",
       "      <td>9.0</td>\n",
       "      <td>8.0</td>\n",
       "      <td>32.0</td>\n",
       "      <td>With Remdesivir,  Azumab, Barcitinib not avail...</td>\n",
       "      <td>en</td>\n",
       "    </tr>\n",
       "    <tr>\n",
       "      <th>249</th>\n",
       "      <td>aswini43761478</td>\n",
       "      <td>2021-04-27 22:59:42 India Standard Time</td>\n",
       "      <td>0.0</td>\n",
       "      <td>0.0</td>\n",
       "      <td>5.0</td>\n",
       "      <td>Ambulance charge 5 time Remdesivir black pe, 2...</td>\n",
       "      <td>et</td>\n",
       "    </tr>\n",
       "  </tbody>\n",
       "</table>\n",
       "<p>1162 rows × 7 columns</p>\n",
       "</div>"
      ],
      "text/plain": [
       "                 username                               created_at  \\\n",
       "0            Sumant Kumar                 2021-04-29T20:16:34.000Z   \n",
       "1    MEHEDI HASSAN MONDAL                 2021-04-29T18:22:50.000Z   \n",
       "2             Janta Power                 2021-04-29T15:57:31.000Z   \n",
       "3         Chakradharparhi                 2021-04-29T12:47:25.000Z   \n",
       "4             Janta Power                 2021-04-29T11:55:41.000Z   \n",
       "..                    ...                                      ...   \n",
       "245          _gocoronago_  2021-04-27 23:05:26 India Standard Time   \n",
       "246            nilesh9306  2021-04-27 23:03:16 India Standard Time   \n",
       "247          handle_rahul  2021-04-27 23:01:13 India Standard Time   \n",
       "248           seemas_khan  2021-04-27 23:00:52 India Standard Time   \n",
       "249        aswini43761478  2021-04-27 22:59:42 India Standard Time   \n",
       "\n",
       "     replies_count  retweets_count  likes_count  \\\n",
       "0              NaN             NaN          NaN   \n",
       "1              1.0             2.0          3.0   \n",
       "2              NaN             NaN          NaN   \n",
       "3              NaN             NaN          NaN   \n",
       "4              2.0             NaN          NaN   \n",
       "..             ...             ...          ...   \n",
       "245            2.0             3.0          1.0   \n",
       "246            0.0             1.0          0.0   \n",
       "247            2.0             0.0          2.0   \n",
       "248            9.0             8.0         32.0   \n",
       "249            0.0             0.0          5.0   \n",
       "\n",
       "                                                 tweet language  \n",
       "0    @MamataOfficial\\n\\n\\n@narendramodi\\n \\n@DrHVof...      NaN  \n",
       "1    Where is our India'n GOVERNMENT.lack of people...      NaN  \n",
       "2    The media has turned a blind eye to the ongoin...      NaN  \n",
       "3    My dear all twiter friends & My siniour person...      NaN  \n",
       "4    @KareenaKapoor\\n reveals chat with Taimur abou...      NaN  \n",
       "..                                                 ...      ...  \n",
       "245  Please RT SPO2- 39‼️ #Lucknow #Remdesivir #Fav...       en  \n",
       "246  @PMOIndia Dear Sir, I am Covid positive and su...       en  \n",
       "247  @DarshanNPopat @Yoongistwinnie @sandhyafernez ...       en  \n",
       "248  With Remdesivir,  Azumab, Barcitinib not avail...       en  \n",
       "249  Ambulance charge 5 time Remdesivir black pe, 2...       et  \n",
       "\n",
       "[1162 rows x 7 columns]"
      ]
     },
     "execution_count": 43,
     "metadata": {},
     "output_type": "execute_result"
    }
   ],
   "source": [
    "april_KeyL"
   ]
  },
  {
   "cell_type": "code",
   "execution_count": 29,
   "metadata": {},
   "outputs": [],
   "source": [
    "aprilT.drop(['userhandle'],axis=1,inplace=True)\n"
   ]
  },
  {
   "cell_type": "code",
   "execution_count": 30,
   "metadata": {},
   "outputs": [
    {
     "data": {
      "text/plain": [
       "Index(['UserName', 'Time', 'comments', 'retweets', 'likes', 'Tweet'], dtype='object')"
      ]
     },
     "execution_count": 30,
     "metadata": {},
     "output_type": "execute_result"
    }
   ],
   "source": [
    "aprilT.columns"
   ]
  },
  {
   "cell_type": "code",
   "execution_count": 31,
   "metadata": {},
   "outputs": [],
   "source": [
    "aprilT=aprilT.rename(columns={'UserName':'username','Time':'created_at','comments':'replies_count','retweets':'retweets_count','likes':'likes_count','Tweet':'tweet'})"
   ]
  },
  {
   "cell_type": "code",
   "execution_count": 32,
   "metadata": {},
   "outputs": [],
   "source": [
    "aprilL[\"language\"]=np.nan"
   ]
  },
  {
   "cell_type": "code",
   "execution_count": 38,
   "metadata": {},
   "outputs": [],
   "source": [
    "april_KeyLT=pd.concat([aprilT,april_KeyL]).drop_duplicates()"
   ]
  },
  {
   "cell_type": "code",
   "execution_count": 39,
   "metadata": {},
   "outputs": [
    {
     "data": {
      "text/plain": [
       "(1169, 7)"
      ]
     },
     "execution_count": 39,
     "metadata": {},
     "output_type": "execute_result"
    }
   ],
   "source": [
    "april_KeyLT.shape"
   ]
  },
  {
   "cell_type": "code",
   "execution_count": 40,
   "metadata": {},
   "outputs": [
    {
     "data": {
      "text/plain": [
       "Index(['username', 'created_at', 'replies_count', 'retweets_count',\n",
       "       'likes_count', 'tweet', 'language'],\n",
       "      dtype='object')"
      ]
     },
     "execution_count": 40,
     "metadata": {},
     "output_type": "execute_result"
    }
   ],
   "source": [
    "april_KeyLT.columns"
   ]
  },
  {
   "cell_type": "code",
   "execution_count": 41,
   "metadata": {},
   "outputs": [
    {
     "data": {
      "text/html": [
       "<div>\n",
       "<style scoped>\n",
       "    .dataframe tbody tr th:only-of-type {\n",
       "        vertical-align: middle;\n",
       "    }\n",
       "\n",
       "    .dataframe tbody tr th {\n",
       "        vertical-align: top;\n",
       "    }\n",
       "\n",
       "    .dataframe thead th {\n",
       "        text-align: right;\n",
       "    }\n",
       "</style>\n",
       "<table border=\"1\" class=\"dataframe\">\n",
       "  <thead>\n",
       "    <tr style=\"text-align: right;\">\n",
       "      <th></th>\n",
       "      <th>username</th>\n",
       "      <th>created_at</th>\n",
       "      <th>replies_count</th>\n",
       "      <th>retweets_count</th>\n",
       "      <th>likes_count</th>\n",
       "      <th>tweet</th>\n",
       "      <th>language</th>\n",
       "    </tr>\n",
       "  </thead>\n",
       "  <tbody>\n",
       "    <tr>\n",
       "      <th>0</th>\n",
       "      <td>Rima Prasad</td>\n",
       "      <td>2021-04-15T07:53:06.000Z</td>\n",
       "      <td>4.0</td>\n",
       "      <td>8.0</td>\n",
       "      <td>55.0</td>\n",
       "      <td>Helpline numbers\\n#Covid_19</td>\n",
       "      <td>NaN</td>\n",
       "    </tr>\n",
       "    <tr>\n",
       "      <th>1</th>\n",
       "      <td>��𝐀𝐍𝐃𝐄𝐄𝐏</td>\n",
       "      <td>2021-04-22T02:37:48.000Z</td>\n",
       "      <td>5.0</td>\n",
       "      <td>107.0</td>\n",
       "      <td>103.0</td>\n",
       "      <td>The Centre for Disease Control and Prevention ...</td>\n",
       "      <td>NaN</td>\n",
       "    </tr>\n",
       "    <tr>\n",
       "      <th>2</th>\n",
       "      <td>planetSetu</td>\n",
       "      <td>2021-04-25T10:34:37.000Z</td>\n",
       "      <td>NaN</td>\n",
       "      <td>1.0</td>\n",
       "      <td>1.0</td>\n",
       "      <td>#SocialDistancing is the key. Please follow al...</td>\n",
       "      <td>NaN</td>\n",
       "    </tr>\n",
       "    <tr>\n",
       "      <th>3</th>\n",
       "      <td>Hiraan</td>\n",
       "      <td>2021-04-18T07:05:14.000Z</td>\n",
       "      <td>6.0</td>\n",
       "      <td>38.0</td>\n",
       "      <td>146.0</td>\n",
       "      <td>Pl wear a mask and maintain the distance and f...</td>\n",
       "      <td>NaN</td>\n",
       "    </tr>\n",
       "    <tr>\n",
       "      <th>4</th>\n",
       "      <td>Manshi | My</td>\n",
       "      <td>2021-04-22T05:51:19.000Z</td>\n",
       "      <td>1.0</td>\n",
       "      <td>31.0</td>\n",
       "      <td>13.0</td>\n",
       "      <td>List of PLASMA BANKS in WEST BENGAL for COVID ...</td>\n",
       "      <td>NaN</td>\n",
       "    </tr>\n",
       "  </tbody>\n",
       "</table>\n",
       "</div>"
      ],
      "text/plain": [
       "       username                created_at  replies_count  retweets_count  \\\n",
       "0   Rima Prasad  2021-04-15T07:53:06.000Z            4.0             8.0   \n",
       "1      ��𝐀𝐍𝐃𝐄𝐄𝐏  2021-04-22T02:37:48.000Z            5.0           107.0   \n",
       "2    planetSetu  2021-04-25T10:34:37.000Z            NaN             1.0   \n",
       "3        Hiraan  2021-04-18T07:05:14.000Z            6.0            38.0   \n",
       "4  Manshi | My   2021-04-22T05:51:19.000Z            1.0            31.0   \n",
       "\n",
       "   likes_count                                              tweet language  \n",
       "0         55.0                        Helpline numbers\\n#Covid_19      NaN  \n",
       "1        103.0  The Centre for Disease Control and Prevention ...      NaN  \n",
       "2          1.0  #SocialDistancing is the key. Please follow al...      NaN  \n",
       "3        146.0  Pl wear a mask and maintain the distance and f...      NaN  \n",
       "4         13.0  List of PLASMA BANKS in WEST BENGAL for COVID ...      NaN  "
      ]
     },
     "execution_count": 41,
     "metadata": {},
     "output_type": "execute_result"
    }
   ],
   "source": [
    "april_KeyLT.head(5)"
   ]
  },
  {
   "cell_type": "code",
   "execution_count": 42,
   "metadata": {},
   "outputs": [],
   "source": [
    "april_KeyLT.to_csv(\"AprilRawAyush.csv\")"
   ]
  },
  {
   "cell_type": "code",
   "execution_count": 45,
   "metadata": {},
   "outputs": [],
   "source": [
    "april_KeyLT['language'] =april_KeyLT['language'].fillna('en')"
   ]
  },
  {
   "cell_type": "code",
   "execution_count": 46,
   "metadata": {},
   "outputs": [
    {
     "data": {
      "text/html": [
       "<div>\n",
       "<style scoped>\n",
       "    .dataframe tbody tr th:only-of-type {\n",
       "        vertical-align: middle;\n",
       "    }\n",
       "\n",
       "    .dataframe tbody tr th {\n",
       "        vertical-align: top;\n",
       "    }\n",
       "\n",
       "    .dataframe thead th {\n",
       "        text-align: right;\n",
       "    }\n",
       "</style>\n",
       "<table border=\"1\" class=\"dataframe\">\n",
       "  <thead>\n",
       "    <tr style=\"text-align: right;\">\n",
       "      <th></th>\n",
       "      <th>username</th>\n",
       "      <th>created_at</th>\n",
       "      <th>replies_count</th>\n",
       "      <th>retweets_count</th>\n",
       "      <th>likes_count</th>\n",
       "      <th>tweet</th>\n",
       "      <th>language</th>\n",
       "    </tr>\n",
       "  </thead>\n",
       "  <tbody>\n",
       "    <tr>\n",
       "      <th>0</th>\n",
       "      <td>Rima Prasad</td>\n",
       "      <td>2021-04-15T07:53:06.000Z</td>\n",
       "      <td>4.0</td>\n",
       "      <td>8.0</td>\n",
       "      <td>55.0</td>\n",
       "      <td>Helpline numbers\\n#Covid_19</td>\n",
       "      <td>en</td>\n",
       "    </tr>\n",
       "    <tr>\n",
       "      <th>1</th>\n",
       "      <td>��𝐀𝐍𝐃𝐄𝐄𝐏</td>\n",
       "      <td>2021-04-22T02:37:48.000Z</td>\n",
       "      <td>5.0</td>\n",
       "      <td>107.0</td>\n",
       "      <td>103.0</td>\n",
       "      <td>The Centre for Disease Control and Prevention ...</td>\n",
       "      <td>en</td>\n",
       "    </tr>\n",
       "    <tr>\n",
       "      <th>2</th>\n",
       "      <td>planetSetu</td>\n",
       "      <td>2021-04-25T10:34:37.000Z</td>\n",
       "      <td>NaN</td>\n",
       "      <td>1.0</td>\n",
       "      <td>1.0</td>\n",
       "      <td>#SocialDistancing is the key. Please follow al...</td>\n",
       "      <td>en</td>\n",
       "    </tr>\n",
       "    <tr>\n",
       "      <th>3</th>\n",
       "      <td>Hiraan</td>\n",
       "      <td>2021-04-18T07:05:14.000Z</td>\n",
       "      <td>6.0</td>\n",
       "      <td>38.0</td>\n",
       "      <td>146.0</td>\n",
       "      <td>Pl wear a mask and maintain the distance and f...</td>\n",
       "      <td>en</td>\n",
       "    </tr>\n",
       "    <tr>\n",
       "      <th>4</th>\n",
       "      <td>Manshi | My</td>\n",
       "      <td>2021-04-22T05:51:19.000Z</td>\n",
       "      <td>1.0</td>\n",
       "      <td>31.0</td>\n",
       "      <td>13.0</td>\n",
       "      <td>List of PLASMA BANKS in WEST BENGAL for COVID ...</td>\n",
       "      <td>en</td>\n",
       "    </tr>\n",
       "  </tbody>\n",
       "</table>\n",
       "</div>"
      ],
      "text/plain": [
       "       username                created_at  replies_count  retweets_count  \\\n",
       "0   Rima Prasad  2021-04-15T07:53:06.000Z            4.0             8.0   \n",
       "1      ��𝐀𝐍𝐃𝐄𝐄𝐏  2021-04-22T02:37:48.000Z            5.0           107.0   \n",
       "2    planetSetu  2021-04-25T10:34:37.000Z            NaN             1.0   \n",
       "3        Hiraan  2021-04-18T07:05:14.000Z            6.0            38.0   \n",
       "4  Manshi | My   2021-04-22T05:51:19.000Z            1.0            31.0   \n",
       "\n",
       "   likes_count                                              tweet language  \n",
       "0         55.0                        Helpline numbers\\n#Covid_19       en  \n",
       "1        103.0  The Centre for Disease Control and Prevention ...       en  \n",
       "2          1.0  #SocialDistancing is the key. Please follow al...       en  \n",
       "3        146.0  Pl wear a mask and maintain the distance and f...       en  \n",
       "4         13.0  List of PLASMA BANKS in WEST BENGAL for COVID ...       en  "
      ]
     },
     "execution_count": 46,
     "metadata": {},
     "output_type": "execute_result"
    }
   ],
   "source": [
    "april_KeyLT.head(5)"
   ]
  },
  {
   "cell_type": "code",
   "execution_count": 48,
   "metadata": {},
   "outputs": [],
   "source": [
    "for i in april_KeyLT['language']:\n",
    "    index_names = april_KeyLT[april_KeyLT['language']!='en' ].index\n",
    "    april_KeyLT.drop(index_names, inplace = True)"
   ]
  },
  {
   "cell_type": "code",
   "execution_count": 49,
   "metadata": {},
   "outputs": [
    {
     "data": {
      "text/plain": [
       "(651, 7)"
      ]
     },
     "execution_count": 49,
     "metadata": {},
     "output_type": "execute_result"
    }
   ],
   "source": [
    "april_KeyLT.shape"
   ]
  },
  {
   "cell_type": "code",
   "execution_count": 50,
   "metadata": {},
   "outputs": [],
   "source": [
    "april_KeyLT[['replies_count','likes_count','retweets_count',]] =april_KeyLT[['replies_count','likes_count','retweets_count',]].fillna(0)"
   ]
  },
  {
   "cell_type": "code",
   "execution_count": 51,
   "metadata": {},
   "outputs": [
    {
     "data": {
      "text/html": [
       "<div>\n",
       "<style scoped>\n",
       "    .dataframe tbody tr th:only-of-type {\n",
       "        vertical-align: middle;\n",
       "    }\n",
       "\n",
       "    .dataframe tbody tr th {\n",
       "        vertical-align: top;\n",
       "    }\n",
       "\n",
       "    .dataframe thead th {\n",
       "        text-align: right;\n",
       "    }\n",
       "</style>\n",
       "<table border=\"1\" class=\"dataframe\">\n",
       "  <thead>\n",
       "    <tr style=\"text-align: right;\">\n",
       "      <th></th>\n",
       "      <th>username</th>\n",
       "      <th>created_at</th>\n",
       "      <th>replies_count</th>\n",
       "      <th>retweets_count</th>\n",
       "      <th>likes_count</th>\n",
       "      <th>tweet</th>\n",
       "      <th>language</th>\n",
       "    </tr>\n",
       "  </thead>\n",
       "  <tbody>\n",
       "    <tr>\n",
       "      <th>3</th>\n",
       "      <td>Hiraan</td>\n",
       "      <td>2021-04-18T07:05:14.000Z</td>\n",
       "      <td>6.0</td>\n",
       "      <td>38.0</td>\n",
       "      <td>146.0</td>\n",
       "      <td>Pl wear a mask and maintain the distance and f...</td>\n",
       "      <td>en</td>\n",
       "    </tr>\n",
       "    <tr>\n",
       "      <th>4</th>\n",
       "      <td>Manshi | My</td>\n",
       "      <td>2021-04-22T05:51:19.000Z</td>\n",
       "      <td>1.0</td>\n",
       "      <td>31.0</td>\n",
       "      <td>13.0</td>\n",
       "      <td>List of PLASMA BANKS in WEST BENGAL for COVID ...</td>\n",
       "      <td>en</td>\n",
       "    </tr>\n",
       "    <tr>\n",
       "      <th>6</th>\n",
       "      <td>Jay Prakash Majumdar</td>\n",
       "      <td>2021-04-26T07:10:03.000Z</td>\n",
       "      <td>3.0</td>\n",
       "      <td>24.0</td>\n",
       "      <td>57.0</td>\n",
       "      <td>Completed the 2nd dose of Covid vaccination at...</td>\n",
       "      <td>en</td>\n",
       "    </tr>\n",
       "    <tr>\n",
       "      <th>8</th>\n",
       "      <td>Bishal</td>\n",
       "      <td>2021-04-19T04:23:40.000Z</td>\n",
       "      <td>0.0</td>\n",
       "      <td>1.0</td>\n",
       "      <td>1.0</td>\n",
       "      <td>Congratulations! We welcome Covid-19 so warmly...</td>\n",
       "      <td>en</td>\n",
       "    </tr>\n",
       "    <tr>\n",
       "      <th>9</th>\n",
       "      <td>K@USHIK</td>\n",
       "      <td>2021-04-07T09:59:10.000Z</td>\n",
       "      <td>0.0</td>\n",
       "      <td>0.0</td>\n",
       "      <td>0.0</td>\n",
       "      <td>Election campaign plus covid infection = zero ...</td>\n",
       "      <td>en</td>\n",
       "    </tr>\n",
       "    <tr>\n",
       "      <th>...</th>\n",
       "      <td>...</td>\n",
       "      <td>...</td>\n",
       "      <td>...</td>\n",
       "      <td>...</td>\n",
       "      <td>...</td>\n",
       "      <td>...</td>\n",
       "      <td>...</td>\n",
       "    </tr>\n",
       "    <tr>\n",
       "      <th>238</th>\n",
       "      <td>aagyaap</td>\n",
       "      <td>2021-04-27 23:20:29 India Standard Time</td>\n",
       "      <td>0.0</td>\n",
       "      <td>0.0</td>\n",
       "      <td>0.0</td>\n",
       "      <td>@Dipesh_uP Need remdesivir gujrat..</td>\n",
       "      <td>en</td>\n",
       "    </tr>\n",
       "    <tr>\n",
       "      <th>241</th>\n",
       "      <td>vatsaltailor3</td>\n",
       "      <td>2021-04-27 23:13:58 India Standard Time</td>\n",
       "      <td>2.0</td>\n",
       "      <td>29.0</td>\n",
       "      <td>13.0</td>\n",
       "      <td>@narendramodi @SonuSood @SoodFoundation @ashok...</td>\n",
       "      <td>en</td>\n",
       "    </tr>\n",
       "    <tr>\n",
       "      <th>245</th>\n",
       "      <td>_gocoronago_</td>\n",
       "      <td>2021-04-27 23:05:26 India Standard Time</td>\n",
       "      <td>2.0</td>\n",
       "      <td>3.0</td>\n",
       "      <td>1.0</td>\n",
       "      <td>Please RT SPO2- 39‼️ #Lucknow #Remdesivir #Fav...</td>\n",
       "      <td>en</td>\n",
       "    </tr>\n",
       "    <tr>\n",
       "      <th>246</th>\n",
       "      <td>nilesh9306</td>\n",
       "      <td>2021-04-27 23:03:16 India Standard Time</td>\n",
       "      <td>0.0</td>\n",
       "      <td>1.0</td>\n",
       "      <td>0.0</td>\n",
       "      <td>@PMOIndia Dear Sir, I am Covid positive and su...</td>\n",
       "      <td>en</td>\n",
       "    </tr>\n",
       "    <tr>\n",
       "      <th>248</th>\n",
       "      <td>seemas_khan</td>\n",
       "      <td>2021-04-27 23:00:52 India Standard Time</td>\n",
       "      <td>9.0</td>\n",
       "      <td>8.0</td>\n",
       "      <td>32.0</td>\n",
       "      <td>With Remdesivir,  Azumab, Barcitinib not avail...</td>\n",
       "      <td>en</td>\n",
       "    </tr>\n",
       "  </tbody>\n",
       "</table>\n",
       "<p>651 rows × 7 columns</p>\n",
       "</div>"
      ],
      "text/plain": [
       "                 username                               created_at  \\\n",
       "3                  Hiraan                 2021-04-18T07:05:14.000Z   \n",
       "4            Manshi | My                  2021-04-22T05:51:19.000Z   \n",
       "6    Jay Prakash Majumdar                 2021-04-26T07:10:03.000Z   \n",
       "8                  Bishal                 2021-04-19T04:23:40.000Z   \n",
       "9                 K@USHIK                 2021-04-07T09:59:10.000Z   \n",
       "..                    ...                                      ...   \n",
       "238               aagyaap  2021-04-27 23:20:29 India Standard Time   \n",
       "241         vatsaltailor3  2021-04-27 23:13:58 India Standard Time   \n",
       "245          _gocoronago_  2021-04-27 23:05:26 India Standard Time   \n",
       "246            nilesh9306  2021-04-27 23:03:16 India Standard Time   \n",
       "248           seemas_khan  2021-04-27 23:00:52 India Standard Time   \n",
       "\n",
       "     replies_count  retweets_count  likes_count  \\\n",
       "3              6.0            38.0        146.0   \n",
       "4              1.0            31.0         13.0   \n",
       "6              3.0            24.0         57.0   \n",
       "8              0.0             1.0          1.0   \n",
       "9              0.0             0.0          0.0   \n",
       "..             ...             ...          ...   \n",
       "238            0.0             0.0          0.0   \n",
       "241            2.0            29.0         13.0   \n",
       "245            2.0             3.0          1.0   \n",
       "246            0.0             1.0          0.0   \n",
       "248            9.0             8.0         32.0   \n",
       "\n",
       "                                                 tweet language  \n",
       "3    Pl wear a mask and maintain the distance and f...       en  \n",
       "4    List of PLASMA BANKS in WEST BENGAL for COVID ...       en  \n",
       "6    Completed the 2nd dose of Covid vaccination at...       en  \n",
       "8    Congratulations! We welcome Covid-19 so warmly...       en  \n",
       "9    Election campaign plus covid infection = zero ...       en  \n",
       "..                                                 ...      ...  \n",
       "238                @Dipesh_uP Need remdesivir gujrat..       en  \n",
       "241  @narendramodi @SonuSood @SoodFoundation @ashok...       en  \n",
       "245  Please RT SPO2- 39‼️ #Lucknow #Remdesivir #Fav...       en  \n",
       "246  @PMOIndia Dear Sir, I am Covid positive and su...       en  \n",
       "248  With Remdesivir,  Azumab, Barcitinib not avail...       en  \n",
       "\n",
       "[651 rows x 7 columns]"
      ]
     },
     "execution_count": 51,
     "metadata": {},
     "output_type": "execute_result"
    }
   ],
   "source": [
    "april_KeyLT"
   ]
  },
  {
   "cell_type": "code",
   "execution_count": 52,
   "metadata": {},
   "outputs": [],
   "source": [
    "april_KeyLT.to_csv(\"AprilTweetAyushFinal.csv\")"
   ]
  }
 ],
 "metadata": {
  "interpreter": {
   "hash": "0e861e0b67293902224e9acfb8ab2e3cf2b4facd370dfc6bbb77427def9848a9"
  },
  "kernelspec": {
   "display_name": "Python 3.8.8 ('base')",
   "language": "python",
   "name": "python3"
  },
  "language_info": {
   "codemirror_mode": {
    "name": "ipython",
    "version": 3
   },
   "file_extension": ".py",
   "mimetype": "text/x-python",
   "name": "python",
   "nbconvert_exporter": "python",
   "pygments_lexer": "ipython3",
   "version": "3.9.6"
  },
  "orig_nbformat": 4
 },
 "nbformat": 4,
 "nbformat_minor": 2
}
