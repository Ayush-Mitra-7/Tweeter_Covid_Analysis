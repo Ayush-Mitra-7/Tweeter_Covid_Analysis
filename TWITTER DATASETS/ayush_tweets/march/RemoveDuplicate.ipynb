{
 "cells": [
  {
   "cell_type": "markdown",
   "id": "d3c25e2a",
   "metadata": {},
   "source": [
    "## March Tweets :-<br>\n",
    "## Removing Duplicates and merging them"
   ]
  },
  {
   "cell_type": "code",
   "execution_count": 2,
   "id": "4fec6eda",
   "metadata": {},
   "outputs": [],
   "source": [
    "import numpy as np\n",
    "import pandas as pd"
   ]
  },
  {
   "cell_type": "code",
   "execution_count": 4,
   "id": "4f0c16db",
   "metadata": {},
   "outputs": [],
   "source": [
    "march_covid=pd.read_csv('marchT-covid.csv')"
   ]
  },
  {
   "cell_type": "code",
   "execution_count": 7,
   "id": "f8babe0c",
   "metadata": {},
   "outputs": [
    {
     "data": {
      "text/html": [
       "<div>\n",
       "<style scoped>\n",
       "    .dataframe tbody tr th:only-of-type {\n",
       "        vertical-align: middle;\n",
       "    }\n",
       "\n",
       "    .dataframe tbody tr th {\n",
       "        vertical-align: top;\n",
       "    }\n",
       "\n",
       "    .dataframe thead th {\n",
       "        text-align: right;\n",
       "    }\n",
       "</style>\n",
       "<table border=\"1\" class=\"dataframe\">\n",
       "  <thead>\n",
       "    <tr style=\"text-align: right;\">\n",
       "      <th></th>\n",
       "      <th>id</th>\n",
       "      <th>conversation_id</th>\n",
       "      <th>created_at</th>\n",
       "      <th>date</th>\n",
       "      <th>time</th>\n",
       "      <th>timezone</th>\n",
       "      <th>user_id</th>\n",
       "      <th>username</th>\n",
       "      <th>name</th>\n",
       "      <th>place</th>\n",
       "      <th>...</th>\n",
       "      <th>geo</th>\n",
       "      <th>source</th>\n",
       "      <th>user_rt_id</th>\n",
       "      <th>user_rt</th>\n",
       "      <th>retweet_id</th>\n",
       "      <th>reply_to</th>\n",
       "      <th>retweet_date</th>\n",
       "      <th>translate</th>\n",
       "      <th>trans_src</th>\n",
       "      <th>trans_dest</th>\n",
       "    </tr>\n",
       "  </thead>\n",
       "  <tbody>\n",
       "    <tr>\n",
       "      <th>0</th>\n",
       "      <td>1.380000e+18</td>\n",
       "      <td>1.380000e+18</td>\n",
       "      <td>2021-03-30 05:14:05 India Standard Time</td>\n",
       "      <td>30-03-21</td>\n",
       "      <td>05:14:05</td>\n",
       "      <td>530</td>\n",
       "      <td>8.370000e+17</td>\n",
       "      <td>sipgrab</td>\n",
       "      <td>SipGrab</td>\n",
       "      <td>{'type': 'Point', 'coordinates': [19.00117717,...</td>\n",
       "      <td>...</td>\n",
       "      <td>NaN</td>\n",
       "      <td>NaN</td>\n",
       "      <td>NaN</td>\n",
       "      <td>NaN</td>\n",
       "      <td>NaN</td>\n",
       "      <td>[]</td>\n",
       "      <td>NaN</td>\n",
       "      <td>NaN</td>\n",
       "      <td>NaN</td>\n",
       "      <td>NaN</td>\n",
       "    </tr>\n",
       "    <tr>\n",
       "      <th>1</th>\n",
       "      <td>1.380000e+18</td>\n",
       "      <td>1.380000e+18</td>\n",
       "      <td>2021-03-30 05:01:42 India Standard Time</td>\n",
       "      <td>30-03-21</td>\n",
       "      <td>05:01:42</td>\n",
       "      <td>530</td>\n",
       "      <td>1.594367e+08</td>\n",
       "      <td>pontianakterek</td>\n",
       "      <td>PONTIANAKTEREK</td>\n",
       "      <td>NaN</td>\n",
       "      <td>...</td>\n",
       "      <td>NaN</td>\n",
       "      <td>NaN</td>\n",
       "      <td>NaN</td>\n",
       "      <td>NaN</td>\n",
       "      <td>NaN</td>\n",
       "      <td>[]</td>\n",
       "      <td>NaN</td>\n",
       "      <td>NaN</td>\n",
       "      <td>NaN</td>\n",
       "      <td>NaN</td>\n",
       "    </tr>\n",
       "  </tbody>\n",
       "</table>\n",
       "<p>2 rows × 36 columns</p>\n",
       "</div>"
      ],
      "text/plain": [
       "             id  conversation_id                               created_at  \\\n",
       "0  1.380000e+18     1.380000e+18  2021-03-30 05:14:05 India Standard Time   \n",
       "1  1.380000e+18     1.380000e+18  2021-03-30 05:01:42 India Standard Time   \n",
       "\n",
       "       date      time  timezone       user_id        username            name  \\\n",
       "0  30-03-21  05:14:05       530  8.370000e+17         sipgrab         SipGrab   \n",
       "1  30-03-21  05:01:42       530  1.594367e+08  pontianakterek  PONTIANAKTEREK   \n",
       "\n",
       "                                               place  ... geo source  \\\n",
       "0  {'type': 'Point', 'coordinates': [19.00117717,...  ... NaN    NaN   \n",
       "1                                                NaN  ... NaN    NaN   \n",
       "\n",
       "  user_rt_id user_rt retweet_id  reply_to  retweet_date  translate trans_src  \\\n",
       "0        NaN     NaN        NaN        []           NaN        NaN       NaN   \n",
       "1        NaN     NaN        NaN        []           NaN        NaN       NaN   \n",
       "\n",
       "  trans_dest  \n",
       "0        NaN  \n",
       "1        NaN  \n",
       "\n",
       "[2 rows x 36 columns]"
      ]
     },
     "execution_count": 7,
     "metadata": {},
     "output_type": "execute_result"
    }
   ],
   "source": [
    "march_covid.head(2)"
   ]
  },
  {
   "cell_type": "markdown",
   "id": "33062583",
   "metadata": {},
   "source": [
    "## Checking for Duplicates in marchT-covid"
   ]
  },
  {
   "cell_type": "code",
   "execution_count": 12,
   "id": "7c27388e",
   "metadata": {},
   "outputs": [
    {
     "data": {
      "text/plain": [
       "(0, 36)"
      ]
     },
     "execution_count": 12,
     "metadata": {},
     "output_type": "execute_result"
    }
   ],
   "source": [
    "duplicates=march_covid[march_covid.duplicated()]\n",
    "duplicates.shape"
   ]
  },
  {
   "cell_type": "markdown",
   "id": "222abc7a",
   "metadata": {},
   "source": [
    "### as rows is zero in (0,36) so it doesnot have any duplicated element"
   ]
  },
  {
   "cell_type": "code",
   "execution_count": 11,
   "id": "677ae24e",
   "metadata": {},
   "outputs": [],
   "source": [
    "march_remdesivir=pd.read_csv('marchT-remdesivir.csv')"
   ]
  },
  {
   "cell_type": "markdown",
   "id": "d775fc73",
   "metadata": {},
   "source": [
    "## Checking for Duplicates in marchT-remdesivir"
   ]
  },
  {
   "cell_type": "code",
   "execution_count": 13,
   "id": "74f61918",
   "metadata": {},
   "outputs": [
    {
     "data": {
      "text/plain": [
       "(5, 36)"
      ]
     },
     "execution_count": 13,
     "metadata": {},
     "output_type": "execute_result"
    }
   ],
   "source": [
    "duplicates=march_remdesivir[march_remdesivir.duplicated()]\n",
    "duplicates.shape"
   ]
  },
  {
   "cell_type": "markdown",
   "id": "9d172335",
   "metadata": {},
   "source": [
    "### as rows is five in (5,36) so it  has 5 duplicated element,now we have to delete them from the dataframe"
   ]
  },
  {
   "cell_type": "code",
   "execution_count": 14,
   "id": "4bed5a5a",
   "metadata": {},
   "outputs": [],
   "source": [
    "march_remdesivir.drop_duplicates(keep =\"first\", inplace = True)"
   ]
  },
  {
   "cell_type": "code",
   "execution_count": 15,
   "id": "0200a416",
   "metadata": {},
   "outputs": [
    {
     "data": {
      "text/plain": [
       "(0, 36)"
      ]
     },
     "execution_count": 15,
     "metadata": {},
     "output_type": "execute_result"
    }
   ],
   "source": [
    "duplicates=march_remdesivir[march_remdesivir.duplicated()]\n",
    "duplicates.shape"
   ]
  },
  {
   "cell_type": "markdown",
   "id": "0ee1091d",
   "metadata": {},
   "source": [
    "### as rows is zero in (0,36) so it doesnot have any duplicated element"
   ]
  },
  {
   "cell_type": "code",
   "execution_count": 16,
   "id": "0874430e",
   "metadata": {},
   "outputs": [],
   "source": [
    "march_Covid_19=pd.read_csv('marchT-Covid_19.csv')"
   ]
  },
  {
   "cell_type": "markdown",
   "id": "0515010b",
   "metadata": {},
   "source": [
    "## Checking for Duplicates in marchT-Covid_19"
   ]
  },
  {
   "cell_type": "code",
   "execution_count": 17,
   "id": "15f018ef",
   "metadata": {},
   "outputs": [
    {
     "data": {
      "text/plain": [
       "(0, 36)"
      ]
     },
     "execution_count": 17,
     "metadata": {},
     "output_type": "execute_result"
    }
   ],
   "source": [
    "duplicates=march_Covid_19[march_Covid_19.duplicated()]\n",
    "duplicates.shape"
   ]
  },
  {
   "cell_type": "markdown",
   "id": "a2ee948b",
   "metadata": {},
   "source": [
    "### as rows is zero in (0,36) so it doesnot have any duplicated element"
   ]
  },
  {
   "cell_type": "markdown",
   "id": "aca7867a",
   "metadata": {},
   "source": [
    "## Now we have to merge all three of them without dupliactes"
   ]
  },
  {
   "cell_type": "code",
   "execution_count": 18,
   "id": "b066518c",
   "metadata": {},
   "outputs": [],
   "source": [
    "March_Temp =pd.concat([march_Covid_19, march_covid]).drop_duplicates()"
   ]
  },
  {
   "cell_type": "code",
   "execution_count": 20,
   "id": "b578b2a2",
   "metadata": {},
   "outputs": [
    {
     "data": {
      "text/plain": [
       "(516, 36)"
      ]
     },
     "execution_count": 20,
     "metadata": {},
     "output_type": "execute_result"
    }
   ],
   "source": [
    "March_Temp.shape"
   ]
  },
  {
   "cell_type": "code",
   "execution_count": 21,
   "id": "40d98e30",
   "metadata": {},
   "outputs": [
    {
     "data": {
      "text/plain": [
       "(0, 36)"
      ]
     },
     "execution_count": 21,
     "metadata": {},
     "output_type": "execute_result"
    }
   ],
   "source": [
    "duplicates=March_Temp[March_Temp.duplicated()]\n",
    "duplicates.shape"
   ]
  },
  {
   "cell_type": "code",
   "execution_count": 22,
   "id": "c7972bdd",
   "metadata": {},
   "outputs": [],
   "source": [
    "March_Keyword_Ayush =pd.concat([March_Temp, march_remdesivir]).drop_duplicates()"
   ]
  },
  {
   "cell_type": "code",
   "execution_count": 23,
   "id": "3907c4e4",
   "metadata": {},
   "outputs": [
    {
     "data": {
      "text/plain": [
       "(0, 36)"
      ]
     },
     "execution_count": 23,
     "metadata": {},
     "output_type": "execute_result"
    }
   ],
   "source": [
    "duplicates=March_Keyword_Ayush[March_Keyword_Ayush.duplicated()]\n",
    "duplicates.shape"
   ]
  },
  {
   "cell_type": "code",
   "execution_count": 24,
   "id": "56f6b9d4",
   "metadata": {},
   "outputs": [
    {
     "data": {
      "text/plain": [
       "(525, 36)"
      ]
     },
     "execution_count": 24,
     "metadata": {},
     "output_type": "execute_result"
    }
   ],
   "source": [
    "March_Keyword_Ayush.shape"
   ]
  },
  {
   "cell_type": "markdown",
   "id": "5935d0ef",
   "metadata": {},
   "source": [
    "## Now we have to Store the new Dataframe into a new CSV"
   ]
  },
  {
   "cell_type": "code",
   "execution_count": 25,
   "id": "c0c317f3",
   "metadata": {},
   "outputs": [],
   "source": [
    "March_Keyword_Ayush.to_csv('March_Keywords_Ayush.csv')"
   ]
  },
  {
   "cell_type": "markdown",
   "id": "26e7444b",
   "metadata": {},
   "source": [
    "# ------------------------------END-----------------------------"
   ]
  }
 ],
 "metadata": {
  "kernelspec": {
   "display_name": "Python 3",
   "language": "python",
   "name": "python3"
  },
  "language_info": {
   "codemirror_mode": {
    "name": "ipython",
    "version": 3
   },
   "file_extension": ".py",
   "mimetype": "text/x-python",
   "name": "python",
   "nbconvert_exporter": "python",
   "pygments_lexer": "ipython3",
   "version": "3.9.6"
  }
 },
 "nbformat": 4,
 "nbformat_minor": 5
}
