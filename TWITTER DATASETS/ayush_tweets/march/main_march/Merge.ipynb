{
 "cells": [
  {
   "cell_type": "code",
   "execution_count": 1,
   "metadata": {},
   "outputs": [],
   "source": [
    "import pandas as pd\n",
    "import numpy as np"
   ]
  },
  {
   "cell_type": "code",
   "execution_count": 2,
   "metadata": {},
   "outputs": [],
   "source": [
    "march_covid=pd.read_csv('marchT-covid.csv')\n",
    "march_Covid_19=pd.read_csv('marchT-Covid_19.csv')\n",
    "march_remdesivir=pd.read_csv('marchT-remdesivir.csv')"
   ]
  },
  {
   "cell_type": "code",
   "execution_count": 4,
   "metadata": {},
   "outputs": [],
   "source": [
    "March_temp=pd.concat([march_Covid_19, march_remdesivir])\n",
    "March1=pd.concat([march_covid,March_temp])"
   ]
  },
  {
   "cell_type": "code",
   "execution_count": 5,
   "metadata": {},
   "outputs": [
    {
     "data": {
      "text/plain": [
       "(536, 36)"
      ]
     },
     "execution_count": 5,
     "metadata": {},
     "output_type": "execute_result"
    }
   ],
   "source": [
    "March1.shape"
   ]
  },
  {
   "cell_type": "code",
   "execution_count": 11,
   "metadata": {},
   "outputs": [],
   "source": [
    "march_Top=pd.read_csv('Covid_tweets(march-2021-topSection).csv')\n",
    "march_Latest=pd.read_csv('Covid_tweets(march-2021-latest).csv')"
   ]
  },
  {
   "cell_type": "code",
   "execution_count": 12,
   "metadata": {},
   "outputs": [
    {
     "data": {
      "text/plain": [
       "Index(['UserName', 'Userhandle', 'Time', 'comments', 'likes', 'retweets',\n",
       "       'Tweet'],\n",
       "      dtype='object')"
      ]
     },
     "execution_count": 12,
     "metadata": {},
     "output_type": "execute_result"
    }
   ],
   "source": [
    "march_Top.columns"
   ]
  },
  {
   "cell_type": "code",
   "execution_count": 13,
   "metadata": {},
   "outputs": [
    {
     "data": {
      "text/plain": [
       "Index(['UserName', 'Userhandle', 'Time', 'comments', 'retweets', 'likes',\n",
       "       'Tweet'],\n",
       "      dtype='object')"
      ]
     },
     "execution_count": 13,
     "metadata": {},
     "output_type": "execute_result"
    }
   ],
   "source": [
    "march_Latest.columns"
   ]
  },
  {
   "cell_type": "code",
   "execution_count": 14,
   "metadata": {},
   "outputs": [],
   "source": [
    "march2=pd.concat([march_Latest, march_Top])"
   ]
  },
  {
   "cell_type": "code",
   "execution_count": 15,
   "metadata": {},
   "outputs": [
    {
     "data": {
      "text/plain": [
       "Index(['UserName', 'Userhandle', 'Time', 'comments', 'retweets', 'likes',\n",
       "       'Tweet'],\n",
       "      dtype='object')"
      ]
     },
     "execution_count": 15,
     "metadata": {},
     "output_type": "execute_result"
    }
   ],
   "source": [
    "march2.columns"
   ]
  },
  {
   "cell_type": "code",
   "execution_count": 17,
   "metadata": {},
   "outputs": [],
   "source": [
    "march2.drop(['Userhandle'],axis=1,inplace=True)"
   ]
  },
  {
   "cell_type": "code",
   "execution_count": 18,
   "metadata": {},
   "outputs": [
    {
     "data": {
      "text/plain": [
       "Index(['UserName', 'Time', 'comments', 'retweets', 'likes', 'Tweet'], dtype='object')"
      ]
     },
     "execution_count": 18,
     "metadata": {},
     "output_type": "execute_result"
    }
   ],
   "source": [
    "march2.columns"
   ]
  },
  {
   "cell_type": "code",
   "execution_count": 19,
   "metadata": {},
   "outputs": [],
   "source": [
    "march2=march2.rename(columns={'UserName':'username','Time':'created_at','comments':'replies_count','retweets':'retweets_count','likes':'likes_count','Tweet':'tweet'})"
   ]
  },
  {
   "cell_type": "code",
   "execution_count": 20,
   "metadata": {},
   "outputs": [
    {
     "data": {
      "text/plain": [
       "Index(['username', 'created_at', 'replies_count', 'retweets_count',\n",
       "       'likes_count', 'tweet'],\n",
       "      dtype='object')"
      ]
     },
     "execution_count": 20,
     "metadata": {},
     "output_type": "execute_result"
    }
   ],
   "source": [
    "march2.columns"
   ]
  },
  {
   "cell_type": "code",
   "execution_count": 23,
   "metadata": {},
   "outputs": [],
   "source": [
    "march2[\"language\"]='en'"
   ]
  },
  {
   "cell_type": "code",
   "execution_count": 24,
   "metadata": {},
   "outputs": [
    {
     "data": {
      "text/plain": [
       "Index(['username', 'created_at', 'replies_count', 'retweets_count',\n",
       "       'likes_count', 'tweet', 'language'],\n",
       "      dtype='object')"
      ]
     },
     "execution_count": 24,
     "metadata": {},
     "output_type": "execute_result"
    }
   ],
   "source": [
    "march2.columns"
   ]
  },
  {
   "cell_type": "code",
   "execution_count": 25,
   "metadata": {},
   "outputs": [
    {
     "data": {
      "text/plain": [
       "(536, 7)"
      ]
     },
     "execution_count": 25,
     "metadata": {},
     "output_type": "execute_result"
    }
   ],
   "source": [
    "March1.drop(['trans_dest', 'trans_src', 'retweet_id', 'reply_to', 'retweet_date', 'translate', 'geo', 'source', 'user_rt_id', 'user_rt', 'video', 'thumbnail', 'quote_url', 'near',\n",
    "                 'id', 'conversation_id', 'date', 'time', 'place', 'mentions', 'urls', 'photos', 'hashtags', 'cashtags', 'link', 'retweet', 'timezone', 'user_id', 'name'], axis=1, inplace=True)\n",
    "March1.shape"
   ]
  },
  {
   "cell_type": "code",
   "execution_count": 26,
   "metadata": {},
   "outputs": [
    {
     "data": {
      "text/plain": [
       "(148, 7)"
      ]
     },
     "execution_count": 26,
     "metadata": {},
     "output_type": "execute_result"
    }
   ],
   "source": [
    "march2.shape"
   ]
  },
  {
   "cell_type": "code",
   "execution_count": 27,
   "metadata": {},
   "outputs": [],
   "source": [
    "March_Raw=pd.concat([March1, march2])"
   ]
  },
  {
   "cell_type": "code",
   "execution_count": 28,
   "metadata": {},
   "outputs": [
    {
     "data": {
      "text/plain": [
       "(684, 7)"
      ]
     },
     "execution_count": 28,
     "metadata": {},
     "output_type": "execute_result"
    }
   ],
   "source": [
    "March_Raw.shape"
   ]
  },
  {
   "cell_type": "code",
   "execution_count": 29,
   "metadata": {},
   "outputs": [
    {
     "data": {
      "text/plain": [
       "Index(['created_at', 'username', 'tweet', 'language', 'replies_count',\n",
       "       'retweets_count', 'likes_count'],\n",
       "      dtype='object')"
      ]
     },
     "execution_count": 29,
     "metadata": {},
     "output_type": "execute_result"
    }
   ],
   "source": [
    "March_Raw.columns"
   ]
  },
  {
   "cell_type": "code",
   "execution_count": 30,
   "metadata": {},
   "outputs": [],
   "source": [
    "March_Raw.to_csv('March_Ayush_Raw.csv')"
   ]
  },
  {
   "cell_type": "code",
   "execution_count": 32,
   "metadata": {},
   "outputs": [
    {
     "data": {
      "text/html": [
       "<div>\n",
       "<style scoped>\n",
       "    .dataframe tbody tr th:only-of-type {\n",
       "        vertical-align: middle;\n",
       "    }\n",
       "\n",
       "    .dataframe tbody tr th {\n",
       "        vertical-align: top;\n",
       "    }\n",
       "\n",
       "    .dataframe thead th {\n",
       "        text-align: right;\n",
       "    }\n",
       "</style>\n",
       "<table border=\"1\" class=\"dataframe\">\n",
       "  <thead>\n",
       "    <tr style=\"text-align: right;\">\n",
       "      <th></th>\n",
       "      <th>created_at</th>\n",
       "      <th>username</th>\n",
       "      <th>tweet</th>\n",
       "      <th>language</th>\n",
       "      <th>replies_count</th>\n",
       "      <th>retweets_count</th>\n",
       "      <th>likes_count</th>\n",
       "    </tr>\n",
       "  </thead>\n",
       "  <tbody>\n",
       "    <tr>\n",
       "      <th>0</th>\n",
       "      <td>2021-03-30 05:14:05 India Standard Time</td>\n",
       "      <td>sipgrab</td>\n",
       "      <td>Not much love for COVID-19 vaccine at Miami Op...</td>\n",
       "      <td>en</td>\n",
       "      <td>0.0</td>\n",
       "      <td>0.0</td>\n",
       "      <td>0.0</td>\n",
       "    </tr>\n",
       "    <tr>\n",
       "      <th>1</th>\n",
       "      <td>2021-03-30 05:01:42 India Standard Time</td>\n",
       "      <td>pontianakterek</td>\n",
       "      <td>Personil polresta melaksanakan piket jaga mako...</td>\n",
       "      <td>in</td>\n",
       "      <td>0.0</td>\n",
       "      <td>0.0</td>\n",
       "      <td>1.0</td>\n",
       "    </tr>\n",
       "    <tr>\n",
       "      <th>2</th>\n",
       "      <td>2021-03-30 04:58:05 India Standard Time</td>\n",
       "      <td>sipgrab</td>\n",
       "      <td>Britons worry less about COVID and Brexit, but...</td>\n",
       "      <td>en</td>\n",
       "      <td>0.0</td>\n",
       "      <td>0.0</td>\n",
       "      <td>0.0</td>\n",
       "    </tr>\n",
       "    <tr>\n",
       "      <th>3</th>\n",
       "      <td>2021-03-30 04:49:59 India Standard Time</td>\n",
       "      <td>neeraj19453318</td>\n",
       "      <td>@PawarSpeaks @narendramodi @PMOIndia Ye budhe ...</td>\n",
       "      <td>hi</td>\n",
       "      <td>0.0</td>\n",
       "      <td>0.0</td>\n",
       "      <td>0.0</td>\n",
       "    </tr>\n",
       "    <tr>\n",
       "      <th>4</th>\n",
       "      <td>2021-03-30 04:34:43 India Standard Time</td>\n",
       "      <td>richardbarrow</td>\n",
       "      <td>I just arrived at school and noticed that the ...</td>\n",
       "      <td>en</td>\n",
       "      <td>3.0</td>\n",
       "      <td>9.0</td>\n",
       "      <td>80.0</td>\n",
       "    </tr>\n",
       "    <tr>\n",
       "      <th>...</th>\n",
       "      <td>...</td>\n",
       "      <td>...</td>\n",
       "      <td>...</td>\n",
       "      <td>...</td>\n",
       "      <td>...</td>\n",
       "      <td>...</td>\n",
       "      <td>...</td>\n",
       "    </tr>\n",
       "    <tr>\n",
       "      <th>62</th>\n",
       "      <td>2021-03-03T15:07:35.000Z</td>\n",
       "      <td>Mridul Sen</td>\n",
       "      <td>@CMOMaharashtra\\n If you guys cannot control c...</td>\n",
       "      <td>en</td>\n",
       "      <td>NaN</td>\n",
       "      <td>NaN</td>\n",
       "      <td>NaN</td>\n",
       "    </tr>\n",
       "    <tr>\n",
       "      <th>63</th>\n",
       "      <td>2021-03-20T05:16:18.000Z</td>\n",
       "      <td>Yoriichi Tsugikuni</td>\n",
       "      <td>@MamataOfficial\\n \\n@BanglarGorboMB\\n \\n@AITCo...</td>\n",
       "      <td>en</td>\n",
       "      <td>NaN</td>\n",
       "      <td>NaN</td>\n",
       "      <td>NaN</td>\n",
       "    </tr>\n",
       "    <tr>\n",
       "      <th>64</th>\n",
       "      <td>2021-03-09T16:19:39.000Z</td>\n",
       "      <td>Amit Mukherjee</td>\n",
       "      <td>Replying to \\n@RailwaySeva</td>\n",
       "      <td>en</td>\n",
       "      <td>NaN</td>\n",
       "      <td>NaN</td>\n",
       "      <td>NaN</td>\n",
       "    </tr>\n",
       "    <tr>\n",
       "      <th>65</th>\n",
       "      <td>2021-03-14T03:07:58.000Z</td>\n",
       "      <td>Purushottam Prashar</td>\n",
       "      <td>@narendramodi\\n \\n@drharshvardhan\\n Dear sir r...</td>\n",
       "      <td>en</td>\n",
       "      <td>1.0</td>\n",
       "      <td>1.0</td>\n",
       "      <td>1.0</td>\n",
       "    </tr>\n",
       "    <tr>\n",
       "      <th>66</th>\n",
       "      <td>2021-03-14T13:59:24.000Z</td>\n",
       "      <td>Purushottam Prashar</td>\n",
       "      <td>@narendramodi\\n \\n@drharshvardhan\\n \\n@aajtak\\...</td>\n",
       "      <td>en</td>\n",
       "      <td>NaN</td>\n",
       "      <td>1.0</td>\n",
       "      <td>1.0</td>\n",
       "    </tr>\n",
       "  </tbody>\n",
       "</table>\n",
       "<p>684 rows × 7 columns</p>\n",
       "</div>"
      ],
      "text/plain": [
       "                                 created_at             username  \\\n",
       "0   2021-03-30 05:14:05 India Standard Time              sipgrab   \n",
       "1   2021-03-30 05:01:42 India Standard Time       pontianakterek   \n",
       "2   2021-03-30 04:58:05 India Standard Time              sipgrab   \n",
       "3   2021-03-30 04:49:59 India Standard Time       neeraj19453318   \n",
       "4   2021-03-30 04:34:43 India Standard Time        richardbarrow   \n",
       "..                                      ...                  ...   \n",
       "62                 2021-03-03T15:07:35.000Z           Mridul Sen   \n",
       "63                 2021-03-20T05:16:18.000Z   Yoriichi Tsugikuni   \n",
       "64                 2021-03-09T16:19:39.000Z       Amit Mukherjee   \n",
       "65                 2021-03-14T03:07:58.000Z  Purushottam Prashar   \n",
       "66                 2021-03-14T13:59:24.000Z  Purushottam Prashar   \n",
       "\n",
       "                                                tweet language  replies_count  \\\n",
       "0   Not much love for COVID-19 vaccine at Miami Op...       en            0.0   \n",
       "1   Personil polresta melaksanakan piket jaga mako...       in            0.0   \n",
       "2   Britons worry less about COVID and Brexit, but...       en            0.0   \n",
       "3   @PawarSpeaks @narendramodi @PMOIndia Ye budhe ...       hi            0.0   \n",
       "4   I just arrived at school and noticed that the ...       en            3.0   \n",
       "..                                                ...      ...            ...   \n",
       "62  @CMOMaharashtra\\n If you guys cannot control c...       en            NaN   \n",
       "63  @MamataOfficial\\n \\n@BanglarGorboMB\\n \\n@AITCo...       en            NaN   \n",
       "64                         Replying to \\n@RailwaySeva       en            NaN   \n",
       "65  @narendramodi\\n \\n@drharshvardhan\\n Dear sir r...       en            1.0   \n",
       "66  @narendramodi\\n \\n@drharshvardhan\\n \\n@aajtak\\...       en            NaN   \n",
       "\n",
       "    retweets_count  likes_count  \n",
       "0              0.0          0.0  \n",
       "1              0.0          1.0  \n",
       "2              0.0          0.0  \n",
       "3              0.0          0.0  \n",
       "4              9.0         80.0  \n",
       "..             ...          ...  \n",
       "62             NaN          NaN  \n",
       "63             NaN          NaN  \n",
       "64             NaN          NaN  \n",
       "65             1.0          1.0  \n",
       "66             1.0          1.0  \n",
       "\n",
       "[684 rows x 7 columns]"
      ]
     },
     "execution_count": 32,
     "metadata": {},
     "output_type": "execute_result"
    }
   ],
   "source": [
    "March_Raw"
   ]
  },
  {
   "cell_type": "code",
   "execution_count": null,
   "metadata": {},
   "outputs": [],
   "source": []
  }
 ],
 "metadata": {
  "interpreter": {
   "hash": "0e861e0b67293902224e9acfb8ab2e3cf2b4facd370dfc6bbb77427def9848a9"
  },
  "kernelspec": {
   "display_name": "Python 3.8.8 ('base')",
   "language": "python",
   "name": "python3"
  },
  "language_info": {
   "codemirror_mode": {
    "name": "ipython",
    "version": 3
   },
   "file_extension": ".py",
   "mimetype": "text/x-python",
   "name": "python",
   "nbconvert_exporter": "python",
   "pygments_lexer": "ipython3",
   "version": "3.8.8"
  },
  "orig_nbformat": 4
 },
 "nbformat": 4,
 "nbformat_minor": 2
}
