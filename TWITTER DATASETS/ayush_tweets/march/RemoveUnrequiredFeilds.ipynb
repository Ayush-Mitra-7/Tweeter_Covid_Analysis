{
 "cells": [
  {
   "cell_type": "code",
   "execution_count": 1,
   "metadata": {},
   "outputs": [],
   "source": [
    "import pandas as pd\n",
    "import numpy as np"
   ]
  },
  {
   "cell_type": "code",
   "execution_count": 8,
   "id": "24b0ec65",
   "metadata": {},
   "outputs": [],
   "source": [
    "march=pd.read_csv(\"March_Keywords_Ayush.csv\")\n",
    "marchL=pd.read_csv(\"Covid_tweets(march-2021-latest).csv\")"
   ]
  },
  {
   "cell_type": "code",
   "execution_count": 3,
   "id": "0a04cd51",
   "metadata": {},
   "outputs": [
    {
     "data": {
      "text/plain": [
       "(525, 37)"
      ]
     },
     "execution_count": 3,
     "metadata": {},
     "output_type": "execute_result"
    }
   ],
   "source": [
    "march.shape"
   ]
  },
  {
   "cell_type": "code",
   "execution_count": 4,
   "id": "31142a61",
   "metadata": {},
   "outputs": [
    {
     "data": {
      "text/plain": [
       "Index(['Unnamed: 0', 'id', 'conversation_id', 'created_at', 'date', 'time',\n",
       "       'timezone', 'user_id', 'username', 'name', 'place', 'tweet', 'language',\n",
       "       'mentions', 'urls', 'photos', 'replies_count', 'retweets_count',\n",
       "       'likes_count', 'hashtags', 'cashtags', 'link', 'retweet', 'quote_url',\n",
       "       'video', 'thumbnail', 'near', 'geo', 'source', 'user_rt_id', 'user_rt',\n",
       "       'retweet_id', 'reply_to', 'retweet_date', 'translate', 'trans_src',\n",
       "       'trans_dest'],\n",
       "      dtype='object')"
      ]
     },
     "execution_count": 4,
     "metadata": {},
     "output_type": "execute_result"
    }
   ],
   "source": [
    "march.columns"
   ]
  },
  {
   "cell_type": "code",
   "execution_count": 6,
   "id": "e124bc3b",
   "metadata": {},
   "outputs": [],
   "source": [
    "march.drop(['trans_dest', 'trans_src', 'retweet_id', 'reply_to', 'retweet_date', 'translate','geo', 'source', 'user_rt_id', 'user_rt','video', 'thumbnail',], axis = 1,inplace=True)"
   ]
  },
  {
   "cell_type": "code",
   "execution_count": 7,
   "id": "3c8d0d6d",
   "metadata": {},
   "outputs": [
    {
     "data": {
      "text/plain": [
       "Index(['Unnamed: 0', 'id', 'conversation_id', 'created_at', 'date', 'time',\n",
       "       'timezone', 'user_id', 'username', 'name', 'place', 'tweet', 'language',\n",
       "       'mentions', 'urls', 'photos', 'replies_count', 'retweets_count',\n",
       "       'likes_count', 'hashtags', 'cashtags', 'link', 'retweet', 'quote_url',\n",
       "       'near'],\n",
       "      dtype='object')"
      ]
     },
     "execution_count": 7,
     "metadata": {},
     "output_type": "execute_result"
    }
   ],
   "source": [
    "march.columns"
   ]
  },
  {
   "cell_type": "code",
   "execution_count": 9,
   "id": "7826c720",
   "metadata": {},
   "outputs": [
    {
     "data": {
      "text/plain": [
       "Index(['UserName', 'Userhandle', 'Time', 'comments', 'retweets', 'likes',\n",
       "       'Tweet'],\n",
       "      dtype='object')"
      ]
     },
     "execution_count": 9,
     "metadata": {},
     "output_type": "execute_result"
    }
   ],
   "source": [
    "marchL.columns"
   ]
  },
  {
   "cell_type": "code",
   "execution_count": 10,
   "id": "aca7f240",
   "metadata": {},
   "outputs": [],
   "source": [
    "march.to_csv('March_Keywords_Ayush.csv')"
   ]
  },
  {
   "cell_type": "code",
   "execution_count": 11,
   "id": "15a3dbcb",
   "metadata": {},
   "outputs": [],
   "source": [
    "march2=pd.read_csv(\"March_Keywords_Ayush.csv\")"
   ]
  },
  {
   "cell_type": "code",
   "execution_count": 12,
   "id": "031f704e",
   "metadata": {},
   "outputs": [
    {
     "data": {
      "text/plain": [
       "(525, 38)"
      ]
     },
     "execution_count": 12,
     "metadata": {},
     "output_type": "execute_result"
    }
   ],
   "source": [
    "march2.shape"
   ]
  },
  {
   "cell_type": "code",
   "execution_count": 13,
   "id": "6c17f056",
   "metadata": {},
   "outputs": [
    {
     "data": {
      "text/plain": [
       "Index(['Unnamed: 0', 'Unnamed: 0.1', 'id', 'conversation_id', 'created_at',\n",
       "       'date', 'time', 'timezone', 'user_id', 'username', 'name', 'place',\n",
       "       'tweet', 'language', 'mentions', 'urls', 'photos', 'replies_count',\n",
       "       'retweets_count', 'likes_count', 'hashtags', 'cashtags', 'link',\n",
       "       'retweet', 'quote_url', 'video', 'thumbnail', 'near', 'geo', 'source',\n",
       "       'user_rt_id', 'user_rt', 'retweet_id', 'reply_to', 'retweet_date',\n",
       "       'translate', 'trans_src', 'trans_dest'],\n",
       "      dtype='object')"
      ]
     },
     "execution_count": 13,
     "metadata": {},
     "output_type": "execute_result"
    }
   ],
   "source": [
    "march2.columns"
   ]
  },
  {
   "cell_type": "code",
   "execution_count": 17,
   "id": "0c2e9961",
   "metadata": {},
   "outputs": [],
   "source": [
    "march2.drop(['trans_dest', 'trans_src', 'retweet_id', 'reply_to', 'retweet_date', 'translate','geo', 'source', 'user_rt_id', 'user_rt','video', 'thumbnail',], axis = 1,inplace=True)"
   ]
  },
  {
   "cell_type": "code",
   "execution_count": 19,
   "id": "f395c4d2",
   "metadata": {},
   "outputs": [
    {
     "data": {
      "text/plain": [
       "Index(['Unnamed: 0', 'Unnamed: 0.1', 'id', 'conversation_id', 'created_at',\n",
       "       'date', 'time', 'timezone', 'user_id', 'username', 'name', 'place',\n",
       "       'tweet', 'language', 'mentions', 'urls', 'photos', 'replies_count',\n",
       "       'retweets_count', 'likes_count', 'hashtags', 'cashtags', 'link',\n",
       "       'retweet', 'quote_url', 'near'],\n",
       "      dtype='object')"
      ]
     },
     "execution_count": 19,
     "metadata": {},
     "output_type": "execute_result"
    }
   ],
   "source": [
    "march2.columns\n"
   ]
  },
  {
   "cell_type": "code",
   "execution_count": 20,
   "id": "cd18d385",
   "metadata": {},
   "outputs": [],
   "source": [
    "march2.drop(['Unnamed: 0', 'Unnamed: 0.1', 'quote_url', 'near'], axis = 1,inplace=True)"
   ]
  },
  {
   "cell_type": "code",
   "execution_count": 21,
   "id": "f8a3c593",
   "metadata": {},
   "outputs": [
    {
     "data": {
      "text/plain": [
       "Index(['id', 'conversation_id', 'created_at', 'date', 'time', 'timezone',\n",
       "       'user_id', 'username', 'name', 'place', 'tweet', 'language', 'mentions',\n",
       "       'urls', 'photos', 'replies_count', 'retweets_count', 'likes_count',\n",
       "       'hashtags', 'cashtags', 'link', 'retweet'],\n",
       "      dtype='object')"
      ]
     },
     "execution_count": 21,
     "metadata": {},
     "output_type": "execute_result"
    }
   ],
   "source": [
    "march2.columns"
   ]
  },
  {
   "cell_type": "code",
   "execution_count": 22,
   "id": "a1be33b4",
   "metadata": {},
   "outputs": [],
   "source": [
    "march2.to_csv(\"March_Ayush_fieldRemoved1.csv\")"
   ]
  },
  {
   "cell_type": "code",
   "execution_count": 23,
   "id": "264b4be4",
   "metadata": {},
   "outputs": [
    {
     "data": {
      "text/plain": [
       "Index(['id', 'conversation_id', 'created_at', 'date', 'time', 'timezone',\n",
       "       'user_id', 'username', 'name', 'place', 'tweet', 'language', 'mentions',\n",
       "       'urls', 'photos', 'replies_count', 'retweets_count', 'likes_count',\n",
       "       'hashtags', 'cashtags', 'link', 'retweet'],\n",
       "      dtype='object')"
      ]
     },
     "execution_count": 23,
     "metadata": {},
     "output_type": "execute_result"
    }
   ],
   "source": [
    "march2.columns"
   ]
  },
  {
   "cell_type": "code",
   "execution_count": 29,
   "id": "428a6b76",
   "metadata": {},
   "outputs": [
    {
     "ename": "KeyError",
     "evalue": "\"['id' 'conversation_id' 'date' 'time' 'place' 'mentions' 'urls' 'photos'\\n 'hashtags' 'cashtags' 'link' 'retweet'] not found in axis\"",
     "output_type": "error",
     "traceback": [
      "\u001b[1;31m---------------------------------------------------------------------------\u001b[0m",
      "\u001b[1;31mKeyError\u001b[0m                                  Traceback (most recent call last)",
      "\u001b[1;32m~\\AppData\\Local\\Temp/ipykernel_19880/1593642174.py\u001b[0m in \u001b[0;36m<module>\u001b[1;34m\u001b[0m\n\u001b[1;32m----> 1\u001b[1;33m \u001b[0mmarch2\u001b[0m\u001b[1;33m.\u001b[0m\u001b[0mdrop\u001b[0m\u001b[1;33m(\u001b[0m\u001b[1;33m[\u001b[0m\u001b[1;34m'id'\u001b[0m\u001b[1;33m,\u001b[0m \u001b[1;34m'conversation_id'\u001b[0m\u001b[1;33m,\u001b[0m \u001b[1;34m'date'\u001b[0m\u001b[1;33m,\u001b[0m \u001b[1;34m'time'\u001b[0m\u001b[1;33m,\u001b[0m\u001b[1;34m'place'\u001b[0m\u001b[1;33m,\u001b[0m\u001b[1;34m'mentions'\u001b[0m\u001b[1;33m,\u001b[0m\u001b[1;34m'urls'\u001b[0m\u001b[1;33m,\u001b[0m \u001b[1;34m'photos'\u001b[0m\u001b[1;33m,\u001b[0m\u001b[1;34m'hashtags'\u001b[0m\u001b[1;33m,\u001b[0m \u001b[1;34m'cashtags'\u001b[0m\u001b[1;33m,\u001b[0m \u001b[1;34m'link'\u001b[0m\u001b[1;33m,\u001b[0m \u001b[1;34m'retweet'\u001b[0m\u001b[1;33m]\u001b[0m\u001b[1;33m,\u001b[0m \u001b[0maxis\u001b[0m \u001b[1;33m=\u001b[0m \u001b[1;36m1\u001b[0m\u001b[1;33m,\u001b[0m\u001b[0minplace\u001b[0m\u001b[1;33m=\u001b[0m\u001b[1;32mTrue\u001b[0m\u001b[1;33m)\u001b[0m\u001b[1;33m\u001b[0m\u001b[1;33m\u001b[0m\u001b[0m\n\u001b[0m",
      "\u001b[1;32m~\\AppData\\Local\\Programs\\Python\\Python39\\lib\\site-packages\\pandas\\util\\_decorators.py\u001b[0m in \u001b[0;36mwrapper\u001b[1;34m(*args, **kwargs)\u001b[0m\n\u001b[0;32m    309\u001b[0m                     \u001b[0mstacklevel\u001b[0m\u001b[1;33m=\u001b[0m\u001b[0mstacklevel\u001b[0m\u001b[1;33m,\u001b[0m\u001b[1;33m\u001b[0m\u001b[1;33m\u001b[0m\u001b[0m\n\u001b[0;32m    310\u001b[0m                 )\n\u001b[1;32m--> 311\u001b[1;33m             \u001b[1;32mreturn\u001b[0m \u001b[0mfunc\u001b[0m\u001b[1;33m(\u001b[0m\u001b[1;33m*\u001b[0m\u001b[0margs\u001b[0m\u001b[1;33m,\u001b[0m \u001b[1;33m**\u001b[0m\u001b[0mkwargs\u001b[0m\u001b[1;33m)\u001b[0m\u001b[1;33m\u001b[0m\u001b[1;33m\u001b[0m\u001b[0m\n\u001b[0m\u001b[0;32m    312\u001b[0m \u001b[1;33m\u001b[0m\u001b[0m\n\u001b[0;32m    313\u001b[0m         \u001b[1;32mreturn\u001b[0m \u001b[0mwrapper\u001b[0m\u001b[1;33m\u001b[0m\u001b[1;33m\u001b[0m\u001b[0m\n",
      "\u001b[1;32m~\\AppData\\Local\\Programs\\Python\\Python39\\lib\\site-packages\\pandas\\core\\frame.py\u001b[0m in \u001b[0;36mdrop\u001b[1;34m(self, labels, axis, index, columns, level, inplace, errors)\u001b[0m\n\u001b[0;32m   4899\u001b[0m                 \u001b[0mweight\u001b[0m  \u001b[1;36m1.0\u001b[0m     \u001b[1;36m0.8\u001b[0m\u001b[1;33m\u001b[0m\u001b[1;33m\u001b[0m\u001b[0m\n\u001b[0;32m   4900\u001b[0m         \"\"\"\n\u001b[1;32m-> 4901\u001b[1;33m         return super().drop(\n\u001b[0m\u001b[0;32m   4902\u001b[0m             \u001b[0mlabels\u001b[0m\u001b[1;33m=\u001b[0m\u001b[0mlabels\u001b[0m\u001b[1;33m,\u001b[0m\u001b[1;33m\u001b[0m\u001b[1;33m\u001b[0m\u001b[0m\n\u001b[0;32m   4903\u001b[0m             \u001b[0maxis\u001b[0m\u001b[1;33m=\u001b[0m\u001b[0maxis\u001b[0m\u001b[1;33m,\u001b[0m\u001b[1;33m\u001b[0m\u001b[1;33m\u001b[0m\u001b[0m\n",
      "\u001b[1;32m~\\AppData\\Local\\Programs\\Python\\Python39\\lib\\site-packages\\pandas\\core\\generic.py\u001b[0m in \u001b[0;36mdrop\u001b[1;34m(self, labels, axis, index, columns, level, inplace, errors)\u001b[0m\n\u001b[0;32m   4148\u001b[0m         \u001b[1;32mfor\u001b[0m \u001b[0maxis\u001b[0m\u001b[1;33m,\u001b[0m \u001b[0mlabels\u001b[0m \u001b[1;32min\u001b[0m \u001b[0maxes\u001b[0m\u001b[1;33m.\u001b[0m\u001b[0mitems\u001b[0m\u001b[1;33m(\u001b[0m\u001b[1;33m)\u001b[0m\u001b[1;33m:\u001b[0m\u001b[1;33m\u001b[0m\u001b[1;33m\u001b[0m\u001b[0m\n\u001b[0;32m   4149\u001b[0m             \u001b[1;32mif\u001b[0m \u001b[0mlabels\u001b[0m \u001b[1;32mis\u001b[0m \u001b[1;32mnot\u001b[0m \u001b[1;32mNone\u001b[0m\u001b[1;33m:\u001b[0m\u001b[1;33m\u001b[0m\u001b[1;33m\u001b[0m\u001b[0m\n\u001b[1;32m-> 4150\u001b[1;33m                 \u001b[0mobj\u001b[0m \u001b[1;33m=\u001b[0m \u001b[0mobj\u001b[0m\u001b[1;33m.\u001b[0m\u001b[0m_drop_axis\u001b[0m\u001b[1;33m(\u001b[0m\u001b[0mlabels\u001b[0m\u001b[1;33m,\u001b[0m \u001b[0maxis\u001b[0m\u001b[1;33m,\u001b[0m \u001b[0mlevel\u001b[0m\u001b[1;33m=\u001b[0m\u001b[0mlevel\u001b[0m\u001b[1;33m,\u001b[0m \u001b[0merrors\u001b[0m\u001b[1;33m=\u001b[0m\u001b[0merrors\u001b[0m\u001b[1;33m)\u001b[0m\u001b[1;33m\u001b[0m\u001b[1;33m\u001b[0m\u001b[0m\n\u001b[0m\u001b[0;32m   4151\u001b[0m \u001b[1;33m\u001b[0m\u001b[0m\n\u001b[0;32m   4152\u001b[0m         \u001b[1;32mif\u001b[0m \u001b[0minplace\u001b[0m\u001b[1;33m:\u001b[0m\u001b[1;33m\u001b[0m\u001b[1;33m\u001b[0m\u001b[0m\n",
      "\u001b[1;32m~\\AppData\\Local\\Programs\\Python\\Python39\\lib\\site-packages\\pandas\\core\\generic.py\u001b[0m in \u001b[0;36m_drop_axis\u001b[1;34m(self, labels, axis, level, errors)\u001b[0m\n\u001b[0;32m   4183\u001b[0m                 \u001b[0mnew_axis\u001b[0m \u001b[1;33m=\u001b[0m \u001b[0maxis\u001b[0m\u001b[1;33m.\u001b[0m\u001b[0mdrop\u001b[0m\u001b[1;33m(\u001b[0m\u001b[0mlabels\u001b[0m\u001b[1;33m,\u001b[0m \u001b[0mlevel\u001b[0m\u001b[1;33m=\u001b[0m\u001b[0mlevel\u001b[0m\u001b[1;33m,\u001b[0m \u001b[0merrors\u001b[0m\u001b[1;33m=\u001b[0m\u001b[0merrors\u001b[0m\u001b[1;33m)\u001b[0m\u001b[1;33m\u001b[0m\u001b[1;33m\u001b[0m\u001b[0m\n\u001b[0;32m   4184\u001b[0m             \u001b[1;32melse\u001b[0m\u001b[1;33m:\u001b[0m\u001b[1;33m\u001b[0m\u001b[1;33m\u001b[0m\u001b[0m\n\u001b[1;32m-> 4185\u001b[1;33m                 \u001b[0mnew_axis\u001b[0m \u001b[1;33m=\u001b[0m \u001b[0maxis\u001b[0m\u001b[1;33m.\u001b[0m\u001b[0mdrop\u001b[0m\u001b[1;33m(\u001b[0m\u001b[0mlabels\u001b[0m\u001b[1;33m,\u001b[0m \u001b[0merrors\u001b[0m\u001b[1;33m=\u001b[0m\u001b[0merrors\u001b[0m\u001b[1;33m)\u001b[0m\u001b[1;33m\u001b[0m\u001b[1;33m\u001b[0m\u001b[0m\n\u001b[0m\u001b[0;32m   4186\u001b[0m             \u001b[0mresult\u001b[0m \u001b[1;33m=\u001b[0m \u001b[0mself\u001b[0m\u001b[1;33m.\u001b[0m\u001b[0mreindex\u001b[0m\u001b[1;33m(\u001b[0m\u001b[1;33m**\u001b[0m\u001b[1;33m{\u001b[0m\u001b[0maxis_name\u001b[0m\u001b[1;33m:\u001b[0m \u001b[0mnew_axis\u001b[0m\u001b[1;33m}\u001b[0m\u001b[1;33m)\u001b[0m\u001b[1;33m\u001b[0m\u001b[1;33m\u001b[0m\u001b[0m\n\u001b[0;32m   4187\u001b[0m \u001b[1;33m\u001b[0m\u001b[0m\n",
      "\u001b[1;32m~\\AppData\\Local\\Programs\\Python\\Python39\\lib\\site-packages\\pandas\\core\\indexes\\base.py\u001b[0m in \u001b[0;36mdrop\u001b[1;34m(self, labels, errors)\u001b[0m\n\u001b[0;32m   6016\u001b[0m         \u001b[1;32mif\u001b[0m \u001b[0mmask\u001b[0m\u001b[1;33m.\u001b[0m\u001b[0many\u001b[0m\u001b[1;33m(\u001b[0m\u001b[1;33m)\u001b[0m\u001b[1;33m:\u001b[0m\u001b[1;33m\u001b[0m\u001b[1;33m\u001b[0m\u001b[0m\n\u001b[0;32m   6017\u001b[0m             \u001b[1;32mif\u001b[0m \u001b[0merrors\u001b[0m \u001b[1;33m!=\u001b[0m \u001b[1;34m\"ignore\"\u001b[0m\u001b[1;33m:\u001b[0m\u001b[1;33m\u001b[0m\u001b[1;33m\u001b[0m\u001b[0m\n\u001b[1;32m-> 6018\u001b[1;33m                 \u001b[1;32mraise\u001b[0m \u001b[0mKeyError\u001b[0m\u001b[1;33m(\u001b[0m\u001b[1;34mf\"{labels[mask]} not found in axis\"\u001b[0m\u001b[1;33m)\u001b[0m\u001b[1;33m\u001b[0m\u001b[1;33m\u001b[0m\u001b[0m\n\u001b[0m\u001b[0;32m   6019\u001b[0m             \u001b[0mindexer\u001b[0m \u001b[1;33m=\u001b[0m \u001b[0mindexer\u001b[0m\u001b[1;33m[\u001b[0m\u001b[1;33m~\u001b[0m\u001b[0mmask\u001b[0m\u001b[1;33m]\u001b[0m\u001b[1;33m\u001b[0m\u001b[1;33m\u001b[0m\u001b[0m\n\u001b[0;32m   6020\u001b[0m         \u001b[1;32mreturn\u001b[0m \u001b[0mself\u001b[0m\u001b[1;33m.\u001b[0m\u001b[0mdelete\u001b[0m\u001b[1;33m(\u001b[0m\u001b[0mindexer\u001b[0m\u001b[1;33m)\u001b[0m\u001b[1;33m\u001b[0m\u001b[1;33m\u001b[0m\u001b[0m\n",
      "\u001b[1;31mKeyError\u001b[0m: \"['id' 'conversation_id' 'date' 'time' 'place' 'mentions' 'urls' 'photos'\\n 'hashtags' 'cashtags' 'link' 'retweet'] not found in axis\""
     ]
    }
   ],
   "source": [
    "march2.drop(['id', 'conversation_id', 'date', 'time','place','mentions','urls', 'photos','hashtags', 'cashtags', 'link', 'retweet'], axis = 1,inplace=True)"
   ]
  },
  {
   "cell_type": "code",
   "execution_count": 25,
   "id": "cfe26356",
   "metadata": {},
   "outputs": [
    {
     "data": {
      "text/plain": [
       "Index(['created_at', 'timezone', 'user_id', 'username', 'name', 'tweet',\n",
       "       'language', 'replies_count', 'retweets_count', 'likes_count'],\n",
       "      dtype='object')"
      ]
     },
     "execution_count": 25,
     "metadata": {},
     "output_type": "execute_result"
    }
   ],
   "source": [
    "march2.columns"
   ]
  },
  {
   "cell_type": "code",
   "execution_count": 26,
   "id": "8f1df9d7",
   "metadata": {},
   "outputs": [
    {
     "data": {
      "text/plain": [
       "(81, 7)"
      ]
     },
     "execution_count": 26,
     "metadata": {},
     "output_type": "execute_result"
    }
   ],
   "source": [
    "marchL.shape"
   ]
  },
  {
   "cell_type": "code",
   "execution_count": 27,
   "id": "df220e7c",
   "metadata": {},
   "outputs": [
    {
     "data": {
      "text/plain": [
       "(525, 10)"
      ]
     },
     "execution_count": 27,
     "metadata": {},
     "output_type": "execute_result"
    }
   ],
   "source": [
    "march2.shape"
   ]
  },
  {
   "cell_type": "code",
   "execution_count": 30,
   "id": "e390a19e",
   "metadata": {},
   "outputs": [],
   "source": [
    "march2.drop(['name'], axis = 1,inplace=True)"
   ]
  },
  {
   "cell_type": "code",
   "execution_count": 31,
   "id": "15426061",
   "metadata": {},
   "outputs": [
    {
     "data": {
      "text/plain": [
       "(525, 9)"
      ]
     },
     "execution_count": 31,
     "metadata": {},
     "output_type": "execute_result"
    }
   ],
   "source": [
    "march2.shape"
   ]
  },
  {
   "cell_type": "code",
   "execution_count": 32,
   "id": "4e948cad",
   "metadata": {},
   "outputs": [
    {
     "data": {
      "text/plain": [
       "Index(['created_at', 'timezone', 'user_id', 'username', 'tweet', 'language',\n",
       "       'replies_count', 'retweets_count', 'likes_count'],\n",
       "      dtype='object')"
      ]
     },
     "execution_count": 32,
     "metadata": {},
     "output_type": "execute_result"
    }
   ],
   "source": [
    "march2.columns"
   ]
  },
  {
   "cell_type": "code",
   "execution_count": 33,
   "id": "05c9a7f9",
   "metadata": {},
   "outputs": [],
   "source": [
    "march2.drop([ 'timezone', 'user_id'], axis = 1,inplace=True)"
   ]
  },
  {
   "cell_type": "code",
   "execution_count": 34,
   "id": "1f966861",
   "metadata": {},
   "outputs": [
    {
     "data": {
      "text/plain": [
       "Index(['created_at', 'username', 'tweet', 'language', 'replies_count',\n",
       "       'retweets_count', 'likes_count'],\n",
       "      dtype='object')"
      ]
     },
     "execution_count": 34,
     "metadata": {},
     "output_type": "execute_result"
    }
   ],
   "source": [
    "march2.columns"
   ]
  },
  {
   "cell_type": "code",
   "execution_count": 35,
   "id": "f4d43be2",
   "metadata": {},
   "outputs": [
    {
     "data": {
      "text/plain": [
       "(525, 7)"
      ]
     },
     "execution_count": 35,
     "metadata": {},
     "output_type": "execute_result"
    }
   ],
   "source": [
    "march2.shape"
   ]
  },
  {
   "cell_type": "code",
   "execution_count": 36,
   "id": "742113dc",
   "metadata": {},
   "outputs": [],
   "source": [
    "marchL.drop(['Userhandle'],axis=1,inplace=True)"
   ]
  },
  {
   "cell_type": "code",
   "execution_count": 37,
   "id": "7162018a",
   "metadata": {},
   "outputs": [
    {
     "data": {
      "text/plain": [
       "(81, 6)"
      ]
     },
     "execution_count": 37,
     "metadata": {},
     "output_type": "execute_result"
    }
   ],
   "source": [
    "marchL.shape"
   ]
  },
  {
   "cell_type": "code",
   "execution_count": 40,
   "id": "044a8ed2",
   "metadata": {},
   "outputs": [
    {
     "name": "stdout",
     "output_type": "stream",
     "text": [
      "Index(['created_at', 'username', 'tweet', 'language', 'replies_count',\n",
      "       'retweets_count', 'likes_count'],\n",
      "      dtype='object')\n",
      "Index(['UserName', 'Time', 'comments', 'retweets', 'likes', 'Tweet'], dtype='object')\n"
     ]
    }
   ],
   "source": [
    "p=marchL.columns\n",
    "l=march2.columns\n",
    "print(l)\n",
    "print(p)"
   ]
  },
  {
   "cell_type": "code",
   "execution_count": 43,
   "id": "b10ebfa5",
   "metadata": {},
   "outputs": [],
   "source": [
    "marchL=marchL.rename(columns={'UserName':'username','Time':'created_at','comments':'replies_count','retweets':'retweets_count','likes':'likes_count','Tweet':'tweet'})"
   ]
  },
  {
   "cell_type": "code",
   "execution_count": 44,
   "id": "1aacaa9e",
   "metadata": {},
   "outputs": [
    {
     "data": {
      "text/plain": [
       "Index(['username', 'created_at', 'replies_count', 'retweets_count',\n",
       "       'likes_count', 'tweet'],\n",
       "      dtype='object')"
      ]
     },
     "execution_count": 44,
     "metadata": {},
     "output_type": "execute_result"
    }
   ],
   "source": [
    "marchL.columns"
   ]
  },
  {
   "cell_type": "code",
   "execution_count": 45,
   "id": "1c07caf0",
   "metadata": {},
   "outputs": [
    {
     "data": {
      "text/plain": [
       "Index(['created_at', 'username', 'tweet', 'language', 'replies_count',\n",
       "       'retweets_count', 'likes_count'],\n",
       "      dtype='object')"
      ]
     },
     "execution_count": 45,
     "metadata": {},
     "output_type": "execute_result"
    }
   ],
   "source": [
    "march2.columns"
   ]
  },
  {
   "cell_type": "code",
   "execution_count": 48,
   "id": "e769fc28",
   "metadata": {},
   "outputs": [],
   "source": [
    "marchL[\"language\"]=None"
   ]
  },
  {
   "cell_type": "code",
   "execution_count": 50,
   "id": "9ee15cbf",
   "metadata": {},
   "outputs": [
    {
     "data": {
      "text/html": [
       "<div>\n",
       "<style scoped>\n",
       "    .dataframe tbody tr th:only-of-type {\n",
       "        vertical-align: middle;\n",
       "    }\n",
       "\n",
       "    .dataframe tbody tr th {\n",
       "        vertical-align: top;\n",
       "    }\n",
       "\n",
       "    .dataframe thead th {\n",
       "        text-align: right;\n",
       "    }\n",
       "</style>\n",
       "<table border=\"1\" class=\"dataframe\">\n",
       "  <thead>\n",
       "    <tr style=\"text-align: right;\">\n",
       "      <th></th>\n",
       "      <th>username</th>\n",
       "      <th>created_at</th>\n",
       "      <th>replies_count</th>\n",
       "      <th>retweets_count</th>\n",
       "      <th>likes_count</th>\n",
       "      <th>tweet</th>\n",
       "      <th>language</th>\n",
       "    </tr>\n",
       "  </thead>\n",
       "  <tbody>\n",
       "    <tr>\n",
       "      <th>0</th>\n",
       "      <td>Megha Kejriwal</td>\n",
       "      <td>2021-03-30T09:18:17.000Z</td>\n",
       "      <td>NaN</td>\n",
       "      <td>NaN</td>\n",
       "      <td>1.0</td>\n",
       "      <td>Airports may levy spot fines if face mask rule...</td>\n",
       "      <td>None</td>\n",
       "    </tr>\n",
       "    <tr>\n",
       "      <th>1</th>\n",
       "      <td>Soumyajit Majumder</td>\n",
       "      <td>2021-03-29T15:00:18.000Z</td>\n",
       "      <td>4.0</td>\n",
       "      <td>NaN</td>\n",
       "      <td>11.0</td>\n",
       "      <td>West Bengal reports 639 new COVID-19 cases, Ko...</td>\n",
       "      <td>None</td>\n",
       "    </tr>\n",
       "  </tbody>\n",
       "</table>\n",
       "</div>"
      ],
      "text/plain": [
       "             username                created_at  replies_count  \\\n",
       "0      Megha Kejriwal  2021-03-30T09:18:17.000Z            NaN   \n",
       "1  Soumyajit Majumder  2021-03-29T15:00:18.000Z            4.0   \n",
       "\n",
       "   retweets_count  likes_count  \\\n",
       "0             NaN          1.0   \n",
       "1             NaN         11.0   \n",
       "\n",
       "                                               tweet language  \n",
       "0  Airports may levy spot fines if face mask rule...     None  \n",
       "1  West Bengal reports 639 new COVID-19 cases, Ko...     None  "
      ]
     },
     "execution_count": 50,
     "metadata": {},
     "output_type": "execute_result"
    }
   ],
   "source": [
    "marchL.head(2)"
   ]
  },
  {
   "cell_type": "code",
   "execution_count": 51,
   "id": "dd39d780",
   "metadata": {},
   "outputs": [],
   "source": [
    "March_KeyL=pd.concat([marchL,march2]).drop_duplicates()"
   ]
  },
  {
   "cell_type": "code",
   "execution_count": 52,
   "id": "d2e00065",
   "metadata": {},
   "outputs": [
    {
     "data": {
      "text/plain": [
       "(598, 7)"
      ]
     },
     "execution_count": 52,
     "metadata": {},
     "output_type": "execute_result"
    }
   ],
   "source": [
    "March_KeyL.shape"
   ]
  },
  {
   "cell_type": "code",
   "execution_count": 53,
   "id": "83609eae",
   "metadata": {},
   "outputs": [
    {
     "data": {
      "text/plain": [
       "Index(['username', 'created_at', 'replies_count', 'retweets_count',\n",
       "       'likes_count', 'tweet', 'language'],\n",
       "      dtype='object')"
      ]
     },
     "execution_count": 53,
     "metadata": {},
     "output_type": "execute_result"
    }
   ],
   "source": [
    "March_KeyL.columns"
   ]
  },
  {
   "cell_type": "code",
   "execution_count": 54,
   "id": "a3278cf2",
   "metadata": {},
   "outputs": [],
   "source": [
    "March_KeyL.to_csv(\"March_keyL.csv\")"
   ]
  },
  {
   "cell_type": "code",
   "execution_count": 58,
   "id": "1b6417e0",
   "metadata": {},
   "outputs": [],
   "source": [
    "for i in March_KeyL['language']:\n",
    "    index_names = March_KeyL[March_KeyL['language']!='en' ].index\n",
    "    March_KeyL.drop(index_names, inplace = True)\n"
   ]
  },
  {
   "cell_type": "code",
   "execution_count": 59,
   "id": "3982f009",
   "metadata": {},
   "outputs": [
    {
     "data": {
      "text/plain": [
       "(335, 7)"
      ]
     },
     "execution_count": 59,
     "metadata": {},
     "output_type": "execute_result"
    }
   ],
   "source": [
    "March_KeyL.shape"
   ]
  },
  {
   "cell_type": "code",
   "execution_count": 60,
   "id": "c6c552fb",
   "metadata": {},
   "outputs": [],
   "source": [
    "March_KeyL=pd.concat([marchL,March_KeyL]).drop_duplicates()"
   ]
  },
  {
   "cell_type": "code",
   "execution_count": 61,
   "id": "d250f94f",
   "metadata": {},
   "outputs": [
    {
     "data": {
      "text/plain": [
       "(416, 7)"
      ]
     },
     "execution_count": 61,
     "metadata": {},
     "output_type": "execute_result"
    }
   ],
   "source": [
    "March_KeyL.shape"
   ]
  },
  {
   "cell_type": "code",
   "execution_count": 63,
   "id": "4b8d9fb4",
   "metadata": {},
   "outputs": [],
   "source": [
    "March_KeyL.to_csv(\"March_keyL.csv\")"
   ]
  },
  {
   "cell_type": "code",
   "execution_count": 64,
   "id": "3f1e5f1d",
   "metadata": {},
   "outputs": [
    {
     "data": {
      "text/html": [
       "<div>\n",
       "<style scoped>\n",
       "    .dataframe tbody tr th:only-of-type {\n",
       "        vertical-align: middle;\n",
       "    }\n",
       "\n",
       "    .dataframe tbody tr th {\n",
       "        vertical-align: top;\n",
       "    }\n",
       "\n",
       "    .dataframe thead th {\n",
       "        text-align: right;\n",
       "    }\n",
       "</style>\n",
       "<table border=\"1\" class=\"dataframe\">\n",
       "  <thead>\n",
       "    <tr style=\"text-align: right;\">\n",
       "      <th></th>\n",
       "      <th>username</th>\n",
       "      <th>created_at</th>\n",
       "      <th>replies_count</th>\n",
       "      <th>retweets_count</th>\n",
       "      <th>likes_count</th>\n",
       "      <th>tweet</th>\n",
       "      <th>language</th>\n",
       "    </tr>\n",
       "  </thead>\n",
       "  <tbody>\n",
       "    <tr>\n",
       "      <th>0</th>\n",
       "      <td>Megha Kejriwal</td>\n",
       "      <td>2021-03-30T09:18:17.000Z</td>\n",
       "      <td>NaN</td>\n",
       "      <td>NaN</td>\n",
       "      <td>1.0</td>\n",
       "      <td>Airports may levy spot fines if face mask rule...</td>\n",
       "      <td>None</td>\n",
       "    </tr>\n",
       "    <tr>\n",
       "      <th>1</th>\n",
       "      <td>Soumyajit Majumder</td>\n",
       "      <td>2021-03-29T15:00:18.000Z</td>\n",
       "      <td>4.0</td>\n",
       "      <td>NaN</td>\n",
       "      <td>11.0</td>\n",
       "      <td>West Bengal reports 639 new COVID-19 cases, Ko...</td>\n",
       "      <td>None</td>\n",
       "    </tr>\n",
       "    <tr>\n",
       "      <th>2</th>\n",
       "      <td>Nishit Shaw</td>\n",
       "      <td>2021-03-29T05:35:57.000Z</td>\n",
       "      <td>NaN</td>\n",
       "      <td>1.0</td>\n",
       "      <td>NaN</td>\n",
       "      <td>Recovery rate drops to 94.32%, very very worri...</td>\n",
       "      <td>None</td>\n",
       "    </tr>\n",
       "    <tr>\n",
       "      <th>3</th>\n",
       "      <td>Rajlkxmi Datta</td>\n",
       "      <td>2021-03-28T13:56:19.000Z</td>\n",
       "      <td>NaN</td>\n",
       "      <td>NaN</td>\n",
       "      <td>NaN</td>\n",
       "      <td>Replying to \\n@republic</td>\n",
       "      <td>None</td>\n",
       "    </tr>\n",
       "    <tr>\n",
       "      <th>4</th>\n",
       "      <td>Call me WD or Wri</td>\n",
       "      <td>2021-03-28T07:22:24.000Z</td>\n",
       "      <td>NaN</td>\n",
       "      <td>NaN</td>\n",
       "      <td>NaN</td>\n",
       "      <td>Doesn’t quite feel like #Holi, but just anothe...</td>\n",
       "      <td>None</td>\n",
       "    </tr>\n",
       "  </tbody>\n",
       "</table>\n",
       "</div>"
      ],
      "text/plain": [
       "             username                created_at  replies_count  \\\n",
       "0      Megha Kejriwal  2021-03-30T09:18:17.000Z            NaN   \n",
       "1  Soumyajit Majumder  2021-03-29T15:00:18.000Z            4.0   \n",
       "2         Nishit Shaw  2021-03-29T05:35:57.000Z            NaN   \n",
       "3      Rajlkxmi Datta  2021-03-28T13:56:19.000Z            NaN   \n",
       "4   Call me WD or Wri  2021-03-28T07:22:24.000Z            NaN   \n",
       "\n",
       "   retweets_count  likes_count  \\\n",
       "0             NaN          1.0   \n",
       "1             NaN         11.0   \n",
       "2             1.0          NaN   \n",
       "3             NaN          NaN   \n",
       "4             NaN          NaN   \n",
       "\n",
       "                                               tweet language  \n",
       "0  Airports may levy spot fines if face mask rule...     None  \n",
       "1  West Bengal reports 639 new COVID-19 cases, Ko...     None  \n",
       "2  Recovery rate drops to 94.32%, very very worri...     None  \n",
       "3                            Replying to \\n@republic     None  \n",
       "4  Doesn’t quite feel like #Holi, but just anothe...     None  "
      ]
     },
     "execution_count": 64,
     "metadata": {},
     "output_type": "execute_result"
    }
   ],
   "source": [
    "March_KeyL.head(5)"
   ]
  },
  {
   "cell_type": "code",
   "execution_count": 77,
   "id": "e0adb78b",
   "metadata": {},
   "outputs": [],
   "source": [
    "March_KeyL['language'].replace(to_replace=[None], value=np.nan, inplace=True)\n"
   ]
  },
  {
   "cell_type": "code",
   "execution_count": 78,
   "id": "fe595dba",
   "metadata": {},
   "outputs": [
    {
     "data": {
      "text/html": [
       "<div>\n",
       "<style scoped>\n",
       "    .dataframe tbody tr th:only-of-type {\n",
       "        vertical-align: middle;\n",
       "    }\n",
       "\n",
       "    .dataframe tbody tr th {\n",
       "        vertical-align: top;\n",
       "    }\n",
       "\n",
       "    .dataframe thead th {\n",
       "        text-align: right;\n",
       "    }\n",
       "</style>\n",
       "<table border=\"1\" class=\"dataframe\">\n",
       "  <thead>\n",
       "    <tr style=\"text-align: right;\">\n",
       "      <th></th>\n",
       "      <th>username</th>\n",
       "      <th>created_at</th>\n",
       "      <th>replies_count</th>\n",
       "      <th>retweets_count</th>\n",
       "      <th>likes_count</th>\n",
       "      <th>tweet</th>\n",
       "      <th>language</th>\n",
       "    </tr>\n",
       "  </thead>\n",
       "  <tbody>\n",
       "    <tr>\n",
       "      <th>0</th>\n",
       "      <td>Megha Kejriwal</td>\n",
       "      <td>2021-03-30T09:18:17.000Z</td>\n",
       "      <td>NaN</td>\n",
       "      <td>NaN</td>\n",
       "      <td>1.0</td>\n",
       "      <td>Airports may levy spot fines if face mask rule...</td>\n",
       "      <td>NaN</td>\n",
       "    </tr>\n",
       "    <tr>\n",
       "      <th>1</th>\n",
       "      <td>Soumyajit Majumder</td>\n",
       "      <td>2021-03-29T15:00:18.000Z</td>\n",
       "      <td>4.0</td>\n",
       "      <td>NaN</td>\n",
       "      <td>11.0</td>\n",
       "      <td>West Bengal reports 639 new COVID-19 cases, Ko...</td>\n",
       "      <td>NaN</td>\n",
       "    </tr>\n",
       "    <tr>\n",
       "      <th>2</th>\n",
       "      <td>Nishit Shaw</td>\n",
       "      <td>2021-03-29T05:35:57.000Z</td>\n",
       "      <td>NaN</td>\n",
       "      <td>1.0</td>\n",
       "      <td>NaN</td>\n",
       "      <td>Recovery rate drops to 94.32%, very very worri...</td>\n",
       "      <td>NaN</td>\n",
       "    </tr>\n",
       "    <tr>\n",
       "      <th>3</th>\n",
       "      <td>Rajlkxmi Datta</td>\n",
       "      <td>2021-03-28T13:56:19.000Z</td>\n",
       "      <td>NaN</td>\n",
       "      <td>NaN</td>\n",
       "      <td>NaN</td>\n",
       "      <td>Replying to \\n@republic</td>\n",
       "      <td>NaN</td>\n",
       "    </tr>\n",
       "    <tr>\n",
       "      <th>4</th>\n",
       "      <td>Call me WD or Wri</td>\n",
       "      <td>2021-03-28T07:22:24.000Z</td>\n",
       "      <td>NaN</td>\n",
       "      <td>NaN</td>\n",
       "      <td>NaN</td>\n",
       "      <td>Doesn’t quite feel like #Holi, but just anothe...</td>\n",
       "      <td>NaN</td>\n",
       "    </tr>\n",
       "    <tr>\n",
       "      <th>...</th>\n",
       "      <td>...</td>\n",
       "      <td>...</td>\n",
       "      <td>...</td>\n",
       "      <td>...</td>\n",
       "      <td>...</td>\n",
       "      <td>...</td>\n",
       "      <td>...</td>\n",
       "    </tr>\n",
       "    <tr>\n",
       "      <th>519</th>\n",
       "      <td>rsujeet</td>\n",
       "      <td>2021-03-13 14:56:04 India Standard Time</td>\n",
       "      <td>0.0</td>\n",
       "      <td>1.0</td>\n",
       "      <td>3.0</td>\n",
       "      <td>Shri @AUThackeray ji, There is shortage of inj...</td>\n",
       "      <td>en</td>\n",
       "    </tr>\n",
       "    <tr>\n",
       "      <th>520</th>\n",
       "      <td>rsujeet</td>\n",
       "      <td>2021-03-13 14:52:16 India Standard Time</td>\n",
       "      <td>0.0</td>\n",
       "      <td>0.0</td>\n",
       "      <td>0.0</td>\n",
       "      <td>Shri @Dev_Fadnavis ji, There is shortage of in...</td>\n",
       "      <td>en</td>\n",
       "    </tr>\n",
       "    <tr>\n",
       "      <th>521</th>\n",
       "      <td>rsujeet</td>\n",
       "      <td>2021-03-13 14:46:24 India Standard Time</td>\n",
       "      <td>0.0</td>\n",
       "      <td>0.0</td>\n",
       "      <td>0.0</td>\n",
       "      <td>Shri  Udhav Thackeray ji @OfficeofUT , In yava...</td>\n",
       "      <td>en</td>\n",
       "    </tr>\n",
       "    <tr>\n",
       "      <th>522</th>\n",
       "      <td>af2311</td>\n",
       "      <td>2021-03-10 21:13:51 India Standard Time</td>\n",
       "      <td>0.0</td>\n",
       "      <td>0.0</td>\n",
       "      <td>0.0</td>\n",
       "      <td>@ZarrarKhuhro @Asad_Umar @ZaraHatKay_Dawn For ...</td>\n",
       "      <td>en</td>\n",
       "    </tr>\n",
       "    <tr>\n",
       "      <th>523</th>\n",
       "      <td>naynishbl</td>\n",
       "      <td>2021-03-25 11:02:47 India Standard Time</td>\n",
       "      <td>0.0</td>\n",
       "      <td>0.0</td>\n",
       "      <td>0.0</td>\n",
       "      <td>What’s with the Remdesivir. Can anyone tell me.</td>\n",
       "      <td>en</td>\n",
       "    </tr>\n",
       "  </tbody>\n",
       "</table>\n",
       "<p>416 rows × 7 columns</p>\n",
       "</div>"
      ],
      "text/plain": [
       "               username                               created_at  \\\n",
       "0        Megha Kejriwal                 2021-03-30T09:18:17.000Z   \n",
       "1    Soumyajit Majumder                 2021-03-29T15:00:18.000Z   \n",
       "2           Nishit Shaw                 2021-03-29T05:35:57.000Z   \n",
       "3        Rajlkxmi Datta                 2021-03-28T13:56:19.000Z   \n",
       "4     Call me WD or Wri                 2021-03-28T07:22:24.000Z   \n",
       "..                  ...                                      ...   \n",
       "519             rsujeet  2021-03-13 14:56:04 India Standard Time   \n",
       "520             rsujeet  2021-03-13 14:52:16 India Standard Time   \n",
       "521             rsujeet  2021-03-13 14:46:24 India Standard Time   \n",
       "522              af2311  2021-03-10 21:13:51 India Standard Time   \n",
       "523           naynishbl  2021-03-25 11:02:47 India Standard Time   \n",
       "\n",
       "     replies_count  retweets_count  likes_count  \\\n",
       "0              NaN             NaN          1.0   \n",
       "1              4.0             NaN         11.0   \n",
       "2              NaN             1.0          NaN   \n",
       "3              NaN             NaN          NaN   \n",
       "4              NaN             NaN          NaN   \n",
       "..             ...             ...          ...   \n",
       "519            0.0             1.0          3.0   \n",
       "520            0.0             0.0          0.0   \n",
       "521            0.0             0.0          0.0   \n",
       "522            0.0             0.0          0.0   \n",
       "523            0.0             0.0          0.0   \n",
       "\n",
       "                                                 tweet language  \n",
       "0    Airports may levy spot fines if face mask rule...      NaN  \n",
       "1    West Bengal reports 639 new COVID-19 cases, Ko...      NaN  \n",
       "2    Recovery rate drops to 94.32%, very very worri...      NaN  \n",
       "3                              Replying to \\n@republic      NaN  \n",
       "4    Doesn’t quite feel like #Holi, but just anothe...      NaN  \n",
       "..                                                 ...      ...  \n",
       "519  Shri @AUThackeray ji, There is shortage of inj...       en  \n",
       "520  Shri @Dev_Fadnavis ji, There is shortage of in...       en  \n",
       "521  Shri  Udhav Thackeray ji @OfficeofUT , In yava...       en  \n",
       "522  @ZarrarKhuhro @Asad_Umar @ZaraHatKay_Dawn For ...       en  \n",
       "523    What’s with the Remdesivir. Can anyone tell me.       en  \n",
       "\n",
       "[416 rows x 7 columns]"
      ]
     },
     "execution_count": 78,
     "metadata": {},
     "output_type": "execute_result"
    }
   ],
   "source": [
    "March_KeyL"
   ]
  },
  {
   "cell_type": "code",
   "execution_count": 79,
   "id": "d347c0d0",
   "metadata": {},
   "outputs": [],
   "source": [
    "March_KeyL['language'] =March_KeyL['language'].fillna('en')"
   ]
  },
  {
   "cell_type": "code",
   "execution_count": 80,
   "id": "e7b3e7c2",
   "metadata": {},
   "outputs": [
    {
     "data": {
      "text/html": [
       "<div>\n",
       "<style scoped>\n",
       "    .dataframe tbody tr th:only-of-type {\n",
       "        vertical-align: middle;\n",
       "    }\n",
       "\n",
       "    .dataframe tbody tr th {\n",
       "        vertical-align: top;\n",
       "    }\n",
       "\n",
       "    .dataframe thead th {\n",
       "        text-align: right;\n",
       "    }\n",
       "</style>\n",
       "<table border=\"1\" class=\"dataframe\">\n",
       "  <thead>\n",
       "    <tr style=\"text-align: right;\">\n",
       "      <th></th>\n",
       "      <th>username</th>\n",
       "      <th>created_at</th>\n",
       "      <th>replies_count</th>\n",
       "      <th>retweets_count</th>\n",
       "      <th>likes_count</th>\n",
       "      <th>tweet</th>\n",
       "      <th>language</th>\n",
       "    </tr>\n",
       "  </thead>\n",
       "  <tbody>\n",
       "    <tr>\n",
       "      <th>0</th>\n",
       "      <td>Megha Kejriwal</td>\n",
       "      <td>2021-03-30T09:18:17.000Z</td>\n",
       "      <td>NaN</td>\n",
       "      <td>NaN</td>\n",
       "      <td>1.0</td>\n",
       "      <td>Airports may levy spot fines if face mask rule...</td>\n",
       "      <td>en</td>\n",
       "    </tr>\n",
       "    <tr>\n",
       "      <th>1</th>\n",
       "      <td>Soumyajit Majumder</td>\n",
       "      <td>2021-03-29T15:00:18.000Z</td>\n",
       "      <td>4.0</td>\n",
       "      <td>NaN</td>\n",
       "      <td>11.0</td>\n",
       "      <td>West Bengal reports 639 new COVID-19 cases, Ko...</td>\n",
       "      <td>en</td>\n",
       "    </tr>\n",
       "    <tr>\n",
       "      <th>2</th>\n",
       "      <td>Nishit Shaw</td>\n",
       "      <td>2021-03-29T05:35:57.000Z</td>\n",
       "      <td>NaN</td>\n",
       "      <td>1.0</td>\n",
       "      <td>NaN</td>\n",
       "      <td>Recovery rate drops to 94.32%, very very worri...</td>\n",
       "      <td>en</td>\n",
       "    </tr>\n",
       "    <tr>\n",
       "      <th>3</th>\n",
       "      <td>Rajlkxmi Datta</td>\n",
       "      <td>2021-03-28T13:56:19.000Z</td>\n",
       "      <td>NaN</td>\n",
       "      <td>NaN</td>\n",
       "      <td>NaN</td>\n",
       "      <td>Replying to \\n@republic</td>\n",
       "      <td>en</td>\n",
       "    </tr>\n",
       "    <tr>\n",
       "      <th>4</th>\n",
       "      <td>Call me WD or Wri</td>\n",
       "      <td>2021-03-28T07:22:24.000Z</td>\n",
       "      <td>NaN</td>\n",
       "      <td>NaN</td>\n",
       "      <td>NaN</td>\n",
       "      <td>Doesn’t quite feel like #Holi, but just anothe...</td>\n",
       "      <td>en</td>\n",
       "    </tr>\n",
       "    <tr>\n",
       "      <th>...</th>\n",
       "      <td>...</td>\n",
       "      <td>...</td>\n",
       "      <td>...</td>\n",
       "      <td>...</td>\n",
       "      <td>...</td>\n",
       "      <td>...</td>\n",
       "      <td>...</td>\n",
       "    </tr>\n",
       "    <tr>\n",
       "      <th>519</th>\n",
       "      <td>rsujeet</td>\n",
       "      <td>2021-03-13 14:56:04 India Standard Time</td>\n",
       "      <td>0.0</td>\n",
       "      <td>1.0</td>\n",
       "      <td>3.0</td>\n",
       "      <td>Shri @AUThackeray ji, There is shortage of inj...</td>\n",
       "      <td>en</td>\n",
       "    </tr>\n",
       "    <tr>\n",
       "      <th>520</th>\n",
       "      <td>rsujeet</td>\n",
       "      <td>2021-03-13 14:52:16 India Standard Time</td>\n",
       "      <td>0.0</td>\n",
       "      <td>0.0</td>\n",
       "      <td>0.0</td>\n",
       "      <td>Shri @Dev_Fadnavis ji, There is shortage of in...</td>\n",
       "      <td>en</td>\n",
       "    </tr>\n",
       "    <tr>\n",
       "      <th>521</th>\n",
       "      <td>rsujeet</td>\n",
       "      <td>2021-03-13 14:46:24 India Standard Time</td>\n",
       "      <td>0.0</td>\n",
       "      <td>0.0</td>\n",
       "      <td>0.0</td>\n",
       "      <td>Shri  Udhav Thackeray ji @OfficeofUT , In yava...</td>\n",
       "      <td>en</td>\n",
       "    </tr>\n",
       "    <tr>\n",
       "      <th>522</th>\n",
       "      <td>af2311</td>\n",
       "      <td>2021-03-10 21:13:51 India Standard Time</td>\n",
       "      <td>0.0</td>\n",
       "      <td>0.0</td>\n",
       "      <td>0.0</td>\n",
       "      <td>@ZarrarKhuhro @Asad_Umar @ZaraHatKay_Dawn For ...</td>\n",
       "      <td>en</td>\n",
       "    </tr>\n",
       "    <tr>\n",
       "      <th>523</th>\n",
       "      <td>naynishbl</td>\n",
       "      <td>2021-03-25 11:02:47 India Standard Time</td>\n",
       "      <td>0.0</td>\n",
       "      <td>0.0</td>\n",
       "      <td>0.0</td>\n",
       "      <td>What’s with the Remdesivir. Can anyone tell me.</td>\n",
       "      <td>en</td>\n",
       "    </tr>\n",
       "  </tbody>\n",
       "</table>\n",
       "<p>416 rows × 7 columns</p>\n",
       "</div>"
      ],
      "text/plain": [
       "               username                               created_at  \\\n",
       "0        Megha Kejriwal                 2021-03-30T09:18:17.000Z   \n",
       "1    Soumyajit Majumder                 2021-03-29T15:00:18.000Z   \n",
       "2           Nishit Shaw                 2021-03-29T05:35:57.000Z   \n",
       "3        Rajlkxmi Datta                 2021-03-28T13:56:19.000Z   \n",
       "4     Call me WD or Wri                 2021-03-28T07:22:24.000Z   \n",
       "..                  ...                                      ...   \n",
       "519             rsujeet  2021-03-13 14:56:04 India Standard Time   \n",
       "520             rsujeet  2021-03-13 14:52:16 India Standard Time   \n",
       "521             rsujeet  2021-03-13 14:46:24 India Standard Time   \n",
       "522              af2311  2021-03-10 21:13:51 India Standard Time   \n",
       "523           naynishbl  2021-03-25 11:02:47 India Standard Time   \n",
       "\n",
       "     replies_count  retweets_count  likes_count  \\\n",
       "0              NaN             NaN          1.0   \n",
       "1              4.0             NaN         11.0   \n",
       "2              NaN             1.0          NaN   \n",
       "3              NaN             NaN          NaN   \n",
       "4              NaN             NaN          NaN   \n",
       "..             ...             ...          ...   \n",
       "519            0.0             1.0          3.0   \n",
       "520            0.0             0.0          0.0   \n",
       "521            0.0             0.0          0.0   \n",
       "522            0.0             0.0          0.0   \n",
       "523            0.0             0.0          0.0   \n",
       "\n",
       "                                                 tweet language  \n",
       "0    Airports may levy spot fines if face mask rule...       en  \n",
       "1    West Bengal reports 639 new COVID-19 cases, Ko...       en  \n",
       "2    Recovery rate drops to 94.32%, very very worri...       en  \n",
       "3                              Replying to \\n@republic       en  \n",
       "4    Doesn’t quite feel like #Holi, but just anothe...       en  \n",
       "..                                                 ...      ...  \n",
       "519  Shri @AUThackeray ji, There is shortage of inj...       en  \n",
       "520  Shri @Dev_Fadnavis ji, There is shortage of in...       en  \n",
       "521  Shri  Udhav Thackeray ji @OfficeofUT , In yava...       en  \n",
       "522  @ZarrarKhuhro @Asad_Umar @ZaraHatKay_Dawn For ...       en  \n",
       "523    What’s with the Remdesivir. Can anyone tell me.       en  \n",
       "\n",
       "[416 rows x 7 columns]"
      ]
     },
     "execution_count": 80,
     "metadata": {},
     "output_type": "execute_result"
    }
   ],
   "source": [
    "March_KeyL"
   ]
  },
  {
   "cell_type": "code",
   "execution_count": 87,
   "id": "cc354776",
   "metadata": {},
   "outputs": [
    {
     "data": {
      "text/html": [
       "<div>\n",
       "<style scoped>\n",
       "    .dataframe tbody tr th:only-of-type {\n",
       "        vertical-align: middle;\n",
       "    }\n",
       "\n",
       "    .dataframe tbody tr th {\n",
       "        vertical-align: top;\n",
       "    }\n",
       "\n",
       "    .dataframe thead th {\n",
       "        text-align: right;\n",
       "    }\n",
       "</style>\n",
       "<table border=\"1\" class=\"dataframe\">\n",
       "  <thead>\n",
       "    <tr style=\"text-align: right;\">\n",
       "      <th></th>\n",
       "      <th>username</th>\n",
       "      <th>created_at</th>\n",
       "      <th>replies_count</th>\n",
       "      <th>retweets_count</th>\n",
       "      <th>likes_count</th>\n",
       "      <th>tweet</th>\n",
       "      <th>language</th>\n",
       "    </tr>\n",
       "  </thead>\n",
       "  <tbody>\n",
       "    <tr>\n",
       "      <th>0</th>\n",
       "      <td>Megha Kejriwal</td>\n",
       "      <td>2021-03-30T09:18:17.000Z</td>\n",
       "      <td>NaN</td>\n",
       "      <td>NaN</td>\n",
       "      <td>1.0</td>\n",
       "      <td>Airports may levy spot fines if face mask rule...</td>\n",
       "      <td>en</td>\n",
       "    </tr>\n",
       "    <tr>\n",
       "      <th>1</th>\n",
       "      <td>Soumyajit Majumder</td>\n",
       "      <td>2021-03-29T15:00:18.000Z</td>\n",
       "      <td>4.0</td>\n",
       "      <td>NaN</td>\n",
       "      <td>11.0</td>\n",
       "      <td>West Bengal reports 639 new COVID-19 cases, Ko...</td>\n",
       "      <td>en</td>\n",
       "    </tr>\n",
       "    <tr>\n",
       "      <th>2</th>\n",
       "      <td>Nishit Shaw</td>\n",
       "      <td>2021-03-29T05:35:57.000Z</td>\n",
       "      <td>NaN</td>\n",
       "      <td>1.0</td>\n",
       "      <td>NaN</td>\n",
       "      <td>Recovery rate drops to 94.32%, very very worri...</td>\n",
       "      <td>en</td>\n",
       "    </tr>\n",
       "    <tr>\n",
       "      <th>3</th>\n",
       "      <td>Rajlkxmi Datta</td>\n",
       "      <td>2021-03-28T13:56:19.000Z</td>\n",
       "      <td>NaN</td>\n",
       "      <td>NaN</td>\n",
       "      <td>NaN</td>\n",
       "      <td>Replying to \\n@republic</td>\n",
       "      <td>en</td>\n",
       "    </tr>\n",
       "    <tr>\n",
       "      <th>4</th>\n",
       "      <td>Call me WD or Wri</td>\n",
       "      <td>2021-03-28T07:22:24.000Z</td>\n",
       "      <td>NaN</td>\n",
       "      <td>NaN</td>\n",
       "      <td>NaN</td>\n",
       "      <td>Doesn’t quite feel like #Holi, but just anothe...</td>\n",
       "      <td>en</td>\n",
       "    </tr>\n",
       "    <tr>\n",
       "      <th>...</th>\n",
       "      <td>...</td>\n",
       "      <td>...</td>\n",
       "      <td>...</td>\n",
       "      <td>...</td>\n",
       "      <td>...</td>\n",
       "      <td>...</td>\n",
       "      <td>...</td>\n",
       "    </tr>\n",
       "    <tr>\n",
       "      <th>519</th>\n",
       "      <td>rsujeet</td>\n",
       "      <td>2021-03-13 14:56:04 India Standard Time</td>\n",
       "      <td>0.0</td>\n",
       "      <td>1.0</td>\n",
       "      <td>3.0</td>\n",
       "      <td>Shri @AUThackeray ji, There is shortage of inj...</td>\n",
       "      <td>en</td>\n",
       "    </tr>\n",
       "    <tr>\n",
       "      <th>520</th>\n",
       "      <td>rsujeet</td>\n",
       "      <td>2021-03-13 14:52:16 India Standard Time</td>\n",
       "      <td>0.0</td>\n",
       "      <td>0.0</td>\n",
       "      <td>0.0</td>\n",
       "      <td>Shri @Dev_Fadnavis ji, There is shortage of in...</td>\n",
       "      <td>en</td>\n",
       "    </tr>\n",
       "    <tr>\n",
       "      <th>521</th>\n",
       "      <td>rsujeet</td>\n",
       "      <td>2021-03-13 14:46:24 India Standard Time</td>\n",
       "      <td>0.0</td>\n",
       "      <td>0.0</td>\n",
       "      <td>0.0</td>\n",
       "      <td>Shri  Udhav Thackeray ji @OfficeofUT , In yava...</td>\n",
       "      <td>en</td>\n",
       "    </tr>\n",
       "    <tr>\n",
       "      <th>522</th>\n",
       "      <td>af2311</td>\n",
       "      <td>2021-03-10 21:13:51 India Standard Time</td>\n",
       "      <td>0.0</td>\n",
       "      <td>0.0</td>\n",
       "      <td>0.0</td>\n",
       "      <td>@ZarrarKhuhro @Asad_Umar @ZaraHatKay_Dawn For ...</td>\n",
       "      <td>en</td>\n",
       "    </tr>\n",
       "    <tr>\n",
       "      <th>523</th>\n",
       "      <td>naynishbl</td>\n",
       "      <td>2021-03-25 11:02:47 India Standard Time</td>\n",
       "      <td>0.0</td>\n",
       "      <td>0.0</td>\n",
       "      <td>0.0</td>\n",
       "      <td>What’s with the Remdesivir. Can anyone tell me.</td>\n",
       "      <td>en</td>\n",
       "    </tr>\n",
       "  </tbody>\n",
       "</table>\n",
       "<p>416 rows × 7 columns</p>\n",
       "</div>"
      ],
      "text/plain": [
       "               username                               created_at  \\\n",
       "0        Megha Kejriwal                 2021-03-30T09:18:17.000Z   \n",
       "1    Soumyajit Majumder                 2021-03-29T15:00:18.000Z   \n",
       "2           Nishit Shaw                 2021-03-29T05:35:57.000Z   \n",
       "3        Rajlkxmi Datta                 2021-03-28T13:56:19.000Z   \n",
       "4     Call me WD or Wri                 2021-03-28T07:22:24.000Z   \n",
       "..                  ...                                      ...   \n",
       "519             rsujeet  2021-03-13 14:56:04 India Standard Time   \n",
       "520             rsujeet  2021-03-13 14:52:16 India Standard Time   \n",
       "521             rsujeet  2021-03-13 14:46:24 India Standard Time   \n",
       "522              af2311  2021-03-10 21:13:51 India Standard Time   \n",
       "523           naynishbl  2021-03-25 11:02:47 India Standard Time   \n",
       "\n",
       "     replies_count  retweets_count  likes_count  \\\n",
       "0              NaN             NaN          1.0   \n",
       "1              4.0             NaN         11.0   \n",
       "2              NaN             1.0          NaN   \n",
       "3              NaN             NaN          NaN   \n",
       "4              NaN             NaN          NaN   \n",
       "..             ...             ...          ...   \n",
       "519            0.0             1.0          3.0   \n",
       "520            0.0             0.0          0.0   \n",
       "521            0.0             0.0          0.0   \n",
       "522            0.0             0.0          0.0   \n",
       "523            0.0             0.0          0.0   \n",
       "\n",
       "                                                 tweet language  \n",
       "0    Airports may levy spot fines if face mask rule...       en  \n",
       "1    West Bengal reports 639 new COVID-19 cases, Ko...       en  \n",
       "2    Recovery rate drops to 94.32%, very very worri...       en  \n",
       "3                              Replying to \\n@republic       en  \n",
       "4    Doesn’t quite feel like #Holi, but just anothe...       en  \n",
       "..                                                 ...      ...  \n",
       "519  Shri @AUThackeray ji, There is shortage of inj...       en  \n",
       "520  Shri @Dev_Fadnavis ji, There is shortage of in...       en  \n",
       "521  Shri  Udhav Thackeray ji @OfficeofUT , In yava...       en  \n",
       "522  @ZarrarKhuhro @Asad_Umar @ZaraHatKay_Dawn For ...       en  \n",
       "523    What’s with the Remdesivir. Can anyone tell me.       en  \n",
       "\n",
       "[416 rows x 7 columns]"
      ]
     },
     "execution_count": 87,
     "metadata": {},
     "output_type": "execute_result"
    }
   ],
   "source": [
    "March_KeyL"
   ]
  },
  {
   "cell_type": "code",
   "execution_count": 81,
   "id": "80b8ed77",
   "metadata": {},
   "outputs": [],
   "source": [
    "marchT=pd.read_csv('Covid_tweets(march-2021-topSection).csv')"
   ]
  },
  {
   "cell_type": "code",
   "execution_count": 82,
   "id": "4e7de5b6",
   "metadata": {},
   "outputs": [
    {
     "data": {
      "text/plain": [
       "Index(['UserName', 'Userhandle', 'Time', 'comments', 'likes', 'retweets',\n",
       "       'Tweet'],\n",
       "      dtype='object')"
      ]
     },
     "execution_count": 82,
     "metadata": {},
     "output_type": "execute_result"
    }
   ],
   "source": [
    "marchT.columns"
   ]
  },
  {
   "cell_type": "code",
   "execution_count": 85,
   "id": "419cb153",
   "metadata": {},
   "outputs": [],
   "source": [
    "marchT[\"language\"]=np.nan"
   ]
  },
  {
   "cell_type": "code",
   "execution_count": 86,
   "id": "bb96ce64",
   "metadata": {},
   "outputs": [
    {
     "data": {
      "text/html": [
       "<div>\n",
       "<style scoped>\n",
       "    .dataframe tbody tr th:only-of-type {\n",
       "        vertical-align: middle;\n",
       "    }\n",
       "\n",
       "    .dataframe tbody tr th {\n",
       "        vertical-align: top;\n",
       "    }\n",
       "\n",
       "    .dataframe thead th {\n",
       "        text-align: right;\n",
       "    }\n",
       "</style>\n",
       "<table border=\"1\" class=\"dataframe\">\n",
       "  <thead>\n",
       "    <tr style=\"text-align: right;\">\n",
       "      <th></th>\n",
       "      <th>UserName</th>\n",
       "      <th>Userhandle</th>\n",
       "      <th>Time</th>\n",
       "      <th>comments</th>\n",
       "      <th>likes</th>\n",
       "      <th>retweets</th>\n",
       "      <th>Tweet</th>\n",
       "      <th>language</th>\n",
       "    </tr>\n",
       "  </thead>\n",
       "  <tbody>\n",
       "    <tr>\n",
       "      <th>0</th>\n",
       "      <td>Nishit Shaw</td>\n",
       "      <td>@NishitShawHere</td>\n",
       "      <td>2021-03-29T05:35:57.000Z</td>\n",
       "      <td>NaN</td>\n",
       "      <td>NaN</td>\n",
       "      <td>1.0</td>\n",
       "      <td>Recovery rate drops to 94.32%, very very worri...</td>\n",
       "      <td>NaN</td>\n",
       "    </tr>\n",
       "    <tr>\n",
       "      <th>1</th>\n",
       "      <td>Harleen</td>\n",
       "      <td>@DontiaHarleen</td>\n",
       "      <td>2021-03-04T08:35:26.000Z</td>\n",
       "      <td>NaN</td>\n",
       "      <td>NaN</td>\n",
       "      <td>NaN</td>\n",
       "      <td>Covid Second dose done\\n\\n#Covid_19 #COVID19Va...</td>\n",
       "      <td>NaN</td>\n",
       "    </tr>\n",
       "    <tr>\n",
       "      <th>2</th>\n",
       "      <td>Nishit Shaw</td>\n",
       "      <td>@NishitShawHere</td>\n",
       "      <td>2021-03-27T05:35:43.000Z</td>\n",
       "      <td>NaN</td>\n",
       "      <td>1.0</td>\n",
       "      <td>NaN</td>\n",
       "      <td>With #SachinTendulkar testing positive, here i...</td>\n",
       "      <td>NaN</td>\n",
       "    </tr>\n",
       "    <tr>\n",
       "      <th>3</th>\n",
       "      <td>Prashant Kumar</td>\n",
       "      <td>@scribe_prashant</td>\n",
       "      <td>2021-03-18T05:32:47.000Z</td>\n",
       "      <td>NaN</td>\n",
       "      <td>32.0</td>\n",
       "      <td>11.0</td>\n",
       "      <td>BREAKING: Cases of Covid-19 on rise in nationa...</td>\n",
       "      <td>NaN</td>\n",
       "    </tr>\n",
       "    <tr>\n",
       "      <th>4</th>\n",
       "      <td>shyamal das</td>\n",
       "      <td>@shyamal81465999</td>\n",
       "      <td>2021-03-22T08:45:59.000Z</td>\n",
       "      <td>NaN</td>\n",
       "      <td>NaN</td>\n",
       "      <td>NaN</td>\n",
       "      <td>Protection covid 19</td>\n",
       "      <td>NaN</td>\n",
       "    </tr>\n",
       "    <tr>\n",
       "      <th>...</th>\n",
       "      <td>...</td>\n",
       "      <td>...</td>\n",
       "      <td>...</td>\n",
       "      <td>...</td>\n",
       "      <td>...</td>\n",
       "      <td>...</td>\n",
       "      <td>...</td>\n",
       "      <td>...</td>\n",
       "    </tr>\n",
       "    <tr>\n",
       "      <th>62</th>\n",
       "      <td>Mridul Sen</td>\n",
       "      <td>@MridulSen3</td>\n",
       "      <td>2021-03-03T15:07:35.000Z</td>\n",
       "      <td>NaN</td>\n",
       "      <td>NaN</td>\n",
       "      <td>NaN</td>\n",
       "      <td>@CMOMaharashtra\\n If you guys cannot control c...</td>\n",
       "      <td>NaN</td>\n",
       "    </tr>\n",
       "    <tr>\n",
       "      <th>63</th>\n",
       "      <td>Yoriichi Tsugikuni</td>\n",
       "      <td>@SniperdmYT</td>\n",
       "      <td>2021-03-20T05:16:18.000Z</td>\n",
       "      <td>NaN</td>\n",
       "      <td>NaN</td>\n",
       "      <td>NaN</td>\n",
       "      <td>@MamataOfficial\\n \\n@BanglarGorboMB\\n \\n@AITCo...</td>\n",
       "      <td>NaN</td>\n",
       "    </tr>\n",
       "    <tr>\n",
       "      <th>64</th>\n",
       "      <td>Amit Mukherjee</td>\n",
       "      <td>@AmitMukherji15</td>\n",
       "      <td>2021-03-09T16:19:39.000Z</td>\n",
       "      <td>NaN</td>\n",
       "      <td>NaN</td>\n",
       "      <td>NaN</td>\n",
       "      <td>Replying to \\n@RailwaySeva</td>\n",
       "      <td>NaN</td>\n",
       "    </tr>\n",
       "    <tr>\n",
       "      <th>65</th>\n",
       "      <td>Purushottam Prashar</td>\n",
       "      <td>@purukol</td>\n",
       "      <td>2021-03-14T03:07:58.000Z</td>\n",
       "      <td>1.0</td>\n",
       "      <td>1.0</td>\n",
       "      <td>1.0</td>\n",
       "      <td>@narendramodi\\n \\n@drharshvardhan\\n Dear sir r...</td>\n",
       "      <td>NaN</td>\n",
       "    </tr>\n",
       "    <tr>\n",
       "      <th>66</th>\n",
       "      <td>Purushottam Prashar</td>\n",
       "      <td>@purukol</td>\n",
       "      <td>2021-03-14T13:59:24.000Z</td>\n",
       "      <td>NaN</td>\n",
       "      <td>1.0</td>\n",
       "      <td>1.0</td>\n",
       "      <td>@narendramodi\\n \\n@drharshvardhan\\n \\n@aajtak\\...</td>\n",
       "      <td>NaN</td>\n",
       "    </tr>\n",
       "  </tbody>\n",
       "</table>\n",
       "<p>67 rows × 8 columns</p>\n",
       "</div>"
      ],
      "text/plain": [
       "               UserName        Userhandle                      Time  comments  \\\n",
       "0           Nishit Shaw   @NishitShawHere  2021-03-29T05:35:57.000Z       NaN   \n",
       "1               Harleen    @DontiaHarleen  2021-03-04T08:35:26.000Z       NaN   \n",
       "2           Nishit Shaw   @NishitShawHere  2021-03-27T05:35:43.000Z       NaN   \n",
       "3        Prashant Kumar  @scribe_prashant  2021-03-18T05:32:47.000Z       NaN   \n",
       "4           shyamal das  @shyamal81465999  2021-03-22T08:45:59.000Z       NaN   \n",
       "..                  ...               ...                       ...       ...   \n",
       "62           Mridul Sen       @MridulSen3  2021-03-03T15:07:35.000Z       NaN   \n",
       "63   Yoriichi Tsugikuni       @SniperdmYT  2021-03-20T05:16:18.000Z       NaN   \n",
       "64       Amit Mukherjee   @AmitMukherji15  2021-03-09T16:19:39.000Z       NaN   \n",
       "65  Purushottam Prashar          @purukol  2021-03-14T03:07:58.000Z       1.0   \n",
       "66  Purushottam Prashar          @purukol  2021-03-14T13:59:24.000Z       NaN   \n",
       "\n",
       "    likes  retweets                                              Tweet  \\\n",
       "0     NaN       1.0  Recovery rate drops to 94.32%, very very worri...   \n",
       "1     NaN       NaN  Covid Second dose done\\n\\n#Covid_19 #COVID19Va...   \n",
       "2     1.0       NaN  With #SachinTendulkar testing positive, here i...   \n",
       "3    32.0      11.0  BREAKING: Cases of Covid-19 on rise in nationa...   \n",
       "4     NaN       NaN                                Protection covid 19   \n",
       "..    ...       ...                                                ...   \n",
       "62    NaN       NaN  @CMOMaharashtra\\n If you guys cannot control c...   \n",
       "63    NaN       NaN  @MamataOfficial\\n \\n@BanglarGorboMB\\n \\n@AITCo...   \n",
       "64    NaN       NaN                         Replying to \\n@RailwaySeva   \n",
       "65    1.0       1.0  @narendramodi\\n \\n@drharshvardhan\\n Dear sir r...   \n",
       "66    1.0       1.0  @narendramodi\\n \\n@drharshvardhan\\n \\n@aajtak\\...   \n",
       "\n",
       "    language  \n",
       "0        NaN  \n",
       "1        NaN  \n",
       "2        NaN  \n",
       "3        NaN  \n",
       "4        NaN  \n",
       "..       ...  \n",
       "62       NaN  \n",
       "63       NaN  \n",
       "64       NaN  \n",
       "65       NaN  \n",
       "66       NaN  \n",
       "\n",
       "[67 rows x 8 columns]"
      ]
     },
     "execution_count": 86,
     "metadata": {},
     "output_type": "execute_result"
    }
   ],
   "source": [
    "marchT"
   ]
  },
  {
   "cell_type": "code",
   "execution_count": 88,
   "id": "98cd4b26",
   "metadata": {},
   "outputs": [],
   "source": [
    "marchT.drop(['Userhandle'],axis=1,inplace=True)"
   ]
  },
  {
   "cell_type": "code",
   "execution_count": 89,
   "id": "e00747fa",
   "metadata": {},
   "outputs": [
    {
     "data": {
      "text/plain": [
       "(67, 7)"
      ]
     },
     "execution_count": 89,
     "metadata": {},
     "output_type": "execute_result"
    }
   ],
   "source": [
    "marchT.shape"
   ]
  },
  {
   "cell_type": "code",
   "execution_count": 91,
   "id": "01c95769",
   "metadata": {},
   "outputs": [
    {
     "data": {
      "text/plain": [
       "(416, 7)"
      ]
     },
     "execution_count": 91,
     "metadata": {},
     "output_type": "execute_result"
    }
   ],
   "source": [
    "March_KeyL.shape"
   ]
  },
  {
   "cell_type": "code",
   "execution_count": 92,
   "id": "43c8c519",
   "metadata": {},
   "outputs": [],
   "source": [
    "marchT=marchT.rename(columns={'UserName':'username','Time':'created_at','comments':'replies_count','retweets':'retweets_count','likes':'likes_count','Tweet':'tweet'})"
   ]
  },
  {
   "cell_type": "code",
   "execution_count": 93,
   "id": "dbc5e886",
   "metadata": {},
   "outputs": [],
   "source": [
    "March_KeyLT=pd.concat([marchT,March_KeyL]).drop_duplicates()"
   ]
  },
  {
   "cell_type": "code",
   "execution_count": 94,
   "id": "1d4e4ae5",
   "metadata": {},
   "outputs": [
    {
     "data": {
      "text/plain": [
       "(483, 7)"
      ]
     },
     "execution_count": 94,
     "metadata": {},
     "output_type": "execute_result"
    }
   ],
   "source": [
    "March_KeyLT.shape"
   ]
  },
  {
   "cell_type": "code",
   "execution_count": 95,
   "id": "ac8ebdbe",
   "metadata": {},
   "outputs": [
    {
     "data": {
      "text/plain": [
       "Index(['username', 'created_at', 'replies_count', 'likes_count',\n",
       "       'retweets_count', 'tweet', 'language'],\n",
       "      dtype='object')"
      ]
     },
     "execution_count": 95,
     "metadata": {},
     "output_type": "execute_result"
    }
   ],
   "source": [
    "March_KeyLT.columns"
   ]
  },
  {
   "cell_type": "code",
   "execution_count": 96,
   "id": "10a547f6",
   "metadata": {},
   "outputs": [
    {
     "data": {
      "text/html": [
       "<div>\n",
       "<style scoped>\n",
       "    .dataframe tbody tr th:only-of-type {\n",
       "        vertical-align: middle;\n",
       "    }\n",
       "\n",
       "    .dataframe tbody tr th {\n",
       "        vertical-align: top;\n",
       "    }\n",
       "\n",
       "    .dataframe thead th {\n",
       "        text-align: right;\n",
       "    }\n",
       "</style>\n",
       "<table border=\"1\" class=\"dataframe\">\n",
       "  <thead>\n",
       "    <tr style=\"text-align: right;\">\n",
       "      <th></th>\n",
       "      <th>username</th>\n",
       "      <th>created_at</th>\n",
       "      <th>replies_count</th>\n",
       "      <th>likes_count</th>\n",
       "      <th>retweets_count</th>\n",
       "      <th>tweet</th>\n",
       "      <th>language</th>\n",
       "    </tr>\n",
       "  </thead>\n",
       "  <tbody>\n",
       "    <tr>\n",
       "      <th>0</th>\n",
       "      <td>Nishit Shaw</td>\n",
       "      <td>2021-03-29T05:35:57.000Z</td>\n",
       "      <td>NaN</td>\n",
       "      <td>NaN</td>\n",
       "      <td>1.0</td>\n",
       "      <td>Recovery rate drops to 94.32%, very very worri...</td>\n",
       "      <td>NaN</td>\n",
       "    </tr>\n",
       "    <tr>\n",
       "      <th>1</th>\n",
       "      <td>Harleen</td>\n",
       "      <td>2021-03-04T08:35:26.000Z</td>\n",
       "      <td>NaN</td>\n",
       "      <td>NaN</td>\n",
       "      <td>NaN</td>\n",
       "      <td>Covid Second dose done\\n\\n#Covid_19 #COVID19Va...</td>\n",
       "      <td>NaN</td>\n",
       "    </tr>\n",
       "    <tr>\n",
       "      <th>2</th>\n",
       "      <td>Nishit Shaw</td>\n",
       "      <td>2021-03-27T05:35:43.000Z</td>\n",
       "      <td>NaN</td>\n",
       "      <td>1.0</td>\n",
       "      <td>NaN</td>\n",
       "      <td>With #SachinTendulkar testing positive, here i...</td>\n",
       "      <td>NaN</td>\n",
       "    </tr>\n",
       "    <tr>\n",
       "      <th>3</th>\n",
       "      <td>Prashant Kumar</td>\n",
       "      <td>2021-03-18T05:32:47.000Z</td>\n",
       "      <td>NaN</td>\n",
       "      <td>32.0</td>\n",
       "      <td>11.0</td>\n",
       "      <td>BREAKING: Cases of Covid-19 on rise in nationa...</td>\n",
       "      <td>NaN</td>\n",
       "    </tr>\n",
       "    <tr>\n",
       "      <th>4</th>\n",
       "      <td>shyamal das</td>\n",
       "      <td>2021-03-22T08:45:59.000Z</td>\n",
       "      <td>NaN</td>\n",
       "      <td>NaN</td>\n",
       "      <td>NaN</td>\n",
       "      <td>Protection covid 19</td>\n",
       "      <td>NaN</td>\n",
       "    </tr>\n",
       "  </tbody>\n",
       "</table>\n",
       "</div>"
      ],
      "text/plain": [
       "         username                created_at  replies_count  likes_count  \\\n",
       "0     Nishit Shaw  2021-03-29T05:35:57.000Z            NaN          NaN   \n",
       "1         Harleen  2021-03-04T08:35:26.000Z            NaN          NaN   \n",
       "2     Nishit Shaw  2021-03-27T05:35:43.000Z            NaN          1.0   \n",
       "3  Prashant Kumar  2021-03-18T05:32:47.000Z            NaN         32.0   \n",
       "4     shyamal das  2021-03-22T08:45:59.000Z            NaN          NaN   \n",
       "\n",
       "   retweets_count                                              tweet language  \n",
       "0             1.0  Recovery rate drops to 94.32%, very very worri...      NaN  \n",
       "1             NaN  Covid Second dose done\\n\\n#Covid_19 #COVID19Va...      NaN  \n",
       "2             NaN  With #SachinTendulkar testing positive, here i...      NaN  \n",
       "3            11.0  BREAKING: Cases of Covid-19 on rise in nationa...      NaN  \n",
       "4             NaN                                Protection covid 19      NaN  "
      ]
     },
     "execution_count": 96,
     "metadata": {},
     "output_type": "execute_result"
    }
   ],
   "source": [
    "March_KeyLT.head(5)"
   ]
  },
  {
   "cell_type": "code",
   "execution_count": 97,
   "id": "121c222f",
   "metadata": {},
   "outputs": [],
   "source": [
    "March_KeyLT['language'] =March_KeyLT['language'].fillna('en')"
   ]
  },
  {
   "cell_type": "code",
   "execution_count": 98,
   "id": "b9611596",
   "metadata": {},
   "outputs": [
    {
     "data": {
      "text/html": [
       "<div>\n",
       "<style scoped>\n",
       "    .dataframe tbody tr th:only-of-type {\n",
       "        vertical-align: middle;\n",
       "    }\n",
       "\n",
       "    .dataframe tbody tr th {\n",
       "        vertical-align: top;\n",
       "    }\n",
       "\n",
       "    .dataframe thead th {\n",
       "        text-align: right;\n",
       "    }\n",
       "</style>\n",
       "<table border=\"1\" class=\"dataframe\">\n",
       "  <thead>\n",
       "    <tr style=\"text-align: right;\">\n",
       "      <th></th>\n",
       "      <th>username</th>\n",
       "      <th>created_at</th>\n",
       "      <th>replies_count</th>\n",
       "      <th>likes_count</th>\n",
       "      <th>retweets_count</th>\n",
       "      <th>tweet</th>\n",
       "      <th>language</th>\n",
       "    </tr>\n",
       "  </thead>\n",
       "  <tbody>\n",
       "    <tr>\n",
       "      <th>0</th>\n",
       "      <td>Nishit Shaw</td>\n",
       "      <td>2021-03-29T05:35:57.000Z</td>\n",
       "      <td>NaN</td>\n",
       "      <td>NaN</td>\n",
       "      <td>1.0</td>\n",
       "      <td>Recovery rate drops to 94.32%, very very worri...</td>\n",
       "      <td>en</td>\n",
       "    </tr>\n",
       "    <tr>\n",
       "      <th>1</th>\n",
       "      <td>Harleen</td>\n",
       "      <td>2021-03-04T08:35:26.000Z</td>\n",
       "      <td>NaN</td>\n",
       "      <td>NaN</td>\n",
       "      <td>NaN</td>\n",
       "      <td>Covid Second dose done\\n\\n#Covid_19 #COVID19Va...</td>\n",
       "      <td>en</td>\n",
       "    </tr>\n",
       "    <tr>\n",
       "      <th>2</th>\n",
       "      <td>Nishit Shaw</td>\n",
       "      <td>2021-03-27T05:35:43.000Z</td>\n",
       "      <td>NaN</td>\n",
       "      <td>1.0</td>\n",
       "      <td>NaN</td>\n",
       "      <td>With #SachinTendulkar testing positive, here i...</td>\n",
       "      <td>en</td>\n",
       "    </tr>\n",
       "    <tr>\n",
       "      <th>3</th>\n",
       "      <td>Prashant Kumar</td>\n",
       "      <td>2021-03-18T05:32:47.000Z</td>\n",
       "      <td>NaN</td>\n",
       "      <td>32.0</td>\n",
       "      <td>11.0</td>\n",
       "      <td>BREAKING: Cases of Covid-19 on rise in nationa...</td>\n",
       "      <td>en</td>\n",
       "    </tr>\n",
       "    <tr>\n",
       "      <th>4</th>\n",
       "      <td>shyamal das</td>\n",
       "      <td>2021-03-22T08:45:59.000Z</td>\n",
       "      <td>NaN</td>\n",
       "      <td>NaN</td>\n",
       "      <td>NaN</td>\n",
       "      <td>Protection covid 19</td>\n",
       "      <td>en</td>\n",
       "    </tr>\n",
       "  </tbody>\n",
       "</table>\n",
       "</div>"
      ],
      "text/plain": [
       "         username                created_at  replies_count  likes_count  \\\n",
       "0     Nishit Shaw  2021-03-29T05:35:57.000Z            NaN          NaN   \n",
       "1         Harleen  2021-03-04T08:35:26.000Z            NaN          NaN   \n",
       "2     Nishit Shaw  2021-03-27T05:35:43.000Z            NaN          1.0   \n",
       "3  Prashant Kumar  2021-03-18T05:32:47.000Z            NaN         32.0   \n",
       "4     shyamal das  2021-03-22T08:45:59.000Z            NaN          NaN   \n",
       "\n",
       "   retweets_count                                              tweet language  \n",
       "0             1.0  Recovery rate drops to 94.32%, very very worri...       en  \n",
       "1             NaN  Covid Second dose done\\n\\n#Covid_19 #COVID19Va...       en  \n",
       "2             NaN  With #SachinTendulkar testing positive, here i...       en  \n",
       "3            11.0  BREAKING: Cases of Covid-19 on rise in nationa...       en  \n",
       "4             NaN                                Protection covid 19       en  "
      ]
     },
     "execution_count": 98,
     "metadata": {},
     "output_type": "execute_result"
    }
   ],
   "source": [
    "March_KeyLT.head(5)"
   ]
  },
  {
   "cell_type": "code",
   "execution_count": 99,
   "id": "74dfe00e",
   "metadata": {},
   "outputs": [],
   "source": [
    "March_KeyLT[['replies_count','likes_count','retweets_count',]] =March_KeyLT[['replies_count','likes_count','retweets_count',]].fillna(0)"
   ]
  },
  {
   "cell_type": "code",
   "execution_count": 101,
   "id": "c3278698",
   "metadata": {},
   "outputs": [
    {
     "data": {
      "text/html": [
       "<div>\n",
       "<style scoped>\n",
       "    .dataframe tbody tr th:only-of-type {\n",
       "        vertical-align: middle;\n",
       "    }\n",
       "\n",
       "    .dataframe tbody tr th {\n",
       "        vertical-align: top;\n",
       "    }\n",
       "\n",
       "    .dataframe thead th {\n",
       "        text-align: right;\n",
       "    }\n",
       "</style>\n",
       "<table border=\"1\" class=\"dataframe\">\n",
       "  <thead>\n",
       "    <tr style=\"text-align: right;\">\n",
       "      <th></th>\n",
       "      <th>username</th>\n",
       "      <th>created_at</th>\n",
       "      <th>replies_count</th>\n",
       "      <th>likes_count</th>\n",
       "      <th>retweets_count</th>\n",
       "      <th>tweet</th>\n",
       "      <th>language</th>\n",
       "    </tr>\n",
       "  </thead>\n",
       "  <tbody>\n",
       "    <tr>\n",
       "      <th>0</th>\n",
       "      <td>Nishit Shaw</td>\n",
       "      <td>2021-03-29T05:35:57.000Z</td>\n",
       "      <td>0.0</td>\n",
       "      <td>0.0</td>\n",
       "      <td>1.0</td>\n",
       "      <td>Recovery rate drops to 94.32%, very very worri...</td>\n",
       "      <td>en</td>\n",
       "    </tr>\n",
       "    <tr>\n",
       "      <th>1</th>\n",
       "      <td>Harleen</td>\n",
       "      <td>2021-03-04T08:35:26.000Z</td>\n",
       "      <td>0.0</td>\n",
       "      <td>0.0</td>\n",
       "      <td>0.0</td>\n",
       "      <td>Covid Second dose done\\n\\n#Covid_19 #COVID19Va...</td>\n",
       "      <td>en</td>\n",
       "    </tr>\n",
       "    <tr>\n",
       "      <th>2</th>\n",
       "      <td>Nishit Shaw</td>\n",
       "      <td>2021-03-27T05:35:43.000Z</td>\n",
       "      <td>0.0</td>\n",
       "      <td>1.0</td>\n",
       "      <td>0.0</td>\n",
       "      <td>With #SachinTendulkar testing positive, here i...</td>\n",
       "      <td>en</td>\n",
       "    </tr>\n",
       "    <tr>\n",
       "      <th>3</th>\n",
       "      <td>Prashant Kumar</td>\n",
       "      <td>2021-03-18T05:32:47.000Z</td>\n",
       "      <td>0.0</td>\n",
       "      <td>32.0</td>\n",
       "      <td>11.0</td>\n",
       "      <td>BREAKING: Cases of Covid-19 on rise in nationa...</td>\n",
       "      <td>en</td>\n",
       "    </tr>\n",
       "    <tr>\n",
       "      <th>4</th>\n",
       "      <td>shyamal das</td>\n",
       "      <td>2021-03-22T08:45:59.000Z</td>\n",
       "      <td>0.0</td>\n",
       "      <td>0.0</td>\n",
       "      <td>0.0</td>\n",
       "      <td>Protection covid 19</td>\n",
       "      <td>en</td>\n",
       "    </tr>\n",
       "    <tr>\n",
       "      <th>...</th>\n",
       "      <td>...</td>\n",
       "      <td>...</td>\n",
       "      <td>...</td>\n",
       "      <td>...</td>\n",
       "      <td>...</td>\n",
       "      <td>...</td>\n",
       "      <td>...</td>\n",
       "    </tr>\n",
       "    <tr>\n",
       "      <th>519</th>\n",
       "      <td>rsujeet</td>\n",
       "      <td>2021-03-13 14:56:04 India Standard Time</td>\n",
       "      <td>0.0</td>\n",
       "      <td>3.0</td>\n",
       "      <td>1.0</td>\n",
       "      <td>Shri @AUThackeray ji, There is shortage of inj...</td>\n",
       "      <td>en</td>\n",
       "    </tr>\n",
       "    <tr>\n",
       "      <th>520</th>\n",
       "      <td>rsujeet</td>\n",
       "      <td>2021-03-13 14:52:16 India Standard Time</td>\n",
       "      <td>0.0</td>\n",
       "      <td>0.0</td>\n",
       "      <td>0.0</td>\n",
       "      <td>Shri @Dev_Fadnavis ji, There is shortage of in...</td>\n",
       "      <td>en</td>\n",
       "    </tr>\n",
       "    <tr>\n",
       "      <th>521</th>\n",
       "      <td>rsujeet</td>\n",
       "      <td>2021-03-13 14:46:24 India Standard Time</td>\n",
       "      <td>0.0</td>\n",
       "      <td>0.0</td>\n",
       "      <td>0.0</td>\n",
       "      <td>Shri  Udhav Thackeray ji @OfficeofUT , In yava...</td>\n",
       "      <td>en</td>\n",
       "    </tr>\n",
       "    <tr>\n",
       "      <th>522</th>\n",
       "      <td>af2311</td>\n",
       "      <td>2021-03-10 21:13:51 India Standard Time</td>\n",
       "      <td>0.0</td>\n",
       "      <td>0.0</td>\n",
       "      <td>0.0</td>\n",
       "      <td>@ZarrarKhuhro @Asad_Umar @ZaraHatKay_Dawn For ...</td>\n",
       "      <td>en</td>\n",
       "    </tr>\n",
       "    <tr>\n",
       "      <th>523</th>\n",
       "      <td>naynishbl</td>\n",
       "      <td>2021-03-25 11:02:47 India Standard Time</td>\n",
       "      <td>0.0</td>\n",
       "      <td>0.0</td>\n",
       "      <td>0.0</td>\n",
       "      <td>What’s with the Remdesivir. Can anyone tell me.</td>\n",
       "      <td>en</td>\n",
       "    </tr>\n",
       "  </tbody>\n",
       "</table>\n",
       "<p>483 rows × 7 columns</p>\n",
       "</div>"
      ],
      "text/plain": [
       "           username                               created_at  replies_count  \\\n",
       "0       Nishit Shaw                 2021-03-29T05:35:57.000Z            0.0   \n",
       "1           Harleen                 2021-03-04T08:35:26.000Z            0.0   \n",
       "2       Nishit Shaw                 2021-03-27T05:35:43.000Z            0.0   \n",
       "3    Prashant Kumar                 2021-03-18T05:32:47.000Z            0.0   \n",
       "4       shyamal das                 2021-03-22T08:45:59.000Z            0.0   \n",
       "..              ...                                      ...            ...   \n",
       "519         rsujeet  2021-03-13 14:56:04 India Standard Time            0.0   \n",
       "520         rsujeet  2021-03-13 14:52:16 India Standard Time            0.0   \n",
       "521         rsujeet  2021-03-13 14:46:24 India Standard Time            0.0   \n",
       "522          af2311  2021-03-10 21:13:51 India Standard Time            0.0   \n",
       "523       naynishbl  2021-03-25 11:02:47 India Standard Time            0.0   \n",
       "\n",
       "     likes_count  retweets_count  \\\n",
       "0            0.0             1.0   \n",
       "1            0.0             0.0   \n",
       "2            1.0             0.0   \n",
       "3           32.0            11.0   \n",
       "4            0.0             0.0   \n",
       "..           ...             ...   \n",
       "519          3.0             1.0   \n",
       "520          0.0             0.0   \n",
       "521          0.0             0.0   \n",
       "522          0.0             0.0   \n",
       "523          0.0             0.0   \n",
       "\n",
       "                                                 tweet language  \n",
       "0    Recovery rate drops to 94.32%, very very worri...       en  \n",
       "1    Covid Second dose done\\n\\n#Covid_19 #COVID19Va...       en  \n",
       "2    With #SachinTendulkar testing positive, here i...       en  \n",
       "3    BREAKING: Cases of Covid-19 on rise in nationa...       en  \n",
       "4                                  Protection covid 19       en  \n",
       "..                                                 ...      ...  \n",
       "519  Shri @AUThackeray ji, There is shortage of inj...       en  \n",
       "520  Shri @Dev_Fadnavis ji, There is shortage of in...       en  \n",
       "521  Shri  Udhav Thackeray ji @OfficeofUT , In yava...       en  \n",
       "522  @ZarrarKhuhro @Asad_Umar @ZaraHatKay_Dawn For ...       en  \n",
       "523    What’s with the Remdesivir. Can anyone tell me.       en  \n",
       "\n",
       "[483 rows x 7 columns]"
      ]
     },
     "execution_count": 101,
     "metadata": {},
     "output_type": "execute_result"
    }
   ],
   "source": [
    "March_KeyLT"
   ]
  },
  {
   "cell_type": "code",
   "execution_count": 103,
   "id": "2219a01f",
   "metadata": {},
   "outputs": [],
   "source": [
    "March_KeyLT.reset_index(drop=True, inplace=True)"
   ]
  },
  {
   "cell_type": "code",
   "execution_count": 104,
   "id": "5fd35085",
   "metadata": {},
   "outputs": [],
   "source": [
    "March_KeyLT.to_csv(\"MarchTweetAyushFinal.csv\")"
   ]
  }
 ],
 "metadata": {
  "interpreter": {
   "hash": "634498344980471fb0944d848df28373b199ff2468c6404ec32442b20f813eee"
  },
  "kernelspec": {
   "display_name": "Python 3.9.6 64-bit",
   "language": "python",
   "name": "python3"
  },
  "language_info": {
   "codemirror_mode": {
    "name": "ipython",
    "version": 3
   },
   "file_extension": ".py",
   "mimetype": "text/x-python",
   "name": "python",
   "nbconvert_exporter": "python",
   "pygments_lexer": "ipython3",
   "version": "3.9.6"
  }
 },
 "nbformat": 4,
 "nbformat_minor": 5
}
