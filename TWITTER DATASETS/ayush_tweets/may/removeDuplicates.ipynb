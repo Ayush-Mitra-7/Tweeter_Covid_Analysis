{
 "cells": [
  {
   "cell_type": "code",
   "execution_count": 1,
   "metadata": {},
   "outputs": [],
   "source": [
    "import pandas as pd\n",
    "import numpy as np\n"
   ]
  },
  {
   "cell_type": "code",
   "execution_count": 2,
   "metadata": {},
   "outputs": [],
   "source": [
    "may_covid = pd.read_csv('may(T-covid).csv')\n",
    "may_Covid_19 = pd.read_csv('may(T-Covid_19).csv')\n",
    "may_remdesivir = pd.read_csv('may(T-remdesivir).csv')\n"
   ]
  },
  {
   "cell_type": "code",
   "execution_count": 3,
   "metadata": {},
   "outputs": [
    {
     "data": {
      "text/plain": [
       "(0, 36)"
      ]
     },
     "execution_count": 3,
     "metadata": {},
     "output_type": "execute_result"
    }
   ],
   "source": [
    "duplicates = may_covid[may_covid.duplicated()]\n",
    "duplicates.shape\n"
   ]
  },
  {
   "cell_type": "code",
   "execution_count": 4,
   "metadata": {},
   "outputs": [
    {
     "data": {
      "text/plain": [
       "(0, 36)"
      ]
     },
     "execution_count": 4,
     "metadata": {},
     "output_type": "execute_result"
    }
   ],
   "source": [
    "duplicates = may_Covid_19[may_Covid_19.duplicated()]\n",
    "duplicates.shape\n"
   ]
  },
  {
   "cell_type": "code",
   "execution_count": 5,
   "metadata": {},
   "outputs": [
    {
     "data": {
      "text/plain": [
       "(0, 36)"
      ]
     },
     "execution_count": 5,
     "metadata": {},
     "output_type": "execute_result"
    }
   ],
   "source": [
    "duplicates = may_remdesivir[may_remdesivir.duplicated()]\n",
    "duplicates.shape\n"
   ]
  },
  {
   "cell_type": "code",
   "execution_count": 7,
   "metadata": {},
   "outputs": [
    {
     "data": {
      "text/plain": [
       "(823, 36)"
      ]
     },
     "execution_count": 7,
     "metadata": {},
     "output_type": "execute_result"
    }
   ],
   "source": [
    "may_Temp = pd.concat([may_Covid_19, may_covid]).drop_duplicates()\n",
    "mayKeyAyush = pd.concat([may_Temp, may_remdesivir]).drop_duplicates()\n",
    "mayKeyAyush.shape\n"
   ]
  },
  {
   "cell_type": "code",
   "execution_count": 8,
   "metadata": {},
   "outputs": [
    {
     "data": {
      "text/plain": [
       "(823, 7)"
      ]
     },
     "execution_count": 8,
     "metadata": {},
     "output_type": "execute_result"
    }
   ],
   "source": [
    "mayKeyAyush.drop(['trans_dest', 'trans_src', 'retweet_id', 'reply_to', 'retweet_date', 'translate', 'geo', 'source', 'user_rt_id', 'user_rt', 'video', 'thumbnail', 'quote_url', 'near',\n",
    "                 'id', 'conversation_id', 'date', 'time', 'place', 'mentions', 'urls', 'photos', 'hashtags', 'cashtags', 'link', 'retweet', 'timezone', 'user_id', 'name'], axis=1, inplace=True)\n",
    "mayKeyAyush.shape"
   ]
  },
  {
   "cell_type": "code",
   "execution_count": 9,
   "metadata": {},
   "outputs": [],
   "source": [
    "mayT=pd.read_csv('covidTweets(may-TopSection).csv.csv')\n",
    "mayL=pd.read_csv('covidTweets(may-2021-Latest).csv')"
   ]
  },
  {
   "cell_type": "code",
   "execution_count": 10,
   "metadata": {},
   "outputs": [],
   "source": [
    "mayLT=pd.concat([mayL, mayT]).drop_duplicates()"
   ]
  },
  {
   "cell_type": "code",
   "execution_count": 11,
   "metadata": {},
   "outputs": [
    {
     "data": {
      "text/plain": [
       "(0, 7)"
      ]
     },
     "execution_count": 11,
     "metadata": {},
     "output_type": "execute_result"
    }
   ],
   "source": [
    "duplicates = mayLT[mayLT.duplicated()]\n",
    "duplicates.shape\n"
   ]
  },
  {
   "cell_type": "code",
   "execution_count": 23,
   "metadata": {},
   "outputs": [
    {
     "data": {
      "text/plain": [
       "Index(['Username', 'created_at', 'replies_count', 'retweets_count',\n",
       "       'likes_count', 'tweet', 'language'],\n",
       "      dtype='object')"
      ]
     },
     "execution_count": 23,
     "metadata": {},
     "output_type": "execute_result"
    }
   ],
   "source": [
    "mayLT.columns"
   ]
  },
  {
   "cell_type": "code",
   "execution_count": 22,
   "metadata": {},
   "outputs": [
    {
     "ename": "KeyError",
     "evalue": "\"['Userhandle'] not found in axis\"",
     "output_type": "error",
     "traceback": [
      "\u001b[1;31m---------------------------------------------------------------------------\u001b[0m",
      "\u001b[1;31mKeyError\u001b[0m                                  Traceback (most recent call last)",
      "\u001b[1;32m~\\AppData\\Local\\Temp/ipykernel_4864/1612363555.py\u001b[0m in \u001b[0;36m<module>\u001b[1;34m\u001b[0m\n\u001b[1;32m----> 1\u001b[1;33m \u001b[0mmayLT\u001b[0m\u001b[1;33m.\u001b[0m\u001b[0mdrop\u001b[0m\u001b[1;33m(\u001b[0m\u001b[1;33m[\u001b[0m\u001b[1;34m'Userhandle'\u001b[0m\u001b[1;33m]\u001b[0m\u001b[1;33m,\u001b[0m \u001b[0maxis\u001b[0m\u001b[1;33m=\u001b[0m\u001b[1;36m1\u001b[0m\u001b[1;33m,\u001b[0m \u001b[0minplace\u001b[0m\u001b[1;33m=\u001b[0m\u001b[1;32mTrue\u001b[0m\u001b[1;33m)\u001b[0m\u001b[1;33m\u001b[0m\u001b[1;33m\u001b[0m\u001b[0m\n\u001b[0m\u001b[0;32m      2\u001b[0m mayLT = mayLT.rename(columns={'UserName': 'username', 'Time': 'created_at', 'comments': 'replies_count',\n\u001b[0;32m      3\u001b[0m                      'retweets': 'retweets_count', 'likes': 'likes_count', 'Tweet': 'tweet'})\n\u001b[0;32m      4\u001b[0m \u001b[0mmayLT\u001b[0m\u001b[1;33m[\u001b[0m\u001b[1;34m\"language\"\u001b[0m\u001b[1;33m]\u001b[0m\u001b[1;33m=\u001b[0m\u001b[0mnp\u001b[0m\u001b[1;33m.\u001b[0m\u001b[0mnan\u001b[0m\u001b[1;33m\u001b[0m\u001b[1;33m\u001b[0m\u001b[0m\n",
      "\u001b[1;32m~\\AppData\\Local\\Programs\\Python\\Python39\\lib\\site-packages\\pandas\\util\\_decorators.py\u001b[0m in \u001b[0;36mwrapper\u001b[1;34m(*args, **kwargs)\u001b[0m\n\u001b[0;32m    309\u001b[0m                     \u001b[0mstacklevel\u001b[0m\u001b[1;33m=\u001b[0m\u001b[0mstacklevel\u001b[0m\u001b[1;33m,\u001b[0m\u001b[1;33m\u001b[0m\u001b[1;33m\u001b[0m\u001b[0m\n\u001b[0;32m    310\u001b[0m                 )\n\u001b[1;32m--> 311\u001b[1;33m             \u001b[1;32mreturn\u001b[0m \u001b[0mfunc\u001b[0m\u001b[1;33m(\u001b[0m\u001b[1;33m*\u001b[0m\u001b[0margs\u001b[0m\u001b[1;33m,\u001b[0m \u001b[1;33m**\u001b[0m\u001b[0mkwargs\u001b[0m\u001b[1;33m)\u001b[0m\u001b[1;33m\u001b[0m\u001b[1;33m\u001b[0m\u001b[0m\n\u001b[0m\u001b[0;32m    312\u001b[0m \u001b[1;33m\u001b[0m\u001b[0m\n\u001b[0;32m    313\u001b[0m         \u001b[1;32mreturn\u001b[0m \u001b[0mwrapper\u001b[0m\u001b[1;33m\u001b[0m\u001b[1;33m\u001b[0m\u001b[0m\n",
      "\u001b[1;32m~\\AppData\\Local\\Programs\\Python\\Python39\\lib\\site-packages\\pandas\\core\\frame.py\u001b[0m in \u001b[0;36mdrop\u001b[1;34m(self, labels, axis, index, columns, level, inplace, errors)\u001b[0m\n\u001b[0;32m   4899\u001b[0m                 \u001b[0mweight\u001b[0m  \u001b[1;36m1.0\u001b[0m     \u001b[1;36m0.8\u001b[0m\u001b[1;33m\u001b[0m\u001b[1;33m\u001b[0m\u001b[0m\n\u001b[0;32m   4900\u001b[0m         \"\"\"\n\u001b[1;32m-> 4901\u001b[1;33m         return super().drop(\n\u001b[0m\u001b[0;32m   4902\u001b[0m             \u001b[0mlabels\u001b[0m\u001b[1;33m=\u001b[0m\u001b[0mlabels\u001b[0m\u001b[1;33m,\u001b[0m\u001b[1;33m\u001b[0m\u001b[1;33m\u001b[0m\u001b[0m\n\u001b[0;32m   4903\u001b[0m             \u001b[0maxis\u001b[0m\u001b[1;33m=\u001b[0m\u001b[0maxis\u001b[0m\u001b[1;33m,\u001b[0m\u001b[1;33m\u001b[0m\u001b[1;33m\u001b[0m\u001b[0m\n",
      "\u001b[1;32m~\\AppData\\Local\\Programs\\Python\\Python39\\lib\\site-packages\\pandas\\core\\generic.py\u001b[0m in \u001b[0;36mdrop\u001b[1;34m(self, labels, axis, index, columns, level, inplace, errors)\u001b[0m\n\u001b[0;32m   4148\u001b[0m         \u001b[1;32mfor\u001b[0m \u001b[0maxis\u001b[0m\u001b[1;33m,\u001b[0m \u001b[0mlabels\u001b[0m \u001b[1;32min\u001b[0m \u001b[0maxes\u001b[0m\u001b[1;33m.\u001b[0m\u001b[0mitems\u001b[0m\u001b[1;33m(\u001b[0m\u001b[1;33m)\u001b[0m\u001b[1;33m:\u001b[0m\u001b[1;33m\u001b[0m\u001b[1;33m\u001b[0m\u001b[0m\n\u001b[0;32m   4149\u001b[0m             \u001b[1;32mif\u001b[0m \u001b[0mlabels\u001b[0m \u001b[1;32mis\u001b[0m \u001b[1;32mnot\u001b[0m \u001b[1;32mNone\u001b[0m\u001b[1;33m:\u001b[0m\u001b[1;33m\u001b[0m\u001b[1;33m\u001b[0m\u001b[0m\n\u001b[1;32m-> 4150\u001b[1;33m                 \u001b[0mobj\u001b[0m \u001b[1;33m=\u001b[0m \u001b[0mobj\u001b[0m\u001b[1;33m.\u001b[0m\u001b[0m_drop_axis\u001b[0m\u001b[1;33m(\u001b[0m\u001b[0mlabels\u001b[0m\u001b[1;33m,\u001b[0m \u001b[0maxis\u001b[0m\u001b[1;33m,\u001b[0m \u001b[0mlevel\u001b[0m\u001b[1;33m=\u001b[0m\u001b[0mlevel\u001b[0m\u001b[1;33m,\u001b[0m \u001b[0merrors\u001b[0m\u001b[1;33m=\u001b[0m\u001b[0merrors\u001b[0m\u001b[1;33m)\u001b[0m\u001b[1;33m\u001b[0m\u001b[1;33m\u001b[0m\u001b[0m\n\u001b[0m\u001b[0;32m   4151\u001b[0m \u001b[1;33m\u001b[0m\u001b[0m\n\u001b[0;32m   4152\u001b[0m         \u001b[1;32mif\u001b[0m \u001b[0minplace\u001b[0m\u001b[1;33m:\u001b[0m\u001b[1;33m\u001b[0m\u001b[1;33m\u001b[0m\u001b[0m\n",
      "\u001b[1;32m~\\AppData\\Local\\Programs\\Python\\Python39\\lib\\site-packages\\pandas\\core\\generic.py\u001b[0m in \u001b[0;36m_drop_axis\u001b[1;34m(self, labels, axis, level, errors)\u001b[0m\n\u001b[0;32m   4183\u001b[0m                 \u001b[0mnew_axis\u001b[0m \u001b[1;33m=\u001b[0m \u001b[0maxis\u001b[0m\u001b[1;33m.\u001b[0m\u001b[0mdrop\u001b[0m\u001b[1;33m(\u001b[0m\u001b[0mlabels\u001b[0m\u001b[1;33m,\u001b[0m \u001b[0mlevel\u001b[0m\u001b[1;33m=\u001b[0m\u001b[0mlevel\u001b[0m\u001b[1;33m,\u001b[0m \u001b[0merrors\u001b[0m\u001b[1;33m=\u001b[0m\u001b[0merrors\u001b[0m\u001b[1;33m)\u001b[0m\u001b[1;33m\u001b[0m\u001b[1;33m\u001b[0m\u001b[0m\n\u001b[0;32m   4184\u001b[0m             \u001b[1;32melse\u001b[0m\u001b[1;33m:\u001b[0m\u001b[1;33m\u001b[0m\u001b[1;33m\u001b[0m\u001b[0m\n\u001b[1;32m-> 4185\u001b[1;33m                 \u001b[0mnew_axis\u001b[0m \u001b[1;33m=\u001b[0m \u001b[0maxis\u001b[0m\u001b[1;33m.\u001b[0m\u001b[0mdrop\u001b[0m\u001b[1;33m(\u001b[0m\u001b[0mlabels\u001b[0m\u001b[1;33m,\u001b[0m \u001b[0merrors\u001b[0m\u001b[1;33m=\u001b[0m\u001b[0merrors\u001b[0m\u001b[1;33m)\u001b[0m\u001b[1;33m\u001b[0m\u001b[1;33m\u001b[0m\u001b[0m\n\u001b[0m\u001b[0;32m   4186\u001b[0m             \u001b[0mresult\u001b[0m \u001b[1;33m=\u001b[0m \u001b[0mself\u001b[0m\u001b[1;33m.\u001b[0m\u001b[0mreindex\u001b[0m\u001b[1;33m(\u001b[0m\u001b[1;33m**\u001b[0m\u001b[1;33m{\u001b[0m\u001b[0maxis_name\u001b[0m\u001b[1;33m:\u001b[0m \u001b[0mnew_axis\u001b[0m\u001b[1;33m}\u001b[0m\u001b[1;33m)\u001b[0m\u001b[1;33m\u001b[0m\u001b[1;33m\u001b[0m\u001b[0m\n\u001b[0;32m   4187\u001b[0m \u001b[1;33m\u001b[0m\u001b[0m\n",
      "\u001b[1;32m~\\AppData\\Local\\Programs\\Python\\Python39\\lib\\site-packages\\pandas\\core\\indexes\\base.py\u001b[0m in \u001b[0;36mdrop\u001b[1;34m(self, labels, errors)\u001b[0m\n\u001b[0;32m   6016\u001b[0m         \u001b[1;32mif\u001b[0m \u001b[0mmask\u001b[0m\u001b[1;33m.\u001b[0m\u001b[0many\u001b[0m\u001b[1;33m(\u001b[0m\u001b[1;33m)\u001b[0m\u001b[1;33m:\u001b[0m\u001b[1;33m\u001b[0m\u001b[1;33m\u001b[0m\u001b[0m\n\u001b[0;32m   6017\u001b[0m             \u001b[1;32mif\u001b[0m \u001b[0merrors\u001b[0m \u001b[1;33m!=\u001b[0m \u001b[1;34m\"ignore\"\u001b[0m\u001b[1;33m:\u001b[0m\u001b[1;33m\u001b[0m\u001b[1;33m\u001b[0m\u001b[0m\n\u001b[1;32m-> 6018\u001b[1;33m                 \u001b[1;32mraise\u001b[0m \u001b[0mKeyError\u001b[0m\u001b[1;33m(\u001b[0m\u001b[1;34mf\"{labels[mask]} not found in axis\"\u001b[0m\u001b[1;33m)\u001b[0m\u001b[1;33m\u001b[0m\u001b[1;33m\u001b[0m\u001b[0m\n\u001b[0m\u001b[0;32m   6019\u001b[0m             \u001b[0mindexer\u001b[0m \u001b[1;33m=\u001b[0m \u001b[0mindexer\u001b[0m\u001b[1;33m[\u001b[0m\u001b[1;33m~\u001b[0m\u001b[0mmask\u001b[0m\u001b[1;33m]\u001b[0m\u001b[1;33m\u001b[0m\u001b[1;33m\u001b[0m\u001b[0m\n\u001b[0;32m   6020\u001b[0m         \u001b[1;32mreturn\u001b[0m \u001b[0mself\u001b[0m\u001b[1;33m.\u001b[0m\u001b[0mdelete\u001b[0m\u001b[1;33m(\u001b[0m\u001b[0mindexer\u001b[0m\u001b[1;33m)\u001b[0m\u001b[1;33m\u001b[0m\u001b[1;33m\u001b[0m\u001b[0m\n",
      "\u001b[1;31mKeyError\u001b[0m: \"['Userhandle'] not found in axis\""
     ]
    }
   ],
   "source": [
    "mayLT.drop(['Userhandle'], axis=1, inplace=True)\n",
    "mayLT = mayLT.rename(columns={'UserName': 'username', 'Time': 'created_at', 'comments': 'replies_count',\n",
    "                     'retweets': 'retweets_count', 'likes': 'likes_count', 'Tweet': 'tweet'})\n",
    "mayLT[\"language\"]=np.nan"
   ]
  },
  {
   "cell_type": "code",
   "execution_count": 24,
   "metadata": {},
   "outputs": [],
   "source": [
    "mayLT = mayLT.rename(columns={'Username': 'username'})"
   ]
  },
  {
   "cell_type": "code",
   "execution_count": 25,
   "metadata": {},
   "outputs": [],
   "source": [
    "may_KeyLT=pd.concat([mayLT,mayKeyAyush]).drop_duplicates()"
   ]
  },
  {
   "cell_type": "code",
   "execution_count": 26,
   "metadata": {},
   "outputs": [
    {
     "data": {
      "text/plain": [
       "(1111, 7)"
      ]
     },
     "execution_count": 26,
     "metadata": {},
     "output_type": "execute_result"
    }
   ],
   "source": [
    "may_KeyLT.shape"
   ]
  },
  {
   "cell_type": "code",
   "execution_count": 27,
   "metadata": {},
   "outputs": [
    {
     "data": {
      "text/plain": [
       "Index(['username', 'created_at', 'replies_count', 'retweets_count',\n",
       "       'likes_count', 'tweet', 'language'],\n",
       "      dtype='object')"
      ]
     },
     "execution_count": 27,
     "metadata": {},
     "output_type": "execute_result"
    }
   ],
   "source": [
    "may_KeyLT.columns"
   ]
  },
  {
   "cell_type": "code",
   "execution_count": 28,
   "metadata": {},
   "outputs": [
    {
     "data": {
      "text/html": [
       "<div>\n",
       "<style scoped>\n",
       "    .dataframe tbody tr th:only-of-type {\n",
       "        vertical-align: middle;\n",
       "    }\n",
       "\n",
       "    .dataframe tbody tr th {\n",
       "        vertical-align: top;\n",
       "    }\n",
       "\n",
       "    .dataframe thead th {\n",
       "        text-align: right;\n",
       "    }\n",
       "</style>\n",
       "<table border=\"1\" class=\"dataframe\">\n",
       "  <thead>\n",
       "    <tr style=\"text-align: right;\">\n",
       "      <th></th>\n",
       "      <th>username</th>\n",
       "      <th>created_at</th>\n",
       "      <th>replies_count</th>\n",
       "      <th>retweets_count</th>\n",
       "      <th>likes_count</th>\n",
       "      <th>tweet</th>\n",
       "      <th>language</th>\n",
       "    </tr>\n",
       "  </thead>\n",
       "  <tbody>\n",
       "    <tr>\n",
       "      <th>0</th>\n",
       "      <td>Mohammed Zeeshan</td>\n",
       "      <td>2021-05-30T23:31:17.000Z</td>\n",
       "      <td>NaN</td>\n",
       "      <td>1.0</td>\n",
       "      <td>4</td>\n",
       "      <td>#cancelboardexam\\nDon't trigger the Covid-19 i...</td>\n",
       "      <td>NaN</td>\n",
       "    </tr>\n",
       "    <tr>\n",
       "      <th>1</th>\n",
       "      <td>Ujjwal Roy</td>\n",
       "      <td>2021-05-30T17:33:16.000Z</td>\n",
       "      <td>NaN</td>\n",
       "      <td>1.0</td>\n",
       "      <td>1</td>\n",
       "      <td>Read_My_Coverage_Story \\n@ANI\\n\\n#IHAFoundatio...</td>\n",
       "      <td>NaN</td>\n",
       "    </tr>\n",
       "    <tr>\n",
       "      <th>2</th>\n",
       "      <td>Sourav_Raj_d</td>\n",
       "      <td>2021-05-30T17:21:21.000Z</td>\n",
       "      <td>NaN</td>\n",
       "      <td>NaN</td>\n",
       "      <td>1</td>\n",
       "      <td>KMC Hon'ble Mayor \\n@FirhadHakim\\n sir,Inaugur...</td>\n",
       "      <td>NaN</td>\n",
       "    </tr>\n",
       "    <tr>\n",
       "      <th>3</th>\n",
       "      <td>Soumyajit Majumder</td>\n",
       "      <td>2021-05-30T17:00:48.000Z</td>\n",
       "      <td>1.0</td>\n",
       "      <td>6.0</td>\n",
       "      <td>48</td>\n",
       "      <td>Bengal’s COVID active cases drops below 1 lakh...</td>\n",
       "      <td>NaN</td>\n",
       "    </tr>\n",
       "    <tr>\n",
       "      <th>4</th>\n",
       "      <td>Saurendranath Konar</td>\n",
       "      <td>2021-05-30T13:13:13.000Z</td>\n",
       "      <td>1.0</td>\n",
       "      <td>NaN</td>\n",
       "      <td>NaN</td>\n",
       "      <td>Ramdev again questions Covid-19 vaccines, says...</td>\n",
       "      <td>NaN</td>\n",
       "    </tr>\n",
       "    <tr>\n",
       "      <th>...</th>\n",
       "      <td>...</td>\n",
       "      <td>...</td>\n",
       "      <td>...</td>\n",
       "      <td>...</td>\n",
       "      <td>...</td>\n",
       "      <td>...</td>\n",
       "      <td>...</td>\n",
       "    </tr>\n",
       "    <tr>\n",
       "      <th>199</th>\n",
       "      <td>tmsarath</td>\n",
       "      <td>2021-05-24 11:39:44 India Standard Time</td>\n",
       "      <td>1.0</td>\n",
       "      <td>0.0</td>\n",
       "      <td>1</td>\n",
       "      <td>@datas_top @KM_SekaR Remdesivir Vacciney keday...</td>\n",
       "      <td>tr</td>\n",
       "    </tr>\n",
       "    <tr>\n",
       "      <th>200</th>\n",
       "      <td>meakshu</td>\n",
       "      <td>2021-05-24 11:04:21 India Standard Time</td>\n",
       "      <td>0.0</td>\n",
       "      <td>2.0</td>\n",
       "      <td>3</td>\n",
       "      <td>If modern  doctors can give treatment of hydro...</td>\n",
       "      <td>en</td>\n",
       "    </tr>\n",
       "    <tr>\n",
       "      <th>201</th>\n",
       "      <td>gounder_ramya</td>\n",
       "      <td>2021-05-24 10:57:34 India Standard Time</td>\n",
       "      <td>0.0</td>\n",
       "      <td>1.0</td>\n",
       "      <td>2</td>\n",
       "      <td>#Hydrabad # Remdesivir  Distributors # Contact...</td>\n",
       "      <td>ca</td>\n",
       "    </tr>\n",
       "    <tr>\n",
       "      <th>202</th>\n",
       "      <td>dhanu9595</td>\n",
       "      <td>2021-05-24 10:00:24 India Standard Time</td>\n",
       "      <td>0.0</td>\n",
       "      <td>0.0</td>\n",
       "      <td>0</td>\n",
       "      <td>Baba Ramdeo telling correct   Plasma therapy f...</td>\n",
       "      <td>en</td>\n",
       "    </tr>\n",
       "    <tr>\n",
       "      <th>203</th>\n",
       "      <td>gallivanter_ww</td>\n",
       "      <td>2021-05-24 09:46:58 India Standard Time</td>\n",
       "      <td>0.0</td>\n",
       "      <td>0.0</td>\n",
       "      <td>1</td>\n",
       "      <td>#देश_मोदी_के_साथ_है  News18: Gujarat MLA, Clas...</td>\n",
       "      <td>en</td>\n",
       "    </tr>\n",
       "  </tbody>\n",
       "</table>\n",
       "<p>1111 rows × 7 columns</p>\n",
       "</div>"
      ],
      "text/plain": [
       "                username                               created_at  \\\n",
       "0       Mohammed Zeeshan                 2021-05-30T23:31:17.000Z   \n",
       "1             Ujjwal Roy                 2021-05-30T17:33:16.000Z   \n",
       "2          Sourav_Raj_d                  2021-05-30T17:21:21.000Z   \n",
       "3     Soumyajit Majumder                 2021-05-30T17:00:48.000Z   \n",
       "4    Saurendranath Konar                 2021-05-30T13:13:13.000Z   \n",
       "..                   ...                                      ...   \n",
       "199             tmsarath  2021-05-24 11:39:44 India Standard Time   \n",
       "200              meakshu  2021-05-24 11:04:21 India Standard Time   \n",
       "201        gounder_ramya  2021-05-24 10:57:34 India Standard Time   \n",
       "202            dhanu9595  2021-05-24 10:00:24 India Standard Time   \n",
       "203       gallivanter_ww  2021-05-24 09:46:58 India Standard Time   \n",
       "\n",
       "     replies_count  retweets_count likes_count  \\\n",
       "0              NaN             1.0           4   \n",
       "1              NaN             1.0           1   \n",
       "2              NaN             NaN           1   \n",
       "3              1.0             6.0          48   \n",
       "4              1.0             NaN         NaN   \n",
       "..             ...             ...         ...   \n",
       "199            1.0             0.0           1   \n",
       "200            0.0             2.0           3   \n",
       "201            0.0             1.0           2   \n",
       "202            0.0             0.0           0   \n",
       "203            0.0             0.0           1   \n",
       "\n",
       "                                                 tweet language  \n",
       "0    #cancelboardexam\\nDon't trigger the Covid-19 i...      NaN  \n",
       "1    Read_My_Coverage_Story \\n@ANI\\n\\n#IHAFoundatio...      NaN  \n",
       "2    KMC Hon'ble Mayor \\n@FirhadHakim\\n sir,Inaugur...      NaN  \n",
       "3    Bengal’s COVID active cases drops below 1 lakh...      NaN  \n",
       "4    Ramdev again questions Covid-19 vaccines, says...      NaN  \n",
       "..                                                 ...      ...  \n",
       "199  @datas_top @KM_SekaR Remdesivir Vacciney keday...       tr  \n",
       "200  If modern  doctors can give treatment of hydro...       en  \n",
       "201  #Hydrabad # Remdesivir  Distributors # Contact...       ca  \n",
       "202  Baba Ramdeo telling correct   Plasma therapy f...       en  \n",
       "203  #देश_मोदी_के_साथ_है  News18: Gujarat MLA, Clas...       en  \n",
       "\n",
       "[1111 rows x 7 columns]"
      ]
     },
     "execution_count": 28,
     "metadata": {},
     "output_type": "execute_result"
    }
   ],
   "source": [
    "may_KeyLT"
   ]
  },
  {
   "cell_type": "code",
   "execution_count": 29,
   "metadata": {},
   "outputs": [],
   "source": [
    "may_KeyLT.to_csv(\"mayRawAyush.csv\")"
   ]
  },
  {
   "cell_type": "code",
   "execution_count": 30,
   "metadata": {},
   "outputs": [
    {
     "data": {
      "text/html": [
       "<div>\n",
       "<style scoped>\n",
       "    .dataframe tbody tr th:only-of-type {\n",
       "        vertical-align: middle;\n",
       "    }\n",
       "\n",
       "    .dataframe tbody tr th {\n",
       "        vertical-align: top;\n",
       "    }\n",
       "\n",
       "    .dataframe thead th {\n",
       "        text-align: right;\n",
       "    }\n",
       "</style>\n",
       "<table border=\"1\" class=\"dataframe\">\n",
       "  <thead>\n",
       "    <tr style=\"text-align: right;\">\n",
       "      <th></th>\n",
       "      <th>username</th>\n",
       "      <th>created_at</th>\n",
       "      <th>replies_count</th>\n",
       "      <th>retweets_count</th>\n",
       "      <th>likes_count</th>\n",
       "      <th>tweet</th>\n",
       "      <th>language</th>\n",
       "    </tr>\n",
       "  </thead>\n",
       "  <tbody>\n",
       "    <tr>\n",
       "      <th>0</th>\n",
       "      <td>Mohammed Zeeshan</td>\n",
       "      <td>2021-05-30T23:31:17.000Z</td>\n",
       "      <td>NaN</td>\n",
       "      <td>1.0</td>\n",
       "      <td>4</td>\n",
       "      <td>#cancelboardexam\\nDon't trigger the Covid-19 i...</td>\n",
       "      <td>en</td>\n",
       "    </tr>\n",
       "    <tr>\n",
       "      <th>1</th>\n",
       "      <td>Ujjwal Roy</td>\n",
       "      <td>2021-05-30T17:33:16.000Z</td>\n",
       "      <td>NaN</td>\n",
       "      <td>1.0</td>\n",
       "      <td>1</td>\n",
       "      <td>Read_My_Coverage_Story \\n@ANI\\n\\n#IHAFoundatio...</td>\n",
       "      <td>en</td>\n",
       "    </tr>\n",
       "    <tr>\n",
       "      <th>2</th>\n",
       "      <td>Sourav_Raj_d</td>\n",
       "      <td>2021-05-30T17:21:21.000Z</td>\n",
       "      <td>NaN</td>\n",
       "      <td>NaN</td>\n",
       "      <td>1</td>\n",
       "      <td>KMC Hon'ble Mayor \\n@FirhadHakim\\n sir,Inaugur...</td>\n",
       "      <td>en</td>\n",
       "    </tr>\n",
       "    <tr>\n",
       "      <th>3</th>\n",
       "      <td>Soumyajit Majumder</td>\n",
       "      <td>2021-05-30T17:00:48.000Z</td>\n",
       "      <td>1.0</td>\n",
       "      <td>6.0</td>\n",
       "      <td>48</td>\n",
       "      <td>Bengal’s COVID active cases drops below 1 lakh...</td>\n",
       "      <td>en</td>\n",
       "    </tr>\n",
       "    <tr>\n",
       "      <th>4</th>\n",
       "      <td>Saurendranath Konar</td>\n",
       "      <td>2021-05-30T13:13:13.000Z</td>\n",
       "      <td>1.0</td>\n",
       "      <td>NaN</td>\n",
       "      <td>NaN</td>\n",
       "      <td>Ramdev again questions Covid-19 vaccines, says...</td>\n",
       "      <td>en</td>\n",
       "    </tr>\n",
       "  </tbody>\n",
       "</table>\n",
       "</div>"
      ],
      "text/plain": [
       "              username                created_at  replies_count  \\\n",
       "0     Mohammed Zeeshan  2021-05-30T23:31:17.000Z            NaN   \n",
       "1           Ujjwal Roy  2021-05-30T17:33:16.000Z            NaN   \n",
       "2        Sourav_Raj_d   2021-05-30T17:21:21.000Z            NaN   \n",
       "3   Soumyajit Majumder  2021-05-30T17:00:48.000Z            1.0   \n",
       "4  Saurendranath Konar  2021-05-30T13:13:13.000Z            1.0   \n",
       "\n",
       "   retweets_count likes_count  \\\n",
       "0             1.0           4   \n",
       "1             1.0           1   \n",
       "2             NaN           1   \n",
       "3             6.0          48   \n",
       "4             NaN         NaN   \n",
       "\n",
       "                                               tweet language  \n",
       "0  #cancelboardexam\\nDon't trigger the Covid-19 i...       en  \n",
       "1  Read_My_Coverage_Story \\n@ANI\\n\\n#IHAFoundatio...       en  \n",
       "2  KMC Hon'ble Mayor \\n@FirhadHakim\\n sir,Inaugur...       en  \n",
       "3  Bengal’s COVID active cases drops below 1 lakh...       en  \n",
       "4  Ramdev again questions Covid-19 vaccines, says...       en  "
      ]
     },
     "execution_count": 30,
     "metadata": {},
     "output_type": "execute_result"
    }
   ],
   "source": [
    "may_KeyLT['language'] =may_KeyLT['language'].fillna('en')\n",
    "may_KeyLT.head(5)"
   ]
  },
  {
   "cell_type": "code",
   "execution_count": 31,
   "metadata": {},
   "outputs": [
    {
     "data": {
      "text/plain": [
       "(1111, 7)"
      ]
     },
     "execution_count": 31,
     "metadata": {},
     "output_type": "execute_result"
    }
   ],
   "source": [
    "may_KeyLT.shape"
   ]
  },
  {
   "cell_type": "code",
   "execution_count": 32,
   "metadata": {},
   "outputs": [],
   "source": [
    "for i in may_KeyLT['language']:\n",
    "    index_names = may_KeyLT[may_KeyLT['language']!='en' ].index\n",
    "    may_KeyLT.drop(index_names, inplace = True)"
   ]
  },
  {
   "cell_type": "code",
   "execution_count": 33,
   "metadata": {},
   "outputs": [
    {
     "data": {
      "text/plain": [
       "(464, 7)"
      ]
     },
     "execution_count": 33,
     "metadata": {},
     "output_type": "execute_result"
    }
   ],
   "source": [
    "may_KeyLT.shape"
   ]
  },
  {
   "cell_type": "code",
   "execution_count": 34,
   "metadata": {},
   "outputs": [
    {
     "data": {
      "text/html": [
       "<div>\n",
       "<style scoped>\n",
       "    .dataframe tbody tr th:only-of-type {\n",
       "        vertical-align: middle;\n",
       "    }\n",
       "\n",
       "    .dataframe tbody tr th {\n",
       "        vertical-align: top;\n",
       "    }\n",
       "\n",
       "    .dataframe thead th {\n",
       "        text-align: right;\n",
       "    }\n",
       "</style>\n",
       "<table border=\"1\" class=\"dataframe\">\n",
       "  <thead>\n",
       "    <tr style=\"text-align: right;\">\n",
       "      <th></th>\n",
       "      <th>username</th>\n",
       "      <th>created_at</th>\n",
       "      <th>replies_count</th>\n",
       "      <th>retweets_count</th>\n",
       "      <th>likes_count</th>\n",
       "      <th>tweet</th>\n",
       "      <th>language</th>\n",
       "    </tr>\n",
       "  </thead>\n",
       "  <tbody>\n",
       "    <tr>\n",
       "      <th>1</th>\n",
       "      <td>Ujjwal Roy</td>\n",
       "      <td>2021-05-30T17:33:16.000Z</td>\n",
       "      <td>0.0</td>\n",
       "      <td>1.0</td>\n",
       "      <td>1</td>\n",
       "      <td>Read_My_Coverage_Story \\n@ANI\\n\\n#IHAFoundatio...</td>\n",
       "      <td>en</td>\n",
       "    </tr>\n",
       "    <tr>\n",
       "      <th>2</th>\n",
       "      <td>Sourav_Raj_d</td>\n",
       "      <td>2021-05-30T17:21:21.000Z</td>\n",
       "      <td>0.0</td>\n",
       "      <td>0.0</td>\n",
       "      <td>1</td>\n",
       "      <td>KMC Hon'ble Mayor \\n@FirhadHakim\\n sir,Inaugur...</td>\n",
       "      <td>en</td>\n",
       "    </tr>\n",
       "    <tr>\n",
       "      <th>3</th>\n",
       "      <td>Soumyajit Majumder</td>\n",
       "      <td>2021-05-30T17:00:48.000Z</td>\n",
       "      <td>1.0</td>\n",
       "      <td>6.0</td>\n",
       "      <td>48</td>\n",
       "      <td>Bengal’s COVID active cases drops below 1 lakh...</td>\n",
       "      <td>en</td>\n",
       "    </tr>\n",
       "    <tr>\n",
       "      <th>5</th>\n",
       "      <td>Sourav_Raj_d</td>\n",
       "      <td>2021-05-30T11:43:45.000Z</td>\n",
       "      <td>0.0</td>\n",
       "      <td>3.0</td>\n",
       "      <td>1</td>\n",
       "      <td>Authorities in Uttar Pradesh's Balarampur dist...</td>\n",
       "      <td>en</td>\n",
       "    </tr>\n",
       "    <tr>\n",
       "      <th>6</th>\n",
       "      <td>RAKESH CHHALANI</td>\n",
       "      <td>2021-05-30T09:11:47.000Z</td>\n",
       "      <td>0.0</td>\n",
       "      <td>0.0</td>\n",
       "      <td>0</td>\n",
       "      <td>Replying to \\n@krishnajaggarao\\n \\n@MiliGho465...</td>\n",
       "      <td>en</td>\n",
       "    </tr>\n",
       "    <tr>\n",
       "      <th>...</th>\n",
       "      <td>...</td>\n",
       "      <td>...</td>\n",
       "      <td>...</td>\n",
       "      <td>...</td>\n",
       "      <td>...</td>\n",
       "      <td>...</td>\n",
       "      <td>...</td>\n",
       "    </tr>\n",
       "    <tr>\n",
       "      <th>172</th>\n",
       "      <td>tiriajay1</td>\n",
       "      <td>2021-05-22 16:49:47 India Standard Time</td>\n",
       "      <td>0.0</td>\n",
       "      <td>1.0</td>\n",
       "      <td>0</td>\n",
       "      <td>Everything is Possible if Modiji is there. @na...</td>\n",
       "      <td>en</td>\n",
       "    </tr>\n",
       "    <tr>\n",
       "      <th>173</th>\n",
       "      <td>meghnacdavid</td>\n",
       "      <td>2021-05-22 16:42:45 India Standard Time</td>\n",
       "      <td>1.0</td>\n",
       "      <td>0.0</td>\n",
       "      <td>0</td>\n",
       "      <td>@raghurajs_hegde @CMofKarnataka While the help...</td>\n",
       "      <td>en</td>\n",
       "    </tr>\n",
       "    <tr>\n",
       "      <th>185</th>\n",
       "      <td>kaalchakraom</td>\n",
       "      <td>2021-05-25 17:11:01 India Standard Time</td>\n",
       "      <td>0.0</td>\n",
       "      <td>0.0</td>\n",
       "      <td>1</td>\n",
       "      <td>@chetan_bhagat Chetan ji, Being a Pharmacist-P...</td>\n",
       "      <td>en</td>\n",
       "    </tr>\n",
       "    <tr>\n",
       "      <th>186</th>\n",
       "      <td>shrutignr_vijay</td>\n",
       "      <td>2021-05-25 15:09:21 India Standard Time</td>\n",
       "      <td>2.0</td>\n",
       "      <td>60.0</td>\n",
       "      <td>55</td>\n",
       "      <td>At this Pandemic Situation Twitter Saved So Ma...</td>\n",
       "      <td>en</td>\n",
       "    </tr>\n",
       "    <tr>\n",
       "      <th>194</th>\n",
       "      <td>rahul_sharmabjp</td>\n",
       "      <td>2021-05-24 19:57:51 India Standard Time</td>\n",
       "      <td>0.0</td>\n",
       "      <td>0.0</td>\n",
       "      <td>1</td>\n",
       "      <td>Modi government has been proactively working t...</td>\n",
       "      <td>en</td>\n",
       "    </tr>\n",
       "  </tbody>\n",
       "</table>\n",
       "<p>464 rows × 7 columns</p>\n",
       "</div>"
      ],
      "text/plain": [
       "               username                               created_at  \\\n",
       "1            Ujjwal Roy                 2021-05-30T17:33:16.000Z   \n",
       "2         Sourav_Raj_d                  2021-05-30T17:21:21.000Z   \n",
       "3    Soumyajit Majumder                 2021-05-30T17:00:48.000Z   \n",
       "5         Sourav_Raj_d                  2021-05-30T11:43:45.000Z   \n",
       "6       RAKESH CHHALANI                 2021-05-30T09:11:47.000Z   \n",
       "..                  ...                                      ...   \n",
       "172           tiriajay1  2021-05-22 16:49:47 India Standard Time   \n",
       "173        meghnacdavid  2021-05-22 16:42:45 India Standard Time   \n",
       "185        kaalchakraom  2021-05-25 17:11:01 India Standard Time   \n",
       "186     shrutignr_vijay  2021-05-25 15:09:21 India Standard Time   \n",
       "194     rahul_sharmabjp  2021-05-24 19:57:51 India Standard Time   \n",
       "\n",
       "     replies_count  retweets_count likes_count  \\\n",
       "1              0.0             1.0           1   \n",
       "2              0.0             0.0           1   \n",
       "3              1.0             6.0          48   \n",
       "5              0.0             3.0           1   \n",
       "6              0.0             0.0           0   \n",
       "..             ...             ...         ...   \n",
       "172            0.0             1.0           0   \n",
       "173            1.0             0.0           0   \n",
       "185            0.0             0.0           1   \n",
       "186            2.0            60.0          55   \n",
       "194            0.0             0.0           1   \n",
       "\n",
       "                                                 tweet language  \n",
       "1    Read_My_Coverage_Story \\n@ANI\\n\\n#IHAFoundatio...       en  \n",
       "2    KMC Hon'ble Mayor \\n@FirhadHakim\\n sir,Inaugur...       en  \n",
       "3    Bengal’s COVID active cases drops below 1 lakh...       en  \n",
       "5    Authorities in Uttar Pradesh's Balarampur dist...       en  \n",
       "6    Replying to \\n@krishnajaggarao\\n \\n@MiliGho465...       en  \n",
       "..                                                 ...      ...  \n",
       "172  Everything is Possible if Modiji is there. @na...       en  \n",
       "173  @raghurajs_hegde @CMofKarnataka While the help...       en  \n",
       "185  @chetan_bhagat Chetan ji, Being a Pharmacist-P...       en  \n",
       "186  At this Pandemic Situation Twitter Saved So Ma...       en  \n",
       "194  Modi government has been proactively working t...       en  \n",
       "\n",
       "[464 rows x 7 columns]"
      ]
     },
     "execution_count": 34,
     "metadata": {},
     "output_type": "execute_result"
    }
   ],
   "source": [
    "may_KeyLT[['replies_count','likes_count','retweets_count',]] =may_KeyLT[['replies_count','likes_count','retweets_count',]].fillna(0)\n",
    "may_KeyLT"
   ]
  },
  {
   "cell_type": "code",
   "execution_count": 35,
   "metadata": {},
   "outputs": [],
   "source": [
    "may_KeyLT.to_csv('MayTweetAyushFinal.csv')"
   ]
  }
 ],
 "metadata": {
  "interpreter": {
   "hash": "0e861e0b67293902224e9acfb8ab2e3cf2b4facd370dfc6bbb77427def9848a9"
  },
  "kernelspec": {
   "display_name": "Python 3.8.8 ('base')",
   "language": "python",
   "name": "python3"
  },
  "language_info": {
   "codemirror_mode": {
    "name": "ipython",
    "version": 3
   },
   "file_extension": ".py",
   "mimetype": "text/x-python",
   "name": "python",
   "nbconvert_exporter": "python",
   "pygments_lexer": "ipython3",
   "version": "3.9.6"
  },
  "orig_nbformat": 4
 },
 "nbformat": 4,
 "nbformat_minor": 2
}
