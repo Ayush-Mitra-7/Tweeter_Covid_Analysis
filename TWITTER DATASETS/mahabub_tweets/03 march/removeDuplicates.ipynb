{
 "cells": [
  {
   "cell_type": "code",
   "execution_count": 1,
   "metadata": {},
   "outputs": [],
   "source": [
    "import pandas as pd\n",
    "import numpy as np"
   ]
  },
  {
   "cell_type": "code",
   "execution_count": 2,
   "metadata": {},
   "outputs": [],
   "source": [
    "march_corona=pd.read_csv('march(t)_corona.csv')\n",
    "march_COVID_19=pd.read_csv('march(t)_COVID_19.csv')\n",
    "march_COVID=pd.read_csv('march(t)_COVID.csv')\n"
   ]
  },
  {
   "cell_type": "code",
   "execution_count": 6,
   "metadata": {},
   "outputs": [
    {
     "data": {
      "text/plain": [
       "(2475, 36)"
      ]
     },
     "execution_count": 6,
     "metadata": {},
     "output_type": "execute_result"
    }
   ],
   "source": [
    "march_Temp = pd.concat([march_COVID_19, march_COVID]).drop_duplicates()\n",
    "marchKeyMahabub = pd.concat([march_Temp, march_corona]).drop_duplicates()\n",
    "marchKeyMahabub.shape"
   ]
  },
  {
   "cell_type": "code",
   "execution_count": 4,
   "metadata": {},
   "outputs": [
    {
     "data": {
      "text/plain": [
       "(0, 36)"
      ]
     },
     "execution_count": 4,
     "metadata": {},
     "output_type": "execute_result"
    }
   ],
   "source": [
    "duplicates = marchKeyMahabub[marchKeyMahabub.duplicated()]\n",
    "duplicates.shape"
   ]
  },
  {
   "cell_type": "code",
   "execution_count": 7,
   "metadata": {},
   "outputs": [
    {
     "data": {
      "text/plain": [
       "(2475, 7)"
      ]
     },
     "execution_count": 7,
     "metadata": {},
     "output_type": "execute_result"
    }
   ],
   "source": [
    "marchKeyMahabub.drop(['trans_dest', 'trans_src', 'retweet_id', 'reply_to', 'retweet_date', 'translate', 'geo', 'source', 'user_rt_id', 'user_rt', 'video', 'thumbnail', 'quote_url', 'near',\n",
    "                 'id', 'conversation_id', 'date', 'time', 'place', 'mentions', 'urls', 'photos', 'hashtags', 'cashtags', 'link', 'retweet', 'timezone', 'user_id', 'name'], axis=1, inplace=True)\n",
    "marchKeyMahabub.shape"
   ]
  },
  {
   "cell_type": "code",
   "execution_count": 8,
   "metadata": {},
   "outputs": [
    {
     "data": {
      "text/html": [
       "<div>\n",
       "<style scoped>\n",
       "    .dataframe tbody tr th:only-of-type {\n",
       "        vertical-align: middle;\n",
       "    }\n",
       "\n",
       "    .dataframe tbody tr th {\n",
       "        vertical-align: top;\n",
       "    }\n",
       "\n",
       "    .dataframe thead th {\n",
       "        text-align: right;\n",
       "    }\n",
       "</style>\n",
       "<table border=\"1\" class=\"dataframe\">\n",
       "  <thead>\n",
       "    <tr style=\"text-align: right;\">\n",
       "      <th></th>\n",
       "      <th>created_at</th>\n",
       "      <th>username</th>\n",
       "      <th>tweet</th>\n",
       "      <th>language</th>\n",
       "      <th>replies_count</th>\n",
       "      <th>retweets_count</th>\n",
       "      <th>likes_count</th>\n",
       "    </tr>\n",
       "  </thead>\n",
       "  <tbody>\n",
       "    <tr>\n",
       "      <th>0</th>\n",
       "      <td>2021-03-03 05:27:32 India Standard Time</td>\n",
       "      <td>peterhone</td>\n",
       "      <td>@skynewssarah @NicolaSturgeon is now trying to...</td>\n",
       "      <td>en</td>\n",
       "      <td>0</td>\n",
       "      <td>0</td>\n",
       "      <td>0</td>\n",
       "    </tr>\n",
       "    <tr>\n",
       "      <th>1</th>\n",
       "      <td>2021-03-03 05:20:50 India Standard Time</td>\n",
       "      <td>takarin_610</td>\n",
       "      <td>「ハノイ市人民委員会は、新型コロナウイルス感染症(COVID-19)対策として営業を一時停止...</td>\n",
       "      <td>ja</td>\n",
       "      <td>0</td>\n",
       "      <td>0</td>\n",
       "      <td>1</td>\n",
       "    </tr>\n",
       "    <tr>\n",
       "      <th>2</th>\n",
       "      <td>2021-03-03 04:50:10 India Standard Time</td>\n",
       "      <td>akmalarif90</td>\n",
       "      <td>#COVID19 #KitaTeguhKitaMenang  https://t.co/B7...</td>\n",
       "      <td>und</td>\n",
       "      <td>0</td>\n",
       "      <td>0</td>\n",
       "      <td>0</td>\n",
       "    </tr>\n",
       "    <tr>\n",
       "      <th>3</th>\n",
       "      <td>2021-03-03 04:17:58 India Standard Time</td>\n",
       "      <td>penkampar</td>\n",
       "      <td>#JabatanPenerangan  #PeneranganPerak  #Peneran...</td>\n",
       "      <td>und</td>\n",
       "      <td>0</td>\n",
       "      <td>0</td>\n",
       "      <td>0</td>\n",
       "    </tr>\n",
       "    <tr>\n",
       "      <th>4</th>\n",
       "      <td>2021-03-03 04:17:21 India Standard Time</td>\n",
       "      <td>penkampar</td>\n",
       "      <td>#JabatanPenerangan  #PeneranganPerak  #Peneran...</td>\n",
       "      <td>und</td>\n",
       "      <td>0</td>\n",
       "      <td>0</td>\n",
       "      <td>0</td>\n",
       "    </tr>\n",
       "  </tbody>\n",
       "</table>\n",
       "</div>"
      ],
      "text/plain": [
       "                                created_at     username  \\\n",
       "0  2021-03-03 05:27:32 India Standard Time    peterhone   \n",
       "1  2021-03-03 05:20:50 India Standard Time  takarin_610   \n",
       "2  2021-03-03 04:50:10 India Standard Time  akmalarif90   \n",
       "3  2021-03-03 04:17:58 India Standard Time    penkampar   \n",
       "4  2021-03-03 04:17:21 India Standard Time    penkampar   \n",
       "\n",
       "                                               tweet language  replies_count  \\\n",
       "0  @skynewssarah @NicolaSturgeon is now trying to...       en              0   \n",
       "1  「ハノイ市人民委員会は、新型コロナウイルス感染症(COVID-19)対策として営業を一時停止...       ja              0   \n",
       "2  #COVID19 #KitaTeguhKitaMenang  https://t.co/B7...      und              0   \n",
       "3  #JabatanPenerangan  #PeneranganPerak  #Peneran...      und              0   \n",
       "4  #JabatanPenerangan  #PeneranganPerak  #Peneran...      und              0   \n",
       "\n",
       "   retweets_count  likes_count  \n",
       "0               0            0  \n",
       "1               0            1  \n",
       "2               0            0  \n",
       "3               0            0  \n",
       "4               0            0  "
      ]
     },
     "execution_count": 8,
     "metadata": {},
     "output_type": "execute_result"
    }
   ],
   "source": [
    "marchKeyMahabub.head(5)"
   ]
  },
  {
   "cell_type": "code",
   "execution_count": 9,
   "metadata": {},
   "outputs": [],
   "source": [
    "for i in marchKeyMahabub['language']:\n",
    "    index_names = marchKeyMahabub[marchKeyMahabub['language']!='en' ].index\n",
    "    marchKeyMahabub.drop(index_names, inplace = True)"
   ]
  },
  {
   "cell_type": "code",
   "execution_count": 10,
   "metadata": {},
   "outputs": [
    {
     "data": {
      "text/plain": [
       "(1159, 7)"
      ]
     },
     "execution_count": 10,
     "metadata": {},
     "output_type": "execute_result"
    }
   ],
   "source": [
    "marchKeyMahabub.shape"
   ]
  },
  {
   "cell_type": "code",
   "execution_count": 11,
   "metadata": {},
   "outputs": [],
   "source": [
    "marchKeyMahabub.to_csv('MarchTweetMahabubFinal.csv')"
   ]
  }
 ],
 "metadata": {
  "interpreter": {
   "hash": "634498344980471fb0944d848df28373b199ff2468c6404ec32442b20f813eee"
  },
  "kernelspec": {
   "display_name": "Python 3.9.6 64-bit",
   "language": "python",
   "name": "python3"
  },
  "language_info": {
   "codemirror_mode": {
    "name": "ipython",
    "version": 3
   },
   "file_extension": ".py",
   "mimetype": "text/x-python",
   "name": "python",
   "nbconvert_exporter": "python",
   "pygments_lexer": "ipython3",
   "version": "3.9.6"
  },
  "orig_nbformat": 4
 },
 "nbformat": 4,
 "nbformat_minor": 2
}
