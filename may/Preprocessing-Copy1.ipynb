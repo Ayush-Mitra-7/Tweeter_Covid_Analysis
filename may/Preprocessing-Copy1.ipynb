{
 "cells": [
  {
   "cell_type": "code",
   "execution_count": 87,
   "metadata": {},
   "outputs": [],
   "source": [
    "import pandas as pd\n",
    "import numpy as np\n",
    "import math\n",
    "from textblob import TextBlob as tb\n",
    "import re\n",
    "import nltk"
   ]
  },
  {
   "cell_type": "code",
   "execution_count": 88,
   "metadata": {},
   "outputs": [],
   "source": [
    "may=pd.read_csv('MayRemove.csv')"
   ]
  },
  {
   "cell_type": "code",
   "execution_count": 89,
   "metadata": {},
   "outputs": [
    {
     "data": {
      "text/plain": [
       "Index(['Unnamed: 0', 'created_at', 'username', 'tweet', 'language',\n",
       "       'replies_count', 'retweets_count', 'likes_count'],\n",
       "      dtype='object')"
      ]
     },
     "execution_count": 89,
     "metadata": {},
     "output_type": "execute_result"
    }
   ],
   "source": [
    "may.columns"
   ]
  },
  {
   "cell_type": "code",
   "execution_count": 90,
   "metadata": {},
   "outputs": [],
   "source": [
    "may.drop(['Unnamed: 0'],axis=1,inplace=True)"
   ]
  },
  {
   "cell_type": "code",
   "execution_count": 91,
   "metadata": {},
   "outputs": [
    {
     "data": {
      "text/plain": [
       "Index(['created_at', 'username', 'tweet', 'language', 'replies_count',\n",
       "       'retweets_count', 'likes_count'],\n",
       "      dtype='object')"
      ]
     },
     "execution_count": 91,
     "metadata": {},
     "output_type": "execute_result"
    }
   ],
   "source": [
    "may.columns"
   ]
  },
  {
   "cell_type": "code",
   "execution_count": 92,
   "metadata": {},
   "outputs": [
    {
     "data": {
      "text/plain": [
       "array(['en'], dtype=object)"
      ]
     },
     "execution_count": 92,
     "metadata": {},
     "output_type": "execute_result"
    }
   ],
   "source": [
    "may['language'].unique()"
   ]
  },
  {
   "cell_type": "code",
   "execution_count": 93,
   "metadata": {},
   "outputs": [],
   "source": [
    "for i in may['language']:\n",
    "    index_names = may[may['language']!='en' ].index\n",
    "    may.drop(index_names, inplace = True)"
   ]
  },
  {
   "cell_type": "code",
   "execution_count": 94,
   "metadata": {},
   "outputs": [
    {
     "data": {
      "text/plain": [
       "(1196, 7)"
      ]
     },
     "execution_count": 94,
     "metadata": {},
     "output_type": "execute_result"
    }
   ],
   "source": [
    "may.shape"
   ]
  },
  {
   "cell_type": "code",
   "execution_count": 95,
   "metadata": {},
   "outputs": [
    {
     "data": {
      "text/plain": [
       "(90, 7)"
      ]
     },
     "execution_count": 95,
     "metadata": {},
     "output_type": "execute_result"
    }
   ],
   "source": [
    "duplicates = may[may.duplicated()]\n",
    "duplicates.shape"
   ]
  },
  {
   "cell_type": "code",
   "execution_count": 96,
   "metadata": {},
   "outputs": [
    {
     "data": {
      "text/plain": [
       "(1106, 7)"
      ]
     },
     "execution_count": 96,
     "metadata": {},
     "output_type": "execute_result"
    }
   ],
   "source": [
    "may=may.drop_duplicates(keep='first')\n",
    "may.shape"
   ]
  },
  {
   "cell_type": "code",
   "execution_count": 97,
   "metadata": {},
   "outputs": [
    {
     "data": {
      "text/html": [
       "<div>\n",
       "<style scoped>\n",
       "    .dataframe tbody tr th:only-of-type {\n",
       "        vertical-align: middle;\n",
       "    }\n",
       "\n",
       "    .dataframe tbody tr th {\n",
       "        vertical-align: top;\n",
       "    }\n",
       "\n",
       "    .dataframe thead th {\n",
       "        text-align: right;\n",
       "    }\n",
       "</style>\n",
       "<table border=\"1\" class=\"dataframe\">\n",
       "  <thead>\n",
       "    <tr style=\"text-align: right;\">\n",
       "      <th></th>\n",
       "      <th>created_at</th>\n",
       "      <th>username</th>\n",
       "      <th>tweet</th>\n",
       "      <th>language</th>\n",
       "      <th>replies_count</th>\n",
       "      <th>retweets_count</th>\n",
       "      <th>likes_count</th>\n",
       "    </tr>\n",
       "  </thead>\n",
       "  <tbody>\n",
       "    <tr>\n",
       "      <th>0</th>\n",
       "      <td>2021-05-03 03:20:28 India Standard Time</td>\n",
       "      <td>alidurrani88</td>\n",
       "      <td>The corona virus has a possible 39,000 RNA mut...</td>\n",
       "      <td>en</td>\n",
       "      <td>0.0</td>\n",
       "      <td>0.0</td>\n",
       "      <td>2</td>\n",
       "    </tr>\n",
       "    <tr>\n",
       "      <th>1</th>\n",
       "      <td>2021-05-03 03:07:03 India Standard Time</td>\n",
       "      <td>drkaushiksuresh</td>\n",
       "      <td>Second wave of coronavirus infection in India ...</td>\n",
       "      <td>en</td>\n",
       "      <td>0.0</td>\n",
       "      <td>0.0</td>\n",
       "      <td>0</td>\n",
       "    </tr>\n",
       "    <tr>\n",
       "      <th>2</th>\n",
       "      <td>2021-05-03 02:55:32 India Standard Time</td>\n",
       "      <td>sohailmalik462</td>\n",
       "      <td>BBC News - India coronavirus: New record death...</td>\n",
       "      <td>en</td>\n",
       "      <td>0.0</td>\n",
       "      <td>0.0</td>\n",
       "      <td>0</td>\n",
       "    </tr>\n",
       "    <tr>\n",
       "      <th>3</th>\n",
       "      <td>2021-05-03 02:29:32 India Standard Time</td>\n",
       "      <td>bjp_bihar_</td>\n",
       "      <td>wear a mask and sanitize your hands and mainta...</td>\n",
       "      <td>en</td>\n",
       "      <td>0.0</td>\n",
       "      <td>0.0</td>\n",
       "      <td>1</td>\n",
       "    </tr>\n",
       "    <tr>\n",
       "      <th>4</th>\n",
       "      <td>2021-05-03 02:07:33 India Standard Time</td>\n",
       "      <td>sasmitchandan</td>\n",
       "      <td>BBC News - India coronavirus: New record death...</td>\n",
       "      <td>en</td>\n",
       "      <td>0.0</td>\n",
       "      <td>0.0</td>\n",
       "      <td>0</td>\n",
       "    </tr>\n",
       "    <tr>\n",
       "      <th>...</th>\n",
       "      <td>...</td>\n",
       "      <td>...</td>\n",
       "      <td>...</td>\n",
       "      <td>...</td>\n",
       "      <td>...</td>\n",
       "      <td>...</td>\n",
       "      <td>...</td>\n",
       "    </tr>\n",
       "    <tr>\n",
       "      <th>1186</th>\n",
       "      <td>2021-05-06T11:53:32.000Z</td>\n",
       "      <td>NaN</td>\n",
       "      <td>Great gesture \\n@Lshukla6\\n Bhaiya, \\n@SonuSoo...</td>\n",
       "      <td>en</td>\n",
       "      <td>NaN</td>\n",
       "      <td>NaN</td>\n",
       "      <td>1</td>\n",
       "    </tr>\n",
       "    <tr>\n",
       "      <th>1187</th>\n",
       "      <td>2021-05-01T18:00:50.000Z</td>\n",
       "      <td>NaN</td>\n",
       "      <td>@srijitspeaketh\\n \\n@SandyMukherg\\n \\n@AnanyaR...</td>\n",
       "      <td>en</td>\n",
       "      <td>1.0</td>\n",
       "      <td>6.0</td>\n",
       "      <td>5</td>\n",
       "    </tr>\n",
       "    <tr>\n",
       "      <th>1188</th>\n",
       "      <td>2021-05-01T05:37:53.000Z</td>\n",
       "      <td>NaN</td>\n",
       "      <td>We are fighting another war against COVID-19 b...</td>\n",
       "      <td>en</td>\n",
       "      <td>1.0</td>\n",
       "      <td>NaN</td>\n",
       "      <td>1</td>\n",
       "    </tr>\n",
       "    <tr>\n",
       "      <th>1193</th>\n",
       "      <td>2021-05-02T19:27:49.000Z</td>\n",
       "      <td>NaN</td>\n",
       "      <td>Replying to \\n@DemonGod21\\n \\n@AnshumanBanka8\\...</td>\n",
       "      <td>en</td>\n",
       "      <td>NaN</td>\n",
       "      <td>NaN</td>\n",
       "      <td>NaN</td>\n",
       "    </tr>\n",
       "    <tr>\n",
       "      <th>1195</th>\n",
       "      <td>2021-05-04T20:55:56.000Z</td>\n",
       "      <td>NaN</td>\n",
       "      <td>Replying to \\n@SandipGhose\\n \\n@nitin_gadkari\\...</td>\n",
       "      <td>en</td>\n",
       "      <td>NaN</td>\n",
       "      <td>NaN</td>\n",
       "      <td>NaN</td>\n",
       "    </tr>\n",
       "  </tbody>\n",
       "</table>\n",
       "<p>1106 rows × 7 columns</p>\n",
       "</div>"
      ],
      "text/plain": [
       "                                   created_at         username  \\\n",
       "0     2021-05-03 03:20:28 India Standard Time     alidurrani88   \n",
       "1     2021-05-03 03:07:03 India Standard Time  drkaushiksuresh   \n",
       "2     2021-05-03 02:55:32 India Standard Time   sohailmalik462   \n",
       "3     2021-05-03 02:29:32 India Standard Time       bjp_bihar_   \n",
       "4     2021-05-03 02:07:33 India Standard Time    sasmitchandan   \n",
       "...                                       ...              ...   \n",
       "1186                 2021-05-06T11:53:32.000Z              NaN   \n",
       "1187                 2021-05-01T18:00:50.000Z              NaN   \n",
       "1188                 2021-05-01T05:37:53.000Z              NaN   \n",
       "1193                 2021-05-02T19:27:49.000Z              NaN   \n",
       "1195                 2021-05-04T20:55:56.000Z              NaN   \n",
       "\n",
       "                                                  tweet language  \\\n",
       "0     The corona virus has a possible 39,000 RNA mut...       en   \n",
       "1     Second wave of coronavirus infection in India ...       en   \n",
       "2     BBC News - India coronavirus: New record death...       en   \n",
       "3     wear a mask and sanitize your hands and mainta...       en   \n",
       "4     BBC News - India coronavirus: New record death...       en   \n",
       "...                                                 ...      ...   \n",
       "1186  Great gesture \\n@Lshukla6\\n Bhaiya, \\n@SonuSoo...       en   \n",
       "1187  @srijitspeaketh\\n \\n@SandyMukherg\\n \\n@AnanyaR...       en   \n",
       "1188  We are fighting another war against COVID-19 b...       en   \n",
       "1193  Replying to \\n@DemonGod21\\n \\n@AnshumanBanka8\\...       en   \n",
       "1195  Replying to \\n@SandipGhose\\n \\n@nitin_gadkari\\...       en   \n",
       "\n",
       "      replies_count  retweets_count likes_count  \n",
       "0               0.0             0.0           2  \n",
       "1               0.0             0.0           0  \n",
       "2               0.0             0.0           0  \n",
       "3               0.0             0.0           1  \n",
       "4               0.0             0.0           0  \n",
       "...             ...             ...         ...  \n",
       "1186            NaN             NaN           1  \n",
       "1187            1.0             6.0           5  \n",
       "1188            1.0             NaN           1  \n",
       "1193            NaN             NaN         NaN  \n",
       "1195            NaN             NaN         NaN  \n",
       "\n",
       "[1106 rows x 7 columns]"
      ]
     },
     "execution_count": 97,
     "metadata": {},
     "output_type": "execute_result"
    }
   ],
   "source": [
    "may"
   ]
  },
  {
   "cell_type": "code",
   "execution_count": 98,
   "metadata": {},
   "outputs": [
    {
     "data": {
      "text/plain": [
       "Index(['created_at', 'username', 'tweet', 'language', 'replies_count',\n",
       "       'retweets_count', 'likes_count'],\n",
       "      dtype='object')"
      ]
     },
     "execution_count": 98,
     "metadata": {},
     "output_type": "execute_result"
    }
   ],
   "source": [
    "may.columns"
   ]
  },
  {
   "cell_type": "code",
   "execution_count": 99,
   "metadata": {},
   "outputs": [],
   "source": [
    "may[['replies_count','retweets_count', 'likes_count']]=may[['replies_count','retweets_count', 'likes_count']].fillna(0)"
   ]
  },
  {
   "cell_type": "code",
   "execution_count": 100,
   "metadata": {},
   "outputs": [
    {
     "data": {
      "text/html": [
       "<div>\n",
       "<style scoped>\n",
       "    .dataframe tbody tr th:only-of-type {\n",
       "        vertical-align: middle;\n",
       "    }\n",
       "\n",
       "    .dataframe tbody tr th {\n",
       "        vertical-align: top;\n",
       "    }\n",
       "\n",
       "    .dataframe thead th {\n",
       "        text-align: right;\n",
       "    }\n",
       "</style>\n",
       "<table border=\"1\" class=\"dataframe\">\n",
       "  <thead>\n",
       "    <tr style=\"text-align: right;\">\n",
       "      <th></th>\n",
       "      <th>created_at</th>\n",
       "      <th>username</th>\n",
       "      <th>tweet</th>\n",
       "      <th>language</th>\n",
       "      <th>replies_count</th>\n",
       "      <th>retweets_count</th>\n",
       "      <th>likes_count</th>\n",
       "    </tr>\n",
       "  </thead>\n",
       "  <tbody>\n",
       "    <tr>\n",
       "      <th>0</th>\n",
       "      <td>2021-05-03 03:20:28 India Standard Time</td>\n",
       "      <td>alidurrani88</td>\n",
       "      <td>The corona virus has a possible 39,000 RNA mut...</td>\n",
       "      <td>en</td>\n",
       "      <td>0.0</td>\n",
       "      <td>0.0</td>\n",
       "      <td>2</td>\n",
       "    </tr>\n",
       "    <tr>\n",
       "      <th>1</th>\n",
       "      <td>2021-05-03 03:07:03 India Standard Time</td>\n",
       "      <td>drkaushiksuresh</td>\n",
       "      <td>Second wave of coronavirus infection in India ...</td>\n",
       "      <td>en</td>\n",
       "      <td>0.0</td>\n",
       "      <td>0.0</td>\n",
       "      <td>0</td>\n",
       "    </tr>\n",
       "    <tr>\n",
       "      <th>2</th>\n",
       "      <td>2021-05-03 02:55:32 India Standard Time</td>\n",
       "      <td>sohailmalik462</td>\n",
       "      <td>BBC News - India coronavirus: New record death...</td>\n",
       "      <td>en</td>\n",
       "      <td>0.0</td>\n",
       "      <td>0.0</td>\n",
       "      <td>0</td>\n",
       "    </tr>\n",
       "    <tr>\n",
       "      <th>3</th>\n",
       "      <td>2021-05-03 02:29:32 India Standard Time</td>\n",
       "      <td>bjp_bihar_</td>\n",
       "      <td>wear a mask and sanitize your hands and mainta...</td>\n",
       "      <td>en</td>\n",
       "      <td>0.0</td>\n",
       "      <td>0.0</td>\n",
       "      <td>1</td>\n",
       "    </tr>\n",
       "    <tr>\n",
       "      <th>4</th>\n",
       "      <td>2021-05-03 02:07:33 India Standard Time</td>\n",
       "      <td>sasmitchandan</td>\n",
       "      <td>BBC News - India coronavirus: New record death...</td>\n",
       "      <td>en</td>\n",
       "      <td>0.0</td>\n",
       "      <td>0.0</td>\n",
       "      <td>0</td>\n",
       "    </tr>\n",
       "    <tr>\n",
       "      <th>...</th>\n",
       "      <td>...</td>\n",
       "      <td>...</td>\n",
       "      <td>...</td>\n",
       "      <td>...</td>\n",
       "      <td>...</td>\n",
       "      <td>...</td>\n",
       "      <td>...</td>\n",
       "    </tr>\n",
       "    <tr>\n",
       "      <th>1186</th>\n",
       "      <td>2021-05-06T11:53:32.000Z</td>\n",
       "      <td>NaN</td>\n",
       "      <td>Great gesture \\n@Lshukla6\\n Bhaiya, \\n@SonuSoo...</td>\n",
       "      <td>en</td>\n",
       "      <td>0.0</td>\n",
       "      <td>0.0</td>\n",
       "      <td>1</td>\n",
       "    </tr>\n",
       "    <tr>\n",
       "      <th>1187</th>\n",
       "      <td>2021-05-01T18:00:50.000Z</td>\n",
       "      <td>NaN</td>\n",
       "      <td>@srijitspeaketh\\n \\n@SandyMukherg\\n \\n@AnanyaR...</td>\n",
       "      <td>en</td>\n",
       "      <td>1.0</td>\n",
       "      <td>6.0</td>\n",
       "      <td>5</td>\n",
       "    </tr>\n",
       "    <tr>\n",
       "      <th>1188</th>\n",
       "      <td>2021-05-01T05:37:53.000Z</td>\n",
       "      <td>NaN</td>\n",
       "      <td>We are fighting another war against COVID-19 b...</td>\n",
       "      <td>en</td>\n",
       "      <td>1.0</td>\n",
       "      <td>0.0</td>\n",
       "      <td>1</td>\n",
       "    </tr>\n",
       "    <tr>\n",
       "      <th>1193</th>\n",
       "      <td>2021-05-02T19:27:49.000Z</td>\n",
       "      <td>NaN</td>\n",
       "      <td>Replying to \\n@DemonGod21\\n \\n@AnshumanBanka8\\...</td>\n",
       "      <td>en</td>\n",
       "      <td>0.0</td>\n",
       "      <td>0.0</td>\n",
       "      <td>0</td>\n",
       "    </tr>\n",
       "    <tr>\n",
       "      <th>1195</th>\n",
       "      <td>2021-05-04T20:55:56.000Z</td>\n",
       "      <td>NaN</td>\n",
       "      <td>Replying to \\n@SandipGhose\\n \\n@nitin_gadkari\\...</td>\n",
       "      <td>en</td>\n",
       "      <td>0.0</td>\n",
       "      <td>0.0</td>\n",
       "      <td>0</td>\n",
       "    </tr>\n",
       "  </tbody>\n",
       "</table>\n",
       "<p>1106 rows × 7 columns</p>\n",
       "</div>"
      ],
      "text/plain": [
       "                                   created_at         username  \\\n",
       "0     2021-05-03 03:20:28 India Standard Time     alidurrani88   \n",
       "1     2021-05-03 03:07:03 India Standard Time  drkaushiksuresh   \n",
       "2     2021-05-03 02:55:32 India Standard Time   sohailmalik462   \n",
       "3     2021-05-03 02:29:32 India Standard Time       bjp_bihar_   \n",
       "4     2021-05-03 02:07:33 India Standard Time    sasmitchandan   \n",
       "...                                       ...              ...   \n",
       "1186                 2021-05-06T11:53:32.000Z              NaN   \n",
       "1187                 2021-05-01T18:00:50.000Z              NaN   \n",
       "1188                 2021-05-01T05:37:53.000Z              NaN   \n",
       "1193                 2021-05-02T19:27:49.000Z              NaN   \n",
       "1195                 2021-05-04T20:55:56.000Z              NaN   \n",
       "\n",
       "                                                  tweet language  \\\n",
       "0     The corona virus has a possible 39,000 RNA mut...       en   \n",
       "1     Second wave of coronavirus infection in India ...       en   \n",
       "2     BBC News - India coronavirus: New record death...       en   \n",
       "3     wear a mask and sanitize your hands and mainta...       en   \n",
       "4     BBC News - India coronavirus: New record death...       en   \n",
       "...                                                 ...      ...   \n",
       "1186  Great gesture \\n@Lshukla6\\n Bhaiya, \\n@SonuSoo...       en   \n",
       "1187  @srijitspeaketh\\n \\n@SandyMukherg\\n \\n@AnanyaR...       en   \n",
       "1188  We are fighting another war against COVID-19 b...       en   \n",
       "1193  Replying to \\n@DemonGod21\\n \\n@AnshumanBanka8\\...       en   \n",
       "1195  Replying to \\n@SandipGhose\\n \\n@nitin_gadkari\\...       en   \n",
       "\n",
       "      replies_count  retweets_count likes_count  \n",
       "0               0.0             0.0           2  \n",
       "1               0.0             0.0           0  \n",
       "2               0.0             0.0           0  \n",
       "3               0.0             0.0           1  \n",
       "4               0.0             0.0           0  \n",
       "...             ...             ...         ...  \n",
       "1186            0.0             0.0           1  \n",
       "1187            1.0             6.0           5  \n",
       "1188            1.0             0.0           1  \n",
       "1193            0.0             0.0           0  \n",
       "1195            0.0             0.0           0  \n",
       "\n",
       "[1106 rows x 7 columns]"
      ]
     },
     "execution_count": 100,
     "metadata": {},
     "output_type": "execute_result"
    }
   ],
   "source": [
    "may"
   ]
  },
  {
   "cell_type": "code",
   "execution_count": 101,
   "metadata": {},
   "outputs": [],
   "source": [
    "mayTweet=may[['tweet','language']]"
   ]
  },
  {
   "cell_type": "code",
   "execution_count": 102,
   "metadata": {},
   "outputs": [
    {
     "data": {
      "text/html": [
       "<div>\n",
       "<style scoped>\n",
       "    .dataframe tbody tr th:only-of-type {\n",
       "        vertical-align: middle;\n",
       "    }\n",
       "\n",
       "    .dataframe tbody tr th {\n",
       "        vertical-align: top;\n",
       "    }\n",
       "\n",
       "    .dataframe thead th {\n",
       "        text-align: right;\n",
       "    }\n",
       "</style>\n",
       "<table border=\"1\" class=\"dataframe\">\n",
       "  <thead>\n",
       "    <tr style=\"text-align: right;\">\n",
       "      <th></th>\n",
       "      <th>tweet</th>\n",
       "      <th>language</th>\n",
       "    </tr>\n",
       "  </thead>\n",
       "  <tbody>\n",
       "    <tr>\n",
       "      <th>0</th>\n",
       "      <td>The corona virus has a possible 39,000 RNA mut...</td>\n",
       "      <td>en</td>\n",
       "    </tr>\n",
       "    <tr>\n",
       "      <th>1</th>\n",
       "      <td>Second wave of coronavirus infection in India ...</td>\n",
       "      <td>en</td>\n",
       "    </tr>\n",
       "    <tr>\n",
       "      <th>2</th>\n",
       "      <td>BBC News - India coronavirus: New record death...</td>\n",
       "      <td>en</td>\n",
       "    </tr>\n",
       "    <tr>\n",
       "      <th>3</th>\n",
       "      <td>wear a mask and sanitize your hands and mainta...</td>\n",
       "      <td>en</td>\n",
       "    </tr>\n",
       "    <tr>\n",
       "      <th>4</th>\n",
       "      <td>BBC News - India coronavirus: New record death...</td>\n",
       "      <td>en</td>\n",
       "    </tr>\n",
       "    <tr>\n",
       "      <th>...</th>\n",
       "      <td>...</td>\n",
       "      <td>...</td>\n",
       "    </tr>\n",
       "    <tr>\n",
       "      <th>1186</th>\n",
       "      <td>Great gesture \\n@Lshukla6\\n Bhaiya, \\n@SonuSoo...</td>\n",
       "      <td>en</td>\n",
       "    </tr>\n",
       "    <tr>\n",
       "      <th>1187</th>\n",
       "      <td>@srijitspeaketh\\n \\n@SandyMukherg\\n \\n@AnanyaR...</td>\n",
       "      <td>en</td>\n",
       "    </tr>\n",
       "    <tr>\n",
       "      <th>1188</th>\n",
       "      <td>We are fighting another war against COVID-19 b...</td>\n",
       "      <td>en</td>\n",
       "    </tr>\n",
       "    <tr>\n",
       "      <th>1193</th>\n",
       "      <td>Replying to \\n@DemonGod21\\n \\n@AnshumanBanka8\\...</td>\n",
       "      <td>en</td>\n",
       "    </tr>\n",
       "    <tr>\n",
       "      <th>1195</th>\n",
       "      <td>Replying to \\n@SandipGhose\\n \\n@nitin_gadkari\\...</td>\n",
       "      <td>en</td>\n",
       "    </tr>\n",
       "  </tbody>\n",
       "</table>\n",
       "<p>1106 rows × 2 columns</p>\n",
       "</div>"
      ],
      "text/plain": [
       "                                                  tweet language\n",
       "0     The corona virus has a possible 39,000 RNA mut...       en\n",
       "1     Second wave of coronavirus infection in India ...       en\n",
       "2     BBC News - India coronavirus: New record death...       en\n",
       "3     wear a mask and sanitize your hands and mainta...       en\n",
       "4     BBC News - India coronavirus: New record death...       en\n",
       "...                                                 ...      ...\n",
       "1186  Great gesture \\n@Lshukla6\\n Bhaiya, \\n@SonuSoo...       en\n",
       "1187  @srijitspeaketh\\n \\n@SandyMukherg\\n \\n@AnanyaR...       en\n",
       "1188  We are fighting another war against COVID-19 b...       en\n",
       "1193  Replying to \\n@DemonGod21\\n \\n@AnshumanBanka8\\...       en\n",
       "1195  Replying to \\n@SandipGhose\\n \\n@nitin_gadkari\\...       en\n",
       "\n",
       "[1106 rows x 2 columns]"
      ]
     },
     "execution_count": 102,
     "metadata": {},
     "output_type": "execute_result"
    }
   ],
   "source": [
    "mayTweet"
   ]
  },
  {
   "cell_type": "code",
   "execution_count": 103,
   "metadata": {},
   "outputs": [],
   "source": [
    "mayTweet=mayTweet.reset_index(level=None, drop=False, inplace=False, col_level=0, col_fill='')"
   ]
  },
  {
   "cell_type": "code",
   "execution_count": 104,
   "metadata": {},
   "outputs": [
    {
     "data": {
      "text/html": [
       "<div>\n",
       "<style scoped>\n",
       "    .dataframe tbody tr th:only-of-type {\n",
       "        vertical-align: middle;\n",
       "    }\n",
       "\n",
       "    .dataframe tbody tr th {\n",
       "        vertical-align: top;\n",
       "    }\n",
       "\n",
       "    .dataframe thead th {\n",
       "        text-align: right;\n",
       "    }\n",
       "</style>\n",
       "<table border=\"1\" class=\"dataframe\">\n",
       "  <thead>\n",
       "    <tr style=\"text-align: right;\">\n",
       "      <th></th>\n",
       "      <th>index</th>\n",
       "      <th>tweet</th>\n",
       "      <th>language</th>\n",
       "    </tr>\n",
       "  </thead>\n",
       "  <tbody>\n",
       "    <tr>\n",
       "      <th>0</th>\n",
       "      <td>0</td>\n",
       "      <td>The corona virus has a possible 39,000 RNA mut...</td>\n",
       "      <td>en</td>\n",
       "    </tr>\n",
       "    <tr>\n",
       "      <th>1</th>\n",
       "      <td>1</td>\n",
       "      <td>Second wave of coronavirus infection in India ...</td>\n",
       "      <td>en</td>\n",
       "    </tr>\n",
       "    <tr>\n",
       "      <th>2</th>\n",
       "      <td>2</td>\n",
       "      <td>BBC News - India coronavirus: New record death...</td>\n",
       "      <td>en</td>\n",
       "    </tr>\n",
       "    <tr>\n",
       "      <th>3</th>\n",
       "      <td>3</td>\n",
       "      <td>wear a mask and sanitize your hands and mainta...</td>\n",
       "      <td>en</td>\n",
       "    </tr>\n",
       "    <tr>\n",
       "      <th>4</th>\n",
       "      <td>4</td>\n",
       "      <td>BBC News - India coronavirus: New record death...</td>\n",
       "      <td>en</td>\n",
       "    </tr>\n",
       "    <tr>\n",
       "      <th>...</th>\n",
       "      <td>...</td>\n",
       "      <td>...</td>\n",
       "      <td>...</td>\n",
       "    </tr>\n",
       "    <tr>\n",
       "      <th>1101</th>\n",
       "      <td>1186</td>\n",
       "      <td>Great gesture \\n@Lshukla6\\n Bhaiya, \\n@SonuSoo...</td>\n",
       "      <td>en</td>\n",
       "    </tr>\n",
       "    <tr>\n",
       "      <th>1102</th>\n",
       "      <td>1187</td>\n",
       "      <td>@srijitspeaketh\\n \\n@SandyMukherg\\n \\n@AnanyaR...</td>\n",
       "      <td>en</td>\n",
       "    </tr>\n",
       "    <tr>\n",
       "      <th>1103</th>\n",
       "      <td>1188</td>\n",
       "      <td>We are fighting another war against COVID-19 b...</td>\n",
       "      <td>en</td>\n",
       "    </tr>\n",
       "    <tr>\n",
       "      <th>1104</th>\n",
       "      <td>1193</td>\n",
       "      <td>Replying to \\n@DemonGod21\\n \\n@AnshumanBanka8\\...</td>\n",
       "      <td>en</td>\n",
       "    </tr>\n",
       "    <tr>\n",
       "      <th>1105</th>\n",
       "      <td>1195</td>\n",
       "      <td>Replying to \\n@SandipGhose\\n \\n@nitin_gadkari\\...</td>\n",
       "      <td>en</td>\n",
       "    </tr>\n",
       "  </tbody>\n",
       "</table>\n",
       "<p>1106 rows × 3 columns</p>\n",
       "</div>"
      ],
      "text/plain": [
       "      index                                              tweet language\n",
       "0         0  The corona virus has a possible 39,000 RNA mut...       en\n",
       "1         1  Second wave of coronavirus infection in India ...       en\n",
       "2         2  BBC News - India coronavirus: New record death...       en\n",
       "3         3  wear a mask and sanitize your hands and mainta...       en\n",
       "4         4  BBC News - India coronavirus: New record death...       en\n",
       "...     ...                                                ...      ...\n",
       "1101   1186  Great gesture \\n@Lshukla6\\n Bhaiya, \\n@SonuSoo...       en\n",
       "1102   1187  @srijitspeaketh\\n \\n@SandyMukherg\\n \\n@AnanyaR...       en\n",
       "1103   1188  We are fighting another war against COVID-19 b...       en\n",
       "1104   1193  Replying to \\n@DemonGod21\\n \\n@AnshumanBanka8\\...       en\n",
       "1105   1195  Replying to \\n@SandipGhose\\n \\n@nitin_gadkari\\...       en\n",
       "\n",
       "[1106 rows x 3 columns]"
      ]
     },
     "execution_count": 104,
     "metadata": {},
     "output_type": "execute_result"
    }
   ],
   "source": [
    "mayTweet"
   ]
  },
  {
   "cell_type": "code",
   "execution_count": 105,
   "metadata": {},
   "outputs": [],
   "source": [
    "mayTweet.drop(['index'],axis=1,inplace=True)"
   ]
  },
  {
   "cell_type": "code",
   "execution_count": 106,
   "metadata": {},
   "outputs": [
    {
     "data": {
      "text/html": [
       "<div>\n",
       "<style scoped>\n",
       "    .dataframe tbody tr th:only-of-type {\n",
       "        vertical-align: middle;\n",
       "    }\n",
       "\n",
       "    .dataframe tbody tr th {\n",
       "        vertical-align: top;\n",
       "    }\n",
       "\n",
       "    .dataframe thead th {\n",
       "        text-align: right;\n",
       "    }\n",
       "</style>\n",
       "<table border=\"1\" class=\"dataframe\">\n",
       "  <thead>\n",
       "    <tr style=\"text-align: right;\">\n",
       "      <th></th>\n",
       "      <th>tweet</th>\n",
       "      <th>language</th>\n",
       "    </tr>\n",
       "  </thead>\n",
       "  <tbody>\n",
       "    <tr>\n",
       "      <th>0</th>\n",
       "      <td>The corona virus has a possible 39,000 RNA mut...</td>\n",
       "      <td>en</td>\n",
       "    </tr>\n",
       "    <tr>\n",
       "      <th>1</th>\n",
       "      <td>Second wave of coronavirus infection in India ...</td>\n",
       "      <td>en</td>\n",
       "    </tr>\n",
       "    <tr>\n",
       "      <th>2</th>\n",
       "      <td>BBC News - India coronavirus: New record death...</td>\n",
       "      <td>en</td>\n",
       "    </tr>\n",
       "    <tr>\n",
       "      <th>3</th>\n",
       "      <td>wear a mask and sanitize your hands and mainta...</td>\n",
       "      <td>en</td>\n",
       "    </tr>\n",
       "    <tr>\n",
       "      <th>4</th>\n",
       "      <td>BBC News - India coronavirus: New record death...</td>\n",
       "      <td>en</td>\n",
       "    </tr>\n",
       "    <tr>\n",
       "      <th>...</th>\n",
       "      <td>...</td>\n",
       "      <td>...</td>\n",
       "    </tr>\n",
       "    <tr>\n",
       "      <th>1101</th>\n",
       "      <td>Great gesture \\n@Lshukla6\\n Bhaiya, \\n@SonuSoo...</td>\n",
       "      <td>en</td>\n",
       "    </tr>\n",
       "    <tr>\n",
       "      <th>1102</th>\n",
       "      <td>@srijitspeaketh\\n \\n@SandyMukherg\\n \\n@AnanyaR...</td>\n",
       "      <td>en</td>\n",
       "    </tr>\n",
       "    <tr>\n",
       "      <th>1103</th>\n",
       "      <td>We are fighting another war against COVID-19 b...</td>\n",
       "      <td>en</td>\n",
       "    </tr>\n",
       "    <tr>\n",
       "      <th>1104</th>\n",
       "      <td>Replying to \\n@DemonGod21\\n \\n@AnshumanBanka8\\...</td>\n",
       "      <td>en</td>\n",
       "    </tr>\n",
       "    <tr>\n",
       "      <th>1105</th>\n",
       "      <td>Replying to \\n@SandipGhose\\n \\n@nitin_gadkari\\...</td>\n",
       "      <td>en</td>\n",
       "    </tr>\n",
       "  </tbody>\n",
       "</table>\n",
       "<p>1106 rows × 2 columns</p>\n",
       "</div>"
      ],
      "text/plain": [
       "                                                  tweet language\n",
       "0     The corona virus has a possible 39,000 RNA mut...       en\n",
       "1     Second wave of coronavirus infection in India ...       en\n",
       "2     BBC News - India coronavirus: New record death...       en\n",
       "3     wear a mask and sanitize your hands and mainta...       en\n",
       "4     BBC News - India coronavirus: New record death...       en\n",
       "...                                                 ...      ...\n",
       "1101  Great gesture \\n@Lshukla6\\n Bhaiya, \\n@SonuSoo...       en\n",
       "1102  @srijitspeaketh\\n \\n@SandyMukherg\\n \\n@AnanyaR...       en\n",
       "1103  We are fighting another war against COVID-19 b...       en\n",
       "1104  Replying to \\n@DemonGod21\\n \\n@AnshumanBanka8\\...       en\n",
       "1105  Replying to \\n@SandipGhose\\n \\n@nitin_gadkari\\...       en\n",
       "\n",
       "[1106 rows x 2 columns]"
      ]
     },
     "execution_count": 106,
     "metadata": {},
     "output_type": "execute_result"
    }
   ],
   "source": [
    "mayTweet"
   ]
  },
  {
   "cell_type": "code",
   "execution_count": 107,
   "metadata": {},
   "outputs": [],
   "source": [
    "mayTweet.to_csv('mayTweet.csv')"
   ]
  },
  {
   "cell_type": "markdown",
   "metadata": {},
   "source": [
    "### --------REMOVING HASTAGS--------- ###"
   ]
  },
  {
   "cell_type": "code",
   "execution_count": 108,
   "metadata": {},
   "outputs": [],
   "source": [
    "mayTweet['hastags']=np.nan"
   ]
  },
  {
   "cell_type": "code",
   "execution_count": 109,
   "metadata": {},
   "outputs": [],
   "source": [
    "def extract_hastags(text,i=0):\n",
    "    hashtag_list = []\n",
    "    for word in text.split():\n",
    "        if word[0] == '#':\n",
    "            hashtag_list.append(word[0:])\n",
    "    mayTweet['hastags'][i]=hashtag_list\n",
    "    i+=1\n"
   ]
  },
  {
   "cell_type": "code",
   "execution_count": 110,
   "metadata": {},
   "outputs": [
    {
     "name": "stdout",
     "output_type": "stream",
     "text": [
      "RangeIndex(start=0, stop=1106, step=1)\n"
     ]
    }
   ],
   "source": [
    "index=mayTweet.index\n",
    "print(index)"
   ]
  },
  {
   "cell_type": "code",
   "execution_count": 114,
   "metadata": {},
   "outputs": [],
   "source": [
    "extract_hastags(mayTweet['tweet'][8],8)"
   ]
  },
  {
   "cell_type": "code",
   "execution_count": 115,
   "metadata": {},
   "outputs": [
    {
     "data": {
      "text/plain": [
       "[]"
      ]
     },
     "execution_count": 115,
     "metadata": {},
     "output_type": "execute_result"
    }
   ],
   "source": [
    "mayTweet['hastags'][8]"
   ]
  },
  {
   "cell_type": "code",
   "execution_count": 116,
   "metadata": {},
   "outputs": [],
   "source": [
    "for i in range(0,1106):\n",
    "    text=mayTweet['tweet'][i]\n",
    "    extract_hastags(text,i)\n"
   ]
  },
  {
   "cell_type": "code",
   "execution_count": 117,
   "metadata": {},
   "outputs": [
    {
     "data": {
      "text/plain": [
       "0                           [#COVIDisAirborne, #Covid_19]\n",
       "1                                                      []\n",
       "2                                          [#coronavirus]\n",
       "3       [#COVIDSecondWaveInIndia, #COVIDEmergency, #co...\n",
       "4                                                      []\n",
       "                              ...                        \n",
       "1101                                                   []\n",
       "1102                              [#KolkataFightsCovid19]\n",
       "1103                [#harshreality, #GiveTheVaccinesModi]\n",
       "1104                                                   []\n",
       "1105                                                   []\n",
       "Name: hastags, Length: 1106, dtype: object"
      ]
     },
     "execution_count": 117,
     "metadata": {},
     "output_type": "execute_result"
    }
   ],
   "source": [
    "mayTweet['hastags']"
   ]
  },
  {
   "cell_type": "markdown",
   "metadata": {},
   "source": [
    "### ---- Removing @texts ----"
   ]
  },
  {
   "cell_type": "code",
   "execution_count": 118,
   "metadata": {},
   "outputs": [],
   "source": [
    "mayTweet['attherate']=np.nan"
   ]
  },
  {
   "cell_type": "code",
   "execution_count": 119,
   "metadata": {},
   "outputs": [],
   "source": [
    "def extract_attherate(text,i=0):\n",
    "    attherate_list = []\n",
    "    for word in text.split():\n",
    "        if word[0] == '@':\n",
    "            attherate_list.append(word[0:])\n",
    "    mayTweet['attherate'][i]=attherate_list\n",
    "    i+=1"
   ]
  },
  {
   "cell_type": "code",
   "execution_count": 120,
   "metadata": {},
   "outputs": [
    {
     "data": {
      "text/plain": [
       "'The corona virus has a possible 39,000 RNA mutations. The world has only seen 153 so far. Practice social distancing and keep your face masks on. #COVIDisAirborne #Covid_19'"
      ]
     },
     "execution_count": 120,
     "metadata": {},
     "output_type": "execute_result"
    }
   ],
   "source": [
    "mayTweet['tweet'][0]"
   ]
  },
  {
   "cell_type": "code",
   "execution_count": 125,
   "metadata": {},
   "outputs": [],
   "source": [
    "for i in range(0,1106):\n",
    "    #text=mayTweet['tweet'][i]\n",
    "    extract_attherate(mayTweet['tweet'][i],i)\n"
   ]
  },
  {
   "cell_type": "code",
   "execution_count": 126,
   "metadata": {},
   "outputs": [
    {
     "data": {
      "text/plain": [
       "0                                                      []\n",
       "1                                                      []\n",
       "2                                                      []\n",
       "3                                                      []\n",
       "4                                                      []\n",
       "                              ...                        \n",
       "1101    [@Lshukla6, @SonuSood, @derekobrienmp, @Mamata...\n",
       "1102        [@srijitspeaketh, @SandyMukherg, @AnanyaRian]\n",
       "1103                                      [@narendramodi]\n",
       "1104                       [@DemonGod21, @AnshumanBanka8]\n",
       "1105        [@SandipGhose, @nitin_gadkari, @rajnathsingh]\n",
       "Name: attherate, Length: 1106, dtype: object"
      ]
     },
     "execution_count": 126,
     "metadata": {},
     "output_type": "execute_result"
    }
   ],
   "source": [
    "mayTweet['attherate']"
   ]
  },
  {
   "cell_type": "code",
   "execution_count": 127,
   "metadata": {},
   "outputs": [],
   "source": [
    "mayTweet.to_csv('mayTweet.csv')"
   ]
  },
  {
   "cell_type": "code",
   "execution_count": 128,
   "metadata": {},
   "outputs": [],
   "source": [
    "mayTweet['urls']=np.nan"
   ]
  },
  {
   "cell_type": "code",
   "execution_count": 129,
   "metadata": {},
   "outputs": [],
   "source": [
    "def extract_urls(text,i=0):\n",
    "    attherate_list = []\n",
    "    for word in text.split():\n",
    "        if word[0:5] == 'https':\n",
    "            attherate_list.append(word[0:])\n",
    "    mayTweet['urls'][i]=attherate_list\n",
    "    i+=1"
   ]
  },
  {
   "cell_type": "code",
   "execution_count": 130,
   "metadata": {},
   "outputs": [
    {
     "data": {
      "text/plain": [
       "'Second wave of coronavirus infection in India by new variant of double mutant B.1.617  https://t.co/xuMMbohior'"
      ]
     },
     "execution_count": 130,
     "metadata": {},
     "output_type": "execute_result"
    }
   ],
   "source": [
    "mayTweet['tweet'][1]"
   ]
  },
  {
   "cell_type": "code",
   "execution_count": 131,
   "metadata": {},
   "outputs": [
    {
     "name": "stderr",
     "output_type": "stream",
     "text": [
      "C:\\Users\\gango\\AppData\\Local\\Temp/ipykernel_21696/343483884.py:6: SettingWithCopyWarning: \n",
      "A value is trying to be set on a copy of a slice from a DataFrame\n",
      "\n",
      "See the caveats in the documentation: https://pandas.pydata.org/pandas-docs/stable/user_guide/indexing.html#returning-a-view-versus-a-copy\n",
      "  mayTweet['urls'][i]=attherate_list\n",
      "C:\\Users\\gango\\anaconda3\\lib\\site-packages\\pandas\\core\\indexing.py:1732: SettingWithCopyWarning: \n",
      "A value is trying to be set on a copy of a slice from a DataFrame\n",
      "\n",
      "See the caveats in the documentation: https://pandas.pydata.org/pandas-docs/stable/user_guide/indexing.html#returning-a-view-versus-a-copy\n",
      "  self._setitem_single_block(indexer, value, name)\n"
     ]
    }
   ],
   "source": [
    "extract_urls(mayTweet['tweet'][1],1)"
   ]
  },
  {
   "cell_type": "code",
   "execution_count": 132,
   "metadata": {},
   "outputs": [
    {
     "data": {
      "text/plain": [
       "['https://t.co/xuMMbohior']"
      ]
     },
     "execution_count": 132,
     "metadata": {},
     "output_type": "execute_result"
    }
   ],
   "source": [
    "mayTweet['urls'][1]"
   ]
  },
  {
   "cell_type": "code",
   "execution_count": 133,
   "metadata": {},
   "outputs": [],
   "source": [
    "for i in range(0,1106):\n",
    "    text=mayTweet['tweet'][i]\n",
    "    extract_urls(text,i)\n"
   ]
  },
  {
   "cell_type": "code",
   "execution_count": 134,
   "metadata": {},
   "outputs": [
    {
     "data": {
      "text/plain": [
       "0                                                  []\n",
       "1                           [https://t.co/xuMMbohior]\n",
       "2                           [https://t.co/jYpHJ58kJC]\n",
       "3                                                  []\n",
       "4                           [https://t.co/HpTGBrGE3K]\n",
       "                            ...                      \n",
       "1101                                               []\n",
       "1102    [https://coviddelhi.com, https://covidwb.com]\n",
       "1103                                               []\n",
       "1104                                               []\n",
       "1105                                               []\n",
       "Name: urls, Length: 1106, dtype: object"
      ]
     },
     "execution_count": 134,
     "metadata": {},
     "output_type": "execute_result"
    }
   ],
   "source": [
    "mayTweet['urls']"
   ]
  },
  {
   "cell_type": "code",
   "execution_count": 135,
   "metadata": {},
   "outputs": [],
   "source": [
    "mayTweet.to_csv('mayTweet.csv')"
   ]
  },
  {
   "cell_type": "code",
   "execution_count": 136,
   "metadata": {},
   "outputs": [
    {
     "data": {
      "text/html": [
       "<div>\n",
       "<style scoped>\n",
       "    .dataframe tbody tr th:only-of-type {\n",
       "        vertical-align: middle;\n",
       "    }\n",
       "\n",
       "    .dataframe tbody tr th {\n",
       "        vertical-align: top;\n",
       "    }\n",
       "\n",
       "    .dataframe thead th {\n",
       "        text-align: right;\n",
       "    }\n",
       "</style>\n",
       "<table border=\"1\" class=\"dataframe\">\n",
       "  <thead>\n",
       "    <tr style=\"text-align: right;\">\n",
       "      <th></th>\n",
       "      <th>tweet</th>\n",
       "      <th>language</th>\n",
       "      <th>hastags</th>\n",
       "      <th>attherate</th>\n",
       "      <th>urls</th>\n",
       "    </tr>\n",
       "  </thead>\n",
       "  <tbody>\n",
       "    <tr>\n",
       "      <th>0</th>\n",
       "      <td>The corona virus has a possible 39,000 RNA mut...</td>\n",
       "      <td>en</td>\n",
       "      <td>[#COVIDisAirborne, #Covid_19]</td>\n",
       "      <td>[]</td>\n",
       "      <td>[]</td>\n",
       "    </tr>\n",
       "    <tr>\n",
       "      <th>1</th>\n",
       "      <td>Second wave of coronavirus infection in India ...</td>\n",
       "      <td>en</td>\n",
       "      <td>[]</td>\n",
       "      <td>[]</td>\n",
       "      <td>[https://t.co/xuMMbohior]</td>\n",
       "    </tr>\n",
       "    <tr>\n",
       "      <th>2</th>\n",
       "      <td>BBC News - India coronavirus: New record death...</td>\n",
       "      <td>en</td>\n",
       "      <td>[#coronavirus]</td>\n",
       "      <td>[]</td>\n",
       "      <td>[https://t.co/jYpHJ58kJC]</td>\n",
       "    </tr>\n",
       "    <tr>\n",
       "      <th>3</th>\n",
       "      <td>wear a mask and sanitize your hands and mainta...</td>\n",
       "      <td>en</td>\n",
       "      <td>[#COVIDSecondWaveInIndia, #COVIDEmergency, #co...</td>\n",
       "      <td>[]</td>\n",
       "      <td>[]</td>\n",
       "    </tr>\n",
       "    <tr>\n",
       "      <th>4</th>\n",
       "      <td>BBC News - India coronavirus: New record death...</td>\n",
       "      <td>en</td>\n",
       "      <td>[]</td>\n",
       "      <td>[]</td>\n",
       "      <td>[https://t.co/HpTGBrGE3K]</td>\n",
       "    </tr>\n",
       "    <tr>\n",
       "      <th>...</th>\n",
       "      <td>...</td>\n",
       "      <td>...</td>\n",
       "      <td>...</td>\n",
       "      <td>...</td>\n",
       "      <td>...</td>\n",
       "    </tr>\n",
       "    <tr>\n",
       "      <th>1101</th>\n",
       "      <td>Great gesture \\n@Lshukla6\\n Bhaiya, \\n@SonuSoo...</td>\n",
       "      <td>en</td>\n",
       "      <td>[]</td>\n",
       "      <td>[@Lshukla6, @SonuSood, @derekobrienmp, @Mamata...</td>\n",
       "      <td>[]</td>\n",
       "    </tr>\n",
       "    <tr>\n",
       "      <th>1102</th>\n",
       "      <td>@srijitspeaketh\\n \\n@SandyMukherg\\n \\n@AnanyaR...</td>\n",
       "      <td>en</td>\n",
       "      <td>[#KolkataFightsCovid19]</td>\n",
       "      <td>[@srijitspeaketh, @SandyMukherg, @AnanyaRian]</td>\n",
       "      <td>[https://coviddelhi.com, https://covidwb.com]</td>\n",
       "    </tr>\n",
       "    <tr>\n",
       "      <th>1103</th>\n",
       "      <td>We are fighting another war against COVID-19 b...</td>\n",
       "      <td>en</td>\n",
       "      <td>[#harshreality, #GiveTheVaccinesModi]</td>\n",
       "      <td>[@narendramodi]</td>\n",
       "      <td>[]</td>\n",
       "    </tr>\n",
       "    <tr>\n",
       "      <th>1104</th>\n",
       "      <td>Replying to \\n@DemonGod21\\n \\n@AnshumanBanka8\\...</td>\n",
       "      <td>en</td>\n",
       "      <td>[]</td>\n",
       "      <td>[@DemonGod21, @AnshumanBanka8]</td>\n",
       "      <td>[]</td>\n",
       "    </tr>\n",
       "    <tr>\n",
       "      <th>1105</th>\n",
       "      <td>Replying to \\n@SandipGhose\\n \\n@nitin_gadkari\\...</td>\n",
       "      <td>en</td>\n",
       "      <td>[]</td>\n",
       "      <td>[@SandipGhose, @nitin_gadkari, @rajnathsingh]</td>\n",
       "      <td>[]</td>\n",
       "    </tr>\n",
       "  </tbody>\n",
       "</table>\n",
       "<p>1106 rows × 5 columns</p>\n",
       "</div>"
      ],
      "text/plain": [
       "                                                  tweet language  \\\n",
       "0     The corona virus has a possible 39,000 RNA mut...       en   \n",
       "1     Second wave of coronavirus infection in India ...       en   \n",
       "2     BBC News - India coronavirus: New record death...       en   \n",
       "3     wear a mask and sanitize your hands and mainta...       en   \n",
       "4     BBC News - India coronavirus: New record death...       en   \n",
       "...                                                 ...      ...   \n",
       "1101  Great gesture \\n@Lshukla6\\n Bhaiya, \\n@SonuSoo...       en   \n",
       "1102  @srijitspeaketh\\n \\n@SandyMukherg\\n \\n@AnanyaR...       en   \n",
       "1103  We are fighting another war against COVID-19 b...       en   \n",
       "1104  Replying to \\n@DemonGod21\\n \\n@AnshumanBanka8\\...       en   \n",
       "1105  Replying to \\n@SandipGhose\\n \\n@nitin_gadkari\\...       en   \n",
       "\n",
       "                                                hastags  \\\n",
       "0                         [#COVIDisAirborne, #Covid_19]   \n",
       "1                                                    []   \n",
       "2                                        [#coronavirus]   \n",
       "3     [#COVIDSecondWaveInIndia, #COVIDEmergency, #co...   \n",
       "4                                                    []   \n",
       "...                                                 ...   \n",
       "1101                                                 []   \n",
       "1102                            [#KolkataFightsCovid19]   \n",
       "1103              [#harshreality, #GiveTheVaccinesModi]   \n",
       "1104                                                 []   \n",
       "1105                                                 []   \n",
       "\n",
       "                                              attherate  \\\n",
       "0                                                    []   \n",
       "1                                                    []   \n",
       "2                                                    []   \n",
       "3                                                    []   \n",
       "4                                                    []   \n",
       "...                                                 ...   \n",
       "1101  [@Lshukla6, @SonuSood, @derekobrienmp, @Mamata...   \n",
       "1102      [@srijitspeaketh, @SandyMukherg, @AnanyaRian]   \n",
       "1103                                    [@narendramodi]   \n",
       "1104                     [@DemonGod21, @AnshumanBanka8]   \n",
       "1105      [@SandipGhose, @nitin_gadkari, @rajnathsingh]   \n",
       "\n",
       "                                               urls  \n",
       "0                                                []  \n",
       "1                         [https://t.co/xuMMbohior]  \n",
       "2                         [https://t.co/jYpHJ58kJC]  \n",
       "3                                                []  \n",
       "4                         [https://t.co/HpTGBrGE3K]  \n",
       "...                                             ...  \n",
       "1101                                             []  \n",
       "1102  [https://coviddelhi.com, https://covidwb.com]  \n",
       "1103                                             []  \n",
       "1104                                             []  \n",
       "1105                                             []  \n",
       "\n",
       "[1106 rows x 5 columns]"
      ]
     },
     "execution_count": 136,
     "metadata": {},
     "output_type": "execute_result"
    }
   ],
   "source": [
    "mayTweet"
   ]
  },
  {
   "cell_type": "code",
   "execution_count": 137,
   "metadata": {},
   "outputs": [],
   "source": [
    "mayTweet['tokenized_Tweet']=np.nan"
   ]
  },
  {
   "cell_type": "code",
   "execution_count": 138,
   "metadata": {},
   "outputs": [],
   "source": [
    "def tokenizing(text,i=0):\n",
    "    text=tb(text)\n",
    "    token_text=text.words\n",
    "    token_text\n",
    "    mayTweet['tokenized_Tweet'][i]=token_text"
   ]
  },
  {
   "cell_type": "code",
   "execution_count": 139,
   "metadata": {},
   "outputs": [
    {
     "name": "stderr",
     "output_type": "stream",
     "text": [
      "C:\\Users\\gango\\AppData\\Local\\Temp/ipykernel_21696/396458016.py:5: SettingWithCopyWarning: \n",
      "A value is trying to be set on a copy of a slice from a DataFrame\n",
      "\n",
      "See the caveats in the documentation: https://pandas.pydata.org/pandas-docs/stable/user_guide/indexing.html#returning-a-view-versus-a-copy\n",
      "  mayTweet['tokenized_Tweet'][i]=token_text\n",
      "C:\\Users\\gango\\anaconda3\\lib\\site-packages\\pandas\\core\\indexing.py:1732: SettingWithCopyWarning: \n",
      "A value is trying to be set on a copy of a slice from a DataFrame\n",
      "\n",
      "See the caveats in the documentation: https://pandas.pydata.org/pandas-docs/stable/user_guide/indexing.html#returning-a-view-versus-a-copy\n",
      "  self._setitem_single_block(indexer, value, name)\n"
     ]
    }
   ],
   "source": [
    "tokenizing(mayTweet['tweet'][0],0)"
   ]
  },
  {
   "cell_type": "code",
   "execution_count": 140,
   "metadata": {},
   "outputs": [
    {
     "data": {
      "text/plain": [
       "WordList(['The', 'corona', 'virus', 'has', 'a', 'possible', '39,000', 'RNA', 'mutations', 'The', 'world', 'has', 'only', 'seen', '153', 'so', 'far', 'Practice', 'social', 'distancing', 'and', 'keep', 'your', 'face', 'masks', 'on', 'COVIDisAirborne', 'Covid_19'])"
      ]
     },
     "execution_count": 140,
     "metadata": {},
     "output_type": "execute_result"
    }
   ],
   "source": [
    "mayTweet['tokenized_Tweet'][0]"
   ]
  },
  {
   "cell_type": "code",
   "execution_count": 141,
   "metadata": {},
   "outputs": [
    {
     "data": {
      "text/plain": [
       "'The corona virus has a possible 39,000 RNA mutations. The world has only seen 153 so far. Practice social distancing and keep your face masks on. #COVIDisAirborne #Covid_19'"
      ]
     },
     "execution_count": 141,
     "metadata": {},
     "output_type": "execute_result"
    }
   ],
   "source": [
    "mayTweet['tweet'][0]"
   ]
  },
  {
   "cell_type": "code",
   "execution_count": 142,
   "metadata": {},
   "outputs": [],
   "source": [
    "for i in range(0,1106):\n",
    "    #text=marchTweet['tweet'][i]\n",
    "    tokenizing(mayTweet['tweet'][i],i)"
   ]
  },
  {
   "cell_type": "code",
   "execution_count": 143,
   "metadata": {},
   "outputs": [
    {
     "data": {
      "text/plain": [
       "0       [The, corona, virus, has, a, possible, 39,000,...\n",
       "1       [Second, wave, of, coronavirus, infection, in,...\n",
       "2       [BBC, News, India, coronavirus, New, record, d...\n",
       "3       [wear, a, mask, and, sanitize, your, hands, an...\n",
       "4       [BBC, News, India, coronavirus, New, record, d...\n",
       "                              ...                        \n",
       "1101    [Great, gesture, Lshukla6, Bhaiya, SonuSood, d...\n",
       "1102    [srijitspeaketh, SandyMukherg, AnanyaRian, Che...\n",
       "1103    [We, are, fighting, another, war, against, COV...\n",
       "1104    [Replying, to, DemonGod21, AnshumanBanka8, and...\n",
       "1105    [Replying, to, SandipGhose, nitin_gadkari, and...\n",
       "Name: tokenized_Tweet, Length: 1106, dtype: object"
      ]
     },
     "execution_count": 143,
     "metadata": {},
     "output_type": "execute_result"
    }
   ],
   "source": [
    "mayTweet['tokenized_Tweet']"
   ]
  },
  {
   "cell_type": "code",
   "execution_count": 144,
   "metadata": {},
   "outputs": [],
   "source": [
    "mayTweet.to_csv('mayTweet.csv')"
   ]
  }
 ],
 "metadata": {
  "interpreter": {
   "hash": "204572981a9c880a2832b5713da616a32be7f6f4a56a8320d89604bb1cfd1343"
  },
  "kernelspec": {
   "display_name": "Python 3.10.2 64-bit",
   "language": "python",
   "name": "python3"
  },
  "language_info": {
   "codemirror_mode": {
    "name": "ipython",
    "version": 3
   },
   "file_extension": ".py",
   "mimetype": "text/x-python",
   "name": "python",
   "nbconvert_exporter": "python",
   "pygments_lexer": "ipython3",
   "version": "3.9.7"
  }
 },
 "nbformat": 4,
 "nbformat_minor": 2
}
