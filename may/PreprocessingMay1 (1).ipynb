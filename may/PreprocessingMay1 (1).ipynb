{
 "cells": [
  {
   "cell_type": "code",
   "execution_count": 2,
   "metadata": {},
   "outputs": [],
   "source": [
    "import pandas as pd\n",
    "import numpy as np\n",
    "import math\n",
    "from textblob import TextBlob as tb\n",
    "import re\n",
    "from nltk.corpus import stopwords"
   ]
  },
  {
   "cell_type": "code",
   "execution_count": 3,
   "metadata": {},
   "outputs": [
    {
     "name": "stderr",
     "output_type": "stream",
     "text": [
      "[nltk_data] Downloading package stopwords to\n",
      "[nltk_data]     C:\\Users\\AYUSH\\AppData\\Roaming\\nltk_data...\n",
      "[nltk_data]   Package stopwords is already up-to-date!\n"
     ]
    },
    {
     "data": {
      "text/plain": [
       "True"
      ]
     },
     "execution_count": 3,
     "metadata": {},
     "output_type": "execute_result"
    }
   ],
   "source": [
    "import nltk\n",
    "nltk.download('stopwords')"
   ]
  },
  {
   "cell_type": "code",
   "execution_count": 4,
   "metadata": {},
   "outputs": [],
   "source": [
    "may=pd.read_csv('MayRaw.csv')"
   ]
  },
  {
   "cell_type": "code",
   "execution_count": 11,
   "metadata": {},
   "outputs": [
    {
     "data": {
      "text/plain": [
       "(3047, 7)"
      ]
     },
     "execution_count": 11,
     "metadata": {},
     "output_type": "execute_result"
    }
   ],
   "source": [
    "may.shape"
   ]
  },
  {
   "cell_type": "code",
   "execution_count": 5,
   "metadata": {},
   "outputs": [
    {
     "data": {
      "text/plain": [
       "Index(['Unnamed: 0', 'created_at', 'username', 'tweet', 'language',\n",
       "       'replies_count', 'retweets_count', 'likes_count'],\n",
       "      dtype='object')"
      ]
     },
     "execution_count": 5,
     "metadata": {},
     "output_type": "execute_result"
    }
   ],
   "source": [
    "may.columns"
   ]
  },
  {
   "cell_type": "code",
   "execution_count": 6,
   "metadata": {},
   "outputs": [],
   "source": [
    "may.drop(['Unnamed: 0'],axis=1,inplace=True)"
   ]
  },
  {
   "cell_type": "code",
   "execution_count": 7,
   "metadata": {},
   "outputs": [
    {
     "data": {
      "text/plain": [
       "Index(['created_at', 'username', 'tweet', 'language', 'replies_count',\n",
       "       'retweets_count', 'likes_count'],\n",
       "      dtype='object')"
      ]
     },
     "execution_count": 7,
     "metadata": {},
     "output_type": "execute_result"
    }
   ],
   "source": [
    "may.columns"
   ]
  },
  {
   "cell_type": "code",
   "execution_count": 8,
   "metadata": {},
   "outputs": [
    {
     "data": {
      "text/plain": [
       "array(['und', 'en', 'ar', 'ca', 'hi', 'in', 'ro', 'bn', 'ta', 'ur', 'es',\n",
       "       'lt', 'et', 'mr', 'tl', 'ht', 'fi', 'ne', 'nl', 'si', 'de', 'sv',\n",
       "       'no', 'it', 'pa', 'kn', 'sl', 'te', 'pl', 'pt', 'ja', 'fr', 'ml',\n",
       "       'th', 'vi', 'or', 'km', 'gu', 'tr'], dtype=object)"
      ]
     },
     "execution_count": 8,
     "metadata": {},
     "output_type": "execute_result"
    }
   ],
   "source": [
    "may['language'].unique()"
   ]
  },
  {
   "cell_type": "code",
   "execution_count": 9,
   "metadata": {},
   "outputs": [
    {
     "data": {
      "image/png": "[encoded data removed]",
      "text/plain": [
       "<Figure size 540x252 with 1 Axes>"
      ]
     },
     "metadata": {
      "needs_background": "light"
     },
     "output_type": "display_data"
    }
   ],
   "source": [
    "import seaborn as sns\n",
    "import matplotlib.pyplot as plt\n",
    "plt.rcParams[\"figure.figsize\"] = [7.50, 3.50]\n",
    "lang=may['language'].value_counts().rename_axis('lang').reset_index(name='frequency')\n",
    "ax = sns.barplot(x=\"lang\", y=\"frequency\", data=lang)\n",
    "plt.title(\"May\")\n",
    "plt.xticks(rotation=90)\n",
    "plt.show()"
   ]
  },
  {
   "cell_type": "code",
   "execution_count": 10,
   "metadata": {},
   "outputs": [
    {
     "data": {
      "text/plain": [
       "(39, 2)"
      ]
     },
     "execution_count": 10,
     "metadata": {},
     "output_type": "execute_result"
    }
   ],
   "source": [
    "lang.shape"
   ]
  },
  {
   "cell_type": "code",
   "execution_count": 8,
   "metadata": {},
   "outputs": [],
   "source": [
    "for i in may['language']:\n",
    "    index_names = may[may['language']!='en' ].index\n",
    "    may.drop(index_names, inplace = True)"
   ]
  },
  {
   "cell_type": "code",
   "execution_count": 9,
   "metadata": {},
   "outputs": [
    {
     "data": {
      "text/plain": [
       "(2159, 7)"
      ]
     },
     "execution_count": 9,
     "metadata": {},
     "output_type": "execute_result"
    }
   ],
   "source": [
    "may.shape"
   ]
  },
  {
   "cell_type": "code",
   "execution_count": 10,
   "metadata": {},
   "outputs": [
    {
     "data": {
      "text/plain": [
       "(323, 7)"
      ]
     },
     "execution_count": 10,
     "metadata": {},
     "output_type": "execute_result"
    }
   ],
   "source": [
    "duplicates = may[may.duplicated()]\n",
    "duplicates.shape"
   ]
  },
  {
   "cell_type": "code",
   "execution_count": 11,
   "metadata": {},
   "outputs": [
    {
     "data": {
      "text/plain": [
       "(1836, 7)"
      ]
     },
     "execution_count": 11,
     "metadata": {},
     "output_type": "execute_result"
    }
   ],
   "source": [
    "may=may.drop_duplicates(keep='first')\n",
    "may.shape"
   ]
  },
  {
   "cell_type": "code",
   "execution_count": 12,
   "metadata": {},
   "outputs": [
    {
     "data": {
      "text/html": [
       "<div>\n",
       "<style scoped>\n",
       "    .dataframe tbody tr th:only-of-type {\n",
       "        vertical-align: middle;\n",
       "    }\n",
       "\n",
       "    .dataframe tbody tr th {\n",
       "        vertical-align: top;\n",
       "    }\n",
       "\n",
       "    .dataframe thead th {\n",
       "        text-align: right;\n",
       "    }\n",
       "</style>\n",
       "<table border=\"1\" class=\"dataframe\">\n",
       "  <thead>\n",
       "    <tr style=\"text-align: right;\">\n",
       "      <th></th>\n",
       "      <th>created_at</th>\n",
       "      <th>username</th>\n",
       "      <th>tweet</th>\n",
       "      <th>language</th>\n",
       "      <th>replies_count</th>\n",
       "      <th>retweets_count</th>\n",
       "      <th>likes_count</th>\n",
       "    </tr>\n",
       "  </thead>\n",
       "  <tbody>\n",
       "    <tr>\n",
       "      <th>1</th>\n",
       "      <td>2021-05-03 03:20:28 India Standard Time</td>\n",
       "      <td>alidurrani88</td>\n",
       "      <td>The corona virus has a possible 39,000 RNA mut...</td>\n",
       "      <td>en</td>\n",
       "      <td>0.0</td>\n",
       "      <td>0.0</td>\n",
       "      <td>2</td>\n",
       "    </tr>\n",
       "    <tr>\n",
       "      <th>2</th>\n",
       "      <td>2021-05-03 03:07:03 India Standard Time</td>\n",
       "      <td>drkaushiksuresh</td>\n",
       "      <td>Second wave of coronavirus infection in India ...</td>\n",
       "      <td>en</td>\n",
       "      <td>0.0</td>\n",
       "      <td>0.0</td>\n",
       "      <td>0</td>\n",
       "    </tr>\n",
       "    <tr>\n",
       "      <th>3</th>\n",
       "      <td>2021-05-03 02:55:32 India Standard Time</td>\n",
       "      <td>sohailmalik462</td>\n",
       "      <td>BBC News - India coronavirus: New record death...</td>\n",
       "      <td>en</td>\n",
       "      <td>0.0</td>\n",
       "      <td>0.0</td>\n",
       "      <td>0</td>\n",
       "    </tr>\n",
       "    <tr>\n",
       "      <th>5</th>\n",
       "      <td>2021-05-03 02:29:32 India Standard Time</td>\n",
       "      <td>bjp_bihar_</td>\n",
       "      <td>wear a mask and sanitize your hands and mainta...</td>\n",
       "      <td>en</td>\n",
       "      <td>0.0</td>\n",
       "      <td>0.0</td>\n",
       "      <td>1</td>\n",
       "    </tr>\n",
       "    <tr>\n",
       "      <th>6</th>\n",
       "      <td>2021-05-03 02:07:33 India Standard Time</td>\n",
       "      <td>sasmitchandan</td>\n",
       "      <td>BBC News - India coronavirus: New record death...</td>\n",
       "      <td>en</td>\n",
       "      <td>0.0</td>\n",
       "      <td>0.0</td>\n",
       "      <td>0</td>\n",
       "    </tr>\n",
       "    <tr>\n",
       "      <th>...</th>\n",
       "      <td>...</td>\n",
       "      <td>...</td>\n",
       "      <td>...</td>\n",
       "      <td>...</td>\n",
       "      <td>...</td>\n",
       "      <td>...</td>\n",
       "      <td>...</td>\n",
       "    </tr>\n",
       "    <tr>\n",
       "      <th>3037</th>\n",
       "      <td>2021-05-06T11:53:32.000Z</td>\n",
       "      <td>NaN</td>\n",
       "      <td>Great gesture \\n@Lshukla6\\n Bhaiya, \\n@SonuSoo...</td>\n",
       "      <td>en</td>\n",
       "      <td>NaN</td>\n",
       "      <td>NaN</td>\n",
       "      <td>1</td>\n",
       "    </tr>\n",
       "    <tr>\n",
       "      <th>3038</th>\n",
       "      <td>2021-05-01T18:00:50.000Z</td>\n",
       "      <td>NaN</td>\n",
       "      <td>@srijitspeaketh\\n \\n@SandyMukherg\\n \\n@AnanyaR...</td>\n",
       "      <td>en</td>\n",
       "      <td>1.0</td>\n",
       "      <td>6.0</td>\n",
       "      <td>5</td>\n",
       "    </tr>\n",
       "    <tr>\n",
       "      <th>3039</th>\n",
       "      <td>2021-05-01T05:37:53.000Z</td>\n",
       "      <td>NaN</td>\n",
       "      <td>We are fighting another war against COVID-19 b...</td>\n",
       "      <td>en</td>\n",
       "      <td>1.0</td>\n",
       "      <td>NaN</td>\n",
       "      <td>1</td>\n",
       "    </tr>\n",
       "    <tr>\n",
       "      <th>3044</th>\n",
       "      <td>2021-05-02T19:27:49.000Z</td>\n",
       "      <td>NaN</td>\n",
       "      <td>Replying to \\n@DemonGod21\\n \\n@AnshumanBanka8\\...</td>\n",
       "      <td>en</td>\n",
       "      <td>NaN</td>\n",
       "      <td>NaN</td>\n",
       "      <td>NaN</td>\n",
       "    </tr>\n",
       "    <tr>\n",
       "      <th>3046</th>\n",
       "      <td>2021-05-04T20:55:56.000Z</td>\n",
       "      <td>NaN</td>\n",
       "      <td>Replying to \\n@SandipGhose\\n \\n@nitin_gadkari\\...</td>\n",
       "      <td>en</td>\n",
       "      <td>NaN</td>\n",
       "      <td>NaN</td>\n",
       "      <td>NaN</td>\n",
       "    </tr>\n",
       "  </tbody>\n",
       "</table>\n",
       "<p>1836 rows × 7 columns</p>\n",
       "</div>"
      ],
      "text/plain": [
       "                                   created_at         username  \\\n",
       "1     2021-05-03 03:20:28 India Standard Time     alidurrani88   \n",
       "2     2021-05-03 03:07:03 India Standard Time  drkaushiksuresh   \n",
       "3     2021-05-03 02:55:32 India Standard Time   sohailmalik462   \n",
       "5     2021-05-03 02:29:32 India Standard Time       bjp_bihar_   \n",
       "6     2021-05-03 02:07:33 India Standard Time    sasmitchandan   \n",
       "...                                       ...              ...   \n",
       "3037                 2021-05-06T11:53:32.000Z              NaN   \n",
       "3038                 2021-05-01T18:00:50.000Z              NaN   \n",
       "3039                 2021-05-01T05:37:53.000Z              NaN   \n",
       "3044                 2021-05-02T19:27:49.000Z              NaN   \n",
       "3046                 2021-05-04T20:55:56.000Z              NaN   \n",
       "\n",
       "                                                  tweet language  \\\n",
       "1     The corona virus has a possible 39,000 RNA mut...       en   \n",
       "2     Second wave of coronavirus infection in India ...       en   \n",
       "3     BBC News - India coronavirus: New record death...       en   \n",
       "5     wear a mask and sanitize your hands and mainta...       en   \n",
       "6     BBC News - India coronavirus: New record death...       en   \n",
       "...                                                 ...      ...   \n",
       "3037  Great gesture \\n@Lshukla6\\n Bhaiya, \\n@SonuSoo...       en   \n",
       "3038  @srijitspeaketh\\n \\n@SandyMukherg\\n \\n@AnanyaR...       en   \n",
       "3039  We are fighting another war against COVID-19 b...       en   \n",
       "3044  Replying to \\n@DemonGod21\\n \\n@AnshumanBanka8\\...       en   \n",
       "3046  Replying to \\n@SandipGhose\\n \\n@nitin_gadkari\\...       en   \n",
       "\n",
       "      replies_count  retweets_count likes_count  \n",
       "1               0.0             0.0           2  \n",
       "2               0.0             0.0           0  \n",
       "3               0.0             0.0           0  \n",
       "5               0.0             0.0           1  \n",
       "6               0.0             0.0           0  \n",
       "...             ...             ...         ...  \n",
       "3037            NaN             NaN           1  \n",
       "3038            1.0             6.0           5  \n",
       "3039            1.0             NaN           1  \n",
       "3044            NaN             NaN         NaN  \n",
       "3046            NaN             NaN         NaN  \n",
       "\n",
       "[1836 rows x 7 columns]"
      ]
     },
     "execution_count": 12,
     "metadata": {},
     "output_type": "execute_result"
    }
   ],
   "source": [
    "may"
   ]
  },
  {
   "cell_type": "code",
   "execution_count": 13,
   "metadata": {},
   "outputs": [
    {
     "data": {
      "text/plain": [
       "Index(['created_at', 'username', 'tweet', 'language', 'replies_count',\n",
       "       'retweets_count', 'likes_count'],\n",
       "      dtype='object')"
      ]
     },
     "execution_count": 13,
     "metadata": {},
     "output_type": "execute_result"
    }
   ],
   "source": [
    "may.columns"
   ]
  },
  {
   "cell_type": "code",
   "execution_count": 14,
   "metadata": {},
   "outputs": [],
   "source": [
    "may[['replies_count','retweets_count', 'likes_count']]=may[['replies_count','retweets_count', 'likes_count']].fillna(0)"
   ]
  },
  {
   "cell_type": "code",
   "execution_count": 15,
   "metadata": {},
   "outputs": [
    {
     "data": {
      "text/html": [
       "<div>\n",
       "<style scoped>\n",
       "    .dataframe tbody tr th:only-of-type {\n",
       "        vertical-align: middle;\n",
       "    }\n",
       "\n",
       "    .dataframe tbody tr th {\n",
       "        vertical-align: top;\n",
       "    }\n",
       "\n",
       "    .dataframe thead th {\n",
       "        text-align: right;\n",
       "    }\n",
       "</style>\n",
       "<table border=\"1\" class=\"dataframe\">\n",
       "  <thead>\n",
       "    <tr style=\"text-align: right;\">\n",
       "      <th></th>\n",
       "      <th>created_at</th>\n",
       "      <th>username</th>\n",
       "      <th>tweet</th>\n",
       "      <th>language</th>\n",
       "      <th>replies_count</th>\n",
       "      <th>retweets_count</th>\n",
       "      <th>likes_count</th>\n",
       "    </tr>\n",
       "  </thead>\n",
       "  <tbody>\n",
       "    <tr>\n",
       "      <th>1</th>\n",
       "      <td>2021-05-03 03:20:28 India Standard Time</td>\n",
       "      <td>alidurrani88</td>\n",
       "      <td>The corona virus has a possible 39,000 RNA mut...</td>\n",
       "      <td>en</td>\n",
       "      <td>0.0</td>\n",
       "      <td>0.0</td>\n",
       "      <td>2</td>\n",
       "    </tr>\n",
       "    <tr>\n",
       "      <th>2</th>\n",
       "      <td>2021-05-03 03:07:03 India Standard Time</td>\n",
       "      <td>drkaushiksuresh</td>\n",
       "      <td>Second wave of coronavirus infection in India ...</td>\n",
       "      <td>en</td>\n",
       "      <td>0.0</td>\n",
       "      <td>0.0</td>\n",
       "      <td>0</td>\n",
       "    </tr>\n",
       "    <tr>\n",
       "      <th>3</th>\n",
       "      <td>2021-05-03 02:55:32 India Standard Time</td>\n",
       "      <td>sohailmalik462</td>\n",
       "      <td>BBC News - India coronavirus: New record death...</td>\n",
       "      <td>en</td>\n",
       "      <td>0.0</td>\n",
       "      <td>0.0</td>\n",
       "      <td>0</td>\n",
       "    </tr>\n",
       "    <tr>\n",
       "      <th>5</th>\n",
       "      <td>2021-05-03 02:29:32 India Standard Time</td>\n",
       "      <td>bjp_bihar_</td>\n",
       "      <td>wear a mask and sanitize your hands and mainta...</td>\n",
       "      <td>en</td>\n",
       "      <td>0.0</td>\n",
       "      <td>0.0</td>\n",
       "      <td>1</td>\n",
       "    </tr>\n",
       "    <tr>\n",
       "      <th>6</th>\n",
       "      <td>2021-05-03 02:07:33 India Standard Time</td>\n",
       "      <td>sasmitchandan</td>\n",
       "      <td>BBC News - India coronavirus: New record death...</td>\n",
       "      <td>en</td>\n",
       "      <td>0.0</td>\n",
       "      <td>0.0</td>\n",
       "      <td>0</td>\n",
       "    </tr>\n",
       "    <tr>\n",
       "      <th>...</th>\n",
       "      <td>...</td>\n",
       "      <td>...</td>\n",
       "      <td>...</td>\n",
       "      <td>...</td>\n",
       "      <td>...</td>\n",
       "      <td>...</td>\n",
       "      <td>...</td>\n",
       "    </tr>\n",
       "    <tr>\n",
       "      <th>3037</th>\n",
       "      <td>2021-05-06T11:53:32.000Z</td>\n",
       "      <td>NaN</td>\n",
       "      <td>Great gesture \\n@Lshukla6\\n Bhaiya, \\n@SonuSoo...</td>\n",
       "      <td>en</td>\n",
       "      <td>0.0</td>\n",
       "      <td>0.0</td>\n",
       "      <td>1</td>\n",
       "    </tr>\n",
       "    <tr>\n",
       "      <th>3038</th>\n",
       "      <td>2021-05-01T18:00:50.000Z</td>\n",
       "      <td>NaN</td>\n",
       "      <td>@srijitspeaketh\\n \\n@SandyMukherg\\n \\n@AnanyaR...</td>\n",
       "      <td>en</td>\n",
       "      <td>1.0</td>\n",
       "      <td>6.0</td>\n",
       "      <td>5</td>\n",
       "    </tr>\n",
       "    <tr>\n",
       "      <th>3039</th>\n",
       "      <td>2021-05-01T05:37:53.000Z</td>\n",
       "      <td>NaN</td>\n",
       "      <td>We are fighting another war against COVID-19 b...</td>\n",
       "      <td>en</td>\n",
       "      <td>1.0</td>\n",
       "      <td>0.0</td>\n",
       "      <td>1</td>\n",
       "    </tr>\n",
       "    <tr>\n",
       "      <th>3044</th>\n",
       "      <td>2021-05-02T19:27:49.000Z</td>\n",
       "      <td>NaN</td>\n",
       "      <td>Replying to \\n@DemonGod21\\n \\n@AnshumanBanka8\\...</td>\n",
       "      <td>en</td>\n",
       "      <td>0.0</td>\n",
       "      <td>0.0</td>\n",
       "      <td>0</td>\n",
       "    </tr>\n",
       "    <tr>\n",
       "      <th>3046</th>\n",
       "      <td>2021-05-04T20:55:56.000Z</td>\n",
       "      <td>NaN</td>\n",
       "      <td>Replying to \\n@SandipGhose\\n \\n@nitin_gadkari\\...</td>\n",
       "      <td>en</td>\n",
       "      <td>0.0</td>\n",
       "      <td>0.0</td>\n",
       "      <td>0</td>\n",
       "    </tr>\n",
       "  </tbody>\n",
       "</table>\n",
       "<p>1836 rows × 7 columns</p>\n",
       "</div>"
      ],
      "text/plain": [
       "                                   created_at         username  \\\n",
       "1     2021-05-03 03:20:28 India Standard Time     alidurrani88   \n",
       "2     2021-05-03 03:07:03 India Standard Time  drkaushiksuresh   \n",
       "3     2021-05-03 02:55:32 India Standard Time   sohailmalik462   \n",
       "5     2021-05-03 02:29:32 India Standard Time       bjp_bihar_   \n",
       "6     2021-05-03 02:07:33 India Standard Time    sasmitchandan   \n",
       "...                                       ...              ...   \n",
       "3037                 2021-05-06T11:53:32.000Z              NaN   \n",
       "3038                 2021-05-01T18:00:50.000Z              NaN   \n",
       "3039                 2021-05-01T05:37:53.000Z              NaN   \n",
       "3044                 2021-05-02T19:27:49.000Z              NaN   \n",
       "3046                 2021-05-04T20:55:56.000Z              NaN   \n",
       "\n",
       "                                                  tweet language  \\\n",
       "1     The corona virus has a possible 39,000 RNA mut...       en   \n",
       "2     Second wave of coronavirus infection in India ...       en   \n",
       "3     BBC News - India coronavirus: New record death...       en   \n",
       "5     wear a mask and sanitize your hands and mainta...       en   \n",
       "6     BBC News - India coronavirus: New record death...       en   \n",
       "...                                                 ...      ...   \n",
       "3037  Great gesture \\n@Lshukla6\\n Bhaiya, \\n@SonuSoo...       en   \n",
       "3038  @srijitspeaketh\\n \\n@SandyMukherg\\n \\n@AnanyaR...       en   \n",
       "3039  We are fighting another war against COVID-19 b...       en   \n",
       "3044  Replying to \\n@DemonGod21\\n \\n@AnshumanBanka8\\...       en   \n",
       "3046  Replying to \\n@SandipGhose\\n \\n@nitin_gadkari\\...       en   \n",
       "\n",
       "      replies_count  retweets_count likes_count  \n",
       "1               0.0             0.0           2  \n",
       "2               0.0             0.0           0  \n",
       "3               0.0             0.0           0  \n",
       "5               0.0             0.0           1  \n",
       "6               0.0             0.0           0  \n",
       "...             ...             ...         ...  \n",
       "3037            0.0             0.0           1  \n",
       "3038            1.0             6.0           5  \n",
       "3039            1.0             0.0           1  \n",
       "3044            0.0             0.0           0  \n",
       "3046            0.0             0.0           0  \n",
       "\n",
       "[1836 rows x 7 columns]"
      ]
     },
     "execution_count": 15,
     "metadata": {},
     "output_type": "execute_result"
    }
   ],
   "source": [
    "may"
   ]
  },
  {
   "cell_type": "code",
   "execution_count": 16,
   "metadata": {},
   "outputs": [],
   "source": [
    "mayTweet=may[['tweet','language']]"
   ]
  },
  {
   "cell_type": "code",
   "execution_count": 17,
   "metadata": {},
   "outputs": [
    {
     "data": {
      "text/html": [
       "<div>\n",
       "<style scoped>\n",
       "    .dataframe tbody tr th:only-of-type {\n",
       "        vertical-align: middle;\n",
       "    }\n",
       "\n",
       "    .dataframe tbody tr th {\n",
       "        vertical-align: top;\n",
       "    }\n",
       "\n",
       "    .dataframe thead th {\n",
       "        text-align: right;\n",
       "    }\n",
       "</style>\n",
       "<table border=\"1\" class=\"dataframe\">\n",
       "  <thead>\n",
       "    <tr style=\"text-align: right;\">\n",
       "      <th></th>\n",
       "      <th>tweet</th>\n",
       "      <th>language</th>\n",
       "    </tr>\n",
       "  </thead>\n",
       "  <tbody>\n",
       "    <tr>\n",
       "      <th>1</th>\n",
       "      <td>The corona virus has a possible 39,000 RNA mut...</td>\n",
       "      <td>en</td>\n",
       "    </tr>\n",
       "    <tr>\n",
       "      <th>2</th>\n",
       "      <td>Second wave of coronavirus infection in India ...</td>\n",
       "      <td>en</td>\n",
       "    </tr>\n",
       "    <tr>\n",
       "      <th>3</th>\n",
       "      <td>BBC News - India coronavirus: New record death...</td>\n",
       "      <td>en</td>\n",
       "    </tr>\n",
       "    <tr>\n",
       "      <th>5</th>\n",
       "      <td>wear a mask and sanitize your hands and mainta...</td>\n",
       "      <td>en</td>\n",
       "    </tr>\n",
       "    <tr>\n",
       "      <th>6</th>\n",
       "      <td>BBC News - India coronavirus: New record death...</td>\n",
       "      <td>en</td>\n",
       "    </tr>\n",
       "    <tr>\n",
       "      <th>...</th>\n",
       "      <td>...</td>\n",
       "      <td>...</td>\n",
       "    </tr>\n",
       "    <tr>\n",
       "      <th>3037</th>\n",
       "      <td>Great gesture \\n@Lshukla6\\n Bhaiya, \\n@SonuSoo...</td>\n",
       "      <td>en</td>\n",
       "    </tr>\n",
       "    <tr>\n",
       "      <th>3038</th>\n",
       "      <td>@srijitspeaketh\\n \\n@SandyMukherg\\n \\n@AnanyaR...</td>\n",
       "      <td>en</td>\n",
       "    </tr>\n",
       "    <tr>\n",
       "      <th>3039</th>\n",
       "      <td>We are fighting another war against COVID-19 b...</td>\n",
       "      <td>en</td>\n",
       "    </tr>\n",
       "    <tr>\n",
       "      <th>3044</th>\n",
       "      <td>Replying to \\n@DemonGod21\\n \\n@AnshumanBanka8\\...</td>\n",
       "      <td>en</td>\n",
       "    </tr>\n",
       "    <tr>\n",
       "      <th>3046</th>\n",
       "      <td>Replying to \\n@SandipGhose\\n \\n@nitin_gadkari\\...</td>\n",
       "      <td>en</td>\n",
       "    </tr>\n",
       "  </tbody>\n",
       "</table>\n",
       "<p>1836 rows × 2 columns</p>\n",
       "</div>"
      ],
      "text/plain": [
       "                                                  tweet language\n",
       "1     The corona virus has a possible 39,000 RNA mut...       en\n",
       "2     Second wave of coronavirus infection in India ...       en\n",
       "3     BBC News - India coronavirus: New record death...       en\n",
       "5     wear a mask and sanitize your hands and mainta...       en\n",
       "6     BBC News - India coronavirus: New record death...       en\n",
       "...                                                 ...      ...\n",
       "3037  Great gesture \\n@Lshukla6\\n Bhaiya, \\n@SonuSoo...       en\n",
       "3038  @srijitspeaketh\\n \\n@SandyMukherg\\n \\n@AnanyaR...       en\n",
       "3039  We are fighting another war against COVID-19 b...       en\n",
       "3044  Replying to \\n@DemonGod21\\n \\n@AnshumanBanka8\\...       en\n",
       "3046  Replying to \\n@SandipGhose\\n \\n@nitin_gadkari\\...       en\n",
       "\n",
       "[1836 rows x 2 columns]"
      ]
     },
     "execution_count": 17,
     "metadata": {},
     "output_type": "execute_result"
    }
   ],
   "source": [
    "mayTweet"
   ]
  },
  {
   "cell_type": "code",
   "execution_count": 18,
   "metadata": {},
   "outputs": [],
   "source": [
    "mayTweet=mayTweet.reset_index(level=None, drop=False, inplace=False, col_level=0, col_fill='')"
   ]
  },
  {
   "cell_type": "code",
   "execution_count": 19,
   "metadata": {},
   "outputs": [
    {
     "data": {
      "text/html": [
       "<div>\n",
       "<style scoped>\n",
       "    .dataframe tbody tr th:only-of-type {\n",
       "        vertical-align: middle;\n",
       "    }\n",
       "\n",
       "    .dataframe tbody tr th {\n",
       "        vertical-align: top;\n",
       "    }\n",
       "\n",
       "    .dataframe thead th {\n",
       "        text-align: right;\n",
       "    }\n",
       "</style>\n",
       "<table border=\"1\" class=\"dataframe\">\n",
       "  <thead>\n",
       "    <tr style=\"text-align: right;\">\n",
       "      <th></th>\n",
       "      <th>index</th>\n",
       "      <th>tweet</th>\n",
       "      <th>language</th>\n",
       "    </tr>\n",
       "  </thead>\n",
       "  <tbody>\n",
       "    <tr>\n",
       "      <th>0</th>\n",
       "      <td>1</td>\n",
       "      <td>The corona virus has a possible 39,000 RNA mut...</td>\n",
       "      <td>en</td>\n",
       "    </tr>\n",
       "    <tr>\n",
       "      <th>1</th>\n",
       "      <td>2</td>\n",
       "      <td>Second wave of coronavirus infection in India ...</td>\n",
       "      <td>en</td>\n",
       "    </tr>\n",
       "    <tr>\n",
       "      <th>2</th>\n",
       "      <td>3</td>\n",
       "      <td>BBC News - India coronavirus: New record death...</td>\n",
       "      <td>en</td>\n",
       "    </tr>\n",
       "    <tr>\n",
       "      <th>3</th>\n",
       "      <td>5</td>\n",
       "      <td>wear a mask and sanitize your hands and mainta...</td>\n",
       "      <td>en</td>\n",
       "    </tr>\n",
       "    <tr>\n",
       "      <th>4</th>\n",
       "      <td>6</td>\n",
       "      <td>BBC News - India coronavirus: New record death...</td>\n",
       "      <td>en</td>\n",
       "    </tr>\n",
       "    <tr>\n",
       "      <th>...</th>\n",
       "      <td>...</td>\n",
       "      <td>...</td>\n",
       "      <td>...</td>\n",
       "    </tr>\n",
       "    <tr>\n",
       "      <th>1831</th>\n",
       "      <td>3037</td>\n",
       "      <td>Great gesture \\n@Lshukla6\\n Bhaiya, \\n@SonuSoo...</td>\n",
       "      <td>en</td>\n",
       "    </tr>\n",
       "    <tr>\n",
       "      <th>1832</th>\n",
       "      <td>3038</td>\n",
       "      <td>@srijitspeaketh\\n \\n@SandyMukherg\\n \\n@AnanyaR...</td>\n",
       "      <td>en</td>\n",
       "    </tr>\n",
       "    <tr>\n",
       "      <th>1833</th>\n",
       "      <td>3039</td>\n",
       "      <td>We are fighting another war against COVID-19 b...</td>\n",
       "      <td>en</td>\n",
       "    </tr>\n",
       "    <tr>\n",
       "      <th>1834</th>\n",
       "      <td>3044</td>\n",
       "      <td>Replying to \\n@DemonGod21\\n \\n@AnshumanBanka8\\...</td>\n",
       "      <td>en</td>\n",
       "    </tr>\n",
       "    <tr>\n",
       "      <th>1835</th>\n",
       "      <td>3046</td>\n",
       "      <td>Replying to \\n@SandipGhose\\n \\n@nitin_gadkari\\...</td>\n",
       "      <td>en</td>\n",
       "    </tr>\n",
       "  </tbody>\n",
       "</table>\n",
       "<p>1836 rows × 3 columns</p>\n",
       "</div>"
      ],
      "text/plain": [
       "      index                                              tweet language\n",
       "0         1  The corona virus has a possible 39,000 RNA mut...       en\n",
       "1         2  Second wave of coronavirus infection in India ...       en\n",
       "2         3  BBC News - India coronavirus: New record death...       en\n",
       "3         5  wear a mask and sanitize your hands and mainta...       en\n",
       "4         6  BBC News - India coronavirus: New record death...       en\n",
       "...     ...                                                ...      ...\n",
       "1831   3037  Great gesture \\n@Lshukla6\\n Bhaiya, \\n@SonuSoo...       en\n",
       "1832   3038  @srijitspeaketh\\n \\n@SandyMukherg\\n \\n@AnanyaR...       en\n",
       "1833   3039  We are fighting another war against COVID-19 b...       en\n",
       "1834   3044  Replying to \\n@DemonGod21\\n \\n@AnshumanBanka8\\...       en\n",
       "1835   3046  Replying to \\n@SandipGhose\\n \\n@nitin_gadkari\\...       en\n",
       "\n",
       "[1836 rows x 3 columns]"
      ]
     },
     "execution_count": 19,
     "metadata": {},
     "output_type": "execute_result"
    }
   ],
   "source": [
    "mayTweet"
   ]
  },
  {
   "cell_type": "code",
   "execution_count": 20,
   "metadata": {},
   "outputs": [],
   "source": [
    "mayTweet.drop(['index'],axis=1,inplace=True)"
   ]
  },
  {
   "cell_type": "code",
   "execution_count": 21,
   "metadata": {},
   "outputs": [
    {
     "data": {
      "text/html": [
       "<div>\n",
       "<style scoped>\n",
       "    .dataframe tbody tr th:only-of-type {\n",
       "        vertical-align: middle;\n",
       "    }\n",
       "\n",
       "    .dataframe tbody tr th {\n",
       "        vertical-align: top;\n",
       "    }\n",
       "\n",
       "    .dataframe thead th {\n",
       "        text-align: right;\n",
       "    }\n",
       "</style>\n",
       "<table border=\"1\" class=\"dataframe\">\n",
       "  <thead>\n",
       "    <tr style=\"text-align: right;\">\n",
       "      <th></th>\n",
       "      <th>tweet</th>\n",
       "      <th>language</th>\n",
       "    </tr>\n",
       "  </thead>\n",
       "  <tbody>\n",
       "    <tr>\n",
       "      <th>0</th>\n",
       "      <td>The corona virus has a possible 39,000 RNA mut...</td>\n",
       "      <td>en</td>\n",
       "    </tr>\n",
       "    <tr>\n",
       "      <th>1</th>\n",
       "      <td>Second wave of coronavirus infection in India ...</td>\n",
       "      <td>en</td>\n",
       "    </tr>\n",
       "    <tr>\n",
       "      <th>2</th>\n",
       "      <td>BBC News - India coronavirus: New record death...</td>\n",
       "      <td>en</td>\n",
       "    </tr>\n",
       "    <tr>\n",
       "      <th>3</th>\n",
       "      <td>wear a mask and sanitize your hands and mainta...</td>\n",
       "      <td>en</td>\n",
       "    </tr>\n",
       "    <tr>\n",
       "      <th>4</th>\n",
       "      <td>BBC News - India coronavirus: New record death...</td>\n",
       "      <td>en</td>\n",
       "    </tr>\n",
       "    <tr>\n",
       "      <th>...</th>\n",
       "      <td>...</td>\n",
       "      <td>...</td>\n",
       "    </tr>\n",
       "    <tr>\n",
       "      <th>1831</th>\n",
       "      <td>Great gesture \\n@Lshukla6\\n Bhaiya, \\n@SonuSoo...</td>\n",
       "      <td>en</td>\n",
       "    </tr>\n",
       "    <tr>\n",
       "      <th>1832</th>\n",
       "      <td>@srijitspeaketh\\n \\n@SandyMukherg\\n \\n@AnanyaR...</td>\n",
       "      <td>en</td>\n",
       "    </tr>\n",
       "    <tr>\n",
       "      <th>1833</th>\n",
       "      <td>We are fighting another war against COVID-19 b...</td>\n",
       "      <td>en</td>\n",
       "    </tr>\n",
       "    <tr>\n",
       "      <th>1834</th>\n",
       "      <td>Replying to \\n@DemonGod21\\n \\n@AnshumanBanka8\\...</td>\n",
       "      <td>en</td>\n",
       "    </tr>\n",
       "    <tr>\n",
       "      <th>1835</th>\n",
       "      <td>Replying to \\n@SandipGhose\\n \\n@nitin_gadkari\\...</td>\n",
       "      <td>en</td>\n",
       "    </tr>\n",
       "  </tbody>\n",
       "</table>\n",
       "<p>1836 rows × 2 columns</p>\n",
       "</div>"
      ],
      "text/plain": [
       "                                                  tweet language\n",
       "0     The corona virus has a possible 39,000 RNA mut...       en\n",
       "1     Second wave of coronavirus infection in India ...       en\n",
       "2     BBC News - India coronavirus: New record death...       en\n",
       "3     wear a mask and sanitize your hands and mainta...       en\n",
       "4     BBC News - India coronavirus: New record death...       en\n",
       "...                                                 ...      ...\n",
       "1831  Great gesture \\n@Lshukla6\\n Bhaiya, \\n@SonuSoo...       en\n",
       "1832  @srijitspeaketh\\n \\n@SandyMukherg\\n \\n@AnanyaR...       en\n",
       "1833  We are fighting another war against COVID-19 b...       en\n",
       "1834  Replying to \\n@DemonGod21\\n \\n@AnshumanBanka8\\...       en\n",
       "1835  Replying to \\n@SandipGhose\\n \\n@nitin_gadkari\\...       en\n",
       "\n",
       "[1836 rows x 2 columns]"
      ]
     },
     "execution_count": 21,
     "metadata": {},
     "output_type": "execute_result"
    }
   ],
   "source": [
    "mayTweet"
   ]
  },
  {
   "cell_type": "code",
   "execution_count": 22,
   "metadata": {},
   "outputs": [],
   "source": [
    "mayTweet.to_csv('mayTweet.csv')"
   ]
  },
  {
   "cell_type": "markdown",
   "metadata": {},
   "source": [
    "### --------extract HASTAGS--------- ###"
   ]
  },
  {
   "cell_type": "code",
   "execution_count": 23,
   "metadata": {},
   "outputs": [],
   "source": [
    "mayTweet['hastags']=np.nan"
   ]
  },
  {
   "cell_type": "code",
   "execution_count": 24,
   "metadata": {},
   "outputs": [],
   "source": [
    "def extract_hastags(text,i=0):\n",
    "    hashtag_list = []\n",
    "    for word in text.split():\n",
    "        if word[0] == '#':\n",
    "            hashtag_list.append(word[0:])\n",
    "    mayTweet['hastags'][i]=hashtag_list\n",
    "    i+=1\n"
   ]
  },
  {
   "cell_type": "code",
   "execution_count": 25,
   "metadata": {},
   "outputs": [
    {
     "name": "stdout",
     "output_type": "stream",
     "text": [
      "RangeIndex(start=0, stop=1836, step=1)\n"
     ]
    }
   ],
   "source": [
    "index=mayTweet.index\n",
    "print(index)"
   ]
  },
  {
   "cell_type": "code",
   "execution_count": 28,
   "metadata": {},
   "outputs": [],
   "source": [
    "extract_hastags(mayTweet['tweet'][8],8)"
   ]
  },
  {
   "cell_type": "code",
   "execution_count": 29,
   "metadata": {},
   "outputs": [
    {
     "data": {
      "text/plain": [
       "[]"
      ]
     },
     "execution_count": 29,
     "metadata": {},
     "output_type": "execute_result"
    }
   ],
   "source": [
    "mayTweet['hastags'][8]"
   ]
  },
  {
   "cell_type": "code",
   "execution_count": 35,
   "metadata": {},
   "outputs": [],
   "source": [
    "for i in range(0,1836):\n",
    "    text=mayTweet['tweet'][i]\n",
    "    extract_hastags(text,i)\n"
   ]
  },
  {
   "cell_type": "code",
   "execution_count": 36,
   "metadata": {},
   "outputs": [
    {
     "data": {
      "text/plain": [
       "0                           [#COVIDisAirborne, #Covid_19]\n",
       "1                                                      []\n",
       "2                                          [#coronavirus]\n",
       "3       [#COVIDSecondWaveInIndia, #COVIDEmergency, #co...\n",
       "4                                                      []\n",
       "                              ...                        \n",
       "1831                                                   []\n",
       "1832                              [#KolkataFightsCovid19]\n",
       "1833                [#harshreality, #GiveTheVaccinesModi]\n",
       "1834                                                   []\n",
       "1835                                                   []\n",
       "Name: hastags, Length: 1836, dtype: object"
      ]
     },
     "execution_count": 36,
     "metadata": {},
     "output_type": "execute_result"
    }
   ],
   "source": [
    "mayTweet['hastags']"
   ]
  },
  {
   "cell_type": "markdown",
   "metadata": {},
   "source": [
    "### ---- Extract @texts ----"
   ]
  },
  {
   "cell_type": "code",
   "execution_count": 37,
   "metadata": {},
   "outputs": [],
   "source": [
    "mayTweet['attherate']=np.nan"
   ]
  },
  {
   "cell_type": "code",
   "execution_count": 38,
   "metadata": {},
   "outputs": [],
   "source": [
    "def extract_attherate(text,i=0):\n",
    "    attherate_list = []\n",
    "    for word in text.split():\n",
    "        if word[0] == '@':\n",
    "            attherate_list.append(word[0:])\n",
    "    mayTweet['attherate'][i]=attherate_list\n",
    "    i+=1"
   ]
  },
  {
   "cell_type": "code",
   "execution_count": 44,
   "metadata": {},
   "outputs": [],
   "source": [
    "for i in range(0,1836):\n",
    "    text=mayTweet['tweet'][i]\n",
    "    extract_attherate(text,i)\n"
   ]
  },
  {
   "cell_type": "code",
   "execution_count": 45,
   "metadata": {},
   "outputs": [
    {
     "data": {
      "text/plain": [
       "0                                                      []\n",
       "1                                                      []\n",
       "2                                                      []\n",
       "3                                                      []\n",
       "4                                                      []\n",
       "                              ...                        \n",
       "1831    [@Lshukla6, @SonuSood, @derekobrienmp, @Mamata...\n",
       "1832        [@srijitspeaketh, @SandyMukherg, @AnanyaRian]\n",
       "1833                                      [@narendramodi]\n",
       "1834                       [@DemonGod21, @AnshumanBanka8]\n",
       "1835        [@SandipGhose, @nitin_gadkari, @rajnathsingh]\n",
       "Name: attherate, Length: 1836, dtype: object"
      ]
     },
     "execution_count": 45,
     "metadata": {},
     "output_type": "execute_result"
    }
   ],
   "source": [
    "mayTweet['attherate']"
   ]
  },
  {
   "cell_type": "code",
   "execution_count": 46,
   "metadata": {},
   "outputs": [],
   "source": [
    "mayTweet.to_csv('mayTweet.csv')"
   ]
  },
  {
   "cell_type": "code",
   "execution_count": 48,
   "metadata": {},
   "outputs": [],
   "source": [
    "mayTweet['urls']=np.nan"
   ]
  },
  {
   "cell_type": "code",
   "execution_count": 49,
   "metadata": {},
   "outputs": [],
   "source": [
    "def extract_urls(text,i=0):\n",
    "    attherate_list = []\n",
    "    for word in text.split():\n",
    "        if word[0:5] == 'https':\n",
    "            attherate_list.append(word[0:])\n",
    "    mayTweet['urls'][i]=attherate_list\n",
    "    i+=1"
   ]
  },
  {
   "cell_type": "code",
   "execution_count": 50,
   "metadata": {},
   "outputs": [
    {
     "data": {
      "text/plain": [
       "'Second wave of coronavirus infection in India by new variant of double mutant B.1.617  https://t.co/xuMMbohior'"
      ]
     },
     "execution_count": 50,
     "metadata": {},
     "output_type": "execute_result"
    }
   ],
   "source": [
    "mayTweet['tweet'][1]"
   ]
  },
  {
   "cell_type": "code",
   "execution_count": 51,
   "metadata": {},
   "outputs": [
    {
     "name": "stderr",
     "output_type": "stream",
     "text": [
      "C:\\Users\\gango\\AppData\\Local\\Temp/ipykernel_21020/343483884.py:6: SettingWithCopyWarning: \n",
      "A value is trying to be set on a copy of a slice from a DataFrame\n",
      "\n",
      "See the caveats in the documentation: https://pandas.pydata.org/pandas-docs/stable/user_guide/indexing.html#returning-a-view-versus-a-copy\n",
      "  mayTweet['urls'][i]=attherate_list\n",
      "C:\\Users\\gango\\anaconda3\\lib\\site-packages\\pandas\\core\\indexing.py:1732: SettingWithCopyWarning: \n",
      "A value is trying to be set on a copy of a slice from a DataFrame\n",
      "\n",
      "See the caveats in the documentation: https://pandas.pydata.org/pandas-docs/stable/user_guide/indexing.html#returning-a-view-versus-a-copy\n",
      "  self._setitem_single_block(indexer, value, name)\n"
     ]
    }
   ],
   "source": [
    "extract_urls(mayTweet['tweet'][1],1)"
   ]
  },
  {
   "cell_type": "code",
   "execution_count": 52,
   "metadata": {},
   "outputs": [
    {
     "data": {
      "text/plain": [
       "['https://t.co/xuMMbohior']"
      ]
     },
     "execution_count": 52,
     "metadata": {},
     "output_type": "execute_result"
    }
   ],
   "source": [
    "mayTweet['urls'][1]"
   ]
  },
  {
   "cell_type": "code",
   "execution_count": 53,
   "metadata": {},
   "outputs": [],
   "source": [
    "for i in range(0,1836):\n",
    "    text=mayTweet['tweet'][i]\n",
    "    extract_urls(text,i)\n"
   ]
  },
  {
   "cell_type": "code",
   "execution_count": 54,
   "metadata": {},
   "outputs": [
    {
     "data": {
      "text/plain": [
       "0                                                  []\n",
       "1                           [https://t.co/xuMMbohior]\n",
       "2                           [https://t.co/jYpHJ58kJC]\n",
       "3                                                  []\n",
       "4                           [https://t.co/HpTGBrGE3K]\n",
       "                            ...                      \n",
       "1831                                               []\n",
       "1832    [https://coviddelhi.com, https://covidwb.com]\n",
       "1833                                               []\n",
       "1834                                               []\n",
       "1835                                               []\n",
       "Name: urls, Length: 1836, dtype: object"
      ]
     },
     "execution_count": 54,
     "metadata": {},
     "output_type": "execute_result"
    }
   ],
   "source": [
    "mayTweet['urls']"
   ]
  },
  {
   "cell_type": "code",
   "execution_count": 55,
   "metadata": {},
   "outputs": [],
   "source": [
    "mayTweet.to_csv('mayTweet.csv')"
   ]
  },
  {
   "cell_type": "code",
   "execution_count": 56,
   "metadata": {},
   "outputs": [
    {
     "data": {
      "text/html": [
       "<div>\n",
       "<style scoped>\n",
       "    .dataframe tbody tr th:only-of-type {\n",
       "        vertical-align: middle;\n",
       "    }\n",
       "\n",
       "    .dataframe tbody tr th {\n",
       "        vertical-align: top;\n",
       "    }\n",
       "\n",
       "    .dataframe thead th {\n",
       "        text-align: right;\n",
       "    }\n",
       "</style>\n",
       "<table border=\"1\" class=\"dataframe\">\n",
       "  <thead>\n",
       "    <tr style=\"text-align: right;\">\n",
       "      <th></th>\n",
       "      <th>tweet</th>\n",
       "      <th>language</th>\n",
       "      <th>hastags</th>\n",
       "      <th>attherate</th>\n",
       "      <th>urls</th>\n",
       "    </tr>\n",
       "  </thead>\n",
       "  <tbody>\n",
       "    <tr>\n",
       "      <th>0</th>\n",
       "      <td>The corona virus has a possible 39,000 RNA mut...</td>\n",
       "      <td>en</td>\n",
       "      <td>[#COVIDisAirborne, #Covid_19]</td>\n",
       "      <td>[]</td>\n",
       "      <td>[]</td>\n",
       "    </tr>\n",
       "    <tr>\n",
       "      <th>1</th>\n",
       "      <td>Second wave of coronavirus infection in India ...</td>\n",
       "      <td>en</td>\n",
       "      <td>[]</td>\n",
       "      <td>[]</td>\n",
       "      <td>[https://t.co/xuMMbohior]</td>\n",
       "    </tr>\n",
       "    <tr>\n",
       "      <th>2</th>\n",
       "      <td>BBC News - India coronavirus: New record death...</td>\n",
       "      <td>en</td>\n",
       "      <td>[#coronavirus]</td>\n",
       "      <td>[]</td>\n",
       "      <td>[https://t.co/jYpHJ58kJC]</td>\n",
       "    </tr>\n",
       "    <tr>\n",
       "      <th>3</th>\n",
       "      <td>wear a mask and sanitize your hands and mainta...</td>\n",
       "      <td>en</td>\n",
       "      <td>[#COVIDSecondWaveInIndia, #COVIDEmergency, #co...</td>\n",
       "      <td>[]</td>\n",
       "      <td>[]</td>\n",
       "    </tr>\n",
       "    <tr>\n",
       "      <th>4</th>\n",
       "      <td>BBC News - India coronavirus: New record death...</td>\n",
       "      <td>en</td>\n",
       "      <td>[]</td>\n",
       "      <td>[]</td>\n",
       "      <td>[https://t.co/HpTGBrGE3K]</td>\n",
       "    </tr>\n",
       "    <tr>\n",
       "      <th>...</th>\n",
       "      <td>...</td>\n",
       "      <td>...</td>\n",
       "      <td>...</td>\n",
       "      <td>...</td>\n",
       "      <td>...</td>\n",
       "    </tr>\n",
       "    <tr>\n",
       "      <th>1831</th>\n",
       "      <td>Great gesture \\n@Lshukla6\\n Bhaiya, \\n@SonuSoo...</td>\n",
       "      <td>en</td>\n",
       "      <td>[]</td>\n",
       "      <td>[@Lshukla6, @SonuSood, @derekobrienmp, @Mamata...</td>\n",
       "      <td>[]</td>\n",
       "    </tr>\n",
       "    <tr>\n",
       "      <th>1832</th>\n",
       "      <td>@srijitspeaketh\\n \\n@SandyMukherg\\n \\n@AnanyaR...</td>\n",
       "      <td>en</td>\n",
       "      <td>[#KolkataFightsCovid19]</td>\n",
       "      <td>[@srijitspeaketh, @SandyMukherg, @AnanyaRian]</td>\n",
       "      <td>[https://coviddelhi.com, https://covidwb.com]</td>\n",
       "    </tr>\n",
       "    <tr>\n",
       "      <th>1833</th>\n",
       "      <td>We are fighting another war against COVID-19 b...</td>\n",
       "      <td>en</td>\n",
       "      <td>[#harshreality, #GiveTheVaccinesModi]</td>\n",
       "      <td>[@narendramodi]</td>\n",
       "      <td>[]</td>\n",
       "    </tr>\n",
       "    <tr>\n",
       "      <th>1834</th>\n",
       "      <td>Replying to \\n@DemonGod21\\n \\n@AnshumanBanka8\\...</td>\n",
       "      <td>en</td>\n",
       "      <td>[]</td>\n",
       "      <td>[@DemonGod21, @AnshumanBanka8]</td>\n",
       "      <td>[]</td>\n",
       "    </tr>\n",
       "    <tr>\n",
       "      <th>1835</th>\n",
       "      <td>Replying to \\n@SandipGhose\\n \\n@nitin_gadkari\\...</td>\n",
       "      <td>en</td>\n",
       "      <td>[]</td>\n",
       "      <td>[@SandipGhose, @nitin_gadkari, @rajnathsingh]</td>\n",
       "      <td>[]</td>\n",
       "    </tr>\n",
       "  </tbody>\n",
       "</table>\n",
       "<p>1836 rows × 5 columns</p>\n",
       "</div>"
      ],
      "text/plain": [
       "                                                  tweet language  \\\n",
       "0     The corona virus has a possible 39,000 RNA mut...       en   \n",
       "1     Second wave of coronavirus infection in India ...       en   \n",
       "2     BBC News - India coronavirus: New record death...       en   \n",
       "3     wear a mask and sanitize your hands and mainta...       en   \n",
       "4     BBC News - India coronavirus: New record death...       en   \n",
       "...                                                 ...      ...   \n",
       "1831  Great gesture \\n@Lshukla6\\n Bhaiya, \\n@SonuSoo...       en   \n",
       "1832  @srijitspeaketh\\n \\n@SandyMukherg\\n \\n@AnanyaR...       en   \n",
       "1833  We are fighting another war against COVID-19 b...       en   \n",
       "1834  Replying to \\n@DemonGod21\\n \\n@AnshumanBanka8\\...       en   \n",
       "1835  Replying to \\n@SandipGhose\\n \\n@nitin_gadkari\\...       en   \n",
       "\n",
       "                                                hastags  \\\n",
       "0                         [#COVIDisAirborne, #Covid_19]   \n",
       "1                                                    []   \n",
       "2                                        [#coronavirus]   \n",
       "3     [#COVIDSecondWaveInIndia, #COVIDEmergency, #co...   \n",
       "4                                                    []   \n",
       "...                                                 ...   \n",
       "1831                                                 []   \n",
       "1832                            [#KolkataFightsCovid19]   \n",
       "1833              [#harshreality, #GiveTheVaccinesModi]   \n",
       "1834                                                 []   \n",
       "1835                                                 []   \n",
       "\n",
       "                                              attherate  \\\n",
       "0                                                    []   \n",
       "1                                                    []   \n",
       "2                                                    []   \n",
       "3                                                    []   \n",
       "4                                                    []   \n",
       "...                                                 ...   \n",
       "1831  [@Lshukla6, @SonuSood, @derekobrienmp, @Mamata...   \n",
       "1832      [@srijitspeaketh, @SandyMukherg, @AnanyaRian]   \n",
       "1833                                    [@narendramodi]   \n",
       "1834                     [@DemonGod21, @AnshumanBanka8]   \n",
       "1835      [@SandipGhose, @nitin_gadkari, @rajnathsingh]   \n",
       "\n",
       "                                               urls  \n",
       "0                                                []  \n",
       "1                         [https://t.co/xuMMbohior]  \n",
       "2                         [https://t.co/jYpHJ58kJC]  \n",
       "3                                                []  \n",
       "4                         [https://t.co/HpTGBrGE3K]  \n",
       "...                                             ...  \n",
       "1831                                             []  \n",
       "1832  [https://coviddelhi.com, https://covidwb.com]  \n",
       "1833                                             []  \n",
       "1834                                             []  \n",
       "1835                                             []  \n",
       "\n",
       "[1836 rows x 5 columns]"
      ]
     },
     "execution_count": 56,
     "metadata": {},
     "output_type": "execute_result"
    }
   ],
   "source": [
    "mayTweet"
   ]
  },
  {
   "cell_type": "code",
   "execution_count": 57,
   "metadata": {},
   "outputs": [],
   "source": [
    "mayTweet['tokenized_Tweet']=np.nan"
   ]
  },
  {
   "cell_type": "code",
   "execution_count": 58,
   "metadata": {},
   "outputs": [],
   "source": [
    "def tokenizing(text,i=0):\n",
    "    text=tb(text)\n",
    "    token_text=text.words\n",
    "    token_text\n",
    "    mayTweet['tokenized_Tweet'][i]=token_text"
   ]
  },
  {
   "cell_type": "code",
   "execution_count": 59,
   "metadata": {},
   "outputs": [
    {
     "name": "stderr",
     "output_type": "stream",
     "text": [
      "C:\\Users\\gango\\AppData\\Local\\Temp/ipykernel_21020/396458016.py:5: SettingWithCopyWarning: \n",
      "A value is trying to be set on a copy of a slice from a DataFrame\n",
      "\n",
      "See the caveats in the documentation: https://pandas.pydata.org/pandas-docs/stable/user_guide/indexing.html#returning-a-view-versus-a-copy\n",
      "  mayTweet['tokenized_Tweet'][i]=token_text\n",
      "C:\\Users\\gango\\anaconda3\\lib\\site-packages\\pandas\\core\\indexing.py:1732: SettingWithCopyWarning: \n",
      "A value is trying to be set on a copy of a slice from a DataFrame\n",
      "\n",
      "See the caveats in the documentation: https://pandas.pydata.org/pandas-docs/stable/user_guide/indexing.html#returning-a-view-versus-a-copy\n",
      "  self._setitem_single_block(indexer, value, name)\n"
     ]
    }
   ],
   "source": [
    "tokenizing(mayTweet['tweet'][0],0)"
   ]
  },
  {
   "cell_type": "code",
   "execution_count": 60,
   "metadata": {},
   "outputs": [
    {
     "data": {
      "text/plain": [
       "WordList(['The', 'corona', 'virus', 'has', 'a', 'possible', '39,000', 'RNA', 'mutations', 'The', 'world', 'has', 'only', 'seen', '153', 'so', 'far', 'Practice', 'social', 'distancing', 'and', 'keep', 'your', 'face', 'masks', 'on', 'COVIDisAirborne', 'Covid_19'])"
      ]
     },
     "execution_count": 60,
     "metadata": {},
     "output_type": "execute_result"
    }
   ],
   "source": [
    "mayTweet['tokenized_Tweet'][0]"
   ]
  },
  {
   "cell_type": "code",
   "execution_count": 61,
   "metadata": {},
   "outputs": [
    {
     "data": {
      "text/plain": [
       "'The corona virus has a possible 39,000 RNA mutations. The world has only seen 153 so far. Practice social distancing and keep your face masks on. #COVIDisAirborne #Covid_19'"
      ]
     },
     "execution_count": 61,
     "metadata": {},
     "output_type": "execute_result"
    }
   ],
   "source": [
    "mayTweet['tweet'][0]"
   ]
  },
  {
   "cell_type": "code",
   "execution_count": 62,
   "metadata": {},
   "outputs": [],
   "source": [
    "for i in range(0,1836):\n",
    "    text=mayTweet['tweet'][i]\n",
    "    tokenizing(text,i)"
   ]
  },
  {
   "cell_type": "code",
   "execution_count": 63,
   "metadata": {},
   "outputs": [
    {
     "data": {
      "text/plain": [
       "0       [The, corona, virus, has, a, possible, 39,000,...\n",
       "1       [Second, wave, of, coronavirus, infection, in,...\n",
       "2       [BBC, News, India, coronavirus, New, record, d...\n",
       "3       [wear, a, mask, and, sanitize, your, hands, an...\n",
       "4       [BBC, News, India, coronavirus, New, record, d...\n",
       "                              ...                        \n",
       "1831    [Great, gesture, Lshukla6, Bhaiya, SonuSood, d...\n",
       "1832    [srijitspeaketh, SandyMukherg, AnanyaRian, Che...\n",
       "1833    [We, are, fighting, another, war, against, COV...\n",
       "1834    [Replying, to, DemonGod21, AnshumanBanka8, and...\n",
       "1835    [Replying, to, SandipGhose, nitin_gadkari, and...\n",
       "Name: tokenized_Tweet, Length: 1836, dtype: object"
      ]
     },
     "execution_count": 63,
     "metadata": {},
     "output_type": "execute_result"
    }
   ],
   "source": [
    "mayTweet['tokenized_Tweet']"
   ]
  },
  {
   "cell_type": "code",
   "execution_count": 64,
   "metadata": {},
   "outputs": [],
   "source": [
    "mayTweet.to_csv('mayTweet.csv')"
   ]
  },
  {
   "cell_type": "code",
   "execution_count": 65,
   "metadata": {},
   "outputs": [
    {
     "data": {
      "text/html": [
       "<div>\n",
       "<style scoped>\n",
       "    .dataframe tbody tr th:only-of-type {\n",
       "        vertical-align: middle;\n",
       "    }\n",
       "\n",
       "    .dataframe tbody tr th {\n",
       "        vertical-align: top;\n",
       "    }\n",
       "\n",
       "    .dataframe thead th {\n",
       "        text-align: right;\n",
       "    }\n",
       "</style>\n",
       "<table border=\"1\" class=\"dataframe\">\n",
       "  <thead>\n",
       "    <tr style=\"text-align: right;\">\n",
       "      <th></th>\n",
       "      <th>tweet</th>\n",
       "      <th>language</th>\n",
       "      <th>hastags</th>\n",
       "      <th>attherate</th>\n",
       "      <th>urls</th>\n",
       "      <th>tokenized_Tweet</th>\n",
       "    </tr>\n",
       "  </thead>\n",
       "  <tbody>\n",
       "    <tr>\n",
       "      <th>0</th>\n",
       "      <td>The corona virus has a possible 39,000 RNA mut...</td>\n",
       "      <td>en</td>\n",
       "      <td>[#COVIDisAirborne, #Covid_19]</td>\n",
       "      <td>[]</td>\n",
       "      <td>[]</td>\n",
       "      <td>[The, corona, virus, has, a, possible, 39,000,...</td>\n",
       "    </tr>\n",
       "    <tr>\n",
       "      <th>1</th>\n",
       "      <td>Second wave of coronavirus infection in India ...</td>\n",
       "      <td>en</td>\n",
       "      <td>[]</td>\n",
       "      <td>[]</td>\n",
       "      <td>[https://t.co/xuMMbohior]</td>\n",
       "      <td>[Second, wave, of, coronavirus, infection, in,...</td>\n",
       "    </tr>\n",
       "    <tr>\n",
       "      <th>2</th>\n",
       "      <td>BBC News - India coronavirus: New record death...</td>\n",
       "      <td>en</td>\n",
       "      <td>[#coronavirus]</td>\n",
       "      <td>[]</td>\n",
       "      <td>[https://t.co/jYpHJ58kJC]</td>\n",
       "      <td>[BBC, News, India, coronavirus, New, record, d...</td>\n",
       "    </tr>\n",
       "    <tr>\n",
       "      <th>3</th>\n",
       "      <td>wear a mask and sanitize your hands and mainta...</td>\n",
       "      <td>en</td>\n",
       "      <td>[#COVIDSecondWaveInIndia, #COVIDEmergency, #co...</td>\n",
       "      <td>[]</td>\n",
       "      <td>[]</td>\n",
       "      <td>[wear, a, mask, and, sanitize, your, hands, an...</td>\n",
       "    </tr>\n",
       "    <tr>\n",
       "      <th>4</th>\n",
       "      <td>BBC News - India coronavirus: New record death...</td>\n",
       "      <td>en</td>\n",
       "      <td>[]</td>\n",
       "      <td>[]</td>\n",
       "      <td>[https://t.co/HpTGBrGE3K]</td>\n",
       "      <td>[BBC, News, India, coronavirus, New, record, d...</td>\n",
       "    </tr>\n",
       "    <tr>\n",
       "      <th>...</th>\n",
       "      <td>...</td>\n",
       "      <td>...</td>\n",
       "      <td>...</td>\n",
       "      <td>...</td>\n",
       "      <td>...</td>\n",
       "      <td>...</td>\n",
       "    </tr>\n",
       "    <tr>\n",
       "      <th>1831</th>\n",
       "      <td>Great gesture \\n@Lshukla6\\n Bhaiya, \\n@SonuSoo...</td>\n",
       "      <td>en</td>\n",
       "      <td>[]</td>\n",
       "      <td>[@Lshukla6, @SonuSood, @derekobrienmp, @Mamata...</td>\n",
       "      <td>[]</td>\n",
       "      <td>[Great, gesture, Lshukla6, Bhaiya, SonuSood, d...</td>\n",
       "    </tr>\n",
       "    <tr>\n",
       "      <th>1832</th>\n",
       "      <td>@srijitspeaketh\\n \\n@SandyMukherg\\n \\n@AnanyaR...</td>\n",
       "      <td>en</td>\n",
       "      <td>[#KolkataFightsCovid19]</td>\n",
       "      <td>[@srijitspeaketh, @SandyMukherg, @AnanyaRian]</td>\n",
       "      <td>[https://coviddelhi.com, https://covidwb.com]</td>\n",
       "      <td>[srijitspeaketh, SandyMukherg, AnanyaRian, Che...</td>\n",
       "    </tr>\n",
       "    <tr>\n",
       "      <th>1833</th>\n",
       "      <td>We are fighting another war against COVID-19 b...</td>\n",
       "      <td>en</td>\n",
       "      <td>[#harshreality, #GiveTheVaccinesModi]</td>\n",
       "      <td>[@narendramodi]</td>\n",
       "      <td>[]</td>\n",
       "      <td>[We, are, fighting, another, war, against, COV...</td>\n",
       "    </tr>\n",
       "    <tr>\n",
       "      <th>1834</th>\n",
       "      <td>Replying to \\n@DemonGod21\\n \\n@AnshumanBanka8\\...</td>\n",
       "      <td>en</td>\n",
       "      <td>[]</td>\n",
       "      <td>[@DemonGod21, @AnshumanBanka8]</td>\n",
       "      <td>[]</td>\n",
       "      <td>[Replying, to, DemonGod21, AnshumanBanka8, and...</td>\n",
       "    </tr>\n",
       "    <tr>\n",
       "      <th>1835</th>\n",
       "      <td>Replying to \\n@SandipGhose\\n \\n@nitin_gadkari\\...</td>\n",
       "      <td>en</td>\n",
       "      <td>[]</td>\n",
       "      <td>[@SandipGhose, @nitin_gadkari, @rajnathsingh]</td>\n",
       "      <td>[]</td>\n",
       "      <td>[Replying, to, SandipGhose, nitin_gadkari, and...</td>\n",
       "    </tr>\n",
       "  </tbody>\n",
       "</table>\n",
       "<p>1836 rows × 6 columns</p>\n",
       "</div>"
      ],
      "text/plain": [
       "                                                  tweet language  \\\n",
       "0     The corona virus has a possible 39,000 RNA mut...       en   \n",
       "1     Second wave of coronavirus infection in India ...       en   \n",
       "2     BBC News - India coronavirus: New record death...       en   \n",
       "3     wear a mask and sanitize your hands and mainta...       en   \n",
       "4     BBC News - India coronavirus: New record death...       en   \n",
       "...                                                 ...      ...   \n",
       "1831  Great gesture \\n@Lshukla6\\n Bhaiya, \\n@SonuSoo...       en   \n",
       "1832  @srijitspeaketh\\n \\n@SandyMukherg\\n \\n@AnanyaR...       en   \n",
       "1833  We are fighting another war against COVID-19 b...       en   \n",
       "1834  Replying to \\n@DemonGod21\\n \\n@AnshumanBanka8\\...       en   \n",
       "1835  Replying to \\n@SandipGhose\\n \\n@nitin_gadkari\\...       en   \n",
       "\n",
       "                                                hastags  \\\n",
       "0                         [#COVIDisAirborne, #Covid_19]   \n",
       "1                                                    []   \n",
       "2                                        [#coronavirus]   \n",
       "3     [#COVIDSecondWaveInIndia, #COVIDEmergency, #co...   \n",
       "4                                                    []   \n",
       "...                                                 ...   \n",
       "1831                                                 []   \n",
       "1832                            [#KolkataFightsCovid19]   \n",
       "1833              [#harshreality, #GiveTheVaccinesModi]   \n",
       "1834                                                 []   \n",
       "1835                                                 []   \n",
       "\n",
       "                                              attherate  \\\n",
       "0                                                    []   \n",
       "1                                                    []   \n",
       "2                                                    []   \n",
       "3                                                    []   \n",
       "4                                                    []   \n",
       "...                                                 ...   \n",
       "1831  [@Lshukla6, @SonuSood, @derekobrienmp, @Mamata...   \n",
       "1832      [@srijitspeaketh, @SandyMukherg, @AnanyaRian]   \n",
       "1833                                    [@narendramodi]   \n",
       "1834                     [@DemonGod21, @AnshumanBanka8]   \n",
       "1835      [@SandipGhose, @nitin_gadkari, @rajnathsingh]   \n",
       "\n",
       "                                               urls  \\\n",
       "0                                                []   \n",
       "1                         [https://t.co/xuMMbohior]   \n",
       "2                         [https://t.co/jYpHJ58kJC]   \n",
       "3                                                []   \n",
       "4                         [https://t.co/HpTGBrGE3K]   \n",
       "...                                             ...   \n",
       "1831                                             []   \n",
       "1832  [https://coviddelhi.com, https://covidwb.com]   \n",
       "1833                                             []   \n",
       "1834                                             []   \n",
       "1835                                             []   \n",
       "\n",
       "                                        tokenized_Tweet  \n",
       "0     [The, corona, virus, has, a, possible, 39,000,...  \n",
       "1     [Second, wave, of, coronavirus, infection, in,...  \n",
       "2     [BBC, News, India, coronavirus, New, record, d...  \n",
       "3     [wear, a, mask, and, sanitize, your, hands, an...  \n",
       "4     [BBC, News, India, coronavirus, New, record, d...  \n",
       "...                                                 ...  \n",
       "1831  [Great, gesture, Lshukla6, Bhaiya, SonuSood, d...  \n",
       "1832  [srijitspeaketh, SandyMukherg, AnanyaRian, Che...  \n",
       "1833  [We, are, fighting, another, war, against, COV...  \n",
       "1834  [Replying, to, DemonGod21, AnshumanBanka8, and...  \n",
       "1835  [Replying, to, SandipGhose, nitin_gadkari, and...  \n",
       "\n",
       "[1836 rows x 6 columns]"
      ]
     },
     "execution_count": 65,
     "metadata": {},
     "output_type": "execute_result"
    }
   ],
   "source": [
    "mayTweet"
   ]
  },
  {
   "cell_type": "markdown",
   "metadata": {},
   "source": [
    "### ------Removing stopwords------- ###"
   ]
  },
  {
   "cell_type": "code",
   "execution_count": 66,
   "metadata": {},
   "outputs": [],
   "source": [
    "mayTweet['filteredToken']=np.nan"
   ]
  },
  {
   "cell_type": "code",
   "execution_count": 67,
   "metadata": {},
   "outputs": [
    {
     "name": "stderr",
     "output_type": "stream",
     "text": [
      "C:\\Users\\gango\\AppData\\Local\\Temp/ipykernel_21020/3335339499.py:3: SettingWithCopyWarning: \n",
      "A value is trying to be set on a copy of a slice from a DataFrame\n",
      "\n",
      "See the caveats in the documentation: https://pandas.pydata.org/pandas-docs/stable/user_guide/indexing.html#returning-a-view-versus-a-copy\n",
      "  mayTweet['filteredToken'][0]=list(text_set-stop_set)\n",
      "C:\\Users\\gango\\anaconda3\\lib\\site-packages\\pandas\\core\\indexing.py:1732: SettingWithCopyWarning: \n",
      "A value is trying to be set on a copy of a slice from a DataFrame\n",
      "\n",
      "See the caveats in the documentation: https://pandas.pydata.org/pandas-docs/stable/user_guide/indexing.html#returning-a-view-versus-a-copy\n",
      "  self._setitem_single_block(indexer, value, name)\n"
     ]
    }
   ],
   "source": [
    "text_set=set(mayTweet['tokenized_Tweet'][0])\n",
    "stop_set=set(stopwords.words(\"english\"))\n",
    "mayTweet['filteredToken'][0]=list(text_set-stop_set)"
   ]
  },
  {
   "cell_type": "code",
   "execution_count": 68,
   "metadata": {},
   "outputs": [
    {
     "data": {
      "text/plain": [
       "WordList(['The', 'corona', 'virus', 'has', 'a', 'possible', '39,000', 'RNA', 'mutations', 'The', 'world', 'has', 'only', 'seen', '153', 'so', 'far', 'Practice', 'social', 'distancing', 'and', 'keep', 'your', 'face', 'masks', 'on', 'COVIDisAirborne', 'Covid_19'])"
      ]
     },
     "execution_count": 68,
     "metadata": {},
     "output_type": "execute_result"
    }
   ],
   "source": [
    "mayTweet['tokenized_Tweet'][0]"
   ]
  },
  {
   "cell_type": "code",
   "execution_count": 69,
   "metadata": {},
   "outputs": [
    {
     "data": {
      "text/plain": [
       "['world',\n",
       " 'corona',\n",
       " 'far',\n",
       " 'Practice',\n",
       " 'RNA',\n",
       " 'virus',\n",
       " 'face',\n",
       " 'masks',\n",
       " '153',\n",
       " 'possible',\n",
       " 'social',\n",
       " 'COVIDisAirborne',\n",
       " 'distancing',\n",
       " 'seen',\n",
       " 'mutations',\n",
       " '39,000',\n",
       " 'Covid_19',\n",
       " 'The',\n",
       " 'keep']"
      ]
     },
     "execution_count": 69,
     "metadata": {},
     "output_type": "execute_result"
    }
   ],
   "source": [
    "mayTweet['filteredToken'][0]"
   ]
  },
  {
   "cell_type": "code",
   "execution_count": 70,
   "metadata": {},
   "outputs": [],
   "source": [
    "stop_set=set(stopwords.words(\"english\"))\n",
    "for i in range(0,1836):\n",
    "    text_set=set(mayTweet['tokenized_Tweet'][i])\n",
    "    mayTweet['filteredToken'][i]=list(text_set-stop_set)#set difference operation"
   ]
  },
  {
   "cell_type": "code",
   "execution_count": 71,
   "metadata": {},
   "outputs": [
    {
     "data": {
      "text/html": [
       "<div>\n",
       "<style scoped>\n",
       "    .dataframe tbody tr th:only-of-type {\n",
       "        vertical-align: middle;\n",
       "    }\n",
       "\n",
       "    .dataframe tbody tr th {\n",
       "        vertical-align: top;\n",
       "    }\n",
       "\n",
       "    .dataframe thead th {\n",
       "        text-align: right;\n",
       "    }\n",
       "</style>\n",
       "<table border=\"1\" class=\"dataframe\">\n",
       "  <thead>\n",
       "    <tr style=\"text-align: right;\">\n",
       "      <th></th>\n",
       "      <th>tweet</th>\n",
       "      <th>language</th>\n",
       "      <th>hastags</th>\n",
       "      <th>attherate</th>\n",
       "      <th>urls</th>\n",
       "      <th>tokenized_Tweet</th>\n",
       "      <th>filteredToken</th>\n",
       "    </tr>\n",
       "  </thead>\n",
       "  <tbody>\n",
       "    <tr>\n",
       "      <th>0</th>\n",
       "      <td>The corona virus has a possible 39,000 RNA mut...</td>\n",
       "      <td>en</td>\n",
       "      <td>[#COVIDisAirborne, #Covid_19]</td>\n",
       "      <td>[]</td>\n",
       "      <td>[]</td>\n",
       "      <td>[The, corona, virus, has, a, possible, 39,000,...</td>\n",
       "      <td>[world, corona, far, Practice, RNA, virus, fac...</td>\n",
       "    </tr>\n",
       "    <tr>\n",
       "      <th>1</th>\n",
       "      <td>Second wave of coronavirus infection in India ...</td>\n",
       "      <td>en</td>\n",
       "      <td>[]</td>\n",
       "      <td>[]</td>\n",
       "      <td>[https://t.co/xuMMbohior]</td>\n",
       "      <td>[Second, wave, of, coronavirus, infection, in,...</td>\n",
       "      <td>[mutant, new, Second, wave, double, coronaviru...</td>\n",
       "    </tr>\n",
       "    <tr>\n",
       "      <th>2</th>\n",
       "      <td>BBC News - India coronavirus: New record death...</td>\n",
       "      <td>en</td>\n",
       "      <td>[#coronavirus]</td>\n",
       "      <td>[]</td>\n",
       "      <td>[https://t.co/jYpHJ58kJC]</td>\n",
       "      <td>[BBC, News, India, coronavirus, New, record, d...</td>\n",
       "      <td>[coronavirus, India, https, deaths, engulfs, t...</td>\n",
       "    </tr>\n",
       "    <tr>\n",
       "      <th>3</th>\n",
       "      <td>wear a mask and sanitize your hands and mainta...</td>\n",
       "      <td>en</td>\n",
       "      <td>[#COVIDSecondWaveInIndia, #COVIDEmergency, #co...</td>\n",
       "      <td>[]</td>\n",
       "      <td>[]</td>\n",
       "      <td>[wear, a, mask, and, sanitize, your, hands, an...</td>\n",
       "      <td>[COVIDEmergency, social, distancing, wear, han...</td>\n",
       "    </tr>\n",
       "    <tr>\n",
       "      <th>4</th>\n",
       "      <td>BBC News - India coronavirus: New record death...</td>\n",
       "      <td>en</td>\n",
       "      <td>[]</td>\n",
       "      <td>[]</td>\n",
       "      <td>[https://t.co/HpTGBrGE3K]</td>\n",
       "      <td>[BBC, News, India, coronavirus, New, record, d...</td>\n",
       "      <td>[coronavirus, India, https, deaths, News, engu...</td>\n",
       "    </tr>\n",
       "    <tr>\n",
       "      <th>...</th>\n",
       "      <td>...</td>\n",
       "      <td>...</td>\n",
       "      <td>...</td>\n",
       "      <td>...</td>\n",
       "      <td>...</td>\n",
       "      <td>...</td>\n",
       "      <td>...</td>\n",
       "    </tr>\n",
       "    <tr>\n",
       "      <th>1831</th>\n",
       "      <td>Great gesture \\n@Lshukla6\\n Bhaiya, \\n@SonuSoo...</td>\n",
       "      <td>en</td>\n",
       "      <td>[]</td>\n",
       "      <td>[@Lshukla6, @SonuSood, @derekobrienmp, @Mamata...</td>\n",
       "      <td>[]</td>\n",
       "      <td>[Great, gesture, Lshukla6, Bhaiya, SonuSood, d...</td>\n",
       "      <td>[MamataOfficial, help, Great, abpanandatv, der...</td>\n",
       "    </tr>\n",
       "    <tr>\n",
       "      <th>1832</th>\n",
       "      <td>@srijitspeaketh\\n \\n@SandyMukherg\\n \\n@AnanyaR...</td>\n",
       "      <td>en</td>\n",
       "      <td>[#KolkataFightsCovid19]</td>\n",
       "      <td>[@srijitspeaketh, @SandyMukherg, @AnanyaRian]</td>\n",
       "      <td>[https://coviddelhi.com, https://covidwb.com]</td>\n",
       "      <td>[srijitspeaketh, SandyMukherg, AnanyaRian, Che...</td>\n",
       "      <td>[Emergency, Online, Thane, AnanyaRian, https, ...</td>\n",
       "    </tr>\n",
       "    <tr>\n",
       "      <th>1833</th>\n",
       "      <td>We are fighting another war against COVID-19 b...</td>\n",
       "      <td>en</td>\n",
       "      <td>[#harshreality, #GiveTheVaccinesModi]</td>\n",
       "      <td>[@narendramodi]</td>\n",
       "      <td>[]</td>\n",
       "      <td>[We, are, fighting, another, war, against, COV...</td>\n",
       "      <td>[quantity, war, ample, another, need, We, sche...</td>\n",
       "    </tr>\n",
       "    <tr>\n",
       "      <th>1834</th>\n",
       "      <td>Replying to \\n@DemonGod21\\n \\n@AnshumanBanka8\\...</td>\n",
       "      <td>en</td>\n",
       "      <td>[]</td>\n",
       "      <td>[@DemonGod21, @AnshumanBanka8]</td>\n",
       "      <td>[]</td>\n",
       "      <td>[Replying, to, DemonGod21, AnshumanBanka8, and...</td>\n",
       "      <td>[Replying, others, DemonGod21, 3, AnshumanBanka8]</td>\n",
       "    </tr>\n",
       "    <tr>\n",
       "      <th>1835</th>\n",
       "      <td>Replying to \\n@SandipGhose\\n \\n@nitin_gadkari\\...</td>\n",
       "      <td>en</td>\n",
       "      <td>[]</td>\n",
       "      <td>[@SandipGhose, @nitin_gadkari, @rajnathsingh]</td>\n",
       "      <td>[]</td>\n",
       "      <td>[Replying, to, SandipGhose, nitin_gadkari, and...</td>\n",
       "      <td>[Replying, nitin_gadkari, SandipGhose, rajnath...</td>\n",
       "    </tr>\n",
       "  </tbody>\n",
       "</table>\n",
       "<p>1836 rows × 7 columns</p>\n",
       "</div>"
      ],
      "text/plain": [
       "                                                  tweet language  \\\n",
       "0     The corona virus has a possible 39,000 RNA mut...       en   \n",
       "1     Second wave of coronavirus infection in India ...       en   \n",
       "2     BBC News - India coronavirus: New record death...       en   \n",
       "3     wear a mask and sanitize your hands and mainta...       en   \n",
       "4     BBC News - India coronavirus: New record death...       en   \n",
       "...                                                 ...      ...   \n",
       "1831  Great gesture \\n@Lshukla6\\n Bhaiya, \\n@SonuSoo...       en   \n",
       "1832  @srijitspeaketh\\n \\n@SandyMukherg\\n \\n@AnanyaR...       en   \n",
       "1833  We are fighting another war against COVID-19 b...       en   \n",
       "1834  Replying to \\n@DemonGod21\\n \\n@AnshumanBanka8\\...       en   \n",
       "1835  Replying to \\n@SandipGhose\\n \\n@nitin_gadkari\\...       en   \n",
       "\n",
       "                                                hastags  \\\n",
       "0                         [#COVIDisAirborne, #Covid_19]   \n",
       "1                                                    []   \n",
       "2                                        [#coronavirus]   \n",
       "3     [#COVIDSecondWaveInIndia, #COVIDEmergency, #co...   \n",
       "4                                                    []   \n",
       "...                                                 ...   \n",
       "1831                                                 []   \n",
       "1832                            [#KolkataFightsCovid19]   \n",
       "1833              [#harshreality, #GiveTheVaccinesModi]   \n",
       "1834                                                 []   \n",
       "1835                                                 []   \n",
       "\n",
       "                                              attherate  \\\n",
       "0                                                    []   \n",
       "1                                                    []   \n",
       "2                                                    []   \n",
       "3                                                    []   \n",
       "4                                                    []   \n",
       "...                                                 ...   \n",
       "1831  [@Lshukla6, @SonuSood, @derekobrienmp, @Mamata...   \n",
       "1832      [@srijitspeaketh, @SandyMukherg, @AnanyaRian]   \n",
       "1833                                    [@narendramodi]   \n",
       "1834                     [@DemonGod21, @AnshumanBanka8]   \n",
       "1835      [@SandipGhose, @nitin_gadkari, @rajnathsingh]   \n",
       "\n",
       "                                               urls  \\\n",
       "0                                                []   \n",
       "1                         [https://t.co/xuMMbohior]   \n",
       "2                         [https://t.co/jYpHJ58kJC]   \n",
       "3                                                []   \n",
       "4                         [https://t.co/HpTGBrGE3K]   \n",
       "...                                             ...   \n",
       "1831                                             []   \n",
       "1832  [https://coviddelhi.com, https://covidwb.com]   \n",
       "1833                                             []   \n",
       "1834                                             []   \n",
       "1835                                             []   \n",
       "\n",
       "                                        tokenized_Tweet  \\\n",
       "0     [The, corona, virus, has, a, possible, 39,000,...   \n",
       "1     [Second, wave, of, coronavirus, infection, in,...   \n",
       "2     [BBC, News, India, coronavirus, New, record, d...   \n",
       "3     [wear, a, mask, and, sanitize, your, hands, an...   \n",
       "4     [BBC, News, India, coronavirus, New, record, d...   \n",
       "...                                                 ...   \n",
       "1831  [Great, gesture, Lshukla6, Bhaiya, SonuSood, d...   \n",
       "1832  [srijitspeaketh, SandyMukherg, AnanyaRian, Che...   \n",
       "1833  [We, are, fighting, another, war, against, COV...   \n",
       "1834  [Replying, to, DemonGod21, AnshumanBanka8, and...   \n",
       "1835  [Replying, to, SandipGhose, nitin_gadkari, and...   \n",
       "\n",
       "                                          filteredToken  \n",
       "0     [world, corona, far, Practice, RNA, virus, fac...  \n",
       "1     [mutant, new, Second, wave, double, coronaviru...  \n",
       "2     [coronavirus, India, https, deaths, engulfs, t...  \n",
       "3     [COVIDEmergency, social, distancing, wear, han...  \n",
       "4     [coronavirus, India, https, deaths, News, engu...  \n",
       "...                                                 ...  \n",
       "1831  [MamataOfficial, help, Great, abpanandatv, der...  \n",
       "1832  [Emergency, Online, Thane, AnanyaRian, https, ...  \n",
       "1833  [quantity, war, ample, another, need, We, sche...  \n",
       "1834  [Replying, others, DemonGod21, 3, AnshumanBanka8]  \n",
       "1835  [Replying, nitin_gadkari, SandipGhose, rajnath...  \n",
       "\n",
       "[1836 rows x 7 columns]"
      ]
     },
     "execution_count": 71,
     "metadata": {},
     "output_type": "execute_result"
    }
   ],
   "source": [
    "mayTweet"
   ]
  },
  {
   "cell_type": "code",
   "execution_count": 72,
   "metadata": {},
   "outputs": [],
   "source": [
    "mayTweet.to_csv('MayTweet_(with Emojis and other language within eng sentence).csv')"
   ]
  }
 ],
 "metadata": {
  "kernelspec": {
   "display_name": "Python 3.9.6 64-bit",
   "language": "python",
   "name": "python3"
  },
  "language_info": {
   "codemirror_mode": {
    "name": "ipython",
    "version": 3
   },
   "file_extension": ".py",
   "mimetype": "text/x-python",
   "name": "python",
   "nbconvert_exporter": "python",
   "pygments_lexer": "ipython3",
   "version": "3.9.6"
  },
  "vscode": {
   "interpreter": {
    "hash": "d26dd86194e83e3a0f0b7b53bc7876e65835825a2894f08a46ba2342766fb885"
   }
  }
 },
 "nbformat": 4,
 "nbformat_minor": 2
}
