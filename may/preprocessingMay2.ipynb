{
 "cells": [
  {
   "cell_type": "code",
   "execution_count": 1,
   "metadata": {},
   "outputs": [],
   "source": [
    "import pandas as pd\n",
    "import numpy as np\n",
    "import math\n",
    "from textblob import TextBlob as tb\n",
    "import re\n",
    "from nltk.corpus import stopwords"
   ]
  },
  {
   "cell_type": "code",
   "execution_count": 2,
   "metadata": {},
   "outputs": [],
   "source": [
    "import emoji\n",
    "import advertools as adv\n",
    "import neattext.functions as nfx"
   ]
  },
  {
   "cell_type": "code",
   "execution_count": 3,
   "metadata": {},
   "outputs": [],
   "source": [
    "mayTweet=pd.read_csv('mayTweet_(with Emojis and other language within eng sentence).csv')"
   ]
  },
  {
   "cell_type": "code",
   "execution_count": 4,
   "metadata": {},
   "outputs": [
    {
     "data": {
      "text/html": [
       "<div>\n",
       "<style scoped>\n",
       "    .dataframe tbody tr th:only-of-type {\n",
       "        vertical-align: middle;\n",
       "    }\n",
       "\n",
       "    .dataframe tbody tr th {\n",
       "        vertical-align: top;\n",
       "    }\n",
       "\n",
       "    .dataframe thead th {\n",
       "        text-align: right;\n",
       "    }\n",
       "</style>\n",
       "<table border=\"1\" class=\"dataframe\">\n",
       "  <thead>\n",
       "    <tr style=\"text-align: right;\">\n",
       "      <th></th>\n",
       "      <th>Unnamed: 0</th>\n",
       "      <th>tweet</th>\n",
       "      <th>language</th>\n",
       "      <th>hastags</th>\n",
       "      <th>attherate</th>\n",
       "      <th>urls</th>\n",
       "      <th>tokenized_Tweet</th>\n",
       "      <th>filteredToken</th>\n",
       "    </tr>\n",
       "  </thead>\n",
       "  <tbody>\n",
       "    <tr>\n",
       "      <th>0</th>\n",
       "      <td>0</td>\n",
       "      <td>The corona virus has a possible 39,000 RNA mut...</td>\n",
       "      <td>en</td>\n",
       "      <td>['#COVIDisAirborne', '#Covid_19']</td>\n",
       "      <td>[]</td>\n",
       "      <td>[]</td>\n",
       "      <td>['The', 'corona', 'virus', 'has', 'a', 'possib...</td>\n",
       "      <td>['world', 'corona', 'far', 'Practice', 'RNA', ...</td>\n",
       "    </tr>\n",
       "    <tr>\n",
       "      <th>1</th>\n",
       "      <td>1</td>\n",
       "      <td>Second wave of coronavirus infection in India ...</td>\n",
       "      <td>en</td>\n",
       "      <td>[]</td>\n",
       "      <td>[]</td>\n",
       "      <td>['https://t.co/xuMMbohior']</td>\n",
       "      <td>['Second', 'wave', 'of', 'coronavirus', 'infec...</td>\n",
       "      <td>['mutant', 'new', 'Second', 'wave', 'double', ...</td>\n",
       "    </tr>\n",
       "    <tr>\n",
       "      <th>2</th>\n",
       "      <td>2</td>\n",
       "      <td>BBC News - India coronavirus: New record death...</td>\n",
       "      <td>en</td>\n",
       "      <td>['#coronavirus']</td>\n",
       "      <td>[]</td>\n",
       "      <td>['https://t.co/jYpHJ58kJC']</td>\n",
       "      <td>['BBC', 'News', 'India', 'coronavirus', 'New',...</td>\n",
       "      <td>['coronavirus', 'India', 'https', 'deaths', 'e...</td>\n",
       "    </tr>\n",
       "    <tr>\n",
       "      <th>3</th>\n",
       "      <td>3</td>\n",
       "      <td>wear a mask and sanitize your hands and mainta...</td>\n",
       "      <td>en</td>\n",
       "      <td>['#COVIDSecondWaveInIndia', '#COVIDEmergency',...</td>\n",
       "      <td>[]</td>\n",
       "      <td>[]</td>\n",
       "      <td>['wear', 'a', 'mask', 'and', 'sanitize', 'your...</td>\n",
       "      <td>['COVIDEmergency', 'social', 'distancing', 'we...</td>\n",
       "    </tr>\n",
       "    <tr>\n",
       "      <th>4</th>\n",
       "      <td>4</td>\n",
       "      <td>BBC News - India coronavirus: New record death...</td>\n",
       "      <td>en</td>\n",
       "      <td>[]</td>\n",
       "      <td>[]</td>\n",
       "      <td>['https://t.co/HpTGBrGE3K']</td>\n",
       "      <td>['BBC', 'News', 'India', 'coronavirus', 'New',...</td>\n",
       "      <td>['coronavirus', 'India', 'https', 'deaths', 'N...</td>\n",
       "    </tr>\n",
       "  </tbody>\n",
       "</table>\n",
       "</div>"
      ],
      "text/plain": [
       "   Unnamed: 0                                              tweet language  \\\n",
       "0           0  The corona virus has a possible 39,000 RNA mut...       en   \n",
       "1           1  Second wave of coronavirus infection in India ...       en   \n",
       "2           2  BBC News - India coronavirus: New record death...       en   \n",
       "3           3  wear a mask and sanitize your hands and mainta...       en   \n",
       "4           4  BBC News - India coronavirus: New record death...       en   \n",
       "\n",
       "                                             hastags attherate  \\\n",
       "0                  ['#COVIDisAirborne', '#Covid_19']        []   \n",
       "1                                                 []        []   \n",
       "2                                   ['#coronavirus']        []   \n",
       "3  ['#COVIDSecondWaveInIndia', '#COVIDEmergency',...        []   \n",
       "4                                                 []        []   \n",
       "\n",
       "                          urls  \\\n",
       "0                           []   \n",
       "1  ['https://t.co/xuMMbohior']   \n",
       "2  ['https://t.co/jYpHJ58kJC']   \n",
       "3                           []   \n",
       "4  ['https://t.co/HpTGBrGE3K']   \n",
       "\n",
       "                                     tokenized_Tweet  \\\n",
       "0  ['The', 'corona', 'virus', 'has', 'a', 'possib...   \n",
       "1  ['Second', 'wave', 'of', 'coronavirus', 'infec...   \n",
       "2  ['BBC', 'News', 'India', 'coronavirus', 'New',...   \n",
       "3  ['wear', 'a', 'mask', 'and', 'sanitize', 'your...   \n",
       "4  ['BBC', 'News', 'India', 'coronavirus', 'New',...   \n",
       "\n",
       "                                       filteredToken  \n",
       "0  ['world', 'corona', 'far', 'Practice', 'RNA', ...  \n",
       "1  ['mutant', 'new', 'Second', 'wave', 'double', ...  \n",
       "2  ['coronavirus', 'India', 'https', 'deaths', 'e...  \n",
       "3  ['COVIDEmergency', 'social', 'distancing', 'we...  \n",
       "4  ['coronavirus', 'India', 'https', 'deaths', 'N...  "
      ]
     },
     "execution_count": 4,
     "metadata": {},
     "output_type": "execute_result"
    }
   ],
   "source": [
    "mayTweet.head()"
   ]
  },
  {
   "cell_type": "markdown",
   "metadata": {},
   "source": [
    "### -----Removing hastags from tweet------- "
   ]
  },
  {
   "cell_type": "code",
   "execution_count": 5,
   "metadata": {},
   "outputs": [],
   "source": [
    "mayTweet['clean_tweet'] =mayTweet['tweet'].apply(nfx.remove_hashtags)"
   ]
  },
  {
   "cell_type": "markdown",
   "metadata": {},
   "source": [
    "### -----Removing userhandle from tweet -----"
   ]
  },
  {
   "cell_type": "code",
   "execution_count": 6,
   "metadata": {},
   "outputs": [],
   "source": [
    "mayTweet['clean_tweet'] = mayTweet['clean_tweet'].apply(lambda x: nfx.remove_userhandles(x))"
   ]
  },
  {
   "cell_type": "markdown",
   "metadata": {},
   "source": [
    "### ----Removing multiple white spaces-----"
   ]
  },
  {
   "cell_type": "code",
   "execution_count": 7,
   "metadata": {},
   "outputs": [],
   "source": [
    "mayTweet['clean_tweet'] =mayTweet['clean_tweet'].apply(nfx.remove_multiple_spaces)"
   ]
  },
  {
   "cell_type": "markdown",
   "metadata": {},
   "source": [
    "### ----Removing Urls-----"
   ]
  },
  {
   "cell_type": "code",
   "execution_count": 8,
   "metadata": {},
   "outputs": [],
   "source": [
    "mayTweet['clean_tweet'] = mayTweet['clean_tweet'].apply(nfx.remove_urls)"
   ]
  },
  {
   "cell_type": "code",
   "execution_count": 9,
   "metadata": {},
   "outputs": [
    {
     "data": {
      "text/html": [
       "<div>\n",
       "<style scoped>\n",
       "    .dataframe tbody tr th:only-of-type {\n",
       "        vertical-align: middle;\n",
       "    }\n",
       "\n",
       "    .dataframe tbody tr th {\n",
       "        vertical-align: top;\n",
       "    }\n",
       "\n",
       "    .dataframe thead th {\n",
       "        text-align: right;\n",
       "    }\n",
       "</style>\n",
       "<table border=\"1\" class=\"dataframe\">\n",
       "  <thead>\n",
       "    <tr style=\"text-align: right;\">\n",
       "      <th></th>\n",
       "      <th>tweet</th>\n",
       "      <th>clean_tweet</th>\n",
       "    </tr>\n",
       "  </thead>\n",
       "  <tbody>\n",
       "    <tr>\n",
       "      <th>0</th>\n",
       "      <td>The corona virus has a possible 39,000 RNA mut...</td>\n",
       "      <td>The corona virus has a possible 39,000 RNA mut...</td>\n",
       "    </tr>\n",
       "    <tr>\n",
       "      <th>1</th>\n",
       "      <td>Second wave of coronavirus infection in India ...</td>\n",
       "      <td>Second wave of coronavirus infection in India ...</td>\n",
       "    </tr>\n",
       "    <tr>\n",
       "      <th>2</th>\n",
       "      <td>BBC News - India coronavirus: New record death...</td>\n",
       "      <td>BBC News - India coronavirus: New record death...</td>\n",
       "    </tr>\n",
       "    <tr>\n",
       "      <th>3</th>\n",
       "      <td>wear a mask and sanitize your hands and mainta...</td>\n",
       "      <td>wear a mask and sanitize your hands and mainta...</td>\n",
       "    </tr>\n",
       "    <tr>\n",
       "      <th>4</th>\n",
       "      <td>BBC News - India coronavirus: New record death...</td>\n",
       "      <td>BBC News - India coronavirus: New record death...</td>\n",
       "    </tr>\n",
       "    <tr>\n",
       "      <th>...</th>\n",
       "      <td>...</td>\n",
       "      <td>...</td>\n",
       "    </tr>\n",
       "    <tr>\n",
       "      <th>1831</th>\n",
       "      <td>Great gesture \\n@Lshukla6\\n Bhaiya, \\n@SonuSoo...</td>\n",
       "      <td>Great gesture Bhaiya, more people's come like ...</td>\n",
       "    </tr>\n",
       "    <tr>\n",
       "      <th>1832</th>\n",
       "      <td>@srijitspeaketh\\n \\n@SandyMukherg\\n \\n@AnanyaR...</td>\n",
       "      <td>Check Vacant Beds Availability Online in Hosp...</td>\n",
       "    </tr>\n",
       "    <tr>\n",
       "      <th>1833</th>\n",
       "      <td>We are fighting another war against COVID-19 b...</td>\n",
       "      <td>We are fighting another war against COVID-19 b...</td>\n",
       "    </tr>\n",
       "    <tr>\n",
       "      <th>1834</th>\n",
       "      <td>Replying to \\n@DemonGod21\\n \\n@AnshumanBanka8\\...</td>\n",
       "      <td>Replying to and 3 others</td>\n",
       "    </tr>\n",
       "    <tr>\n",
       "      <th>1835</th>\n",
       "      <td>Replying to \\n@SandipGhose\\n \\n@nitin_gadkari\\...</td>\n",
       "      <td>Replying to and</td>\n",
       "    </tr>\n",
       "  </tbody>\n",
       "</table>\n",
       "<p>1836 rows × 2 columns</p>\n",
       "</div>"
      ],
      "text/plain": [
       "                                                  tweet  \\\n",
       "0     The corona virus has a possible 39,000 RNA mut...   \n",
       "1     Second wave of coronavirus infection in India ...   \n",
       "2     BBC News - India coronavirus: New record death...   \n",
       "3     wear a mask and sanitize your hands and mainta...   \n",
       "4     BBC News - India coronavirus: New record death...   \n",
       "...                                                 ...   \n",
       "1831  Great gesture \\n@Lshukla6\\n Bhaiya, \\n@SonuSoo...   \n",
       "1832  @srijitspeaketh\\n \\n@SandyMukherg\\n \\n@AnanyaR...   \n",
       "1833  We are fighting another war against COVID-19 b...   \n",
       "1834  Replying to \\n@DemonGod21\\n \\n@AnshumanBanka8\\...   \n",
       "1835  Replying to \\n@SandipGhose\\n \\n@nitin_gadkari\\...   \n",
       "\n",
       "                                            clean_tweet  \n",
       "0     The corona virus has a possible 39,000 RNA mut...  \n",
       "1     Second wave of coronavirus infection in India ...  \n",
       "2     BBC News - India coronavirus: New record death...  \n",
       "3     wear a mask and sanitize your hands and mainta...  \n",
       "4     BBC News - India coronavirus: New record death...  \n",
       "...                                                 ...  \n",
       "1831  Great gesture Bhaiya, more people's come like ...  \n",
       "1832   Check Vacant Beds Availability Online in Hosp...  \n",
       "1833  We are fighting another war against COVID-19 b...  \n",
       "1834                           Replying to and 3 others  \n",
       "1835                                   Replying to and   \n",
       "\n",
       "[1836 rows x 2 columns]"
      ]
     },
     "execution_count": 9,
     "metadata": {},
     "output_type": "execute_result"
    }
   ],
   "source": [
    "mayTweet[['tweet','clean_tweet']]"
   ]
  },
  {
   "cell_type": "markdown",
   "metadata": {},
   "source": [
    "### ----Removing Punctuations----"
   ]
  },
  {
   "cell_type": "code",
   "execution_count": 10,
   "metadata": {},
   "outputs": [],
   "source": [
    "mayTweet['clean_tweet'] = mayTweet['clean_tweet'].apply(nfx.remove_puncts)"
   ]
  },
  {
   "cell_type": "code",
   "execution_count": 11,
   "metadata": {},
   "outputs": [
    {
     "data": {
      "text/html": [
       "<div>\n",
       "<style scoped>\n",
       "    .dataframe tbody tr th:only-of-type {\n",
       "        vertical-align: middle;\n",
       "    }\n",
       "\n",
       "    .dataframe tbody tr th {\n",
       "        vertical-align: top;\n",
       "    }\n",
       "\n",
       "    .dataframe thead th {\n",
       "        text-align: right;\n",
       "    }\n",
       "</style>\n",
       "<table border=\"1\" class=\"dataframe\">\n",
       "  <thead>\n",
       "    <tr style=\"text-align: right;\">\n",
       "      <th></th>\n",
       "      <th>tweet</th>\n",
       "      <th>clean_tweet</th>\n",
       "    </tr>\n",
       "  </thead>\n",
       "  <tbody>\n",
       "    <tr>\n",
       "      <th>0</th>\n",
       "      <td>The corona virus has a possible 39,000 RNA mut...</td>\n",
       "      <td>The corona virus has a possible 39000 RNA muta...</td>\n",
       "    </tr>\n",
       "    <tr>\n",
       "      <th>1</th>\n",
       "      <td>Second wave of coronavirus infection in India ...</td>\n",
       "      <td>Second wave of coronavirus infection in India ...</td>\n",
       "    </tr>\n",
       "    <tr>\n",
       "      <th>2</th>\n",
       "      <td>BBC News - India coronavirus: New record death...</td>\n",
       "      <td>BBC News  India coronavirus: New record deaths...</td>\n",
       "    </tr>\n",
       "    <tr>\n",
       "      <th>3</th>\n",
       "      <td>wear a mask and sanitize your hands and mainta...</td>\n",
       "      <td>wear a mask and sanitize your hands and mainta...</td>\n",
       "    </tr>\n",
       "    <tr>\n",
       "      <th>4</th>\n",
       "      <td>BBC News - India coronavirus: New record death...</td>\n",
       "      <td>BBC News  India coronavirus: New record deaths...</td>\n",
       "    </tr>\n",
       "    <tr>\n",
       "      <th>...</th>\n",
       "      <td>...</td>\n",
       "      <td>...</td>\n",
       "    </tr>\n",
       "    <tr>\n",
       "      <th>1831</th>\n",
       "      <td>Great gesture \\n@Lshukla6\\n Bhaiya, \\n@SonuSoo...</td>\n",
       "      <td>Great gesture Bhaiya more peoples come like yo...</td>\n",
       "    </tr>\n",
       "    <tr>\n",
       "      <th>1832</th>\n",
       "      <td>@srijitspeaketh\\n \\n@SandyMukherg\\n \\n@AnanyaR...</td>\n",
       "      <td>Check Vacant Beds Availability Online in Hosp...</td>\n",
       "    </tr>\n",
       "    <tr>\n",
       "      <th>1833</th>\n",
       "      <td>We are fighting another war against COVID-19 b...</td>\n",
       "      <td>We are fighting another war against COVID19 bu...</td>\n",
       "    </tr>\n",
       "    <tr>\n",
       "      <th>1834</th>\n",
       "      <td>Replying to \\n@DemonGod21\\n \\n@AnshumanBanka8\\...</td>\n",
       "      <td>Replying to and 3 others</td>\n",
       "    </tr>\n",
       "    <tr>\n",
       "      <th>1835</th>\n",
       "      <td>Replying to \\n@SandipGhose\\n \\n@nitin_gadkari\\...</td>\n",
       "      <td>Replying to and</td>\n",
       "    </tr>\n",
       "  </tbody>\n",
       "</table>\n",
       "<p>1836 rows × 2 columns</p>\n",
       "</div>"
      ],
      "text/plain": [
       "                                                  tweet  \\\n",
       "0     The corona virus has a possible 39,000 RNA mut...   \n",
       "1     Second wave of coronavirus infection in India ...   \n",
       "2     BBC News - India coronavirus: New record death...   \n",
       "3     wear a mask and sanitize your hands and mainta...   \n",
       "4     BBC News - India coronavirus: New record death...   \n",
       "...                                                 ...   \n",
       "1831  Great gesture \\n@Lshukla6\\n Bhaiya, \\n@SonuSoo...   \n",
       "1832  @srijitspeaketh\\n \\n@SandyMukherg\\n \\n@AnanyaR...   \n",
       "1833  We are fighting another war against COVID-19 b...   \n",
       "1834  Replying to \\n@DemonGod21\\n \\n@AnshumanBanka8\\...   \n",
       "1835  Replying to \\n@SandipGhose\\n \\n@nitin_gadkari\\...   \n",
       "\n",
       "                                            clean_tweet  \n",
       "0     The corona virus has a possible 39000 RNA muta...  \n",
       "1     Second wave of coronavirus infection in India ...  \n",
       "2     BBC News  India coronavirus: New record deaths...  \n",
       "3     wear a mask and sanitize your hands and mainta...  \n",
       "4     BBC News  India coronavirus: New record deaths...  \n",
       "...                                                 ...  \n",
       "1831  Great gesture Bhaiya more peoples come like yo...  \n",
       "1832   Check Vacant Beds Availability Online in Hosp...  \n",
       "1833  We are fighting another war against COVID19 bu...  \n",
       "1834                           Replying to and 3 others  \n",
       "1835                                   Replying to and   \n",
       "\n",
       "[1836 rows x 2 columns]"
      ]
     },
     "execution_count": 11,
     "metadata": {},
     "output_type": "execute_result"
    }
   ],
   "source": [
    "mayTweet[['tweet','clean_tweet']]"
   ]
  },
  {
   "cell_type": "code",
   "execution_count": 12,
   "metadata": {},
   "outputs": [],
   "source": [
    "mayTweet.to_csv('MayTweet_(with Emojis and other language within eng sentence).csv')"
   ]
  },
  {
   "cell_type": "markdown",
   "metadata": {},
   "source": [
    "### -----Extract Emojis ----- ###"
   ]
  },
  {
   "cell_type": "code",
   "execution_count": 13,
   "metadata": {},
   "outputs": [],
   "source": [
    "mayTweet['emojis']=np.nan"
   ]
  },
  {
   "cell_type": "code",
   "execution_count": 14,
   "metadata": {},
   "outputs": [],
   "source": [
    "def extract_emoji(text):\n",
    "    emoji_dict=adv.extract_emoji(text)\n",
    "    new_list=emoji_dict['emoji'][0]\n",
    "    return new_list\n",
    "    "
   ]
  },
  {
   "cell_type": "code",
   "execution_count": 15,
   "metadata": {},
   "outputs": [
    {
     "data": {
      "text/plain": [
       "'Life just fine until 🖤🖤🖤🖤🖤 '"
      ]
     },
     "execution_count": 15,
     "metadata": {},
     "output_type": "execute_result"
    }
   ],
   "source": [
    "mayTweet['clean_tweet'][75]"
   ]
  },
  {
   "cell_type": "code",
   "execution_count": 16,
   "metadata": {},
   "outputs": [
    {
     "data": {
      "text/plain": [
       "['Life just fine until 🖤🖤🖤🖤🖤 ']"
      ]
     },
     "execution_count": 16,
     "metadata": {},
     "output_type": "execute_result"
    }
   ],
   "source": [
    "text=[mayTweet['clean_tweet'][75] ]\n",
    "text"
   ]
  },
  {
   "cell_type": "code",
   "execution_count": 17,
   "metadata": {},
   "outputs": [
    {
     "name": "stderr",
     "output_type": "stream",
     "text": [
      "C:\\Users\\gango\\AppData\\Local\\Temp/ipykernel_2360/3033103300.py:1: SettingWithCopyWarning: \n",
      "A value is trying to be set on a copy of a slice from a DataFrame\n",
      "\n",
      "See the caveats in the documentation: https://pandas.pydata.org/pandas-docs/stable/user_guide/indexing.html#returning-a-view-versus-a-copy\n",
      "  mayTweet['emojis'][67]=extract_emoji(text)\n",
      "C:\\Users\\gango\\anaconda3\\lib\\site-packages\\pandas\\core\\indexing.py:1732: SettingWithCopyWarning: \n",
      "A value is trying to be set on a copy of a slice from a DataFrame\n",
      "\n",
      "See the caveats in the documentation: https://pandas.pydata.org/pandas-docs/stable/user_guide/indexing.html#returning-a-view-versus-a-copy\n",
      "  self._setitem_single_block(indexer, value, name)\n"
     ]
    }
   ],
   "source": [
    "mayTweet['emojis'][67]=extract_emoji(text)"
   ]
  },
  {
   "cell_type": "code",
   "execution_count": 18,
   "metadata": {},
   "outputs": [
    {
     "data": {
      "text/plain": [
       "['🖤', '🖤', '🖤', '🖤', '🖤']"
      ]
     },
     "execution_count": 18,
     "metadata": {},
     "output_type": "execute_result"
    }
   ],
   "source": [
    "mayTweet['emojis'][67]"
   ]
  },
  {
   "cell_type": "code",
   "execution_count": 19,
   "metadata": {},
   "outputs": [],
   "source": [
    "for i in range(0,1836):\n",
    "    text=[mayTweet['clean_tweet'][i] ]\n",
    "    mayTweet['emojis'][i]=extract_emoji(text)"
   ]
  },
  {
   "cell_type": "code",
   "execution_count": 21,
   "metadata": {},
   "outputs": [],
   "source": [
    "mayTweet.to_csv('extractedEmoji.csv')\n"
   ]
  },
  {
   "cell_type": "markdown",
   "metadata": {},
   "source": [
    "### -----Remove Emojis-----"
   ]
  },
  {
   "cell_type": "code",
   "execution_count": 22,
   "metadata": {},
   "outputs": [],
   "source": [
    "def remove_emojis(text,i=0):\n",
    "    new_text= re.sub(emoji.get_emoji_regexp(),r'',text)\n",
    "    mayTweet['clean_tweet'][i]=new_text"
   ]
  },
  {
   "cell_type": "code",
   "execution_count": 23,
   "metadata": {},
   "outputs": [
    {
     "data": {
      "text/plain": [
       "'Childrens are gift of god help them for their education not for begging '"
      ]
     },
     "execution_count": 23,
     "metadata": {},
     "output_type": "execute_result"
    }
   ],
   "source": [
    "mayTweet['clean_tweet'][7]"
   ]
  },
  {
   "cell_type": "code",
   "execution_count": 24,
   "metadata": {},
   "outputs": [
    {
     "name": "stderr",
     "output_type": "stream",
     "text": [
      "C:\\Users\\gango\\AppData\\Local\\Temp/ipykernel_2360/3650416790.py:3: SettingWithCopyWarning: \n",
      "A value is trying to be set on a copy of a slice from a DataFrame\n",
      "\n",
      "See the caveats in the documentation: https://pandas.pydata.org/pandas-docs/stable/user_guide/indexing.html#returning-a-view-versus-a-copy\n",
      "  mayTweet['clean_tweet'][i]=new_text\n"
     ]
    }
   ],
   "source": [
    "remove_emojis(mayTweet['clean_tweet'][7],7)"
   ]
  },
  {
   "cell_type": "code",
   "execution_count": 25,
   "metadata": {},
   "outputs": [
    {
     "data": {
      "text/plain": [
       "'Childrens are gift of god help them for their education not for begging '"
      ]
     },
     "execution_count": 25,
     "metadata": {},
     "output_type": "execute_result"
    }
   ],
   "source": [
    "mayTweet['clean_tweet'][7]"
   ]
  },
  {
   "cell_type": "code",
   "execution_count": 26,
   "metadata": {},
   "outputs": [
    {
     "name": "stderr",
     "output_type": "stream",
     "text": [
      "C:\\Users\\gango\\AppData\\Local\\Temp/ipykernel_2360/3650416790.py:3: SettingWithCopyWarning: \n",
      "A value is trying to be set on a copy of a slice from a DataFrame\n",
      "\n",
      "See the caveats in the documentation: https://pandas.pydata.org/pandas-docs/stable/user_guide/indexing.html#returning-a-view-versus-a-copy\n",
      "  mayTweet['clean_tweet'][i]=new_text\n"
     ]
    }
   ],
   "source": [
    "for i in range(0,1836):\n",
    "    text=mayTweet['clean_tweet'][i]\n",
    "    remove_emojis(text,i)"
   ]
  },
  {
   "cell_type": "code",
   "execution_count": 27,
   "metadata": {},
   "outputs": [],
   "source": [
    "mayTweet.to_csv('mayTweet.csv')"
   ]
  },
  {
   "cell_type": "code",
   "execution_count": 28,
   "metadata": {},
   "outputs": [
    {
     "data": {
      "text/plain": [
       "Index(['Unnamed: 0', 'tweet', 'language', 'hastags', 'attherate', 'urls',\n",
       "       'tokenized_Tweet', 'filteredToken', 'clean_tweet', 'emojis'],\n",
       "      dtype='object')"
      ]
     },
     "execution_count": 28,
     "metadata": {},
     "output_type": "execute_result"
    }
   ],
   "source": [
    "mayTweet.columns"
   ]
  },
  {
   "cell_type": "code",
   "execution_count": 29,
   "metadata": {},
   "outputs": [],
   "source": [
    "mayTweetClean=mayTweet[['tweet','clean_tweet', 'hastags','attherate','urls','emojis']]"
   ]
  },
  {
   "cell_type": "code",
   "execution_count": 30,
   "metadata": {},
   "outputs": [
    {
     "data": {
      "text/html": [
       "<div>\n",
       "<style scoped>\n",
       "    .dataframe tbody tr th:only-of-type {\n",
       "        vertical-align: middle;\n",
       "    }\n",
       "\n",
       "    .dataframe tbody tr th {\n",
       "        vertical-align: top;\n",
       "    }\n",
       "\n",
       "    .dataframe thead th {\n",
       "        text-align: right;\n",
       "    }\n",
       "</style>\n",
       "<table border=\"1\" class=\"dataframe\">\n",
       "  <thead>\n",
       "    <tr style=\"text-align: right;\">\n",
       "      <th></th>\n",
       "      <th>tweet</th>\n",
       "      <th>clean_tweet</th>\n",
       "      <th>hastags</th>\n",
       "      <th>attherate</th>\n",
       "      <th>urls</th>\n",
       "      <th>emojis</th>\n",
       "    </tr>\n",
       "  </thead>\n",
       "  <tbody>\n",
       "    <tr>\n",
       "      <th>0</th>\n",
       "      <td>The corona virus has a possible 39,000 RNA mut...</td>\n",
       "      <td>The corona virus has a possible 39000 RNA muta...</td>\n",
       "      <td>['#COVIDisAirborne', '#Covid_19']</td>\n",
       "      <td>[]</td>\n",
       "      <td>[]</td>\n",
       "      <td>[]</td>\n",
       "    </tr>\n",
       "    <tr>\n",
       "      <th>1</th>\n",
       "      <td>Second wave of coronavirus infection in India ...</td>\n",
       "      <td>Second wave of coronavirus infection in India ...</td>\n",
       "      <td>[]</td>\n",
       "      <td>[]</td>\n",
       "      <td>['https://t.co/xuMMbohior']</td>\n",
       "      <td>[]</td>\n",
       "    </tr>\n",
       "    <tr>\n",
       "      <th>2</th>\n",
       "      <td>BBC News - India coronavirus: New record death...</td>\n",
       "      <td>BBC News  India coronavirus: New record deaths...</td>\n",
       "      <td>['#coronavirus']</td>\n",
       "      <td>[]</td>\n",
       "      <td>['https://t.co/jYpHJ58kJC']</td>\n",
       "      <td>[]</td>\n",
       "    </tr>\n",
       "    <tr>\n",
       "      <th>3</th>\n",
       "      <td>wear a mask and sanitize your hands and mainta...</td>\n",
       "      <td>wear a mask and sanitize your hands and mainta...</td>\n",
       "      <td>['#COVIDSecondWaveInIndia', '#COVIDEmergency',...</td>\n",
       "      <td>[]</td>\n",
       "      <td>[]</td>\n",
       "      <td>[]</td>\n",
       "    </tr>\n",
       "    <tr>\n",
       "      <th>4</th>\n",
       "      <td>BBC News - India coronavirus: New record death...</td>\n",
       "      <td>BBC News  India coronavirus: New record deaths...</td>\n",
       "      <td>[]</td>\n",
       "      <td>[]</td>\n",
       "      <td>['https://t.co/HpTGBrGE3K']</td>\n",
       "      <td>[]</td>\n",
       "    </tr>\n",
       "    <tr>\n",
       "      <th>5</th>\n",
       "      <td>Are you okay? No, i just want a Covid free wor...</td>\n",
       "      <td>Are you okay No i just want a Covid free world...</td>\n",
       "      <td>['#Covid_19', '#coronavirus']</td>\n",
       "      <td>[]</td>\n",
       "      <td>[]</td>\n",
       "      <td>[]</td>\n",
       "    </tr>\n",
       "    <tr>\n",
       "      <th>6</th>\n",
       "      <td>Pray for India ......  #CovidHelp #Coronavirus...</td>\n",
       "      <td>Pray for India</td>\n",
       "      <td>['#CovidHelp', '#CoronavirusIndia', '#coronavi...</td>\n",
       "      <td>[]</td>\n",
       "      <td>['https://t.co/ibk6JUKw9R']</td>\n",
       "      <td>[]</td>\n",
       "    </tr>\n",
       "    <tr>\n",
       "      <th>7</th>\n",
       "      <td>Childrens are gift of god help them for their ...</td>\n",
       "      <td>Childrens are gift of god help them for their ...</td>\n",
       "      <td>['#help', '#PrayForIndia', '#COVIDSecondWaveIn...</td>\n",
       "      <td>[]</td>\n",
       "      <td>['https://t.co/DPQb8UDs3B']</td>\n",
       "      <td>[]</td>\n",
       "    </tr>\n",
       "    <tr>\n",
       "      <th>8</th>\n",
       "      <td>@palhali Heard eating Mangoes in Summer can re...</td>\n",
       "      <td>Heard eating Mangoes in Summer can reduce ris...</td>\n",
       "      <td>[]</td>\n",
       "      <td>['@palhali']</td>\n",
       "      <td>[]</td>\n",
       "      <td>[😀]</td>\n",
       "    </tr>\n",
       "    <tr>\n",
       "      <th>9</th>\n",
       "      <td>Help them they needs you very badly in this si...</td>\n",
       "      <td>Help them they needs you very badly in this si...</td>\n",
       "      <td>['#help', '#CovidSOS', '#PrayForIndia', '#COVI...</td>\n",
       "      <td>[]</td>\n",
       "      <td>['https://t.co/xzMy1V0sVM']</td>\n",
       "      <td>[]</td>\n",
       "    </tr>\n",
       "  </tbody>\n",
       "</table>\n",
       "</div>"
      ],
      "text/plain": [
       "                                               tweet  \\\n",
       "0  The corona virus has a possible 39,000 RNA mut...   \n",
       "1  Second wave of coronavirus infection in India ...   \n",
       "2  BBC News - India coronavirus: New record death...   \n",
       "3  wear a mask and sanitize your hands and mainta...   \n",
       "4  BBC News - India coronavirus: New record death...   \n",
       "5  Are you okay? No, i just want a Covid free wor...   \n",
       "6  Pray for India ......  #CovidHelp #Coronavirus...   \n",
       "7  Childrens are gift of god help them for their ...   \n",
       "8  @palhali Heard eating Mangoes in Summer can re...   \n",
       "9  Help them they needs you very badly in this si...   \n",
       "\n",
       "                                         clean_tweet  \\\n",
       "0  The corona virus has a possible 39000 RNA muta...   \n",
       "1  Second wave of coronavirus infection in India ...   \n",
       "2  BBC News  India coronavirus: New record deaths...   \n",
       "3  wear a mask and sanitize your hands and mainta...   \n",
       "4  BBC News  India coronavirus: New record deaths...   \n",
       "5  Are you okay No i just want a Covid free world...   \n",
       "6                                   Pray for India     \n",
       "7  Childrens are gift of god help them for their ...   \n",
       "8   Heard eating Mangoes in Summer can reduce ris...   \n",
       "9  Help them they needs you very badly in this si...   \n",
       "\n",
       "                                             hastags     attherate  \\\n",
       "0                  ['#COVIDisAirborne', '#Covid_19']            []   \n",
       "1                                                 []            []   \n",
       "2                                   ['#coronavirus']            []   \n",
       "3  ['#COVIDSecondWaveInIndia', '#COVIDEmergency',...            []   \n",
       "4                                                 []            []   \n",
       "5                      ['#Covid_19', '#coronavirus']            []   \n",
       "6  ['#CovidHelp', '#CoronavirusIndia', '#coronavi...            []   \n",
       "7  ['#help', '#PrayForIndia', '#COVIDSecondWaveIn...            []   \n",
       "8                                                 []  ['@palhali']   \n",
       "9  ['#help', '#CovidSOS', '#PrayForIndia', '#COVI...            []   \n",
       "\n",
       "                          urls emojis  \n",
       "0                           []     []  \n",
       "1  ['https://t.co/xuMMbohior']     []  \n",
       "2  ['https://t.co/jYpHJ58kJC']     []  \n",
       "3                           []     []  \n",
       "4  ['https://t.co/HpTGBrGE3K']     []  \n",
       "5                           []     []  \n",
       "6  ['https://t.co/ibk6JUKw9R']     []  \n",
       "7  ['https://t.co/DPQb8UDs3B']     []  \n",
       "8                           []    [😀]  \n",
       "9  ['https://t.co/xzMy1V0sVM']     []  "
      ]
     },
     "execution_count": 30,
     "metadata": {},
     "output_type": "execute_result"
    }
   ],
   "source": [
    "mayTweetClean.head(10)"
   ]
  },
  {
   "cell_type": "code",
   "execution_count": 31,
   "metadata": {},
   "outputs": [],
   "source": [
    "mayTweetClean.to_csv('PREPROCESSED_MAY.csv')"
   ]
  }
 ],
 "metadata": {
  "interpreter": {
   "hash": "634498344980471fb0944d848df28373b199ff2468c6404ec32442b20f813eee"
  },
  "kernelspec": {
   "display_name": "Python 3 (ipykernel)",
   "language": "python",
   "name": "python3"
  },
  "language_info": {
   "codemirror_mode": {
    "name": "ipython",
    "version": 3
   },
   "file_extension": ".py",
   "mimetype": "text/x-python",
   "name": "python",
   "nbconvert_exporter": "python",
   "pygments_lexer": "ipython3",
   "version": "3.9.7"
  }
 },
 "nbformat": 4,
 "nbformat_minor": 2
}
