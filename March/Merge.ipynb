{
 "cells": [
  {
   "cell_type": "code",
   "execution_count": 1,
   "metadata": {},
   "outputs": [],
   "source": [
    "import pandas as pd\n",
    "import numpy as np"
   ]
  },
  {
   "cell_type": "code",
   "execution_count": 2,
   "metadata": {},
   "outputs": [],
   "source": [
    "def MergeDataFrame(Df1,Df2):\n",
    "    Df=pd.concat([Df1,Df2])\n",
    "    return Df"
   ]
  },
  {
   "cell_type": "code",
   "execution_count": 3,
   "metadata": {},
   "outputs": [],
   "source": [
    "marchAyush_covid=pd.read_csv('marchT-covid.csv')\n",
    "marchAyush_Covid_19=pd.read_csv('marchT-Covid_19.csv')\n",
    "marchAyush_remdesivir=pd.read_csv('marchT-remdesivir.csv')"
   ]
  },
  {
   "cell_type": "code",
   "execution_count": 4,
   "metadata": {},
   "outputs": [],
   "source": [
    "t1=MergeDataFrame(marchAyush_covid,marchAyush_Covid_19)\n",
    "Ayushmarch=MergeDataFrame(marchAyush_remdesivir,t1)"
   ]
  },
  {
   "cell_type": "code",
   "execution_count": 5,
   "metadata": {},
   "outputs": [
    {
     "data": {
      "text/plain": [
       "(536, 36)"
      ]
     },
     "execution_count": 5,
     "metadata": {},
     "output_type": "execute_result"
    }
   ],
   "source": [
    "Ayushmarch.shape"
   ]
  },
  {
   "cell_type": "code",
   "execution_count": 6,
   "metadata": {},
   "outputs": [],
   "source": [
    "marchGangotri_CoronaVirus=pd.read_csv('march(TG-CoronaVirus).csv')\n",
    "marchGangotri_curfew=pd.read_csv('march(TG-curfew).csv')\n",
    "marchGangotri_vaccine=pd.read_csv('march(TG-vaccine).csv')"
   ]
  },
  {
   "cell_type": "code",
   "execution_count": 7,
   "metadata": {},
   "outputs": [],
   "source": [
    "t1=MergeDataFrame(marchGangotri_CoronaVirus,marchGangotri_curfew)\n",
    "Gangotrimarch=MergeDataFrame(marchGangotri_vaccine,t1)"
   ]
  },
  {
   "cell_type": "code",
   "execution_count": 8,
   "metadata": {},
   "outputs": [
    {
     "data": {
      "text/plain": [
       "(855, 36)"
      ]
     },
     "execution_count": 8,
     "metadata": {},
     "output_type": "execute_result"
    }
   ],
   "source": [
    "Gangotrimarch.shape"
   ]
  },
  {
   "cell_type": "code",
   "execution_count": 9,
   "metadata": {},
   "outputs": [],
   "source": [
    "marchMahabub_corona=pd.read_csv('march(t)_corona.csv')\n",
    "marchMahabub_COVID_19=pd.read_csv('march(t)_COVID_19.csv')\n",
    "marchMahabub_COVID=pd.read_csv('march(t)_COVID.csv')"
   ]
  },
  {
   "cell_type": "code",
   "execution_count": 10,
   "metadata": {},
   "outputs": [],
   "source": [
    "t1=MergeDataFrame(marchMahabub_corona,marchMahabub_COVID_19)\n",
    "Mahabubmarch=MergeDataFrame(marchMahabub_COVID,t1)"
   ]
  },
  {
   "cell_type": "code",
   "execution_count": 11,
   "metadata": {},
   "outputs": [
    {
     "data": {
      "text/plain": [
       "(1776, 36)"
      ]
     },
     "execution_count": 11,
     "metadata": {},
     "output_type": "execute_result"
    }
   ],
   "source": [
    "Mahabubmarch.shape"
   ]
  },
  {
   "cell_type": "code",
   "execution_count": 12,
   "metadata": {},
   "outputs": [],
   "source": [
    "t1=MergeDataFrame(Ayushmarch,Gangotrimarch)\n",
    "marchKey=MergeDataFrame(Mahabubmarch,t1)"
   ]
  },
  {
   "cell_type": "code",
   "execution_count": 13,
   "metadata": {},
   "outputs": [
    {
     "data": {
      "text/plain": [
       "(3167, 36)"
      ]
     },
     "execution_count": 13,
     "metadata": {},
     "output_type": "execute_result"
    }
   ],
   "source": [
    "marchKey.shape"
   ]
  },
  {
   "cell_type": "code",
   "execution_count": 14,
   "metadata": {},
   "outputs": [],
   "source": [
    "marchL=pd.read_csv('Covid_tweets(march-2021-latest).csv')\n",
    "marchT=pd.read_csv('Covid_tweets(march-2021-topSection).csv')"
   ]
  },
  {
   "cell_type": "code",
   "execution_count": 15,
   "metadata": {},
   "outputs": [
    {
     "name": "stdout",
     "output_type": "stream",
     "text": [
      "Index(['UserName', 'Userhandle', 'Time', 'comments', 'retweets', 'likes',\n",
      "       'Tweet'],\n",
      "      dtype='object') Index(['UserName', 'Userhandle', 'Time', 'comments', 'likes', 'retweets',\n",
      "       'Tweet'],\n",
      "      dtype='object')\n"
     ]
    }
   ],
   "source": [
    "a=marchL.columns\n",
    "b=marchT.columns\n",
    "print(a,b)"
   ]
  },
  {
   "cell_type": "code",
   "execution_count": 16,
   "metadata": {},
   "outputs": [],
   "source": [
    "marchLT=MergeDataFrame(marchL,marchT)"
   ]
  },
  {
   "cell_type": "code",
   "execution_count": 17,
   "metadata": {},
   "outputs": [],
   "source": [
    "#marchLT.drop(['Userhandle'], axis=1, inplace=True)\n",
    "marchLT = marchLT.rename(columns={'UserName': 'username', 'Time': 'created_at', 'comments': 'replies_count',\n",
    "                     'retweets': 'retweets_count', 'likes': 'likes_count', 'Tweet': 'tweet','retweets':'retweets_count'})\n",
    "marchLT[\"language\"]='en'"
   ]
  },
  {
   "cell_type": "code",
   "execution_count": 18,
   "metadata": {},
   "outputs": [
    {
     "data": {
      "text/plain": [
       "(3167, 7)"
      ]
     },
     "execution_count": 18,
     "metadata": {},
     "output_type": "execute_result"
    }
   ],
   "source": [
    "marchKey.drop(['trans_dest', 'trans_src', 'retweet_id', 'reply_to', 'retweet_date', 'translate', 'geo', 'source', 'user_rt_id', 'user_rt', 'video', 'thumbnail', 'quote_url', 'near',\n",
    "                 'id', 'conversation_id', 'date', 'time', 'place', 'mentions', 'urls', 'photos', 'hashtags', 'cashtags', 'link', 'retweet', 'timezone', 'user_id', 'name'], axis=1, inplace=True)\n",
    "marchKey.shape"
   ]
  },
  {
   "cell_type": "code",
   "execution_count": 19,
   "metadata": {},
   "outputs": [],
   "source": [
    "march_Raw=MergeDataFrame(marchKey,marchLT)"
   ]
  },
  {
   "cell_type": "code",
   "execution_count": 20,
   "metadata": {},
   "outputs": [
    {
     "data": {
      "text/plain": [
       "(3315, 8)"
      ]
     },
     "execution_count": 20,
     "metadata": {},
     "output_type": "execute_result"
    }
   ],
   "source": [
    "march_Raw.shape"
   ]
  },
  {
   "cell_type": "code",
   "execution_count": 21,
   "metadata": {},
   "outputs": [
    {
     "data": {
      "text/plain": [
       "Index(['created_at', 'username', 'tweet', 'language', 'replies_count',\n",
       "       'retweets_count', 'likes_count', 'Userhandle'],\n",
       "      dtype='object')"
      ]
     },
     "execution_count": 21,
     "metadata": {},
     "output_type": "execute_result"
    }
   ],
   "source": [
    "march_Raw.columns"
   ]
  },
  {
   "cell_type": "code",
   "execution_count": null,
   "metadata": {},
   "outputs": [],
   "source": [
    "march_Raw"
   ]
  },
  {
   "cell_type": "code",
   "execution_count": 22,
   "metadata": {},
   "outputs": [
    {
     "data": {
      "text/html": [
       "<div>\n",
       "<style scoped>\n",
       "    .dataframe tbody tr th:only-of-type {\n",
       "        vertical-align: middle;\n",
       "    }\n",
       "\n",
       "    .dataframe tbody tr th {\n",
       "        vertical-align: top;\n",
       "    }\n",
       "\n",
       "    .dataframe thead th {\n",
       "        text-align: right;\n",
       "    }\n",
       "</style>\n",
       "<table border=\"1\" class=\"dataframe\">\n",
       "  <thead>\n",
       "    <tr style=\"text-align: right;\">\n",
       "      <th></th>\n",
       "      <th>created_at</th>\n",
       "      <th>username</th>\n",
       "      <th>tweet</th>\n",
       "      <th>language</th>\n",
       "      <th>replies_count</th>\n",
       "      <th>retweets_count</th>\n",
       "      <th>likes_count</th>\n",
       "      <th>Userhandle</th>\n",
       "    </tr>\n",
       "  </thead>\n",
       "  <tbody>\n",
       "    <tr>\n",
       "      <th>0</th>\n",
       "      <td>2021-03-03 05:20:50 India Standard Time</td>\n",
       "      <td>takarin_610</td>\n",
       "      <td>「ハノイ市人民委員会は、新型コロナウイルス感染症(COVID-19)対策として営業を一時停止...</td>\n",
       "      <td>ja</td>\n",
       "      <td>0.0</td>\n",
       "      <td>0.0</td>\n",
       "      <td>1.0</td>\n",
       "      <td>NaN</td>\n",
       "    </tr>\n",
       "    <tr>\n",
       "      <th>1</th>\n",
       "      <td>2021-03-03 04:56:36 India Standard Time</td>\n",
       "      <td>stevjacks</td>\n",
       "      <td>Germany's Covid response \"was the envy of the ...</td>\n",
       "      <td>en</td>\n",
       "      <td>0.0</td>\n",
       "      <td>1.0</td>\n",
       "      <td>3.0</td>\n",
       "      <td>NaN</td>\n",
       "    </tr>\n",
       "    <tr>\n",
       "      <th>2</th>\n",
       "      <td>2021-03-03 04:47:18 India Standard Time</td>\n",
       "      <td>hen_cheng</td>\n",
       "      <td>Pfizer &amp;amp; Moderna claim their vaccines very...</td>\n",
       "      <td>en</td>\n",
       "      <td>0.0</td>\n",
       "      <td>0.0</td>\n",
       "      <td>0.0</td>\n",
       "      <td>NaN</td>\n",
       "    </tr>\n",
       "    <tr>\n",
       "      <th>3</th>\n",
       "      <td>2021-03-03 04:04:54 India Standard Time</td>\n",
       "      <td>jozef101</td>\n",
       "      <td>We recently published the predictors of hospit...</td>\n",
       "      <td>en</td>\n",
       "      <td>2.0</td>\n",
       "      <td>4.0</td>\n",
       "      <td>7.0</td>\n",
       "      <td>NaN</td>\n",
       "    </tr>\n",
       "    <tr>\n",
       "      <th>4</th>\n",
       "      <td>2021-03-03 03:18:16 India Standard Time</td>\n",
       "      <td>rengat_barat</td>\n",
       "      <td>*Polsek Rengat Barat Bersama TNI Dan Sat Pol P...</td>\n",
       "      <td>in</td>\n",
       "      <td>0.0</td>\n",
       "      <td>0.0</td>\n",
       "      <td>0.0</td>\n",
       "      <td>NaN</td>\n",
       "    </tr>\n",
       "    <tr>\n",
       "      <th>5</th>\n",
       "      <td>2021-03-03 03:09:24 India Standard Time</td>\n",
       "      <td>lively_mohyo</td>\n",
       "      <td>@Alhamdhulillaah Them dey do Covid test 150AED...</td>\n",
       "      <td>en</td>\n",
       "      <td>0.0</td>\n",
       "      <td>0.0</td>\n",
       "      <td>0.0</td>\n",
       "      <td>NaN</td>\n",
       "    </tr>\n",
       "    <tr>\n",
       "      <th>6</th>\n",
       "      <td>2021-03-03 03:04:30 India Standard Time</td>\n",
       "      <td>akzureikat</td>\n",
       "      <td>@YMasannat @VGDakessian Time will tell! So far...</td>\n",
       "      <td>en</td>\n",
       "      <td>0.0</td>\n",
       "      <td>1.0</td>\n",
       "      <td>2.0</td>\n",
       "      <td>NaN</td>\n",
       "    </tr>\n",
       "    <tr>\n",
       "      <th>7</th>\n",
       "      <td>2021-03-03 03:00:03 India Standard Time</td>\n",
       "      <td>maphepane</td>\n",
       "      <td>Texas and Mississippi lifts ALL its COVID-19 p...</td>\n",
       "      <td>en</td>\n",
       "      <td>0.0</td>\n",
       "      <td>0.0</td>\n",
       "      <td>0.0</td>\n",
       "      <td>NaN</td>\n",
       "    </tr>\n",
       "    <tr>\n",
       "      <th>8</th>\n",
       "      <td>2021-03-03 02:25:02 India Standard Time</td>\n",
       "      <td>vishnoisays</td>\n",
       "      <td>CDC Says It's Not Time to Ease Up on Covid Res...</td>\n",
       "      <td>en</td>\n",
       "      <td>0.0</td>\n",
       "      <td>0.0</td>\n",
       "      <td>0.0</td>\n",
       "      <td>NaN</td>\n",
       "    </tr>\n",
       "    <tr>\n",
       "      <th>9</th>\n",
       "      <td>2021-03-03 02:14:21 India Standard Time</td>\n",
       "      <td>akzureikat</td>\n",
       "      <td>“The lymph nodes in your armpit area that we s...</td>\n",
       "      <td>en</td>\n",
       "      <td>1.0</td>\n",
       "      <td>1.0</td>\n",
       "      <td>2.0</td>\n",
       "      <td>NaN</td>\n",
       "    </tr>\n",
       "  </tbody>\n",
       "</table>\n",
       "</div>"
      ],
      "text/plain": [
       "                                created_at      username  \\\n",
       "0  2021-03-03 05:20:50 India Standard Time   takarin_610   \n",
       "1  2021-03-03 04:56:36 India Standard Time     stevjacks   \n",
       "2  2021-03-03 04:47:18 India Standard Time     hen_cheng   \n",
       "3  2021-03-03 04:04:54 India Standard Time      jozef101   \n",
       "4  2021-03-03 03:18:16 India Standard Time  rengat_barat   \n",
       "5  2021-03-03 03:09:24 India Standard Time  lively_mohyo   \n",
       "6  2021-03-03 03:04:30 India Standard Time    akzureikat   \n",
       "7  2021-03-03 03:00:03 India Standard Time     maphepane   \n",
       "8  2021-03-03 02:25:02 India Standard Time   vishnoisays   \n",
       "9  2021-03-03 02:14:21 India Standard Time    akzureikat   \n",
       "\n",
       "                                               tweet language  replies_count  \\\n",
       "0  「ハノイ市人民委員会は、新型コロナウイルス感染症(COVID-19)対策として営業を一時停止...       ja            0.0   \n",
       "1  Germany's Covid response \"was the envy of the ...       en            0.0   \n",
       "2  Pfizer &amp; Moderna claim their vaccines very...       en            0.0   \n",
       "3  We recently published the predictors of hospit...       en            2.0   \n",
       "4  *Polsek Rengat Barat Bersama TNI Dan Sat Pol P...       in            0.0   \n",
       "5  @Alhamdhulillaah Them dey do Covid test 150AED...       en            0.0   \n",
       "6  @YMasannat @VGDakessian Time will tell! So far...       en            0.0   \n",
       "7  Texas and Mississippi lifts ALL its COVID-19 p...       en            0.0   \n",
       "8  CDC Says It's Not Time to Ease Up on Covid Res...       en            0.0   \n",
       "9  “The lymph nodes in your armpit area that we s...       en            1.0   \n",
       "\n",
       "   retweets_count  likes_count Userhandle  \n",
       "0             0.0          1.0        NaN  \n",
       "1             1.0          3.0        NaN  \n",
       "2             0.0          0.0        NaN  \n",
       "3             4.0          7.0        NaN  \n",
       "4             0.0          0.0        NaN  \n",
       "5             0.0          0.0        NaN  \n",
       "6             1.0          2.0        NaN  \n",
       "7             0.0          0.0        NaN  \n",
       "8             0.0          0.0        NaN  \n",
       "9             1.0          2.0        NaN  "
      ]
     },
     "execution_count": 22,
     "metadata": {},
     "output_type": "execute_result"
    }
   ],
   "source": [
    "march_Raw.head(10)"
   ]
  },
  {
   "cell_type": "code",
   "execution_count": 23,
   "metadata": {},
   "outputs": [
    {
     "data": {
      "text/plain": [
       "0    「ハノイ市人民委員会は、新型コロナウイルス感染症(COVID-19)対策として営業を一時停止...\n",
       "1    Germany's Covid response \"was the envy of the ...\n",
       "2    Pfizer &amp; Moderna claim their vaccines very...\n",
       "3    We recently published the predictors of hospit...\n",
       "4    *Polsek Rengat Barat Bersama TNI Dan Sat Pol P...\n",
       "5    @Alhamdhulillaah Them dey do Covid test 150AED...\n",
       "6    @YMasannat @VGDakessian Time will tell! So far...\n",
       "7    Texas and Mississippi lifts ALL its COVID-19 p...\n",
       "8    CDC Says It's Not Time to Ease Up on Covid Res...\n",
       "9    “The lymph nodes in your armpit area that we s...\n",
       "Name: tweet, dtype: object"
      ]
     },
     "execution_count": 23,
     "metadata": {},
     "output_type": "execute_result"
    }
   ],
   "source": [
    "march_Raw['tweet'][0:10]"
   ]
  },
  {
   "cell_type": "code",
   "execution_count": null,
   "metadata": {},
   "outputs": [],
   "source": [
    "march_Raw.to_csv('MARCHFINALTWEET(RAW).csv')"
   ]
  }
 ],
 "metadata": {
  "interpreter": {
   "hash": "f5077de726081cd88c6b6f65b193df0af57117231466353a74e8f1aa7856d823"
  },
  "kernelspec": {
   "display_name": "Python 3.8.8 ('base')",
   "language": "python",
   "name": "python3"
  },
  "language_info": {
   "codemirror_mode": {
    "name": "ipython",
    "version": 3
   },
   "file_extension": ".py",
   "mimetype": "text/x-python",
   "name": "python",
   "nbconvert_exporter": "python",
   "pygments_lexer": "ipython3",
   "version": "3.8.8"
  },
  "orig_nbformat": 4
 },
 "nbformat": 4,
 "nbformat_minor": 2
}
