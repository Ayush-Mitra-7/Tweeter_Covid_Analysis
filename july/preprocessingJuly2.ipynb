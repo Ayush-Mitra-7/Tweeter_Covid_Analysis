{
 "cells": [
  {
   "cell_type": "code",
   "execution_count": 2,
   "metadata": {},
   "outputs": [],
   "source": [
    "import pandas as pd\n",
    "import numpy as np\n",
    "import math\n",
    "from textblob import TextBlob as tb\n",
    "import re\n",
    "from nltk.corpus import stopwords"
   ]
  },
  {
   "cell_type": "code",
   "execution_count": 49,
   "metadata": {},
   "outputs": [],
   "source": [
    "import neattext.functions as nfx\n",
    "import emoji\n",
    "import advertools as adv"
   ]
  },
  {
   "cell_type": "code",
   "execution_count": 3,
   "metadata": {},
   "outputs": [],
   "source": [
    "julyTweet=pd.read_csv('JulyTweet_(with Emojis and other language within eng sentence).csv')"
   ]
  },
  {
   "cell_type": "code",
   "execution_count": 4,
   "metadata": {},
   "outputs": [
    {
     "data": {
      "text/html": [
       "<div>\n",
       "<style scoped>\n",
       "    .dataframe tbody tr th:only-of-type {\n",
       "        vertical-align: middle;\n",
       "    }\n",
       "\n",
       "    .dataframe tbody tr th {\n",
       "        vertical-align: top;\n",
       "    }\n",
       "\n",
       "    .dataframe thead th {\n",
       "        text-align: right;\n",
       "    }\n",
       "</style>\n",
       "<table border=\"1\" class=\"dataframe\">\n",
       "  <thead>\n",
       "    <tr style=\"text-align: right;\">\n",
       "      <th></th>\n",
       "      <th>Unnamed: 0</th>\n",
       "      <th>tweet</th>\n",
       "      <th>language</th>\n",
       "      <th>hastags</th>\n",
       "      <th>attherate</th>\n",
       "      <th>urls</th>\n",
       "      <th>tokenized_Tweet</th>\n",
       "      <th>filteredToken</th>\n",
       "    </tr>\n",
       "  </thead>\n",
       "  <tbody>\n",
       "    <tr>\n",
       "      <th>0</th>\n",
       "      <td>0</td>\n",
       "      <td>@anileshmahajan @tsrawatbjp @TIRATHSRAWAT @BJP...</td>\n",
       "      <td>en</td>\n",
       "      <td>[]</td>\n",
       "      <td>['@anileshmahajan', '@tsrawatbjp', '@TIRATHSRA...</td>\n",
       "      <td>[]</td>\n",
       "      <td>['anileshmahajan', 'tsrawatbjp', 'TIRATHSRAWAT...</td>\n",
       "      <td>['anileshmahajan', 'BJP', 'rattled', 'inapprop...</td>\n",
       "    </tr>\n",
       "    <tr>\n",
       "      <th>1</th>\n",
       "      <td>1</td>\n",
       "      <td>Uggah: Sarawak still free of Covid-19 Delta va...</td>\n",
       "      <td>en</td>\n",
       "      <td>[]</td>\n",
       "      <td>[]</td>\n",
       "      <td>['https://t.co/BtjONCXGgI']</td>\n",
       "      <td>['Uggah', 'Sarawak', 'still', 'free', 'of', 'C...</td>\n",
       "      <td>['https', 'Sarawak', 'Covid-19', 'still', 'fre...</td>\n",
       "    </tr>\n",
       "    <tr>\n",
       "      <th>2</th>\n",
       "      <td>2</td>\n",
       "      <td>@RomainSandro Following Covid 19 guidelines.</td>\n",
       "      <td>en</td>\n",
       "      <td>[]</td>\n",
       "      <td>['@RomainSandro']</td>\n",
       "      <td>[]</td>\n",
       "      <td>['RomainSandro', 'Following', 'Covid', '19', '...</td>\n",
       "      <td>['Following', 'Covid', '19', 'RomainSandro', '...</td>\n",
       "    </tr>\n",
       "    <tr>\n",
       "      <th>3</th>\n",
       "      <td>3</td>\n",
       "      <td>My parents, senior citizens and vaccinated are...</td>\n",
       "      <td>en</td>\n",
       "      <td>[]</td>\n",
       "      <td>['@PMOIndia', '@AiFlywith', '@airindiain']</td>\n",
       "      <td>[]</td>\n",
       "      <td>['My', 'parents', 'senior', 'citizens', 'and',...</td>\n",
       "      <td>['PMOIndia', 'Blair', 'brother', 'parents', 'w...</td>\n",
       "    </tr>\n",
       "    <tr>\n",
       "      <th>4</th>\n",
       "      <td>4</td>\n",
       "      <td>Fast-spreading Delta Variant, Vaccination Rate...</td>\n",
       "      <td>en</td>\n",
       "      <td>[]</td>\n",
       "      <td>['@medscape']</td>\n",
       "      <td>['https://t.co/Aia0dGOybP']</td>\n",
       "      <td>['Fast-spreading', 'Delta', 'Variant', 'Vaccin...</td>\n",
       "      <td>['https', 'Variant', 'Weekly', 'Vaccination', ...</td>\n",
       "    </tr>\n",
       "  </tbody>\n",
       "</table>\n",
       "</div>"
      ],
      "text/plain": [
       "   Unnamed: 0                                              tweet language  \\\n",
       "0           0  @anileshmahajan @tsrawatbjp @TIRATHSRAWAT @BJP...       en   \n",
       "1           1  Uggah: Sarawak still free of Covid-19 Delta va...       en   \n",
       "2           2       @RomainSandro Following Covid 19 guidelines.       en   \n",
       "3           3  My parents, senior citizens and vaccinated are...       en   \n",
       "4           4  Fast-spreading Delta Variant, Vaccination Rate...       en   \n",
       "\n",
       "  hastags                                          attherate  \\\n",
       "0      []  ['@anileshmahajan', '@tsrawatbjp', '@TIRATHSRA...   \n",
       "1      []                                                 []   \n",
       "2      []                                  ['@RomainSandro']   \n",
       "3      []         ['@PMOIndia', '@AiFlywith', '@airindiain']   \n",
       "4      []                                      ['@medscape']   \n",
       "\n",
       "                          urls  \\\n",
       "0                           []   \n",
       "1  ['https://t.co/BtjONCXGgI']   \n",
       "2                           []   \n",
       "3                           []   \n",
       "4  ['https://t.co/Aia0dGOybP']   \n",
       "\n",
       "                                     tokenized_Tweet  \\\n",
       "0  ['anileshmahajan', 'tsrawatbjp', 'TIRATHSRAWAT...   \n",
       "1  ['Uggah', 'Sarawak', 'still', 'free', 'of', 'C...   \n",
       "2  ['RomainSandro', 'Following', 'Covid', '19', '...   \n",
       "3  ['My', 'parents', 'senior', 'citizens', 'and',...   \n",
       "4  ['Fast-spreading', 'Delta', 'Variant', 'Vaccin...   \n",
       "\n",
       "                                       filteredToken  \n",
       "0  ['anileshmahajan', 'BJP', 'rattled', 'inapprop...  \n",
       "1  ['https', 'Sarawak', 'Covid-19', 'still', 'fre...  \n",
       "2  ['Following', 'Covid', '19', 'RomainSandro', '...  \n",
       "3  ['PMOIndia', 'Blair', 'brother', 'parents', 'w...  \n",
       "4  ['https', 'Variant', 'Weekly', 'Vaccination', ...  "
      ]
     },
     "execution_count": 4,
     "metadata": {},
     "output_type": "execute_result"
    }
   ],
   "source": [
    "julyTweet.head()"
   ]
  },
  {
   "cell_type": "markdown",
   "metadata": {},
   "source": [
    "### -----Removing hastags from tweet------- "
   ]
  },
  {
   "cell_type": "code",
   "execution_count": 8,
   "metadata": {},
   "outputs": [],
   "source": [
    "julyTweet['clean_tweet'] =julyTweet['tweet'].apply(nfx.remove_hashtags)"
   ]
  },
  {
   "cell_type": "markdown",
   "metadata": {},
   "source": [
    "### -----Removing userhandle from tweet -----"
   ]
  },
  {
   "cell_type": "code",
   "execution_count": 9,
   "metadata": {},
   "outputs": [],
   "source": [
    "julyTweet['clean_tweet'] = julyTweet['clean_tweet'].apply(lambda x: nfx.remove_userhandles(x))"
   ]
  },
  {
   "cell_type": "markdown",
   "metadata": {},
   "source": [
    "### ----Removing multiple white spaces-----"
   ]
  },
  {
   "cell_type": "code",
   "execution_count": 10,
   "metadata": {},
   "outputs": [],
   "source": [
    "julyTweet['clean_tweet'] =julyTweet['clean_tweet'].apply(nfx.remove_multiple_spaces)"
   ]
  },
  {
   "cell_type": "markdown",
   "metadata": {},
   "source": [
    "### ----Removing Urls-----"
   ]
  },
  {
   "cell_type": "code",
   "execution_count": 11,
   "metadata": {},
   "outputs": [],
   "source": [
    "julyTweet['clean_tweet'] = julyTweet['clean_tweet'].apply(nfx.remove_urls)"
   ]
  },
  {
   "cell_type": "code",
   "execution_count": 12,
   "metadata": {},
   "outputs": [
    {
     "data": {
      "text/html": [
       "<div>\n",
       "<style scoped>\n",
       "    .dataframe tbody tr th:only-of-type {\n",
       "        vertical-align: middle;\n",
       "    }\n",
       "\n",
       "    .dataframe tbody tr th {\n",
       "        vertical-align: top;\n",
       "    }\n",
       "\n",
       "    .dataframe thead th {\n",
       "        text-align: right;\n",
       "    }\n",
       "</style>\n",
       "<table border=\"1\" class=\"dataframe\">\n",
       "  <thead>\n",
       "    <tr style=\"text-align: right;\">\n",
       "      <th></th>\n",
       "      <th>tweet</th>\n",
       "      <th>clean_tweet</th>\n",
       "    </tr>\n",
       "  </thead>\n",
       "  <tbody>\n",
       "    <tr>\n",
       "      <th>0</th>\n",
       "      <td>@anileshmahajan @tsrawatbjp @TIRATHSRAWAT @BJP...</td>\n",
       "      <td>It is showing complete mess in power hierarch...</td>\n",
       "    </tr>\n",
       "    <tr>\n",
       "      <th>1</th>\n",
       "      <td>Uggah: Sarawak still free of Covid-19 Delta va...</td>\n",
       "      <td>Uggah: Sarawak still free of Covid-19 Delta va...</td>\n",
       "    </tr>\n",
       "    <tr>\n",
       "      <th>2</th>\n",
       "      <td>@RomainSandro Following Covid 19 guidelines.</td>\n",
       "      <td>Following Covid 19 guidelines.</td>\n",
       "    </tr>\n",
       "    <tr>\n",
       "      <th>3</th>\n",
       "      <td>My parents, senior citizens and vaccinated are...</td>\n",
       "      <td>My parents, senior citizens and vaccinated are...</td>\n",
       "    </tr>\n",
       "    <tr>\n",
       "      <th>4</th>\n",
       "      <td>Fast-spreading Delta Variant, Vaccination Rate...</td>\n",
       "      <td>Fast-spreading Delta Variant, Vaccination Rate...</td>\n",
       "    </tr>\n",
       "    <tr>\n",
       "      <th>...</th>\n",
       "      <td>...</td>\n",
       "      <td>...</td>\n",
       "    </tr>\n",
       "    <tr>\n",
       "      <th>1988</th>\n",
       "      <td>Double #Covid vaccines seems to protect agains...</td>\n",
       "      <td>Double vaccines seems to protect against varia...</td>\n",
       "    </tr>\n",
       "    <tr>\n",
       "      <th>1989</th>\n",
       "      <td>Done with both the doses of Covid 19 vaccine.\\...</td>\n",
       "      <td>Done with both the doses of Covid 19 vaccine. ...</td>\n",
       "    </tr>\n",
       "    <tr>\n",
       "      <th>1990</th>\n",
       "      <td>Saluting the real worriers of COVID 19….\\n#doc...</td>\n",
       "      <td>Saluting the real worriers of COVID 19…. @ Kol...</td>\n",
       "    </tr>\n",
       "    <tr>\n",
       "      <th>1991</th>\n",
       "      <td>@HardeepSPuri\\n sir passengers who have been f...</td>\n",
       "      <td>sir passengers who have been fully vaccinated...</td>\n",
       "    </tr>\n",
       "    <tr>\n",
       "      <th>1992</th>\n",
       "      <td>“Warm wishes on Doctor’s Day to all the doctor...</td>\n",
       "      <td>“Warm wishes on Doctor’s Day to all the doctor...</td>\n",
       "    </tr>\n",
       "  </tbody>\n",
       "</table>\n",
       "<p>1993 rows × 2 columns</p>\n",
       "</div>"
      ],
      "text/plain": [
       "                                                  tweet  \\\n",
       "0     @anileshmahajan @tsrawatbjp @TIRATHSRAWAT @BJP...   \n",
       "1     Uggah: Sarawak still free of Covid-19 Delta va...   \n",
       "2          @RomainSandro Following Covid 19 guidelines.   \n",
       "3     My parents, senior citizens and vaccinated are...   \n",
       "4     Fast-spreading Delta Variant, Vaccination Rate...   \n",
       "...                                                 ...   \n",
       "1988  Double #Covid vaccines seems to protect agains...   \n",
       "1989  Done with both the doses of Covid 19 vaccine.\\...   \n",
       "1990  Saluting the real worriers of COVID 19….\\n#doc...   \n",
       "1991  @HardeepSPuri\\n sir passengers who have been f...   \n",
       "1992  “Warm wishes on Doctor’s Day to all the doctor...   \n",
       "\n",
       "                                            clean_tweet  \n",
       "0      It is showing complete mess in power hierarch...  \n",
       "1     Uggah: Sarawak still free of Covid-19 Delta va...  \n",
       "2                        Following Covid 19 guidelines.  \n",
       "3     My parents, senior citizens and vaccinated are...  \n",
       "4     Fast-spreading Delta Variant, Vaccination Rate...  \n",
       "...                                                 ...  \n",
       "1988  Double vaccines seems to protect against varia...  \n",
       "1989  Done with both the doses of Covid 19 vaccine. ...  \n",
       "1990  Saluting the real worriers of COVID 19…. @ Kol...  \n",
       "1991   sir passengers who have been fully vaccinated...  \n",
       "1992  “Warm wishes on Doctor’s Day to all the doctor...  \n",
       "\n",
       "[1993 rows x 2 columns]"
      ]
     },
     "execution_count": 12,
     "metadata": {},
     "output_type": "execute_result"
    }
   ],
   "source": [
    "julyTweet[['tweet','clean_tweet']]"
   ]
  },
  {
   "cell_type": "markdown",
   "metadata": {},
   "source": [
    "### ----Removing Punctuations----"
   ]
  },
  {
   "cell_type": "code",
   "execution_count": 13,
   "metadata": {},
   "outputs": [],
   "source": [
    "julyTweet['clean_tweet'] = julyTweet['clean_tweet'].apply(nfx.remove_puncts)"
   ]
  },
  {
   "cell_type": "code",
   "execution_count": 14,
   "metadata": {},
   "outputs": [
    {
     "data": {
      "text/html": [
       "<div>\n",
       "<style scoped>\n",
       "    .dataframe tbody tr th:only-of-type {\n",
       "        vertical-align: middle;\n",
       "    }\n",
       "\n",
       "    .dataframe tbody tr th {\n",
       "        vertical-align: top;\n",
       "    }\n",
       "\n",
       "    .dataframe thead th {\n",
       "        text-align: right;\n",
       "    }\n",
       "</style>\n",
       "<table border=\"1\" class=\"dataframe\">\n",
       "  <thead>\n",
       "    <tr style=\"text-align: right;\">\n",
       "      <th></th>\n",
       "      <th>tweet</th>\n",
       "      <th>clean_tweet</th>\n",
       "    </tr>\n",
       "  </thead>\n",
       "  <tbody>\n",
       "    <tr>\n",
       "      <th>0</th>\n",
       "      <td>@anileshmahajan @tsrawatbjp @TIRATHSRAWAT @BJP...</td>\n",
       "      <td>It is showing complete mess in power hierarch...</td>\n",
       "    </tr>\n",
       "    <tr>\n",
       "      <th>1</th>\n",
       "      <td>Uggah: Sarawak still free of Covid-19 Delta va...</td>\n",
       "      <td>Uggah: Sarawak still free of Covid19 Delta var...</td>\n",
       "    </tr>\n",
       "    <tr>\n",
       "      <th>2</th>\n",
       "      <td>@RomainSandro Following Covid 19 guidelines.</td>\n",
       "      <td>Following Covid 19 guidelines</td>\n",
       "    </tr>\n",
       "    <tr>\n",
       "      <th>3</th>\n",
       "      <td>My parents, senior citizens and vaccinated are...</td>\n",
       "      <td>My parents senior citizens and vaccinated are ...</td>\n",
       "    </tr>\n",
       "    <tr>\n",
       "      <th>4</th>\n",
       "      <td>Fast-spreading Delta Variant, Vaccination Rate...</td>\n",
       "      <td>Fastspreading Delta Variant Vaccination Rates ...</td>\n",
       "    </tr>\n",
       "    <tr>\n",
       "      <th>...</th>\n",
       "      <td>...</td>\n",
       "      <td>...</td>\n",
       "    </tr>\n",
       "    <tr>\n",
       "      <th>1988</th>\n",
       "      <td>Double #Covid vaccines seems to protect agains...</td>\n",
       "      <td>Double vaccines seems to protect against varia...</td>\n",
       "    </tr>\n",
       "    <tr>\n",
       "      <th>1989</th>\n",
       "      <td>Done with both the doses of Covid 19 vaccine.\\...</td>\n",
       "      <td>Done with both the doses of Covid 19 vaccine T...</td>\n",
       "    </tr>\n",
       "    <tr>\n",
       "      <th>1990</th>\n",
       "      <td>Saluting the real worriers of COVID 19….\\n#doc...</td>\n",
       "      <td>Saluting the real worriers of COVID 19… @ Kolkata</td>\n",
       "    </tr>\n",
       "    <tr>\n",
       "      <th>1991</th>\n",
       "      <td>@HardeepSPuri\\n sir passengers who have been f...</td>\n",
       "      <td>sir passengers who have been fully vaccinated...</td>\n",
       "    </tr>\n",
       "    <tr>\n",
       "      <th>1992</th>\n",
       "      <td>“Warm wishes on Doctor’s Day to all the doctor...</td>\n",
       "      <td>“Warm wishes on Doctor’s Day to all the doctor...</td>\n",
       "    </tr>\n",
       "  </tbody>\n",
       "</table>\n",
       "<p>1993 rows × 2 columns</p>\n",
       "</div>"
      ],
      "text/plain": [
       "                                                  tweet  \\\n",
       "0     @anileshmahajan @tsrawatbjp @TIRATHSRAWAT @BJP...   \n",
       "1     Uggah: Sarawak still free of Covid-19 Delta va...   \n",
       "2          @RomainSandro Following Covid 19 guidelines.   \n",
       "3     My parents, senior citizens and vaccinated are...   \n",
       "4     Fast-spreading Delta Variant, Vaccination Rate...   \n",
       "...                                                 ...   \n",
       "1988  Double #Covid vaccines seems to protect agains...   \n",
       "1989  Done with both the doses of Covid 19 vaccine.\\...   \n",
       "1990  Saluting the real worriers of COVID 19….\\n#doc...   \n",
       "1991  @HardeepSPuri\\n sir passengers who have been f...   \n",
       "1992  “Warm wishes on Doctor’s Day to all the doctor...   \n",
       "\n",
       "                                            clean_tweet  \n",
       "0      It is showing complete mess in power hierarch...  \n",
       "1     Uggah: Sarawak still free of Covid19 Delta var...  \n",
       "2                         Following Covid 19 guidelines  \n",
       "3     My parents senior citizens and vaccinated are ...  \n",
       "4     Fastspreading Delta Variant Vaccination Rates ...  \n",
       "...                                                 ...  \n",
       "1988  Double vaccines seems to protect against varia...  \n",
       "1989  Done with both the doses of Covid 19 vaccine T...  \n",
       "1990  Saluting the real worriers of COVID 19… @ Kolkata  \n",
       "1991   sir passengers who have been fully vaccinated...  \n",
       "1992  “Warm wishes on Doctor’s Day to all the doctor...  \n",
       "\n",
       "[1993 rows x 2 columns]"
      ]
     },
     "execution_count": 14,
     "metadata": {},
     "output_type": "execute_result"
    }
   ],
   "source": [
    "julyTweet[['tweet','clean_tweet']]"
   ]
  },
  {
   "cell_type": "code",
   "execution_count": 15,
   "metadata": {},
   "outputs": [],
   "source": [
    "julyTweet.to_csv('JulyTweet_(with Emojis and other language within eng sentence).csv')"
   ]
  },
  {
   "cell_type": "markdown",
   "metadata": {},
   "source": [
    "### -----Extract Emojis ----- ###"
   ]
  },
  {
   "cell_type": "code",
   "execution_count": 19,
   "metadata": {},
   "outputs": [],
   "source": [
    "julyTweet['emojis']=np.nan"
   ]
  },
  {
   "cell_type": "code",
   "execution_count": 53,
   "metadata": {},
   "outputs": [],
   "source": [
    "def extract_emoji(text):\n",
    "    emoji_dict=adv.extract_emoji(text)\n",
    "    new_list=emoji_dict['emoji'][0]\n",
    "    return new_list\n",
    "    "
   ]
  },
  {
   "cell_type": "code",
   "execution_count": 60,
   "metadata": {},
   "outputs": [],
   "source": [
    "for i in range(0,1993):\n",
    "    text=[julyTweet['clean_tweet'][i] ]\n",
    "    julyTweet['emojis'][i]=extract_emoji(text)"
   ]
  },
  {
   "cell_type": "markdown",
   "metadata": {},
   "source": [
    "### -----Remove Emojis-----"
   ]
  },
  {
   "cell_type": "code",
   "execution_count": 66,
   "metadata": {},
   "outputs": [],
   "source": [
    "def remove_emojis(text,i=0):\n",
    "    new_text= re.sub(emoji.get_emoji_regexp(),r'',text)\n",
    "    julyTweet['clean_tweet'][i]=new_text"
   ]
  },
  {
   "cell_type": "code",
   "execution_count": 67,
   "metadata": {},
   "outputs": [
    {
     "data": {
      "text/plain": [
       "'14 COVID admissions so far 💔'"
      ]
     },
     "execution_count": 67,
     "metadata": {},
     "output_type": "execute_result"
    }
   ],
   "source": [
    "julyTweet['clean_tweet'][7]"
   ]
  },
  {
   "cell_type": "code",
   "execution_count": 70,
   "metadata": {},
   "outputs": [
    {
     "name": "stderr",
     "output_type": "stream",
     "text": [
      "C:\\Users\\AYUSH\\AppData\\Local\\Temp/ipykernel_12488/2647091039.py:3: SettingWithCopyWarning: \n",
      "A value is trying to be set on a copy of a slice from a DataFrame\n",
      "\n",
      "See the caveats in the documentation: https://pandas.pydata.org/pandas-docs/stable/user_guide/indexing.html#returning-a-view-versus-a-copy\n",
      "  julyTweet['clean_tweet'][i]=new_text\n"
     ]
    }
   ],
   "source": [
    "remove_emojis(julyTweet['clean_tweet'][7],7)"
   ]
  },
  {
   "cell_type": "code",
   "execution_count": 71,
   "metadata": {},
   "outputs": [
    {
     "data": {
      "text/plain": [
       "'14 COVID admissions so far '"
      ]
     },
     "execution_count": 71,
     "metadata": {},
     "output_type": "execute_result"
    }
   ],
   "source": [
    "julyTweet['clean_tweet'][7]"
   ]
  },
  {
   "cell_type": "code",
   "execution_count": 72,
   "metadata": {},
   "outputs": [
    {
     "name": "stderr",
     "output_type": "stream",
     "text": [
      "C:\\Users\\AYUSH\\AppData\\Local\\Temp/ipykernel_12488/2647091039.py:3: SettingWithCopyWarning: \n",
      "A value is trying to be set on a copy of a slice from a DataFrame\n",
      "\n",
      "See the caveats in the documentation: https://pandas.pydata.org/pandas-docs/stable/user_guide/indexing.html#returning-a-view-versus-a-copy\n",
      "  julyTweet['clean_tweet'][i]=new_text\n"
     ]
    }
   ],
   "source": [
    "for i in range(0,1993):\n",
    "    text=julyTweet['clean_tweet'][i]\n",
    "    remove_emojis(text,i)"
   ]
  },
  {
   "cell_type": "code",
   "execution_count": 73,
   "metadata": {},
   "outputs": [],
   "source": [
    "julyTweet.to_csv('JulyTweet.csv')"
   ]
  },
  {
   "cell_type": "code",
   "execution_count": 74,
   "metadata": {},
   "outputs": [
    {
     "data": {
      "text/plain": [
       "Index(['Unnamed: 0', 'tweet', 'language', 'hastags', 'attherate', 'urls',\n",
       "       'tokenized_Tweet', 'filteredToken', 'clean_tweet', 'emojis'],\n",
       "      dtype='object')"
      ]
     },
     "execution_count": 74,
     "metadata": {},
     "output_type": "execute_result"
    }
   ],
   "source": [
    "julyTweet.columns"
   ]
  },
  {
   "cell_type": "code",
   "execution_count": 80,
   "metadata": {},
   "outputs": [],
   "source": [
    "julyTweetClean=julyTweet[['tweet','clean_tweet', 'hastags','attherate','urls','emojis']]"
   ]
  },
  {
   "cell_type": "code",
   "execution_count": 81,
   "metadata": {},
   "outputs": [
    {
     "data": {
      "text/html": [
       "<div>\n",
       "<style scoped>\n",
       "    .dataframe tbody tr th:only-of-type {\n",
       "        vertical-align: middle;\n",
       "    }\n",
       "\n",
       "    .dataframe tbody tr th {\n",
       "        vertical-align: top;\n",
       "    }\n",
       "\n",
       "    .dataframe thead th {\n",
       "        text-align: right;\n",
       "    }\n",
       "</style>\n",
       "<table border=\"1\" class=\"dataframe\">\n",
       "  <thead>\n",
       "    <tr style=\"text-align: right;\">\n",
       "      <th></th>\n",
       "      <th>tweet</th>\n",
       "      <th>clean_tweet</th>\n",
       "      <th>hastags</th>\n",
       "      <th>attherate</th>\n",
       "      <th>urls</th>\n",
       "      <th>emojis</th>\n",
       "    </tr>\n",
       "  </thead>\n",
       "  <tbody>\n",
       "    <tr>\n",
       "      <th>0</th>\n",
       "      <td>@anileshmahajan @tsrawatbjp @TIRATHSRAWAT @BJP...</td>\n",
       "      <td>14 COVID admissions so far</td>\n",
       "      <td>[]</td>\n",
       "      <td>['@anileshmahajan', '@tsrawatbjp', '@TIRATHSRA...</td>\n",
       "      <td>[]</td>\n",
       "      <td>[]</td>\n",
       "    </tr>\n",
       "    <tr>\n",
       "      <th>1</th>\n",
       "      <td>Uggah: Sarawak still free of Covid-19 Delta va...</td>\n",
       "      <td>Uggah: Sarawak still free of Covid19 Delta var...</td>\n",
       "      <td>[]</td>\n",
       "      <td>[]</td>\n",
       "      <td>['https://t.co/BtjONCXGgI']</td>\n",
       "      <td>[]</td>\n",
       "    </tr>\n",
       "    <tr>\n",
       "      <th>2</th>\n",
       "      <td>@RomainSandro Following Covid 19 guidelines.</td>\n",
       "      <td>Following Covid 19 guidelines</td>\n",
       "      <td>[]</td>\n",
       "      <td>['@RomainSandro']</td>\n",
       "      <td>[]</td>\n",
       "      <td>[]</td>\n",
       "    </tr>\n",
       "    <tr>\n",
       "      <th>3</th>\n",
       "      <td>My parents, senior citizens and vaccinated are...</td>\n",
       "      <td>My parents senior citizens and vaccinated are ...</td>\n",
       "      <td>[]</td>\n",
       "      <td>['@PMOIndia', '@AiFlywith', '@airindiain']</td>\n",
       "      <td>[]</td>\n",
       "      <td>[]</td>\n",
       "    </tr>\n",
       "    <tr>\n",
       "      <th>4</th>\n",
       "      <td>Fast-spreading Delta Variant, Vaccination Rate...</td>\n",
       "      <td>Fastspreading Delta Variant Vaccination Rates ...</td>\n",
       "      <td>[]</td>\n",
       "      <td>['@medscape']</td>\n",
       "      <td>['https://t.co/Aia0dGOybP']</td>\n",
       "      <td>[]</td>\n",
       "    </tr>\n",
       "    <tr>\n",
       "      <th>5</th>\n",
       "      <td>COVID Vaccines: Mixing different vaccines for ...</td>\n",
       "      <td>COVID Vaccines: Mixing different vaccines for ...</td>\n",
       "      <td>[]</td>\n",
       "      <td>[]</td>\n",
       "      <td>['https://t.co/P0emPoWTxP']</td>\n",
       "      <td>[]</td>\n",
       "    </tr>\n",
       "    <tr>\n",
       "      <th>6</th>\n",
       "      <td>楊培安 我相信 歌詞  https://t.co/OOqNduyg9Z via @YouTu...</td>\n",
       "      <td>楊培安 我相信 歌詞  via World Buddies Believe in our r...</td>\n",
       "      <td>[]</td>\n",
       "      <td>['@YouTube']</td>\n",
       "      <td>['https://t.co/OOqNduyg9Z', 'https://t.co/BVZJ...</td>\n",
       "      <td>[]</td>\n",
       "    </tr>\n",
       "    <tr>\n",
       "      <th>7</th>\n",
       "      <td>14 COVID admissions so far 💔</td>\n",
       "      <td>14 COVID admissions so far</td>\n",
       "      <td>[]</td>\n",
       "      <td>[]</td>\n",
       "      <td>[]</td>\n",
       "      <td>[💔]</td>\n",
       "    </tr>\n",
       "    <tr>\n",
       "      <th>8</th>\n",
       "      <td>#VACCINATIONRACE  STATE/UT-WISE - VACCINATION ...</td>\n",
       "      <td>STATE/UTWISE  VACCINATION RACE One in every f...</td>\n",
       "      <td>['#VACCINATIONRACE']</td>\n",
       "      <td>['@MoHFW_INDIA', '@narendramodi', '@ICMRDELHI'...</td>\n",
       "      <td>['https://t.co/H6N87O84le']</td>\n",
       "      <td>[]</td>\n",
       "    </tr>\n",
       "    <tr>\n",
       "      <th>9</th>\n",
       "      <td>Fears over the ‘Lambda’ Covid variant that’s h...</td>\n",
       "      <td>Fears over the ‘Lambda’ Covid variant that’s h...</td>\n",
       "      <td>[]</td>\n",
       "      <td>[]</td>\n",
       "      <td>['https://t.co/yTOFK4JNh5']</td>\n",
       "      <td>[]</td>\n",
       "    </tr>\n",
       "  </tbody>\n",
       "</table>\n",
       "</div>"
      ],
      "text/plain": [
       "                                               tweet  \\\n",
       "0  @anileshmahajan @tsrawatbjp @TIRATHSRAWAT @BJP...   \n",
       "1  Uggah: Sarawak still free of Covid-19 Delta va...   \n",
       "2       @RomainSandro Following Covid 19 guidelines.   \n",
       "3  My parents, senior citizens and vaccinated are...   \n",
       "4  Fast-spreading Delta Variant, Vaccination Rate...   \n",
       "5  COVID Vaccines: Mixing different vaccines for ...   \n",
       "6  楊培安 我相信 歌詞  https://t.co/OOqNduyg9Z via @YouTu...   \n",
       "7                       14 COVID admissions so far 💔   \n",
       "8  #VACCINATIONRACE  STATE/UT-WISE - VACCINATION ...   \n",
       "9  Fears over the ‘Lambda’ Covid variant that’s h...   \n",
       "\n",
       "                                         clean_tweet               hastags  \\\n",
       "0                        14 COVID admissions so far                     []   \n",
       "1  Uggah: Sarawak still free of Covid19 Delta var...                    []   \n",
       "2                      Following Covid 19 guidelines                    []   \n",
       "3  My parents senior citizens and vaccinated are ...                    []   \n",
       "4  Fastspreading Delta Variant Vaccination Rates ...                    []   \n",
       "5  COVID Vaccines: Mixing different vaccines for ...                    []   \n",
       "6  楊培安 我相信 歌詞  via World Buddies Believe in our r...                    []   \n",
       "7                        14 COVID admissions so far                     []   \n",
       "8   STATE/UTWISE  VACCINATION RACE One in every f...  ['#VACCINATIONRACE']   \n",
       "9  Fears over the ‘Lambda’ Covid variant that’s h...                    []   \n",
       "\n",
       "                                           attherate  \\\n",
       "0  ['@anileshmahajan', '@tsrawatbjp', '@TIRATHSRA...   \n",
       "1                                                 []   \n",
       "2                                  ['@RomainSandro']   \n",
       "3         ['@PMOIndia', '@AiFlywith', '@airindiain']   \n",
       "4                                      ['@medscape']   \n",
       "5                                                 []   \n",
       "6                                       ['@YouTube']   \n",
       "7                                                 []   \n",
       "8  ['@MoHFW_INDIA', '@narendramodi', '@ICMRDELHI'...   \n",
       "9                                                 []   \n",
       "\n",
       "                                                urls emojis  \n",
       "0                                                 []     []  \n",
       "1                        ['https://t.co/BtjONCXGgI']     []  \n",
       "2                                                 []     []  \n",
       "3                                                 []     []  \n",
       "4                        ['https://t.co/Aia0dGOybP']     []  \n",
       "5                        ['https://t.co/P0emPoWTxP']     []  \n",
       "6  ['https://t.co/OOqNduyg9Z', 'https://t.co/BVZJ...     []  \n",
       "7                                                 []    [💔]  \n",
       "8                        ['https://t.co/H6N87O84le']     []  \n",
       "9                        ['https://t.co/yTOFK4JNh5']     []  "
      ]
     },
     "execution_count": 81,
     "metadata": {},
     "output_type": "execute_result"
    }
   ],
   "source": [
    "julyTweetClean.head(10)"
   ]
  },
  {
   "cell_type": "code",
   "execution_count": 82,
   "metadata": {},
   "outputs": [],
   "source": [
    "julyTweetClean.to_csv('PREPROCESSED_JULY.csv')"
   ]
  }
 ],
 "metadata": {
  "interpreter": {
   "hash": "634498344980471fb0944d848df28373b199ff2468c6404ec32442b20f813eee"
  },
  "kernelspec": {
   "display_name": "Python 3.9.6 64-bit",
   "language": "python",
   "name": "python3"
  },
  "language_info": {
   "codemirror_mode": {
    "name": "ipython",
    "version": 3
   },
   "file_extension": ".py",
   "mimetype": "text/x-python",
   "name": "python",
   "nbconvert_exporter": "python",
   "pygments_lexer": "ipython3",
   "version": "3.9.6"
  },
  "orig_nbformat": 4
 },
 "nbformat": 4,
 "nbformat_minor": 2
}
