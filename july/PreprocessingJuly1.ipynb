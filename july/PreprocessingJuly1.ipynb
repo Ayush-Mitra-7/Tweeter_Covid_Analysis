{
 "cells": [
  {
   "cell_type": "code",
   "execution_count": 1,
   "metadata": {},
   "outputs": [],
   "source": [
    "import pandas as pd\n",
    "import numpy as np\n",
    "import math\n",
    "from textblob import TextBlob as tb\n",
    "import re\n",
    "from nltk.corpus import stopwords\n",
    "import matplotlib.pyplot as plt"
   ]
  },
  {
   "cell_type": "code",
   "execution_count": 2,
   "metadata": {},
   "outputs": [
    {
     "name": "stderr",
     "output_type": "stream",
     "text": [
      "[nltk_data] Downloading package stopwords to\n",
      "[nltk_data]     C:\\Users\\AYUSH\\AppData\\Roaming\\nltk_data...\n",
      "[nltk_data]   Package stopwords is already up-to-date!\n"
     ]
    },
    {
     "data": {
      "text/plain": [
       "True"
      ]
     },
     "execution_count": 2,
     "metadata": {},
     "output_type": "execute_result"
    }
   ],
   "source": [
    "import nltk\n",
    "nltk.download('stopwords')"
   ]
  },
  {
   "cell_type": "code",
   "execution_count": 3,
   "metadata": {},
   "outputs": [],
   "source": [
    "july=pd.read_csv('JULYFINALTWEET(RAW).csv')"
   ]
  },
  {
   "cell_type": "code",
   "execution_count": 4,
   "metadata": {},
   "outputs": [
    {
     "data": {
      "text/plain": [
       "Index(['Unnamed: 0', 'created_at', 'username', 'tweet', 'language',\n",
       "       'replies_count', 'retweets_count', 'likes_count'],\n",
       "      dtype='object')"
      ]
     },
     "execution_count": 4,
     "metadata": {},
     "output_type": "execute_result"
    }
   ],
   "source": [
    "july.columns"
   ]
  },
  {
   "cell_type": "code",
   "execution_count": 5,
   "metadata": {},
   "outputs": [],
   "source": [
    "july.drop(['Unnamed: 0'],axis=1,inplace=True)"
   ]
  },
  {
   "cell_type": "code",
   "execution_count": 6,
   "metadata": {},
   "outputs": [
    {
     "data": {
      "text/plain": [
       "Index(['created_at', 'username', 'tweet', 'language', 'replies_count',\n",
       "       'retweets_count', 'likes_count'],\n",
       "      dtype='object')"
      ]
     },
     "execution_count": 6,
     "metadata": {},
     "output_type": "execute_result"
    }
   ],
   "source": [
    "july.columns"
   ]
  },
  {
   "cell_type": "code",
   "execution_count": 7,
   "metadata": {},
   "outputs": [
    {
     "data": {
      "text/plain": [
       "array(['in', 'en', 'th', 'hi', 'ar', 'ja', 'et', 'und', 'ca', 'ht', 'tl',\n",
       "       'fr', 'pl', 'bn', 'mr', 'ne', 'ur', 'ru', 'da', 'es', 'fa', 'ml',\n",
       "       'pt', 'vi', 'ta', 'tr', 'nl', 'or', 'gu', 'it', 'ro', 'de', 'fi',\n",
       "       'cs', 'my', 'lt'], dtype=object)"
      ]
     },
     "execution_count": 7,
     "metadata": {},
     "output_type": "execute_result"
    }
   ],
   "source": [
    "july['language'].unique()"
   ]
  },
  {
   "cell_type": "code",
   "execution_count": 8,
   "metadata": {},
   "outputs": [
    {
     "data": {
      "text/plain": [
       "en     2224\n",
       "in      459\n",
       "hi      258\n",
       "und     153\n",
       "th       67\n",
       "es       49\n",
       "ar       44\n",
       "tl       31\n",
       "ca       20\n",
       "ja       16\n",
       "et       16\n",
       "lt       13\n",
       "ta       11\n",
       "ur       11\n",
       "mr        9\n",
       "bn        9\n",
       "fr        8\n",
       "vi        6\n",
       "ht        5\n",
       "ne        4\n",
       "ru        4\n",
       "pt        3\n",
       "pl        3\n",
       "da        3\n",
       "fa        2\n",
       "tr        2\n",
       "nl        2\n",
       "or        2\n",
       "gu        2\n",
       "it        2\n",
       "ro        2\n",
       "fi        2\n",
       "cs        2\n",
       "ml        1\n",
       "de        1\n",
       "my        1\n",
       "Name: language, dtype: int64"
      ]
     },
     "execution_count": 8,
     "metadata": {},
     "output_type": "execute_result"
    }
   ],
   "source": [
    "july['language'].value_counts()"
   ]
  },
  {
   "cell_type": "code",
   "execution_count": 9,
   "metadata": {},
   "outputs": [
    {
     "data": {
      "image/png": "[encoded data removed]",
      "text/plain": [
       "<Figure size 540x252 with 1 Axes>"
      ]
     },
     "metadata": {
      "needs_background": "light"
     },
     "output_type": "display_data"
    }
   ],
   "source": [
    "list1=np.array\n",
    "plt.rcParams[\"figure.figsize\"] = [7.50, 3.50]\n",
    "plt.rcParams[\"figure.autolayout\"] = True\n",
    "fig, ax = plt.subplots()\n",
    "list1=july['language'].value_counts().plot(ax=ax, kind='bar', xlabel='languages', ylabel='frequency')\n",
    "plt.show()"
   ]
  },
  {
   "cell_type": "code",
   "execution_count": 10,
   "metadata": {},
   "outputs": [
    {
     "data": {
      "image/png": "[encoded data removed]",
      "text/plain": [
       "<Figure size 540x252 with 1 Axes>"
      ]
     },
     "metadata": {
      "needs_background": "light"
     },
     "output_type": "display_data"
    }
   ],
   "source": [
    "import seaborn as sns\n",
    "import matplotlib.pyplot as plt\n",
    "plt.rcParams[\"figure.figsize\"] = [7.50, 3.50]\n",
    "lang=july['language'].value_counts().rename_axis('lang').reset_index(name='frequency')\n",
    "ax = sns.barplot(x=\"lang\", y=\"frequency\", data=lang)\n",
    "plt.title(\"July\")\n",
    "plt.xticks(rotation=90)\n",
    "plt.show()"
   ]
  },
  {
   "cell_type": "code",
   "execution_count": 11,
   "metadata": {},
   "outputs": [
    {
     "data": {
      "text/plain": [
       "(36, 2)"
      ]
     },
     "execution_count": 11,
     "metadata": {},
     "output_type": "execute_result"
    }
   ],
   "source": [
    "lang.shape"
   ]
  },
  {
   "cell_type": "code",
   "execution_count": 9,
   "metadata": {},
   "outputs": [],
   "source": [
    "for i in july['language']:\n",
    "    index_names = july[july['language']!='en' ].index\n",
    "    july.drop(index_names, inplace = True)"
   ]
  },
  {
   "cell_type": "code",
   "execution_count": 10,
   "metadata": {},
   "outputs": [
    {
     "data": {
      "text/plain": [
       "(2224, 7)"
      ]
     },
     "execution_count": 10,
     "metadata": {},
     "output_type": "execute_result"
    }
   ],
   "source": [
    "july.shape"
   ]
  },
  {
   "cell_type": "code",
   "execution_count": 11,
   "metadata": {},
   "outputs": [
    {
     "data": {
      "text/plain": [
       "(231, 7)"
      ]
     },
     "execution_count": 11,
     "metadata": {},
     "output_type": "execute_result"
    }
   ],
   "source": [
    "duplicates = july[july.duplicated()]\n",
    "duplicates.shape"
   ]
  },
  {
   "cell_type": "code",
   "execution_count": 12,
   "metadata": {},
   "outputs": [
    {
     "data": {
      "text/plain": [
       "(1993, 7)"
      ]
     },
     "execution_count": 12,
     "metadata": {},
     "output_type": "execute_result"
    }
   ],
   "source": [
    "july=july.drop_duplicates(keep='first')\n",
    "july.shape"
   ]
  },
  {
   "cell_type": "code",
   "execution_count": 13,
   "metadata": {},
   "outputs": [
    {
     "data": {
      "text/html": [
       "<div>\n",
       "<style scoped>\n",
       "    .dataframe tbody tr th:only-of-type {\n",
       "        vertical-align: middle;\n",
       "    }\n",
       "\n",
       "    .dataframe tbody tr th {\n",
       "        vertical-align: top;\n",
       "    }\n",
       "\n",
       "    .dataframe thead th {\n",
       "        text-align: right;\n",
       "    }\n",
       "</style>\n",
       "<table border=\"1\" class=\"dataframe\">\n",
       "  <thead>\n",
       "    <tr style=\"text-align: right;\">\n",
       "      <th></th>\n",
       "      <th>created_at</th>\n",
       "      <th>username</th>\n",
       "      <th>tweet</th>\n",
       "      <th>language</th>\n",
       "      <th>replies_count</th>\n",
       "      <th>retweets_count</th>\n",
       "      <th>likes_count</th>\n",
       "    </tr>\n",
       "  </thead>\n",
       "  <tbody>\n",
       "    <tr>\n",
       "      <th>5</th>\n",
       "      <td>2021-07-03 04:46:08 India Standard Time</td>\n",
       "      <td>scchabba</td>\n",
       "      <td>@anileshmahajan @tsrawatbjp @TIRATHSRAWAT @BJP...</td>\n",
       "      <td>en</td>\n",
       "      <td>0.0</td>\n",
       "      <td>0.0</td>\n",
       "      <td>0</td>\n",
       "    </tr>\n",
       "    <tr>\n",
       "      <th>8</th>\n",
       "      <td>2021-07-03 04:12:47 India Standard Time</td>\n",
       "      <td>chungakabasil</td>\n",
       "      <td>Uggah: Sarawak still free of Covid-19 Delta va...</td>\n",
       "      <td>en</td>\n",
       "      <td>0.0</td>\n",
       "      <td>0.0</td>\n",
       "      <td>1</td>\n",
       "    </tr>\n",
       "    <tr>\n",
       "      <th>10</th>\n",
       "      <td>2021-07-05 04:54:09 India Standard Time</td>\n",
       "      <td>ombutolia</td>\n",
       "      <td>@RomainSandro Following Covid 19 guidelines.</td>\n",
       "      <td>en</td>\n",
       "      <td>0.0</td>\n",
       "      <td>0.0</td>\n",
       "      <td>0</td>\n",
       "    </tr>\n",
       "    <tr>\n",
       "      <th>11</th>\n",
       "      <td>2021-07-05 04:49:20 India Standard Time</td>\n",
       "      <td>anuj_dce</td>\n",
       "      <td>My parents, senior citizens and vaccinated are...</td>\n",
       "      <td>en</td>\n",
       "      <td>1.0</td>\n",
       "      <td>0.0</td>\n",
       "      <td>0</td>\n",
       "    </tr>\n",
       "    <tr>\n",
       "      <th>13</th>\n",
       "      <td>2021-07-05 03:07:15 India Standard Time</td>\n",
       "      <td>dr_afzalhaqasif</td>\n",
       "      <td>Fast-spreading Delta Variant, Vaccination Rate...</td>\n",
       "      <td>en</td>\n",
       "      <td>0.0</td>\n",
       "      <td>0.0</td>\n",
       "      <td>0</td>\n",
       "    </tr>\n",
       "    <tr>\n",
       "      <th>...</th>\n",
       "      <td>...</td>\n",
       "      <td>...</td>\n",
       "      <td>...</td>\n",
       "      <td>...</td>\n",
       "      <td>...</td>\n",
       "      <td>...</td>\n",
       "      <td>...</td>\n",
       "    </tr>\n",
       "    <tr>\n",
       "      <th>3439</th>\n",
       "      <td>2021-07-01T12:55:53.000Z</td>\n",
       "      <td>Tirthankar Das</td>\n",
       "      <td>Double #Covid vaccines seems to protect agains...</td>\n",
       "      <td>en</td>\n",
       "      <td>NaN</td>\n",
       "      <td>NaN</td>\n",
       "      <td>NaN</td>\n",
       "    </tr>\n",
       "    <tr>\n",
       "      <th>3440</th>\n",
       "      <td>2021-07-01T08:29:17.000Z</td>\n",
       "      <td>Debapriya Ghosh Goswami</td>\n",
       "      <td>Done with both the doses of Covid 19 vaccine.\\...</td>\n",
       "      <td>en</td>\n",
       "      <td>1.0</td>\n",
       "      <td>NaN</td>\n",
       "      <td>1.0</td>\n",
       "    </tr>\n",
       "    <tr>\n",
       "      <th>3441</th>\n",
       "      <td>2021-07-01T07:02:34.000Z</td>\n",
       "      <td>Kaushik Mukherjee</td>\n",
       "      <td>Saluting the real worriers of COVID 19….\\n#doc...</td>\n",
       "      <td>en</td>\n",
       "      <td>NaN</td>\n",
       "      <td>NaN</td>\n",
       "      <td>1.0</td>\n",
       "    </tr>\n",
       "    <tr>\n",
       "      <th>3442</th>\n",
       "      <td>2021-07-01T06:21:18.000Z</td>\n",
       "      <td>manoj w</td>\n",
       "      <td>@HardeepSPuri\\n sir passengers who have been f...</td>\n",
       "      <td>en</td>\n",
       "      <td>NaN</td>\n",
       "      <td>NaN</td>\n",
       "      <td>NaN</td>\n",
       "    </tr>\n",
       "    <tr>\n",
       "      <th>3443</th>\n",
       "      <td>2021-07-01T04:55:59.000Z</td>\n",
       "      <td>La Fiesta Catering services</td>\n",
       "      <td>“Warm wishes on Doctor’s Day to all the doctor...</td>\n",
       "      <td>en</td>\n",
       "      <td>NaN</td>\n",
       "      <td>NaN</td>\n",
       "      <td>NaN</td>\n",
       "    </tr>\n",
       "  </tbody>\n",
       "</table>\n",
       "<p>1993 rows × 7 columns</p>\n",
       "</div>"
      ],
      "text/plain": [
       "                                   created_at                     username  \\\n",
       "5     2021-07-03 04:46:08 India Standard Time                     scchabba   \n",
       "8     2021-07-03 04:12:47 India Standard Time                chungakabasil   \n",
       "10    2021-07-05 04:54:09 India Standard Time                    ombutolia   \n",
       "11    2021-07-05 04:49:20 India Standard Time                     anuj_dce   \n",
       "13    2021-07-05 03:07:15 India Standard Time              dr_afzalhaqasif   \n",
       "...                                       ...                          ...   \n",
       "3439                 2021-07-01T12:55:53.000Z               Tirthankar Das   \n",
       "3440                 2021-07-01T08:29:17.000Z      Debapriya Ghosh Goswami   \n",
       "3441                 2021-07-01T07:02:34.000Z            Kaushik Mukherjee   \n",
       "3442                 2021-07-01T06:21:18.000Z                      manoj w   \n",
       "3443                 2021-07-01T04:55:59.000Z  La Fiesta Catering services   \n",
       "\n",
       "                                                  tweet language  \\\n",
       "5     @anileshmahajan @tsrawatbjp @TIRATHSRAWAT @BJP...       en   \n",
       "8     Uggah: Sarawak still free of Covid-19 Delta va...       en   \n",
       "10         @RomainSandro Following Covid 19 guidelines.       en   \n",
       "11    My parents, senior citizens and vaccinated are...       en   \n",
       "13    Fast-spreading Delta Variant, Vaccination Rate...       en   \n",
       "...                                                 ...      ...   \n",
       "3439  Double #Covid vaccines seems to protect agains...       en   \n",
       "3440  Done with both the doses of Covid 19 vaccine.\\...       en   \n",
       "3441  Saluting the real worriers of COVID 19….\\n#doc...       en   \n",
       "3442  @HardeepSPuri\\n sir passengers who have been f...       en   \n",
       "3443  “Warm wishes on Doctor’s Day to all the doctor...       en   \n",
       "\n",
       "      replies_count  retweets_count likes_count  \n",
       "5               0.0             0.0           0  \n",
       "8               0.0             0.0           1  \n",
       "10              0.0             0.0           0  \n",
       "11              1.0             0.0           0  \n",
       "13              0.0             0.0           0  \n",
       "...             ...             ...         ...  \n",
       "3439            NaN             NaN         NaN  \n",
       "3440            1.0             NaN         1.0  \n",
       "3441            NaN             NaN         1.0  \n",
       "3442            NaN             NaN         NaN  \n",
       "3443            NaN             NaN         NaN  \n",
       "\n",
       "[1993 rows x 7 columns]"
      ]
     },
     "execution_count": 13,
     "metadata": {},
     "output_type": "execute_result"
    }
   ],
   "source": [
    "july"
   ]
  },
  {
   "cell_type": "code",
   "execution_count": 14,
   "metadata": {},
   "outputs": [
    {
     "data": {
      "text/plain": [
       "Index(['created_at', 'username', 'tweet', 'language', 'replies_count',\n",
       "       'retweets_count', 'likes_count'],\n",
       "      dtype='object')"
      ]
     },
     "execution_count": 14,
     "metadata": {},
     "output_type": "execute_result"
    }
   ],
   "source": [
    "july.columns"
   ]
  },
  {
   "cell_type": "code",
   "execution_count": 15,
   "metadata": {},
   "outputs": [],
   "source": [
    "july[['replies_count','retweets_count', 'likes_count']]=july[['replies_count','retweets_count', 'likes_count']].fillna(0)"
   ]
  },
  {
   "cell_type": "code",
   "execution_count": 16,
   "metadata": {},
   "outputs": [
    {
     "data": {
      "text/html": [
       "<div>\n",
       "<style scoped>\n",
       "    .dataframe tbody tr th:only-of-type {\n",
       "        vertical-align: middle;\n",
       "    }\n",
       "\n",
       "    .dataframe tbody tr th {\n",
       "        vertical-align: top;\n",
       "    }\n",
       "\n",
       "    .dataframe thead th {\n",
       "        text-align: right;\n",
       "    }\n",
       "</style>\n",
       "<table border=\"1\" class=\"dataframe\">\n",
       "  <thead>\n",
       "    <tr style=\"text-align: right;\">\n",
       "      <th></th>\n",
       "      <th>created_at</th>\n",
       "      <th>username</th>\n",
       "      <th>tweet</th>\n",
       "      <th>language</th>\n",
       "      <th>replies_count</th>\n",
       "      <th>retweets_count</th>\n",
       "      <th>likes_count</th>\n",
       "    </tr>\n",
       "  </thead>\n",
       "  <tbody>\n",
       "    <tr>\n",
       "      <th>5</th>\n",
       "      <td>2021-07-03 04:46:08 India Standard Time</td>\n",
       "      <td>scchabba</td>\n",
       "      <td>@anileshmahajan @tsrawatbjp @TIRATHSRAWAT @BJP...</td>\n",
       "      <td>en</td>\n",
       "      <td>0.0</td>\n",
       "      <td>0.0</td>\n",
       "      <td>0</td>\n",
       "    </tr>\n",
       "    <tr>\n",
       "      <th>8</th>\n",
       "      <td>2021-07-03 04:12:47 India Standard Time</td>\n",
       "      <td>chungakabasil</td>\n",
       "      <td>Uggah: Sarawak still free of Covid-19 Delta va...</td>\n",
       "      <td>en</td>\n",
       "      <td>0.0</td>\n",
       "      <td>0.0</td>\n",
       "      <td>1</td>\n",
       "    </tr>\n",
       "    <tr>\n",
       "      <th>10</th>\n",
       "      <td>2021-07-05 04:54:09 India Standard Time</td>\n",
       "      <td>ombutolia</td>\n",
       "      <td>@RomainSandro Following Covid 19 guidelines.</td>\n",
       "      <td>en</td>\n",
       "      <td>0.0</td>\n",
       "      <td>0.0</td>\n",
       "      <td>0</td>\n",
       "    </tr>\n",
       "    <tr>\n",
       "      <th>11</th>\n",
       "      <td>2021-07-05 04:49:20 India Standard Time</td>\n",
       "      <td>anuj_dce</td>\n",
       "      <td>My parents, senior citizens and vaccinated are...</td>\n",
       "      <td>en</td>\n",
       "      <td>1.0</td>\n",
       "      <td>0.0</td>\n",
       "      <td>0</td>\n",
       "    </tr>\n",
       "    <tr>\n",
       "      <th>13</th>\n",
       "      <td>2021-07-05 03:07:15 India Standard Time</td>\n",
       "      <td>dr_afzalhaqasif</td>\n",
       "      <td>Fast-spreading Delta Variant, Vaccination Rate...</td>\n",
       "      <td>en</td>\n",
       "      <td>0.0</td>\n",
       "      <td>0.0</td>\n",
       "      <td>0</td>\n",
       "    </tr>\n",
       "    <tr>\n",
       "      <th>...</th>\n",
       "      <td>...</td>\n",
       "      <td>...</td>\n",
       "      <td>...</td>\n",
       "      <td>...</td>\n",
       "      <td>...</td>\n",
       "      <td>...</td>\n",
       "      <td>...</td>\n",
       "    </tr>\n",
       "    <tr>\n",
       "      <th>3439</th>\n",
       "      <td>2021-07-01T12:55:53.000Z</td>\n",
       "      <td>Tirthankar Das</td>\n",
       "      <td>Double #Covid vaccines seems to protect agains...</td>\n",
       "      <td>en</td>\n",
       "      <td>0.0</td>\n",
       "      <td>0.0</td>\n",
       "      <td>0</td>\n",
       "    </tr>\n",
       "    <tr>\n",
       "      <th>3440</th>\n",
       "      <td>2021-07-01T08:29:17.000Z</td>\n",
       "      <td>Debapriya Ghosh Goswami</td>\n",
       "      <td>Done with both the doses of Covid 19 vaccine.\\...</td>\n",
       "      <td>en</td>\n",
       "      <td>1.0</td>\n",
       "      <td>0.0</td>\n",
       "      <td>1.0</td>\n",
       "    </tr>\n",
       "    <tr>\n",
       "      <th>3441</th>\n",
       "      <td>2021-07-01T07:02:34.000Z</td>\n",
       "      <td>Kaushik Mukherjee</td>\n",
       "      <td>Saluting the real worriers of COVID 19….\\n#doc...</td>\n",
       "      <td>en</td>\n",
       "      <td>0.0</td>\n",
       "      <td>0.0</td>\n",
       "      <td>1.0</td>\n",
       "    </tr>\n",
       "    <tr>\n",
       "      <th>3442</th>\n",
       "      <td>2021-07-01T06:21:18.000Z</td>\n",
       "      <td>manoj w</td>\n",
       "      <td>@HardeepSPuri\\n sir passengers who have been f...</td>\n",
       "      <td>en</td>\n",
       "      <td>0.0</td>\n",
       "      <td>0.0</td>\n",
       "      <td>0</td>\n",
       "    </tr>\n",
       "    <tr>\n",
       "      <th>3443</th>\n",
       "      <td>2021-07-01T04:55:59.000Z</td>\n",
       "      <td>La Fiesta Catering services</td>\n",
       "      <td>“Warm wishes on Doctor’s Day to all the doctor...</td>\n",
       "      <td>en</td>\n",
       "      <td>0.0</td>\n",
       "      <td>0.0</td>\n",
       "      <td>0</td>\n",
       "    </tr>\n",
       "  </tbody>\n",
       "</table>\n",
       "<p>1993 rows × 7 columns</p>\n",
       "</div>"
      ],
      "text/plain": [
       "                                   created_at                     username  \\\n",
       "5     2021-07-03 04:46:08 India Standard Time                     scchabba   \n",
       "8     2021-07-03 04:12:47 India Standard Time                chungakabasil   \n",
       "10    2021-07-05 04:54:09 India Standard Time                    ombutolia   \n",
       "11    2021-07-05 04:49:20 India Standard Time                     anuj_dce   \n",
       "13    2021-07-05 03:07:15 India Standard Time              dr_afzalhaqasif   \n",
       "...                                       ...                          ...   \n",
       "3439                 2021-07-01T12:55:53.000Z               Tirthankar Das   \n",
       "3440                 2021-07-01T08:29:17.000Z      Debapriya Ghosh Goswami   \n",
       "3441                 2021-07-01T07:02:34.000Z            Kaushik Mukherjee   \n",
       "3442                 2021-07-01T06:21:18.000Z                      manoj w   \n",
       "3443                 2021-07-01T04:55:59.000Z  La Fiesta Catering services   \n",
       "\n",
       "                                                  tweet language  \\\n",
       "5     @anileshmahajan @tsrawatbjp @TIRATHSRAWAT @BJP...       en   \n",
       "8     Uggah: Sarawak still free of Covid-19 Delta va...       en   \n",
       "10         @RomainSandro Following Covid 19 guidelines.       en   \n",
       "11    My parents, senior citizens and vaccinated are...       en   \n",
       "13    Fast-spreading Delta Variant, Vaccination Rate...       en   \n",
       "...                                                 ...      ...   \n",
       "3439  Double #Covid vaccines seems to protect agains...       en   \n",
       "3440  Done with both the doses of Covid 19 vaccine.\\...       en   \n",
       "3441  Saluting the real worriers of COVID 19….\\n#doc...       en   \n",
       "3442  @HardeepSPuri\\n sir passengers who have been f...       en   \n",
       "3443  “Warm wishes on Doctor’s Day to all the doctor...       en   \n",
       "\n",
       "      replies_count  retweets_count likes_count  \n",
       "5               0.0             0.0           0  \n",
       "8               0.0             0.0           1  \n",
       "10              0.0             0.0           0  \n",
       "11              1.0             0.0           0  \n",
       "13              0.0             0.0           0  \n",
       "...             ...             ...         ...  \n",
       "3439            0.0             0.0           0  \n",
       "3440            1.0             0.0         1.0  \n",
       "3441            0.0             0.0         1.0  \n",
       "3442            0.0             0.0           0  \n",
       "3443            0.0             0.0           0  \n",
       "\n",
       "[1993 rows x 7 columns]"
      ]
     },
     "execution_count": 16,
     "metadata": {},
     "output_type": "execute_result"
    }
   ],
   "source": [
    "july"
   ]
  },
  {
   "cell_type": "code",
   "execution_count": 17,
   "metadata": {},
   "outputs": [],
   "source": [
    "JulyTweet=july[['tweet','language']]"
   ]
  },
  {
   "cell_type": "code",
   "execution_count": 18,
   "metadata": {},
   "outputs": [
    {
     "data": {
      "text/html": [
       "<div>\n",
       "<style scoped>\n",
       "    .dataframe tbody tr th:only-of-type {\n",
       "        vertical-align: middle;\n",
       "    }\n",
       "\n",
       "    .dataframe tbody tr th {\n",
       "        vertical-align: top;\n",
       "    }\n",
       "\n",
       "    .dataframe thead th {\n",
       "        text-align: right;\n",
       "    }\n",
       "</style>\n",
       "<table border=\"1\" class=\"dataframe\">\n",
       "  <thead>\n",
       "    <tr style=\"text-align: right;\">\n",
       "      <th></th>\n",
       "      <th>tweet</th>\n",
       "      <th>language</th>\n",
       "    </tr>\n",
       "  </thead>\n",
       "  <tbody>\n",
       "    <tr>\n",
       "      <th>5</th>\n",
       "      <td>@anileshmahajan @tsrawatbjp @TIRATHSRAWAT @BJP...</td>\n",
       "      <td>en</td>\n",
       "    </tr>\n",
       "    <tr>\n",
       "      <th>8</th>\n",
       "      <td>Uggah: Sarawak still free of Covid-19 Delta va...</td>\n",
       "      <td>en</td>\n",
       "    </tr>\n",
       "    <tr>\n",
       "      <th>10</th>\n",
       "      <td>@RomainSandro Following Covid 19 guidelines.</td>\n",
       "      <td>en</td>\n",
       "    </tr>\n",
       "    <tr>\n",
       "      <th>11</th>\n",
       "      <td>My parents, senior citizens and vaccinated are...</td>\n",
       "      <td>en</td>\n",
       "    </tr>\n",
       "    <tr>\n",
       "      <th>13</th>\n",
       "      <td>Fast-spreading Delta Variant, Vaccination Rate...</td>\n",
       "      <td>en</td>\n",
       "    </tr>\n",
       "    <tr>\n",
       "      <th>...</th>\n",
       "      <td>...</td>\n",
       "      <td>...</td>\n",
       "    </tr>\n",
       "    <tr>\n",
       "      <th>3439</th>\n",
       "      <td>Double #Covid vaccines seems to protect agains...</td>\n",
       "      <td>en</td>\n",
       "    </tr>\n",
       "    <tr>\n",
       "      <th>3440</th>\n",
       "      <td>Done with both the doses of Covid 19 vaccine.\\...</td>\n",
       "      <td>en</td>\n",
       "    </tr>\n",
       "    <tr>\n",
       "      <th>3441</th>\n",
       "      <td>Saluting the real worriers of COVID 19….\\n#doc...</td>\n",
       "      <td>en</td>\n",
       "    </tr>\n",
       "    <tr>\n",
       "      <th>3442</th>\n",
       "      <td>@HardeepSPuri\\n sir passengers who have been f...</td>\n",
       "      <td>en</td>\n",
       "    </tr>\n",
       "    <tr>\n",
       "      <th>3443</th>\n",
       "      <td>“Warm wishes on Doctor’s Day to all the doctor...</td>\n",
       "      <td>en</td>\n",
       "    </tr>\n",
       "  </tbody>\n",
       "</table>\n",
       "<p>1993 rows × 2 columns</p>\n",
       "</div>"
      ],
      "text/plain": [
       "                                                  tweet language\n",
       "5     @anileshmahajan @tsrawatbjp @TIRATHSRAWAT @BJP...       en\n",
       "8     Uggah: Sarawak still free of Covid-19 Delta va...       en\n",
       "10         @RomainSandro Following Covid 19 guidelines.       en\n",
       "11    My parents, senior citizens and vaccinated are...       en\n",
       "13    Fast-spreading Delta Variant, Vaccination Rate...       en\n",
       "...                                                 ...      ...\n",
       "3439  Double #Covid vaccines seems to protect agains...       en\n",
       "3440  Done with both the doses of Covid 19 vaccine.\\...       en\n",
       "3441  Saluting the real worriers of COVID 19….\\n#doc...       en\n",
       "3442  @HardeepSPuri\\n sir passengers who have been f...       en\n",
       "3443  “Warm wishes on Doctor’s Day to all the doctor...       en\n",
       "\n",
       "[1993 rows x 2 columns]"
      ]
     },
     "execution_count": 18,
     "metadata": {},
     "output_type": "execute_result"
    }
   ],
   "source": [
    "JulyTweet"
   ]
  },
  {
   "cell_type": "code",
   "execution_count": 19,
   "metadata": {},
   "outputs": [],
   "source": [
    "JulyTweet=JulyTweet.reset_index(level=None, drop=False, inplace=False, col_level=0, col_fill='')"
   ]
  },
  {
   "cell_type": "code",
   "execution_count": 20,
   "metadata": {},
   "outputs": [
    {
     "data": {
      "text/html": [
       "<div>\n",
       "<style scoped>\n",
       "    .dataframe tbody tr th:only-of-type {\n",
       "        vertical-align: middle;\n",
       "    }\n",
       "\n",
       "    .dataframe tbody tr th {\n",
       "        vertical-align: top;\n",
       "    }\n",
       "\n",
       "    .dataframe thead th {\n",
       "        text-align: right;\n",
       "    }\n",
       "</style>\n",
       "<table border=\"1\" class=\"dataframe\">\n",
       "  <thead>\n",
       "    <tr style=\"text-align: right;\">\n",
       "      <th></th>\n",
       "      <th>index</th>\n",
       "      <th>tweet</th>\n",
       "      <th>language</th>\n",
       "    </tr>\n",
       "  </thead>\n",
       "  <tbody>\n",
       "    <tr>\n",
       "      <th>0</th>\n",
       "      <td>5</td>\n",
       "      <td>@anileshmahajan @tsrawatbjp @TIRATHSRAWAT @BJP...</td>\n",
       "      <td>en</td>\n",
       "    </tr>\n",
       "    <tr>\n",
       "      <th>1</th>\n",
       "      <td>8</td>\n",
       "      <td>Uggah: Sarawak still free of Covid-19 Delta va...</td>\n",
       "      <td>en</td>\n",
       "    </tr>\n",
       "    <tr>\n",
       "      <th>2</th>\n",
       "      <td>10</td>\n",
       "      <td>@RomainSandro Following Covid 19 guidelines.</td>\n",
       "      <td>en</td>\n",
       "    </tr>\n",
       "    <tr>\n",
       "      <th>3</th>\n",
       "      <td>11</td>\n",
       "      <td>My parents, senior citizens and vaccinated are...</td>\n",
       "      <td>en</td>\n",
       "    </tr>\n",
       "    <tr>\n",
       "      <th>4</th>\n",
       "      <td>13</td>\n",
       "      <td>Fast-spreading Delta Variant, Vaccination Rate...</td>\n",
       "      <td>en</td>\n",
       "    </tr>\n",
       "    <tr>\n",
       "      <th>...</th>\n",
       "      <td>...</td>\n",
       "      <td>...</td>\n",
       "      <td>...</td>\n",
       "    </tr>\n",
       "    <tr>\n",
       "      <th>1988</th>\n",
       "      <td>3439</td>\n",
       "      <td>Double #Covid vaccines seems to protect agains...</td>\n",
       "      <td>en</td>\n",
       "    </tr>\n",
       "    <tr>\n",
       "      <th>1989</th>\n",
       "      <td>3440</td>\n",
       "      <td>Done with both the doses of Covid 19 vaccine.\\...</td>\n",
       "      <td>en</td>\n",
       "    </tr>\n",
       "    <tr>\n",
       "      <th>1990</th>\n",
       "      <td>3441</td>\n",
       "      <td>Saluting the real worriers of COVID 19….\\n#doc...</td>\n",
       "      <td>en</td>\n",
       "    </tr>\n",
       "    <tr>\n",
       "      <th>1991</th>\n",
       "      <td>3442</td>\n",
       "      <td>@HardeepSPuri\\n sir passengers who have been f...</td>\n",
       "      <td>en</td>\n",
       "    </tr>\n",
       "    <tr>\n",
       "      <th>1992</th>\n",
       "      <td>3443</td>\n",
       "      <td>“Warm wishes on Doctor’s Day to all the doctor...</td>\n",
       "      <td>en</td>\n",
       "    </tr>\n",
       "  </tbody>\n",
       "</table>\n",
       "<p>1993 rows × 3 columns</p>\n",
       "</div>"
      ],
      "text/plain": [
       "      index                                              tweet language\n",
       "0         5  @anileshmahajan @tsrawatbjp @TIRATHSRAWAT @BJP...       en\n",
       "1         8  Uggah: Sarawak still free of Covid-19 Delta va...       en\n",
       "2        10       @RomainSandro Following Covid 19 guidelines.       en\n",
       "3        11  My parents, senior citizens and vaccinated are...       en\n",
       "4        13  Fast-spreading Delta Variant, Vaccination Rate...       en\n",
       "...     ...                                                ...      ...\n",
       "1988   3439  Double #Covid vaccines seems to protect agains...       en\n",
       "1989   3440  Done with both the doses of Covid 19 vaccine.\\...       en\n",
       "1990   3441  Saluting the real worriers of COVID 19….\\n#doc...       en\n",
       "1991   3442  @HardeepSPuri\\n sir passengers who have been f...       en\n",
       "1992   3443  “Warm wishes on Doctor’s Day to all the doctor...       en\n",
       "\n",
       "[1993 rows x 3 columns]"
      ]
     },
     "execution_count": 20,
     "metadata": {},
     "output_type": "execute_result"
    }
   ],
   "source": [
    "JulyTweet"
   ]
  },
  {
   "cell_type": "code",
   "execution_count": 21,
   "metadata": {},
   "outputs": [],
   "source": [
    "JulyTweet.drop(['index'],axis=1,inplace=True)"
   ]
  },
  {
   "cell_type": "code",
   "execution_count": 22,
   "metadata": {},
   "outputs": [
    {
     "data": {
      "text/html": [
       "<div>\n",
       "<style scoped>\n",
       "    .dataframe tbody tr th:only-of-type {\n",
       "        vertical-align: middle;\n",
       "    }\n",
       "\n",
       "    .dataframe tbody tr th {\n",
       "        vertical-align: top;\n",
       "    }\n",
       "\n",
       "    .dataframe thead th {\n",
       "        text-align: right;\n",
       "    }\n",
       "</style>\n",
       "<table border=\"1\" class=\"dataframe\">\n",
       "  <thead>\n",
       "    <tr style=\"text-align: right;\">\n",
       "      <th></th>\n",
       "      <th>tweet</th>\n",
       "      <th>language</th>\n",
       "    </tr>\n",
       "  </thead>\n",
       "  <tbody>\n",
       "    <tr>\n",
       "      <th>0</th>\n",
       "      <td>@anileshmahajan @tsrawatbjp @TIRATHSRAWAT @BJP...</td>\n",
       "      <td>en</td>\n",
       "    </tr>\n",
       "    <tr>\n",
       "      <th>1</th>\n",
       "      <td>Uggah: Sarawak still free of Covid-19 Delta va...</td>\n",
       "      <td>en</td>\n",
       "    </tr>\n",
       "    <tr>\n",
       "      <th>2</th>\n",
       "      <td>@RomainSandro Following Covid 19 guidelines.</td>\n",
       "      <td>en</td>\n",
       "    </tr>\n",
       "    <tr>\n",
       "      <th>3</th>\n",
       "      <td>My parents, senior citizens and vaccinated are...</td>\n",
       "      <td>en</td>\n",
       "    </tr>\n",
       "    <tr>\n",
       "      <th>4</th>\n",
       "      <td>Fast-spreading Delta Variant, Vaccination Rate...</td>\n",
       "      <td>en</td>\n",
       "    </tr>\n",
       "    <tr>\n",
       "      <th>...</th>\n",
       "      <td>...</td>\n",
       "      <td>...</td>\n",
       "    </tr>\n",
       "    <tr>\n",
       "      <th>1988</th>\n",
       "      <td>Double #Covid vaccines seems to protect agains...</td>\n",
       "      <td>en</td>\n",
       "    </tr>\n",
       "    <tr>\n",
       "      <th>1989</th>\n",
       "      <td>Done with both the doses of Covid 19 vaccine.\\...</td>\n",
       "      <td>en</td>\n",
       "    </tr>\n",
       "    <tr>\n",
       "      <th>1990</th>\n",
       "      <td>Saluting the real worriers of COVID 19….\\n#doc...</td>\n",
       "      <td>en</td>\n",
       "    </tr>\n",
       "    <tr>\n",
       "      <th>1991</th>\n",
       "      <td>@HardeepSPuri\\n sir passengers who have been f...</td>\n",
       "      <td>en</td>\n",
       "    </tr>\n",
       "    <tr>\n",
       "      <th>1992</th>\n",
       "      <td>“Warm wishes on Doctor’s Day to all the doctor...</td>\n",
       "      <td>en</td>\n",
       "    </tr>\n",
       "  </tbody>\n",
       "</table>\n",
       "<p>1993 rows × 2 columns</p>\n",
       "</div>"
      ],
      "text/plain": [
       "                                                  tweet language\n",
       "0     @anileshmahajan @tsrawatbjp @TIRATHSRAWAT @BJP...       en\n",
       "1     Uggah: Sarawak still free of Covid-19 Delta va...       en\n",
       "2          @RomainSandro Following Covid 19 guidelines.       en\n",
       "3     My parents, senior citizens and vaccinated are...       en\n",
       "4     Fast-spreading Delta Variant, Vaccination Rate...       en\n",
       "...                                                 ...      ...\n",
       "1988  Double #Covid vaccines seems to protect agains...       en\n",
       "1989  Done with both the doses of Covid 19 vaccine.\\...       en\n",
       "1990  Saluting the real worriers of COVID 19….\\n#doc...       en\n",
       "1991  @HardeepSPuri\\n sir passengers who have been f...       en\n",
       "1992  “Warm wishes on Doctor’s Day to all the doctor...       en\n",
       "\n",
       "[1993 rows x 2 columns]"
      ]
     },
     "execution_count": 22,
     "metadata": {},
     "output_type": "execute_result"
    }
   ],
   "source": [
    "JulyTweet"
   ]
  },
  {
   "cell_type": "code",
   "execution_count": 23,
   "metadata": {},
   "outputs": [],
   "source": [
    "JulyTweet.to_csv('JulyTweet.csv')"
   ]
  },
  {
   "cell_type": "markdown",
   "metadata": {},
   "source": [
    "### --------extract HASTAGS--------- ###"
   ]
  },
  {
   "cell_type": "code",
   "execution_count": 24,
   "metadata": {},
   "outputs": [],
   "source": [
    "JulyTweet['hastags']=np.nan"
   ]
  },
  {
   "cell_type": "code",
   "execution_count": 25,
   "metadata": {},
   "outputs": [],
   "source": [
    "def extract_hastags(text,i=0):\n",
    "    hashtag_list = []\n",
    "    for word in text.split():\n",
    "        if word[0] == '#':\n",
    "            hashtag_list.append(word[0:])\n",
    "    JulyTweet['hastags'][i]=hashtag_list\n",
    "    i+=1\n"
   ]
  },
  {
   "cell_type": "code",
   "execution_count": 26,
   "metadata": {},
   "outputs": [
    {
     "name": "stdout",
     "output_type": "stream",
     "text": [
      "RangeIndex(start=0, stop=1993, step=1)\n"
     ]
    }
   ],
   "source": [
    "index=JulyTweet.index\n",
    "print(index)"
   ]
  },
  {
   "cell_type": "code",
   "execution_count": 27,
   "metadata": {},
   "outputs": [
    {
     "name": "stderr",
     "output_type": "stream",
     "text": [
      "<ipython-input-25-30f7a2f19440>:6: SettingWithCopyWarning: \n",
      "A value is trying to be set on a copy of a slice from a DataFrame\n",
      "\n",
      "See the caveats in the documentation: https://pandas.pydata.org/pandas-docs/stable/user_guide/indexing.html#returning-a-view-versus-a-copy\n",
      "  JulyTweet['hastags'][i]=hashtag_list\n",
      "C:\\Users\\AYUSH\\anaconda3\\lib\\site-packages\\pandas\\core\\indexing.py:1637: SettingWithCopyWarning: \n",
      "A value is trying to be set on a copy of a slice from a DataFrame\n",
      "\n",
      "See the caveats in the documentation: https://pandas.pydata.org/pandas-docs/stable/user_guide/indexing.html#returning-a-view-versus-a-copy\n",
      "  self._setitem_single_block(indexer, value, name)\n"
     ]
    }
   ],
   "source": [
    "extract_hastags(JulyTweet['tweet'][8],8)"
   ]
  },
  {
   "cell_type": "code",
   "execution_count": 28,
   "metadata": {},
   "outputs": [
    {
     "data": {
      "text/plain": [
       "['#VACCINATIONRACE']"
      ]
     },
     "execution_count": 28,
     "metadata": {},
     "output_type": "execute_result"
    }
   ],
   "source": [
    "JulyTweet['hastags'][8]"
   ]
  },
  {
   "cell_type": "code",
   "execution_count": 29,
   "metadata": {},
   "outputs": [],
   "source": [
    "for i in range(0,1993):\n",
    "    text=JulyTweet['tweet'][i]\n",
    "    extract_hastags(text,i)\n"
   ]
  },
  {
   "cell_type": "code",
   "execution_count": 30,
   "metadata": {},
   "outputs": [
    {
     "data": {
      "text/plain": [
       "0                                                      []\n",
       "1                                                      []\n",
       "2                                                      []\n",
       "3                                                      []\n",
       "4                                                      []\n",
       "                              ...                        \n",
       "1988    [#Covid, #DeltaVariant, #COVID19, #coronavirus...\n",
       "1989                                        [#Vaccinated]\n",
       "1990    [#doctor, #health, #heal, #positivevibes, #hap...\n",
       "1991                                [#vaccinated, #COVID]\n",
       "1992    [#DoctorsDay, #NationalDoctorsDay, #grateful, ...\n",
       "Name: hastags, Length: 1993, dtype: object"
      ]
     },
     "execution_count": 30,
     "metadata": {},
     "output_type": "execute_result"
    }
   ],
   "source": [
    "JulyTweet['hastags']"
   ]
  },
  {
   "cell_type": "markdown",
   "metadata": {},
   "source": [
    "### ---- Extract @texts ----"
   ]
  },
  {
   "cell_type": "code",
   "execution_count": 31,
   "metadata": {},
   "outputs": [],
   "source": [
    "JulyTweet['attherate']=np.nan"
   ]
  },
  {
   "cell_type": "code",
   "execution_count": 32,
   "metadata": {},
   "outputs": [],
   "source": [
    "def extract_attherate(text,i=0):\n",
    "    attherate_list = []\n",
    "    for word in text.split():\n",
    "        if word[0] == '@':\n",
    "            attherate_list.append(word[0:])\n",
    "    JulyTweet['attherate'][i]=attherate_list\n",
    "    i+=1"
   ]
  },
  {
   "cell_type": "code",
   "execution_count": 33,
   "metadata": {},
   "outputs": [
    {
     "name": "stderr",
     "output_type": "stream",
     "text": [
      "<ipython-input-32-7059c50e411a>:6: SettingWithCopyWarning: \n",
      "A value is trying to be set on a copy of a slice from a DataFrame\n",
      "\n",
      "See the caveats in the documentation: https://pandas.pydata.org/pandas-docs/stable/user_guide/indexing.html#returning-a-view-versus-a-copy\n",
      "  JulyTweet['attherate'][i]=attherate_list\n"
     ]
    }
   ],
   "source": [
    "for i in range(0,1993):\n",
    "    text=JulyTweet['tweet'][i]\n",
    "    extract_attherate(text,i)\n"
   ]
  },
  {
   "cell_type": "code",
   "execution_count": 34,
   "metadata": {},
   "outputs": [
    {
     "data": {
      "text/plain": [
       "0       [@anileshmahajan, @tsrawatbjp, @TIRATHSRAWAT, ...\n",
       "1                                                      []\n",
       "2                                         [@RomainSandro]\n",
       "3                    [@PMOIndia, @AiFlywith, @airindiain]\n",
       "4                                             [@medscape]\n",
       "                              ...                        \n",
       "1988                                                   []\n",
       "1989                                                   []\n",
       "1990                                                  [@]\n",
       "1991                                      [@HardeepSPuri]\n",
       "1992                                                   []\n",
       "Name: attherate, Length: 1993, dtype: object"
      ]
     },
     "execution_count": 34,
     "metadata": {},
     "output_type": "execute_result"
    }
   ],
   "source": [
    "JulyTweet['attherate']"
   ]
  },
  {
   "cell_type": "code",
   "execution_count": 35,
   "metadata": {},
   "outputs": [],
   "source": [
    "JulyTweet.to_csv('JulyTweet.csv')"
   ]
  },
  {
   "cell_type": "markdown",
   "metadata": {},
   "source": [
    "### ----Extracting URLs----"
   ]
  },
  {
   "cell_type": "code",
   "execution_count": 36,
   "metadata": {},
   "outputs": [],
   "source": [
    "JulyTweet['urls']=np.nan"
   ]
  },
  {
   "cell_type": "code",
   "execution_count": 37,
   "metadata": {},
   "outputs": [],
   "source": [
    "def extract_urls(text,i=0):\n",
    "    attherate_list = []\n",
    "    for word in text.split():\n",
    "        if word[0:5] == 'https':\n",
    "            attherate_list.append(word[0:])\n",
    "    JulyTweet['urls'][i]=attherate_list\n",
    "    i+=1"
   ]
  },
  {
   "cell_type": "code",
   "execution_count": 38,
   "metadata": {},
   "outputs": [
    {
     "data": {
      "text/plain": [
       "'Uggah: Sarawak still free of Covid-19 Delta variant    https://t.co/BtjONCXGgI'"
      ]
     },
     "execution_count": 38,
     "metadata": {},
     "output_type": "execute_result"
    }
   ],
   "source": [
    "JulyTweet['tweet'][1]"
   ]
  },
  {
   "cell_type": "code",
   "execution_count": 39,
   "metadata": {},
   "outputs": [
    {
     "name": "stderr",
     "output_type": "stream",
     "text": [
      "<ipython-input-37-1678ac7306fc>:6: SettingWithCopyWarning: \n",
      "A value is trying to be set on a copy of a slice from a DataFrame\n",
      "\n",
      "See the caveats in the documentation: https://pandas.pydata.org/pandas-docs/stable/user_guide/indexing.html#returning-a-view-versus-a-copy\n",
      "  JulyTweet['urls'][i]=attherate_list\n"
     ]
    }
   ],
   "source": [
    "extract_urls(JulyTweet['tweet'][1],1)"
   ]
  },
  {
   "cell_type": "code",
   "execution_count": 40,
   "metadata": {},
   "outputs": [
    {
     "data": {
      "text/plain": [
       "['https://t.co/BtjONCXGgI']"
      ]
     },
     "execution_count": 40,
     "metadata": {},
     "output_type": "execute_result"
    }
   ],
   "source": [
    "JulyTweet['urls'][1]"
   ]
  },
  {
   "cell_type": "code",
   "execution_count": 41,
   "metadata": {},
   "outputs": [],
   "source": [
    "for i in range(0,1993):\n",
    "    text=JulyTweet['tweet'][i]\n",
    "    extract_urls(text,i)\n"
   ]
  },
  {
   "cell_type": "code",
   "execution_count": 42,
   "metadata": {},
   "outputs": [
    {
     "data": {
      "text/plain": [
       "0                                  []\n",
       "1           [https://t.co/BtjONCXGgI]\n",
       "2                                  []\n",
       "3                                  []\n",
       "4           [https://t.co/Aia0dGOybP]\n",
       "                    ...              \n",
       "1988                               []\n",
       "1989                               []\n",
       "1990                               []\n",
       "1991                               []\n",
       "1992    [https://lafiestacatering.in]\n",
       "Name: urls, Length: 1993, dtype: object"
      ]
     },
     "execution_count": 42,
     "metadata": {},
     "output_type": "execute_result"
    }
   ],
   "source": [
    "JulyTweet['urls']"
   ]
  },
  {
   "cell_type": "code",
   "execution_count": 43,
   "metadata": {},
   "outputs": [],
   "source": [
    "JulyTweet.to_csv('JulyTweet.csv')"
   ]
  },
  {
   "cell_type": "code",
   "execution_count": 44,
   "metadata": {},
   "outputs": [
    {
     "data": {
      "text/html": [
       "<div>\n",
       "<style scoped>\n",
       "    .dataframe tbody tr th:only-of-type {\n",
       "        vertical-align: middle;\n",
       "    }\n",
       "\n",
       "    .dataframe tbody tr th {\n",
       "        vertical-align: top;\n",
       "    }\n",
       "\n",
       "    .dataframe thead th {\n",
       "        text-align: right;\n",
       "    }\n",
       "</style>\n",
       "<table border=\"1\" class=\"dataframe\">\n",
       "  <thead>\n",
       "    <tr style=\"text-align: right;\">\n",
       "      <th></th>\n",
       "      <th>tweet</th>\n",
       "      <th>language</th>\n",
       "      <th>hastags</th>\n",
       "      <th>attherate</th>\n",
       "      <th>urls</th>\n",
       "    </tr>\n",
       "  </thead>\n",
       "  <tbody>\n",
       "    <tr>\n",
       "      <th>0</th>\n",
       "      <td>@anileshmahajan @tsrawatbjp @TIRATHSRAWAT @BJP...</td>\n",
       "      <td>en</td>\n",
       "      <td>[]</td>\n",
       "      <td>[@anileshmahajan, @tsrawatbjp, @TIRATHSRAWAT, ...</td>\n",
       "      <td>[]</td>\n",
       "    </tr>\n",
       "    <tr>\n",
       "      <th>1</th>\n",
       "      <td>Uggah: Sarawak still free of Covid-19 Delta va...</td>\n",
       "      <td>en</td>\n",
       "      <td>[]</td>\n",
       "      <td>[]</td>\n",
       "      <td>[https://t.co/BtjONCXGgI]</td>\n",
       "    </tr>\n",
       "    <tr>\n",
       "      <th>2</th>\n",
       "      <td>@RomainSandro Following Covid 19 guidelines.</td>\n",
       "      <td>en</td>\n",
       "      <td>[]</td>\n",
       "      <td>[@RomainSandro]</td>\n",
       "      <td>[]</td>\n",
       "    </tr>\n",
       "    <tr>\n",
       "      <th>3</th>\n",
       "      <td>My parents, senior citizens and vaccinated are...</td>\n",
       "      <td>en</td>\n",
       "      <td>[]</td>\n",
       "      <td>[@PMOIndia, @AiFlywith, @airindiain]</td>\n",
       "      <td>[]</td>\n",
       "    </tr>\n",
       "    <tr>\n",
       "      <th>4</th>\n",
       "      <td>Fast-spreading Delta Variant, Vaccination Rate...</td>\n",
       "      <td>en</td>\n",
       "      <td>[]</td>\n",
       "      <td>[@medscape]</td>\n",
       "      <td>[https://t.co/Aia0dGOybP]</td>\n",
       "    </tr>\n",
       "    <tr>\n",
       "      <th>...</th>\n",
       "      <td>...</td>\n",
       "      <td>...</td>\n",
       "      <td>...</td>\n",
       "      <td>...</td>\n",
       "      <td>...</td>\n",
       "    </tr>\n",
       "    <tr>\n",
       "      <th>1988</th>\n",
       "      <td>Double #Covid vaccines seems to protect agains...</td>\n",
       "      <td>en</td>\n",
       "      <td>[#Covid, #DeltaVariant, #COVID19, #coronavirus...</td>\n",
       "      <td>[]</td>\n",
       "      <td>[]</td>\n",
       "    </tr>\n",
       "    <tr>\n",
       "      <th>1989</th>\n",
       "      <td>Done with both the doses of Covid 19 vaccine.\\...</td>\n",
       "      <td>en</td>\n",
       "      <td>[#Vaccinated]</td>\n",
       "      <td>[]</td>\n",
       "      <td>[]</td>\n",
       "    </tr>\n",
       "    <tr>\n",
       "      <th>1990</th>\n",
       "      <td>Saluting the real worriers of COVID 19….\\n#doc...</td>\n",
       "      <td>en</td>\n",
       "      <td>[#doctor, #health, #heal, #positivevibes, #hap...</td>\n",
       "      <td>[@]</td>\n",
       "      <td>[]</td>\n",
       "    </tr>\n",
       "    <tr>\n",
       "      <th>1991</th>\n",
       "      <td>@HardeepSPuri\\n sir passengers who have been f...</td>\n",
       "      <td>en</td>\n",
       "      <td>[#vaccinated, #COVID]</td>\n",
       "      <td>[@HardeepSPuri]</td>\n",
       "      <td>[]</td>\n",
       "    </tr>\n",
       "    <tr>\n",
       "      <th>1992</th>\n",
       "      <td>“Warm wishes on Doctor’s Day to all the doctor...</td>\n",
       "      <td>en</td>\n",
       "      <td>[#DoctorsDay, #NationalDoctorsDay, #grateful, ...</td>\n",
       "      <td>[]</td>\n",
       "      <td>[https://lafiestacatering.in]</td>\n",
       "    </tr>\n",
       "  </tbody>\n",
       "</table>\n",
       "<p>1993 rows × 5 columns</p>\n",
       "</div>"
      ],
      "text/plain": [
       "                                                  tweet language  \\\n",
       "0     @anileshmahajan @tsrawatbjp @TIRATHSRAWAT @BJP...       en   \n",
       "1     Uggah: Sarawak still free of Covid-19 Delta va...       en   \n",
       "2          @RomainSandro Following Covid 19 guidelines.       en   \n",
       "3     My parents, senior citizens and vaccinated are...       en   \n",
       "4     Fast-spreading Delta Variant, Vaccination Rate...       en   \n",
       "...                                                 ...      ...   \n",
       "1988  Double #Covid vaccines seems to protect agains...       en   \n",
       "1989  Done with both the doses of Covid 19 vaccine.\\...       en   \n",
       "1990  Saluting the real worriers of COVID 19….\\n#doc...       en   \n",
       "1991  @HardeepSPuri\\n sir passengers who have been f...       en   \n",
       "1992  “Warm wishes on Doctor’s Day to all the doctor...       en   \n",
       "\n",
       "                                                hastags  \\\n",
       "0                                                    []   \n",
       "1                                                    []   \n",
       "2                                                    []   \n",
       "3                                                    []   \n",
       "4                                                    []   \n",
       "...                                                 ...   \n",
       "1988  [#Covid, #DeltaVariant, #COVID19, #coronavirus...   \n",
       "1989                                      [#Vaccinated]   \n",
       "1990  [#doctor, #health, #heal, #positivevibes, #hap...   \n",
       "1991                              [#vaccinated, #COVID]   \n",
       "1992  [#DoctorsDay, #NationalDoctorsDay, #grateful, ...   \n",
       "\n",
       "                                              attherate  \\\n",
       "0     [@anileshmahajan, @tsrawatbjp, @TIRATHSRAWAT, ...   \n",
       "1                                                    []   \n",
       "2                                       [@RomainSandro]   \n",
       "3                  [@PMOIndia, @AiFlywith, @airindiain]   \n",
       "4                                           [@medscape]   \n",
       "...                                                 ...   \n",
       "1988                                                 []   \n",
       "1989                                                 []   \n",
       "1990                                                [@]   \n",
       "1991                                    [@HardeepSPuri]   \n",
       "1992                                                 []   \n",
       "\n",
       "                               urls  \n",
       "0                                []  \n",
       "1         [https://t.co/BtjONCXGgI]  \n",
       "2                                []  \n",
       "3                                []  \n",
       "4         [https://t.co/Aia0dGOybP]  \n",
       "...                             ...  \n",
       "1988                             []  \n",
       "1989                             []  \n",
       "1990                             []  \n",
       "1991                             []  \n",
       "1992  [https://lafiestacatering.in]  \n",
       "\n",
       "[1993 rows x 5 columns]"
      ]
     },
     "execution_count": 44,
     "metadata": {},
     "output_type": "execute_result"
    }
   ],
   "source": [
    "JulyTweet"
   ]
  },
  {
   "cell_type": "code",
   "execution_count": 45,
   "metadata": {},
   "outputs": [],
   "source": [
    "JulyTweet['tokenized_Tweet']=np.nan"
   ]
  },
  {
   "cell_type": "code",
   "execution_count": 46,
   "metadata": {},
   "outputs": [],
   "source": [
    "def tokenizing(text,i=0):\n",
    "    text=tb(text)\n",
    "    token_text=text.words\n",
    "    token_text\n",
    "    JulyTweet['tokenized_Tweet'][i]=token_text"
   ]
  },
  {
   "cell_type": "code",
   "execution_count": 47,
   "metadata": {},
   "outputs": [
    {
     "name": "stderr",
     "output_type": "stream",
     "text": [
      "<ipython-input-46-93d54fe794c4>:5: SettingWithCopyWarning: \n",
      "A value is trying to be set on a copy of a slice from a DataFrame\n",
      "\n",
      "See the caveats in the documentation: https://pandas.pydata.org/pandas-docs/stable/user_guide/indexing.html#returning-a-view-versus-a-copy\n",
      "  JulyTweet['tokenized_Tweet'][i]=token_text\n",
      "C:\\Users\\AYUSH\\anaconda3\\lib\\site-packages\\pandas\\core\\indexing.py:1637: SettingWithCopyWarning: \n",
      "A value is trying to be set on a copy of a slice from a DataFrame\n",
      "\n",
      "See the caveats in the documentation: https://pandas.pydata.org/pandas-docs/stable/user_guide/indexing.html#returning-a-view-versus-a-copy\n",
      "  self._setitem_single_block(indexer, value, name)\n"
     ]
    }
   ],
   "source": [
    "tokenizing(JulyTweet['tweet'][0],0)"
   ]
  },
  {
   "cell_type": "code",
   "execution_count": 48,
   "metadata": {},
   "outputs": [
    {
     "data": {
      "text/plain": [
       "WordList(['anileshmahajan', 'tsrawatbjp', 'TIRATHSRAWAT', 'BJP4India', 'It', 'is', 'showing', 'complete', 'mess', 'in', 'power', 'hierarchy', 'of', 'BJP', 'which', 'is', 'seemingly', 'rattled', 'by', 'inappropriate', 'handling', 'of', 'covid', '2nd', 'wave'])"
      ]
     },
     "execution_count": 48,
     "metadata": {},
     "output_type": "execute_result"
    }
   ],
   "source": [
    "JulyTweet['tokenized_Tweet'][0]"
   ]
  },
  {
   "cell_type": "code",
   "execution_count": 49,
   "metadata": {},
   "outputs": [
    {
     "data": {
      "text/plain": [
       "'@anileshmahajan @tsrawatbjp @TIRATHSRAWAT @BJP4India It is showing complete mess in power hierarchy of BJP which is seemingly rattled by inappropriate handling of covid 2nd wave .'"
      ]
     },
     "execution_count": 49,
     "metadata": {},
     "output_type": "execute_result"
    }
   ],
   "source": [
    "JulyTweet['tweet'][0]"
   ]
  },
  {
   "cell_type": "code",
   "execution_count": 50,
   "metadata": {},
   "outputs": [],
   "source": [
    "for i in range(0,1993):\n",
    "    text=JulyTweet['tweet'][i]\n",
    "    tokenizing(text,i)"
   ]
  },
  {
   "cell_type": "code",
   "execution_count": 51,
   "metadata": {},
   "outputs": [
    {
     "data": {
      "text/plain": [
       "0       [anileshmahajan, tsrawatbjp, TIRATHSRAWAT, BJP...\n",
       "1       [Uggah, Sarawak, still, free, of, Covid-19, De...\n",
       "2        [RomainSandro, Following, Covid, 19, guidelines]\n",
       "3       [My, parents, senior, citizens, and, vaccinate...\n",
       "4       [Fast-spreading, Delta, Variant, Vaccination, ...\n",
       "                              ...                        \n",
       "1988    [Double, Covid, vaccines, seems, to, protect, ...\n",
       "1989    [Done, with, both, the, doses, of, Covid, 19, ...\n",
       "1990    [Saluting, the, real, worriers, of, COVID, 19…...\n",
       "1991    [HardeepSPuri, sir, passengers, who, have, bee...\n",
       "1992    [“, Warm, wishes, on, Doctor, ’, s, Day, to, a...\n",
       "Name: tokenized_Tweet, Length: 1993, dtype: object"
      ]
     },
     "execution_count": 51,
     "metadata": {},
     "output_type": "execute_result"
    }
   ],
   "source": [
    "JulyTweet['tokenized_Tweet']"
   ]
  },
  {
   "cell_type": "code",
   "execution_count": 52,
   "metadata": {},
   "outputs": [],
   "source": [
    "JulyTweet.to_csv('JulyTweet.csv')"
   ]
  },
  {
   "cell_type": "code",
   "execution_count": 53,
   "metadata": {},
   "outputs": [
    {
     "data": {
      "text/html": [
       "<div>\n",
       "<style scoped>\n",
       "    .dataframe tbody tr th:only-of-type {\n",
       "        vertical-align: middle;\n",
       "    }\n",
       "\n",
       "    .dataframe tbody tr th {\n",
       "        vertical-align: top;\n",
       "    }\n",
       "\n",
       "    .dataframe thead th {\n",
       "        text-align: right;\n",
       "    }\n",
       "</style>\n",
       "<table border=\"1\" class=\"dataframe\">\n",
       "  <thead>\n",
       "    <tr style=\"text-align: right;\">\n",
       "      <th></th>\n",
       "      <th>tweet</th>\n",
       "      <th>language</th>\n",
       "      <th>hastags</th>\n",
       "      <th>attherate</th>\n",
       "      <th>urls</th>\n",
       "      <th>tokenized_Tweet</th>\n",
       "    </tr>\n",
       "  </thead>\n",
       "  <tbody>\n",
       "    <tr>\n",
       "      <th>0</th>\n",
       "      <td>@anileshmahajan @tsrawatbjp @TIRATHSRAWAT @BJP...</td>\n",
       "      <td>en</td>\n",
       "      <td>[]</td>\n",
       "      <td>[@anileshmahajan, @tsrawatbjp, @TIRATHSRAWAT, ...</td>\n",
       "      <td>[]</td>\n",
       "      <td>[anileshmahajan, tsrawatbjp, TIRATHSRAWAT, BJP...</td>\n",
       "    </tr>\n",
       "    <tr>\n",
       "      <th>1</th>\n",
       "      <td>Uggah: Sarawak still free of Covid-19 Delta va...</td>\n",
       "      <td>en</td>\n",
       "      <td>[]</td>\n",
       "      <td>[]</td>\n",
       "      <td>[https://t.co/BtjONCXGgI]</td>\n",
       "      <td>[Uggah, Sarawak, still, free, of, Covid-19, De...</td>\n",
       "    </tr>\n",
       "    <tr>\n",
       "      <th>2</th>\n",
       "      <td>@RomainSandro Following Covid 19 guidelines.</td>\n",
       "      <td>en</td>\n",
       "      <td>[]</td>\n",
       "      <td>[@RomainSandro]</td>\n",
       "      <td>[]</td>\n",
       "      <td>[RomainSandro, Following, Covid, 19, guidelines]</td>\n",
       "    </tr>\n",
       "    <tr>\n",
       "      <th>3</th>\n",
       "      <td>My parents, senior citizens and vaccinated are...</td>\n",
       "      <td>en</td>\n",
       "      <td>[]</td>\n",
       "      <td>[@PMOIndia, @AiFlywith, @airindiain]</td>\n",
       "      <td>[]</td>\n",
       "      <td>[My, parents, senior, citizens, and, vaccinate...</td>\n",
       "    </tr>\n",
       "    <tr>\n",
       "      <th>4</th>\n",
       "      <td>Fast-spreading Delta Variant, Vaccination Rate...</td>\n",
       "      <td>en</td>\n",
       "      <td>[]</td>\n",
       "      <td>[@medscape]</td>\n",
       "      <td>[https://t.co/Aia0dGOybP]</td>\n",
       "      <td>[Fast-spreading, Delta, Variant, Vaccination, ...</td>\n",
       "    </tr>\n",
       "    <tr>\n",
       "      <th>...</th>\n",
       "      <td>...</td>\n",
       "      <td>...</td>\n",
       "      <td>...</td>\n",
       "      <td>...</td>\n",
       "      <td>...</td>\n",
       "      <td>...</td>\n",
       "    </tr>\n",
       "    <tr>\n",
       "      <th>1988</th>\n",
       "      <td>Double #Covid vaccines seems to protect agains...</td>\n",
       "      <td>en</td>\n",
       "      <td>[#Covid, #DeltaVariant, #COVID19, #coronavirus...</td>\n",
       "      <td>[]</td>\n",
       "      <td>[]</td>\n",
       "      <td>[Double, Covid, vaccines, seems, to, protect, ...</td>\n",
       "    </tr>\n",
       "    <tr>\n",
       "      <th>1989</th>\n",
       "      <td>Done with both the doses of Covid 19 vaccine.\\...</td>\n",
       "      <td>en</td>\n",
       "      <td>[#Vaccinated]</td>\n",
       "      <td>[]</td>\n",
       "      <td>[]</td>\n",
       "      <td>[Done, with, both, the, doses, of, Covid, 19, ...</td>\n",
       "    </tr>\n",
       "    <tr>\n",
       "      <th>1990</th>\n",
       "      <td>Saluting the real worriers of COVID 19….\\n#doc...</td>\n",
       "      <td>en</td>\n",
       "      <td>[#doctor, #health, #heal, #positivevibes, #hap...</td>\n",
       "      <td>[@]</td>\n",
       "      <td>[]</td>\n",
       "      <td>[Saluting, the, real, worriers, of, COVID, 19…...</td>\n",
       "    </tr>\n",
       "    <tr>\n",
       "      <th>1991</th>\n",
       "      <td>@HardeepSPuri\\n sir passengers who have been f...</td>\n",
       "      <td>en</td>\n",
       "      <td>[#vaccinated, #COVID]</td>\n",
       "      <td>[@HardeepSPuri]</td>\n",
       "      <td>[]</td>\n",
       "      <td>[HardeepSPuri, sir, passengers, who, have, bee...</td>\n",
       "    </tr>\n",
       "    <tr>\n",
       "      <th>1992</th>\n",
       "      <td>“Warm wishes on Doctor’s Day to all the doctor...</td>\n",
       "      <td>en</td>\n",
       "      <td>[#DoctorsDay, #NationalDoctorsDay, #grateful, ...</td>\n",
       "      <td>[]</td>\n",
       "      <td>[https://lafiestacatering.in]</td>\n",
       "      <td>[“, Warm, wishes, on, Doctor, ’, s, Day, to, a...</td>\n",
       "    </tr>\n",
       "  </tbody>\n",
       "</table>\n",
       "<p>1993 rows × 6 columns</p>\n",
       "</div>"
      ],
      "text/plain": [
       "                                                  tweet language  \\\n",
       "0     @anileshmahajan @tsrawatbjp @TIRATHSRAWAT @BJP...       en   \n",
       "1     Uggah: Sarawak still free of Covid-19 Delta va...       en   \n",
       "2          @RomainSandro Following Covid 19 guidelines.       en   \n",
       "3     My parents, senior citizens and vaccinated are...       en   \n",
       "4     Fast-spreading Delta Variant, Vaccination Rate...       en   \n",
       "...                                                 ...      ...   \n",
       "1988  Double #Covid vaccines seems to protect agains...       en   \n",
       "1989  Done with both the doses of Covid 19 vaccine.\\...       en   \n",
       "1990  Saluting the real worriers of COVID 19….\\n#doc...       en   \n",
       "1991  @HardeepSPuri\\n sir passengers who have been f...       en   \n",
       "1992  “Warm wishes on Doctor’s Day to all the doctor...       en   \n",
       "\n",
       "                                                hastags  \\\n",
       "0                                                    []   \n",
       "1                                                    []   \n",
       "2                                                    []   \n",
       "3                                                    []   \n",
       "4                                                    []   \n",
       "...                                                 ...   \n",
       "1988  [#Covid, #DeltaVariant, #COVID19, #coronavirus...   \n",
       "1989                                      [#Vaccinated]   \n",
       "1990  [#doctor, #health, #heal, #positivevibes, #hap...   \n",
       "1991                              [#vaccinated, #COVID]   \n",
       "1992  [#DoctorsDay, #NationalDoctorsDay, #grateful, ...   \n",
       "\n",
       "                                              attherate  \\\n",
       "0     [@anileshmahajan, @tsrawatbjp, @TIRATHSRAWAT, ...   \n",
       "1                                                    []   \n",
       "2                                       [@RomainSandro]   \n",
       "3                  [@PMOIndia, @AiFlywith, @airindiain]   \n",
       "4                                           [@medscape]   \n",
       "...                                                 ...   \n",
       "1988                                                 []   \n",
       "1989                                                 []   \n",
       "1990                                                [@]   \n",
       "1991                                    [@HardeepSPuri]   \n",
       "1992                                                 []   \n",
       "\n",
       "                               urls  \\\n",
       "0                                []   \n",
       "1         [https://t.co/BtjONCXGgI]   \n",
       "2                                []   \n",
       "3                                []   \n",
       "4         [https://t.co/Aia0dGOybP]   \n",
       "...                             ...   \n",
       "1988                             []   \n",
       "1989                             []   \n",
       "1990                             []   \n",
       "1991                             []   \n",
       "1992  [https://lafiestacatering.in]   \n",
       "\n",
       "                                        tokenized_Tweet  \n",
       "0     [anileshmahajan, tsrawatbjp, TIRATHSRAWAT, BJP...  \n",
       "1     [Uggah, Sarawak, still, free, of, Covid-19, De...  \n",
       "2      [RomainSandro, Following, Covid, 19, guidelines]  \n",
       "3     [My, parents, senior, citizens, and, vaccinate...  \n",
       "4     [Fast-spreading, Delta, Variant, Vaccination, ...  \n",
       "...                                                 ...  \n",
       "1988  [Double, Covid, vaccines, seems, to, protect, ...  \n",
       "1989  [Done, with, both, the, doses, of, Covid, 19, ...  \n",
       "1990  [Saluting, the, real, worriers, of, COVID, 19…...  \n",
       "1991  [HardeepSPuri, sir, passengers, who, have, bee...  \n",
       "1992  [“, Warm, wishes, on, Doctor, ’, s, Day, to, a...  \n",
       "\n",
       "[1993 rows x 6 columns]"
      ]
     },
     "execution_count": 53,
     "metadata": {},
     "output_type": "execute_result"
    }
   ],
   "source": [
    "JulyTweet"
   ]
  },
  {
   "cell_type": "markdown",
   "metadata": {},
   "source": [
    "### ------Removing stopwords------- ###"
   ]
  },
  {
   "cell_type": "code",
   "execution_count": 55,
   "metadata": {},
   "outputs": [],
   "source": [
    "JulyTweet['filteredToken']=np.nan"
   ]
  },
  {
   "cell_type": "code",
   "execution_count": 60,
   "metadata": {},
   "outputs": [
    {
     "name": "stderr",
     "output_type": "stream",
     "text": [
      "<ipython-input-60-bf3403e0181f>:3: SettingWithCopyWarning: \n",
      "A value is trying to be set on a copy of a slice from a DataFrame\n",
      "\n",
      "See the caveats in the documentation: https://pandas.pydata.org/pandas-docs/stable/user_guide/indexing.html#returning-a-view-versus-a-copy\n",
      "  JulyTweet['filteredToken'][0]=list(text_set-stop_set)\n",
      "C:\\Users\\AYUSH\\anaconda3\\lib\\site-packages\\pandas\\core\\indexing.py:1637: SettingWithCopyWarning: \n",
      "A value is trying to be set on a copy of a slice from a DataFrame\n",
      "\n",
      "See the caveats in the documentation: https://pandas.pydata.org/pandas-docs/stable/user_guide/indexing.html#returning-a-view-versus-a-copy\n",
      "  self._setitem_single_block(indexer, value, name)\n"
     ]
    }
   ],
   "source": [
    "text_set=set(JulyTweet['tokenized_Tweet'][0])\n",
    "stop_set=set(stopwords.words(\"english\"))\n",
    "JulyTweet['filteredToken'][0]=list(text_set-stop_set)"
   ]
  },
  {
   "cell_type": "code",
   "execution_count": 62,
   "metadata": {},
   "outputs": [
    {
     "data": {
      "text/plain": [
       "WordList(['anileshmahajan', 'tsrawatbjp', 'TIRATHSRAWAT', 'BJP4India', 'It', 'is', 'showing', 'complete', 'mess', 'in', 'power', 'hierarchy', 'of', 'BJP', 'which', 'is', 'seemingly', 'rattled', 'by', 'inappropriate', 'handling', 'of', 'covid', '2nd', 'wave'])"
      ]
     },
     "execution_count": 62,
     "metadata": {},
     "output_type": "execute_result"
    }
   ],
   "source": [
    "JulyTweet['tokenized_Tweet'][0]"
   ]
  },
  {
   "cell_type": "code",
   "execution_count": 61,
   "metadata": {},
   "outputs": [
    {
     "data": {
      "text/plain": [
       "['anileshmahajan',\n",
       " 'BJP',\n",
       " 'rattled',\n",
       " 'inappropriate',\n",
       " 'complete',\n",
       " 'tsrawatbjp',\n",
       " 'handling',\n",
       " 'wave',\n",
       " 'It',\n",
       " 'showing',\n",
       " 'seemingly',\n",
       " '2nd',\n",
       " 'BJP4India',\n",
       " 'TIRATHSRAWAT',\n",
       " 'covid',\n",
       " 'power',\n",
       " 'hierarchy',\n",
       " 'mess']"
      ]
     },
     "execution_count": 61,
     "metadata": {},
     "output_type": "execute_result"
    }
   ],
   "source": [
    "JulyTweet['filteredToken'][0]"
   ]
  },
  {
   "cell_type": "code",
   "execution_count": 63,
   "metadata": {},
   "outputs": [],
   "source": [
    "stop_set=set(stopwords.words(\"english\"))\n",
    "for i in range(0,1993):\n",
    "    text_set=set(JulyTweet['tokenized_Tweet'][i])\n",
    "    JulyTweet['filteredToken'][i]=list(text_set-stop_set)#set difference operation"
   ]
  },
  {
   "cell_type": "code",
   "execution_count": 64,
   "metadata": {},
   "outputs": [
    {
     "data": {
      "text/html": [
       "<div>\n",
       "<style scoped>\n",
       "    .dataframe tbody tr th:only-of-type {\n",
       "        vertical-align: middle;\n",
       "    }\n",
       "\n",
       "    .dataframe tbody tr th {\n",
       "        vertical-align: top;\n",
       "    }\n",
       "\n",
       "    .dataframe thead th {\n",
       "        text-align: right;\n",
       "    }\n",
       "</style>\n",
       "<table border=\"1\" class=\"dataframe\">\n",
       "  <thead>\n",
       "    <tr style=\"text-align: right;\">\n",
       "      <th></th>\n",
       "      <th>tweet</th>\n",
       "      <th>language</th>\n",
       "      <th>hastags</th>\n",
       "      <th>attherate</th>\n",
       "      <th>urls</th>\n",
       "      <th>tokenized_Tweet</th>\n",
       "      <th>filteredToken</th>\n",
       "    </tr>\n",
       "  </thead>\n",
       "  <tbody>\n",
       "    <tr>\n",
       "      <th>0</th>\n",
       "      <td>@anileshmahajan @tsrawatbjp @TIRATHSRAWAT @BJP...</td>\n",
       "      <td>en</td>\n",
       "      <td>[]</td>\n",
       "      <td>[@anileshmahajan, @tsrawatbjp, @TIRATHSRAWAT, ...</td>\n",
       "      <td>[]</td>\n",
       "      <td>[anileshmahajan, tsrawatbjp, TIRATHSRAWAT, BJP...</td>\n",
       "      <td>[anileshmahajan, BJP, rattled, inappropriate, ...</td>\n",
       "    </tr>\n",
       "    <tr>\n",
       "      <th>1</th>\n",
       "      <td>Uggah: Sarawak still free of Covid-19 Delta va...</td>\n",
       "      <td>en</td>\n",
       "      <td>[]</td>\n",
       "      <td>[]</td>\n",
       "      <td>[https://t.co/BtjONCXGgI]</td>\n",
       "      <td>[Uggah, Sarawak, still, free, of, Covid-19, De...</td>\n",
       "      <td>[https, Sarawak, Covid-19, still, free, varian...</td>\n",
       "    </tr>\n",
       "    <tr>\n",
       "      <th>2</th>\n",
       "      <td>@RomainSandro Following Covid 19 guidelines.</td>\n",
       "      <td>en</td>\n",
       "      <td>[]</td>\n",
       "      <td>[@RomainSandro]</td>\n",
       "      <td>[]</td>\n",
       "      <td>[RomainSandro, Following, Covid, 19, guidelines]</td>\n",
       "      <td>[Following, Covid, 19, RomainSandro, guidelines]</td>\n",
       "    </tr>\n",
       "    <tr>\n",
       "      <th>3</th>\n",
       "      <td>My parents, senior citizens and vaccinated are...</td>\n",
       "      <td>en</td>\n",
       "      <td>[]</td>\n",
       "      <td>[@PMOIndia, @AiFlywith, @airindiain]</td>\n",
       "      <td>[]</td>\n",
       "      <td>[My, parents, senior, citizens, and, vaccinate...</td>\n",
       "      <td>[PMOIndia, Blair, brother, parents, way, fligh...</td>\n",
       "    </tr>\n",
       "    <tr>\n",
       "      <th>4</th>\n",
       "      <td>Fast-spreading Delta Variant, Vaccination Rate...</td>\n",
       "      <td>en</td>\n",
       "      <td>[]</td>\n",
       "      <td>[@medscape]</td>\n",
       "      <td>[https://t.co/Aia0dGOybP]</td>\n",
       "      <td>[Fast-spreading, Delta, Variant, Vaccination, ...</td>\n",
       "      <td>[https, Variant, Weekly, Vaccination, Fast-spr...</td>\n",
       "    </tr>\n",
       "    <tr>\n",
       "      <th>...</th>\n",
       "      <td>...</td>\n",
       "      <td>...</td>\n",
       "      <td>...</td>\n",
       "      <td>...</td>\n",
       "      <td>...</td>\n",
       "      <td>...</td>\n",
       "      <td>...</td>\n",
       "    </tr>\n",
       "    <tr>\n",
       "      <th>1988</th>\n",
       "      <td>Double #Covid vaccines seems to protect agains...</td>\n",
       "      <td>en</td>\n",
       "      <td>[#Covid, #DeltaVariant, #COVID19, #coronavirus...</td>\n",
       "      <td>[]</td>\n",
       "      <td>[]</td>\n",
       "      <td>[Double, Covid, vaccines, seems, to, protect, ...</td>\n",
       "      <td>[European, VACCINE, Medicines, AFP, reports, A...</td>\n",
       "    </tr>\n",
       "    <tr>\n",
       "      <th>1989</th>\n",
       "      <td>Done with both the doses of Covid 19 vaccine.\\...</td>\n",
       "      <td>en</td>\n",
       "      <td>[#Vaccinated]</td>\n",
       "      <td>[]</td>\n",
       "      <td>[]</td>\n",
       "      <td>[Done, with, both, the, doses, of, Covid, 19, ...</td>\n",
       "      <td>[Done, doses, vaccines, yet, please, ones, Tho...</td>\n",
       "    </tr>\n",
       "    <tr>\n",
       "      <th>1990</th>\n",
       "      <td>Saluting the real worriers of COVID 19….\\n#doc...</td>\n",
       "      <td>en</td>\n",
       "      <td>[#doctor, #health, #heal, #positivevibes, #hap...</td>\n",
       "      <td>[@]</td>\n",
       "      <td>[]</td>\n",
       "      <td>[Saluting, the, real, worriers, of, COVID, 19…...</td>\n",
       "      <td>[Saluting, worriers, faith, 19…, doctor, happy...</td>\n",
       "    </tr>\n",
       "    <tr>\n",
       "      <th>1991</th>\n",
       "      <td>@HardeepSPuri\\n sir passengers who have been f...</td>\n",
       "      <td>en</td>\n",
       "      <td>[#vaccinated, #COVID]</td>\n",
       "      <td>[@HardeepSPuri]</td>\n",
       "      <td>[]</td>\n",
       "      <td>[HardeepSPuri, sir, passengers, who, have, bee...</td>\n",
       "      <td>[going, sir, HardeepSPuri, formalities, fully,...</td>\n",
       "    </tr>\n",
       "    <tr>\n",
       "      <th>1992</th>\n",
       "      <td>“Warm wishes on Doctor’s Day to all the doctor...</td>\n",
       "      <td>en</td>\n",
       "      <td>[#DoctorsDay, #NationalDoctorsDay, #grateful, ...</td>\n",
       "      <td>[]</td>\n",
       "      <td>[https://lafiestacatering.in]</td>\n",
       "      <td>[“, Warm, wishes, on, Doctor, ’, s, Day, to, a...</td>\n",
       "      <td>[lost, realheroes, covid, bring, health, “, Wa...</td>\n",
       "    </tr>\n",
       "  </tbody>\n",
       "</table>\n",
       "<p>1993 rows × 7 columns</p>\n",
       "</div>"
      ],
      "text/plain": [
       "                                                  tweet language  \\\n",
       "0     @anileshmahajan @tsrawatbjp @TIRATHSRAWAT @BJP...       en   \n",
       "1     Uggah: Sarawak still free of Covid-19 Delta va...       en   \n",
       "2          @RomainSandro Following Covid 19 guidelines.       en   \n",
       "3     My parents, senior citizens and vaccinated are...       en   \n",
       "4     Fast-spreading Delta Variant, Vaccination Rate...       en   \n",
       "...                                                 ...      ...   \n",
       "1988  Double #Covid vaccines seems to protect agains...       en   \n",
       "1989  Done with both the doses of Covid 19 vaccine.\\...       en   \n",
       "1990  Saluting the real worriers of COVID 19….\\n#doc...       en   \n",
       "1991  @HardeepSPuri\\n sir passengers who have been f...       en   \n",
       "1992  “Warm wishes on Doctor’s Day to all the doctor...       en   \n",
       "\n",
       "                                                hastags  \\\n",
       "0                                                    []   \n",
       "1                                                    []   \n",
       "2                                                    []   \n",
       "3                                                    []   \n",
       "4                                                    []   \n",
       "...                                                 ...   \n",
       "1988  [#Covid, #DeltaVariant, #COVID19, #coronavirus...   \n",
       "1989                                      [#Vaccinated]   \n",
       "1990  [#doctor, #health, #heal, #positivevibes, #hap...   \n",
       "1991                              [#vaccinated, #COVID]   \n",
       "1992  [#DoctorsDay, #NationalDoctorsDay, #grateful, ...   \n",
       "\n",
       "                                              attherate  \\\n",
       "0     [@anileshmahajan, @tsrawatbjp, @TIRATHSRAWAT, ...   \n",
       "1                                                    []   \n",
       "2                                       [@RomainSandro]   \n",
       "3                  [@PMOIndia, @AiFlywith, @airindiain]   \n",
       "4                                           [@medscape]   \n",
       "...                                                 ...   \n",
       "1988                                                 []   \n",
       "1989                                                 []   \n",
       "1990                                                [@]   \n",
       "1991                                    [@HardeepSPuri]   \n",
       "1992                                                 []   \n",
       "\n",
       "                               urls  \\\n",
       "0                                []   \n",
       "1         [https://t.co/BtjONCXGgI]   \n",
       "2                                []   \n",
       "3                                []   \n",
       "4         [https://t.co/Aia0dGOybP]   \n",
       "...                             ...   \n",
       "1988                             []   \n",
       "1989                             []   \n",
       "1990                             []   \n",
       "1991                             []   \n",
       "1992  [https://lafiestacatering.in]   \n",
       "\n",
       "                                        tokenized_Tweet  \\\n",
       "0     [anileshmahajan, tsrawatbjp, TIRATHSRAWAT, BJP...   \n",
       "1     [Uggah, Sarawak, still, free, of, Covid-19, De...   \n",
       "2      [RomainSandro, Following, Covid, 19, guidelines]   \n",
       "3     [My, parents, senior, citizens, and, vaccinate...   \n",
       "4     [Fast-spreading, Delta, Variant, Vaccination, ...   \n",
       "...                                                 ...   \n",
       "1988  [Double, Covid, vaccines, seems, to, protect, ...   \n",
       "1989  [Done, with, both, the, doses, of, Covid, 19, ...   \n",
       "1990  [Saluting, the, real, worriers, of, COVID, 19…...   \n",
       "1991  [HardeepSPuri, sir, passengers, who, have, bee...   \n",
       "1992  [“, Warm, wishes, on, Doctor, ’, s, Day, to, a...   \n",
       "\n",
       "                                          filteredToken  \n",
       "0     [anileshmahajan, BJP, rattled, inappropriate, ...  \n",
       "1     [https, Sarawak, Covid-19, still, free, varian...  \n",
       "2      [Following, Covid, 19, RomainSandro, guidelines]  \n",
       "3     [PMOIndia, Blair, brother, parents, way, fligh...  \n",
       "4     [https, Variant, Weekly, Vaccination, Fast-spr...  \n",
       "...                                                 ...  \n",
       "1988  [European, VACCINE, Medicines, AFP, reports, A...  \n",
       "1989  [Done, doses, vaccines, yet, please, ones, Tho...  \n",
       "1990  [Saluting, worriers, faith, 19…, doctor, happy...  \n",
       "1991  [going, sir, HardeepSPuri, formalities, fully,...  \n",
       "1992  [lost, realheroes, covid, bring, health, “, Wa...  \n",
       "\n",
       "[1993 rows x 7 columns]"
      ]
     },
     "execution_count": 64,
     "metadata": {},
     "output_type": "execute_result"
    }
   ],
   "source": [
    "JulyTweet"
   ]
  },
  {
   "cell_type": "code",
   "execution_count": 65,
   "metadata": {},
   "outputs": [],
   "source": [
    "JulyTweet.to_csv('JulyTweet_(with Emojis and other language within eng sentence).csv')"
   ]
  }
 ],
 "metadata": {
  "kernelspec": {
   "display_name": "Python 3.9.6 64-bit",
   "language": "python",
   "name": "python3"
  },
  "language_info": {
   "codemirror_mode": {
    "name": "ipython",
    "version": 3
   },
   "file_extension": ".py",
   "mimetype": "text/x-python",
   "name": "python",
   "nbconvert_exporter": "python",
   "pygments_lexer": "ipython3",
   "version": "3.9.6"
  },
  "orig_nbformat": 4,
  "vscode": {
   "interpreter": {
    "hash": "d26dd86194e83e3a0f0b7b53bc7876e65835825a2894f08a46ba2342766fb885"
   }
  }
 },
 "nbformat": 4,
 "nbformat_minor": 2
}
