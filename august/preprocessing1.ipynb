{
 "cells": [
  {
   "cell_type": "code",
   "execution_count": 2,
   "metadata": {},
   "outputs": [
    {
     "name": "stderr",
     "output_type": "stream",
     "text": [
      "[nltk_data] Downloading package stopwords to\n",
      "[nltk_data]     C:\\Users\\AYUSH\\AppData\\Roaming\\nltk_data...\n",
      "[nltk_data]   Package stopwords is already up-to-date!\n"
     ]
    }
   ],
   "source": [
    "import pandas as pd\n",
    "import numpy as np\n",
    "import math\n",
    "from textblob import TextBlob as tb\n",
    "import re\n",
    "from nltk.corpus import stopwords\n",
    "import nltk\n",
    "nltk.download('stopwords')\n",
    "import neattext.functions as nfx\n",
    "import emoji\n",
    "import advertools as adv\n",
    "import matplotlib.pyplot as plt"
   ]
  },
  {
   "cell_type": "code",
   "execution_count": 3,
   "metadata": {},
   "outputs": [],
   "source": [
    "august=pd.read_csv('AUGUSTFINALTWEET(RAW).csv')"
   ]
  },
  {
   "cell_type": "code",
   "execution_count": 4,
   "metadata": {},
   "outputs": [
    {
     "data": {
      "text/plain": [
       "Index(['created_at', 'username', 'tweet', 'language', 'replies_count',\n",
       "       'retweets_count', 'likes_count'],\n",
       "      dtype='object')"
      ]
     },
     "execution_count": 4,
     "metadata": {},
     "output_type": "execute_result"
    }
   ],
   "source": [
    "august.columns"
   ]
  },
  {
   "cell_type": "code",
   "execution_count": 5,
   "metadata": {},
   "outputs": [
    {
     "data": {
      "text/plain": [
       "(3025, 7)"
      ]
     },
     "execution_count": 5,
     "metadata": {},
     "output_type": "execute_result"
    }
   ],
   "source": [
    "august.shape"
   ]
  },
  {
   "cell_type": "code",
   "execution_count": 6,
   "metadata": {},
   "outputs": [
    {
     "data": {
      "text/plain": [
       "(354, 7)"
      ]
     },
     "execution_count": 6,
     "metadata": {},
     "output_type": "execute_result"
    }
   ],
   "source": [
    "duplicates = august[august.duplicated()]\n",
    "duplicates.shape"
   ]
  },
  {
   "cell_type": "code",
   "execution_count": 7,
   "metadata": {},
   "outputs": [
    {
     "data": {
      "text/plain": [
       "(2671, 7)"
      ]
     },
     "execution_count": 7,
     "metadata": {},
     "output_type": "execute_result"
    }
   ],
   "source": [
    "august=august.drop_duplicates(keep='first')\n",
    "august.shape"
   ]
  },
  {
   "cell_type": "code",
   "execution_count": 8,
   "metadata": {},
   "outputs": [
    {
     "data": {
      "text/plain": [
       "array(['en', 'und', 'mr', 'ja', 'in', 'ar', 'et', 'ca', 'bn', 'hi', 'th',\n",
       "       'ur', 'te', 'gu', 'fr', 'si', 'tl', 'ht', 'vi', 'pl', 'no', 'ru',\n",
       "       'zh', 'tr', 'da', 'ro', 'es', 'ta', 'pt', 'kn', 'eu', 'it', 'fa',\n",
       "       'de', 'or', 'pa', 'fi', 'lt', 'ml', 'nl'], dtype=object)"
      ]
     },
     "execution_count": 8,
     "metadata": {},
     "output_type": "execute_result"
    }
   ],
   "source": [
    "august['language'].unique()"
   ]
  },
  {
   "cell_type": "code",
   "execution_count": 9,
   "metadata": {},
   "outputs": [
    {
     "data": {
      "text/plain": [
       "en     1698\n",
       "in      432\n",
       "hi      144\n",
       "und      94\n",
       "tl       36\n",
       "th       33\n",
       "es       30\n",
       "lt       26\n",
       "ar       20\n",
       "et       12\n",
       "ca       12\n",
       "it       10\n",
       "ur       10\n",
       "ja        9\n",
       "de        9\n",
       "fr        8\n",
       "ta        8\n",
       "si        7\n",
       "bn        7\n",
       "mr        7\n",
       "gu        6\n",
       "vi        5\n",
       "kn        5\n",
       "pl        4\n",
       "te        4\n",
       "fa        4\n",
       "pt        3\n",
       "or        3\n",
       "nl        3\n",
       "tr        3\n",
       "zh        3\n",
       "ht        3\n",
       "ro        2\n",
       "eu        2\n",
       "da        2\n",
       "fi        2\n",
       "no        2\n",
       "ru        1\n",
       "pa        1\n",
       "ml        1\n",
       "Name: language, dtype: int64"
      ]
     },
     "execution_count": 9,
     "metadata": {},
     "output_type": "execute_result"
    }
   ],
   "source": [
    "august['language'].value_counts()"
   ]
  },
  {
   "cell_type": "code",
   "execution_count": 10,
   "metadata": {},
   "outputs": [
    {
     "data": {
      "image/png": "[encoded data removed]",
      "text/plain": [
       "<Figure size 540x252 with 1 Axes>"
      ]
     },
     "metadata": {
      "needs_background": "light"
     },
     "output_type": "display_data"
    }
   ],
   "source": [
    "list1=np.array\n",
    "plt.rcParams[\"figure.figsize\"] = [7.50, 3.50]\n",
    "plt.rcParams[\"figure.autolayout\"] = True\n",
    "fig, ax = plt.subplots()\n",
    "list1=august['language'].value_counts().plot(ax=ax, kind='bar', xlabel='languages', ylabel='frequency')\n",
    "plt.show()"
   ]
  },
  {
   "cell_type": "code",
   "execution_count": 11,
   "metadata": {},
   "outputs": [
    {
     "data": {
      "image/png": "[encoded data removed]",
      "text/plain": [
       "<Figure size 540x252 with 1 Axes>"
      ]
     },
     "metadata": {
      "needs_background": "light"
     },
     "output_type": "display_data"
    }
   ],
   "source": [
    "import seaborn as sns\n",
    "import matplotlib.pyplot as plt\n",
    "plt.rcParams[\"figure.figsize\"] = [7.50, 3.50]\n",
    "lang=august['language'].value_counts().rename_axis('lang').reset_index(name='frequency')\n",
    "ax = sns.barplot(x=\"lang\", y=\"frequency\", data=lang)\n",
    "plt.title(\"August\")\n",
    "plt.xticks(rotation=90)\n",
    "plt.show()"
   ]
  },
  {
   "cell_type": "code",
   "execution_count": 11,
   "metadata": {},
   "outputs": [
    {
     "data": {
      "text/plain": [
       "(40, 2)"
      ]
     },
     "execution_count": 11,
     "metadata": {},
     "output_type": "execute_result"
    }
   ],
   "source": [
    "lang.shape"
   ]
  },
  {
   "cell_type": "code",
   "execution_count": 12,
   "metadata": {},
   "outputs": [],
   "source": [
    "for i in august['language']:\n",
    "    index_names = august[august['language']!='en' ].index\n",
    "    august.drop(index_names, inplace = True)"
   ]
  },
  {
   "cell_type": "code",
   "execution_count": 13,
   "metadata": {},
   "outputs": [
    {
     "data": {
      "image/png": "[encoded data removed]",
      "text/plain": [
       "<Figure size 540x252 with 1 Axes>"
      ]
     },
     "metadata": {
      "needs_background": "light"
     },
     "output_type": "display_data"
    }
   ],
   "source": [
    "list1=np.array\n",
    "plt.rcParams[\"figure.figsize\"] = [7.50, 3.50]\n",
    "plt.rcParams[\"figure.autolayout\"] = True\n",
    "fig, ax = plt.subplots()\n",
    "list1=august['language'].value_counts().plot(ax=ax, kind='bar', xlabel='languages', ylabel='frequency')\n",
    "plt.show()"
   ]
  },
  {
   "cell_type": "code",
   "execution_count": 14,
   "metadata": {},
   "outputs": [
    {
     "data": {
      "text/plain": [
       "(1698, 7)"
      ]
     },
     "execution_count": 14,
     "metadata": {},
     "output_type": "execute_result"
    }
   ],
   "source": [
    "august.shape"
   ]
  },
  {
   "cell_type": "code",
   "execution_count": 15,
   "metadata": {},
   "outputs": [
    {
     "data": {
      "text/html": [
       "<div>\n",
       "<style scoped>\n",
       "    .dataframe tbody tr th:only-of-type {\n",
       "        vertical-align: middle;\n",
       "    }\n",
       "\n",
       "    .dataframe tbody tr th {\n",
       "        vertical-align: top;\n",
       "    }\n",
       "\n",
       "    .dataframe thead th {\n",
       "        text-align: right;\n",
       "    }\n",
       "</style>\n",
       "<table border=\"1\" class=\"dataframe\">\n",
       "  <thead>\n",
       "    <tr style=\"text-align: right;\">\n",
       "      <th></th>\n",
       "      <th>created_at</th>\n",
       "      <th>username</th>\n",
       "      <th>tweet</th>\n",
       "      <th>language</th>\n",
       "      <th>replies_count</th>\n",
       "      <th>retweets_count</th>\n",
       "      <th>likes_count</th>\n",
       "    </tr>\n",
       "  </thead>\n",
       "  <tbody>\n",
       "    <tr>\n",
       "      <th>0</th>\n",
       "      <td>2021-08-01 08:56:28 India Standard Time</td>\n",
       "      <td>ravi4354</td>\n",
       "      <td>Line of Treatment for Covid-19 Hydroquinone  I...</td>\n",
       "      <td>en</td>\n",
       "      <td>0.0</td>\n",
       "      <td>1.0</td>\n",
       "      <td>2.0</td>\n",
       "    </tr>\n",
       "    <tr>\n",
       "      <th>1</th>\n",
       "      <td>2021-08-09 06:29:13 India Standard Time</td>\n",
       "      <td>aditidasnigam</td>\n",
       "      <td>Yes, it's Oxygen and Remdesivir Versus Hindu-M...</td>\n",
       "      <td>en</td>\n",
       "      <td>1.0</td>\n",
       "      <td>11.0</td>\n",
       "      <td>22.0</td>\n",
       "    </tr>\n",
       "    <tr>\n",
       "      <th>2</th>\n",
       "      <td>2021-08-07 11:46:13 India Standard Time</td>\n",
       "      <td>drpriyankavija1</td>\n",
       "      <td>@KDMCOfficial one of my pts needs remdesivir a...</td>\n",
       "      <td>en</td>\n",
       "      <td>0.0</td>\n",
       "      <td>0.0</td>\n",
       "      <td>0.0</td>\n",
       "    </tr>\n",
       "    <tr>\n",
       "      <th>3</th>\n",
       "      <td>2021-08-06 13:54:00 India Standard Time</td>\n",
       "      <td>adityanag2002</td>\n",
       "      <td>So many citizens across India requested you fo...</td>\n",
       "      <td>en</td>\n",
       "      <td>0.0</td>\n",
       "      <td>0.0</td>\n",
       "      <td>1.0</td>\n",
       "    </tr>\n",
       "    <tr>\n",
       "      <th>4</th>\n",
       "      <td>2021-08-05 16:39:11 India Standard Time</td>\n",
       "      <td>sanhchaupham</td>\n",
       "      <td>Remdesivir “made in India” just reached #HoChi...</td>\n",
       "      <td>en</td>\n",
       "      <td>6.0</td>\n",
       "      <td>17.0</td>\n",
       "      <td>110.0</td>\n",
       "    </tr>\n",
       "    <tr>\n",
       "      <th>...</th>\n",
       "      <td>...</td>\n",
       "      <td>...</td>\n",
       "      <td>...</td>\n",
       "      <td>...</td>\n",
       "      <td>...</td>\n",
       "      <td>...</td>\n",
       "      <td>...</td>\n",
       "    </tr>\n",
       "    <tr>\n",
       "      <th>2958</th>\n",
       "      <td>2021-08-03T04:38:06.000Z</td>\n",
       "      <td>Rajesh</td>\n",
       "      <td>I thought things would go back to normal by th...</td>\n",
       "      <td>en</td>\n",
       "      <td>2.0</td>\n",
       "      <td>NaN</td>\n",
       "      <td>7.0</td>\n",
       "    </tr>\n",
       "    <tr>\n",
       "      <th>2959</th>\n",
       "      <td>2021-08-02T10:40:34.000Z</td>\n",
       "      <td>Srishti Clinic</td>\n",
       "      <td>𝓣𝓸 𝓽𝓪𝓴𝓮 𝓸𝓻 𝓷𝓸𝓽 𝓽𝓸 𝓽𝓪𝓴𝓮 - the Covid  - 19 vac...</td>\n",
       "      <td>en</td>\n",
       "      <td>NaN</td>\n",
       "      <td>NaN</td>\n",
       "      <td>1.0</td>\n",
       "    </tr>\n",
       "    <tr>\n",
       "      <th>2960</th>\n",
       "      <td>2021-08-01T18:05:29.000Z</td>\n",
       "      <td>Sandip</td>\n",
       "      <td>US Top COVID-19 Advisor Says No New Lockdowns ...</td>\n",
       "      <td>en</td>\n",
       "      <td>NaN</td>\n",
       "      <td>NaN</td>\n",
       "      <td>NaN</td>\n",
       "    </tr>\n",
       "    <tr>\n",
       "      <th>2961</th>\n",
       "      <td>2021-08-01T12:31:20.000Z</td>\n",
       "      <td>The Era</td>\n",
       "      <td>\"How COVID-19 vaccines are being prioritized a...</td>\n",
       "      <td>en</td>\n",
       "      <td>NaN</td>\n",
       "      <td>NaN</td>\n",
       "      <td>NaN</td>\n",
       "    </tr>\n",
       "    <tr>\n",
       "      <th>3003</th>\n",
       "      <td>2021-08-25T09:39:59.000Z</td>\n",
       "      <td>Czarsportz - Global Associate Cricket World</td>\n",
       "      <td>Updated schedule announced by \\n@ICC\\n , as \\n...</td>\n",
       "      <td>en</td>\n",
       "      <td>1.0</td>\n",
       "      <td>NaN</td>\n",
       "      <td>13.0</td>\n",
       "    </tr>\n",
       "  </tbody>\n",
       "</table>\n",
       "<p>1698 rows × 7 columns</p>\n",
       "</div>"
      ],
      "text/plain": [
       "                                   created_at  \\\n",
       "0     2021-08-01 08:56:28 India Standard Time   \n",
       "1     2021-08-09 06:29:13 India Standard Time   \n",
       "2     2021-08-07 11:46:13 India Standard Time   \n",
       "3     2021-08-06 13:54:00 India Standard Time   \n",
       "4     2021-08-05 16:39:11 India Standard Time   \n",
       "...                                       ...   \n",
       "2958                 2021-08-03T04:38:06.000Z   \n",
       "2959                 2021-08-02T10:40:34.000Z   \n",
       "2960                 2021-08-01T18:05:29.000Z   \n",
       "2961                 2021-08-01T12:31:20.000Z   \n",
       "3003                 2021-08-25T09:39:59.000Z   \n",
       "\n",
       "                                         username  \\\n",
       "0                                        ravi4354   \n",
       "1                                   aditidasnigam   \n",
       "2                                 drpriyankavija1   \n",
       "3                                   adityanag2002   \n",
       "4                                    sanhchaupham   \n",
       "...                                           ...   \n",
       "2958                                       Rajesh   \n",
       "2959                               Srishti Clinic   \n",
       "2960                                       Sandip   \n",
       "2961                                      The Era   \n",
       "3003  Czarsportz - Global Associate Cricket World   \n",
       "\n",
       "                                                  tweet language  \\\n",
       "0     Line of Treatment for Covid-19 Hydroquinone  I...       en   \n",
       "1     Yes, it's Oxygen and Remdesivir Versus Hindu-M...       en   \n",
       "2     @KDMCOfficial one of my pts needs remdesivir a...       en   \n",
       "3     So many citizens across India requested you fo...       en   \n",
       "4     Remdesivir “made in India” just reached #HoChi...       en   \n",
       "...                                                 ...      ...   \n",
       "2958  I thought things would go back to normal by th...       en   \n",
       "2959    𝓣𝓸 𝓽𝓪𝓴𝓮 𝓸𝓻 𝓷𝓸𝓽 𝓽𝓸 𝓽𝓪𝓴𝓮 - the Covid  - 19 vac...       en   \n",
       "2960  US Top COVID-19 Advisor Says No New Lockdowns ...       en   \n",
       "2961  \"How COVID-19 vaccines are being prioritized a...       en   \n",
       "3003  Updated schedule announced by \\n@ICC\\n , as \\n...       en   \n",
       "\n",
       "      replies_count  retweets_count  likes_count  \n",
       "0               0.0             1.0          2.0  \n",
       "1               1.0            11.0         22.0  \n",
       "2               0.0             0.0          0.0  \n",
       "3               0.0             0.0          1.0  \n",
       "4               6.0            17.0        110.0  \n",
       "...             ...             ...          ...  \n",
       "2958            2.0             NaN          7.0  \n",
       "2959            NaN             NaN          1.0  \n",
       "2960            NaN             NaN          NaN  \n",
       "2961            NaN             NaN          NaN  \n",
       "3003            1.0             NaN         13.0  \n",
       "\n",
       "[1698 rows x 7 columns]"
      ]
     },
     "execution_count": 15,
     "metadata": {},
     "output_type": "execute_result"
    }
   ],
   "source": [
    "august"
   ]
  },
  {
   "cell_type": "code",
   "execution_count": 16,
   "metadata": {},
   "outputs": [],
   "source": [
    "august[['replies_count','retweets_count', 'likes_count']]=august[['replies_count','retweets_count', 'likes_count']].fillna(0)"
   ]
  },
  {
   "cell_type": "code",
   "execution_count": 17,
   "metadata": {},
   "outputs": [
    {
     "data": {
      "text/html": [
       "<div>\n",
       "<style scoped>\n",
       "    .dataframe tbody tr th:only-of-type {\n",
       "        vertical-align: middle;\n",
       "    }\n",
       "\n",
       "    .dataframe tbody tr th {\n",
       "        vertical-align: top;\n",
       "    }\n",
       "\n",
       "    .dataframe thead th {\n",
       "        text-align: right;\n",
       "    }\n",
       "</style>\n",
       "<table border=\"1\" class=\"dataframe\">\n",
       "  <thead>\n",
       "    <tr style=\"text-align: right;\">\n",
       "      <th></th>\n",
       "      <th>created_at</th>\n",
       "      <th>username</th>\n",
       "      <th>tweet</th>\n",
       "      <th>language</th>\n",
       "      <th>replies_count</th>\n",
       "      <th>retweets_count</th>\n",
       "      <th>likes_count</th>\n",
       "    </tr>\n",
       "  </thead>\n",
       "  <tbody>\n",
       "    <tr>\n",
       "      <th>0</th>\n",
       "      <td>2021-08-01 08:56:28 India Standard Time</td>\n",
       "      <td>ravi4354</td>\n",
       "      <td>Line of Treatment for Covid-19 Hydroquinone  I...</td>\n",
       "      <td>en</td>\n",
       "      <td>0.0</td>\n",
       "      <td>1.0</td>\n",
       "      <td>2.0</td>\n",
       "    </tr>\n",
       "    <tr>\n",
       "      <th>1</th>\n",
       "      <td>2021-08-09 06:29:13 India Standard Time</td>\n",
       "      <td>aditidasnigam</td>\n",
       "      <td>Yes, it's Oxygen and Remdesivir Versus Hindu-M...</td>\n",
       "      <td>en</td>\n",
       "      <td>1.0</td>\n",
       "      <td>11.0</td>\n",
       "      <td>22.0</td>\n",
       "    </tr>\n",
       "    <tr>\n",
       "      <th>2</th>\n",
       "      <td>2021-08-07 11:46:13 India Standard Time</td>\n",
       "      <td>drpriyankavija1</td>\n",
       "      <td>@KDMCOfficial one of my pts needs remdesivir a...</td>\n",
       "      <td>en</td>\n",
       "      <td>0.0</td>\n",
       "      <td>0.0</td>\n",
       "      <td>0.0</td>\n",
       "    </tr>\n",
       "    <tr>\n",
       "      <th>3</th>\n",
       "      <td>2021-08-06 13:54:00 India Standard Time</td>\n",
       "      <td>adityanag2002</td>\n",
       "      <td>So many citizens across India requested you fo...</td>\n",
       "      <td>en</td>\n",
       "      <td>0.0</td>\n",
       "      <td>0.0</td>\n",
       "      <td>1.0</td>\n",
       "    </tr>\n",
       "    <tr>\n",
       "      <th>4</th>\n",
       "      <td>2021-08-05 16:39:11 India Standard Time</td>\n",
       "      <td>sanhchaupham</td>\n",
       "      <td>Remdesivir “made in India” just reached #HoChi...</td>\n",
       "      <td>en</td>\n",
       "      <td>6.0</td>\n",
       "      <td>17.0</td>\n",
       "      <td>110.0</td>\n",
       "    </tr>\n",
       "    <tr>\n",
       "      <th>...</th>\n",
       "      <td>...</td>\n",
       "      <td>...</td>\n",
       "      <td>...</td>\n",
       "      <td>...</td>\n",
       "      <td>...</td>\n",
       "      <td>...</td>\n",
       "      <td>...</td>\n",
       "    </tr>\n",
       "    <tr>\n",
       "      <th>2958</th>\n",
       "      <td>2021-08-03T04:38:06.000Z</td>\n",
       "      <td>Rajesh</td>\n",
       "      <td>I thought things would go back to normal by th...</td>\n",
       "      <td>en</td>\n",
       "      <td>2.0</td>\n",
       "      <td>0.0</td>\n",
       "      <td>7.0</td>\n",
       "    </tr>\n",
       "    <tr>\n",
       "      <th>2959</th>\n",
       "      <td>2021-08-02T10:40:34.000Z</td>\n",
       "      <td>Srishti Clinic</td>\n",
       "      <td>𝓣𝓸 𝓽𝓪𝓴𝓮 𝓸𝓻 𝓷𝓸𝓽 𝓽𝓸 𝓽𝓪𝓴𝓮 - the Covid  - 19 vac...</td>\n",
       "      <td>en</td>\n",
       "      <td>0.0</td>\n",
       "      <td>0.0</td>\n",
       "      <td>1.0</td>\n",
       "    </tr>\n",
       "    <tr>\n",
       "      <th>2960</th>\n",
       "      <td>2021-08-01T18:05:29.000Z</td>\n",
       "      <td>Sandip</td>\n",
       "      <td>US Top COVID-19 Advisor Says No New Lockdowns ...</td>\n",
       "      <td>en</td>\n",
       "      <td>0.0</td>\n",
       "      <td>0.0</td>\n",
       "      <td>0.0</td>\n",
       "    </tr>\n",
       "    <tr>\n",
       "      <th>2961</th>\n",
       "      <td>2021-08-01T12:31:20.000Z</td>\n",
       "      <td>The Era</td>\n",
       "      <td>\"How COVID-19 vaccines are being prioritized a...</td>\n",
       "      <td>en</td>\n",
       "      <td>0.0</td>\n",
       "      <td>0.0</td>\n",
       "      <td>0.0</td>\n",
       "    </tr>\n",
       "    <tr>\n",
       "      <th>3003</th>\n",
       "      <td>2021-08-25T09:39:59.000Z</td>\n",
       "      <td>Czarsportz - Global Associate Cricket World</td>\n",
       "      <td>Updated schedule announced by \\n@ICC\\n , as \\n...</td>\n",
       "      <td>en</td>\n",
       "      <td>1.0</td>\n",
       "      <td>0.0</td>\n",
       "      <td>13.0</td>\n",
       "    </tr>\n",
       "  </tbody>\n",
       "</table>\n",
       "<p>1698 rows × 7 columns</p>\n",
       "</div>"
      ],
      "text/plain": [
       "                                   created_at  \\\n",
       "0     2021-08-01 08:56:28 India Standard Time   \n",
       "1     2021-08-09 06:29:13 India Standard Time   \n",
       "2     2021-08-07 11:46:13 India Standard Time   \n",
       "3     2021-08-06 13:54:00 India Standard Time   \n",
       "4     2021-08-05 16:39:11 India Standard Time   \n",
       "...                                       ...   \n",
       "2958                 2021-08-03T04:38:06.000Z   \n",
       "2959                 2021-08-02T10:40:34.000Z   \n",
       "2960                 2021-08-01T18:05:29.000Z   \n",
       "2961                 2021-08-01T12:31:20.000Z   \n",
       "3003                 2021-08-25T09:39:59.000Z   \n",
       "\n",
       "                                         username  \\\n",
       "0                                        ravi4354   \n",
       "1                                   aditidasnigam   \n",
       "2                                 drpriyankavija1   \n",
       "3                                   adityanag2002   \n",
       "4                                    sanhchaupham   \n",
       "...                                           ...   \n",
       "2958                                       Rajesh   \n",
       "2959                               Srishti Clinic   \n",
       "2960                                       Sandip   \n",
       "2961                                      The Era   \n",
       "3003  Czarsportz - Global Associate Cricket World   \n",
       "\n",
       "                                                  tweet language  \\\n",
       "0     Line of Treatment for Covid-19 Hydroquinone  I...       en   \n",
       "1     Yes, it's Oxygen and Remdesivir Versus Hindu-M...       en   \n",
       "2     @KDMCOfficial one of my pts needs remdesivir a...       en   \n",
       "3     So many citizens across India requested you fo...       en   \n",
       "4     Remdesivir “made in India” just reached #HoChi...       en   \n",
       "...                                                 ...      ...   \n",
       "2958  I thought things would go back to normal by th...       en   \n",
       "2959    𝓣𝓸 𝓽𝓪𝓴𝓮 𝓸𝓻 𝓷𝓸𝓽 𝓽𝓸 𝓽𝓪𝓴𝓮 - the Covid  - 19 vac...       en   \n",
       "2960  US Top COVID-19 Advisor Says No New Lockdowns ...       en   \n",
       "2961  \"How COVID-19 vaccines are being prioritized a...       en   \n",
       "3003  Updated schedule announced by \\n@ICC\\n , as \\n...       en   \n",
       "\n",
       "      replies_count  retweets_count  likes_count  \n",
       "0               0.0             1.0          2.0  \n",
       "1               1.0            11.0         22.0  \n",
       "2               0.0             0.0          0.0  \n",
       "3               0.0             0.0          1.0  \n",
       "4               6.0            17.0        110.0  \n",
       "...             ...             ...          ...  \n",
       "2958            2.0             0.0          7.0  \n",
       "2959            0.0             0.0          1.0  \n",
       "2960            0.0             0.0          0.0  \n",
       "2961            0.0             0.0          0.0  \n",
       "3003            1.0             0.0         13.0  \n",
       "\n",
       "[1698 rows x 7 columns]"
      ]
     },
     "execution_count": 17,
     "metadata": {},
     "output_type": "execute_result"
    }
   ],
   "source": [
    "august"
   ]
  },
  {
   "cell_type": "code",
   "execution_count": 18,
   "metadata": {},
   "outputs": [],
   "source": [
    "AugustTweet=august[['tweet','language']]"
   ]
  },
  {
   "cell_type": "code",
   "execution_count": 19,
   "metadata": {},
   "outputs": [
    {
     "data": {
      "text/html": [
       "<div>\n",
       "<style scoped>\n",
       "    .dataframe tbody tr th:only-of-type {\n",
       "        vertical-align: middle;\n",
       "    }\n",
       "\n",
       "    .dataframe tbody tr th {\n",
       "        vertical-align: top;\n",
       "    }\n",
       "\n",
       "    .dataframe thead th {\n",
       "        text-align: right;\n",
       "    }\n",
       "</style>\n",
       "<table border=\"1\" class=\"dataframe\">\n",
       "  <thead>\n",
       "    <tr style=\"text-align: right;\">\n",
       "      <th></th>\n",
       "      <th>tweet</th>\n",
       "      <th>language</th>\n",
       "    </tr>\n",
       "  </thead>\n",
       "  <tbody>\n",
       "    <tr>\n",
       "      <th>0</th>\n",
       "      <td>Line of Treatment for Covid-19 Hydroquinone  I...</td>\n",
       "      <td>en</td>\n",
       "    </tr>\n",
       "    <tr>\n",
       "      <th>1</th>\n",
       "      <td>Yes, it's Oxygen and Remdesivir Versus Hindu-M...</td>\n",
       "      <td>en</td>\n",
       "    </tr>\n",
       "    <tr>\n",
       "      <th>2</th>\n",
       "      <td>@KDMCOfficial one of my pts needs remdesivir a...</td>\n",
       "      <td>en</td>\n",
       "    </tr>\n",
       "    <tr>\n",
       "      <th>3</th>\n",
       "      <td>So many citizens across India requested you fo...</td>\n",
       "      <td>en</td>\n",
       "    </tr>\n",
       "    <tr>\n",
       "      <th>4</th>\n",
       "      <td>Remdesivir “made in India” just reached #HoChi...</td>\n",
       "      <td>en</td>\n",
       "    </tr>\n",
       "    <tr>\n",
       "      <th>...</th>\n",
       "      <td>...</td>\n",
       "      <td>...</td>\n",
       "    </tr>\n",
       "    <tr>\n",
       "      <th>2958</th>\n",
       "      <td>I thought things would go back to normal by th...</td>\n",
       "      <td>en</td>\n",
       "    </tr>\n",
       "    <tr>\n",
       "      <th>2959</th>\n",
       "      <td>𝓣𝓸 𝓽𝓪𝓴𝓮 𝓸𝓻 𝓷𝓸𝓽 𝓽𝓸 𝓽𝓪𝓴𝓮 - the Covid  - 19 vac...</td>\n",
       "      <td>en</td>\n",
       "    </tr>\n",
       "    <tr>\n",
       "      <th>2960</th>\n",
       "      <td>US Top COVID-19 Advisor Says No New Lockdowns ...</td>\n",
       "      <td>en</td>\n",
       "    </tr>\n",
       "    <tr>\n",
       "      <th>2961</th>\n",
       "      <td>\"How COVID-19 vaccines are being prioritized a...</td>\n",
       "      <td>en</td>\n",
       "    </tr>\n",
       "    <tr>\n",
       "      <th>3003</th>\n",
       "      <td>Updated schedule announced by \\n@ICC\\n , as \\n...</td>\n",
       "      <td>en</td>\n",
       "    </tr>\n",
       "  </tbody>\n",
       "</table>\n",
       "<p>1698 rows × 2 columns</p>\n",
       "</div>"
      ],
      "text/plain": [
       "                                                  tweet language\n",
       "0     Line of Treatment for Covid-19 Hydroquinone  I...       en\n",
       "1     Yes, it's Oxygen and Remdesivir Versus Hindu-M...       en\n",
       "2     @KDMCOfficial one of my pts needs remdesivir a...       en\n",
       "3     So many citizens across India requested you fo...       en\n",
       "4     Remdesivir “made in India” just reached #HoChi...       en\n",
       "...                                                 ...      ...\n",
       "2958  I thought things would go back to normal by th...       en\n",
       "2959    𝓣𝓸 𝓽𝓪𝓴𝓮 𝓸𝓻 𝓷𝓸𝓽 𝓽𝓸 𝓽𝓪𝓴𝓮 - the Covid  - 19 vac...       en\n",
       "2960  US Top COVID-19 Advisor Says No New Lockdowns ...       en\n",
       "2961  \"How COVID-19 vaccines are being prioritized a...       en\n",
       "3003  Updated schedule announced by \\n@ICC\\n , as \\n...       en\n",
       "\n",
       "[1698 rows x 2 columns]"
      ]
     },
     "execution_count": 19,
     "metadata": {},
     "output_type": "execute_result"
    }
   ],
   "source": [
    "AugustTweet"
   ]
  },
  {
   "cell_type": "code",
   "execution_count": 20,
   "metadata": {},
   "outputs": [],
   "source": [
    "AugustTweet=AugustTweet.reset_index(level=None, drop=False, inplace=False, col_level=0, col_fill='')"
   ]
  },
  {
   "cell_type": "code",
   "execution_count": 21,
   "metadata": {},
   "outputs": [],
   "source": [
    "AugustTweet.drop(['index'],axis=1,inplace=True)"
   ]
  },
  {
   "cell_type": "code",
   "execution_count": 22,
   "metadata": {},
   "outputs": [
    {
     "data": {
      "text/html": [
       "<div>\n",
       "<style scoped>\n",
       "    .dataframe tbody tr th:only-of-type {\n",
       "        vertical-align: middle;\n",
       "    }\n",
       "\n",
       "    .dataframe tbody tr th {\n",
       "        vertical-align: top;\n",
       "    }\n",
       "\n",
       "    .dataframe thead th {\n",
       "        text-align: right;\n",
       "    }\n",
       "</style>\n",
       "<table border=\"1\" class=\"dataframe\">\n",
       "  <thead>\n",
       "    <tr style=\"text-align: right;\">\n",
       "      <th></th>\n",
       "      <th>tweet</th>\n",
       "      <th>language</th>\n",
       "    </tr>\n",
       "  </thead>\n",
       "  <tbody>\n",
       "    <tr>\n",
       "      <th>0</th>\n",
       "      <td>Line of Treatment for Covid-19 Hydroquinone  I...</td>\n",
       "      <td>en</td>\n",
       "    </tr>\n",
       "    <tr>\n",
       "      <th>1</th>\n",
       "      <td>Yes, it's Oxygen and Remdesivir Versus Hindu-M...</td>\n",
       "      <td>en</td>\n",
       "    </tr>\n",
       "    <tr>\n",
       "      <th>2</th>\n",
       "      <td>@KDMCOfficial one of my pts needs remdesivir a...</td>\n",
       "      <td>en</td>\n",
       "    </tr>\n",
       "    <tr>\n",
       "      <th>3</th>\n",
       "      <td>So many citizens across India requested you fo...</td>\n",
       "      <td>en</td>\n",
       "    </tr>\n",
       "    <tr>\n",
       "      <th>4</th>\n",
       "      <td>Remdesivir “made in India” just reached #HoChi...</td>\n",
       "      <td>en</td>\n",
       "    </tr>\n",
       "    <tr>\n",
       "      <th>...</th>\n",
       "      <td>...</td>\n",
       "      <td>...</td>\n",
       "    </tr>\n",
       "    <tr>\n",
       "      <th>1693</th>\n",
       "      <td>I thought things would go back to normal by th...</td>\n",
       "      <td>en</td>\n",
       "    </tr>\n",
       "    <tr>\n",
       "      <th>1694</th>\n",
       "      <td>𝓣𝓸 𝓽𝓪𝓴𝓮 𝓸𝓻 𝓷𝓸𝓽 𝓽𝓸 𝓽𝓪𝓴𝓮 - the Covid  - 19 vac...</td>\n",
       "      <td>en</td>\n",
       "    </tr>\n",
       "    <tr>\n",
       "      <th>1695</th>\n",
       "      <td>US Top COVID-19 Advisor Says No New Lockdowns ...</td>\n",
       "      <td>en</td>\n",
       "    </tr>\n",
       "    <tr>\n",
       "      <th>1696</th>\n",
       "      <td>\"How COVID-19 vaccines are being prioritized a...</td>\n",
       "      <td>en</td>\n",
       "    </tr>\n",
       "    <tr>\n",
       "      <th>1697</th>\n",
       "      <td>Updated schedule announced by \\n@ICC\\n , as \\n...</td>\n",
       "      <td>en</td>\n",
       "    </tr>\n",
       "  </tbody>\n",
       "</table>\n",
       "<p>1698 rows × 2 columns</p>\n",
       "</div>"
      ],
      "text/plain": [
       "                                                  tweet language\n",
       "0     Line of Treatment for Covid-19 Hydroquinone  I...       en\n",
       "1     Yes, it's Oxygen and Remdesivir Versus Hindu-M...       en\n",
       "2     @KDMCOfficial one of my pts needs remdesivir a...       en\n",
       "3     So many citizens across India requested you fo...       en\n",
       "4     Remdesivir “made in India” just reached #HoChi...       en\n",
       "...                                                 ...      ...\n",
       "1693  I thought things would go back to normal by th...       en\n",
       "1694    𝓣𝓸 𝓽𝓪𝓴𝓮 𝓸𝓻 𝓷𝓸𝓽 𝓽𝓸 𝓽𝓪𝓴𝓮 - the Covid  - 19 vac...       en\n",
       "1695  US Top COVID-19 Advisor Says No New Lockdowns ...       en\n",
       "1696  \"How COVID-19 vaccines are being prioritized a...       en\n",
       "1697  Updated schedule announced by \\n@ICC\\n , as \\n...       en\n",
       "\n",
       "[1698 rows x 2 columns]"
      ]
     },
     "execution_count": 22,
     "metadata": {},
     "output_type": "execute_result"
    }
   ],
   "source": [
    "AugustTweet"
   ]
  },
  {
   "cell_type": "code",
   "execution_count": 23,
   "metadata": {},
   "outputs": [],
   "source": [
    "AugustTweet.to_csv(\"AugustTweet.csv\")"
   ]
  },
  {
   "cell_type": "markdown",
   "metadata": {},
   "source": [
    "### -----Extract Hastags-----"
   ]
  },
  {
   "cell_type": "code",
   "execution_count": 24,
   "metadata": {},
   "outputs": [],
   "source": [
    "AugustTweet['hastags']=np.nan"
   ]
  },
  {
   "cell_type": "code",
   "execution_count": 25,
   "metadata": {},
   "outputs": [],
   "source": [
    "def extract_hastags(text,i=0):\n",
    "    hashtag_list = []\n",
    "    for word in text.split():\n",
    "        if word[0] == '#':\n",
    "            hashtag_list.append(word[0:])\n",
    "    AugustTweet['hastags'][i]=hashtag_list"
   ]
  },
  {
   "cell_type": "code",
   "execution_count": 26,
   "metadata": {},
   "outputs": [
    {
     "name": "stdout",
     "output_type": "stream",
     "text": [
      "RangeIndex(start=0, stop=1698, step=1)\n"
     ]
    }
   ],
   "source": [
    "index=AugustTweet.index\n",
    "print(index)"
   ]
  },
  {
   "cell_type": "code",
   "execution_count": 29,
   "metadata": {},
   "outputs": [
    {
     "data": {
      "text/plain": [
       "'The many facets of cutaneous manifestations of #COVID19 #medtwitter #dermtwitter #SARSCoV2 #Sars_Cov_2 #skin #hairfall #Corona'"
      ]
     },
     "execution_count": 29,
     "metadata": {},
     "output_type": "execute_result"
    }
   ],
   "source": [
    "AugustTweet['tweet'][33]"
   ]
  },
  {
   "cell_type": "code",
   "execution_count": 30,
   "metadata": {},
   "outputs": [
    {
     "name": "stderr",
     "output_type": "stream",
     "text": [
      "<ipython-input-25-9982ec90058f>:6: SettingWithCopyWarning: \n",
      "A value is trying to be set on a copy of a slice from a DataFrame\n",
      "\n",
      "See the caveats in the documentation: https://pandas.pydata.org/pandas-docs/stable/user_guide/indexing.html#returning-a-view-versus-a-copy\n",
      "  AugustTweet['hastags'][i]=hashtag_list\n"
     ]
    }
   ],
   "source": [
    "extract_hastags(AugustTweet['tweet'][33],33)"
   ]
  },
  {
   "cell_type": "code",
   "execution_count": 31,
   "metadata": {},
   "outputs": [
    {
     "data": {
      "text/plain": [
       "['#COVID19',\n",
       " '#medtwitter',\n",
       " '#dermtwitter',\n",
       " '#SARSCoV2',\n",
       " '#Sars_Cov_2',\n",
       " '#skin',\n",
       " '#hairfall',\n",
       " '#Corona']"
      ]
     },
     "execution_count": 31,
     "metadata": {},
     "output_type": "execute_result"
    }
   ],
   "source": [
    "AugustTweet['hastags'][33]"
   ]
  },
  {
   "cell_type": "code",
   "execution_count": 32,
   "metadata": {},
   "outputs": [],
   "source": [
    "for i in range(0,1698):\n",
    "    text=AugustTweet['tweet'][i]\n",
    "    extract_hastags(text,i)"
   ]
  },
  {
   "cell_type": "code",
   "execution_count": 33,
   "metadata": {},
   "outputs": [
    {
     "data": {
      "text/plain": [
       "0                                                      []\n",
       "1                                                      []\n",
       "2                                                      []\n",
       "3                                                      []\n",
       "4                                        [#HoChiMinhCity]\n",
       "                              ...                        \n",
       "1693                                                   []\n",
       "1694    [#gynaehealth, #Bangladesh, #WestBengal, #ivf,...\n",
       "1695                                                   []\n",
       "1696                                                   []\n",
       "1697                                                   []\n",
       "Name: hastags, Length: 1698, dtype: object"
      ]
     },
     "execution_count": 33,
     "metadata": {},
     "output_type": "execute_result"
    }
   ],
   "source": [
    "AugustTweet['hastags']"
   ]
  },
  {
   "cell_type": "markdown",
   "metadata": {},
   "source": [
    "### ----Extract @userHandles----"
   ]
  },
  {
   "cell_type": "code",
   "execution_count": 44,
   "metadata": {},
   "outputs": [],
   "source": [
    "AugustTweet['attherate']=np.nan"
   ]
  },
  {
   "cell_type": "code",
   "execution_count": 45,
   "metadata": {},
   "outputs": [],
   "source": [
    "def extract_at_the_rate(text,i=0):\n",
    "    list1= []\n",
    "    for word in text.split():\n",
    "        if word[0] == '@':\n",
    "            list1.append(word[0:])\n",
    "    AugustTweet['attherate'][i]=list1"
   ]
  },
  {
   "cell_type": "code",
   "execution_count": 46,
   "metadata": {},
   "outputs": [
    {
     "name": "stderr",
     "output_type": "stream",
     "text": [
      "<ipython-input-45-3e79cb50275a>:6: SettingWithCopyWarning: \n",
      "A value is trying to be set on a copy of a slice from a DataFrame\n",
      "\n",
      "See the caveats in the documentation: https://pandas.pydata.org/pandas-docs/stable/user_guide/indexing.html#returning-a-view-versus-a-copy\n",
      "  AugustTweet['attherate'][i]=list1\n",
      "C:\\Users\\AYUSH\\anaconda3\\lib\\site-packages\\pandas\\core\\indexing.py:1637: SettingWithCopyWarning: \n",
      "A value is trying to be set on a copy of a slice from a DataFrame\n",
      "\n",
      "See the caveats in the documentation: https://pandas.pydata.org/pandas-docs/stable/user_guide/indexing.html#returning-a-view-versus-a-copy\n",
      "  self._setitem_single_block(indexer, value, name)\n"
     ]
    }
   ],
   "source": [
    "extract_at_the_rate(AugustTweet['tweet'][10],10)"
   ]
  },
  {
   "cell_type": "code",
   "execution_count": 47,
   "metadata": {},
   "outputs": [],
   "source": [
    "for i in range(0,1698):\n",
    "    text=AugustTweet['tweet'][i]\n",
    "    extract_at_the_rate(text,i)"
   ]
  },
  {
   "cell_type": "code",
   "execution_count": 48,
   "metadata": {},
   "outputs": [
    {
     "data": {
      "text/plain": [
       "0                           []\n",
       "1                           []\n",
       "2              [@KDMCOfficial]\n",
       "3                           []\n",
       "4                           []\n",
       "                 ...          \n",
       "1693                        []\n",
       "1694                        []\n",
       "1695                        []\n",
       "1696                        []\n",
       "1697    [@ICC, @cricketturkey]\n",
       "Name: attherate, Length: 1698, dtype: object"
      ]
     },
     "execution_count": 48,
     "metadata": {},
     "output_type": "execute_result"
    }
   ],
   "source": [
    "AugustTweet['attherate']"
   ]
  },
  {
   "cell_type": "code",
   "execution_count": 49,
   "metadata": {},
   "outputs": [],
   "source": [
    "AugustTweet.to_csv('AugustTweet.csv')"
   ]
  },
  {
   "cell_type": "markdown",
   "metadata": {},
   "source": [
    "### ----Extracting URLs----"
   ]
  },
  {
   "cell_type": "code",
   "execution_count": 50,
   "metadata": {},
   "outputs": [],
   "source": [
    "AugustTweet['urls']=np.nan"
   ]
  },
  {
   "cell_type": "code",
   "execution_count": 51,
   "metadata": {},
   "outputs": [],
   "source": [
    "def extract_urls(text,i=0):\n",
    "    attherate_list = []\n",
    "    for word in text.split():\n",
    "        if word[0:5] == 'https':\n",
    "            attherate_list.append(word[0:])\n",
    "    AugustTweet['urls'][i]=attherate_list"
   ]
  },
  {
   "cell_type": "code",
   "execution_count": 52,
   "metadata": {},
   "outputs": [
    {
     "data": {
      "text/plain": [
       "'Remdesivir “made in India” just reached #HoChiMinhCity to help flight Covid 19.  https://t.co/nbaFUWscbw'"
      ]
     },
     "execution_count": 52,
     "metadata": {},
     "output_type": "execute_result"
    }
   ],
   "source": [
    "AugustTweet['tweet'][4]"
   ]
  },
  {
   "cell_type": "code",
   "execution_count": 53,
   "metadata": {},
   "outputs": [
    {
     "name": "stderr",
     "output_type": "stream",
     "text": [
      "<ipython-input-51-1785e1e5001c>:6: SettingWithCopyWarning: \n",
      "A value is trying to be set on a copy of a slice from a DataFrame\n",
      "\n",
      "See the caveats in the documentation: https://pandas.pydata.org/pandas-docs/stable/user_guide/indexing.html#returning-a-view-versus-a-copy\n",
      "  AugustTweet['urls'][i]=attherate_list\n",
      "C:\\Users\\AYUSH\\anaconda3\\lib\\site-packages\\pandas\\core\\indexing.py:1637: SettingWithCopyWarning: \n",
      "A value is trying to be set on a copy of a slice from a DataFrame\n",
      "\n",
      "See the caveats in the documentation: https://pandas.pydata.org/pandas-docs/stable/user_guide/indexing.html#returning-a-view-versus-a-copy\n",
      "  self._setitem_single_block(indexer, value, name)\n"
     ]
    }
   ],
   "source": [
    "\n",
    "extract_urls(AugustTweet['tweet'][4],4 )"
   ]
  },
  {
   "cell_type": "code",
   "execution_count": 54,
   "metadata": {},
   "outputs": [],
   "source": [
    "for i in range(0,1698):\n",
    "    text=AugustTweet['tweet'][i]\n",
    "    extract_urls(text,i)"
   ]
  },
  {
   "cell_type": "code",
   "execution_count": 55,
   "metadata": {},
   "outputs": [
    {
     "data": {
      "text/plain": [
       "0                              []\n",
       "1                              []\n",
       "2                              []\n",
       "3                              []\n",
       "4       [https://t.co/nbaFUWscbw]\n",
       "                  ...            \n",
       "1693                           []\n",
       "1694                           []\n",
       "1695                           []\n",
       "1696                           []\n",
       "1697                           []\n",
       "Name: urls, Length: 1698, dtype: object"
      ]
     },
     "execution_count": 55,
     "metadata": {},
     "output_type": "execute_result"
    }
   ],
   "source": [
    "AugustTweet['urls']"
   ]
  },
  {
   "cell_type": "code",
   "execution_count": 57,
   "metadata": {},
   "outputs": [],
   "source": [
    "AugustTweet.to_csv('AugustTweet.csv')"
   ]
  },
  {
   "cell_type": "code",
   "execution_count": 58,
   "metadata": {},
   "outputs": [],
   "source": [
    "AugustTweet['tokenized_Tweet']=np.nan"
   ]
  },
  {
   "cell_type": "code",
   "execution_count": 59,
   "metadata": {},
   "outputs": [],
   "source": [
    "def tokenizing(text,i=0):\n",
    "    text=tb(text)\n",
    "    token_text=text.words\n",
    "    token_text\n",
    "    AugustTweet['tokenized_Tweet'][i]=token_text"
   ]
  },
  {
   "cell_type": "code",
   "execution_count": 60,
   "metadata": {},
   "outputs": [
    {
     "name": "stderr",
     "output_type": "stream",
     "text": [
      "<ipython-input-59-6816798d0f9c>:5: SettingWithCopyWarning: \n",
      "A value is trying to be set on a copy of a slice from a DataFrame\n",
      "\n",
      "See the caveats in the documentation: https://pandas.pydata.org/pandas-docs/stable/user_guide/indexing.html#returning-a-view-versus-a-copy\n",
      "  AugustTweet['tokenized_Tweet'][i]=token_text\n",
      "C:\\Users\\AYUSH\\anaconda3\\lib\\site-packages\\pandas\\core\\indexing.py:1637: SettingWithCopyWarning: \n",
      "A value is trying to be set on a copy of a slice from a DataFrame\n",
      "\n",
      "See the caveats in the documentation: https://pandas.pydata.org/pandas-docs/stable/user_guide/indexing.html#returning-a-view-versus-a-copy\n",
      "  self._setitem_single_block(indexer, value, name)\n"
     ]
    }
   ],
   "source": [
    "tokenizing(AugustTweet['tweet'][0],0)"
   ]
  },
  {
   "cell_type": "code",
   "execution_count": 61,
   "metadata": {},
   "outputs": [
    {
     "data": {
      "text/plain": [
       "WordList(['Line', 'of', 'Treatment', 'for', 'Covid-19', 'Hydroquinone', 'Ivermectin', 'Zincovit', 'Celine', 'Vit.C', 'Paracetamol', 'Doxy', 'Antibody', 'cocktail', 'Dexamethasone', 'Azithromycin', 'Remdesivir', 'Frapivir', 'Oxygen', 'Get', 'vaccinated', 'prevent', 'all', 'above'])"
      ]
     },
     "execution_count": 61,
     "metadata": {},
     "output_type": "execute_result"
    }
   ],
   "source": [
    "AugustTweet['tokenized_Tweet'][0]"
   ]
  },
  {
   "cell_type": "code",
   "execution_count": 62,
   "metadata": {},
   "outputs": [],
   "source": [
    "for i in range(0,1698):\n",
    "    text=AugustTweet['tweet'][i]\n",
    "    tokenizing(text,i)"
   ]
  },
  {
   "cell_type": "code",
   "execution_count": 63,
   "metadata": {},
   "outputs": [
    {
     "data": {
      "text/plain": [
       "0       [Line, of, Treatment, for, Covid-19, Hydroquin...\n",
       "1       [Yes, it, 's, Oxygen, and, Remdesivir, Versus,...\n",
       "2       [KDMCOfficial, one, of, my, pts, needs, remdes...\n",
       "3       [So, many, citizens, across, India, requested,...\n",
       "4       [Remdesivir, “, made, in, India, ”, just, reac...\n",
       "                              ...                        \n",
       "1693    [I, thought, things, would, go, back, to, norm...\n",
       "1694    [𝓣𝓸, 𝓽𝓪𝓴𝓮, 𝓸𝓻, 𝓷𝓸𝓽, 𝓽𝓸, 𝓽𝓪𝓴𝓮, the, Covid, 19, ...\n",
       "1695    [US, Top, COVID-19, Advisor, Says, No, New, Lo...\n",
       "1696    [How, COVID-19, vaccines, are, being, prioriti...\n",
       "1697    [Updated, schedule, announced, by, ICC, as, cr...\n",
       "Name: tokenized_Tweet, Length: 1698, dtype: object"
      ]
     },
     "execution_count": 63,
     "metadata": {},
     "output_type": "execute_result"
    }
   ],
   "source": [
    "AugustTweet['tokenized_Tweet']"
   ]
  },
  {
   "cell_type": "code",
   "execution_count": 64,
   "metadata": {},
   "outputs": [],
   "source": [
    "AugustTweet.to_csv('AugustTweet.csv')"
   ]
  },
  {
   "cell_type": "markdown",
   "metadata": {},
   "source": [
    "### ----Removing Stop Words----"
   ]
  },
  {
   "cell_type": "code",
   "execution_count": 65,
   "metadata": {},
   "outputs": [],
   "source": [
    "AugustTweet['filteredToken']=np.nan"
   ]
  },
  {
   "cell_type": "code",
   "execution_count": 66,
   "metadata": {},
   "outputs": [
    {
     "name": "stderr",
     "output_type": "stream",
     "text": [
      "<ipython-input-66-e4d083aa73d8>:3: SettingWithCopyWarning: \n",
      "A value is trying to be set on a copy of a slice from a DataFrame\n",
      "\n",
      "See the caveats in the documentation: https://pandas.pydata.org/pandas-docs/stable/user_guide/indexing.html#returning-a-view-versus-a-copy\n",
      "  AugustTweet['filteredToken'][0]=list(text_set-stop_set)\n",
      "C:\\Users\\AYUSH\\anaconda3\\lib\\site-packages\\pandas\\core\\indexing.py:1637: SettingWithCopyWarning: \n",
      "A value is trying to be set on a copy of a slice from a DataFrame\n",
      "\n",
      "See the caveats in the documentation: https://pandas.pydata.org/pandas-docs/stable/user_guide/indexing.html#returning-a-view-versus-a-copy\n",
      "  self._setitem_single_block(indexer, value, name)\n"
     ]
    }
   ],
   "source": [
    "text_set=set(AugustTweet['tokenized_Tweet'][0])\n",
    "stop_set=set(stopwords.words(\"english\"))\n",
    "AugustTweet['filteredToken'][0]=list(text_set-stop_set)"
   ]
  },
  {
   "cell_type": "code",
   "execution_count": 68,
   "metadata": {},
   "outputs": [],
   "source": [
    "stop_set=set(stopwords.words(\"english\"))\n",
    "for i in range(0,1698):\n",
    "    text_set=set(AugustTweet['tokenized_Tweet'][i])\n",
    "    AugustTweet['filteredToken'][i]=list(text_set-stop_set)"
   ]
  },
  {
   "cell_type": "code",
   "execution_count": 69,
   "metadata": {},
   "outputs": [
    {
     "data": {
      "text/html": [
       "<div>\n",
       "<style scoped>\n",
       "    .dataframe tbody tr th:only-of-type {\n",
       "        vertical-align: middle;\n",
       "    }\n",
       "\n",
       "    .dataframe tbody tr th {\n",
       "        vertical-align: top;\n",
       "    }\n",
       "\n",
       "    .dataframe thead th {\n",
       "        text-align: right;\n",
       "    }\n",
       "</style>\n",
       "<table border=\"1\" class=\"dataframe\">\n",
       "  <thead>\n",
       "    <tr style=\"text-align: right;\">\n",
       "      <th></th>\n",
       "      <th>tweet</th>\n",
       "      <th>language</th>\n",
       "      <th>hastags</th>\n",
       "      <th>attherate</th>\n",
       "      <th>urls</th>\n",
       "      <th>tokenized_Tweet</th>\n",
       "      <th>filteredToken</th>\n",
       "    </tr>\n",
       "  </thead>\n",
       "  <tbody>\n",
       "    <tr>\n",
       "      <th>0</th>\n",
       "      <td>Line of Treatment for Covid-19 Hydroquinone  I...</td>\n",
       "      <td>en</td>\n",
       "      <td>[]</td>\n",
       "      <td>[]</td>\n",
       "      <td>[]</td>\n",
       "      <td>[Line, of, Treatment, for, Covid-19, Hydroquin...</td>\n",
       "      <td>[Treatment, Oxygen, Get, vaccinated, Antibody,...</td>\n",
       "    </tr>\n",
       "    <tr>\n",
       "      <th>1</th>\n",
       "      <td>Yes, it's Oxygen and Remdesivir Versus Hindu-M...</td>\n",
       "      <td>en</td>\n",
       "      <td>[]</td>\n",
       "      <td>[]</td>\n",
       "      <td>[]</td>\n",
       "      <td>[Yes, it, 's, Oxygen, and, Remdesivir, Versus,...</td>\n",
       "      <td>[Oxygen, 's, long, Hindu-Muslim, Hospital, mig...</td>\n",
       "    </tr>\n",
       "    <tr>\n",
       "      <th>2</th>\n",
       "      <td>@KDMCOfficial one of my pts needs remdesivir a...</td>\n",
       "      <td>en</td>\n",
       "      <td>[]</td>\n",
       "      <td>[@KDMCOfficial]</td>\n",
       "      <td>[]</td>\n",
       "      <td>[KDMCOfficial, one, of, my, pts, needs, remdes...</td>\n",
       "      <td>[contact, urgently, kdmc, one, remdesivir, plz...</td>\n",
       "    </tr>\n",
       "    <tr>\n",
       "      <th>3</th>\n",
       "      <td>So many citizens across India requested you fo...</td>\n",
       "      <td>en</td>\n",
       "      <td>[]</td>\n",
       "      <td>[]</td>\n",
       "      <td>[]</td>\n",
       "      <td>[So, many, citizens, across, India, requested,...</td>\n",
       "      <td>[across, oxygen, India, So, remember, amp, man...</td>\n",
       "    </tr>\n",
       "    <tr>\n",
       "      <th>4</th>\n",
       "      <td>Remdesivir “made in India” just reached #HoChi...</td>\n",
       "      <td>en</td>\n",
       "      <td>[#HoChiMinhCity]</td>\n",
       "      <td>[]</td>\n",
       "      <td>[https://t.co/nbaFUWscbw]</td>\n",
       "      <td>[Remdesivir, “, made, in, India, ”, just, reac...</td>\n",
       "      <td>[t.co/nbaFUWscbw, India, reached, “, ”, flight...</td>\n",
       "    </tr>\n",
       "    <tr>\n",
       "      <th>...</th>\n",
       "      <td>...</td>\n",
       "      <td>...</td>\n",
       "      <td>...</td>\n",
       "      <td>...</td>\n",
       "      <td>...</td>\n",
       "      <td>...</td>\n",
       "      <td>...</td>\n",
       "    </tr>\n",
       "    <tr>\n",
       "      <th>1693</th>\n",
       "      <td>I thought things would go back to normal by th...</td>\n",
       "      <td>en</td>\n",
       "      <td>[]</td>\n",
       "      <td>[]</td>\n",
       "      <td>[]</td>\n",
       "      <td>[I, thought, things, would, go, back, to, norm...</td>\n",
       "      <td>[end, I, would, things, naive, thought, back, ...</td>\n",
       "    </tr>\n",
       "    <tr>\n",
       "      <th>1694</th>\n",
       "      <td>𝓣𝓸 𝓽𝓪𝓴𝓮 𝓸𝓻 𝓷𝓸𝓽 𝓽𝓸 𝓽𝓪𝓴𝓮 - the Covid  - 19 vac...</td>\n",
       "      <td>en</td>\n",
       "      <td>[#gynaehealth, #Bangladesh, #WestBengal, #ivf,...</td>\n",
       "      <td>[]</td>\n",
       "      <td>[]</td>\n",
       "      <td>[𝓣𝓸, 𝓽𝓪𝓴𝓮, 𝓸𝓻, 𝓷𝓸𝓽, 𝓽𝓸, 𝓽𝓪𝓴𝓮, the, Covid, 19, ...</td>\n",
       "      <td>[Kolkata, 03340664321, Behind, Bangladesh, 𝓸𝓻,...</td>\n",
       "    </tr>\n",
       "    <tr>\n",
       "      <th>1695</th>\n",
       "      <td>US Top COVID-19 Advisor Says No New Lockdowns ...</td>\n",
       "      <td>en</td>\n",
       "      <td>[]</td>\n",
       "      <td>[]</td>\n",
       "      <td>[]</td>\n",
       "      <td>[US, Top, COVID-19, Advisor, Says, No, New, Lo...</td>\n",
       "      <td>[Expected, Surge, Says, Advisor, New, Delta, U...</td>\n",
       "    </tr>\n",
       "    <tr>\n",
       "      <th>1696</th>\n",
       "      <td>\"How COVID-19 vaccines are being prioritized a...</td>\n",
       "      <td>en</td>\n",
       "      <td>[]</td>\n",
       "      <td>[]</td>\n",
       "      <td>[]</td>\n",
       "      <td>[How, COVID-19, vaccines, are, being, prioriti...</td>\n",
       "      <td>[How, vaccines, COVID-19, distributed, priorit...</td>\n",
       "    </tr>\n",
       "    <tr>\n",
       "      <th>1697</th>\n",
       "      <td>Updated schedule announced by \\n@ICC\\n , as \\n...</td>\n",
       "      <td>en</td>\n",
       "      <td>[]</td>\n",
       "      <td>[@ICC, @cricketturkey]</td>\n",
       "      <td>[]</td>\n",
       "      <td>[Updated, schedule, announced, by, ICC, as, cr...</td>\n",
       "      <td>[disappointment, schedule, ICC, announced, fac...</td>\n",
       "    </tr>\n",
       "  </tbody>\n",
       "</table>\n",
       "<p>1698 rows × 7 columns</p>\n",
       "</div>"
      ],
      "text/plain": [
       "                                                  tweet language  \\\n",
       "0     Line of Treatment for Covid-19 Hydroquinone  I...       en   \n",
       "1     Yes, it's Oxygen and Remdesivir Versus Hindu-M...       en   \n",
       "2     @KDMCOfficial one of my pts needs remdesivir a...       en   \n",
       "3     So many citizens across India requested you fo...       en   \n",
       "4     Remdesivir “made in India” just reached #HoChi...       en   \n",
       "...                                                 ...      ...   \n",
       "1693  I thought things would go back to normal by th...       en   \n",
       "1694    𝓣𝓸 𝓽𝓪𝓴𝓮 𝓸𝓻 𝓷𝓸𝓽 𝓽𝓸 𝓽𝓪𝓴𝓮 - the Covid  - 19 vac...       en   \n",
       "1695  US Top COVID-19 Advisor Says No New Lockdowns ...       en   \n",
       "1696  \"How COVID-19 vaccines are being prioritized a...       en   \n",
       "1697  Updated schedule announced by \\n@ICC\\n , as \\n...       en   \n",
       "\n",
       "                                                hastags  \\\n",
       "0                                                    []   \n",
       "1                                                    []   \n",
       "2                                                    []   \n",
       "3                                                    []   \n",
       "4                                      [#HoChiMinhCity]   \n",
       "...                                                 ...   \n",
       "1693                                                 []   \n",
       "1694  [#gynaehealth, #Bangladesh, #WestBengal, #ivf,...   \n",
       "1695                                                 []   \n",
       "1696                                                 []   \n",
       "1697                                                 []   \n",
       "\n",
       "                   attherate                       urls  \\\n",
       "0                         []                         []   \n",
       "1                         []                         []   \n",
       "2            [@KDMCOfficial]                         []   \n",
       "3                         []                         []   \n",
       "4                         []  [https://t.co/nbaFUWscbw]   \n",
       "...                      ...                        ...   \n",
       "1693                      []                         []   \n",
       "1694                      []                         []   \n",
       "1695                      []                         []   \n",
       "1696                      []                         []   \n",
       "1697  [@ICC, @cricketturkey]                         []   \n",
       "\n",
       "                                        tokenized_Tweet  \\\n",
       "0     [Line, of, Treatment, for, Covid-19, Hydroquin...   \n",
       "1     [Yes, it, 's, Oxygen, and, Remdesivir, Versus,...   \n",
       "2     [KDMCOfficial, one, of, my, pts, needs, remdes...   \n",
       "3     [So, many, citizens, across, India, requested,...   \n",
       "4     [Remdesivir, “, made, in, India, ”, just, reac...   \n",
       "...                                                 ...   \n",
       "1693  [I, thought, things, would, go, back, to, norm...   \n",
       "1694  [𝓣𝓸, 𝓽𝓪𝓴𝓮, 𝓸𝓻, 𝓷𝓸𝓽, 𝓽𝓸, 𝓽𝓪𝓴𝓮, the, Covid, 19, ...   \n",
       "1695  [US, Top, COVID-19, Advisor, Says, No, New, Lo...   \n",
       "1696  [How, COVID-19, vaccines, are, being, prioriti...   \n",
       "1697  [Updated, schedule, announced, by, ICC, as, cr...   \n",
       "\n",
       "                                          filteredToken  \n",
       "0     [Treatment, Oxygen, Get, vaccinated, Antibody,...  \n",
       "1     [Oxygen, 's, long, Hindu-Muslim, Hospital, mig...  \n",
       "2     [contact, urgently, kdmc, one, remdesivir, plz...  \n",
       "3     [across, oxygen, India, So, remember, amp, man...  \n",
       "4     [t.co/nbaFUWscbw, India, reached, “, ”, flight...  \n",
       "...                                                 ...  \n",
       "1693  [end, I, would, things, naive, thought, back, ...  \n",
       "1694  [Kolkata, 03340664321, Behind, Bangladesh, 𝓸𝓻,...  \n",
       "1695  [Expected, Surge, Says, Advisor, New, Delta, U...  \n",
       "1696  [How, vaccines, COVID-19, distributed, priorit...  \n",
       "1697  [disappointment, schedule, ICC, announced, fac...  \n",
       "\n",
       "[1698 rows x 7 columns]"
      ]
     },
     "execution_count": 69,
     "metadata": {},
     "output_type": "execute_result"
    }
   ],
   "source": [
    "AugustTweet"
   ]
  },
  {
   "cell_type": "code",
   "execution_count": 70,
   "metadata": {},
   "outputs": [],
   "source": [
    "AugustTweet.to_csv('AugustTweet_(with Emojis and other language within eng sentence).csv')"
   ]
  }
 ],
 "metadata": {
  "kernelspec": {
   "display_name": "Python 3.9.6 64-bit",
   "language": "python",
   "name": "python3"
  },
  "language_info": {
   "codemirror_mode": {
    "name": "ipython",
    "version": 3
   },
   "file_extension": ".py",
   "mimetype": "text/x-python",
   "name": "python",
   "nbconvert_exporter": "python",
   "pygments_lexer": "ipython3",
   "version": "3.9.6"
  },
  "orig_nbformat": 4,
  "vscode": {
   "interpreter": {
    "hash": "d26dd86194e83e3a0f0b7b53bc7876e65835825a2894f08a46ba2342766fb885"
   }
  }
 },
 "nbformat": 4,
 "nbformat_minor": 2
}
