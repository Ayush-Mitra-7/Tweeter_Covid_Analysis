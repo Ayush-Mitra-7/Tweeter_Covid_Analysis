{
 "cells": [
  {
   "cell_type": "code",
   "execution_count": 1,
   "metadata": {},
   "outputs": [],
   "source": [
    "import pandas as pd\n",
    "import numpy as np\n",
    "import math\n",
    "from textblob import TextBlob as tb\n",
    "import re\n",
    "from nltk.corpus import stopwords\n",
    "import neattext.functions as nfx\n",
    "import emoji\n",
    "import advertools as adv"
   ]
  },
  {
   "cell_type": "code",
   "execution_count": 2,
   "metadata": {},
   "outputs": [],
   "source": [
    "AugustTweet=pd.read_csv('AugustTweet_(with Emojis and other language within eng sentence).csv')"
   ]
  },
  {
   "cell_type": "code",
   "execution_count": 3,
   "metadata": {},
   "outputs": [
    {
     "data": {
      "text/html": [
       "<div>\n",
       "<style scoped>\n",
       "    .dataframe tbody tr th:only-of-type {\n",
       "        vertical-align: middle;\n",
       "    }\n",
       "\n",
       "    .dataframe tbody tr th {\n",
       "        vertical-align: top;\n",
       "    }\n",
       "\n",
       "    .dataframe thead th {\n",
       "        text-align: right;\n",
       "    }\n",
       "</style>\n",
       "<table border=\"1\" class=\"dataframe\">\n",
       "  <thead>\n",
       "    <tr style=\"text-align: right;\">\n",
       "      <th></th>\n",
       "      <th>Unnamed: 0</th>\n",
       "      <th>tweet</th>\n",
       "      <th>language</th>\n",
       "      <th>hastags</th>\n",
       "      <th>attherate</th>\n",
       "      <th>urls</th>\n",
       "      <th>tokenized_Tweet</th>\n",
       "      <th>filteredToken</th>\n",
       "    </tr>\n",
       "  </thead>\n",
       "  <tbody>\n",
       "    <tr>\n",
       "      <th>0</th>\n",
       "      <td>0</td>\n",
       "      <td>Line of Treatment for Covid-19 Hydroquinone  I...</td>\n",
       "      <td>en</td>\n",
       "      <td>[]</td>\n",
       "      <td>[]</td>\n",
       "      <td>[]</td>\n",
       "      <td>['Line', 'of', 'Treatment', 'for', 'Covid-19',...</td>\n",
       "      <td>['Treatment', 'Oxygen', 'Get', 'vaccinated', '...</td>\n",
       "    </tr>\n",
       "    <tr>\n",
       "      <th>1</th>\n",
       "      <td>1</td>\n",
       "      <td>Yes, it's Oxygen and Remdesivir Versus Hindu-M...</td>\n",
       "      <td>en</td>\n",
       "      <td>[]</td>\n",
       "      <td>[]</td>\n",
       "      <td>[]</td>\n",
       "      <td>['Yes', 'it', \"'s\", 'Oxygen', 'and', 'Remdesiv...</td>\n",
       "      <td>['Oxygen', \"'s\", 'long', 'Hindu-Muslim', 'Hosp...</td>\n",
       "    </tr>\n",
       "    <tr>\n",
       "      <th>2</th>\n",
       "      <td>2</td>\n",
       "      <td>@KDMCOfficial one of my pts needs remdesivir a...</td>\n",
       "      <td>en</td>\n",
       "      <td>[]</td>\n",
       "      <td>['@KDMCOfficial']</td>\n",
       "      <td>[]</td>\n",
       "      <td>['KDMCOfficial', 'one', 'of', 'my', 'pts', 'ne...</td>\n",
       "      <td>['contact', 'urgently', 'kdmc', 'one', 'remdes...</td>\n",
       "    </tr>\n",
       "    <tr>\n",
       "      <th>3</th>\n",
       "      <td>3</td>\n",
       "      <td>So many citizens across India requested you fo...</td>\n",
       "      <td>en</td>\n",
       "      <td>[]</td>\n",
       "      <td>[]</td>\n",
       "      <td>[]</td>\n",
       "      <td>['So', 'many', 'citizens', 'across', 'India', ...</td>\n",
       "      <td>['across', 'oxygen', 'India', 'So', 'remember'...</td>\n",
       "    </tr>\n",
       "    <tr>\n",
       "      <th>4</th>\n",
       "      <td>4</td>\n",
       "      <td>Remdesivir “made in India” just reached #HoChi...</td>\n",
       "      <td>en</td>\n",
       "      <td>['#HoChiMinhCity']</td>\n",
       "      <td>[]</td>\n",
       "      <td>['https://t.co/nbaFUWscbw']</td>\n",
       "      <td>['Remdesivir', '“', 'made', 'in', 'India', '”'...</td>\n",
       "      <td>['t.co/nbaFUWscbw', 'India', 'reached', '“', '...</td>\n",
       "    </tr>\n",
       "  </tbody>\n",
       "</table>\n",
       "</div>"
      ],
      "text/plain": [
       "   Unnamed: 0                                              tweet language  \\\n",
       "0           0  Line of Treatment for Covid-19 Hydroquinone  I...       en   \n",
       "1           1  Yes, it's Oxygen and Remdesivir Versus Hindu-M...       en   \n",
       "2           2  @KDMCOfficial one of my pts needs remdesivir a...       en   \n",
       "3           3  So many citizens across India requested you fo...       en   \n",
       "4           4  Remdesivir “made in India” just reached #HoChi...       en   \n",
       "\n",
       "              hastags          attherate                         urls  \\\n",
       "0                  []                 []                           []   \n",
       "1                  []                 []                           []   \n",
       "2                  []  ['@KDMCOfficial']                           []   \n",
       "3                  []                 []                           []   \n",
       "4  ['#HoChiMinhCity']                 []  ['https://t.co/nbaFUWscbw']   \n",
       "\n",
       "                                     tokenized_Tweet  \\\n",
       "0  ['Line', 'of', 'Treatment', 'for', 'Covid-19',...   \n",
       "1  ['Yes', 'it', \"'s\", 'Oxygen', 'and', 'Remdesiv...   \n",
       "2  ['KDMCOfficial', 'one', 'of', 'my', 'pts', 'ne...   \n",
       "3  ['So', 'many', 'citizens', 'across', 'India', ...   \n",
       "4  ['Remdesivir', '“', 'made', 'in', 'India', '”'...   \n",
       "\n",
       "                                       filteredToken  \n",
       "0  ['Treatment', 'Oxygen', 'Get', 'vaccinated', '...  \n",
       "1  ['Oxygen', \"'s\", 'long', 'Hindu-Muslim', 'Hosp...  \n",
       "2  ['contact', 'urgently', 'kdmc', 'one', 'remdes...  \n",
       "3  ['across', 'oxygen', 'India', 'So', 'remember'...  \n",
       "4  ['t.co/nbaFUWscbw', 'India', 'reached', '“', '...  "
      ]
     },
     "execution_count": 3,
     "metadata": {},
     "output_type": "execute_result"
    }
   ],
   "source": [
    "AugustTweet.head()"
   ]
  },
  {
   "cell_type": "markdown",
   "metadata": {},
   "source": [
    "### -----Removing hastags from tweet------- "
   ]
  },
  {
   "cell_type": "code",
   "execution_count": 4,
   "metadata": {},
   "outputs": [],
   "source": [
    "AugustTweet['clean_tweet'] =AugustTweet['tweet'].apply(nfx.remove_hashtags)"
   ]
  },
  {
   "cell_type": "markdown",
   "metadata": {},
   "source": [
    "### -----Removing userhandle from tweet -----"
   ]
  },
  {
   "cell_type": "code",
   "execution_count": 5,
   "metadata": {},
   "outputs": [],
   "source": [
    "AugustTweet['clean_tweet'] = AugustTweet['clean_tweet'].apply(lambda x: nfx.remove_userhandles(x))"
   ]
  },
  {
   "cell_type": "markdown",
   "metadata": {},
   "source": [
    "### ----Removing multiple white spaces-----"
   ]
  },
  {
   "cell_type": "code",
   "execution_count": 6,
   "metadata": {},
   "outputs": [],
   "source": [
    "AugustTweet['clean_tweet'] =AugustTweet['clean_tweet'].apply(nfx.remove_multiple_spaces)"
   ]
  },
  {
   "cell_type": "markdown",
   "metadata": {},
   "source": [
    "### ----Removing Urls-----"
   ]
  },
  {
   "cell_type": "code",
   "execution_count": 7,
   "metadata": {},
   "outputs": [],
   "source": [
    "AugustTweet['clean_tweet'] = AugustTweet['clean_tweet'].apply(nfx.remove_urls)"
   ]
  },
  {
   "cell_type": "code",
   "execution_count": 8,
   "metadata": {},
   "outputs": [
    {
     "data": {
      "text/html": [
       "<div>\n",
       "<style scoped>\n",
       "    .dataframe tbody tr th:only-of-type {\n",
       "        vertical-align: middle;\n",
       "    }\n",
       "\n",
       "    .dataframe tbody tr th {\n",
       "        vertical-align: top;\n",
       "    }\n",
       "\n",
       "    .dataframe thead th {\n",
       "        text-align: right;\n",
       "    }\n",
       "</style>\n",
       "<table border=\"1\" class=\"dataframe\">\n",
       "  <thead>\n",
       "    <tr style=\"text-align: right;\">\n",
       "      <th></th>\n",
       "      <th>tweet</th>\n",
       "      <th>clean_tweet</th>\n",
       "    </tr>\n",
       "  </thead>\n",
       "  <tbody>\n",
       "    <tr>\n",
       "      <th>0</th>\n",
       "      <td>Line of Treatment for Covid-19 Hydroquinone  I...</td>\n",
       "      <td>Line of Treatment for Covid-19 Hydroquinone Iv...</td>\n",
       "    </tr>\n",
       "    <tr>\n",
       "      <th>1</th>\n",
       "      <td>Yes, it's Oxygen and Remdesivir Versus Hindu-M...</td>\n",
       "      <td>Yes, it's Oxygen and Remdesivir Versus Hindu-M...</td>\n",
       "    </tr>\n",
       "    <tr>\n",
       "      <th>2</th>\n",
       "      <td>@KDMCOfficial one of my pts needs remdesivir a...</td>\n",
       "      <td>one of my pts needs remdesivir and tociluzima...</td>\n",
       "    </tr>\n",
       "    <tr>\n",
       "      <th>3</th>\n",
       "      <td>So many citizens across India requested you fo...</td>\n",
       "      <td>So many citizens across India requested you fo...</td>\n",
       "    </tr>\n",
       "    <tr>\n",
       "      <th>4</th>\n",
       "      <td>Remdesivir “made in India” just reached #HoChi...</td>\n",
       "      <td>Remdesivir “made in India” just reached to hel...</td>\n",
       "    </tr>\n",
       "    <tr>\n",
       "      <th>...</th>\n",
       "      <td>...</td>\n",
       "      <td>...</td>\n",
       "    </tr>\n",
       "    <tr>\n",
       "      <th>1693</th>\n",
       "      <td>I thought things would go back to normal by th...</td>\n",
       "      <td>I thought things would go back to normal by th...</td>\n",
       "    </tr>\n",
       "    <tr>\n",
       "      <th>1694</th>\n",
       "      <td>𝓣𝓸 𝓽𝓪𝓴𝓮 𝓸𝓻 𝓷𝓸𝓽 𝓽𝓸 𝓽𝓪𝓴𝓮 - the Covid  - 19 vac...</td>\n",
       "      <td>𝓣𝓸 𝓽𝓪𝓴𝓮 𝓸𝓻 𝓷𝓸𝓽 𝓽𝓸 𝓽𝓪𝓴𝓮 - the Covid - 19 vacci...</td>\n",
       "    </tr>\n",
       "    <tr>\n",
       "      <th>1695</th>\n",
       "      <td>US Top COVID-19 Advisor Says No New Lockdowns ...</td>\n",
       "      <td>US Top COVID-19 Advisor Says No New Lockdowns ...</td>\n",
       "    </tr>\n",
       "    <tr>\n",
       "      <th>1696</th>\n",
       "      <td>\"How COVID-19 vaccines are being prioritized a...</td>\n",
       "      <td>\"How COVID-19 vaccines are being prioritized a...</td>\n",
       "    </tr>\n",
       "    <tr>\n",
       "      <th>1697</th>\n",
       "      <td>Updated schedule announced by \\n@ICC\\n , as \\n...</td>\n",
       "      <td>Updated schedule announced by , as have now wi...</td>\n",
       "    </tr>\n",
       "  </tbody>\n",
       "</table>\n",
       "<p>1698 rows × 2 columns</p>\n",
       "</div>"
      ],
      "text/plain": [
       "                                                  tweet  \\\n",
       "0     Line of Treatment for Covid-19 Hydroquinone  I...   \n",
       "1     Yes, it's Oxygen and Remdesivir Versus Hindu-M...   \n",
       "2     @KDMCOfficial one of my pts needs remdesivir a...   \n",
       "3     So many citizens across India requested you fo...   \n",
       "4     Remdesivir “made in India” just reached #HoChi...   \n",
       "...                                                 ...   \n",
       "1693  I thought things would go back to normal by th...   \n",
       "1694    𝓣𝓸 𝓽𝓪𝓴𝓮 𝓸𝓻 𝓷𝓸𝓽 𝓽𝓸 𝓽𝓪𝓴𝓮 - the Covid  - 19 vac...   \n",
       "1695  US Top COVID-19 Advisor Says No New Lockdowns ...   \n",
       "1696  \"How COVID-19 vaccines are being prioritized a...   \n",
       "1697  Updated schedule announced by \\n@ICC\\n , as \\n...   \n",
       "\n",
       "                                            clean_tweet  \n",
       "0     Line of Treatment for Covid-19 Hydroquinone Iv...  \n",
       "1     Yes, it's Oxygen and Remdesivir Versus Hindu-M...  \n",
       "2      one of my pts needs remdesivir and tociluzima...  \n",
       "3     So many citizens across India requested you fo...  \n",
       "4     Remdesivir “made in India” just reached to hel...  \n",
       "...                                                 ...  \n",
       "1693  I thought things would go back to normal by th...  \n",
       "1694   𝓣𝓸 𝓽𝓪𝓴𝓮 𝓸𝓻 𝓷𝓸𝓽 𝓽𝓸 𝓽𝓪𝓴𝓮 - the Covid - 19 vacci...  \n",
       "1695  US Top COVID-19 Advisor Says No New Lockdowns ...  \n",
       "1696  \"How COVID-19 vaccines are being prioritized a...  \n",
       "1697  Updated schedule announced by , as have now wi...  \n",
       "\n",
       "[1698 rows x 2 columns]"
      ]
     },
     "execution_count": 8,
     "metadata": {},
     "output_type": "execute_result"
    }
   ],
   "source": [
    "AugustTweet[['tweet','clean_tweet']]"
   ]
  },
  {
   "cell_type": "markdown",
   "metadata": {},
   "source": [
    "### ----Removing Punctuations----"
   ]
  },
  {
   "cell_type": "code",
   "execution_count": 9,
   "metadata": {},
   "outputs": [],
   "source": [
    "AugustTweet['clean_tweet'] = AugustTweet['clean_tweet'].apply(nfx.remove_puncts)"
   ]
  },
  {
   "cell_type": "code",
   "execution_count": 11,
   "metadata": {},
   "outputs": [],
   "source": [
    "AugustTweet.to_csv('AugustTweet_(with Emojis and other language within eng sentence).csv')"
   ]
  },
  {
   "cell_type": "markdown",
   "metadata": {},
   "source": [
    "### -----Extract Emojis ----- ###"
   ]
  },
  {
   "cell_type": "code",
   "execution_count": 12,
   "metadata": {},
   "outputs": [],
   "source": [
    "AugustTweet['emojis']=np.nan"
   ]
  },
  {
   "cell_type": "code",
   "execution_count": 13,
   "metadata": {},
   "outputs": [],
   "source": [
    "def extract_emoji(text):\n",
    "    emoji_dict=adv.extract_emoji(text)\n",
    "    new_list=emoji_dict['emoji'][0]\n",
    "    return new_list"
   ]
  },
  {
   "cell_type": "code",
   "execution_count": 18,
   "metadata": {},
   "outputs": [
    {
     "data": {
      "text/html": [
       "<div>\n",
       "<style scoped>\n",
       "    .dataframe tbody tr th:only-of-type {\n",
       "        vertical-align: middle;\n",
       "    }\n",
       "\n",
       "    .dataframe tbody tr th {\n",
       "        vertical-align: top;\n",
       "    }\n",
       "\n",
       "    .dataframe thead th {\n",
       "        text-align: right;\n",
       "    }\n",
       "</style>\n",
       "<table border=\"1\" class=\"dataframe\">\n",
       "  <thead>\n",
       "    <tr style=\"text-align: right;\">\n",
       "      <th></th>\n",
       "      <th>Unnamed: 0</th>\n",
       "      <th>tweet</th>\n",
       "      <th>language</th>\n",
       "      <th>hastags</th>\n",
       "      <th>attherate</th>\n",
       "      <th>urls</th>\n",
       "      <th>tokenized_Tweet</th>\n",
       "      <th>filteredToken</th>\n",
       "      <th>clean_tweet</th>\n",
       "      <th>emojis</th>\n",
       "    </tr>\n",
       "  </thead>\n",
       "  <tbody>\n",
       "    <tr>\n",
       "      <th>0</th>\n",
       "      <td>0</td>\n",
       "      <td>Line of Treatment for Covid-19 Hydroquinone  I...</td>\n",
       "      <td>en</td>\n",
       "      <td>[]</td>\n",
       "      <td>[]</td>\n",
       "      <td>[]</td>\n",
       "      <td>['Line', 'of', 'Treatment', 'for', 'Covid-19',...</td>\n",
       "      <td>['Treatment', 'Oxygen', 'Get', 'vaccinated', '...</td>\n",
       "      <td>Line of Treatment for Covid19 Hydroquinone Ive...</td>\n",
       "      <td>NaN</td>\n",
       "    </tr>\n",
       "    <tr>\n",
       "      <th>1</th>\n",
       "      <td>1</td>\n",
       "      <td>Yes, it's Oxygen and Remdesivir Versus Hindu-M...</td>\n",
       "      <td>en</td>\n",
       "      <td>[]</td>\n",
       "      <td>[]</td>\n",
       "      <td>[]</td>\n",
       "      <td>['Yes', 'it', \"'s\", 'Oxygen', 'and', 'Remdesiv...</td>\n",
       "      <td>['Oxygen', \"'s\", 'long', 'Hindu-Muslim', 'Hosp...</td>\n",
       "      <td>Yes its Oxygen and Remdesivir Versus HinduMusl...</td>\n",
       "      <td>NaN</td>\n",
       "    </tr>\n",
       "    <tr>\n",
       "      <th>2</th>\n",
       "      <td>2</td>\n",
       "      <td>@KDMCOfficial one of my pts needs remdesivir a...</td>\n",
       "      <td>en</td>\n",
       "      <td>[]</td>\n",
       "      <td>['@KDMCOfficial']</td>\n",
       "      <td>[]</td>\n",
       "      <td>['KDMCOfficial', 'one', 'of', 'my', 'pts', 'ne...</td>\n",
       "      <td>['contact', 'urgently', 'kdmc', 'one', 'remdes...</td>\n",
       "      <td>one of my pts needs remdesivir and tociluzima...</td>\n",
       "      <td>NaN</td>\n",
       "    </tr>\n",
       "    <tr>\n",
       "      <th>3</th>\n",
       "      <td>3</td>\n",
       "      <td>So many citizens across India requested you fo...</td>\n",
       "      <td>en</td>\n",
       "      <td>[]</td>\n",
       "      <td>[]</td>\n",
       "      <td>[]</td>\n",
       "      <td>['So', 'many', 'citizens', 'across', 'India', ...</td>\n",
       "      <td>['across', 'oxygen', 'India', 'So', 'remember'...</td>\n",
       "      <td>So many citizens across India requested you fo...</td>\n",
       "      <td>NaN</td>\n",
       "    </tr>\n",
       "    <tr>\n",
       "      <th>4</th>\n",
       "      <td>4</td>\n",
       "      <td>Remdesivir “made in India” just reached #HoChi...</td>\n",
       "      <td>en</td>\n",
       "      <td>['#HoChiMinhCity']</td>\n",
       "      <td>[]</td>\n",
       "      <td>['https://t.co/nbaFUWscbw']</td>\n",
       "      <td>['Remdesivir', '“', 'made', 'in', 'India', '”'...</td>\n",
       "      <td>['t.co/nbaFUWscbw', 'India', 'reached', '“', '...</td>\n",
       "      <td>Remdesivir “made in India” just reached to hel...</td>\n",
       "      <td>NaN</td>\n",
       "    </tr>\n",
       "    <tr>\n",
       "      <th>...</th>\n",
       "      <td>...</td>\n",
       "      <td>...</td>\n",
       "      <td>...</td>\n",
       "      <td>...</td>\n",
       "      <td>...</td>\n",
       "      <td>...</td>\n",
       "      <td>...</td>\n",
       "      <td>...</td>\n",
       "      <td>...</td>\n",
       "      <td>...</td>\n",
       "    </tr>\n",
       "    <tr>\n",
       "      <th>1693</th>\n",
       "      <td>1693</td>\n",
       "      <td>I thought things would go back to normal by th...</td>\n",
       "      <td>en</td>\n",
       "      <td>[]</td>\n",
       "      <td>[]</td>\n",
       "      <td>[]</td>\n",
       "      <td>['I', 'thought', 'things', 'would', 'go', 'bac...</td>\n",
       "      <td>['end', 'I', 'would', 'things', 'naive', 'thou...</td>\n",
       "      <td>I thought things would go back to normal by th...</td>\n",
       "      <td>NaN</td>\n",
       "    </tr>\n",
       "    <tr>\n",
       "      <th>1694</th>\n",
       "      <td>1694</td>\n",
       "      <td>𝓣𝓸 𝓽𝓪𝓴𝓮 𝓸𝓻 𝓷𝓸𝓽 𝓽𝓸 𝓽𝓪𝓴𝓮 - the Covid  - 19 vac...</td>\n",
       "      <td>en</td>\n",
       "      <td>['#gynaehealth', '#Bangladesh', '#WestBengal',...</td>\n",
       "      <td>[]</td>\n",
       "      <td>[]</td>\n",
       "      <td>['𝓣𝓸', '𝓽𝓪𝓴𝓮', '𝓸𝓻', '𝓷𝓸𝓽', '𝓽𝓸', '𝓽𝓪𝓴𝓮', 'the...</td>\n",
       "      <td>['Kolkata', '03340664321', 'Behind', 'Banglade...</td>\n",
       "      <td>𝓣𝓸 𝓽𝓪𝓴𝓮 𝓸𝓻 𝓷𝓸𝓽 𝓽𝓸 𝓽𝓪𝓴𝓮  the Covid  19 vaccina...</td>\n",
       "      <td>NaN</td>\n",
       "    </tr>\n",
       "    <tr>\n",
       "      <th>1695</th>\n",
       "      <td>1695</td>\n",
       "      <td>US Top COVID-19 Advisor Says No New Lockdowns ...</td>\n",
       "      <td>en</td>\n",
       "      <td>[]</td>\n",
       "      <td>[]</td>\n",
       "      <td>[]</td>\n",
       "      <td>['US', 'Top', 'COVID-19', 'Advisor', 'Says', '...</td>\n",
       "      <td>['Expected', 'Surge', 'Says', 'Advisor', 'New'...</td>\n",
       "      <td>US Top COVID19 Advisor Says No New Lockdowns E...</td>\n",
       "      <td>NaN</td>\n",
       "    </tr>\n",
       "    <tr>\n",
       "      <th>1696</th>\n",
       "      <td>1696</td>\n",
       "      <td>\"How COVID-19 vaccines are being prioritized a...</td>\n",
       "      <td>en</td>\n",
       "      <td>[]</td>\n",
       "      <td>[]</td>\n",
       "      <td>[]</td>\n",
       "      <td>['How', 'COVID-19', 'vaccines', 'are', 'being'...</td>\n",
       "      <td>['How', 'vaccines', 'COVID-19', 'distributed',...</td>\n",
       "      <td>How COVID19 vaccines are being prioritized and...</td>\n",
       "      <td>NaN</td>\n",
       "    </tr>\n",
       "    <tr>\n",
       "      <th>1697</th>\n",
       "      <td>1697</td>\n",
       "      <td>Updated schedule announced by \\n@ICC\\n , as \\n...</td>\n",
       "      <td>en</td>\n",
       "      <td>[]</td>\n",
       "      <td>['@ICC', '@cricketturkey']</td>\n",
       "      <td>[]</td>\n",
       "      <td>['Updated', 'schedule', 'announced', 'by', 'IC...</td>\n",
       "      <td>['disappointment', 'schedule', 'ICC', 'announc...</td>\n",
       "      <td>Updated schedule announced by  as have now wit...</td>\n",
       "      <td>NaN</td>\n",
       "    </tr>\n",
       "  </tbody>\n",
       "</table>\n",
       "<p>1698 rows × 10 columns</p>\n",
       "</div>"
      ],
      "text/plain": [
       "      Unnamed: 0                                              tweet language  \\\n",
       "0              0  Line of Treatment for Covid-19 Hydroquinone  I...       en   \n",
       "1              1  Yes, it's Oxygen and Remdesivir Versus Hindu-M...       en   \n",
       "2              2  @KDMCOfficial one of my pts needs remdesivir a...       en   \n",
       "3              3  So many citizens across India requested you fo...       en   \n",
       "4              4  Remdesivir “made in India” just reached #HoChi...       en   \n",
       "...          ...                                                ...      ...   \n",
       "1693        1693  I thought things would go back to normal by th...       en   \n",
       "1694        1694    𝓣𝓸 𝓽𝓪𝓴𝓮 𝓸𝓻 𝓷𝓸𝓽 𝓽𝓸 𝓽𝓪𝓴𝓮 - the Covid  - 19 vac...       en   \n",
       "1695        1695  US Top COVID-19 Advisor Says No New Lockdowns ...       en   \n",
       "1696        1696  \"How COVID-19 vaccines are being prioritized a...       en   \n",
       "1697        1697  Updated schedule announced by \\n@ICC\\n , as \\n...       en   \n",
       "\n",
       "                                                hastags  \\\n",
       "0                                                    []   \n",
       "1                                                    []   \n",
       "2                                                    []   \n",
       "3                                                    []   \n",
       "4                                    ['#HoChiMinhCity']   \n",
       "...                                                 ...   \n",
       "1693                                                 []   \n",
       "1694  ['#gynaehealth', '#Bangladesh', '#WestBengal',...   \n",
       "1695                                                 []   \n",
       "1696                                                 []   \n",
       "1697                                                 []   \n",
       "\n",
       "                       attherate                         urls  \\\n",
       "0                             []                           []   \n",
       "1                             []                           []   \n",
       "2              ['@KDMCOfficial']                           []   \n",
       "3                             []                           []   \n",
       "4                             []  ['https://t.co/nbaFUWscbw']   \n",
       "...                          ...                          ...   \n",
       "1693                          []                           []   \n",
       "1694                          []                           []   \n",
       "1695                          []                           []   \n",
       "1696                          []                           []   \n",
       "1697  ['@ICC', '@cricketturkey']                           []   \n",
       "\n",
       "                                        tokenized_Tweet  \\\n",
       "0     ['Line', 'of', 'Treatment', 'for', 'Covid-19',...   \n",
       "1     ['Yes', 'it', \"'s\", 'Oxygen', 'and', 'Remdesiv...   \n",
       "2     ['KDMCOfficial', 'one', 'of', 'my', 'pts', 'ne...   \n",
       "3     ['So', 'many', 'citizens', 'across', 'India', ...   \n",
       "4     ['Remdesivir', '“', 'made', 'in', 'India', '”'...   \n",
       "...                                                 ...   \n",
       "1693  ['I', 'thought', 'things', 'would', 'go', 'bac...   \n",
       "1694  ['𝓣𝓸', '𝓽𝓪𝓴𝓮', '𝓸𝓻', '𝓷𝓸𝓽', '𝓽𝓸', '𝓽𝓪𝓴𝓮', 'the...   \n",
       "1695  ['US', 'Top', 'COVID-19', 'Advisor', 'Says', '...   \n",
       "1696  ['How', 'COVID-19', 'vaccines', 'are', 'being'...   \n",
       "1697  ['Updated', 'schedule', 'announced', 'by', 'IC...   \n",
       "\n",
       "                                          filteredToken  \\\n",
       "0     ['Treatment', 'Oxygen', 'Get', 'vaccinated', '...   \n",
       "1     ['Oxygen', \"'s\", 'long', 'Hindu-Muslim', 'Hosp...   \n",
       "2     ['contact', 'urgently', 'kdmc', 'one', 'remdes...   \n",
       "3     ['across', 'oxygen', 'India', 'So', 'remember'...   \n",
       "4     ['t.co/nbaFUWscbw', 'India', 'reached', '“', '...   \n",
       "...                                                 ...   \n",
       "1693  ['end', 'I', 'would', 'things', 'naive', 'thou...   \n",
       "1694  ['Kolkata', '03340664321', 'Behind', 'Banglade...   \n",
       "1695  ['Expected', 'Surge', 'Says', 'Advisor', 'New'...   \n",
       "1696  ['How', 'vaccines', 'COVID-19', 'distributed',...   \n",
       "1697  ['disappointment', 'schedule', 'ICC', 'announc...   \n",
       "\n",
       "                                            clean_tweet  emojis  \n",
       "0     Line of Treatment for Covid19 Hydroquinone Ive...     NaN  \n",
       "1     Yes its Oxygen and Remdesivir Versus HinduMusl...     NaN  \n",
       "2      one of my pts needs remdesivir and tociluzima...     NaN  \n",
       "3     So many citizens across India requested you fo...     NaN  \n",
       "4     Remdesivir “made in India” just reached to hel...     NaN  \n",
       "...                                                 ...     ...  \n",
       "1693  I thought things would go back to normal by th...     NaN  \n",
       "1694   𝓣𝓸 𝓽𝓪𝓴𝓮 𝓸𝓻 𝓷𝓸𝓽 𝓽𝓸 𝓽𝓪𝓴𝓮  the Covid  19 vaccina...     NaN  \n",
       "1695  US Top COVID19 Advisor Says No New Lockdowns E...     NaN  \n",
       "1696  How COVID19 vaccines are being prioritized and...     NaN  \n",
       "1697  Updated schedule announced by  as have now wit...     NaN  \n",
       "\n",
       "[1698 rows x 10 columns]"
      ]
     },
     "execution_count": 18,
     "metadata": {},
     "output_type": "execute_result"
    }
   ],
   "source": [
    "AugustTweet.reindex()"
   ]
  },
  {
   "cell_type": "code",
   "execution_count": 19,
   "metadata": {},
   "outputs": [],
   "source": [
    "AugustTweet.to_csv('AugustTweet_(with Emojis and other language within eng sentence).csv')"
   ]
  },
  {
   "cell_type": "code",
   "execution_count": 20,
   "metadata": {},
   "outputs": [
    {
     "name": "stderr",
     "output_type": "stream",
     "text": [
      "<ipython-input-20-73285a5aedfa>:2: SettingWithCopyWarning: \n",
      "A value is trying to be set on a copy of a slice from a DataFrame\n",
      "\n",
      "See the caveats in the documentation: https://pandas.pydata.org/pandas-docs/stable/user_guide/indexing.html#returning-a-view-versus-a-copy\n",
      "  AugustTweet['emojis'][18]=extract_emoji(text)\n",
      "C:\\Users\\AYUSH\\anaconda3\\lib\\site-packages\\pandas\\core\\indexing.py:1637: SettingWithCopyWarning: \n",
      "A value is trying to be set on a copy of a slice from a DataFrame\n",
      "\n",
      "See the caveats in the documentation: https://pandas.pydata.org/pandas-docs/stable/user_guide/indexing.html#returning-a-view-versus-a-copy\n",
      "  self._setitem_single_block(indexer, value, name)\n"
     ]
    }
   ],
   "source": [
    "text=[AugustTweet['clean_tweet'][18] ]\n",
    "AugustTweet['emojis'][18]=extract_emoji(text)"
   ]
  },
  {
   "cell_type": "code",
   "execution_count": 21,
   "metadata": {},
   "outputs": [
    {
     "data": {
      "text/plain": [
       "(1698, 10)"
      ]
     },
     "execution_count": 21,
     "metadata": {},
     "output_type": "execute_result"
    }
   ],
   "source": [
    "AugustTweet.shape"
   ]
  },
  {
   "cell_type": "code",
   "execution_count": 22,
   "metadata": {},
   "outputs": [
    {
     "name": "stderr",
     "output_type": "stream",
     "text": [
      "<ipython-input-22-2e99d2016f42>:3: SettingWithCopyWarning: \n",
      "A value is trying to be set on a copy of a slice from a DataFrame\n",
      "\n",
      "See the caveats in the documentation: https://pandas.pydata.org/pandas-docs/stable/user_guide/indexing.html#returning-a-view-versus-a-copy\n",
      "  AugustTweet['emojis'][i]=extract_emoji(text)\n"
     ]
    }
   ],
   "source": [
    "for i in range(0,1698):\n",
    "    text=[AugustTweet['clean_tweet'][i] ]\n",
    "    AugustTweet['emojis'][i]=extract_emoji(text)"
   ]
  },
  {
   "cell_type": "code",
   "execution_count": 23,
   "metadata": {},
   "outputs": [],
   "source": [
    "AugustTweet.to_csv('extractedEmoji.csv')"
   ]
  },
  {
   "cell_type": "markdown",
   "metadata": {},
   "source": [
    "### -----Remove Emojis-----"
   ]
  },
  {
   "cell_type": "code",
   "execution_count": 24,
   "metadata": {},
   "outputs": [],
   "source": [
    "def remove_emojis(text,i=0):\n",
    "    new_text= re.sub(emoji.get_emoji_regexp(),r'',text)\n",
    "    AugustTweet['clean_tweet'][i]=new_text"
   ]
  },
  {
   "cell_type": "code",
   "execution_count": 25,
   "metadata": {},
   "outputs": [
    {
     "data": {
      "text/plain": [
       "'Happy Birthday with good wishes for His Healthy amp Happy Life ❤️ Thanks 🇮🇳  🇮🇳 Sincerely Public Apriciated website for Doctors support to Nation People in Covid19'"
      ]
     },
     "execution_count": 25,
     "metadata": {},
     "output_type": "execute_result"
    }
   ],
   "source": [
    "AugustTweet['clean_tweet'][18]"
   ]
  },
  {
   "cell_type": "code",
   "execution_count": 26,
   "metadata": {},
   "outputs": [
    {
     "name": "stderr",
     "output_type": "stream",
     "text": [
      "<ipython-input-24-11b2bf4e44a5>:3: SettingWithCopyWarning: \n",
      "A value is trying to be set on a copy of a slice from a DataFrame\n",
      "\n",
      "See the caveats in the documentation: https://pandas.pydata.org/pandas-docs/stable/user_guide/indexing.html#returning-a-view-versus-a-copy\n",
      "  AugustTweet['clean_tweet'][i]=new_text\n"
     ]
    }
   ],
   "source": [
    "remove_emojis(AugustTweet['clean_tweet'][18],18)"
   ]
  },
  {
   "cell_type": "code",
   "execution_count": 27,
   "metadata": {},
   "outputs": [
    {
     "data": {
      "text/plain": [
       "'Happy Birthday with good wishes for His Healthy amp Happy Life  Thanks    Sincerely Public Apriciated website for Doctors support to Nation People in Covid19'"
      ]
     },
     "execution_count": 27,
     "metadata": {},
     "output_type": "execute_result"
    }
   ],
   "source": [
    "AugustTweet['clean_tweet'][18]"
   ]
  },
  {
   "cell_type": "code",
   "execution_count": 28,
   "metadata": {},
   "outputs": [
    {
     "name": "stderr",
     "output_type": "stream",
     "text": [
      "<ipython-input-24-11b2bf4e44a5>:3: SettingWithCopyWarning: \n",
      "A value is trying to be set on a copy of a slice from a DataFrame\n",
      "\n",
      "See the caveats in the documentation: https://pandas.pydata.org/pandas-docs/stable/user_guide/indexing.html#returning-a-view-versus-a-copy\n",
      "  AugustTweet['clean_tweet'][i]=new_text\n"
     ]
    }
   ],
   "source": [
    "for i in range(0,1698):\n",
    "    text=AugustTweet['clean_tweet'][i]\n",
    "    remove_emojis(text,i)"
   ]
  },
  {
   "cell_type": "code",
   "execution_count": 29,
   "metadata": {},
   "outputs": [],
   "source": [
    "AugustTweet.to_csv('AugustTweet.csv')"
   ]
  },
  {
   "cell_type": "code",
   "execution_count": 30,
   "metadata": {},
   "outputs": [
    {
     "data": {
      "text/plain": [
       "Index(['Unnamed: 0', 'tweet', 'language', 'hastags', 'attherate', 'urls',\n",
       "       'tokenized_Tweet', 'filteredToken', 'clean_tweet', 'emojis'],\n",
       "      dtype='object')"
      ]
     },
     "execution_count": 30,
     "metadata": {},
     "output_type": "execute_result"
    }
   ],
   "source": [
    "AugustTweet.columns"
   ]
  },
  {
   "cell_type": "code",
   "execution_count": 32,
   "metadata": {},
   "outputs": [],
   "source": [
    "AugustTweetClean=AugustTweet[['tweet','clean_tweet', 'hastags','attherate','urls','emojis']]"
   ]
  },
  {
   "cell_type": "code",
   "execution_count": null,
   "metadata": {},
   "outputs": [],
   "source": [
    "AugustTweetClean.to_csv('PREPROCESSED_AUGUST.csv')"
   ]
  },
  {
   "cell_type": "code",
   "execution_count": null,
   "metadata": {},
   "outputs": [],
   "source": []
  }
 ],
 "metadata": {
  "interpreter": {
   "hash": "0e861e0b67293902224e9acfb8ab2e3cf2b4facd370dfc6bbb77427def9848a9"
  },
  "kernelspec": {
   "display_name": "Python 3.8.8 ('base')",
   "language": "python",
   "name": "python3"
  },
  "language_info": {
   "codemirror_mode": {
    "name": "ipython",
    "version": 3
   },
   "file_extension": ".py",
   "mimetype": "text/x-python",
   "name": "python",
   "nbconvert_exporter": "python",
   "pygments_lexer": "ipython3",
   "version": "3.8.8"
  },
  "orig_nbformat": 4
 },
 "nbformat": 4,
 "nbformat_minor": 2
}
